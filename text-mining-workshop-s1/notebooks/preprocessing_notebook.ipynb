{
 "cells": [
  {
   "cell_type": "code",
   "execution_count": 8,
   "metadata": {
    "id": "OO7_xdAZduto",
    "pycharm": {
     "name": "#%%\n"
    }
   },
   "outputs": [],
   "source": [
    "# install packages\n",
    "#!pip install flashtext contractions seaborn scikit-learn\n",
    "#!pip install --upgrade spacy==2.2.4"
   ]
  },
  {
   "cell_type": "code",
   "execution_count": 9,
   "metadata": {
    "pycharm": {
     "name": "#%%\n"
    }
   },
   "outputs": [],
   "source": [
    "# install Spacy's language model\n",
    "# python3 -m spacy download en_core_web_sm"
   ]
  },
  {
   "cell_type": "markdown",
   "metadata": {
    "id": "qx4zes1Ddutr",
    "pycharm": {
     "name": "#%% md\n"
    }
   },
   "source": [
    "# **Text preprocessing and dictionary methods**"
   ]
  },
  {
   "cell_type": "markdown",
   "metadata": {
    "id": "kLIyQWCaduts",
    "pycharm": {
     "name": "#%% md\n"
    }
   },
   "source": [
    "This notebook makes use of the RawDocs class to illustrate a preprocessing pipeline for text data. Indeed, raw text typically needs to be cleaned before it can serve as input for a statistical model. \n",
    "\n",
    "As an example, we may want to split contractions, remove stopwords or remove punctuation. These steps can help a statistical model to only learn from terms that have a relevant meaning. \n",
    "\n",
    "We might also want to replace a term or a set of terms with another token. For instance, this operation could allow us to replace phrases (e.g. bigrams, trigrams) with single tokens.\n",
    "\n",
    "Another common practice in text preprocessing is that of stemming (replacing words with their root) or lemmatizing (replacing words with their dictionary form i.e. lemma). These procedures bring words with the same root meaning back to a single token.\n",
    "\n",
    "Finally, we might want to remove very frequent or infrequent words, and transform the data into a document-term matrix that can be fed into models that follow a bag-of-words approach."
   ]
  },
  {
   "cell_type": "code",
   "execution_count": 10,
   "metadata": {
    "id": "SaRqIqRwdutt",
    "pycharm": {
     "name": "#%%\n"
    }
   },
   "outputs": [],
   "source": [
    "import pandas as pd\n",
    "import string\n",
    "import numpy as np\n",
    "import matplotlib.pyplot as plt\n",
    "import seaborn as sns\n",
    "from sklearn.preprocessing import StandardScaler\n",
    "from sklearn.feature_extraction.text import CountVectorizer, TfidfVectorizer\n",
    "import sys\n",
    "from collections import Counter\n",
    "import random\n",
    "import ast"
   ]
  },
  {
   "cell_type": "code",
   "execution_count": 11,
   "metadata": {
    "pycharm": {
     "name": "#%%\n"
    }
   },
   "outputs": [],
   "source": [
    "# define paths\n",
    "data_path = \"../data/\"\n",
    "pymodules_path = \"../pymodules\""
   ]
  },
  {
   "cell_type": "code",
   "execution_count": 12,
   "metadata": {
    "pycharm": {
     "name": "#%%\n"
    }
   },
   "outputs": [],
   "source": [
    "# import our own code\n",
    "sys.path.append(pymodules_path)\n",
    "import preprocessing_class as pc"
   ]
  },
  {
   "cell_type": "markdown",
   "metadata": {
    "id": "ftz2XnGwdutv",
    "pycharm": {
     "name": "#%% md\n"
    }
   },
   "source": [
    "### *0. Load data*"
   ]
  },
  {
   "cell_type": "markdown",
   "metadata": {
    "pycharm": {
     "name": "#%% md\n"
    }
   },
   "source": [
    "This tutorial uses text data from the **10-K reports** filed by most publicly-traded firms in the U.S. in 2019. 10-K reports are a very rich source of data since firms include information regarding their organizational structure, financial performance and risk factors. We will use a version of the data where the risk factors section of each report has been splitted into sentences and each sentence has been assigned an ID that combines the firm identifier (i.e. **CIK**) and a sentence number. The data we use has a total of 1,077,416 sentences for 2,500 firms.\n",
    "\n",
    "More on the 10-K reports [here](https://www.investor.gov/introduction-investing/getting-started/researching-investments/how-read-10-k)."
   ]
  },
  {
   "cell_type": "markdown",
   "metadata": {
    "pycharm": {
     "name": "#%% md\n"
    }
   },
   "source": [
    "As a starting point, we will need to download two data files from Google Drive:\n",
    "1. [10-K data](https://drive.google.com/file/d/1J7ECzsD3LDnU06B2CKK0vjgGenqI9kiw/view?usp=sharing) \n",
    "2. [Firm's 2019 data](https://drive.google.com/file/d/1vFcFJYdLD0sE_fbhGES8KQmvMcLuuCdc/view?usp=sharing) \n",
    "\n",
    "Once you download the two files put them in the *\"data\"* folder."
   ]
  },
  {
   "cell_type": "code",
   "execution_count": 13,
   "metadata": {
    "colab": {
     "base_uri": "https://localhost:8080/"
    },
    "id": "WJomAJdvdutv",
    "outputId": "2d5adb33-a3a9-4366-e03b-08c66f75fe00",
    "pycharm": {
     "name": "#%%\n"
    }
   },
   "outputs": [
    {
     "name": "stdout",
     "output_type": "stream",
     "text": [
      "(1077416, 5)\n"
     ]
    },
    {
     "data": {
      "text/plain": "                                           sentences      cik  year  sent_no  \\\n0  You should carefully review the following disc...  1065088  2019        0   \n1  Risk Factors That May Affect our Business, Res...  1065088  2019        1   \n2  Our operating and financial results are subjec...  1065088  2019        2   \n3  Our operating and financial results have varie...  1065088  2019        3   \n4  It is difficult for us to forecast the level o...  1065088  2019        4   \n\n     sent_id  \n0  1065088_0  \n1  1065088_1  \n2  1065088_2  \n3  1065088_3  \n4  1065088_4  ",
      "text/html": "<div>\n<style scoped>\n    .dataframe tbody tr th:only-of-type {\n        vertical-align: middle;\n    }\n\n    .dataframe tbody tr th {\n        vertical-align: top;\n    }\n\n    .dataframe thead th {\n        text-align: right;\n    }\n</style>\n<table border=\"1\" class=\"dataframe\">\n  <thead>\n    <tr style=\"text-align: right;\">\n      <th></th>\n      <th>sentences</th>\n      <th>cik</th>\n      <th>year</th>\n      <th>sent_no</th>\n      <th>sent_id</th>\n    </tr>\n  </thead>\n  <tbody>\n    <tr>\n      <th>0</th>\n      <td>You should carefully review the following disc...</td>\n      <td>1065088</td>\n      <td>2019</td>\n      <td>0</td>\n      <td>1065088_0</td>\n    </tr>\n    <tr>\n      <th>1</th>\n      <td>Risk Factors That May Affect our Business, Res...</td>\n      <td>1065088</td>\n      <td>2019</td>\n      <td>1</td>\n      <td>1065088_1</td>\n    </tr>\n    <tr>\n      <th>2</th>\n      <td>Our operating and financial results are subjec...</td>\n      <td>1065088</td>\n      <td>2019</td>\n      <td>2</td>\n      <td>1065088_2</td>\n    </tr>\n    <tr>\n      <th>3</th>\n      <td>Our operating and financial results have varie...</td>\n      <td>1065088</td>\n      <td>2019</td>\n      <td>3</td>\n      <td>1065088_3</td>\n    </tr>\n    <tr>\n      <th>4</th>\n      <td>It is difficult for us to forecast the level o...</td>\n      <td>1065088</td>\n      <td>2019</td>\n      <td>4</td>\n      <td>1065088_4</td>\n    </tr>\n  </tbody>\n</table>\n</div>"
     },
     "execution_count": 13,
     "metadata": {},
     "output_type": "execute_result"
    }
   ],
   "source": [
    "# load data parquet file (compressed format)\n",
    "data = pd.read_parquet(data_path + \"10k_sent_2019_sample.parquet\")\n",
    "print(data.shape)\n",
    "data.head()"
   ]
  },
  {
   "cell_type": "code",
   "execution_count": 14,
   "metadata": {
    "pycharm": {
     "name": "#%%\n"
    }
   },
   "outputs": [],
   "source": [
    "# if we have some memory (or time) limitation we can take a subsample of the data for the analysis\n",
    "# seed = 92\n",
    "# data = data.sample(500000, random_state=seed)\n",
    "# data.reset_index(drop=True, inplace=True)"
   ]
  },
  {
   "cell_type": "code",
   "execution_count": 15,
   "metadata": {
    "colab": {
     "base_uri": "https://localhost:8080/"
    },
    "id": "mfffmCRrdutx",
    "outputId": "84af71fe-db84-42b7-d8e3-f6134c8605ab",
    "pycharm": {
     "name": "#%%\n"
    }
   },
   "outputs": [
    {
     "name": "stdout",
     "output_type": "stream",
     "text": [
      "Average sentence length: 27.0 words\n",
      "Total number of firms represented in the data: 2500\n"
     ]
    }
   ],
   "source": [
    "# get a rough sense of the length of sentences and the number of firms in the data\n",
    "data['length'] = data[\"sentences\"].apply(lambda x: len(x.split()))\n",
    "print(f'Average sentence length: {np.round(np.mean(data.length), 0)} words')\n",
    "print(f\"Total number of firms represented in the data: {len(data.groupby('cik').size())}\")"
   ]
  },
  {
   "cell_type": "markdown",
   "metadata": {
    "id": "5YJYlZkPdutx",
    "pycharm": {
     "name": "#%% md\n"
    }
   },
   "source": [
    "### *1. Initialize class with documents and main parameters*"
   ]
  },
  {
   "cell_type": "markdown",
   "metadata": {
    "id": "SSFJjO09duty",
    "pycharm": {
     "name": "#%% md\n"
    }
   },
   "source": [
    "We instantiate the ```RawDocs``` class by passing a pandas series containing the raw documents. We also provide some main parameters that will define the way in which the text is cleaned and tokenized. \n",
    "\n",
    "The list of stopwords will be saved into the ```.stopwords``` attribute. We can go for the \"long\" list (retrieved from [here](https://snowballstem.org/algorithms/english/stop.txt)) or the \"short\" list (a subsample defined as in Hansen, McMahon, and Prat (2014) ). We can also pass a customized list, or no list at all (we are always free to add it later on by modifying the ```stopwords``` attribute).\n",
    "\n",
    "By setting the \"contraction_split\" argument to ```True```, we will also expand English contractions to their extended form (e.g. \"doesn't\" to \"does not\"). \n",
    "\n",
    "Finally, \"tokenization_pattern\" allows us to pass a custom regular expression in order to break-up documents into tokens."
   ]
  },
  {
   "cell_type": "code",
   "execution_count": 16,
   "metadata": {
    "id": "2rm48MHXduty",
    "pycharm": {
     "name": "#%%\n"
    }
   },
   "outputs": [],
   "source": [
    "pattern = r'''\n",
    "          (?x)                # set flag to allow verbose regexps (to separate logical sections of pattern and add comments)\n",
    "          \\w+(?:-\\w+)*        # preserve expressions with internal hyphens as single tokens\n",
    "          | [][.,;\"'?():-_`]  # preserve punctuation as separate tokens\n",
    "          '''"
   ]
  },
  {
   "cell_type": "code",
   "execution_count": 17,
   "metadata": {
    "id": "NFWqspWGduty",
    "pycharm": {
     "name": "#%%\n"
    }
   },
   "outputs": [],
   "source": [
    "prep = pc.RawDocs(data[\"sentences\"],            # series of documents\n",
    "                  lower_case=True,              # whether to lowercase the text in the firs cleaning step \n",
    "                  stopwords='long',             # type of stopwords to initialize\n",
    "                  contraction_split=True,       # wheter to split contractions or not\n",
    "                  tokenization_pattern=pattern  # custom tokenization patter\n",
    "                  )"
   ]
  },
  {
   "cell_type": "code",
   "execution_count": 18,
   "metadata": {
    "pycharm": {
     "name": "#%%\n"
    }
   },
   "outputs": [
    {
     "name": "stdout",
     "output_type": "stream",
     "text": [
      "Document from the pandas series:\n",
      " As we respond to changes in the competitive environment, we may, from time to time, make pricing, service or marketing decisions or acquisitions that may be controversial with and lead to dissatisfaction among sellers, which could reduce activity on our platform and harm our profitability.\n",
      "\n",
      "-------------------------\n",
      "\n",
      "Document from preprocessing object:\n",
      " As we respond to changes in the competitive environment, we may, from time to time, make pricing, service or marketing decisions or acquisitions that may be controversial with and lead to dissatisfaction among sellers, which could reduce activity on our platform and harm our profitability.\n"
     ]
    }
   ],
   "source": [
    "# notice that the documents from the object are identical to the ones from the pandas series\n",
    "i = 20\n",
    "print(\"Document from the pandas series:\\n\", data.loc[i, \"sentences\"])\n",
    "print(\"\\n-------------------------\\n\")\n",
    "print(\"Document from preprocessing object:\\n\", prep.docs[i])"
   ]
  },
  {
   "cell_type": "markdown",
   "metadata": {
    "id": "tISXT0HQdut2",
    "pycharm": {
     "name": "#%% md\n"
    }
   },
   "source": [
    "### *2. Replace phrases with single token*"
   ]
  },
  {
   "cell_type": "markdown",
   "metadata": {
    "id": "EE597fIKdut2",
    "pycharm": {
     "name": "#%% md\n"
    }
   },
   "source": [
    "We will start our preprocessing process by replacing specific words or phrases with a pre-defined token. The purpose of this is to preserve these expressions for later stages of our analysis.  The ```phrase_replace()``` method from the RawDocs class allows us to do this. In particular, it will replace the keys with the values of a user-defined dictionary. Let's give it a try:"
   ]
  },
  {
   "cell_type": "code",
   "execution_count": 19,
   "metadata": {
    "pycharm": {
     "name": "#%%\n"
    }
   },
   "outputs": [],
   "source": [
    "# we can build a manual dictionary with the expressions we want to replace in the text\n",
    "manual_replacing_dict = {\"financial intermediation\": \"financial-intermediation-token\",\n",
    "                         \"interest rate\": \"interest-rate-token\",\n",
    "                         \"interest rates\": \"interest-rate-token\",\n",
    "                         \"Apple\": \"apple-token\",\n",
    "                         \"Federal Reserve Board\": \"fed-token\",\n",
    "                         \"FED\": \"fed-token\",\n",
    "                         }"
   ]
  },
  {
   "cell_type": "code",
   "execution_count": 20,
   "metadata": {
    "pycharm": {
     "name": "#%%\n"
    }
   },
   "outputs": [
    {
     "data": {
      "text/plain": "                                  expression\n0  Federal Agricultural Mortgage Corporation\n1        early childhood development program\n2                     unemployment insurance\n3                      workers’ compensation\n4                                        FCC",
      "text/html": "<div>\n<style scoped>\n    .dataframe tbody tr th:only-of-type {\n        vertical-align: middle;\n    }\n\n    .dataframe tbody tr th {\n        vertical-align: top;\n    }\n\n    .dataframe thead th {\n        text-align: right;\n    }\n</style>\n<table border=\"1\" class=\"dataframe\">\n  <thead>\n    <tr style=\"text-align: right;\">\n      <th></th>\n      <th>expression</th>\n    </tr>\n  </thead>\n  <tbody>\n    <tr>\n      <th>0</th>\n      <td>Federal Agricultural Mortgage Corporation</td>\n    </tr>\n    <tr>\n      <th>1</th>\n      <td>early childhood development program</td>\n    </tr>\n    <tr>\n      <th>2</th>\n      <td>unemployment insurance</td>\n    </tr>\n    <tr>\n      <th>3</th>\n      <td>workers’ compensation</td>\n    </tr>\n    <tr>\n      <th>4</th>\n      <td>FCC</td>\n    </tr>\n  </tbody>\n</table>\n</div>"
     },
     "execution_count": 20,
     "metadata": {},
     "output_type": "execute_result"
    }
   ],
   "source": [
    "# however we will build a dictionary by loading a list of words and phrases (i.e expressions) and generating the tokens with which we will replace them\n",
    "df_replace = pd.read_csv(data_path + \"replacement_expressions.txt\", sep=\"\\t\")\n",
    "df_replace.head()"
   ]
  },
  {
   "cell_type": "code",
   "execution_count": 21,
   "metadata": {
    "pycharm": {
     "name": "#%%\n"
    }
   },
   "outputs": [],
   "source": [
    "# get unique expressions and capture their length\n",
    "replace_exp = list(df_replace[\"expression\"].values)\n",
    "replace_exp = list(set(replace_exp))\n",
    "replace_exp = [x.strip() for x in replace_exp]\n",
    "replace_exp = np.array(list(set(replace_exp)))\n",
    "# we capture the length of the expression in order to determine the order of substitution\n",
    "# more on this later\n",
    "len_replace = np.array([len(p.split()) for p in replace_exp])"
   ]
  },
  {
   "cell_type": "code",
   "execution_count": 22,
   "metadata": {
    "pycharm": {
     "name": "#%%\n"
    }
   },
   "outputs": [],
   "source": [
    "# generate replacement token by hyphenating the words in the expressions and lower casing them\n",
    "def token_make(expression, signal_word):\n",
    "    words = expression.split(\" \")\n",
    "    # add a word at the end of the expression\n",
    "    words.append(signal_word)\n",
    "    single_token = \"-\".join(words)\n",
    "    return single_token.lower()\n",
    "\n",
    "# generate tokens for expressions of all length\n",
    "replace_dicts = {}\n",
    "for i in Counter(len_replace).keys():\n",
    "    exps = replace_exp[np.where(len_replace == i)]\n",
    "    replace_dicts[i] = {e: token_make(e, 'token') for e in exps}"
   ]
  },
  {
   "cell_type": "code",
   "execution_count": 23,
   "metadata": {
    "pycharm": {
     "name": "#%%\n"
    }
   },
   "outputs": [
    {
     "data": {
      "text/plain": "[('alcohol fuel credit', 'alcohol-fuel-credit-token'),\n ('right to work', 'right-to-work-token'),\n ('Tennessee Valley Authority', 'tennessee-valley-authority-token'),\n ('Department of Education', 'department-of-education-token'),\n ('Internal Revenue Service', 'internal-revenue-service-token'),\n ('Federal Aviation Administration', 'federal-aviation-administration-token'),\n ('Section 8 Housing', 'section-8-housing-token'),\n ('Federal Highway Administration', 'federal-highway-administration-token'),\n ('Federal Communications Commission',\n  'federal-communications-commission-token'),\n ('clean air act', 'clean-air-act-token')]"
     },
     "execution_count": 23,
     "metadata": {},
     "output_type": "execute_result"
    }
   ],
   "source": [
    "# explore some of the expressions and their replacement tokens\n",
    "list(replace_dicts[3].items())[0:10]"
   ]
  },
  {
   "cell_type": "code",
   "execution_count": 24,
   "metadata": {
    "colab": {
     "base_uri": "https://localhost:8080/"
    },
    "id": "jZk4Euppdut2",
    "outputId": "cc7b8afa-6049-45be-8f6c-e42c65b52578",
    "pycharm": {
     "name": "#%%\n"
    }
   },
   "outputs": [
    {
     "name": "stdout",
     "output_type": "stream",
     "text": [
      "Document before phrase replacing:\n",
      " Congress adopted comprehensive financial reform legislation under the Dodd-Frank Act that establishes federal oversight and regulation of the over-the-counter derivatives market and entities, such as us, that participate in that market.\n"
     ]
    }
   ],
   "source": [
    "# explore a document with phrases that will be replaced\n",
    "i = 107915\n",
    "print(\"Document before phrase replacing:\\n\", prep.docs[i])"
   ]
  },
  {
   "cell_type": "markdown",
   "metadata": {
    "pycharm": {
     "name": "#%% md\n"
    }
   },
   "source": [
    "Now that we have the replacement dictionary ready we will use the ```phrase_replace()``` method to apply it to our text. Crucially, we will not replace all expressions at the same time but, instead, we will do the replacements according to the number of words in each expression. We will follow a descending order of replacement so that we preserve longer expressions first and then move to the rest."
   ]
  },
  {
   "cell_type": "code",
   "execution_count": 25,
   "metadata": {
    "pycharm": {
     "name": "#%%\n"
    }
   },
   "outputs": [
    {
     "name": "stdout",
     "output_type": "stream",
     "text": [
      "Replacing expressions of length 7 such as:\n",
      " Office of Fair Housing and Equal Opportunity\n",
      "Replacing expressions of length 6 such as:\n",
      " Pipeline and Hazardous Materials Safety Administration\n",
      "Replacing expressions of length 5 such as:\n",
      " National Highway Traffic Safety Administration\n",
      "Replacing expressions of length 4 such as:\n",
      " house financial services committee\n",
      "Replacing expressions of length 3 such as:\n",
      " capital gains tax\n",
      "Replacing expressions of length 2 such as:\n",
      " trademark infringement\n",
      "Replacing expressions of length 1 such as:\n",
      " dumping\n"
     ]
    }
   ],
   "source": [
    "# apply phrase replacing in order according to the length of the expression\n",
    "# we want to replace longer expressions first\n",
    "for tokens_len in range(max(replace_dicts.keys()), 0, -1):\n",
    "    dict_len = replace_dicts[tokens_len]\n",
    "    print(f\"Replacing expressions of length {tokens_len} such as:\\n {random.choice(list(dict_len.keys()))}\")\n",
    "    # apply method from class\n",
    "    prep.phrase_replace(replace_dict=dict_len, case_sensitive_replacing=False)"
   ]
  },
  {
   "cell_type": "markdown",
   "metadata": {
    "pycharm": {
     "name": "#%% md\n"
    }
   },
   "source": [
    "Notice that several expressions were replaced throughout the sentence with a single new token (e.g. financial reform with financial-reform-token)."
   ]
  },
  {
   "cell_type": "code",
   "execution_count": 26,
   "metadata": {
    "pycharm": {
     "name": "#%%\n"
    }
   },
   "outputs": [
    {
     "name": "stdout",
     "output_type": "stream",
     "text": [
      "Document after phrase replacing:\n",
      " Congress adopted comprehensive financial-reform-token legislation under the dodd-frank-token Act that establishes federal oversight and regulation-token of the over-the-counter derivatives market and entities, such as us, that participate in that market.\n"
     ]
    }
   ],
   "source": [
    "print(\"Document after phrase replacing:\\n\", prep.docs[i])"
   ]
  },
  {
   "cell_type": "markdown",
   "metadata": {
    "id": "5YJYlZkPdutx",
    "pycharm": {
     "name": "#%% md\n"
    }
   },
   "source": [
    "### *3. Lower-case, split contractions and tokenize*"
   ]
  },
  {
   "cell_type": "markdown",
   "metadata": {
    "pycharm": {
     "name": "#%% md\n"
    }
   },
   "source": [
    "After succesfully extracting and replacing the phrases we needed we can now move on and apply some basic cleaning to the text. This is done through the ```basic_cleaning()``` method which will use some of the parameters provided in the initialization of the class. Using this method, the text can be lower-cased, contractions can be expanded and a list of stopwords can be initialized.\n",
    "\n",
    "Finally, we will then use the ```tokenize_text()``` method to split documents into tokens using the custom pattern we provided earlier. It is very important that we use a tokenization pattern that preserves hyphenated words together since we used the hyphen when replacing phrases earlier. Passing a tokenization pattern will override the default tokenization algorithm with a user-defined tokenization routine based on a specific regular expression. In our case, we pass a regex that ensures e.g. not to tokenize over hyphens, currency or percentage signs. \n",
    "\n",
    "After applying this method, our preprocessing object (```prep```) will get a new attribute that we can access: ```.tokens```."
   ]
  },
  {
   "cell_type": "code",
   "execution_count": 27,
   "metadata": {
    "pycharm": {
     "name": "#%%\n"
    }
   },
   "outputs": [],
   "source": [
    "# lower-case text, expand contractions and initialize stopwords list\n",
    "prep.basic_cleaning()"
   ]
  },
  {
   "cell_type": "code",
   "execution_count": 28,
   "metadata": {
    "pycharm": {
     "name": "#%%\n"
    }
   },
   "outputs": [
    {
     "name": "stdout",
     "output_type": "stream",
     "text": [
      "Congress adopted comprehensive financial reform legislation under the Dodd-Frank Act that establishes federal oversight and regulation of the over-the-counter derivatives market and entities, such as us, that participate in that market.\n",
      "\n",
      "congress adopted comprehensive financial-reform-token legislation under the dodd-frank-token act that establishes federal oversight and regulation-token of the over-the-counter derivatives market and entities, such as us, that participate in that market.\n"
     ]
    }
   ],
   "source": [
    "# explore an example after the basic cleaning has been applied\n",
    "i = 107915\n",
    "print(data.loc[i, \"sentences\"])\n",
    "print()\n",
    "print(prep.docs[i])"
   ]
  },
  {
   "cell_type": "code",
   "execution_count": 29,
   "metadata": {
    "pycharm": {
     "name": "#%%\n"
    }
   },
   "outputs": [],
   "source": [
    "# now we can split the documents into tokens\n",
    "prep.tokenize_text()"
   ]
  },
  {
   "cell_type": "markdown",
   "metadata": {
    "id": "YA8RWtJ6dutz",
    "pycharm": {
     "name": "#%% md\n"
    }
   },
   "source": [
    "Below, we show a random document and its tokenized version. As we can see, text was tokenized in such a way that expressions replaced previously such as \"financial-reform-token\" were kept as a single token. Notice also that punctuation symbols were preserved."
   ]
  },
  {
   "cell_type": "code",
   "execution_count": 30,
   "metadata": {
    "pycharm": {
     "name": "#%%\n"
    }
   },
   "outputs": [
    {
     "name": "stdout",
     "output_type": "stream",
     "text": [
      "Congress adopted comprehensive financial reform legislation under the Dodd-Frank Act that establishes federal oversight and regulation of the over-the-counter derivatives market and entities, such as us, that participate in that market.\n",
      "\n",
      "['congress', 'adopted', 'comprehensive', 'financial-reform-token', 'legislation', 'under', 'the', 'dodd-frank-token', 'act', 'that', 'establishes', 'federal', 'oversight', 'and', 'regulation-token', 'of', 'the', 'over-the-counter', 'derivatives', 'market', 'and', 'entities', ',', 'such', 'as', 'us', ',', 'that', 'participate', 'in', 'that', 'market', '.']\n"
     ]
    }
   ],
   "source": [
    "i = 107915\n",
    "print(data.loc[i, \"sentences\"])\n",
    "print()\n",
    "print(prep.tokens[i])"
   ]
  },
  {
   "cell_type": "markdown",
   "metadata": {
    "pycharm": {
     "name": "#%% md\n"
    }
   },
   "source": [
    "At this point, tokens could be ready to use for some specific aims. For instance, one might want to count instances of specific terms, including punctuation. However, more often one wants to proceed with heavier preprocessing, for which other methods of the RawDocs class can prove useful."
   ]
  },
  {
   "cell_type": "markdown",
   "metadata": {
    "id": "8fj8gXkRdutz",
    "pycharm": {
     "name": "#%% md\n"
    }
   },
   "source": [
    "### *4. Remove non-ASCII symbols, punctuation, numbers, short tokens*"
   ]
  },
  {
   "cell_type": "markdown",
   "metadata": {
    "id": "DYMXsYZKdutz",
    "pycharm": {
     "name": "#%% md\n"
    }
   },
   "source": [
    "The ```token_clean()``` method iterates over tokens and removes elements that we might consider unnecessary or impairing our analysis.\n",
    "\n",
    "The method automatically removes non-ASCII characters. In addition, we can remove punctuation, numbers and tokens with a number of characters lower than or equal to \"length\". The function removes by default the punctuation included in the string package:"
   ]
  },
  {
   "cell_type": "code",
   "execution_count": 31,
   "metadata": {
    "colab": {
     "base_uri": "https://localhost:8080/"
    },
    "id": "KuDWVlRhdut0",
    "outputId": "40f940b9-8e7d-4d3f-f707-2d7148ef1c61",
    "pycharm": {
     "name": "#%%\n"
    }
   },
   "outputs": [
    {
     "data": {
      "text/plain": "'!\"#$%&\\'()*+,-./:;<=>?@[\\\\]^_`{|}~'"
     },
     "execution_count": 31,
     "metadata": {},
     "output_type": "execute_result"
    }
   ],
   "source": [
    "string.punctuation"
   ]
  },
  {
   "cell_type": "markdown",
   "metadata": {
    "id": "Dp4k-rkWdut0",
    "pycharm": {
     "name": "#%% md\n"
    }
   },
   "source": [
    "However, we are free to pass a customised punctuation string. Here, we pass the string above excluding hypens."
   ]
  },
  {
   "cell_type": "code",
   "execution_count": 32,
   "metadata": {
    "colab": {
     "base_uri": "https://localhost:8080/"
    },
    "id": "yrohs7yDdut0",
    "outputId": "b12c8322-2088-45b1-d769-cbbdee137812",
    "pycharm": {
     "name": "#%%\n"
    }
   },
   "outputs": [
    {
     "data": {
      "text/plain": "'!\"#$%&\\'()*+,./:;<=>?@[\\\\]^_`{|}~'"
     },
     "execution_count": 32,
     "metadata": {},
     "output_type": "execute_result"
    }
   ],
   "source": [
    "punctuation = string.punctuation\n",
    "punctuation = punctuation.replace(\"-\", \"\") # remove the hyphen from the punctuation string\n",
    "punctuation"
   ]
  },
  {
   "cell_type": "code",
   "execution_count": 33,
   "metadata": {
    "id": "vHM1CFv_dut0",
    "pycharm": {
     "name": "#%%\n"
    }
   },
   "outputs": [],
   "source": [
    "prep.token_clean(length=2,                 # remove tokens with less than this number of characters \n",
    "                 punctuation=punctuation,  # remove custom list of punctuation characters\n",
    "                 numbers=True              # remove numbers\n",
    "                 )"
   ]
  },
  {
   "cell_type": "markdown",
   "metadata": {
    "id": "mCkcigB2dut0",
    "pycharm": {
     "name": "#%% md\n"
    }
   },
   "source": [
    "Let's now look at our document again"
   ]
  },
  {
   "cell_type": "code",
   "execution_count": 34,
   "metadata": {
    "colab": {
     "base_uri": "https://localhost:8080/"
    },
    "id": "cBMtWm-ydut0",
    "outputId": "7894028e-9bb0-4541-d25f-65c2f2e644f1",
    "pycharm": {
     "name": "#%%\n"
    }
   },
   "outputs": [
    {
     "name": "stdout",
     "output_type": "stream",
     "text": [
      "Congress adopted comprehensive financial reform legislation under the Dodd-Frank Act that establishes federal oversight and regulation of the over-the-counter derivatives market and entities, such as us, that participate in that market.\n",
      "\n",
      "['congress', 'adopted', 'comprehensive', 'financial-reform-token', 'legislation', 'under', 'the', 'dodd-frank-token', 'act', 'that', 'establishes', 'federal', 'oversight', 'and', 'regulation-token', 'the', 'over-the-counter', 'derivatives', 'market', 'and', 'entities', 'such', 'that', 'participate', 'that', 'market']\n"
     ]
    }
   ],
   "source": [
    "i = 107915\n",
    "print(data.loc[i, \"sentences\"])\n",
    "print()\n",
    "print(prep.tokens[i])"
   ]
  },
  {
   "cell_type": "markdown",
   "metadata": {
    "id": "Z0aardZbdut1",
    "pycharm": {
     "name": "#%% md\n"
    }
   },
   "source": [
    "### *5. Remove stopwords*"
   ]
  },
  {
   "cell_type": "markdown",
   "metadata": {
    "id": "A5migS4Pdut1",
    "pycharm": {
     "name": "#%% md\n"
    }
   },
   "source": [
    "The ```remove_stopwords()``` method allows to remove tokens included in the \"stopwords\" attribute. We went for the \"long\" stopwords list, that is printed below."
   ]
  },
  {
   "cell_type": "code",
   "execution_count": 35,
   "metadata": {
    "colab": {
     "base_uri": "https://localhost:8080/"
    },
    "id": "xefr6wkfdut1",
    "outputId": "f35c18e4-ce69-443a-925a-cd5727d74127",
    "pycharm": {
     "name": "#%%\n"
    }
   },
   "outputs": [
    {
     "name": "stdout",
     "output_type": "stream",
     "text": [
      "['a', 'about', 'above', 'after', 'again', 'against', 'all', 'also', 'am', 'an', 'and', 'another', 'any', 'are', 'as', 'at', 'back', 'be', 'because', 'been', 'before', 'being', 'below', 'between', 'both', 'but', 'by', 'could', 'did', 'do', 'does', 'doing', 'down', 'during', 'each', 'even', 'ever', 'every', 'few', 'first', 'five', 'for', 'four', 'from', 'further', 'get', 'go', 'goes', 'had', 'has', 'have', 'having', 'he', 'her', 'here', 'hers', 'herself', 'high', 'him', 'himself', 'his', 'how', 'however', 'i', 'if', 'in', 'into', 'is', 'it', 'its', 'itself', 'just', 'least', 'less', 'like', 'long', 'made', 'make', 'many', 'me', 'more', 'most', 'my', 'myself', 'never', 'new', 'no', 'nor', 'not', 'now', 'of', 'off', 'old', 'on', 'once', 'one', 'only', 'or', 'other', 'ought', 'our', 'ours', 'ourselves', 'out', 'over', 'own', 'put', 'said', 'same', 'say', 'says', 'second', 'see', 'seen', 'she', 'should', 'since', 'so', 'some', 'still', 'such', 'take', 'than', 'that', 'the', 'their', 'theirs', 'them', 'themselves', 'then', 'there', 'these', 'they', 'this', 'those', 'three', 'through', 'to', 'too', 'two', 'under', 'until', 'up', 'us', 'very', 'was', 'way', 'we', 'well', 'were', 'what', 'when', 'where', 'whether', 'which', 'while', 'who', 'whom', 'why', 'with', 'would', 'you', 'your', 'yours', 'yourself', 'yourselves']\n"
     ]
    }
   ],
   "source": [
    "# get the list of stopwords provided earlier\n",
    "print(sorted(prep.stopwords))"
   ]
  },
  {
   "cell_type": "code",
   "execution_count": 36,
   "metadata": {
    "id": "2lykFC5Vdut1",
    "pycharm": {
     "name": "#%%\n"
    }
   },
   "outputs": [],
   "source": [
    "# we need to specificy that we want to remove the stopwords from the \"tokens\"\n",
    "prep.stopword_remove('tokens')"
   ]
  },
  {
   "cell_type": "markdown",
   "metadata": {
    "id": "Zb7PP_sZdut1",
    "pycharm": {
     "name": "#%% md\n"
    }
   },
   "source": [
    "As we can see, after applying the ```stopwords_remove()``` method, tokens like \"the\" or \"of\" have been dropped."
   ]
  },
  {
   "cell_type": "code",
   "execution_count": 37,
   "metadata": {
    "colab": {
     "base_uri": "https://localhost:8080/"
    },
    "id": "oF2Pl4fmdut2",
    "outputId": "4ecadb3a-c202-45ec-fe17-38c24f00fc3f",
    "pycharm": {
     "name": "#%%\n"
    }
   },
   "outputs": [
    {
     "name": "stdout",
     "output_type": "stream",
     "text": [
      "Congress adopted comprehensive financial reform legislation under the Dodd-Frank Act that establishes federal oversight and regulation of the over-the-counter derivatives market and entities, such as us, that participate in that market.\n",
      "\n",
      "['congress', 'adopted', 'comprehensive', 'financial-reform-token', 'legislation', 'dodd-frank-token', 'act', 'establishes', 'federal', 'oversight', 'regulation-token', 'over-the-counter', 'derivatives', 'market', 'entities', 'participate', 'market']\n"
     ]
    }
   ],
   "source": [
    "i = 107915\n",
    "print(data.loc[i, \"sentences\"])\n",
    "print()\n",
    "print(prep.tokens[i])"
   ]
  },
  {
   "cell_type": "markdown",
   "metadata": {
    "id": "Ljag15cJdut3",
    "pycharm": {
     "name": "#%% md\n"
    }
   },
   "source": [
    "### *6. Stem or lemmatize*"
   ]
  },
  {
   "cell_type": "markdown",
   "metadata": {
    "id": "zXFH4m4mdut3",
    "pycharm": {
     "name": "#%% md\n"
    }
   },
   "source": [
    "As a next step, one might attempt to group together words that are grammatically different but thematically identical. For example, it could be reasonable to keep words such as *\"obligations\"*, *\"obligation\"* and  *\"oblige\"* under a single token. Ultimately these three words denote the same concept, and so we might want them to share the same symbol. \n",
    "\n",
    "The two most popular techniques to achieve this goal are **stemming** and **lemmatization**.  Stemming replaces each word with its root form. The resulting token is less readable by humans but encompases multiple words (e.g. *\"tradition\"* and *\"traditional\"* have the same stem: *\"tradit\"*). Lemmatization replaces words with their dictionary form i.e. lemma. The words *\"changing\"*, *\"changes\"* and *\"changed\"* all have the same lemma: *\"change\"*.\n",
    "\n",
    "The ```RawDocs``` class allows both stemming (via nltk Snowball stemmer) and lemmatization (via spaCy lemmatizer). Below, we use both techniques and look at the different results on a specific document. Stems and lemmas are stored in the \"stems\" and \"lemmas\" attributes respectively."
   ]
  },
  {
   "cell_type": "code",
   "execution_count": 38,
   "metadata": {
    "colab": {
     "base_uri": "https://localhost:8080/"
    },
    "id": "nhQVNTAfdut3",
    "outputId": "b0374383-9f1b-4118-f6a5-5624621aee69",
    "pycharm": {
     "name": "#%%\n"
    }
   },
   "outputs": [],
   "source": [
    "# apply stemming to all documents\n",
    "prep.stem()"
   ]
  },
  {
   "cell_type": "code",
   "execution_count": 39,
   "metadata": {
    "colab": {
     "base_uri": "https://localhost:8080/"
    },
    "id": "q83cG0qfdut4",
    "outputId": "2105afc1-e6f6-4449-a114-4c0f86556caf",
    "pycharm": {
     "name": "#%%\n"
    }
   },
   "outputs": [],
   "source": [
    "# apply lemmatization to all documents (takes a very long time so we will avoid it for now)\n",
    "# prep.lemmatize()"
   ]
  },
  {
   "cell_type": "code",
   "execution_count": 40,
   "metadata": {
    "colab": {
     "base_uri": "https://localhost:8080/"
    },
    "id": "6jFi3QiVdut4",
    "outputId": "34c2954e-a6cb-4149-c9e5-4084470bef28",
    "pycharm": {
     "name": "#%%\n"
    }
   },
   "outputs": [
    {
     "name": "stdout",
     "output_type": "stream",
     "text": [
      "Congress adopted comprehensive financial reform legislation under the Dodd-Frank Act that establishes federal oversight and regulation of the over-the-counter derivatives market and entities, such as us, that participate in that market.\n",
      "\n",
      "['congress', 'adopted', 'comprehensive', 'financial-reform-token', 'legislation', 'dodd-frank-token', 'act', 'establishes', 'federal', 'oversight', 'regulation-token', 'over-the-counter', 'derivatives', 'market', 'entities', 'participate', 'market']\n",
      "\n",
      "['congress', 'adopt', 'comprehens', 'financial-reform-token', 'legisl', 'dodd-frank-token', 'act', 'establish', 'feder', 'oversight', 'regulation-token', 'over-the-counter', 'deriv', 'market', 'entiti', 'particip', 'market']\n",
      "\n"
     ]
    }
   ],
   "source": [
    "# compare all versions of the same raw sentences\n",
    "i = 107915\n",
    "print(data.loc[i, \"sentences\"])\n",
    "print()\n",
    "print(prep.tokens[i])\n",
    "print()\n",
    "print(prep.stems[i])\n",
    "print()\n",
    "#print(prep.lemmas[i])"
   ]
  },
  {
   "cell_type": "markdown",
   "metadata": {
    "id": "hMHoyG--dut4",
    "pycharm": {
     "name": "#%% md\n"
    }
   },
   "source": [
    "### *7. Term ranking*"
   ]
  },
  {
   "cell_type": "markdown",
   "metadata": {
    "id": "Ek7ktzk8dut4",
    "pycharm": {
     "name": "#%% md\n"
    }
   },
   "source": [
    "Finally, one might want to drop very frequent terms, as they could be regarded as corpus-specific stopwords that do not add up much value. Similarly, one might want to drop very rare terms, considering that not much can be learnt from such infrequent items. \n",
    "\n",
    "To explore these ideas, the ```get_term_ranking()``` method comes in handy. It allows to rank items (either tokens, stems or lemmas) according to pure **document frequency (df)** or to **term frequency inverse document frequency (tf-idf)**; where we give a large weight to terms that appear frequently in the entire dataset, but in relatively few documents. In particular, the tf-idf score for term $v$ is computed according to the formula below:\n",
    "\n",
    "\\begin{equation}\n",
    "tfidf_v = (1+log(tf_v)) (log \\frac{N}{df_v + 1})\n",
    "\\end{equation}\n",
    "\n",
    "Results are stored in the ```df_ranking``` and ```tfidf_ranking``` attributes respectively, and come as a list of tuples of the form (score, term, ranking position). \n",
    "Let's now look at the top ranked tokens in terms of document frequency:"
   ]
  },
  {
   "cell_type": "code",
   "execution_count": 41,
   "metadata": {
    "colab": {
     "base_uri": "https://localhost:8080/"
    },
    "id": "CNbuBatDdut4",
    "outputId": "666ef3d4-26e2-4073-fb08-19f8225780f6",
    "pycharm": {
     "name": "#%%\n"
    }
   },
   "outputs": [
    {
     "data": {
      "text/plain": "[(308155.0, 'may', 0),\n (147726.0, 'business', 1),\n (106719.0, 'financial', 2),\n (100666.0, 'operations', 3),\n (100517.0, 'will', 4),\n (86754.0, 'results', 5),\n (82080.0, 'including', 6),\n (80152.0, 'products', 7),\n (78884.0, 'result', 8),\n (76608.0, 'future', 9),\n (72275.0, 'ability', 10),\n (67167.0, 'adversely', 11),\n (64749.0, 'market', 12),\n (62428.0, 'subject', 13),\n (60660.0, 'affect', 14)]"
     },
     "execution_count": 41,
     "metadata": {},
     "output_type": "execute_result"
    }
   ],
   "source": [
    "prep.get_term_ranking(items='tokens', score_type='df')\n",
    "prep.df_ranking['tokens'][:15]"
   ]
  },
  {
   "cell_type": "markdown",
   "metadata": {
    "id": "6C84Rr-jdut5",
    "pycharm": {
     "name": "#%% md\n"
    }
   },
   "source": [
    "As we can see, tokens such as \"business\" or \"financial\" rank very high with document frequencies of 147,726 and 106,719 respectively out of 1,077,416 documents (i.e. \"business\" is present in around 14% of the documents and \"financial\" in 10%)\n",
    "\n",
    "Let's now look at the top ranked tokens in terms of tf-idf:"
   ]
  },
  {
   "cell_type": "code",
   "execution_count": 42,
   "metadata": {
    "colab": {
     "base_uri": "https://localhost:8080/"
    },
    "id": "cQWJKzfIdut5",
    "outputId": "85283f6e-b0f6-441c-ea60-15435e94627b",
    "pycharm": {
     "name": "#%%\n"
    }
   },
   "outputs": [
    {
     "data": {
      "text/plain": "[(60.97096036848512, 'kaleyra', 0),\n (60.15888517721545, 'figr', 1),\n (59.85425198965002, 'jtx-', 2),\n (59.64041224434897, 'mereo', 3),\n (59.41517415039296, 'nep', 4),\n (59.3929465971522, 'xmab', 5),\n (59.066910853588354, 'sulopenem', 6),\n (58.9436385692586, 'circular', 7),\n (58.80973653418351, 'hmi-', 8),\n (58.748353858224185, 'turning', 9)]"
     },
     "execution_count": 42,
     "metadata": {},
     "output_type": "execute_result"
    }
   ],
   "source": [
    "prep.get_term_ranking(items='tokens', score_type='tfidf')\n",
    "prep.tfidf_ranking['tokens'][:10]"
   ]
  },
  {
   "cell_type": "markdown",
   "metadata": {
    "id": "2_ILguAldut5",
    "pycharm": {
     "name": "#%% md\n"
    }
   },
   "source": [
    "As we can see, the two methods differ considerably in how they rank tokens. Indeed, tf-idf weights more those terms that are frequent, but appear in relatively few documents. Consequently, names of companies get highly weighted (e.g. [Kaleyra](https://www.kaleyra.com/), [NEP](https://www.nepgroup.com/country/united-states), [Mereo](https://www.mereobiopharma.com/), [FIGR](https://www.figr.com/)) since they appear only in few documents (probably only the sentences from the 10-K report of the company) but are used very frequently in those documents. What would happen if we aggregate sentences at the firm-level and calculate tf-idf scores again?"
   ]
  },
  {
   "cell_type": "markdown",
   "metadata": {
    "pycharm": {
     "name": "#%% md\n"
    }
   },
   "source": [
    "If instead we look at the bottom-ranked tokens, we see that there is considerably more agreement between the two methods:"
   ]
  },
  {
   "cell_type": "code",
   "execution_count": 43,
   "metadata": {
    "colab": {
     "base_uri": "https://localhost:8080/"
    },
    "id": "KOftb7c2dut5",
    "outputId": "bbb8d0b2-5de2-4335-ba32-0f0037418522",
    "pycharm": {
     "name": "#%%\n"
    }
   },
   "outputs": [
    {
     "data": {
      "text/plain": "[(1.0, 'zugibe', 2603),\n (1.0, 'zur', 2603),\n (1.0, 'zurn', 2603),\n (1.0, 'zvex-based', 2603),\n (1.0, 'zwillinger', 2603),\n (1.0, 'zyban', 2603),\n (1.0, 'zymeworks', 2603),\n (1.0, 'zymogenic', 2603),\n (1.0, 'zynga', 2603),\n (1.0, 'zyxel', 2603)]"
     },
     "execution_count": 43,
     "metadata": {},
     "output_type": "execute_result"
    }
   ],
   "source": [
    "prep.df_ranking['tokens'][-10:]"
   ]
  },
  {
   "cell_type": "code",
   "execution_count": 44,
   "metadata": {
    "colab": {
     "base_uri": "https://localhost:8080/"
    },
    "id": "VVi3c65Rdut5",
    "outputId": "fb1d0bd3-f7cb-43a7-daf8-4569600d2f2e",
    "pycharm": {
     "name": "#%%\n"
    }
   },
   "outputs": [
    {
     "data": {
      "text/plain": "[(13.196928959124534, 'zostavax', 7097),\n (13.196928959124534, 'zoster', 7097),\n (13.196928959124534, 'zotrip', 7097),\n (13.196928959124534, 'zpharm', 7097),\n (13.196928959124534, 'zpl', 7097),\n (13.196928959124534, 'zubsolv', 7097),\n (13.196928959124534, 'zugibe', 7097),\n (13.196928959124534, 'zur', 7097),\n (13.196928959124534, 'zurn', 7097),\n (13.196928959124534, 'zvex-based', 7097),\n (13.196928959124534, 'zwillinger', 7097),\n (13.196928959124534, 'zyban', 7097),\n (13.196928959124534, 'zymeworks', 7097),\n (13.196928959124534, 'zynga', 7097),\n (13.196928959124534, 'zyxel', 7097)]"
     },
     "execution_count": 44,
     "metadata": {},
     "output_type": "execute_result"
    }
   ],
   "source": [
    "prep.tfidf_ranking['tokens'][-15:]"
   ]
  },
  {
   "cell_type": "markdown",
   "metadata": {
    "id": "iTV9NxC6dut5",
    "pycharm": {
     "name": "#%% md\n"
    }
   },
   "source": [
    "Let's now inspect the overall behavior of the document frequency ranking and the tf-idf ranking. As we can see, document frequency decays very fast (following a power-law), while tf-idf decreases at a slower pace."
   ]
  },
  {
   "cell_type": "code",
   "execution_count": 45,
   "metadata": {
    "colab": {
     "base_uri": "https://localhost:8080/"
    },
    "id": "AU5YBC78dut5",
    "outputId": "8555fd2b-b21f-4ad4-e03f-9ad71f80e7bd",
    "pycharm": {
     "name": "#%%\n"
    }
   },
   "outputs": [
    {
     "data": {
      "text/plain": "<Figure size 720x432 with 1 Axes>",
      "image/png": "[encoded data removed]"
     },
     "metadata": {},
     "output_type": "display_data"
    }
   ],
   "source": [
    "plt.figure(figsize=(10,6))\n",
    "plt.plot([x[0] for x in prep.df_ranking['tokens']])\n",
    "plt.title('Document frequency ranking')\n",
    "plt.ylabel(\"Document frequency\")\n",
    "plt.xlabel(\"Term ranking\")\n",
    "plt.show()"
   ]
  },
  {
   "cell_type": "code",
   "execution_count": 46,
   "metadata": {
    "pycharm": {
     "name": "#%%\n"
    }
   },
   "outputs": [
    {
     "data": {
      "text/plain": "<Figure size 720x432 with 1 Axes>",
      "image/png": "[encoded data removed]"
     },
     "metadata": {},
     "output_type": "display_data"
    }
   ],
   "source": [
    "# we can use a log-log scale to observe more clearly the power-law distribution (Zipf's law)\n",
    "plt.figure(figsize=(10,6))\n",
    "plt.loglog([x[0] for x in prep.df_ranking['tokens']])\n",
    "plt.title('Document frequency ranking (log-log)')\n",
    "plt.ylabel(\"log document frequency\")\n",
    "plt.xlabel(\"log term ranking\")\n",
    "plt.show()"
   ]
  },
  {
   "cell_type": "code",
   "execution_count": 47,
   "metadata": {
    "colab": {
     "base_uri": "https://localhost:8080/"
    },
    "id": "S7kjLkeddut6",
    "outputId": "c238c41f-0616-465d-9424-6f3e97089510",
    "pycharm": {
     "name": "#%%\n"
    }
   },
   "outputs": [
    {
     "data": {
      "text/plain": "<Figure size 720x432 with 1 Axes>",
      "image/png": "[encoded data removed]"
     },
     "metadata": {},
     "output_type": "display_data"
    }
   ],
   "source": [
    "plt.figure(figsize=(10,6))\n",
    "plt.plot([x[0] for x in prep.tfidf_ranking['tokens']])\n",
    "plt.title('Tf-idf ranking')\n",
    "plt.ylabel(\"tf-idf\")\n",
    "plt.xlabel(\"Term ranking\")\n",
    "plt.show()"
   ]
  },
  {
   "cell_type": "markdown",
   "metadata": {
    "pycharm": {
     "name": "#%% md\n"
    }
   },
   "source": [
    "### *8. Vectorization*\n",
    "\n",
    "Now that we have finished pre-processing our text we will use the python library **Scikit-learn** to transform our list of tokens, lemmas or stems into numerical matrices. We will call this new representation of the text a **document-term** matrix. This matrix, can be used as the input to many bag-of-words text analysis algorithms such as dictionary methods, word2vec, Latent Semantic Analysis (LSA) or Linear Dirichlet Allocation (LDA).\n",
    "\n",
    "Check the documentation for the [```CountVectorizer```](https://scikit-learn.org/stable/modules/generated/sklearn.feature_extraction.text.CountVectorizer.html) and the [```TfidfVectorizer```](https://scikit-learn.org/stable/modules/generated/sklearn.feature_extraction.text.TfidfVectorizer.html#sklearn.feature_extraction.text.TfidfVectorizer) to explore all the parameters and functionalities of these classes. Although this notebook extensively uses a custom preprocessing pipeline, one can also rely on the preprocessing tools available on these classes. "
   ]
  },
  {
   "cell_type": "code",
   "execution_count": 48,
   "metadata": {
    "pycharm": {
     "name": "#%%\n"
    }
   },
   "outputs": [],
   "source": [
    "# # create a CountVectorizer object straight from the raw text\n",
    "# count_vectorizer = CountVectorizer(encoding='utf-8',\n",
    "#                                    token_pattern=pattern,\n",
    "#                                    lowercase=True,\n",
    "#                                    strip_accents=\"ascii\",\n",
    "#                                    stop_words=\"english\", \n",
    "#                                    ngram_range=(1, 1),       # generate only unigrams\n",
    "#                                    analyzer='word',          # analysis at the word-level \n",
    "#                                    max_df=0.5,              # ignore tokens that have a higher document frequency (can be int or percent)\n",
    "#                                    min_df=20,                # ignore tokens that have a lowe document frequency (can be int or percent)\n",
    "#                                    max_features=None,        # we could impose a maximum number of vocabulary terms\n",
    "#                                    )\n",
    "                                   \n",
    "# # transform our preprocessed tokens into a document-term matrix\n",
    "# dt_matrix_raw = count_vectorizer.fit_transform(data[\"sentences\"])\n",
    "# print(f\"Document-term matrix created with shape: {dt_matrix_raw.shape}\")"
   ]
  },
  {
   "cell_type": "code",
   "execution_count": 49,
   "metadata": {
    "pycharm": {
     "name": "#%%\n"
    }
   },
   "outputs": [],
   "source": [
    "# simple auxiliary function to override the preprocessing done by sklearn\n",
    "def do_nothing(doc):\n",
    "    return doc"
   ]
  },
  {
   "cell_type": "code",
   "execution_count": 50,
   "metadata": {
    "pycharm": {
     "name": "#%%\n"
    }
   },
   "outputs": [],
   "source": [
    "# create a CountVectorizer object using our preprocessed text\n",
    "count_vectorizer = CountVectorizer(encoding='utf-8', \n",
    "                                   preprocessor=do_nothing,  # apply no additional preprocessing\n",
    "                                   tokenizer=do_nothing,     # apply no additional tokenization\n",
    "                                   lowercase=False,\n",
    "                                   strip_accents=None,\n",
    "                                   stop_words=None, \n",
    "                                   ngram_range=(1, 1),       # generate only unigrams\n",
    "                                   analyzer='word',          # analysis at the word-level \n",
    "                                   max_df=0.5,              # ignore tokens that have a higher document frequency (can be int or percent)\n",
    "                                   min_df=500,                # ignore tokens that have a lowe document frequency (can be int or percent)\n",
    "                                   max_features=None,        # we could impose a maximum number of vocabulary terms\n",
    "                                   )"
   ]
  },
  {
   "cell_type": "code",
   "execution_count": 51,
   "metadata": {
    "pycharm": {
     "name": "#%%\n"
    }
   },
   "outputs": [
    {
     "name": "stdout",
     "output_type": "stream",
     "text": [
      "Document-term matrix created with shape: (1077416, 2972)\n"
     ]
    }
   ],
   "source": [
    "# transform our preprocessed tokens into a document-term matrix\n",
    "dt_matrix = count_vectorizer.fit_transform(prep.tokens)\n",
    "print(f\"Document-term matrix created with shape: {dt_matrix.shape}\")"
   ]
  },
  {
   "cell_type": "code",
   "execution_count": 52,
   "metadata": {
    "pycharm": {
     "name": "#%%\n"
    }
   },
   "outputs": [
    {
     "data": {
      "text/plain": "[('carefully', 372),\n ('review', 2425),\n ('following', 1174),\n ('discussion', 841),\n ('risks', 2440),\n ('may', 1705),\n ('affect', 94),\n ('business', 338),\n ('results', 2412),\n ('operations', 1878)]"
     },
     "execution_count": 52,
     "metadata": {},
     "output_type": "execute_result"
    }
   ],
   "source": [
    "# we can access a dictionary that maps between words and positions of the document-term matrix\n",
    "list(count_vectorizer.vocabulary_.items())[0:10]"
   ]
  },
  {
   "cell_type": "code",
   "execution_count": 53,
   "metadata": {
    "pycharm": {
     "name": "#%%\n"
    }
   },
   "outputs": [
    {
     "name": "stdout",
     "output_type": "stream",
     "text": [
      "Position of interest-rate-token in document-term matrix: 1478\n",
      "Position of taxes-token in document-term matrix: 2703\n"
     ]
    }
   ],
   "source": [
    "# check that our replaced expressions are part of the vocabulary\n",
    "print(f\"Position of {'interest-rate-token'} in document-term matrix: {count_vectorizer.vocabulary_['interest-rate-token']}\")\n",
    "print(f\"Position of {'taxes-token'} in document-term matrix: {count_vectorizer.vocabulary_['taxes-token']}\")"
   ]
  },
  {
   "cell_type": "markdown",
   "metadata": {
    "id": "m1bRVbnudut7",
    "pycharm": {
     "name": "#%% md\n"
    }
   },
   "source": [
    "### *9. Example of dictionary methods*"
   ]
  },
  {
   "cell_type": "markdown",
   "metadata": {
    "id": "LGS6SXvHdut7",
    "pycharm": {
     "name": "#%% md\n"
    }
   },
   "source": [
    "In this last section, we will show how to use the document-term matrix for a simple analysis. We will use several term sets developed by [Baker et al. (2019)](https://www.nber.org/system/files/working_papers/w25720/w25720.pdf) to capture a variety of broad thematic categories in newspaper articles. These categories include topics such as financial regulation, taxation, healthcare and commodities.\n",
    "\n",
    "The overall idea is to use the words that describe each one of these categories to analyze how firms are exposed to each on of these issues. Furthermore, we would want to understand how this exposition varies according to some main characteristics of firms (e.g. secotor, size).\n",
    "\n",
    "It is worth highlighting that the main motivation behind the phrase replacing step we perfomed earlier was to preserve all of the expressions included in the term sets developed by Baker et al. (2019)."
   ]
  },
  {
   "cell_type": "code",
   "execution_count": 54,
   "metadata": {
    "pycharm": {
     "name": "#%%\n"
    }
   },
   "outputs": [],
   "source": [
    "# open the sets of terms from Baker et al. (2019)\n",
    "file = open(data_path + \"broad_term_dictionaries_clean.txt\", \"r\")\n",
    "contents = file.read()\n",
    "dictionary = ast.literal_eval(contents)\n",
    "file.close()"
   ]
  },
  {
   "cell_type": "code",
   "execution_count": 55,
   "metadata": {
    "pycharm": {
     "name": "#%%\n"
    }
   },
   "outputs": [
    {
     "name": "stdout",
     "output_type": "stream",
     "text": [
      "Cleaning 13 tokens for topic: list_broad_quantity\n",
      "Cleaning 33 tokens for topic: list_commodity\n",
      "Cleaning 17 tokens for topic: list_competition\n",
      "Cleaning 5 tokens for topic: list_consumer\n",
      "Cleaning 13 tokens for topic: list_elections\n",
      "Cleaning 10 tokens for topic: list_exchange_rate\n",
      "Cleaning 9 tokens for topic: list_financial_crisis\n",
      "Cleaning 15 tokens for topic: list_govt_enterprises\n",
      "Cleaning 22 tokens for topic: list_govt_spending\n",
      "Cleaning 22 tokens for topic: list_healthcare\n",
      "Cleaning 7 tokens for topic: list_inflation\n",
      "Cleaning 7 tokens for topic: list_interest_rates\n",
      "Cleaning 4 tokens for topic: list_invest_sentiment\n",
      "Cleaning 8 tokens for topic: list_ip\n",
      "Cleaning 7 tokens for topic: list_labor_disputes\n",
      "Cleaning 17 tokens for topic: list_labor_markets\n",
      "Cleaning 10 tokens for topic: list_litigation\n",
      "Cleaning 31 tokens for topic: list_monetary\n",
      "Cleaning 11 tokens for topic: list_other_financial\n",
      "Cleaning 2 tokens for topic: list_policy_agri\n",
      "Cleaning 4 tokens for topic: list_policy_food\n",
      "Cleaning 26 tokens for topic: list_policy_trade\n",
      "Cleaning 13 tokens for topic: list_real_estate\n",
      "Cleaning 33 tokens for topic: list_reg_energy\n",
      "Cleaning 32 tokens for topic: list_reg_finance\n",
      "Cleaning 3 tokens for topic: list_reg_generic\n",
      "Cleaning 13 tokens for topic: list_reg_housing\n",
      "Cleaning 18 tokens for topic: list_reg_immigration\n",
      "Cleaning 6 tokens for topic: list_reg_ip\n",
      "Cleaning 25 tokens for topic: list_reg_labor\n",
      "Cleaning 6 tokens for topic: list_reg_lawsuit\n",
      "Cleaning 6 tokens for topic: list_reg_other\n",
      "Cleaning 28 tokens for topic: list_security\n",
      "Cleaning 47 tokens for topic: list_taxes\n",
      "Cleaning 5 tokens for topic: list_trade\n",
      "Cleaning 21 tokens for topic: list_transport\n",
      "Cleaning 28 tokens for topic: list_welfare\n"
     ]
    }
   ],
   "source": [
    "# adjust the term sets to match our tokens (i.e. replace _ with -)\n",
    "clean_dictionaries = {}\n",
    "for k,v in dictionary.items():\n",
    "    print(f\"Cleaning {len(v)} tokens for topic: {k}\")\n",
    "    clean_dictionaries[k] = [token.replace(\"_\", \"-\") for token in v]"
   ]
  },
  {
   "cell_type": "code",
   "execution_count": 56,
   "metadata": {
    "pycharm": {
     "name": "#%%\n"
    }
   },
   "outputs": [],
   "source": [
    "# we will focus only on some of the categories for the current analysis\n",
    "taxes_dict = clean_dictionaries[\"list_taxes\"]\n",
    "commodity_dict = clean_dictionaries[\"list_commodity\"]\n",
    "healthcare_dict = clean_dictionaries[\"list_healthcare\"]\n",
    "monetary_dict = clean_dictionaries[\"list_monetary\"]\n",
    "trade_dict = clean_dictionaries[\"list_policy_trade\"]\n",
    "reg_finance_dict = clean_dictionaries[\"list_reg_finance\"]\n",
    "elections_dict = clean_dictionaries[\"list_elections\"]\n",
    "regulation_dict = clean_dictionaries[\"list_reg_generic\"]"
   ]
  },
  {
   "cell_type": "code",
   "execution_count": 57,
   "metadata": {
    "pycharm": {
     "name": "#%%\n"
    }
   },
   "outputs": [
    {
     "name": "stdout",
     "output_type": "stream",
     "text": [
      "Taxes dictionary:\n",
      "['taxes-token', 'tax-token', 'taxation-token', 'tax-token', 'income-tax-token', 'tax-on-individual-token', 'personal-tax-token', 'capital-gain-tax-token', 'tax-on-capital-gain-token', 'dividend-tax-token', 'mortgage-interest-deduction-token', 'deduction-for-mortgage-interest-token', 'ira-account-token', 'roth-ira-token', 'traditional-ira-token', '401-k-token', 'state-and-local-tax-deduction-token', 'deductibility-of-state-and-local-tax-token', 'payroll-tax-token', 'social-security-tax-token', 'social-security-contribution-token', 'medicare-taxis-token', 'fica-token', 'unemployment-tax-token', 'futa-token', 'sale-tax-token', 'excise-tax-token', 'value-add-tax-token', 'vat-token', 'good-and-service-tax-token', 'gross-receipt-tax-token', 'corporate-tax-token', 'business-tax-token', 'profit-tax-token', 'investment-tax-credit-token', 'accelerate-depreciation-token', 'r-d-tax-credit-token', 'research-and-development-tax-credit-token', 'tax-credit-for-low-income-housing-token', 'low-income-housing-credit-token', 'black-liquor-tax-credit-token', 'black-liquor-credit-token', 'fuel-excise-tax-rebate-token', 'fuel-tax-credit-token', 'alcohol-fuel-credit-token', 'property-tax-token', 'internal-revenue-service-token']\n",
      "\n",
      "-------------------\n",
      "\n",
      "Healthcare dictionary:\n",
      "['healthcare-token', 'health-insurance-token', 'medicaid-token', 'medicare-token', 'affordable-care-act-token', 'obamacare-token', 'medical-liability-token', 'medical-malpractice-token', 'prescription-drug-token', 'drug-policy-token', 'fda-token', 'va-hospital-token', 'va-healthcare-token', 'veteran-affair-hospital-token', 'veteran-affair-healthcare-token', 'veteran-health-administration-token', 'national-institute-of-health-token', 'healthcare-policy-token', 'health-insurance-token', 'affordable-care-act-token', 'malpractice-tort-reform-token', 'malpractice-reform-token']\n",
      "\n",
      "-------------------\n",
      "\n",
      "Commodities dictionary:\n",
      "['wheat-token', 'corn-token', 'soy-token', 'sugar-token', 'cotton-token', 'beef-token', 'pork-token', 'petroleum-token', 'oil-token', 'coal-token', 'natural-gas-token', 'biofuel-token', 'ethanol-token', 'steel-token', 'copper-token', 'zinc-token', 'tin-token', 'platinum-token', 'rare-earth-metal-token', 'metal-token', 'aluminum-token', 'lead-token', 'cme-token', 'commodity-exchange-token', 'cbot-token', 'nymex-token', 'lme-token', 'london-metal-exchange-token', 'mercantile-exchange-token', 'intercontinental-exchange-token', 'board-of-trade-token', 'alaska-pipeline-token', 'gas-pipeline-token']\n",
      "\n",
      "-------------------\n",
      "\n"
     ]
    }
   ],
   "source": [
    "# explore the tokens in the term sets\n",
    "print(\"Taxes dictionary:\")\n",
    "print(taxes_dict)\n",
    "print(\"\\n-------------------\\n\")\n",
    "print(\"Healthcare dictionary:\")\n",
    "print(healthcare_dict)\n",
    "print(\"\\n-------------------\\n\")\n",
    "print(\"Commodities dictionary:\")\n",
    "print(commodity_dict)\n",
    "print(\"\\n-------------------\\n\")"
   ]
  },
  {
   "cell_type": "code",
   "execution_count": 58,
   "metadata": {
    "colab": {
     "base_uri": "https://localhost:8080/"
    },
    "id": "Z45P5mjCdut8",
    "outputId": "b4b78814-3c84-4524-83d8-f9cd2ac09549",
    "pycharm": {
     "name": "#%%\n"
    }
   },
   "outputs": [
    {
     "name": "stdout",
     "output_type": "stream",
     "text": [
      "7 tokens found in vocabulary for taxes dictionary\n",
      "7 tokens found in vocabulary for commodity dictionary\n",
      "6 tokens found in vocabulary for healthcare dictionary\n",
      "1 tokens found in vocabulary for monetary dictionary\n",
      "1 tokens found in vocabulary for trade dictionary\n",
      "6 tokens found in vocabulary for financial regulation dictionary\n",
      "1 tokens found in vocabulary for elections dictionary\n",
      "3 tokens found in vocabulary for generic regulation dictionary\n"
     ]
    }
   ],
   "source": [
    "# find the position in the vocabulary of all terms\n",
    "taxes_idxs = [v for k,v in count_vectorizer.vocabulary_.items() if k in taxes_dict]\n",
    "print(f\"{len(taxes_idxs)} tokens found in vocabulary for taxes dictionary\")\n",
    "\n",
    "commodity_idxs = [v for k,v in count_vectorizer.vocabulary_.items() if k in commodity_dict]\n",
    "print(f\"{len(commodity_idxs)} tokens found in vocabulary for commodity dictionary\")\n",
    "\n",
    "healthcare_idxs = [v for k,v in count_vectorizer.vocabulary_.items() if k in healthcare_dict]\n",
    "print(f\"{len(healthcare_idxs)} tokens found in vocabulary for healthcare dictionary\")\n",
    "\n",
    "monetary_idxs = [v for k,v in count_vectorizer.vocabulary_.items() if k in monetary_dict]\n",
    "print(f\"{len(monetary_idxs)} tokens found in vocabulary for monetary dictionary\")\n",
    "\n",
    "trade_idxs = [v for k,v in count_vectorizer.vocabulary_.items() if k in trade_dict]\n",
    "print(f\"{len(trade_idxs)} tokens found in vocabulary for trade dictionary\")\n",
    "\n",
    "reg_finance_idxs = [v for k,v in count_vectorizer.vocabulary_.items() if k in reg_finance_dict]\n",
    "print(f\"{len(reg_finance_idxs)} tokens found in vocabulary for financial regulation dictionary\")\n",
    "\n",
    "elections_idxs = [v for k,v in count_vectorizer.vocabulary_.items() if k in elections_dict]\n",
    "print(f\"{len(elections_idxs)} tokens found in vocabulary for elections dictionary\")\n",
    "\n",
    "regulation_idxs = [v for k,v in count_vectorizer.vocabulary_.items() if k in regulation_dict]\n",
    "print(f\"{len(regulation_idxs)} tokens found in vocabulary for generic regulation dictionary\")"
   ]
  },
  {
   "cell_type": "code",
   "execution_count": 59,
   "metadata": {
    "id": "wjdnGPfodut8",
    "pycharm": {
     "name": "#%%\n"
    }
   },
   "outputs": [],
   "source": [
    "# count the total number of appearances of the tokens in each category per document\n",
    "taxes_counts = dt_matrix.tocsr()[:, taxes_idxs]\n",
    "taxes_counts = taxes_counts.sum(axis=1)\n",
    "\n",
    "commodity_counts = dt_matrix.tocsr()[:, commodity_idxs]\n",
    "commodity_counts = commodity_counts.sum(axis=1)\n",
    "\n",
    "reg_finance_counts = dt_matrix.tocsr()[:, reg_finance_idxs]\n",
    "reg_finance_counts = reg_finance_counts.sum(axis=1)\n",
    "\n",
    "healthcare_counts = dt_matrix.tocsr()[:, healthcare_idxs]\n",
    "healthcare_counts = healthcare_counts.sum(axis=1)\n",
    "\n",
    "monetary_counts = dt_matrix.tocsr()[:, monetary_idxs]\n",
    "monetary_counts = monetary_counts.sum(axis=1)"
   ]
  },
  {
   "cell_type": "code",
   "execution_count": 60,
   "metadata": {
    "id": "i8zc8HUtdut8",
    "pycharm": {
     "name": "#%%\n"
    }
   },
   "outputs": [],
   "source": [
    "# add counts to structured data\n",
    "data['taxes_counts'] = taxes_counts\n",
    "data['commodity_counts'] = commodity_counts\n",
    "data['reg_finance_counts'] = reg_finance_counts\n",
    "data['healthcare_counts'] = healthcare_counts\n",
    "data['monetary_counts'] = monetary_counts"
   ]
  },
  {
   "cell_type": "markdown",
   "metadata": {
    "pycharm": {
     "name": "#%% md\n"
    }
   },
   "source": [
    "Our structured data now includes the number of tokens from each category that were found in each document."
   ]
  },
  {
   "cell_type": "code",
   "execution_count": 61,
   "metadata": {
    "pycharm": {
     "name": "#%%\n"
    }
   },
   "outputs": [
    {
     "ename": "TypeError",
     "evalue": "unsupported format string passed to matrix.__format__",
     "output_type": "error",
     "traceback": [
      "\u001B[0;31m---------------------------------------------------------------------------\u001B[0m",
      "\u001B[0;31mTypeError\u001B[0m                                 Traceback (most recent call last)",
      "File \u001B[0;32m~/miniconda3/lib/python3.8/site-packages/IPython/core/formatters.py:707\u001B[0m, in \u001B[0;36mPlainTextFormatter.__call__\u001B[0;34m(self, obj)\u001B[0m\n\u001B[1;32m    700\u001B[0m stream \u001B[38;5;241m=\u001B[39m StringIO()\n\u001B[1;32m    701\u001B[0m printer \u001B[38;5;241m=\u001B[39m pretty\u001B[38;5;241m.\u001B[39mRepresentationPrinter(stream, \u001B[38;5;28mself\u001B[39m\u001B[38;5;241m.\u001B[39mverbose,\n\u001B[1;32m    702\u001B[0m     \u001B[38;5;28mself\u001B[39m\u001B[38;5;241m.\u001B[39mmax_width, \u001B[38;5;28mself\u001B[39m\u001B[38;5;241m.\u001B[39mnewline,\n\u001B[1;32m    703\u001B[0m     max_seq_length\u001B[38;5;241m=\u001B[39m\u001B[38;5;28mself\u001B[39m\u001B[38;5;241m.\u001B[39mmax_seq_length,\n\u001B[1;32m    704\u001B[0m     singleton_pprinters\u001B[38;5;241m=\u001B[39m\u001B[38;5;28mself\u001B[39m\u001B[38;5;241m.\u001B[39msingleton_printers,\n\u001B[1;32m    705\u001B[0m     type_pprinters\u001B[38;5;241m=\u001B[39m\u001B[38;5;28mself\u001B[39m\u001B[38;5;241m.\u001B[39mtype_printers,\n\u001B[1;32m    706\u001B[0m     deferred_pprinters\u001B[38;5;241m=\u001B[39m\u001B[38;5;28mself\u001B[39m\u001B[38;5;241m.\u001B[39mdeferred_printers)\n\u001B[0;32m--> 707\u001B[0m \u001B[43mprinter\u001B[49m\u001B[38;5;241;43m.\u001B[39;49m\u001B[43mpretty\u001B[49m\u001B[43m(\u001B[49m\u001B[43mobj\u001B[49m\u001B[43m)\u001B[49m\n\u001B[1;32m    708\u001B[0m printer\u001B[38;5;241m.\u001B[39mflush()\n\u001B[1;32m    709\u001B[0m \u001B[38;5;28;01mreturn\u001B[39;00m stream\u001B[38;5;241m.\u001B[39mgetvalue()\n",
      "File \u001B[0;32m~/miniconda3/lib/python3.8/site-packages/IPython/lib/pretty.py:410\u001B[0m, in \u001B[0;36mRepresentationPrinter.pretty\u001B[0;34m(self, obj)\u001B[0m\n\u001B[1;32m    407\u001B[0m                         \u001B[38;5;28;01mreturn\u001B[39;00m meth(obj, \u001B[38;5;28mself\u001B[39m, cycle)\n\u001B[1;32m    408\u001B[0m                 \u001B[38;5;28;01mif\u001B[39;00m \u001B[38;5;28mcls\u001B[39m \u001B[38;5;129;01mis\u001B[39;00m \u001B[38;5;129;01mnot\u001B[39;00m \u001B[38;5;28mobject\u001B[39m \\\n\u001B[1;32m    409\u001B[0m                         \u001B[38;5;129;01mand\u001B[39;00m callable(\u001B[38;5;28mcls\u001B[39m\u001B[38;5;241m.\u001B[39m\u001B[38;5;18m__dict__\u001B[39m\u001B[38;5;241m.\u001B[39mget(\u001B[38;5;124m'\u001B[39m\u001B[38;5;124m__repr__\u001B[39m\u001B[38;5;124m'\u001B[39m)):\n\u001B[0;32m--> 410\u001B[0m                     \u001B[38;5;28;01mreturn\u001B[39;00m \u001B[43m_repr_pprint\u001B[49m\u001B[43m(\u001B[49m\u001B[43mobj\u001B[49m\u001B[43m,\u001B[49m\u001B[43m \u001B[49m\u001B[38;5;28;43mself\u001B[39;49m\u001B[43m,\u001B[49m\u001B[43m \u001B[49m\u001B[43mcycle\u001B[49m\u001B[43m)\u001B[49m\n\u001B[1;32m    412\u001B[0m     \u001B[38;5;28;01mreturn\u001B[39;00m _default_pprint(obj, \u001B[38;5;28mself\u001B[39m, cycle)\n\u001B[1;32m    413\u001B[0m \u001B[38;5;28;01mfinally\u001B[39;00m:\n",
      "File \u001B[0;32m~/miniconda3/lib/python3.8/site-packages/IPython/lib/pretty.py:778\u001B[0m, in \u001B[0;36m_repr_pprint\u001B[0;34m(obj, p, cycle)\u001B[0m\n\u001B[1;32m    776\u001B[0m \u001B[38;5;124;03m\"\"\"A pprint that just redirects to the normal repr function.\"\"\"\u001B[39;00m\n\u001B[1;32m    777\u001B[0m \u001B[38;5;66;03m# Find newlines and replace them with p.break_()\u001B[39;00m\n\u001B[0;32m--> 778\u001B[0m output \u001B[38;5;241m=\u001B[39m \u001B[38;5;28;43mrepr\u001B[39;49m\u001B[43m(\u001B[49m\u001B[43mobj\u001B[49m\u001B[43m)\u001B[49m\n\u001B[1;32m    779\u001B[0m lines \u001B[38;5;241m=\u001B[39m output\u001B[38;5;241m.\u001B[39msplitlines()\n\u001B[1;32m    780\u001B[0m \u001B[38;5;28;01mwith\u001B[39;00m p\u001B[38;5;241m.\u001B[39mgroup():\n",
      "File \u001B[0;32m~/miniconda3/lib/python3.8/site-packages/pandas/core/frame.py:995\u001B[0m, in \u001B[0;36mDataFrame.__repr__\u001B[0;34m(self)\u001B[0m\n\u001B[1;32m    993\u001B[0m \u001B[38;5;28;01melse\u001B[39;00m:\n\u001B[1;32m    994\u001B[0m     width \u001B[38;5;241m=\u001B[39m \u001B[38;5;28;01mNone\u001B[39;00m\n\u001B[0;32m--> 995\u001B[0m \u001B[38;5;28;43mself\u001B[39;49m\u001B[38;5;241;43m.\u001B[39;49m\u001B[43mto_string\u001B[49m\u001B[43m(\u001B[49m\n\u001B[1;32m    996\u001B[0m \u001B[43m    \u001B[49m\u001B[43mbuf\u001B[49m\u001B[38;5;241;43m=\u001B[39;49m\u001B[43mbuf\u001B[49m\u001B[43m,\u001B[49m\n\u001B[1;32m    997\u001B[0m \u001B[43m    \u001B[49m\u001B[43mmax_rows\u001B[49m\u001B[38;5;241;43m=\u001B[39;49m\u001B[43mmax_rows\u001B[49m\u001B[43m,\u001B[49m\n\u001B[1;32m    998\u001B[0m \u001B[43m    \u001B[49m\u001B[43mmin_rows\u001B[49m\u001B[38;5;241;43m=\u001B[39;49m\u001B[43mmin_rows\u001B[49m\u001B[43m,\u001B[49m\n\u001B[1;32m    999\u001B[0m \u001B[43m    \u001B[49m\u001B[43mmax_cols\u001B[49m\u001B[38;5;241;43m=\u001B[39;49m\u001B[43mmax_cols\u001B[49m\u001B[43m,\u001B[49m\n\u001B[1;32m   1000\u001B[0m \u001B[43m    \u001B[49m\u001B[43mline_width\u001B[49m\u001B[38;5;241;43m=\u001B[39;49m\u001B[43mwidth\u001B[49m\u001B[43m,\u001B[49m\n\u001B[1;32m   1001\u001B[0m \u001B[43m    \u001B[49m\u001B[43mmax_colwidth\u001B[49m\u001B[38;5;241;43m=\u001B[39;49m\u001B[43mmax_colwidth\u001B[49m\u001B[43m,\u001B[49m\n\u001B[1;32m   1002\u001B[0m \u001B[43m    \u001B[49m\u001B[43mshow_dimensions\u001B[49m\u001B[38;5;241;43m=\u001B[39;49m\u001B[43mshow_dimensions\u001B[49m\u001B[43m,\u001B[49m\n\u001B[1;32m   1003\u001B[0m \u001B[43m\u001B[49m\u001B[43m)\u001B[49m\n\u001B[1;32m   1005\u001B[0m \u001B[38;5;28;01mreturn\u001B[39;00m buf\u001B[38;5;241m.\u001B[39mgetvalue()\n",
      "File \u001B[0;32m~/miniconda3/lib/python3.8/site-packages/pandas/core/frame.py:1131\u001B[0m, in \u001B[0;36mDataFrame.to_string\u001B[0;34m(self, buf, columns, col_space, header, index, na_rep, formatters, float_format, sparsify, index_names, justify, max_rows, min_rows, max_cols, show_dimensions, decimal, line_width, max_colwidth, encoding)\u001B[0m\n\u001B[1;32m   1112\u001B[0m \u001B[38;5;28;01mwith\u001B[39;00m option_context(\u001B[38;5;124m\"\u001B[39m\u001B[38;5;124mdisplay.max_colwidth\u001B[39m\u001B[38;5;124m\"\u001B[39m, max_colwidth):\n\u001B[1;32m   1113\u001B[0m     formatter \u001B[38;5;241m=\u001B[39m fmt\u001B[38;5;241m.\u001B[39mDataFrameFormatter(\n\u001B[1;32m   1114\u001B[0m         \u001B[38;5;28mself\u001B[39m,\n\u001B[1;32m   1115\u001B[0m         columns\u001B[38;5;241m=\u001B[39mcolumns,\n\u001B[0;32m   (...)\u001B[0m\n\u001B[1;32m   1129\u001B[0m         decimal\u001B[38;5;241m=\u001B[39mdecimal,\n\u001B[1;32m   1130\u001B[0m     )\n\u001B[0;32m-> 1131\u001B[0m     \u001B[38;5;28;01mreturn\u001B[39;00m \u001B[43mfmt\u001B[49m\u001B[38;5;241;43m.\u001B[39;49m\u001B[43mDataFrameRenderer\u001B[49m\u001B[43m(\u001B[49m\u001B[43mformatter\u001B[49m\u001B[43m)\u001B[49m\u001B[38;5;241;43m.\u001B[39;49m\u001B[43mto_string\u001B[49m\u001B[43m(\u001B[49m\n\u001B[1;32m   1132\u001B[0m \u001B[43m        \u001B[49m\u001B[43mbuf\u001B[49m\u001B[38;5;241;43m=\u001B[39;49m\u001B[43mbuf\u001B[49m\u001B[43m,\u001B[49m\n\u001B[1;32m   1133\u001B[0m \u001B[43m        \u001B[49m\u001B[43mencoding\u001B[49m\u001B[38;5;241;43m=\u001B[39;49m\u001B[43mencoding\u001B[49m\u001B[43m,\u001B[49m\n\u001B[1;32m   1134\u001B[0m \u001B[43m        \u001B[49m\u001B[43mline_width\u001B[49m\u001B[38;5;241;43m=\u001B[39;49m\u001B[43mline_width\u001B[49m\u001B[43m,\u001B[49m\n\u001B[1;32m   1135\u001B[0m \u001B[43m    \u001B[49m\u001B[43m)\u001B[49m\n",
      "File \u001B[0;32m~/miniconda3/lib/python3.8/site-packages/pandas/io/formats/format.py:1053\u001B[0m, in \u001B[0;36mDataFrameRenderer.to_string\u001B[0;34m(self, buf, encoding, line_width)\u001B[0m\n\u001B[1;32m   1050\u001B[0m \u001B[38;5;28;01mfrom\u001B[39;00m \u001B[38;5;21;01mpandas\u001B[39;00m\u001B[38;5;21;01m.\u001B[39;00m\u001B[38;5;21;01mio\u001B[39;00m\u001B[38;5;21;01m.\u001B[39;00m\u001B[38;5;21;01mformats\u001B[39;00m\u001B[38;5;21;01m.\u001B[39;00m\u001B[38;5;21;01mstring\u001B[39;00m \u001B[38;5;28;01mimport\u001B[39;00m StringFormatter\n\u001B[1;32m   1052\u001B[0m string_formatter \u001B[38;5;241m=\u001B[39m StringFormatter(\u001B[38;5;28mself\u001B[39m\u001B[38;5;241m.\u001B[39mfmt, line_width\u001B[38;5;241m=\u001B[39mline_width)\n\u001B[0;32m-> 1053\u001B[0m string \u001B[38;5;241m=\u001B[39m \u001B[43mstring_formatter\u001B[49m\u001B[38;5;241;43m.\u001B[39;49m\u001B[43mto_string\u001B[49m\u001B[43m(\u001B[49m\u001B[43m)\u001B[49m\n\u001B[1;32m   1054\u001B[0m \u001B[38;5;28;01mreturn\u001B[39;00m save_to_buffer(string, buf\u001B[38;5;241m=\u001B[39mbuf, encoding\u001B[38;5;241m=\u001B[39mencoding)\n",
      "File \u001B[0;32m~/miniconda3/lib/python3.8/site-packages/pandas/io/formats/string.py:25\u001B[0m, in \u001B[0;36mStringFormatter.to_string\u001B[0;34m(self)\u001B[0m\n\u001B[1;32m     24\u001B[0m \u001B[38;5;28;01mdef\u001B[39;00m \u001B[38;5;21mto_string\u001B[39m(\u001B[38;5;28mself\u001B[39m) \u001B[38;5;241m-\u001B[39m\u001B[38;5;241m>\u001B[39m \u001B[38;5;28mstr\u001B[39m:\n\u001B[0;32m---> 25\u001B[0m     text \u001B[38;5;241m=\u001B[39m \u001B[38;5;28;43mself\u001B[39;49m\u001B[38;5;241;43m.\u001B[39;49m\u001B[43m_get_string_representation\u001B[49m\u001B[43m(\u001B[49m\u001B[43m)\u001B[49m\n\u001B[1;32m     26\u001B[0m     \u001B[38;5;28;01mif\u001B[39;00m \u001B[38;5;28mself\u001B[39m\u001B[38;5;241m.\u001B[39mfmt\u001B[38;5;241m.\u001B[39mshould_show_dimensions:\n\u001B[1;32m     27\u001B[0m         text \u001B[38;5;241m=\u001B[39m \u001B[38;5;124m\"\u001B[39m\u001B[38;5;124m\"\u001B[39m\u001B[38;5;241m.\u001B[39mjoin([text, \u001B[38;5;28mself\u001B[39m\u001B[38;5;241m.\u001B[39mfmt\u001B[38;5;241m.\u001B[39mdimensions_info])\n",
      "File \u001B[0;32m~/miniconda3/lib/python3.8/site-packages/pandas/io/formats/string.py:40\u001B[0m, in \u001B[0;36mStringFormatter._get_string_representation\u001B[0;34m(self)\u001B[0m\n\u001B[1;32m     37\u001B[0m \u001B[38;5;28;01mif\u001B[39;00m \u001B[38;5;28mself\u001B[39m\u001B[38;5;241m.\u001B[39mfmt\u001B[38;5;241m.\u001B[39mframe\u001B[38;5;241m.\u001B[39mempty:\n\u001B[1;32m     38\u001B[0m     \u001B[38;5;28;01mreturn\u001B[39;00m \u001B[38;5;28mself\u001B[39m\u001B[38;5;241m.\u001B[39m_empty_info_line\n\u001B[0;32m---> 40\u001B[0m strcols \u001B[38;5;241m=\u001B[39m \u001B[38;5;28;43mself\u001B[39;49m\u001B[38;5;241;43m.\u001B[39;49m\u001B[43m_get_strcols\u001B[49m\u001B[43m(\u001B[49m\u001B[43m)\u001B[49m\n\u001B[1;32m     42\u001B[0m \u001B[38;5;28;01mif\u001B[39;00m \u001B[38;5;28mself\u001B[39m\u001B[38;5;241m.\u001B[39mline_width \u001B[38;5;129;01mis\u001B[39;00m \u001B[38;5;28;01mNone\u001B[39;00m:\n\u001B[1;32m     43\u001B[0m     \u001B[38;5;66;03m# no need to wrap around just print the whole frame\u001B[39;00m\n\u001B[1;32m     44\u001B[0m     \u001B[38;5;28;01mreturn\u001B[39;00m \u001B[38;5;28mself\u001B[39m\u001B[38;5;241m.\u001B[39madj\u001B[38;5;241m.\u001B[39madjoin(\u001B[38;5;241m1\u001B[39m, \u001B[38;5;241m*\u001B[39mstrcols)\n",
      "File \u001B[0;32m~/miniconda3/lib/python3.8/site-packages/pandas/io/formats/string.py:31\u001B[0m, in \u001B[0;36mStringFormatter._get_strcols\u001B[0;34m(self)\u001B[0m\n\u001B[1;32m     30\u001B[0m \u001B[38;5;28;01mdef\u001B[39;00m \u001B[38;5;21m_get_strcols\u001B[39m(\u001B[38;5;28mself\u001B[39m) \u001B[38;5;241m-\u001B[39m\u001B[38;5;241m>\u001B[39m \u001B[38;5;28mlist\u001B[39m[\u001B[38;5;28mlist\u001B[39m[\u001B[38;5;28mstr\u001B[39m]]:\n\u001B[0;32m---> 31\u001B[0m     strcols \u001B[38;5;241m=\u001B[39m \u001B[38;5;28;43mself\u001B[39;49m\u001B[38;5;241;43m.\u001B[39;49m\u001B[43mfmt\u001B[49m\u001B[38;5;241;43m.\u001B[39;49m\u001B[43mget_strcols\u001B[49m\u001B[43m(\u001B[49m\u001B[43m)\u001B[49m\n\u001B[1;32m     32\u001B[0m     \u001B[38;5;28;01mif\u001B[39;00m \u001B[38;5;28mself\u001B[39m\u001B[38;5;241m.\u001B[39mfmt\u001B[38;5;241m.\u001B[39mis_truncated:\n\u001B[1;32m     33\u001B[0m         strcols \u001B[38;5;241m=\u001B[39m \u001B[38;5;28mself\u001B[39m\u001B[38;5;241m.\u001B[39m_insert_dot_separators(strcols)\n",
      "File \u001B[0;32m~/miniconda3/lib/python3.8/site-packages/pandas/io/formats/format.py:540\u001B[0m, in \u001B[0;36mDataFrameFormatter.get_strcols\u001B[0;34m(self)\u001B[0m\n\u001B[1;32m    536\u001B[0m \u001B[38;5;28;01mdef\u001B[39;00m \u001B[38;5;21mget_strcols\u001B[39m(\u001B[38;5;28mself\u001B[39m) \u001B[38;5;241m-\u001B[39m\u001B[38;5;241m>\u001B[39m \u001B[38;5;28mlist\u001B[39m[\u001B[38;5;28mlist\u001B[39m[\u001B[38;5;28mstr\u001B[39m]]:\n\u001B[1;32m    537\u001B[0m     \u001B[38;5;124;03m\"\"\"\u001B[39;00m\n\u001B[1;32m    538\u001B[0m \u001B[38;5;124;03m    Render a DataFrame to a list of columns (as lists of strings).\u001B[39;00m\n\u001B[1;32m    539\u001B[0m \u001B[38;5;124;03m    \"\"\"\u001B[39;00m\n\u001B[0;32m--> 540\u001B[0m     strcols \u001B[38;5;241m=\u001B[39m \u001B[38;5;28;43mself\u001B[39;49m\u001B[38;5;241;43m.\u001B[39;49m\u001B[43m_get_strcols_without_index\u001B[49m\u001B[43m(\u001B[49m\u001B[43m)\u001B[49m\n\u001B[1;32m    542\u001B[0m     \u001B[38;5;28;01mif\u001B[39;00m \u001B[38;5;28mself\u001B[39m\u001B[38;5;241m.\u001B[39mindex:\n\u001B[1;32m    543\u001B[0m         str_index \u001B[38;5;241m=\u001B[39m \u001B[38;5;28mself\u001B[39m\u001B[38;5;241m.\u001B[39m_get_formatted_index(\u001B[38;5;28mself\u001B[39m\u001B[38;5;241m.\u001B[39mtr_frame)\n",
      "File \u001B[0;32m~/miniconda3/lib/python3.8/site-packages/pandas/io/formats/format.py:804\u001B[0m, in \u001B[0;36mDataFrameFormatter._get_strcols_without_index\u001B[0;34m(self)\u001B[0m\n\u001B[1;32m    800\u001B[0m cheader \u001B[38;5;241m=\u001B[39m str_columns[i]\n\u001B[1;32m    801\u001B[0m header_colwidth \u001B[38;5;241m=\u001B[39m \u001B[38;5;28mmax\u001B[39m(\n\u001B[1;32m    802\u001B[0m     \u001B[38;5;28mint\u001B[39m(\u001B[38;5;28mself\u001B[39m\u001B[38;5;241m.\u001B[39mcol_space\u001B[38;5;241m.\u001B[39mget(c, \u001B[38;5;241m0\u001B[39m)), \u001B[38;5;241m*\u001B[39m(\u001B[38;5;28mself\u001B[39m\u001B[38;5;241m.\u001B[39madj\u001B[38;5;241m.\u001B[39mlen(x) \u001B[38;5;28;01mfor\u001B[39;00m x \u001B[38;5;129;01min\u001B[39;00m cheader)\n\u001B[1;32m    803\u001B[0m )\n\u001B[0;32m--> 804\u001B[0m fmt_values \u001B[38;5;241m=\u001B[39m \u001B[38;5;28;43mself\u001B[39;49m\u001B[38;5;241;43m.\u001B[39;49m\u001B[43mformat_col\u001B[49m\u001B[43m(\u001B[49m\u001B[43mi\u001B[49m\u001B[43m)\u001B[49m\n\u001B[1;32m    805\u001B[0m fmt_values \u001B[38;5;241m=\u001B[39m _make_fixed_width(\n\u001B[1;32m    806\u001B[0m     fmt_values, \u001B[38;5;28mself\u001B[39m\u001B[38;5;241m.\u001B[39mjustify, minimum\u001B[38;5;241m=\u001B[39mheader_colwidth, adj\u001B[38;5;241m=\u001B[39m\u001B[38;5;28mself\u001B[39m\u001B[38;5;241m.\u001B[39madj\n\u001B[1;32m    807\u001B[0m )\n\u001B[1;32m    809\u001B[0m max_len \u001B[38;5;241m=\u001B[39m \u001B[38;5;28mmax\u001B[39m(\u001B[38;5;28mmax\u001B[39m(\u001B[38;5;28mself\u001B[39m\u001B[38;5;241m.\u001B[39madj\u001B[38;5;241m.\u001B[39mlen(x) \u001B[38;5;28;01mfor\u001B[39;00m x \u001B[38;5;129;01min\u001B[39;00m fmt_values), header_colwidth)\n",
      "File \u001B[0;32m~/miniconda3/lib/python3.8/site-packages/pandas/io/formats/format.py:818\u001B[0m, in \u001B[0;36mDataFrameFormatter.format_col\u001B[0;34m(self, i)\u001B[0m\n\u001B[1;32m    816\u001B[0m frame \u001B[38;5;241m=\u001B[39m \u001B[38;5;28mself\u001B[39m\u001B[38;5;241m.\u001B[39mtr_frame\n\u001B[1;32m    817\u001B[0m formatter \u001B[38;5;241m=\u001B[39m \u001B[38;5;28mself\u001B[39m\u001B[38;5;241m.\u001B[39m_get_formatter(i)\n\u001B[0;32m--> 818\u001B[0m \u001B[38;5;28;01mreturn\u001B[39;00m \u001B[43mformat_array\u001B[49m\u001B[43m(\u001B[49m\n\u001B[1;32m    819\u001B[0m \u001B[43m    \u001B[49m\u001B[43mframe\u001B[49m\u001B[38;5;241;43m.\u001B[39;49m\u001B[43miloc\u001B[49m\u001B[43m[\u001B[49m\u001B[43m:\u001B[49m\u001B[43m,\u001B[49m\u001B[43m \u001B[49m\u001B[43mi\u001B[49m\u001B[43m]\u001B[49m\u001B[38;5;241;43m.\u001B[39;49m\u001B[43m_values\u001B[49m\u001B[43m,\u001B[49m\n\u001B[1;32m    820\u001B[0m \u001B[43m    \u001B[49m\u001B[43mformatter\u001B[49m\u001B[43m,\u001B[49m\n\u001B[1;32m    821\u001B[0m \u001B[43m    \u001B[49m\u001B[43mfloat_format\u001B[49m\u001B[38;5;241;43m=\u001B[39;49m\u001B[38;5;28;43mself\u001B[39;49m\u001B[38;5;241;43m.\u001B[39;49m\u001B[43mfloat_format\u001B[49m\u001B[43m,\u001B[49m\n\u001B[1;32m    822\u001B[0m \u001B[43m    \u001B[49m\u001B[43mna_rep\u001B[49m\u001B[38;5;241;43m=\u001B[39;49m\u001B[38;5;28;43mself\u001B[39;49m\u001B[38;5;241;43m.\u001B[39;49m\u001B[43mna_rep\u001B[49m\u001B[43m,\u001B[49m\n\u001B[1;32m    823\u001B[0m \u001B[43m    \u001B[49m\u001B[43mspace\u001B[49m\u001B[38;5;241;43m=\u001B[39;49m\u001B[38;5;28;43mself\u001B[39;49m\u001B[38;5;241;43m.\u001B[39;49m\u001B[43mcol_space\u001B[49m\u001B[38;5;241;43m.\u001B[39;49m\u001B[43mget\u001B[49m\u001B[43m(\u001B[49m\u001B[43mframe\u001B[49m\u001B[38;5;241;43m.\u001B[39;49m\u001B[43mcolumns\u001B[49m\u001B[43m[\u001B[49m\u001B[43mi\u001B[49m\u001B[43m]\u001B[49m\u001B[43m)\u001B[49m\u001B[43m,\u001B[49m\n\u001B[1;32m    824\u001B[0m \u001B[43m    \u001B[49m\u001B[43mdecimal\u001B[49m\u001B[38;5;241;43m=\u001B[39;49m\u001B[38;5;28;43mself\u001B[39;49m\u001B[38;5;241;43m.\u001B[39;49m\u001B[43mdecimal\u001B[49m\u001B[43m,\u001B[49m\n\u001B[1;32m    825\u001B[0m \u001B[43m    \u001B[49m\u001B[43mleading_space\u001B[49m\u001B[38;5;241;43m=\u001B[39;49m\u001B[38;5;28;43mself\u001B[39;49m\u001B[38;5;241;43m.\u001B[39;49m\u001B[43mindex\u001B[49m\u001B[43m,\u001B[49m\n\u001B[1;32m    826\u001B[0m \u001B[43m\u001B[49m\u001B[43m)\u001B[49m\n",
      "File \u001B[0;32m~/miniconda3/lib/python3.8/site-packages/pandas/io/formats/format.py:1240\u001B[0m, in \u001B[0;36mformat_array\u001B[0;34m(values, formatter, float_format, na_rep, digits, space, justify, decimal, leading_space, quoting)\u001B[0m\n\u001B[1;32m   1225\u001B[0m     digits \u001B[38;5;241m=\u001B[39m get_option(\u001B[38;5;124m\"\u001B[39m\u001B[38;5;124mdisplay.precision\u001B[39m\u001B[38;5;124m\"\u001B[39m)\n\u001B[1;32m   1227\u001B[0m fmt_obj \u001B[38;5;241m=\u001B[39m fmt_klass(\n\u001B[1;32m   1228\u001B[0m     values,\n\u001B[1;32m   1229\u001B[0m     digits\u001B[38;5;241m=\u001B[39mdigits,\n\u001B[0;32m   (...)\u001B[0m\n\u001B[1;32m   1237\u001B[0m     quoting\u001B[38;5;241m=\u001B[39mquoting,\n\u001B[1;32m   1238\u001B[0m )\n\u001B[0;32m-> 1240\u001B[0m \u001B[38;5;28;01mreturn\u001B[39;00m \u001B[43mfmt_obj\u001B[49m\u001B[38;5;241;43m.\u001B[39;49m\u001B[43mget_result\u001B[49m\u001B[43m(\u001B[49m\u001B[43m)\u001B[49m\n",
      "File \u001B[0;32m~/miniconda3/lib/python3.8/site-packages/pandas/io/formats/format.py:1271\u001B[0m, in \u001B[0;36mGenericArrayFormatter.get_result\u001B[0;34m(self)\u001B[0m\n\u001B[1;32m   1270\u001B[0m \u001B[38;5;28;01mdef\u001B[39;00m \u001B[38;5;21mget_result\u001B[39m(\u001B[38;5;28mself\u001B[39m) \u001B[38;5;241m-\u001B[39m\u001B[38;5;241m>\u001B[39m \u001B[38;5;28mlist\u001B[39m[\u001B[38;5;28mstr\u001B[39m]:\n\u001B[0;32m-> 1271\u001B[0m     fmt_values \u001B[38;5;241m=\u001B[39m \u001B[38;5;28;43mself\u001B[39;49m\u001B[38;5;241;43m.\u001B[39;49m\u001B[43m_format_strings\u001B[49m\u001B[43m(\u001B[49m\u001B[43m)\u001B[49m\n\u001B[1;32m   1272\u001B[0m     \u001B[38;5;28;01mreturn\u001B[39;00m _make_fixed_width(fmt_values, \u001B[38;5;28mself\u001B[39m\u001B[38;5;241m.\u001B[39mjustify)\n",
      "File \u001B[0;32m~/miniconda3/lib/python3.8/site-packages/pandas/io/formats/format.py:1528\u001B[0m, in \u001B[0;36mIntArrayFormatter._format_strings\u001B[0;34m(self)\u001B[0m\n\u001B[1;32m   1526\u001B[0m     formatter_str \u001B[38;5;241m=\u001B[39m \u001B[38;5;28;01mlambda\u001B[39;00m x: \u001B[38;5;124mf\u001B[39m\u001B[38;5;124m\"\u001B[39m\u001B[38;5;132;01m{\u001B[39;00mx\u001B[38;5;132;01m:\u001B[39;00m\u001B[38;5;124m d\u001B[39m\u001B[38;5;132;01m}\u001B[39;00m\u001B[38;5;124m\"\u001B[39m\u001B[38;5;241m.\u001B[39mformat(x\u001B[38;5;241m=\u001B[39mx)\n\u001B[1;32m   1527\u001B[0m formatter \u001B[38;5;241m=\u001B[39m \u001B[38;5;28mself\u001B[39m\u001B[38;5;241m.\u001B[39mformatter \u001B[38;5;129;01mor\u001B[39;00m formatter_str\n\u001B[0;32m-> 1528\u001B[0m fmt_values \u001B[38;5;241m=\u001B[39m [formatter(x) \u001B[38;5;28;01mfor\u001B[39;00m x \u001B[38;5;129;01min\u001B[39;00m \u001B[38;5;28mself\u001B[39m\u001B[38;5;241m.\u001B[39mvalues]\n\u001B[1;32m   1529\u001B[0m \u001B[38;5;28;01mreturn\u001B[39;00m fmt_values\n",
      "File \u001B[0;32m~/miniconda3/lib/python3.8/site-packages/pandas/io/formats/format.py:1528\u001B[0m, in \u001B[0;36m<listcomp>\u001B[0;34m(.0)\u001B[0m\n\u001B[1;32m   1526\u001B[0m     formatter_str \u001B[38;5;241m=\u001B[39m \u001B[38;5;28;01mlambda\u001B[39;00m x: \u001B[38;5;124mf\u001B[39m\u001B[38;5;124m\"\u001B[39m\u001B[38;5;132;01m{\u001B[39;00mx\u001B[38;5;132;01m:\u001B[39;00m\u001B[38;5;124m d\u001B[39m\u001B[38;5;132;01m}\u001B[39;00m\u001B[38;5;124m\"\u001B[39m\u001B[38;5;241m.\u001B[39mformat(x\u001B[38;5;241m=\u001B[39mx)\n\u001B[1;32m   1527\u001B[0m formatter \u001B[38;5;241m=\u001B[39m \u001B[38;5;28mself\u001B[39m\u001B[38;5;241m.\u001B[39mformatter \u001B[38;5;129;01mor\u001B[39;00m formatter_str\n\u001B[0;32m-> 1528\u001B[0m fmt_values \u001B[38;5;241m=\u001B[39m [\u001B[43mformatter\u001B[49m\u001B[43m(\u001B[49m\u001B[43mx\u001B[49m\u001B[43m)\u001B[49m \u001B[38;5;28;01mfor\u001B[39;00m x \u001B[38;5;129;01min\u001B[39;00m \u001B[38;5;28mself\u001B[39m\u001B[38;5;241m.\u001B[39mvalues]\n\u001B[1;32m   1529\u001B[0m \u001B[38;5;28;01mreturn\u001B[39;00m fmt_values\n",
      "File \u001B[0;32m~/miniconda3/lib/python3.8/site-packages/pandas/io/formats/format.py:1526\u001B[0m, in \u001B[0;36mIntArrayFormatter._format_strings.<locals>.<lambda>\u001B[0;34m(x)\u001B[0m\n\u001B[1;32m   1524\u001B[0m     formatter_str \u001B[38;5;241m=\u001B[39m \u001B[38;5;28;01mlambda\u001B[39;00m x: \u001B[38;5;124mf\u001B[39m\u001B[38;5;124m\"\u001B[39m\u001B[38;5;132;01m{\u001B[39;00mx\u001B[38;5;132;01m:\u001B[39;00m\u001B[38;5;124md\u001B[39m\u001B[38;5;132;01m}\u001B[39;00m\u001B[38;5;124m\"\u001B[39m\u001B[38;5;241m.\u001B[39mformat(x\u001B[38;5;241m=\u001B[39mx)\n\u001B[1;32m   1525\u001B[0m \u001B[38;5;28;01melse\u001B[39;00m:\n\u001B[0;32m-> 1526\u001B[0m     formatter_str \u001B[38;5;241m=\u001B[39m \u001B[38;5;28;01mlambda\u001B[39;00m x: \u001B[38;5;124mf\u001B[39m\u001B[38;5;124m\"\u001B[39m\u001B[38;5;132;01m{\u001B[39;00mx\u001B[38;5;132;01m:\u001B[39;00m\u001B[38;5;124m d\u001B[39m\u001B[38;5;132;01m}\u001B[39;00m\u001B[38;5;124m\"\u001B[39m\u001B[38;5;241m.\u001B[39mformat(x\u001B[38;5;241m=\u001B[39mx)\n\u001B[1;32m   1527\u001B[0m formatter \u001B[38;5;241m=\u001B[39m \u001B[38;5;28mself\u001B[39m\u001B[38;5;241m.\u001B[39mformatter \u001B[38;5;129;01mor\u001B[39;00m formatter_str\n\u001B[1;32m   1528\u001B[0m fmt_values \u001B[38;5;241m=\u001B[39m [formatter(x) \u001B[38;5;28;01mfor\u001B[39;00m x \u001B[38;5;129;01min\u001B[39;00m \u001B[38;5;28mself\u001B[39m\u001B[38;5;241m.\u001B[39mvalues]\n",
      "\u001B[0;31mTypeError\u001B[0m: unsupported format string passed to matrix.__format__"
     ]
    },
    {
     "ename": "TypeError",
     "evalue": "unsupported format string passed to matrix.__format__",
     "output_type": "error",
     "traceback": [
      "\u001B[0;31m---------------------------------------------------------------------------\u001B[0m",
      "\u001B[0;31mTypeError\u001B[0m                                 Traceback (most recent call last)",
      "File \u001B[0;32m~/miniconda3/lib/python3.8/site-packages/IPython/core/formatters.py:343\u001B[0m, in \u001B[0;36mBaseFormatter.__call__\u001B[0;34m(self, obj)\u001B[0m\n\u001B[1;32m    341\u001B[0m     method \u001B[38;5;241m=\u001B[39m get_real_method(obj, \u001B[38;5;28mself\u001B[39m\u001B[38;5;241m.\u001B[39mprint_method)\n\u001B[1;32m    342\u001B[0m     \u001B[38;5;28;01mif\u001B[39;00m method \u001B[38;5;129;01mis\u001B[39;00m \u001B[38;5;129;01mnot\u001B[39;00m \u001B[38;5;28;01mNone\u001B[39;00m:\n\u001B[0;32m--> 343\u001B[0m         \u001B[38;5;28;01mreturn\u001B[39;00m \u001B[43mmethod\u001B[49m\u001B[43m(\u001B[49m\u001B[43m)\u001B[49m\n\u001B[1;32m    344\u001B[0m     \u001B[38;5;28;01mreturn\u001B[39;00m \u001B[38;5;28;01mNone\u001B[39;00m\n\u001B[1;32m    345\u001B[0m \u001B[38;5;28;01melse\u001B[39;00m:\n",
      "File \u001B[0;32m~/miniconda3/lib/python3.8/site-packages/pandas/core/frame.py:1047\u001B[0m, in \u001B[0;36mDataFrame._repr_html_\u001B[0;34m(self)\u001B[0m\n\u001B[1;32m   1025\u001B[0m     show_dimensions \u001B[38;5;241m=\u001B[39m get_option(\u001B[38;5;124m\"\u001B[39m\u001B[38;5;124mdisplay.show_dimensions\u001B[39m\u001B[38;5;124m\"\u001B[39m)\n\u001B[1;32m   1027\u001B[0m     formatter \u001B[38;5;241m=\u001B[39m fmt\u001B[38;5;241m.\u001B[39mDataFrameFormatter(\n\u001B[1;32m   1028\u001B[0m         \u001B[38;5;28mself\u001B[39m,\n\u001B[1;32m   1029\u001B[0m         columns\u001B[38;5;241m=\u001B[39m\u001B[38;5;28;01mNone\u001B[39;00m,\n\u001B[0;32m   (...)\u001B[0m\n\u001B[1;32m   1045\u001B[0m         decimal\u001B[38;5;241m=\u001B[39m\u001B[38;5;124m\"\u001B[39m\u001B[38;5;124m.\u001B[39m\u001B[38;5;124m\"\u001B[39m,\n\u001B[1;32m   1046\u001B[0m     )\n\u001B[0;32m-> 1047\u001B[0m     \u001B[38;5;28;01mreturn\u001B[39;00m \u001B[43mfmt\u001B[49m\u001B[38;5;241;43m.\u001B[39;49m\u001B[43mDataFrameRenderer\u001B[49m\u001B[43m(\u001B[49m\u001B[43mformatter\u001B[49m\u001B[43m)\u001B[49m\u001B[38;5;241;43m.\u001B[39;49m\u001B[43mto_html\u001B[49m\u001B[43m(\u001B[49m\u001B[43mnotebook\u001B[49m\u001B[38;5;241;43m=\u001B[39;49m\u001B[38;5;28;43;01mTrue\u001B[39;49;00m\u001B[43m)\u001B[49m\n\u001B[1;32m   1048\u001B[0m \u001B[38;5;28;01melse\u001B[39;00m:\n\u001B[1;32m   1049\u001B[0m     \u001B[38;5;28;01mreturn\u001B[39;00m \u001B[38;5;28;01mNone\u001B[39;00m\n",
      "File \u001B[0;32m~/miniconda3/lib/python3.8/site-packages/pandas/io/formats/format.py:1029\u001B[0m, in \u001B[0;36mDataFrameRenderer.to_html\u001B[0;34m(self, buf, encoding, classes, notebook, border, table_id, render_links)\u001B[0m\n\u001B[1;32m   1020\u001B[0m Klass \u001B[38;5;241m=\u001B[39m NotebookFormatter \u001B[38;5;28;01mif\u001B[39;00m notebook \u001B[38;5;28;01melse\u001B[39;00m HTMLFormatter\n\u001B[1;32m   1022\u001B[0m html_formatter \u001B[38;5;241m=\u001B[39m Klass(\n\u001B[1;32m   1023\u001B[0m     \u001B[38;5;28mself\u001B[39m\u001B[38;5;241m.\u001B[39mfmt,\n\u001B[1;32m   1024\u001B[0m     classes\u001B[38;5;241m=\u001B[39mclasses,\n\u001B[0;32m   (...)\u001B[0m\n\u001B[1;32m   1027\u001B[0m     render_links\u001B[38;5;241m=\u001B[39mrender_links,\n\u001B[1;32m   1028\u001B[0m )\n\u001B[0;32m-> 1029\u001B[0m string \u001B[38;5;241m=\u001B[39m \u001B[43mhtml_formatter\u001B[49m\u001B[38;5;241;43m.\u001B[39;49m\u001B[43mto_string\u001B[49m\u001B[43m(\u001B[49m\u001B[43m)\u001B[49m\n\u001B[1;32m   1030\u001B[0m \u001B[38;5;28;01mreturn\u001B[39;00m save_to_buffer(string, buf\u001B[38;5;241m=\u001B[39mbuf, encoding\u001B[38;5;241m=\u001B[39mencoding)\n",
      "File \u001B[0;32m~/miniconda3/lib/python3.8/site-packages/pandas/io/formats/html.py:72\u001B[0m, in \u001B[0;36mHTMLFormatter.to_string\u001B[0;34m(self)\u001B[0m\n\u001B[1;32m     71\u001B[0m \u001B[38;5;28;01mdef\u001B[39;00m \u001B[38;5;21mto_string\u001B[39m(\u001B[38;5;28mself\u001B[39m) \u001B[38;5;241m-\u001B[39m\u001B[38;5;241m>\u001B[39m \u001B[38;5;28mstr\u001B[39m:\n\u001B[0;32m---> 72\u001B[0m     lines \u001B[38;5;241m=\u001B[39m \u001B[38;5;28;43mself\u001B[39;49m\u001B[38;5;241;43m.\u001B[39;49m\u001B[43mrender\u001B[49m\u001B[43m(\u001B[49m\u001B[43m)\u001B[49m\n\u001B[1;32m     73\u001B[0m     \u001B[38;5;28;01mif\u001B[39;00m \u001B[38;5;28many\u001B[39m(\u001B[38;5;28misinstance\u001B[39m(x, \u001B[38;5;28mstr\u001B[39m) \u001B[38;5;28;01mfor\u001B[39;00m x \u001B[38;5;129;01min\u001B[39;00m lines):\n\u001B[1;32m     74\u001B[0m         lines \u001B[38;5;241m=\u001B[39m [\u001B[38;5;28mstr\u001B[39m(x) \u001B[38;5;28;01mfor\u001B[39;00m x \u001B[38;5;129;01min\u001B[39;00m lines]\n",
      "File \u001B[0;32m~/miniconda3/lib/python3.8/site-packages/pandas/io/formats/html.py:621\u001B[0m, in \u001B[0;36mNotebookFormatter.render\u001B[0;34m(self)\u001B[0m\n\u001B[1;32m    619\u001B[0m \u001B[38;5;28mself\u001B[39m\u001B[38;5;241m.\u001B[39mwrite(\u001B[38;5;124m\"\u001B[39m\u001B[38;5;124m<div>\u001B[39m\u001B[38;5;124m\"\u001B[39m)\n\u001B[1;32m    620\u001B[0m \u001B[38;5;28mself\u001B[39m\u001B[38;5;241m.\u001B[39mwrite_style()\n\u001B[0;32m--> 621\u001B[0m \u001B[38;5;28;43msuper\u001B[39;49m\u001B[43m(\u001B[49m\u001B[43m)\u001B[49m\u001B[38;5;241;43m.\u001B[39;49m\u001B[43mrender\u001B[49m\u001B[43m(\u001B[49m\u001B[43m)\u001B[49m\n\u001B[1;32m    622\u001B[0m \u001B[38;5;28mself\u001B[39m\u001B[38;5;241m.\u001B[39mwrite(\u001B[38;5;124m\"\u001B[39m\u001B[38;5;124m</div>\u001B[39m\u001B[38;5;124m\"\u001B[39m)\n\u001B[1;32m    623\u001B[0m \u001B[38;5;28;01mreturn\u001B[39;00m \u001B[38;5;28mself\u001B[39m\u001B[38;5;241m.\u001B[39melements\n",
      "File \u001B[0;32m~/miniconda3/lib/python3.8/site-packages/pandas/io/formats/html.py:78\u001B[0m, in \u001B[0;36mHTMLFormatter.render\u001B[0;34m(self)\u001B[0m\n\u001B[1;32m     77\u001B[0m \u001B[38;5;28;01mdef\u001B[39;00m \u001B[38;5;21mrender\u001B[39m(\u001B[38;5;28mself\u001B[39m) \u001B[38;5;241m-\u001B[39m\u001B[38;5;241m>\u001B[39m \u001B[38;5;28mlist\u001B[39m[\u001B[38;5;28mstr\u001B[39m]:\n\u001B[0;32m---> 78\u001B[0m     \u001B[38;5;28;43mself\u001B[39;49m\u001B[38;5;241;43m.\u001B[39;49m\u001B[43m_write_table\u001B[49m\u001B[43m(\u001B[49m\u001B[43m)\u001B[49m\n\u001B[1;32m     80\u001B[0m     \u001B[38;5;28;01mif\u001B[39;00m \u001B[38;5;28mself\u001B[39m\u001B[38;5;241m.\u001B[39mshould_show_dimensions:\n\u001B[1;32m     81\u001B[0m         by \u001B[38;5;241m=\u001B[39m \u001B[38;5;28mchr\u001B[39m(\u001B[38;5;241m215\u001B[39m)  \u001B[38;5;66;03m# ×\u001B[39;00m\n",
      "File \u001B[0;32m~/miniconda3/lib/python3.8/site-packages/pandas/io/formats/html.py:248\u001B[0m, in \u001B[0;36mHTMLFormatter._write_table\u001B[0;34m(self, indent)\u001B[0m\n\u001B[1;32m    245\u001B[0m \u001B[38;5;28;01mif\u001B[39;00m \u001B[38;5;28mself\u001B[39m\u001B[38;5;241m.\u001B[39mfmt\u001B[38;5;241m.\u001B[39mheader \u001B[38;5;129;01mor\u001B[39;00m \u001B[38;5;28mself\u001B[39m\u001B[38;5;241m.\u001B[39mshow_row_idx_names:\n\u001B[1;32m    246\u001B[0m     \u001B[38;5;28mself\u001B[39m\u001B[38;5;241m.\u001B[39m_write_header(indent \u001B[38;5;241m+\u001B[39m \u001B[38;5;28mself\u001B[39m\u001B[38;5;241m.\u001B[39mindent_delta)\n\u001B[0;32m--> 248\u001B[0m \u001B[38;5;28;43mself\u001B[39;49m\u001B[38;5;241;43m.\u001B[39;49m\u001B[43m_write_body\u001B[49m\u001B[43m(\u001B[49m\u001B[43mindent\u001B[49m\u001B[43m \u001B[49m\u001B[38;5;241;43m+\u001B[39;49m\u001B[43m \u001B[49m\u001B[38;5;28;43mself\u001B[39;49m\u001B[38;5;241;43m.\u001B[39;49m\u001B[43mindent_delta\u001B[49m\u001B[43m)\u001B[49m\n\u001B[1;32m    250\u001B[0m \u001B[38;5;28mself\u001B[39m\u001B[38;5;241m.\u001B[39mwrite(\u001B[38;5;124m\"\u001B[39m\u001B[38;5;124m</table>\u001B[39m\u001B[38;5;124m\"\u001B[39m, indent)\n",
      "File \u001B[0;32m~/miniconda3/lib/python3.8/site-packages/pandas/io/formats/html.py:395\u001B[0m, in \u001B[0;36mHTMLFormatter._write_body\u001B[0;34m(self, indent)\u001B[0m\n\u001B[1;32m    393\u001B[0m \u001B[38;5;28;01mdef\u001B[39;00m \u001B[38;5;21m_write_body\u001B[39m(\u001B[38;5;28mself\u001B[39m, indent: \u001B[38;5;28mint\u001B[39m) \u001B[38;5;241m-\u001B[39m\u001B[38;5;241m>\u001B[39m \u001B[38;5;28;01mNone\u001B[39;00m:\n\u001B[1;32m    394\u001B[0m     \u001B[38;5;28mself\u001B[39m\u001B[38;5;241m.\u001B[39mwrite(\u001B[38;5;124m\"\u001B[39m\u001B[38;5;124m<tbody>\u001B[39m\u001B[38;5;124m\"\u001B[39m, indent)\n\u001B[0;32m--> 395\u001B[0m     fmt_values \u001B[38;5;241m=\u001B[39m \u001B[38;5;28;43mself\u001B[39;49m\u001B[38;5;241;43m.\u001B[39;49m\u001B[43m_get_formatted_values\u001B[49m\u001B[43m(\u001B[49m\u001B[43m)\u001B[49m\n\u001B[1;32m    397\u001B[0m     \u001B[38;5;66;03m# write values\u001B[39;00m\n\u001B[1;32m    398\u001B[0m     \u001B[38;5;28;01mif\u001B[39;00m \u001B[38;5;28mself\u001B[39m\u001B[38;5;241m.\u001B[39mfmt\u001B[38;5;241m.\u001B[39mindex \u001B[38;5;129;01mand\u001B[39;00m \u001B[38;5;28misinstance\u001B[39m(\u001B[38;5;28mself\u001B[39m\u001B[38;5;241m.\u001B[39mframe\u001B[38;5;241m.\u001B[39mindex, MultiIndex):\n",
      "File \u001B[0;32m~/miniconda3/lib/python3.8/site-packages/pandas/io/formats/html.py:585\u001B[0m, in \u001B[0;36mNotebookFormatter._get_formatted_values\u001B[0;34m(self)\u001B[0m\n\u001B[1;32m    584\u001B[0m \u001B[38;5;28;01mdef\u001B[39;00m \u001B[38;5;21m_get_formatted_values\u001B[39m(\u001B[38;5;28mself\u001B[39m) \u001B[38;5;241m-\u001B[39m\u001B[38;5;241m>\u001B[39m \u001B[38;5;28mdict\u001B[39m[\u001B[38;5;28mint\u001B[39m, \u001B[38;5;28mlist\u001B[39m[\u001B[38;5;28mstr\u001B[39m]]:\n\u001B[0;32m--> 585\u001B[0m     \u001B[38;5;28;01mreturn\u001B[39;00m {i: \u001B[38;5;28mself\u001B[39m\u001B[38;5;241m.\u001B[39mfmt\u001B[38;5;241m.\u001B[39mformat_col(i) \u001B[38;5;28;01mfor\u001B[39;00m i \u001B[38;5;129;01min\u001B[39;00m \u001B[38;5;28mrange\u001B[39m(\u001B[38;5;28mself\u001B[39m\u001B[38;5;241m.\u001B[39mncols)}\n",
      "File \u001B[0;32m~/miniconda3/lib/python3.8/site-packages/pandas/io/formats/html.py:585\u001B[0m, in \u001B[0;36m<dictcomp>\u001B[0;34m(.0)\u001B[0m\n\u001B[1;32m    584\u001B[0m \u001B[38;5;28;01mdef\u001B[39;00m \u001B[38;5;21m_get_formatted_values\u001B[39m(\u001B[38;5;28mself\u001B[39m) \u001B[38;5;241m-\u001B[39m\u001B[38;5;241m>\u001B[39m \u001B[38;5;28mdict\u001B[39m[\u001B[38;5;28mint\u001B[39m, \u001B[38;5;28mlist\u001B[39m[\u001B[38;5;28mstr\u001B[39m]]:\n\u001B[0;32m--> 585\u001B[0m     \u001B[38;5;28;01mreturn\u001B[39;00m {i: \u001B[38;5;28;43mself\u001B[39;49m\u001B[38;5;241;43m.\u001B[39;49m\u001B[43mfmt\u001B[49m\u001B[38;5;241;43m.\u001B[39;49m\u001B[43mformat_col\u001B[49m\u001B[43m(\u001B[49m\u001B[43mi\u001B[49m\u001B[43m)\u001B[49m \u001B[38;5;28;01mfor\u001B[39;00m i \u001B[38;5;129;01min\u001B[39;00m \u001B[38;5;28mrange\u001B[39m(\u001B[38;5;28mself\u001B[39m\u001B[38;5;241m.\u001B[39mncols)}\n",
      "File \u001B[0;32m~/miniconda3/lib/python3.8/site-packages/pandas/io/formats/format.py:818\u001B[0m, in \u001B[0;36mDataFrameFormatter.format_col\u001B[0;34m(self, i)\u001B[0m\n\u001B[1;32m    816\u001B[0m frame \u001B[38;5;241m=\u001B[39m \u001B[38;5;28mself\u001B[39m\u001B[38;5;241m.\u001B[39mtr_frame\n\u001B[1;32m    817\u001B[0m formatter \u001B[38;5;241m=\u001B[39m \u001B[38;5;28mself\u001B[39m\u001B[38;5;241m.\u001B[39m_get_formatter(i)\n\u001B[0;32m--> 818\u001B[0m \u001B[38;5;28;01mreturn\u001B[39;00m \u001B[43mformat_array\u001B[49m\u001B[43m(\u001B[49m\n\u001B[1;32m    819\u001B[0m \u001B[43m    \u001B[49m\u001B[43mframe\u001B[49m\u001B[38;5;241;43m.\u001B[39;49m\u001B[43miloc\u001B[49m\u001B[43m[\u001B[49m\u001B[43m:\u001B[49m\u001B[43m,\u001B[49m\u001B[43m \u001B[49m\u001B[43mi\u001B[49m\u001B[43m]\u001B[49m\u001B[38;5;241;43m.\u001B[39;49m\u001B[43m_values\u001B[49m\u001B[43m,\u001B[49m\n\u001B[1;32m    820\u001B[0m \u001B[43m    \u001B[49m\u001B[43mformatter\u001B[49m\u001B[43m,\u001B[49m\n\u001B[1;32m    821\u001B[0m \u001B[43m    \u001B[49m\u001B[43mfloat_format\u001B[49m\u001B[38;5;241;43m=\u001B[39;49m\u001B[38;5;28;43mself\u001B[39;49m\u001B[38;5;241;43m.\u001B[39;49m\u001B[43mfloat_format\u001B[49m\u001B[43m,\u001B[49m\n\u001B[1;32m    822\u001B[0m \u001B[43m    \u001B[49m\u001B[43mna_rep\u001B[49m\u001B[38;5;241;43m=\u001B[39;49m\u001B[38;5;28;43mself\u001B[39;49m\u001B[38;5;241;43m.\u001B[39;49m\u001B[43mna_rep\u001B[49m\u001B[43m,\u001B[49m\n\u001B[1;32m    823\u001B[0m \u001B[43m    \u001B[49m\u001B[43mspace\u001B[49m\u001B[38;5;241;43m=\u001B[39;49m\u001B[38;5;28;43mself\u001B[39;49m\u001B[38;5;241;43m.\u001B[39;49m\u001B[43mcol_space\u001B[49m\u001B[38;5;241;43m.\u001B[39;49m\u001B[43mget\u001B[49m\u001B[43m(\u001B[49m\u001B[43mframe\u001B[49m\u001B[38;5;241;43m.\u001B[39;49m\u001B[43mcolumns\u001B[49m\u001B[43m[\u001B[49m\u001B[43mi\u001B[49m\u001B[43m]\u001B[49m\u001B[43m)\u001B[49m\u001B[43m,\u001B[49m\n\u001B[1;32m    824\u001B[0m \u001B[43m    \u001B[49m\u001B[43mdecimal\u001B[49m\u001B[38;5;241;43m=\u001B[39;49m\u001B[38;5;28;43mself\u001B[39;49m\u001B[38;5;241;43m.\u001B[39;49m\u001B[43mdecimal\u001B[49m\u001B[43m,\u001B[49m\n\u001B[1;32m    825\u001B[0m \u001B[43m    \u001B[49m\u001B[43mleading_space\u001B[49m\u001B[38;5;241;43m=\u001B[39;49m\u001B[38;5;28;43mself\u001B[39;49m\u001B[38;5;241;43m.\u001B[39;49m\u001B[43mindex\u001B[49m\u001B[43m,\u001B[49m\n\u001B[1;32m    826\u001B[0m \u001B[43m\u001B[49m\u001B[43m)\u001B[49m\n",
      "File \u001B[0;32m~/miniconda3/lib/python3.8/site-packages/pandas/io/formats/format.py:1240\u001B[0m, in \u001B[0;36mformat_array\u001B[0;34m(values, formatter, float_format, na_rep, digits, space, justify, decimal, leading_space, quoting)\u001B[0m\n\u001B[1;32m   1225\u001B[0m     digits \u001B[38;5;241m=\u001B[39m get_option(\u001B[38;5;124m\"\u001B[39m\u001B[38;5;124mdisplay.precision\u001B[39m\u001B[38;5;124m\"\u001B[39m)\n\u001B[1;32m   1227\u001B[0m fmt_obj \u001B[38;5;241m=\u001B[39m fmt_klass(\n\u001B[1;32m   1228\u001B[0m     values,\n\u001B[1;32m   1229\u001B[0m     digits\u001B[38;5;241m=\u001B[39mdigits,\n\u001B[0;32m   (...)\u001B[0m\n\u001B[1;32m   1237\u001B[0m     quoting\u001B[38;5;241m=\u001B[39mquoting,\n\u001B[1;32m   1238\u001B[0m )\n\u001B[0;32m-> 1240\u001B[0m \u001B[38;5;28;01mreturn\u001B[39;00m \u001B[43mfmt_obj\u001B[49m\u001B[38;5;241;43m.\u001B[39;49m\u001B[43mget_result\u001B[49m\u001B[43m(\u001B[49m\u001B[43m)\u001B[49m\n",
      "File \u001B[0;32m~/miniconda3/lib/python3.8/site-packages/pandas/io/formats/format.py:1271\u001B[0m, in \u001B[0;36mGenericArrayFormatter.get_result\u001B[0;34m(self)\u001B[0m\n\u001B[1;32m   1270\u001B[0m \u001B[38;5;28;01mdef\u001B[39;00m \u001B[38;5;21mget_result\u001B[39m(\u001B[38;5;28mself\u001B[39m) \u001B[38;5;241m-\u001B[39m\u001B[38;5;241m>\u001B[39m \u001B[38;5;28mlist\u001B[39m[\u001B[38;5;28mstr\u001B[39m]:\n\u001B[0;32m-> 1271\u001B[0m     fmt_values \u001B[38;5;241m=\u001B[39m \u001B[38;5;28;43mself\u001B[39;49m\u001B[38;5;241;43m.\u001B[39;49m\u001B[43m_format_strings\u001B[49m\u001B[43m(\u001B[49m\u001B[43m)\u001B[49m\n\u001B[1;32m   1272\u001B[0m     \u001B[38;5;28;01mreturn\u001B[39;00m _make_fixed_width(fmt_values, \u001B[38;5;28mself\u001B[39m\u001B[38;5;241m.\u001B[39mjustify)\n",
      "File \u001B[0;32m~/miniconda3/lib/python3.8/site-packages/pandas/io/formats/format.py:1528\u001B[0m, in \u001B[0;36mIntArrayFormatter._format_strings\u001B[0;34m(self)\u001B[0m\n\u001B[1;32m   1526\u001B[0m     formatter_str \u001B[38;5;241m=\u001B[39m \u001B[38;5;28;01mlambda\u001B[39;00m x: \u001B[38;5;124mf\u001B[39m\u001B[38;5;124m\"\u001B[39m\u001B[38;5;132;01m{\u001B[39;00mx\u001B[38;5;132;01m:\u001B[39;00m\u001B[38;5;124m d\u001B[39m\u001B[38;5;132;01m}\u001B[39;00m\u001B[38;5;124m\"\u001B[39m\u001B[38;5;241m.\u001B[39mformat(x\u001B[38;5;241m=\u001B[39mx)\n\u001B[1;32m   1527\u001B[0m formatter \u001B[38;5;241m=\u001B[39m \u001B[38;5;28mself\u001B[39m\u001B[38;5;241m.\u001B[39mformatter \u001B[38;5;129;01mor\u001B[39;00m formatter_str\n\u001B[0;32m-> 1528\u001B[0m fmt_values \u001B[38;5;241m=\u001B[39m [formatter(x) \u001B[38;5;28;01mfor\u001B[39;00m x \u001B[38;5;129;01min\u001B[39;00m \u001B[38;5;28mself\u001B[39m\u001B[38;5;241m.\u001B[39mvalues]\n\u001B[1;32m   1529\u001B[0m \u001B[38;5;28;01mreturn\u001B[39;00m fmt_values\n",
      "File \u001B[0;32m~/miniconda3/lib/python3.8/site-packages/pandas/io/formats/format.py:1528\u001B[0m, in \u001B[0;36m<listcomp>\u001B[0;34m(.0)\u001B[0m\n\u001B[1;32m   1526\u001B[0m     formatter_str \u001B[38;5;241m=\u001B[39m \u001B[38;5;28;01mlambda\u001B[39;00m x: \u001B[38;5;124mf\u001B[39m\u001B[38;5;124m\"\u001B[39m\u001B[38;5;132;01m{\u001B[39;00mx\u001B[38;5;132;01m:\u001B[39;00m\u001B[38;5;124m d\u001B[39m\u001B[38;5;132;01m}\u001B[39;00m\u001B[38;5;124m\"\u001B[39m\u001B[38;5;241m.\u001B[39mformat(x\u001B[38;5;241m=\u001B[39mx)\n\u001B[1;32m   1527\u001B[0m formatter \u001B[38;5;241m=\u001B[39m \u001B[38;5;28mself\u001B[39m\u001B[38;5;241m.\u001B[39mformatter \u001B[38;5;129;01mor\u001B[39;00m formatter_str\n\u001B[0;32m-> 1528\u001B[0m fmt_values \u001B[38;5;241m=\u001B[39m [\u001B[43mformatter\u001B[49m\u001B[43m(\u001B[49m\u001B[43mx\u001B[49m\u001B[43m)\u001B[49m \u001B[38;5;28;01mfor\u001B[39;00m x \u001B[38;5;129;01min\u001B[39;00m \u001B[38;5;28mself\u001B[39m\u001B[38;5;241m.\u001B[39mvalues]\n\u001B[1;32m   1529\u001B[0m \u001B[38;5;28;01mreturn\u001B[39;00m fmt_values\n",
      "File \u001B[0;32m~/miniconda3/lib/python3.8/site-packages/pandas/io/formats/format.py:1526\u001B[0m, in \u001B[0;36mIntArrayFormatter._format_strings.<locals>.<lambda>\u001B[0;34m(x)\u001B[0m\n\u001B[1;32m   1524\u001B[0m     formatter_str \u001B[38;5;241m=\u001B[39m \u001B[38;5;28;01mlambda\u001B[39;00m x: \u001B[38;5;124mf\u001B[39m\u001B[38;5;124m\"\u001B[39m\u001B[38;5;132;01m{\u001B[39;00mx\u001B[38;5;132;01m:\u001B[39;00m\u001B[38;5;124md\u001B[39m\u001B[38;5;132;01m}\u001B[39;00m\u001B[38;5;124m\"\u001B[39m\u001B[38;5;241m.\u001B[39mformat(x\u001B[38;5;241m=\u001B[39mx)\n\u001B[1;32m   1525\u001B[0m \u001B[38;5;28;01melse\u001B[39;00m:\n\u001B[0;32m-> 1526\u001B[0m     formatter_str \u001B[38;5;241m=\u001B[39m \u001B[38;5;28;01mlambda\u001B[39;00m x: \u001B[38;5;124mf\u001B[39m\u001B[38;5;124m\"\u001B[39m\u001B[38;5;132;01m{\u001B[39;00mx\u001B[38;5;132;01m:\u001B[39;00m\u001B[38;5;124m d\u001B[39m\u001B[38;5;132;01m}\u001B[39;00m\u001B[38;5;124m\"\u001B[39m\u001B[38;5;241m.\u001B[39mformat(x\u001B[38;5;241m=\u001B[39mx)\n\u001B[1;32m   1527\u001B[0m formatter \u001B[38;5;241m=\u001B[39m \u001B[38;5;28mself\u001B[39m\u001B[38;5;241m.\u001B[39mformatter \u001B[38;5;129;01mor\u001B[39;00m formatter_str\n\u001B[1;32m   1528\u001B[0m fmt_values \u001B[38;5;241m=\u001B[39m [formatter(x) \u001B[38;5;28;01mfor\u001B[39;00m x \u001B[38;5;129;01min\u001B[39;00m \u001B[38;5;28mself\u001B[39m\u001B[38;5;241m.\u001B[39mvalues]\n",
      "\u001B[0;31mTypeError\u001B[0m: unsupported format string passed to matrix.__format__"
     ]
    }
   ],
   "source": [
    "data.head()"
   ]
  },
  {
   "cell_type": "code",
   "execution_count": 62,
   "metadata": {
    "colab": {
     "base_uri": "https://localhost:8080/",
     "height": 234
    },
    "id": "9Kzbj-lpdut8",
    "outputId": "415eb301-0407-4de7-a574-21547726255b",
    "pycharm": {
     "name": "#%%\n"
    }
   },
   "outputs": [
    {
     "ename": "AssertionError",
     "evalue": "0",
     "output_type": "error",
     "traceback": [
      "\u001B[0;31m---------------------------------------------------------------------------\u001B[0m",
      "\u001B[0;31mAssertionError\u001B[0m                            Traceback (most recent call last)",
      "Input \u001B[0;32mIn [62]\u001B[0m, in \u001B[0;36m<cell line: 2>\u001B[0;34m()\u001B[0m\n\u001B[1;32m      1\u001B[0m \u001B[38;5;66;03m# aggregate at the firm level\u001B[39;00m\n\u001B[0;32m----> 2\u001B[0m data_agg \u001B[38;5;241m=\u001B[39m \u001B[43mdata\u001B[49m\u001B[38;5;241;43m.\u001B[39;49m\u001B[43mgroupby\u001B[49m\u001B[43m(\u001B[49m\u001B[43m[\u001B[49m\u001B[38;5;124;43m'\u001B[39;49m\u001B[38;5;124;43mcik\u001B[39;49m\u001B[38;5;124;43m'\u001B[39;49m\u001B[43m]\u001B[49m\u001B[43m,\u001B[49m\u001B[43m \u001B[49m\u001B[43mas_index\u001B[49m\u001B[38;5;241;43m=\u001B[39;49m\u001B[38;5;28;43;01mFalse\u001B[39;49;00m\u001B[43m)\u001B[49m\u001B[38;5;241;43m.\u001B[39;49m\u001B[43magg\u001B[49m\u001B[43m(\u001B[49m\u001B[43m{\u001B[49m\u001B[38;5;124;43m'\u001B[39;49m\u001B[38;5;124;43mtaxes_counts\u001B[39;49m\u001B[38;5;124;43m'\u001B[39;49m\u001B[43m:\u001B[49m\u001B[43m \u001B[49m\u001B[38;5;124;43m'\u001B[39;49m\u001B[38;5;124;43msum\u001B[39;49m\u001B[38;5;124;43m'\u001B[39;49m\u001B[43m,\u001B[49m\u001B[43m \u001B[49m\u001B[38;5;124;43m'\u001B[39;49m\u001B[38;5;124;43mcommodity_counts\u001B[39;49m\u001B[38;5;124;43m'\u001B[39;49m\u001B[43m:\u001B[49m\u001B[43m \u001B[49m\u001B[38;5;124;43m'\u001B[39;49m\u001B[38;5;124;43msum\u001B[39;49m\u001B[38;5;124;43m'\u001B[39;49m\u001B[43m,\u001B[49m\u001B[43m \u001B[49m\u001B[38;5;124;43m'\u001B[39;49m\u001B[38;5;124;43mreg_finance_counts\u001B[39;49m\u001B[38;5;124;43m'\u001B[39;49m\u001B[43m:\u001B[49m\u001B[43m \u001B[49m\u001B[38;5;124;43m'\u001B[39;49m\u001B[38;5;124;43msum\u001B[39;49m\u001B[38;5;124;43m'\u001B[39;49m\u001B[43m,\u001B[49m\u001B[43m \u001B[49m\n\u001B[1;32m      3\u001B[0m \u001B[43m                                                      \u001B[49m\u001B[38;5;124;43m'\u001B[39;49m\u001B[38;5;124;43mhealthcare_counts\u001B[39;49m\u001B[38;5;124;43m'\u001B[39;49m\u001B[43m:\u001B[49m\u001B[43m \u001B[49m\u001B[38;5;124;43m'\u001B[39;49m\u001B[38;5;124;43msum\u001B[39;49m\u001B[38;5;124;43m'\u001B[39;49m\u001B[43m,\u001B[49m\u001B[43m \u001B[49m\u001B[38;5;124;43m'\u001B[39;49m\u001B[38;5;124;43mmonetary_counts\u001B[39;49m\u001B[38;5;124;43m'\u001B[39;49m\u001B[43m:\u001B[49m\u001B[43m \u001B[49m\u001B[38;5;124;43m'\u001B[39;49m\u001B[38;5;124;43msum\u001B[39;49m\u001B[38;5;124;43m'\u001B[39;49m\u001B[43m}\u001B[49m\u001B[43m)\u001B[49m\n\u001B[1;32m      4\u001B[0m \u001B[38;5;28mprint\u001B[39m(data_agg\u001B[38;5;241m.\u001B[39mshape)\n\u001B[1;32m      5\u001B[0m data_agg\u001B[38;5;241m.\u001B[39mhead()\n",
      "File \u001B[0;32m~/miniconda3/lib/python3.8/site-packages/pandas/core/groupby/generic.py:979\u001B[0m, in \u001B[0;36mDataFrameGroupBy.aggregate\u001B[0;34m(self, func, engine, engine_kwargs, *args, **kwargs)\u001B[0m\n\u001B[1;32m    976\u001B[0m func \u001B[38;5;241m=\u001B[39m maybe_mangle_lambdas(func)\n\u001B[1;32m    978\u001B[0m op \u001B[38;5;241m=\u001B[39m GroupByApply(\u001B[38;5;28mself\u001B[39m, func, args, kwargs)\n\u001B[0;32m--> 979\u001B[0m result \u001B[38;5;241m=\u001B[39m \u001B[43mop\u001B[49m\u001B[38;5;241;43m.\u001B[39;49m\u001B[43magg\u001B[49m\u001B[43m(\u001B[49m\u001B[43m)\u001B[49m\n\u001B[1;32m    980\u001B[0m \u001B[38;5;28;01mif\u001B[39;00m \u001B[38;5;129;01mnot\u001B[39;00m is_dict_like(func) \u001B[38;5;129;01mand\u001B[39;00m result \u001B[38;5;129;01mis\u001B[39;00m \u001B[38;5;129;01mnot\u001B[39;00m \u001B[38;5;28;01mNone\u001B[39;00m:\n\u001B[1;32m    981\u001B[0m     \u001B[38;5;28;01mreturn\u001B[39;00m result\n",
      "File \u001B[0;32m~/miniconda3/lib/python3.8/site-packages/pandas/core/apply.py:161\u001B[0m, in \u001B[0;36mApply.agg\u001B[0;34m(self)\u001B[0m\n\u001B[1;32m    158\u001B[0m     \u001B[38;5;28;01mreturn\u001B[39;00m \u001B[38;5;28mself\u001B[39m\u001B[38;5;241m.\u001B[39mapply_str()\n\u001B[1;32m    160\u001B[0m \u001B[38;5;28;01mif\u001B[39;00m is_dict_like(arg):\n\u001B[0;32m--> 161\u001B[0m     \u001B[38;5;28;01mreturn\u001B[39;00m \u001B[38;5;28;43mself\u001B[39;49m\u001B[38;5;241;43m.\u001B[39;49m\u001B[43magg_dict_like\u001B[49m\u001B[43m(\u001B[49m\u001B[43m)\u001B[49m\n\u001B[1;32m    162\u001B[0m \u001B[38;5;28;01melif\u001B[39;00m is_list_like(arg):\n\u001B[1;32m    163\u001B[0m     \u001B[38;5;66;03m# we require a list, but not a 'str'\u001B[39;00m\n\u001B[1;32m    164\u001B[0m     \u001B[38;5;28;01mreturn\u001B[39;00m \u001B[38;5;28mself\u001B[39m\u001B[38;5;241m.\u001B[39magg_list_like()\n",
      "File \u001B[0;32m~/miniconda3/lib/python3.8/site-packages/pandas/core/apply.py:435\u001B[0m, in \u001B[0;36mApply.agg_dict_like\u001B[0;34m(self)\u001B[0m\n\u001B[1;32m    432\u001B[0m     results \u001B[38;5;241m=\u001B[39m {key: colg\u001B[38;5;241m.\u001B[39magg(how) \u001B[38;5;28;01mfor\u001B[39;00m key, how \u001B[38;5;129;01min\u001B[39;00m arg\u001B[38;5;241m.\u001B[39mitems()}\n\u001B[1;32m    433\u001B[0m \u001B[38;5;28;01melse\u001B[39;00m:\n\u001B[1;32m    434\u001B[0m     \u001B[38;5;66;03m# key used for column selection and output\u001B[39;00m\n\u001B[0;32m--> 435\u001B[0m     results \u001B[38;5;241m=\u001B[39m {\n\u001B[1;32m    436\u001B[0m         key: obj\u001B[38;5;241m.\u001B[39m_gotitem(key, ndim\u001B[38;5;241m=\u001B[39m\u001B[38;5;241m1\u001B[39m)\u001B[38;5;241m.\u001B[39magg(how) \u001B[38;5;28;01mfor\u001B[39;00m key, how \u001B[38;5;129;01min\u001B[39;00m arg\u001B[38;5;241m.\u001B[39mitems()\n\u001B[1;32m    437\u001B[0m     }\n\u001B[1;32m    439\u001B[0m \u001B[38;5;66;03m# set the final keys\u001B[39;00m\n\u001B[1;32m    440\u001B[0m keys \u001B[38;5;241m=\u001B[39m \u001B[38;5;28mlist\u001B[39m(arg\u001B[38;5;241m.\u001B[39mkeys())\n",
      "File \u001B[0;32m~/miniconda3/lib/python3.8/site-packages/pandas/core/apply.py:436\u001B[0m, in \u001B[0;36m<dictcomp>\u001B[0;34m(.0)\u001B[0m\n\u001B[1;32m    432\u001B[0m     results \u001B[38;5;241m=\u001B[39m {key: colg\u001B[38;5;241m.\u001B[39magg(how) \u001B[38;5;28;01mfor\u001B[39;00m key, how \u001B[38;5;129;01min\u001B[39;00m arg\u001B[38;5;241m.\u001B[39mitems()}\n\u001B[1;32m    433\u001B[0m \u001B[38;5;28;01melse\u001B[39;00m:\n\u001B[1;32m    434\u001B[0m     \u001B[38;5;66;03m# key used for column selection and output\u001B[39;00m\n\u001B[1;32m    435\u001B[0m     results \u001B[38;5;241m=\u001B[39m {\n\u001B[0;32m--> 436\u001B[0m         key: \u001B[43mobj\u001B[49m\u001B[38;5;241;43m.\u001B[39;49m\u001B[43m_gotitem\u001B[49m\u001B[43m(\u001B[49m\u001B[43mkey\u001B[49m\u001B[43m,\u001B[49m\u001B[43m \u001B[49m\u001B[43mndim\u001B[49m\u001B[38;5;241;43m=\u001B[39;49m\u001B[38;5;241;43m1\u001B[39;49m\u001B[43m)\u001B[49m\u001B[38;5;241;43m.\u001B[39;49m\u001B[43magg\u001B[49m\u001B[43m(\u001B[49m\u001B[43mhow\u001B[49m\u001B[43m)\u001B[49m \u001B[38;5;28;01mfor\u001B[39;00m key, how \u001B[38;5;129;01min\u001B[39;00m arg\u001B[38;5;241m.\u001B[39mitems()\n\u001B[1;32m    437\u001B[0m     }\n\u001B[1;32m    439\u001B[0m \u001B[38;5;66;03m# set the final keys\u001B[39;00m\n\u001B[1;32m    440\u001B[0m keys \u001B[38;5;241m=\u001B[39m \u001B[38;5;28mlist\u001B[39m(arg\u001B[38;5;241m.\u001B[39mkeys())\n",
      "File \u001B[0;32m~/miniconda3/lib/python3.8/site-packages/pandas/core/groupby/generic.py:243\u001B[0m, in \u001B[0;36mSeriesGroupBy.aggregate\u001B[0;34m(self, func, engine, engine_kwargs, *args, **kwargs)\u001B[0m\n\u001B[1;32m    240\u001B[0m     kwargs \u001B[38;5;241m=\u001B[39m {}\n\u001B[1;32m    242\u001B[0m \u001B[38;5;28;01mif\u001B[39;00m \u001B[38;5;28misinstance\u001B[39m(func, \u001B[38;5;28mstr\u001B[39m):\n\u001B[0;32m--> 243\u001B[0m     \u001B[38;5;28;01mreturn\u001B[39;00m \u001B[38;5;28;43mgetattr\u001B[39;49m\u001B[43m(\u001B[49m\u001B[38;5;28;43mself\u001B[39;49m\u001B[43m,\u001B[49m\u001B[43m \u001B[49m\u001B[43mfunc\u001B[49m\u001B[43m)\u001B[49m\u001B[43m(\u001B[49m\u001B[38;5;241;43m*\u001B[39;49m\u001B[43margs\u001B[49m\u001B[43m,\u001B[49m\u001B[43m \u001B[49m\u001B[38;5;241;43m*\u001B[39;49m\u001B[38;5;241;43m*\u001B[39;49m\u001B[43mkwargs\u001B[49m\u001B[43m)\u001B[49m\n\u001B[1;32m    245\u001B[0m \u001B[38;5;28;01melif\u001B[39;00m \u001B[38;5;28misinstance\u001B[39m(func, abc\u001B[38;5;241m.\u001B[39mIterable):\n\u001B[1;32m    246\u001B[0m     \u001B[38;5;66;03m# Catch instances of lists / tuples\u001B[39;00m\n\u001B[1;32m    247\u001B[0m     \u001B[38;5;66;03m# but not the class list / tuple itself.\u001B[39;00m\n\u001B[1;32m    248\u001B[0m     func \u001B[38;5;241m=\u001B[39m maybe_mangle_lambdas(func)\n",
      "File \u001B[0;32m~/miniconda3/lib/python3.8/site-packages/pandas/core/groupby/groupby.py:1827\u001B[0m, in \u001B[0;36mGroupBy.sum\u001B[0;34m(self, numeric_only, min_count)\u001B[0m\n\u001B[1;32m   1823\u001B[0m \u001B[38;5;66;03m# If we are grouping on categoricals we want unobserved categories to\u001B[39;00m\n\u001B[1;32m   1824\u001B[0m \u001B[38;5;66;03m# return zero, rather than the default of NaN which the reindexing in\u001B[39;00m\n\u001B[1;32m   1825\u001B[0m \u001B[38;5;66;03m# _agg_general() returns. GH #31422\u001B[39;00m\n\u001B[1;32m   1826\u001B[0m \u001B[38;5;28;01mwith\u001B[39;00m com\u001B[38;5;241m.\u001B[39mtemp_setattr(\u001B[38;5;28mself\u001B[39m, \u001B[38;5;124m\"\u001B[39m\u001B[38;5;124mobserved\u001B[39m\u001B[38;5;124m\"\u001B[39m, \u001B[38;5;28;01mTrue\u001B[39;00m):\n\u001B[0;32m-> 1827\u001B[0m     result \u001B[38;5;241m=\u001B[39m \u001B[38;5;28;43mself\u001B[39;49m\u001B[38;5;241;43m.\u001B[39;49m\u001B[43m_agg_general\u001B[49m\u001B[43m(\u001B[49m\n\u001B[1;32m   1828\u001B[0m \u001B[43m        \u001B[49m\u001B[43mnumeric_only\u001B[49m\u001B[38;5;241;43m=\u001B[39;49m\u001B[43mnumeric_only\u001B[49m\u001B[43m,\u001B[49m\n\u001B[1;32m   1829\u001B[0m \u001B[43m        \u001B[49m\u001B[43mmin_count\u001B[49m\u001B[38;5;241;43m=\u001B[39;49m\u001B[43mmin_count\u001B[49m\u001B[43m,\u001B[49m\n\u001B[1;32m   1830\u001B[0m \u001B[43m        \u001B[49m\u001B[43malias\u001B[49m\u001B[38;5;241;43m=\u001B[39;49m\u001B[38;5;124;43m\"\u001B[39;49m\u001B[38;5;124;43madd\u001B[39;49m\u001B[38;5;124;43m\"\u001B[39;49m\u001B[43m,\u001B[49m\n\u001B[1;32m   1831\u001B[0m \u001B[43m        \u001B[49m\u001B[43mnpfunc\u001B[49m\u001B[38;5;241;43m=\u001B[39;49m\u001B[43mnp\u001B[49m\u001B[38;5;241;43m.\u001B[39;49m\u001B[43msum\u001B[49m\u001B[43m,\u001B[49m\n\u001B[1;32m   1832\u001B[0m \u001B[43m    \u001B[49m\u001B[43m)\u001B[49m\n\u001B[1;32m   1834\u001B[0m \u001B[38;5;28;01mreturn\u001B[39;00m \u001B[38;5;28mself\u001B[39m\u001B[38;5;241m.\u001B[39m_reindex_output(result, fill_value\u001B[38;5;241m=\u001B[39m\u001B[38;5;241m0\u001B[39m)\n",
      "File \u001B[0;32m~/miniconda3/lib/python3.8/site-packages/pandas/core/groupby/groupby.py:1342\u001B[0m, in \u001B[0;36mGroupBy._agg_general\u001B[0;34m(self, numeric_only, min_count, alias, npfunc)\u001B[0m\n\u001B[1;32m   1330\u001B[0m \u001B[38;5;129m@final\u001B[39m\n\u001B[1;32m   1331\u001B[0m \u001B[38;5;28;01mdef\u001B[39;00m \u001B[38;5;21m_agg_general\u001B[39m(\n\u001B[1;32m   1332\u001B[0m     \u001B[38;5;28mself\u001B[39m,\n\u001B[0;32m   (...)\u001B[0m\n\u001B[1;32m   1337\u001B[0m     npfunc: Callable,\n\u001B[1;32m   1338\u001B[0m ):\n\u001B[1;32m   1340\u001B[0m     \u001B[38;5;28;01mwith\u001B[39;00m group_selection_context(\u001B[38;5;28mself\u001B[39m):\n\u001B[1;32m   1341\u001B[0m         \u001B[38;5;66;03m# try a cython aggregation if we can\u001B[39;00m\n\u001B[0;32m-> 1342\u001B[0m         result \u001B[38;5;241m=\u001B[39m \u001B[38;5;28;43mself\u001B[39;49m\u001B[38;5;241;43m.\u001B[39;49m\u001B[43m_cython_agg_general\u001B[49m\u001B[43m(\u001B[49m\n\u001B[1;32m   1343\u001B[0m \u001B[43m            \u001B[49m\u001B[43mhow\u001B[49m\u001B[38;5;241;43m=\u001B[39;49m\u001B[43malias\u001B[49m\u001B[43m,\u001B[49m\n\u001B[1;32m   1344\u001B[0m \u001B[43m            \u001B[49m\u001B[43malt\u001B[49m\u001B[38;5;241;43m=\u001B[39;49m\u001B[43mnpfunc\u001B[49m\u001B[43m,\u001B[49m\n\u001B[1;32m   1345\u001B[0m \u001B[43m            \u001B[49m\u001B[43mnumeric_only\u001B[49m\u001B[38;5;241;43m=\u001B[39;49m\u001B[43mnumeric_only\u001B[49m\u001B[43m,\u001B[49m\n\u001B[1;32m   1346\u001B[0m \u001B[43m            \u001B[49m\u001B[43mmin_count\u001B[49m\u001B[38;5;241;43m=\u001B[39;49m\u001B[43mmin_count\u001B[49m\u001B[43m,\u001B[49m\n\u001B[1;32m   1347\u001B[0m \u001B[43m        \u001B[49m\u001B[43m)\u001B[49m\n\u001B[1;32m   1348\u001B[0m         \u001B[38;5;28;01mreturn\u001B[39;00m result\u001B[38;5;241m.\u001B[39m__finalize__(\u001B[38;5;28mself\u001B[39m\u001B[38;5;241m.\u001B[39mobj, method\u001B[38;5;241m=\u001B[39m\u001B[38;5;124m\"\u001B[39m\u001B[38;5;124mgroupby\u001B[39m\u001B[38;5;124m\"\u001B[39m)\n",
      "File \u001B[0;32m~/miniconda3/lib/python3.8/site-packages/pandas/core/groupby/generic.py:352\u001B[0m, in \u001B[0;36mSeriesGroupBy._cython_agg_general\u001B[0;34m(self, how, alt, numeric_only, min_count)\u001B[0m\n\u001B[1;32m    348\u001B[0m         result \u001B[38;5;241m=\u001B[39m \u001B[38;5;28mself\u001B[39m\u001B[38;5;241m.\u001B[39m_agg_py_fallback(values, ndim\u001B[38;5;241m=\u001B[39mdata\u001B[38;5;241m.\u001B[39mndim, alt\u001B[38;5;241m=\u001B[39malt)\n\u001B[1;32m    350\u001B[0m     \u001B[38;5;28;01mreturn\u001B[39;00m result\n\u001B[0;32m--> 352\u001B[0m result \u001B[38;5;241m=\u001B[39m \u001B[43marray_func\u001B[49m\u001B[43m(\u001B[49m\u001B[43mobjvals\u001B[49m\u001B[43m)\u001B[49m\n\u001B[1;32m    354\u001B[0m ser \u001B[38;5;241m=\u001B[39m \u001B[38;5;28mself\u001B[39m\u001B[38;5;241m.\u001B[39mobj\u001B[38;5;241m.\u001B[39m_constructor(\n\u001B[1;32m    355\u001B[0m     result, index\u001B[38;5;241m=\u001B[39m\u001B[38;5;28mself\u001B[39m\u001B[38;5;241m.\u001B[39mgrouper\u001B[38;5;241m.\u001B[39mresult_index, name\u001B[38;5;241m=\u001B[39mobj\u001B[38;5;241m.\u001B[39mname\n\u001B[1;32m    356\u001B[0m )\n\u001B[1;32m    357\u001B[0m \u001B[38;5;28;01mreturn\u001B[39;00m \u001B[38;5;28mself\u001B[39m\u001B[38;5;241m.\u001B[39m_reindex_output(ser)\n",
      "File \u001B[0;32m~/miniconda3/lib/python3.8/site-packages/pandas/core/groupby/generic.py:340\u001B[0m, in \u001B[0;36mSeriesGroupBy._cython_agg_general.<locals>.array_func\u001B[0;34m(values)\u001B[0m\n\u001B[1;32m    338\u001B[0m \u001B[38;5;28;01mdef\u001B[39;00m \u001B[38;5;21marray_func\u001B[39m(values: ArrayLike) \u001B[38;5;241m-\u001B[39m\u001B[38;5;241m>\u001B[39m ArrayLike:\n\u001B[1;32m    339\u001B[0m     \u001B[38;5;28;01mtry\u001B[39;00m:\n\u001B[0;32m--> 340\u001B[0m         result \u001B[38;5;241m=\u001B[39m \u001B[38;5;28;43mself\u001B[39;49m\u001B[38;5;241;43m.\u001B[39;49m\u001B[43mgrouper\u001B[49m\u001B[38;5;241;43m.\u001B[39;49m\u001B[43m_cython_operation\u001B[49m\u001B[43m(\u001B[49m\n\u001B[1;32m    341\u001B[0m \u001B[43m            \u001B[49m\u001B[38;5;124;43m\"\u001B[39;49m\u001B[38;5;124;43maggregate\u001B[39;49m\u001B[38;5;124;43m\"\u001B[39;49m\u001B[43m,\u001B[49m\u001B[43m \u001B[49m\u001B[43mvalues\u001B[49m\u001B[43m,\u001B[49m\u001B[43m \u001B[49m\u001B[43mhow\u001B[49m\u001B[43m,\u001B[49m\u001B[43m \u001B[49m\u001B[43maxis\u001B[49m\u001B[38;5;241;43m=\u001B[39;49m\u001B[43mdata\u001B[49m\u001B[38;5;241;43m.\u001B[39;49m\u001B[43mndim\u001B[49m\u001B[43m \u001B[49m\u001B[38;5;241;43m-\u001B[39;49m\u001B[43m \u001B[49m\u001B[38;5;241;43m1\u001B[39;49m\u001B[43m,\u001B[49m\u001B[43m \u001B[49m\u001B[43mmin_count\u001B[49m\u001B[38;5;241;43m=\u001B[39;49m\u001B[43mmin_count\u001B[49m\n\u001B[1;32m    342\u001B[0m \u001B[43m        \u001B[49m\u001B[43m)\u001B[49m\n\u001B[1;32m    343\u001B[0m     \u001B[38;5;28;01mexcept\u001B[39;00m \u001B[38;5;167;01mNotImplementedError\u001B[39;00m:\n\u001B[1;32m    344\u001B[0m         \u001B[38;5;66;03m# generally if we have numeric_only=False\u001B[39;00m\n\u001B[1;32m    345\u001B[0m         \u001B[38;5;66;03m# and non-applicable functions\u001B[39;00m\n\u001B[1;32m    346\u001B[0m         \u001B[38;5;66;03m# try to python agg\u001B[39;00m\n\u001B[1;32m    347\u001B[0m         \u001B[38;5;66;03m# TODO: shouldn't min_count matter?\u001B[39;00m\n\u001B[1;32m    348\u001B[0m         result \u001B[38;5;241m=\u001B[39m \u001B[38;5;28mself\u001B[39m\u001B[38;5;241m.\u001B[39m_agg_py_fallback(values, ndim\u001B[38;5;241m=\u001B[39mdata\u001B[38;5;241m.\u001B[39mndim, alt\u001B[38;5;241m=\u001B[39malt)\n",
      "File \u001B[0;32m~/miniconda3/lib/python3.8/site-packages/pandas/core/groupby/ops.py:978\u001B[0m, in \u001B[0;36mBaseGrouper._cython_operation\u001B[0;34m(self, kind, values, how, axis, min_count, **kwargs)\u001B[0m\n\u001B[1;32m    976\u001B[0m ids, _, _ \u001B[38;5;241m=\u001B[39m \u001B[38;5;28mself\u001B[39m\u001B[38;5;241m.\u001B[39mgroup_info\n\u001B[1;32m    977\u001B[0m ngroups \u001B[38;5;241m=\u001B[39m \u001B[38;5;28mself\u001B[39m\u001B[38;5;241m.\u001B[39mngroups\n\u001B[0;32m--> 978\u001B[0m \u001B[38;5;28;01mreturn\u001B[39;00m \u001B[43mcy_op\u001B[49m\u001B[38;5;241;43m.\u001B[39;49m\u001B[43mcython_operation\u001B[49m\u001B[43m(\u001B[49m\n\u001B[1;32m    979\u001B[0m \u001B[43m    \u001B[49m\u001B[43mvalues\u001B[49m\u001B[38;5;241;43m=\u001B[39;49m\u001B[43mvalues\u001B[49m\u001B[43m,\u001B[49m\n\u001B[1;32m    980\u001B[0m \u001B[43m    \u001B[49m\u001B[43maxis\u001B[49m\u001B[38;5;241;43m=\u001B[39;49m\u001B[43maxis\u001B[49m\u001B[43m,\u001B[49m\n\u001B[1;32m    981\u001B[0m \u001B[43m    \u001B[49m\u001B[43mmin_count\u001B[49m\u001B[38;5;241;43m=\u001B[39;49m\u001B[43mmin_count\u001B[49m\u001B[43m,\u001B[49m\n\u001B[1;32m    982\u001B[0m \u001B[43m    \u001B[49m\u001B[43mcomp_ids\u001B[49m\u001B[38;5;241;43m=\u001B[39;49m\u001B[43mids\u001B[49m\u001B[43m,\u001B[49m\n\u001B[1;32m    983\u001B[0m \u001B[43m    \u001B[49m\u001B[43mngroups\u001B[49m\u001B[38;5;241;43m=\u001B[39;49m\u001B[43mngroups\u001B[49m\u001B[43m,\u001B[49m\n\u001B[1;32m    984\u001B[0m \u001B[43m    \u001B[49m\u001B[38;5;241;43m*\u001B[39;49m\u001B[38;5;241;43m*\u001B[39;49m\u001B[43mkwargs\u001B[49m\u001B[43m,\u001B[49m\n\u001B[1;32m    985\u001B[0m \u001B[43m\u001B[49m\u001B[43m)\u001B[49m\n",
      "File \u001B[0;32m~/miniconda3/lib/python3.8/site-packages/pandas/core/groupby/ops.py:616\u001B[0m, in \u001B[0;36mWrappedCythonOp.cython_operation\u001B[0;34m(self, values, axis, min_count, comp_ids, ngroups, **kwargs)\u001B[0m\n\u001B[1;32m    614\u001B[0m     \u001B[38;5;28;01mraise\u001B[39;00m \u001B[38;5;167;01mNotImplementedError\u001B[39;00m(\u001B[38;5;124m\"\u001B[39m\u001B[38;5;124mnumber of dimensions is currently limited to 2\u001B[39m\u001B[38;5;124m\"\u001B[39m)\n\u001B[1;32m    615\u001B[0m \u001B[38;5;28;01melif\u001B[39;00m values\u001B[38;5;241m.\u001B[39mndim \u001B[38;5;241m==\u001B[39m \u001B[38;5;241m2\u001B[39m:\n\u001B[0;32m--> 616\u001B[0m     \u001B[38;5;28;01massert\u001B[39;00m axis \u001B[38;5;241m==\u001B[39m \u001B[38;5;241m1\u001B[39m, axis\n\u001B[1;32m    617\u001B[0m \u001B[38;5;28;01melif\u001B[39;00m \u001B[38;5;129;01mnot\u001B[39;00m is_1d_only_ea_obj(values):\n\u001B[1;32m    618\u001B[0m     \u001B[38;5;66;03m# Note: it is *not* the case that axis is always 0 for 1-dim values,\u001B[39;00m\n\u001B[1;32m    619\u001B[0m     \u001B[38;5;66;03m#  as we can have 1D ExtensionArrays that we need to treat as 2D\u001B[39;00m\n\u001B[1;32m    620\u001B[0m     \u001B[38;5;28;01massert\u001B[39;00m axis \u001B[38;5;241m==\u001B[39m \u001B[38;5;241m0\u001B[39m\n",
      "\u001B[0;31mAssertionError\u001B[0m: 0"
     ]
    }
   ],
   "source": [
    "# aggregate at the firm level\n",
    "data_agg = data.groupby(['cik'], as_index=False).agg({'taxes_counts': 'sum', 'commodity_counts': 'sum', 'reg_finance_counts': 'sum', \n",
    "                                                      'healthcare_counts': 'sum', 'monetary_counts': 'sum'})\n",
    "print(data_agg.shape)\n",
    "data_agg.head()"
   ]
  },
  {
   "cell_type": "code",
   "execution_count": null,
   "metadata": {
    "pycharm": {
     "name": "#%%\n"
    }
   },
   "outputs": [],
   "source": [
    "# load additional data for firms\n",
    "covariates = pd.read_csv(data_path + \"covariates_2019.csv\")\n",
    "covariates.head()"
   ]
  },
  {
   "cell_type": "code",
   "execution_count": null,
   "metadata": {
    "pycharm": {
     "name": "#%%\n"
    }
   },
   "outputs": [],
   "source": [
    "# merge new data to firm level counts\n",
    "data_agg = pd.merge(data_agg, covariates, how=\"inner\", on=\"cik\")\n",
    "data_agg.head()"
   ]
  },
  {
   "cell_type": "markdown",
   "metadata": {
    "pycharm": {
     "name": "#%% md\n"
    }
   },
   "source": [
    "#### **Counts per NAICS2 sector**\n",
    "\n",
    "Now that we have consolidate the counts of some of the different thematic categories at the firm level, we can analyse how the exposure to these themes varies according to a firm's sector."
   ]
  },
  {
   "cell_type": "code",
   "execution_count": null,
   "metadata": {
    "pycharm": {
     "name": "#%%\n"
    }
   },
   "outputs": [],
   "source": [
    "# calculate the average number of tokens per sector\n",
    "data_sector = data_agg[[\"naics2_name\" ,\"taxes_counts\", \"commodity_counts\", \"reg_finance_counts\", \"healthcare_counts\", \"monetary_counts\"]].groupby(\"naics2_name\", as_index=False).mean()\n",
    "data_sector"
   ]
  },
  {
   "cell_type": "code",
   "execution_count": null,
   "metadata": {
    "pycharm": {
     "name": "#%%\n"
    }
   },
   "outputs": [],
   "source": [
    "# visualize table as heatmap\n",
    "data_plot = data_sector.set_index(\"naics2_name\")\n",
    "plt.figure(figsize=(16,10))\n",
    "sns.heatmap(data_plot, annot=True, fmt=\"g\", cmap='viridis')\n",
    "plt.show()"
   ]
  },
  {
   "cell_type": "code",
   "execution_count": null,
   "metadata": {
    "pycharm": {
     "name": "#%%\n"
    }
   },
   "outputs": [],
   "source": [
    "# plot according to exposure to topic\n",
    "df_plot = data_sector.sort_values(\"commodity_counts\", ascending=False)\n",
    "\n",
    "plt.figure(figsize=(12,8))\n",
    "sns.barplot(data=df_plot, x=\"commodity_counts\", y=\"naics2_name\", palette=\"Blues_r\")\n",
    "plt.title(\"Commodities topic\")\n",
    "plt.xlabel(\"Average number of tokens from topic per firm\")\n",
    "plt.ylabel(\"Sector\")\n",
    "plt.show()"
   ]
  },
  {
   "cell_type": "code",
   "execution_count": null,
   "metadata": {
    "pycharm": {
     "name": "#%%\n"
    }
   },
   "outputs": [],
   "source": [
    "data_construction = data_agg.loc[data_agg[\"naics2_name\"] == \"Construction\"]\n",
    "data_construction.sort_values(\"commodity_counts\", ascending=False).head()"
   ]
  },
  {
   "cell_type": "markdown",
   "metadata": {
    "pycharm": {
     "name": "#%% md\n"
    }
   },
   "source": [
    "If we look at the first two firms from the Construction sector that have the most counts from the Commodities topic we see that they are part of the NAICS sector that correspond to *Oil and Gas Pipeline and Related Structures Construction* (237120). This is very interesting since, although they are construction firms they work with gas and oil and, thus, have a high number of counts in the commodities topic."
   ]
  },
  {
   "cell_type": "code",
   "execution_count": null,
   "metadata": {
    "pycharm": {
     "name": "#%%\n"
    }
   },
   "outputs": [],
   "source": [
    "# plot according to exposure to topic\n",
    "df_plot = data_sector.sort_values(\"reg_finance_counts\", ascending=False)\n",
    "\n",
    "plt.figure(figsize=(12,8))\n",
    "sns.barplot(data=df_plot, x=\"reg_finance_counts\", y=\"naics2_name\", palette=\"Blues_r\")\n",
    "plt.title(\"Financial regulation topic\")\n",
    "plt.xlabel(\"Average number of tokens from topic per firm\")\n",
    "plt.ylabel(\"Sector\")\n",
    "plt.show()"
   ]
  },
  {
   "cell_type": "code",
   "execution_count": null,
   "metadata": {
    "pycharm": {
     "name": "#%%\n"
    }
   },
   "outputs": [],
   "source": [
    "# plot according to exposure to topic\n",
    "df_plot = data_sector.sort_values(\"monetary_counts\", ascending=False)\n",
    "\n",
    "plt.figure(figsize=(12,8))\n",
    "sns.barplot(data=df_plot, x=\"monetary_counts\", y=\"naics2_name\", palette=\"Blues_r\")\n",
    "plt.title(\"Monetary topic\")\n",
    "plt.xlabel(\"Average number of tokens from topic per firm\")\n",
    "plt.ylabel(\"Sector\")\n",
    "plt.show()"
   ]
  },
  {
   "cell_type": "code",
   "execution_count": null,
   "metadata": {
    "pycharm": {
     "name": "#%%\n"
    }
   },
   "outputs": [],
   "source": [
    "# plot according to exposure to topic\n",
    "df_plot = data_sector.sort_values(\"healthcare_counts\", ascending=False)\n",
    "\n",
    "plt.figure(figsize=(12,8))\n",
    "sns.barplot(data=df_plot, x=\"healthcare_counts\", y=\"naics2_name\", palette=\"Blues_r\")\n",
    "plt.title(\"Healthcare topic\")\n",
    "plt.xlabel(\"Average number of tokens from topic per firm\")\n",
    "plt.ylabel(\"Sector\")\n",
    "plt.show()"
   ]
  },
  {
   "cell_type": "code",
   "execution_count": null,
   "metadata": {
    "pycharm": {
     "name": "#%%\n"
    }
   },
   "outputs": [],
   "source": [
    "# plot according to exposure to topic\n",
    "df_plot = data_sector.sort_values(\"taxes_counts\", ascending=False)\n",
    "\n",
    "plt.figure(figsize=(12,8))\n",
    "sns.barplot(data=df_plot, x=\"taxes_counts\", y=\"naics2_name\", palette=\"Blues_r\")\n",
    "plt.title(\"Taxation topic\")\n",
    "plt.xlabel(\"Average number of tokens from topic per firm\")\n",
    "plt.ylabel(\"Sector\")\n",
    "plt.show()"
   ]
  }
 ],
 "metadata": {
  "colab": {
   "name": "preprocessing_notebook.ipynb",
   "provenance": []
  },
  "kernelspec": {
   "display_name": "Python 3 (ipykernel)",
   "language": "python",
   "name": "python3"
  },
  "language_info": {
   "codemirror_mode": {
    "name": "ipython",
    "version": 3
   },
   "file_extension": ".py",
   "mimetype": "text/x-python",
   "name": "python",
   "nbconvert_exporter": "python",
   "pygments_lexer": "ipython3",
   "version": "3.8.2"
  },
  "metadata": {
   "interpreter": {
    "hash": "aee8b7b246df8f9039afb4144a1f6fd8d2ca17a180786b69acc140d282b71a49"
   }
  },
  "toc": {
   "base_numbering": 1,
   "nav_menu": {},
   "number_sections": true,
   "sideBar": true,
   "skip_h1_title": false,
   "title_cell": "Table of Contents",
   "title_sidebar": "Contents",
   "toc_cell": false,
   "toc_position": {},
   "toc_section_display": true,
   "toc_window_display": false
  }
 },
 "nbformat": 4,
 "nbformat_minor": 4
}