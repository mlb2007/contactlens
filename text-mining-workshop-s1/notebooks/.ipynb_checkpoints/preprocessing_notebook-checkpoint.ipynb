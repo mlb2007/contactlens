{
  "cells": [
    {
      "cell_type": "code",
      "execution_count": 4,
      "metadata": {
        "id": "OO7_xdAZduto"
      },
      "outputs": [],
      "source": [
        "# install packages\n",
        "# !pip install flashtext contractions seaborn scikit-learn\n",
        "# !pip install --upgrade spacy==2.2.4"
      ]
    },
    {
      "cell_type": "code",
      "execution_count": 5,
      "metadata": {},
      "outputs": [],
      "source": [
        "# install Spacy's language model\n",
        "# python3 -m spacy download en_core_web_sm"
      ]
    },
    {
      "cell_type": "markdown",
      "metadata": {
        "id": "qx4zes1Ddutr"
      },
      "source": [
        "# **Text preprocessing and dictionary methods**"
      ]
    },
    {
      "cell_type": "markdown",
      "metadata": {
        "id": "kLIyQWCaduts"
      },
      "source": [
        "This notebook makes use of the RawDocs class to illustrate a preprocessing pipeline for text data. Indeed, raw text typically needs to be cleaned before it can serve as input for a statistical model. \n",
        "\n",
        "As an example, we may want to split contractions, remove stopwords or remove punctuation. These steps can help a statistical model to only learn from terms that have a relevant meaning. \n",
        "\n",
        "We might also want to replace a term or a set of terms with another token. For instance, this operation could allow us to replace phrases (e.g. bigrams, trigrams) with single tokens.\n",
        "\n",
        "Another common practice in text preprocessing is that of stemming (replacing words with their root) or lemmatizing (replacing words with their dictionary form i.e. lemma). These procedures bring words with the same root meaning back to a single token.\n",
        "\n",
        "Finally, we might want to remove very frequent or infrequent words, and transform the data into a document-term matrix that can be fed into models that follow a bag-of-words approach."
      ]
    },
    {
      "cell_type": "code",
      "execution_count": 1,
      "metadata": {
        "id": "SaRqIqRwdutt"
      },
      "outputs": [],
      "source": [
        "import pandas as pd\n",
        "import string\n",
        "import numpy as np\n",
        "import matplotlib.pyplot as plt\n",
        "import seaborn as sns\n",
        "from sklearn.preprocessing import StandardScaler\n",
        "from sklearn.feature_extraction.text import CountVectorizer, TfidfVectorizer\n",
        "import sys\n",
        "from collections import Counter\n",
        "import random\n",
        "import ast"
      ]
    },
    {
      "cell_type": "code",
      "execution_count": 2,
      "metadata": {},
      "outputs": [],
      "source": [
        "# define paths\n",
        "data_path = \"../data/\"\n",
        "pymodules_path = \"../pymodules\""
      ]
    },
    {
      "cell_type": "code",
      "execution_count": 3,
      "metadata": {},
      "outputs": [],
      "source": [
        "# import our own code\n",
        "sys.path.append(pymodules_path)\n",
        "import preprocessing_class as pc"
      ]
    },
    {
      "cell_type": "markdown",
      "metadata": {
        "id": "ftz2XnGwdutv"
      },
      "source": [
        "### *0. Load data*"
      ]
    },
    {
      "cell_type": "markdown",
      "metadata": {},
      "source": [
        "This tutorial uses text data from the **10-K reports** filed by most publicly-traded firms in the U.S. in 2019. 10-K reports are a very rich source of data since firms include information regarding their organizational structure, financial performance and risk factors. We will use a version of the data where the risk factors section of each report has been splitted into sentences and each sentence has been assigned an ID that combines the firm identifier (i.e. **CIK**) and a sentence number. The data we use has a total of 1,077,416 sentences for 2,500 firms.\n",
        "\n",
        "More on the 10-K reports [here](https://www.investor.gov/introduction-investing/getting-started/researching-investments/how-read-10-k)."
      ]
    },
    {
      "cell_type": "markdown",
      "metadata": {},
      "source": [
        "As a starting point, we will need to download two data files from Google Drive:\n",
        "1. [10-K data](https://drive.google.com/file/d/1J7ECzsD3LDnU06B2CKK0vjgGenqI9kiw/view?usp=sharing) \n",
        "2. [Firm's 2019 data](https://drive.google.com/file/d/1vFcFJYdLD0sE_fbhGES8KQmvMcLuuCdc/view?usp=sharing) \n",
        "\n",
        "Once you download the two files put them in the *\"data\"* folder."
      ]
    },
    {
      "cell_type": "code",
      "execution_count": 4,
      "metadata": {
        "colab": {
          "base_uri": "https://localhost:8080/"
        },
        "id": "WJomAJdvdutv",
        "outputId": "2d5adb33-a3a9-4366-e03b-08c66f75fe00"
      },
      "outputs": [
        {
          "name": "stdout",
          "output_type": "stream",
          "text": [
            "(1077416, 5)\n"
          ]
        },
        {
          "data": {
            "text/html": [
              "<div>\n",
              "<style scoped>\n",
              "    .dataframe tbody tr th:only-of-type {\n",
              "        vertical-align: middle;\n",
              "    }\n",
              "\n",
              "    .dataframe tbody tr th {\n",
              "        vertical-align: top;\n",
              "    }\n",
              "\n",
              "    .dataframe thead th {\n",
              "        text-align: right;\n",
              "    }\n",
              "</style>\n",
              "<table border=\"1\" class=\"dataframe\">\n",
              "  <thead>\n",
              "    <tr style=\"text-align: right;\">\n",
              "      <th></th>\n",
              "      <th>sentences</th>\n",
              "      <th>cik</th>\n",
              "      <th>year</th>\n",
              "      <th>sent_no</th>\n",
              "      <th>sent_id</th>\n",
              "    </tr>\n",
              "  </thead>\n",
              "  <tbody>\n",
              "    <tr>\n",
              "      <th>0</th>\n",
              "      <td>You should carefully review the following disc...</td>\n",
              "      <td>1065088</td>\n",
              "      <td>2019</td>\n",
              "      <td>0</td>\n",
              "      <td>1065088_0</td>\n",
              "    </tr>\n",
              "    <tr>\n",
              "      <th>1</th>\n",
              "      <td>Risk Factors That May Affect our Business, Res...</td>\n",
              "      <td>1065088</td>\n",
              "      <td>2019</td>\n",
              "      <td>1</td>\n",
              "      <td>1065088_1</td>\n",
              "    </tr>\n",
              "    <tr>\n",
              "      <th>2</th>\n",
              "      <td>Our operating and financial results are subjec...</td>\n",
              "      <td>1065088</td>\n",
              "      <td>2019</td>\n",
              "      <td>2</td>\n",
              "      <td>1065088_2</td>\n",
              "    </tr>\n",
              "    <tr>\n",
              "      <th>3</th>\n",
              "      <td>Our operating and financial results have varie...</td>\n",
              "      <td>1065088</td>\n",
              "      <td>2019</td>\n",
              "      <td>3</td>\n",
              "      <td>1065088_3</td>\n",
              "    </tr>\n",
              "    <tr>\n",
              "      <th>4</th>\n",
              "      <td>It is difficult for us to forecast the level o...</td>\n",
              "      <td>1065088</td>\n",
              "      <td>2019</td>\n",
              "      <td>4</td>\n",
              "      <td>1065088_4</td>\n",
              "    </tr>\n",
              "  </tbody>\n",
              "</table>\n",
              "</div>"
            ],
            "text/plain": [
              "                                           sentences      cik  year  sent_no  \\\n",
              "0  You should carefully review the following disc...  1065088  2019        0   \n",
              "1  Risk Factors That May Affect our Business, Res...  1065088  2019        1   \n",
              "2  Our operating and financial results are subjec...  1065088  2019        2   \n",
              "3  Our operating and financial results have varie...  1065088  2019        3   \n",
              "4  It is difficult for us to forecast the level o...  1065088  2019        4   \n",
              "\n",
              "     sent_id  \n",
              "0  1065088_0  \n",
              "1  1065088_1  \n",
              "2  1065088_2  \n",
              "3  1065088_3  \n",
              "4  1065088_4  "
            ]
          },
          "execution_count": 4,
          "metadata": {},
          "output_type": "execute_result"
        }
      ],
      "source": [
        "# load data parquet file (compressed format)\n",
        "data = pd.read_parquet(data_path + \"10k_sent_2019_sample.parquet\")\n",
        "print(data.shape)\n",
        "data.head()"
      ]
    },
    {
      "cell_type": "code",
      "execution_count": 5,
      "metadata": {},
      "outputs": [],
      "source": [
        "# if we have some memory (or time) limitation we can take a subsample of the data for the analysis\n",
        "# seed = 92\n",
        "# data = data.sample(500000, random_state=seed)\n",
        "# data.reset_index(drop=True, inplace=True)"
      ]
    },
    {
      "cell_type": "code",
      "execution_count": 6,
      "metadata": {
        "colab": {
          "base_uri": "https://localhost:8080/"
        },
        "id": "mfffmCRrdutx",
        "outputId": "84af71fe-db84-42b7-d8e3-f6134c8605ab"
      },
      "outputs": [
        {
          "name": "stdout",
          "output_type": "stream",
          "text": [
            "Average sentence length: 27.0 words\n",
            "Total number of firms represented in the data: 2500\n"
          ]
        }
      ],
      "source": [
        "# get a rough sense of the length of sentences and the number of firms in the data\n",
        "data['length'] = data[\"sentences\"].apply(lambda x: len(x.split()))\n",
        "print(f'Average sentence length: {np.round(np.mean(data.length), 0)} words')\n",
        "print(f\"Total number of firms represented in the data: {len(data.groupby('cik').size())}\")"
      ]
    },
    {
      "cell_type": "markdown",
      "metadata": {
        "id": "5YJYlZkPdutx"
      },
      "source": [
        "### *1. Initialize class with documents and main parameters*"
      ]
    },
    {
      "cell_type": "markdown",
      "metadata": {
        "id": "SSFJjO09duty"
      },
      "source": [
        "We instantiate the ```RawDocs``` class by passing a pandas series containing the raw documents. We also provide some main parameters that will define the way in which the text is cleaned and tokenized. \n",
        "\n",
        "The list of stopwords will be saved into the ```.stopwords``` attribute. We can go for the \"long\" list (retrieved from [here](https://snowballstem.org/algorithms/english/stop.txt)) or the \"short\" list (a subsample defined as in Hansen, McMahon, and Prat (2014) ). We can also pass a customized list, or no list at all (we are always free to add it later on by modifying the ```stopwords``` attribute).\n",
        "\n",
        "By setting the \"contraction_split\" argument to ```True```, we will also expand English contractions to their extended form (e.g. \"doesn't\" to \"does not\"). \n",
        "\n",
        "Finally, \"tokenization_pattern\" allows us to pass a custom regular expression in order to break-up documents into tokens."
      ]
    },
    {
      "cell_type": "code",
      "execution_count": 7,
      "metadata": {
        "id": "2rm48MHXduty"
      },
      "outputs": [],
      "source": [
        "pattern = r'''\n",
        "          (?x)                # set flag to allow verbose regexps (to separate logical sections of pattern and add comments)\n",
        "          \\w+(?:-\\w+)*        # preserve expressions with internal hyphens as single tokens\n",
        "          | [][.,;\"'?():-_`]  # preserve punctuation as separate tokens\n",
        "          '''"
      ]
    },
    {
      "cell_type": "code",
      "execution_count": 8,
      "metadata": {
        "id": "NFWqspWGduty"
      },
      "outputs": [],
      "source": [
        "prep = pc.RawDocs(data[\"sentences\"],            # series of documents\n",
        "                  lower_case=True,              # whether to lowercase the text in the firs cleaning step \n",
        "                  stopwords='long',             # type of stopwords to initialize\n",
        "                  contraction_split=True,       # wheter to split contractions or not\n",
        "                  tokenization_pattern=pattern  # custom tokenization patter\n",
        "                  )"
      ]
    },
    {
      "cell_type": "code",
      "execution_count": 9,
      "metadata": {},
      "outputs": [
        {
          "name": "stdout",
          "output_type": "stream",
          "text": [
            "Document from the pandas series:\n",
            " As we respond to changes in the competitive environment, we may, from time to time, make pricing, service or marketing decisions or acquisitions that may be controversial with and lead to dissatisfaction among sellers, which could reduce activity on our platform and harm our profitability.\n",
            "\n",
            "-------------------------\n",
            "\n",
            "Document from preprocessing object:\n",
            " As we respond to changes in the competitive environment, we may, from time to time, make pricing, service or marketing decisions or acquisitions that may be controversial with and lead to dissatisfaction among sellers, which could reduce activity on our platform and harm our profitability.\n"
          ]
        }
      ],
      "source": [
        "# notice that the documents from the object are identical to the ones from the pandas series\n",
        "i = 20\n",
        "print(\"Document from the pandas series:\\n\", data.loc[i, \"sentences\"])\n",
        "print(\"\\n-------------------------\\n\")\n",
        "print(\"Document from preprocessing object:\\n\", prep.docs[i])"
      ]
    },
    {
      "cell_type": "markdown",
      "metadata": {
        "id": "tISXT0HQdut2"
      },
      "source": [
        "### *2. Replace phrases with single token*"
      ]
    },
    {
      "cell_type": "markdown",
      "metadata": {
        "id": "EE597fIKdut2"
      },
      "source": [
        "We will start our preprocessing process by replacing specific words or phrases with a pre-defined token. The purpose of this is to preserve these expressions for later stages of our analysis.  The ```phrase_replace()``` method from the RawDocs class allows us to do this. In particular, it will replace the keys with the values of a user-defined dictionary. Let's give it a try:"
      ]
    },
    {
      "cell_type": "code",
      "execution_count": 10,
      "metadata": {},
      "outputs": [],
      "source": [
        "# we can build a manual dictionary with the expressions we want to replace in the text\n",
        "manual_replacing_dict = {\"financial intermediation\": \"financial-intermediation-token\",\n",
        "                         \"interest rate\": \"interest-rate-token\",\n",
        "                         \"interest rates\": \"interest-rate-token\",\n",
        "                         \"Apple\": \"apple-token\",\n",
        "                         \"Federal Reserve Board\": \"fed-token\",\n",
        "                         \"FED\": \"fed-token\",\n",
        "                         }"
      ]
    },
    {
      "cell_type": "code",
      "execution_count": 11,
      "metadata": {},
      "outputs": [
        {
          "data": {
            "text/html": [
              "<div>\n",
              "<style scoped>\n",
              "    .dataframe tbody tr th:only-of-type {\n",
              "        vertical-align: middle;\n",
              "    }\n",
              "\n",
              "    .dataframe tbody tr th {\n",
              "        vertical-align: top;\n",
              "    }\n",
              "\n",
              "    .dataframe thead th {\n",
              "        text-align: right;\n",
              "    }\n",
              "</style>\n",
              "<table border=\"1\" class=\"dataframe\">\n",
              "  <thead>\n",
              "    <tr style=\"text-align: right;\">\n",
              "      <th></th>\n",
              "      <th>expression</th>\n",
              "    </tr>\n",
              "  </thead>\n",
              "  <tbody>\n",
              "    <tr>\n",
              "      <th>0</th>\n",
              "      <td>Federal Agricultural Mortgage Corporation</td>\n",
              "    </tr>\n",
              "    <tr>\n",
              "      <th>1</th>\n",
              "      <td>early childhood development program</td>\n",
              "    </tr>\n",
              "    <tr>\n",
              "      <th>2</th>\n",
              "      <td>unemployment insurance</td>\n",
              "    </tr>\n",
              "    <tr>\n",
              "      <th>3</th>\n",
              "      <td>workers’ compensation</td>\n",
              "    </tr>\n",
              "    <tr>\n",
              "      <th>4</th>\n",
              "      <td>FCC</td>\n",
              "    </tr>\n",
              "  </tbody>\n",
              "</table>\n",
              "</div>"
            ],
            "text/plain": [
              "                                  expression\n",
              "0  Federal Agricultural Mortgage Corporation\n",
              "1        early childhood development program\n",
              "2                     unemployment insurance\n",
              "3                      workers’ compensation\n",
              "4                                        FCC"
            ]
          },
          "execution_count": 11,
          "metadata": {},
          "output_type": "execute_result"
        }
      ],
      "source": [
        "# however we will build a dictionary by loading a list of words and phrases (i.e expressions) and generating the tokens with which we will replace them\n",
        "df_replace = pd.read_csv(data_path + \"replacement_expressions.txt\", sep=\"\\t\")\n",
        "df_replace.head()"
      ]
    },
    {
      "cell_type": "code",
      "execution_count": 12,
      "metadata": {},
      "outputs": [],
      "source": [
        "# get unique expressions and capture their length\n",
        "replace_exp = list(df_replace[\"expression\"].values)\n",
        "replace_exp = list(set(replace_exp))\n",
        "replace_exp = [x.strip() for x in replace_exp]\n",
        "replace_exp = np.array(list(set(replace_exp)))\n",
        "# we capture the length of the expression in order to determine the order of substitution\n",
        "# more on this later\n",
        "len_replace = np.array([len(p.split()) for p in replace_exp])"
      ]
    },
    {
      "cell_type": "code",
      "execution_count": 13,
      "metadata": {},
      "outputs": [],
      "source": [
        "# generate replacement token by hyphenating the words in the expressions and lower casing them\n",
        "def token_make(expression, signal_word):\n",
        "    words = expression.split(\" \")\n",
        "    # add a word at the end of the expression\n",
        "    words.append(signal_word)\n",
        "    single_token = \"-\".join(words)\n",
        "    return single_token.lower()\n",
        "\n",
        "# generate tokens for expressions of all length\n",
        "replace_dicts = {}\n",
        "for i in Counter(len_replace).keys():\n",
        "    exps = replace_exp[np.where(len_replace == i)]\n",
        "    replace_dicts[i] = {e: token_make(e, 'token') for e in exps}"
      ]
    },
    {
      "cell_type": "code",
      "execution_count": 14,
      "metadata": {},
      "outputs": [
        {
          "data": {
            "text/plain": [
              "[('balance the budget', 'balance-the-budget-token'),\n",
              " ('unfair business practice', 'unfair-business-practice-token'),\n",
              " ('open market operations', 'open-market-operations-token'),\n",
              " ('low-income housing credit', 'low-income-housing-credit-token'),\n",
              " ('Corps of Engineers', 'corps-of-engineers-token'),\n",
              " ('greenhouse gas regulation', 'greenhouse-gas-regulation-token'),\n",
              " ('Southeastern Power Administration',\n",
              "  'southeastern-power-administration-token'),\n",
              " ('Veterans Affairs healthcare', 'veterans-affairs-healthcare-token'),\n",
              " ('medical malpractice reform', 'medical-malpractice-reform-token'),\n",
              " ('Department of Transportation', 'department-of-transportation-token')]"
            ]
          },
          "execution_count": 14,
          "metadata": {},
          "output_type": "execute_result"
        }
      ],
      "source": [
        "# explore some of the expressions and their replacement tokens\n",
        "list(replace_dicts[3].items())[0:10]"
      ]
    },
    {
      "cell_type": "code",
      "execution_count": 15,
      "metadata": {
        "colab": {
          "base_uri": "https://localhost:8080/"
        },
        "id": "jZk4Euppdut2",
        "outputId": "cc7b8afa-6049-45be-8f6c-e42c65b52578"
      },
      "outputs": [
        {
          "name": "stdout",
          "output_type": "stream",
          "text": [
            "Document before phrase replacing:\n",
            " Congress adopted comprehensive financial reform legislation under the Dodd-Frank Act that establishes federal oversight and regulation of the over-the-counter derivatives market and entities, such as us, that participate in that market.\n"
          ]
        }
      ],
      "source": [
        "# explore a document with phrases that will be replaced\n",
        "i = 107915\n",
        "print(\"Document before phrase replacing:\\n\", prep.docs[i])"
      ]
    },
    {
      "cell_type": "markdown",
      "metadata": {},
      "source": [
        "Now that we have the replacement dictionary ready we will use the ```phrase_replace()``` method to apply it to our text. Crucially, we will not replace all expressions at the same time but, instead, we will do the replacements according to the number of words in each expression. We will follow a descending order of replacement so that we preserve longer expressions first and then move to the rest."
      ]
    },
    {
      "cell_type": "code",
      "execution_count": 16,
      "metadata": {},
      "outputs": [
        {
          "name": "stdout",
          "output_type": "stream",
          "text": [
            "Replacing expressions of length 7 such as:\n",
            " Los Angeles Department of Water and Power\n",
            "Replacing expressions of length 6 such as:\n",
            " federal savings and loan insurance corporation\n",
            "Replacing expressions of length 5 such as:\n",
            " Mine Safety and Health Administration\n",
            "Replacing expressions of length 4 such as:\n",
            " national labor relations board\n",
            "Replacing expressions of length 3 such as:\n",
            " Alaska oil pipeline\n",
            "Replacing expressions of length 2 such as:\n",
            " military purchases\n",
            "Replacing expressions of length 1 such as:\n",
            " taxed\n"
          ]
        }
      ],
      "source": [
        "# apply phrase replacing in order according to the length of the expression\n",
        "# we want to replace longer expressions first\n",
        "for tokens_len in range(max(replace_dicts.keys()), 0, -1):\n",
        "    dict_len = replace_dicts[tokens_len]\n",
        "    print(f\"Replacing expressions of length {tokens_len} such as:\\n {random.choice(list(dict_len.keys()))}\")\n",
        "    # apply method from class\n",
        "    prep.phrase_replace(replace_dict=dict_len, case_sensitive_replacing=False)"
      ]
    },
    {
      "cell_type": "markdown",
      "metadata": {},
      "source": [
        "Notice that several expressions were replaced throughout the sentence with a single new token (e.g. financial reform with financial-reform-token)."
      ]
    },
    {
      "cell_type": "code",
      "execution_count": 22,
      "metadata": {},
      "outputs": [
        {
          "name": "stdout",
          "output_type": "stream",
          "text": [
            "Document after phrase replacing:\n",
            " Congress adopted comprehensive financial-reform-token legislation under the dodd-frank-token Act that establishes federal oversight and regulation-token of the over-the-counter derivatives market and entities, such as us, that participate in that market.\n"
          ]
        }
      ],
      "source": [
        "print(\"Document after phrase replacing:\\n\", prep.docs[i])"
      ]
    },
    {
      "cell_type": "markdown",
      "metadata": {
        "id": "5YJYlZkPdutx"
      },
      "source": [
        "### *3. Lower-case, split contractions and tokenize*"
      ]
    },
    {
      "cell_type": "markdown",
      "metadata": {},
      "source": [
        "After succesfully extracting and replacing the phrases we needed we can now move on and apply some basic cleaning to the text. This is done through the ```basic_cleaning()``` method which will use some of the parameters provided in the initialization of the class. Using this method, the text can be lower-cased, contractions can be expanded and a list of stopwords can be initialized.\n",
        "\n",
        "Finally, we will then use the ```tokenize_text()``` method to split documents into tokens using the custom pattern we provided earlier. It is very important that we use a tokenization pattern that preserves hyphenated words together since we used the hyphen when replacing phrases earlier. Passing a tokenization pattern will override the default tokenization algorithm with a user-defined tokenization routine based on a specific regular expression. In our case, we pass a regex that ensures e.g. not to tokenize over hyphens, currency or percentage signs. \n",
        "\n",
        "After applying this method, our preprocessing object (```prep```) will get a new attribute that we can access: ```.tokens```."
      ]
    },
    {
      "cell_type": "code",
      "execution_count": 23,
      "metadata": {},
      "outputs": [],
      "source": [
        "# lower-case text, expand contractions and initialize stopwords list\n",
        "prep.basic_cleaning()"
      ]
    },
    {
      "cell_type": "code",
      "execution_count": 24,
      "metadata": {},
      "outputs": [
        {
          "name": "stdout",
          "output_type": "stream",
          "text": [
            "Congress adopted comprehensive financial reform legislation under the Dodd-Frank Act that establishes federal oversight and regulation of the over-the-counter derivatives market and entities, such as us, that participate in that market.\n",
            "\n",
            "congress adopted comprehensive financial-reform-token legislation under the dodd-frank-token act that establishes federal oversight and regulation-token of the over-the-counter derivatives market and entities, such as us, that participate in that market.\n"
          ]
        }
      ],
      "source": [
        "# explore an example after the basic cleaning has been applied\n",
        "i = 107915\n",
        "print(data.loc[i, \"sentences\"])\n",
        "print()\n",
        "print(prep.docs[i])"
      ]
    },
    {
      "cell_type": "code",
      "execution_count": 25,
      "metadata": {},
      "outputs": [],
      "source": [
        "# now we can split the documents into tokens\n",
        "prep.tokenize_text()"
      ]
    },
    {
      "cell_type": "markdown",
      "metadata": {
        "id": "YA8RWtJ6dutz"
      },
      "source": [
        "Below, we show a random document and its tokenized version. As we can see, text was tokenized in such a way that expressions replaced previously such as \"financial-reform-token\" were kept as a single token. Notice also that punctuation symbols were preserved."
      ]
    },
    {
      "cell_type": "code",
      "execution_count": 26,
      "metadata": {},
      "outputs": [
        {
          "name": "stdout",
          "output_type": "stream",
          "text": [
            "Congress adopted comprehensive financial reform legislation under the Dodd-Frank Act that establishes federal oversight and regulation of the over-the-counter derivatives market and entities, such as us, that participate in that market.\n",
            "\n",
            "['congress', 'adopted', 'comprehensive', 'financial-reform-token', 'legislation', 'under', 'the', 'dodd-frank-token', 'act', 'that', 'establishes', 'federal', 'oversight', 'and', 'regulation-token', 'of', 'the', 'over-the-counter', 'derivatives', 'market', 'and', 'entities', ',', 'such', 'as', 'us', ',', 'that', 'participate', 'in', 'that', 'market', '.']\n"
          ]
        }
      ],
      "source": [
        "i = 107915\n",
        "print(data.loc[i, \"sentences\"])\n",
        "print()\n",
        "print(prep.tokens[i])"
      ]
    },
    {
      "cell_type": "markdown",
      "metadata": {},
      "source": [
        "At this point, tokens could be ready to use for some specific aims. For instance, one might want to count instances of specific terms, including punctuation. However, more often one wants to proceed with heavier preprocessing, for which other methods of the RawDocs class can prove useful."
      ]
    },
    {
      "cell_type": "markdown",
      "metadata": {
        "id": "8fj8gXkRdutz"
      },
      "source": [
        "### *4. Remove non-ASCII symbols, punctuation, numbers, short tokens*"
      ]
    },
    {
      "cell_type": "markdown",
      "metadata": {
        "id": "DYMXsYZKdutz"
      },
      "source": [
        "The ```token_clean()``` method iterates over tokens and removes elements that we might consider unnecessary or impairing our analysis.\n",
        "\n",
        "The method automatically removes non-ASCII characters. In addition, we can remove punctuation, numbers and tokens with a number of characters lower than or equal to \"length\". The function removes by default the punctuation included in the string package:"
      ]
    },
    {
      "cell_type": "code",
      "execution_count": 28,
      "metadata": {
        "colab": {
          "base_uri": "https://localhost:8080/"
        },
        "id": "KuDWVlRhdut0",
        "outputId": "40f940b9-8e7d-4d3f-f707-2d7148ef1c61"
      },
      "outputs": [
        {
          "data": {
            "text/plain": [
              "'!\"#$%&\\'()*+,-./:;<=>?@[\\\\]^_`{|}~'"
            ]
          },
          "execution_count": 28,
          "metadata": {},
          "output_type": "execute_result"
        }
      ],
      "source": [
        "string.punctuation"
      ]
    },
    {
      "cell_type": "markdown",
      "metadata": {
        "id": "Dp4k-rkWdut0"
      },
      "source": [
        "However, we are free to pass a customised punctuation string. Here, we pass the string above excluding hypens."
      ]
    },
    {
      "cell_type": "code",
      "execution_count": 29,
      "metadata": {
        "colab": {
          "base_uri": "https://localhost:8080/"
        },
        "id": "yrohs7yDdut0",
        "outputId": "b12c8322-2088-45b1-d769-cbbdee137812"
      },
      "outputs": [
        {
          "data": {
            "text/plain": [
              "'!\"#$%&\\'()*+,./:;<=>?@[\\\\]^_`{|}~'"
            ]
          },
          "execution_count": 29,
          "metadata": {},
          "output_type": "execute_result"
        }
      ],
      "source": [
        "punctuation = string.punctuation\n",
        "punctuation = punctuation.replace(\"-\", \"\") # remove the hyphen from the punctuation string\n",
        "punctuation"
      ]
    },
    {
      "cell_type": "code",
      "execution_count": 30,
      "metadata": {
        "id": "vHM1CFv_dut0"
      },
      "outputs": [],
      "source": [
        "prep.token_clean(length=2,                 # remove tokens with less than this number of characters \n",
        "                 punctuation=punctuation,  # remove custom list of punctuation characters\n",
        "                 numbers=True              # remove numbers\n",
        "                 )"
      ]
    },
    {
      "cell_type": "markdown",
      "metadata": {
        "id": "mCkcigB2dut0"
      },
      "source": [
        "Let's now look at our document again"
      ]
    },
    {
      "cell_type": "code",
      "execution_count": 31,
      "metadata": {
        "colab": {
          "base_uri": "https://localhost:8080/"
        },
        "id": "cBMtWm-ydut0",
        "outputId": "7894028e-9bb0-4541-d25f-65c2f2e644f1"
      },
      "outputs": [
        {
          "name": "stdout",
          "output_type": "stream",
          "text": [
            "Congress adopted comprehensive financial reform legislation under the Dodd-Frank Act that establishes federal oversight and regulation of the over-the-counter derivatives market and entities, such as us, that participate in that market.\n",
            "\n",
            "['congress', 'adopted', 'comprehensive', 'financial-reform-token', 'legislation', 'under', 'the', 'dodd-frank-token', 'act', 'that', 'establishes', 'federal', 'oversight', 'and', 'regulation-token', 'the', 'over-the-counter', 'derivatives', 'market', 'and', 'entities', 'such', 'that', 'participate', 'that', 'market']\n"
          ]
        }
      ],
      "source": [
        "i = 107915\n",
        "print(data.loc[i, \"sentences\"])\n",
        "print()\n",
        "print(prep.tokens[i])"
      ]
    },
    {
      "cell_type": "markdown",
      "metadata": {
        "id": "Z0aardZbdut1"
      },
      "source": [
        "### *5. Remove stopwords*"
      ]
    },
    {
      "cell_type": "markdown",
      "metadata": {
        "id": "A5migS4Pdut1"
      },
      "source": [
        "The ```remove_stopwords()``` method allows to remove tokens included in the \"stopwords\" attribute. We went for the \"long\" stopwords list, that is printed below."
      ]
    },
    {
      "cell_type": "code",
      "execution_count": 32,
      "metadata": {
        "colab": {
          "base_uri": "https://localhost:8080/"
        },
        "id": "xefr6wkfdut1",
        "outputId": "f35c18e4-ce69-443a-925a-cd5727d74127"
      },
      "outputs": [
        {
          "name": "stdout",
          "output_type": "stream",
          "text": [
            "['a', 'about', 'above', 'after', 'again', 'against', 'all', 'also', 'am', 'an', 'and', 'another', 'any', 'are', 'as', 'at', 'back', 'be', 'because', 'been', 'before', 'being', 'below', 'between', 'both', 'but', 'by', 'could', 'did', 'do', 'does', 'doing', 'down', 'during', 'each', 'even', 'ever', 'every', 'few', 'first', 'five', 'for', 'four', 'from', 'further', 'get', 'go', 'goes', 'had', 'has', 'have', 'having', 'he', 'her', 'here', 'hers', 'herself', 'high', 'him', 'himself', 'his', 'how', 'however', 'i', 'if', 'in', 'into', 'is', 'it', 'its', 'itself', 'just', 'least', 'less', 'like', 'long', 'made', 'make', 'many', 'me', 'more', 'most', 'my', 'myself', 'never', 'new', 'no', 'nor', 'not', 'now', 'of', 'off', 'old', 'on', 'once', 'one', 'only', 'or', 'other', 'ought', 'our', 'ours', 'ourselves', 'out', 'over', 'own', 'put', 'said', 'same', 'say', 'says', 'second', 'see', 'seen', 'she', 'should', 'since', 'so', 'some', 'still', 'such', 'take', 'than', 'that', 'the', 'their', 'theirs', 'them', 'themselves', 'then', 'there', 'these', 'they', 'this', 'those', 'three', 'through', 'to', 'too', 'two', 'under', 'until', 'up', 'us', 'very', 'was', 'way', 'we', 'well', 'were', 'what', 'when', 'where', 'whether', 'which', 'while', 'who', 'whom', 'why', 'with', 'would', 'you', 'your', 'yours', 'yourself', 'yourselves']\n"
          ]
        }
      ],
      "source": [
        "# get the list of stopwords provided earlier\n",
        "print(sorted(prep.stopwords))"
      ]
    },
    {
      "cell_type": "code",
      "execution_count": 33,
      "metadata": {
        "id": "2lykFC5Vdut1"
      },
      "outputs": [],
      "source": [
        "# we need to specificy that we want to remove the stopwords from the \"tokens\"\n",
        "prep.stopword_remove('tokens')"
      ]
    },
    {
      "cell_type": "markdown",
      "metadata": {
        "id": "Zb7PP_sZdut1"
      },
      "source": [
        "As we can see, after applying the ```stopwords_remove()``` method, tokens like \"the\" or \"of\" have been dropped."
      ]
    },
    {
      "cell_type": "code",
      "execution_count": 34,
      "metadata": {
        "colab": {
          "base_uri": "https://localhost:8080/"
        },
        "id": "oF2Pl4fmdut2",
        "outputId": "4ecadb3a-c202-45ec-fe17-38c24f00fc3f"
      },
      "outputs": [
        {
          "name": "stdout",
          "output_type": "stream",
          "text": [
            "Congress adopted comprehensive financial reform legislation under the Dodd-Frank Act that establishes federal oversight and regulation of the over-the-counter derivatives market and entities, such as us, that participate in that market.\n",
            "\n",
            "['congress', 'adopted', 'comprehensive', 'financial-reform-token', 'legislation', 'dodd-frank-token', 'act', 'establishes', 'federal', 'oversight', 'regulation-token', 'over-the-counter', 'derivatives', 'market', 'entities', 'participate', 'market']\n"
          ]
        }
      ],
      "source": [
        "i = 107915\n",
        "print(data.loc[i, \"sentences\"])\n",
        "print()\n",
        "print(prep.tokens[i])"
      ]
    },
    {
      "cell_type": "markdown",
      "metadata": {
        "id": "Ljag15cJdut3"
      },
      "source": [
        "### *6. Stem or lemmatize*"
      ]
    },
    {
      "cell_type": "markdown",
      "metadata": {
        "id": "zXFH4m4mdut3"
      },
      "source": [
        "As a next step, one might attempt to group together words that are grammatically different but thematically identical. For example, it could be reasonable to keep words such as *\"obligations\"*, *\"obligation\"* and  *\"oblige\"* under a single token. Ultimately these three words denote the same concept, and so we might want them to share the same symbol. \n",
        "\n",
        "The two most popular techniques to achieve this goal are **stemming** and **lemmatization**.  Stemming replaces each word with its root form. The resulting token is less readable by humans but encompases multiple words (e.g. *\"tradition\"* and *\"traditional\"* have the same stem: *\"tradit\"*). Lemmatization replaces words with their dictionary form i.e. lemma. The words *\"changing\"*, *\"changes\"* and *\"changed\"* all have the same lemma: *\"change\"*.\n",
        "\n",
        "The ```RawDocs``` class allows both stemming (via nltk Snowball stemmer) and lemmatization (via spaCy lemmatizer). Below, we use both techniques and look at the different results on a specific document. Stems and lemmas are stored in the \"stems\" and \"lemmas\" attributes respectively."
      ]
    },
    {
      "cell_type": "code",
      "execution_count": 35,
      "metadata": {
        "colab": {
          "base_uri": "https://localhost:8080/"
        },
        "id": "nhQVNTAfdut3",
        "outputId": "b0374383-9f1b-4118-f6a5-5624621aee69"
      },
      "outputs": [],
      "source": [
        "# apply stemming to all documents\n",
        "prep.stem()"
      ]
    },
    {
      "cell_type": "code",
      "execution_count": 36,
      "metadata": {
        "colab": {
          "base_uri": "https://localhost:8080/"
        },
        "id": "q83cG0qfdut4",
        "outputId": "2105afc1-e6f6-4449-a114-4c0f86556caf"
      },
      "outputs": [],
      "source": [
        "# apply lemmatization to all documents (takes a very long time so we will avoid it for now)\n",
        "# prep.lemmatize()"
      ]
    },
    {
      "cell_type": "code",
      "execution_count": 38,
      "metadata": {
        "colab": {
          "base_uri": "https://localhost:8080/"
        },
        "id": "6jFi3QiVdut4",
        "outputId": "34c2954e-a6cb-4149-c9e5-4084470bef28"
      },
      "outputs": [
        {
          "name": "stdout",
          "output_type": "stream",
          "text": [
            "Congress adopted comprehensive financial reform legislation under the Dodd-Frank Act that establishes federal oversight and regulation of the over-the-counter derivatives market and entities, such as us, that participate in that market.\n",
            "\n",
            "['congress', 'adopted', 'comprehensive', 'financial-reform-token', 'legislation', 'dodd-frank-token', 'act', 'establishes', 'federal', 'oversight', 'regulation-token', 'over-the-counter', 'derivatives', 'market', 'entities', 'participate', 'market']\n",
            "\n",
            "['congress', 'adopt', 'comprehens', 'financial-reform-token', 'legisl', 'dodd-frank-token', 'act', 'establish', 'feder', 'oversight', 'regulation-token', 'over-the-counter', 'deriv', 'market', 'entiti', 'particip', 'market']\n",
            "\n"
          ]
        }
      ],
      "source": [
        "# compare all versions of the same raw sentences\n",
        "i = 107915\n",
        "print(data.loc[i, \"sentences\"])\n",
        "print()\n",
        "print(prep.tokens[i])\n",
        "print()\n",
        "print(prep.stems[i])\n",
        "print()\n",
        "#print(prep.lemmas[i])"
      ]
    },
    {
      "cell_type": "markdown",
      "metadata": {
        "id": "hMHoyG--dut4"
      },
      "source": [
        "### *7. Term ranking*"
      ]
    },
    {
      "cell_type": "markdown",
      "metadata": {
        "id": "Ek7ktzk8dut4"
      },
      "source": [
        "Finally, one might want to drop very frequent terms, as they could be regarded as corpus-specific stopwords that do not add up much value. Similarly, one might want to drop very rare terms, considering that not much can be learnt from such infrequent items. \n",
        "\n",
        "To explore these ideas, the ```get_term_ranking()``` method comes in handy. It allows to rank items (either tokens, stems or lemmas) according to pure **document frequency (df)** or to **term frequency inverse document frequency (tf-idf)**; where we give a large weight to terms that appear frequently in the entire dataset, but in relatively few documents. In particular, the tf-idf score for term $v$ is computed according to the formula below:\n",
        "\n",
        "\\begin{equation}\n",
        "tfidf_v = (1+log(tf_v)) (log \\frac{N}{df_v + 1})\n",
        "\\end{equation}\n",
        "\n",
        "Results are stored in the ```df_ranking``` and ```tfidf_ranking``` attributes respectively, and come as a list of tuples of the form (score, term, ranking position). \n",
        "Let's now look at the top ranked tokens in terms of document frequency:"
      ]
    },
    {
      "cell_type": "code",
      "execution_count": 39,
      "metadata": {
        "colab": {
          "base_uri": "https://localhost:8080/"
        },
        "id": "CNbuBatDdut4",
        "outputId": "666ef3d4-26e2-4073-fb08-19f8225780f6"
      },
      "outputs": [
        {
          "data": {
            "text/plain": [
              "[(308155.0, 'may', 0),\n",
              " (147726.0, 'business', 1),\n",
              " (106719.0, 'financial', 2),\n",
              " (100666.0, 'operations', 3),\n",
              " (100517.0, 'will', 4),\n",
              " (86754.0, 'results', 5),\n",
              " (82080.0, 'including', 6),\n",
              " (80152.0, 'products', 7),\n",
              " (78884.0, 'result', 8),\n",
              " (76608.0, 'future', 9),\n",
              " (72275.0, 'ability', 10),\n",
              " (67167.0, 'adversely', 11),\n",
              " (64749.0, 'market', 12),\n",
              " (62428.0, 'subject', 13),\n",
              " (60660.0, 'affect', 14)]"
            ]
          },
          "execution_count": 39,
          "metadata": {},
          "output_type": "execute_result"
        }
      ],
      "source": [
        "prep.get_term_ranking(items='tokens', score_type='df')\n",
        "prep.df_ranking['tokens'][:15]"
      ]
    },
    {
      "cell_type": "markdown",
      "metadata": {
        "id": "6C84Rr-jdut5"
      },
      "source": [
        "As we can see, tokens such as \"business\" or \"financial\" rank very high with document frequencies of 147,726 and 106,719 respectively out of 1,077,416 documents (i.e. \"business\" is present in around 14% of the documents and \"financial\" in 10%)\n",
        "\n",
        "Let's now look at the top ranked tokens in terms of tf-idf:"
      ]
    },
    {
      "cell_type": "code",
      "execution_count": 41,
      "metadata": {
        "colab": {
          "base_uri": "https://localhost:8080/"
        },
        "id": "cQWJKzfIdut5",
        "outputId": "85283f6e-b0f6-441c-ea60-15435e94627b"
      },
      "outputs": [
        {
          "data": {
            "text/plain": [
              "[(60.97096036848512, 'kaleyra', 0),\n",
              " (60.15888517721545, 'figr', 1),\n",
              " (59.85425198965002, 'jtx-', 2),\n",
              " (59.64041224434897, 'mereo', 3),\n",
              " (59.41517415039296, 'nep', 4),\n",
              " (59.3929465971522, 'xmab', 5),\n",
              " (59.066910853588354, 'sulopenem', 6),\n",
              " (58.9436385692586, 'circular', 7),\n",
              " (58.80973653418351, 'hmi-', 8),\n",
              " (58.748353858224185, 'turning', 9)]"
            ]
          },
          "execution_count": 41,
          "metadata": {},
          "output_type": "execute_result"
        }
      ],
      "source": [
        "prep.get_term_ranking(items='tokens', score_type='tfidf')\n",
        "prep.tfidf_ranking['tokens'][:10]"
      ]
    },
    {
      "cell_type": "markdown",
      "metadata": {
        "id": "2_ILguAldut5"
      },
      "source": [
        "As we can see, the two methods differ considerably in how they rank tokens. Indeed, tf-idf weights more those terms that are frequent, but appear in relatively few documents. Consequently, names of companies get highly weighted (e.g. [Kaleyra](https://www.kaleyra.com/), [NEP](https://www.nepgroup.com/country/united-states), [Mereo](https://www.mereobiopharma.com/), [FIGR](https://www.figr.com/)) since they appear only in few documents (probably only the sentences from the 10-K report of the company) but are used very frequently in those documents. What would happen if we aggregate sentences at the firm-level and calculate tf-idf scores again?"
      ]
    },
    {
      "cell_type": "markdown",
      "metadata": {},
      "source": [
        "If instead we look at the bottom-ranked tokens, we see that there is considerably more agreement between the two methods:"
      ]
    },
    {
      "cell_type": "code",
      "execution_count": 42,
      "metadata": {
        "colab": {
          "base_uri": "https://localhost:8080/"
        },
        "id": "KOftb7c2dut5",
        "outputId": "bbb8d0b2-5de2-4335-ba32-0f0037418522"
      },
      "outputs": [
        {
          "data": {
            "text/plain": [
              "[(1.0, 'zugibe', 2603),\n",
              " (1.0, 'zur', 2603),\n",
              " (1.0, 'zurn', 2603),\n",
              " (1.0, 'zvex-based', 2603),\n",
              " (1.0, 'zwillinger', 2603),\n",
              " (1.0, 'zyban', 2603),\n",
              " (1.0, 'zymeworks', 2603),\n",
              " (1.0, 'zymogenic', 2603),\n",
              " (1.0, 'zynga', 2603),\n",
              " (1.0, 'zyxel', 2603)]"
            ]
          },
          "execution_count": 42,
          "metadata": {},
          "output_type": "execute_result"
        }
      ],
      "source": [
        "prep.df_ranking['tokens'][-10:]"
      ]
    },
    {
      "cell_type": "code",
      "execution_count": 43,
      "metadata": {
        "colab": {
          "base_uri": "https://localhost:8080/"
        },
        "id": "VVi3c65Rdut5",
        "outputId": "fb1d0bd3-f7cb-43a7-daf8-4569600d2f2e"
      },
      "outputs": [
        {
          "data": {
            "text/plain": [
              "[(13.196928959124534, 'zostavax', 7097),\n",
              " (13.196928959124534, 'zoster', 7097),\n",
              " (13.196928959124534, 'zotrip', 7097),\n",
              " (13.196928959124534, 'zpharm', 7097),\n",
              " (13.196928959124534, 'zpl', 7097),\n",
              " (13.196928959124534, 'zubsolv', 7097),\n",
              " (13.196928959124534, 'zugibe', 7097),\n",
              " (13.196928959124534, 'zur', 7097),\n",
              " (13.196928959124534, 'zurn', 7097),\n",
              " (13.196928959124534, 'zvex-based', 7097),\n",
              " (13.196928959124534, 'zwillinger', 7097),\n",
              " (13.196928959124534, 'zyban', 7097),\n",
              " (13.196928959124534, 'zymeworks', 7097),\n",
              " (13.196928959124534, 'zynga', 7097),\n",
              " (13.196928959124534, 'zyxel', 7097)]"
            ]
          },
          "execution_count": 43,
          "metadata": {},
          "output_type": "execute_result"
        }
      ],
      "source": [
        "prep.tfidf_ranking['tokens'][-15:]"
      ]
    },
    {
      "cell_type": "markdown",
      "metadata": {
        "id": "iTV9NxC6dut5"
      },
      "source": [
        "Let's now inspect the overall behavior of the document frequency ranking and the tf-idf ranking. As we can see, document frequency decays very fast (following a power-law), while tf-idf decreases at a slower pace."
      ]
    },
    {
      "cell_type": "code",
      "execution_count": 44,
      "metadata": {
        "colab": {
          "base_uri": "https://localhost:8080/"
        },
        "id": "AU5YBC78dut5",
        "outputId": "8555fd2b-b21f-4ad4-e03f-9ad71f80e7bd"
      },
      "outputs": [
        {
          "data": {
            "image/png": "[encoded data removed]",
            "text/plain": [
              "<Figure size 720x432 with 1 Axes>"
            ]
          },
          "metadata": {
            "needs_background": "light"
          },
          "output_type": "display_data"
        }
      ],
      "source": [
        "plt.figure(figsize=(10,6))\n",
        "plt.plot([x[0] for x in prep.df_ranking['tokens']])\n",
        "plt.title('Document frequency ranking')\n",
        "plt.ylabel(\"Document frequency\")\n",
        "plt.xlabel(\"Term ranking\")\n",
        "plt.show()"
      ]
    },
    {
      "cell_type": "code",
      "execution_count": 45,
      "metadata": {},
      "outputs": [
        {
          "data": {
            "image/png": "[encoded data removed]",
            "text/plain": [
              "<Figure size 720x432 with 1 Axes>"
            ]
          },
          "metadata": {
            "needs_background": "light"
          },
          "output_type": "display_data"
        }
      ],
      "source": [
        "# we can use a log-log scale to observe more clearly the power-law distribution (Zipf's law)\n",
        "plt.figure(figsize=(10,6))\n",
        "plt.loglog([x[0] for x in prep.df_ranking['tokens']])\n",
        "plt.title('Document frequency ranking (log-log)')\n",
        "plt.ylabel(\"log document frequency\")\n",
        "plt.xlabel(\"log term ranking\")\n",
        "plt.show()"
      ]
    },
    {
      "cell_type": "code",
      "execution_count": 46,
      "metadata": {
        "colab": {
          "base_uri": "https://localhost:8080/"
        },
        "id": "S7kjLkeddut6",
        "outputId": "c238c41f-0616-465d-9424-6f3e97089510"
      },
      "outputs": [
        {
          "data": {
            "image/png": "[encoded data removed]",
            "text/plain": [
              "<Figure size 720x432 with 1 Axes>"
            ]
          },
          "metadata": {
            "needs_background": "light"
          },
          "output_type": "display_data"
        }
      ],
      "source": [
        "plt.figure(figsize=(10,6))\n",
        "plt.plot([x[0] for x in prep.tfidf_ranking['tokens']])\n",
        "plt.title('Tf-idf ranking')\n",
        "plt.ylabel(\"tf-idf\")\n",
        "plt.xlabel(\"Term ranking\")\n",
        "plt.show()"
      ]
    },
    {
      "cell_type": "markdown",
      "metadata": {},
      "source": [
        "### *8. Vectorization*\n",
        "\n",
        "Now that we have finished pre-processing our text we will use the python library **Scikit-learn** to transform our list of tokens, lemmas or stems into numerical matrices. We will call this new representation of the text a **document-term** matrix. This matrix, can be used as the input to many bag-of-words text analysis algorithms such as dictionary methods, word2vec, Latent Semantic Analysis (LSA) or Linear Dirichlet Allocation (LDA).\n",
        "\n",
        "Check the documentation for the [```CountVectorizer```](https://scikit-learn.org/stable/modules/generated/sklearn.feature_extraction.text.CountVectorizer.html) and the [```TfidfVectorizer```](https://scikit-learn.org/stable/modules/generated/sklearn.feature_extraction.text.TfidfVectorizer.html#sklearn.feature_extraction.text.TfidfVectorizer) to explore all the parameters and functionalities of these classes. Although this notebook extensively uses a custom preprocessing pipeline, one can also rely on the preprocessing tools available on these classes. "
      ]
    },
    {
      "cell_type": "code",
      "execution_count": 47,
      "metadata": {},
      "outputs": [],
      "source": [
        "# # create a CountVectorizer object straight from the raw text\n",
        "# count_vectorizer = CountVectorizer(encoding='utf-8',\n",
        "#                                    token_pattern=pattern,\n",
        "#                                    lowercase=True,\n",
        "#                                    strip_accents=\"ascii\",\n",
        "#                                    stop_words=\"english\", \n",
        "#                                    ngram_range=(1, 1),       # generate only unigrams\n",
        "#                                    analyzer='word',          # analysis at the word-level \n",
        "#                                    max_df=0.5,              # ignore tokens that have a higher document frequency (can be int or percent)\n",
        "#                                    min_df=20,                # ignore tokens that have a lowe document frequency (can be int or percent)\n",
        "#                                    max_features=None,        # we could impose a maximum number of vocabulary terms\n",
        "#                                    )\n",
        "                                   \n",
        "# # transform our preprocessed tokens into a document-term matrix\n",
        "# dt_matrix_raw = count_vectorizer.fit_transform(data[\"sentences\"])\n",
        "# print(f\"Document-term matrix created with shape: {dt_matrix_raw.shape}\")"
      ]
    },
    {
      "cell_type": "code",
      "execution_count": 48,
      "metadata": {},
      "outputs": [],
      "source": [
        "# simple auxiliary function to override the preprocessing done by sklearn\n",
        "def do_nothing(doc):\n",
        "    return doc"
      ]
    },
    {
      "cell_type": "code",
      "execution_count": 49,
      "metadata": {},
      "outputs": [],
      "source": [
        "# create a CountVectorizer object using our preprocessed text\n",
        "count_vectorizer = CountVectorizer(encoding='utf-8', \n",
        "                                   preprocessor=do_nothing,  # apply no additional preprocessing\n",
        "                                   tokenizer=do_nothing,     # apply no additional tokenization\n",
        "                                   lowercase=False,\n",
        "                                   strip_accents=None,\n",
        "                                   stop_words=None, \n",
        "                                   ngram_range=(1, 1),       # generate only unigrams\n",
        "                                   analyzer='word',          # analysis at the word-level \n",
        "                                   max_df=0.5,              # ignore tokens that have a higher document frequency (can be int or percent)\n",
        "                                   min_df=500,                # ignore tokens that have a lowe document frequency (can be int or percent)\n",
        "                                   max_features=None,        # we could impose a maximum number of vocabulary terms\n",
        "                                   )"
      ]
    },
    {
      "cell_type": "code",
      "execution_count": 50,
      "metadata": {},
      "outputs": [
        {
          "name": "stdout",
          "output_type": "stream",
          "text": [
            "Document-term matrix created with shape: (1077416, 2972)\n"
          ]
        }
      ],
      "source": [
        "# transform our preprocessed tokens into a document-term matrix\n",
        "dt_matrix = count_vectorizer.fit_transform(prep.tokens)\n",
        "print(f\"Document-term matrix created with shape: {dt_matrix.shape}\")"
      ]
    },
    {
      "cell_type": "code",
      "execution_count": 51,
      "metadata": {},
      "outputs": [
        {
          "data": {
            "text/plain": [
              "[('carefully', 372),\n",
              " ('review', 2425),\n",
              " ('following', 1174),\n",
              " ('discussion', 841),\n",
              " ('risks', 2440),\n",
              " ('may', 1705),\n",
              " ('affect', 94),\n",
              " ('business', 338),\n",
              " ('results', 2412),\n",
              " ('operations', 1878)]"
            ]
          },
          "execution_count": 51,
          "metadata": {},
          "output_type": "execute_result"
        }
      ],
      "source": [
        "# we can access a dictionary that maps between words and positions of the document-term matrix\n",
        "list(count_vectorizer.vocabulary_.items())[0:10]"
      ]
    },
    {
      "cell_type": "code",
      "execution_count": 52,
      "metadata": {},
      "outputs": [
        {
          "name": "stdout",
          "output_type": "stream",
          "text": [
            "Position of interest-rate-token in document-term matrix: 1478\n",
            "Position of taxes-token in document-term matrix: 2703\n"
          ]
        }
      ],
      "source": [
        "# check that our replaced expressions are part of the vocabulary\n",
        "print(f\"Position of {'interest-rate-token'} in document-term matrix: {count_vectorizer.vocabulary_['interest-rate-token']}\")\n",
        "print(f\"Position of {'taxes-token'} in document-term matrix: {count_vectorizer.vocabulary_['taxes-token']}\")"
      ]
    },
    {
      "cell_type": "markdown",
      "metadata": {
        "id": "m1bRVbnudut7"
      },
      "source": [
        "### *9. Example of dictionary methods*"
      ]
    },
    {
      "cell_type": "markdown",
      "metadata": {
        "id": "LGS6SXvHdut7"
      },
      "source": [
        "In this last section, we will show how to use the document-term matrix for a simple analysis. We will use several term sets developed by [Baker et al. (2019)](https://www.nber.org/system/files/working_papers/w25720/w25720.pdf) to capture a variety of broad thematic categories in newspaper articles. These categories include topics such as financial regulation, taxation, healthcare and commodities.\n",
        "\n",
        "The overall idea is to use the words that describe each one of these categories to analyze how firms are exposed to each on of these issues. Furthermore, we would want to understand how this exposition varies according to some main characteristics of firms (e.g. secotor, size).\n",
        "\n",
        "It is worth highlighting that the main motivation behind the phrase replacing step we perfomed earlier was to preserve all of the expressions included in the term sets developed by Baker et al. (2019)."
      ]
    },
    {
      "cell_type": "code",
      "execution_count": 53,
      "metadata": {},
      "outputs": [],
      "source": [
        "# open the sets of terms from Baker et al. (2019)\n",
        "file = open(data_path + \"broad_term_dictionaries_clean.txt\", \"r\")\n",
        "contents = file.read()\n",
        "dictionary = ast.literal_eval(contents)\n",
        "file.close()"
      ]
    },
    {
      "cell_type": "code",
      "execution_count": 54,
      "metadata": {},
      "outputs": [
        {
          "name": "stdout",
          "output_type": "stream",
          "text": [
            "Cleaning 13 tokens for topic: list_broad_quantity\n",
            "Cleaning 33 tokens for topic: list_commodity\n",
            "Cleaning 17 tokens for topic: list_competition\n",
            "Cleaning 5 tokens for topic: list_consumer\n",
            "Cleaning 13 tokens for topic: list_elections\n",
            "Cleaning 10 tokens for topic: list_exchange_rate\n",
            "Cleaning 9 tokens for topic: list_financial_crisis\n",
            "Cleaning 15 tokens for topic: list_govt_enterprises\n",
            "Cleaning 22 tokens for topic: list_govt_spending\n",
            "Cleaning 22 tokens for topic: list_healthcare\n",
            "Cleaning 7 tokens for topic: list_inflation\n",
            "Cleaning 7 tokens for topic: list_interest_rates\n",
            "Cleaning 4 tokens for topic: list_invest_sentiment\n",
            "Cleaning 8 tokens for topic: list_ip\n",
            "Cleaning 7 tokens for topic: list_labor_disputes\n",
            "Cleaning 17 tokens for topic: list_labor_markets\n",
            "Cleaning 10 tokens for topic: list_litigation\n",
            "Cleaning 31 tokens for topic: list_monetary\n",
            "Cleaning 11 tokens for topic: list_other_financial\n",
            "Cleaning 2 tokens for topic: list_policy_agri\n",
            "Cleaning 4 tokens for topic: list_policy_food\n",
            "Cleaning 26 tokens for topic: list_policy_trade\n",
            "Cleaning 13 tokens for topic: list_real_estate\n",
            "Cleaning 33 tokens for topic: list_reg_energy\n",
            "Cleaning 32 tokens for topic: list_reg_finance\n",
            "Cleaning 3 tokens for topic: list_reg_generic\n",
            "Cleaning 13 tokens for topic: list_reg_housing\n",
            "Cleaning 18 tokens for topic: list_reg_immigration\n",
            "Cleaning 6 tokens for topic: list_reg_ip\n",
            "Cleaning 25 tokens for topic: list_reg_labor\n",
            "Cleaning 6 tokens for topic: list_reg_lawsuit\n",
            "Cleaning 6 tokens for topic: list_reg_other\n",
            "Cleaning 28 tokens for topic: list_security\n",
            "Cleaning 47 tokens for topic: list_taxes\n",
            "Cleaning 5 tokens for topic: list_trade\n",
            "Cleaning 21 tokens for topic: list_transport\n",
            "Cleaning 28 tokens for topic: list_welfare\n"
          ]
        }
      ],
      "source": [
        "# adjust the term sets to match our tokens (i.e. replace _ with -)\n",
        "clean_dictionaries = {}\n",
        "for k,v in dictionary.items():\n",
        "    print(f\"Cleaning {len(v)} tokens for topic: {k}\")\n",
        "    clean_dictionaries[k] = [token.replace(\"_\", \"-\") for token in v]"
      ]
    },
    {
      "cell_type": "code",
      "execution_count": 55,
      "metadata": {},
      "outputs": [],
      "source": [
        "# we will focus only on some of the categories for the current analysis\n",
        "taxes_dict = clean_dictionaries[\"list_taxes\"]\n",
        "commodity_dict = clean_dictionaries[\"list_commodity\"]\n",
        "healthcare_dict = clean_dictionaries[\"list_healthcare\"]\n",
        "monetary_dict = clean_dictionaries[\"list_monetary\"]\n",
        "trade_dict = clean_dictionaries[\"list_policy_trade\"]\n",
        "reg_finance_dict = clean_dictionaries[\"list_reg_finance\"]\n",
        "elections_dict = clean_dictionaries[\"list_elections\"]\n",
        "regulation_dict = clean_dictionaries[\"list_reg_generic\"]"
      ]
    },
    {
      "cell_type": "code",
      "execution_count": 56,
      "metadata": {},
      "outputs": [
        {
          "name": "stdout",
          "output_type": "stream",
          "text": [
            "Taxes dictionary:\n",
            "['taxes-token', 'tax-token', 'taxation-token', 'tax-token', 'income-tax-token', 'tax-on-individual-token', 'personal-tax-token', 'capital-gain-tax-token', 'tax-on-capital-gain-token', 'dividend-tax-token', 'mortgage-interest-deduction-token', 'deduction-for-mortgage-interest-token', 'ira-account-token', 'roth-ira-token', 'traditional-ira-token', '401-k-token', 'state-and-local-tax-deduction-token', 'deductibility-of-state-and-local-tax-token', 'payroll-tax-token', 'social-security-tax-token', 'social-security-contribution-token', 'medicare-taxis-token', 'fica-token', 'unemployment-tax-token', 'futa-token', 'sale-tax-token', 'excise-tax-token', 'value-add-tax-token', 'vat-token', 'good-and-service-tax-token', 'gross-receipt-tax-token', 'corporate-tax-token', 'business-tax-token', 'profit-tax-token', 'investment-tax-credit-token', 'accelerate-depreciation-token', 'r-d-tax-credit-token', 'research-and-development-tax-credit-token', 'tax-credit-for-low-income-housing-token', 'low-income-housing-credit-token', 'black-liquor-tax-credit-token', 'black-liquor-credit-token', 'fuel-excise-tax-rebate-token', 'fuel-tax-credit-token', 'alcohol-fuel-credit-token', 'property-tax-token', 'internal-revenue-service-token']\n",
            "\n",
            "-------------------\n",
            "\n",
            "Healthcare dictionary:\n",
            "['healthcare-token', 'health-insurance-token', 'medicaid-token', 'medicare-token', 'affordable-care-act-token', 'obamacare-token', 'medical-liability-token', 'medical-malpractice-token', 'prescription-drug-token', 'drug-policy-token', 'fda-token', 'va-hospital-token', 'va-healthcare-token', 'veteran-affair-hospital-token', 'veteran-affair-healthcare-token', 'veteran-health-administration-token', 'national-institute-of-health-token', 'healthcare-policy-token', 'health-insurance-token', 'affordable-care-act-token', 'malpractice-tort-reform-token', 'malpractice-reform-token']\n",
            "\n",
            "-------------------\n",
            "\n",
            "Commodities dictionary:\n",
            "['wheat-token', 'corn-token', 'soy-token', 'sugar-token', 'cotton-token', 'beef-token', 'pork-token', 'petroleum-token', 'oil-token', 'coal-token', 'natural-gas-token', 'biofuel-token', 'ethanol-token', 'steel-token', 'copper-token', 'zinc-token', 'tin-token', 'platinum-token', 'rare-earth-metal-token', 'metal-token', 'aluminum-token', 'lead-token', 'cme-token', 'commodity-exchange-token', 'cbot-token', 'nymex-token', 'lme-token', 'london-metal-exchange-token', 'mercantile-exchange-token', 'intercontinental-exchange-token', 'board-of-trade-token', 'alaska-pipeline-token', 'gas-pipeline-token']\n",
            "\n",
            "-------------------\n",
            "\n"
          ]
        }
      ],
      "source": [
        "# explore the tokens in the term sets\n",
        "print(\"Taxes dictionary:\")\n",
        "print(taxes_dict)\n",
        "print(\"\\n-------------------\\n\")\n",
        "print(\"Healthcare dictionary:\")\n",
        "print(healthcare_dict)\n",
        "print(\"\\n-------------------\\n\")\n",
        "print(\"Commodities dictionary:\")\n",
        "print(commodity_dict)\n",
        "print(\"\\n-------------------\\n\")"
      ]
    },
    {
      "cell_type": "code",
      "execution_count": 57,
      "metadata": {
        "colab": {
          "base_uri": "https://localhost:8080/"
        },
        "id": "Z45P5mjCdut8",
        "outputId": "b4b78814-3c84-4524-83d8-f9cd2ac09549"
      },
      "outputs": [
        {
          "name": "stdout",
          "output_type": "stream",
          "text": [
            "7 tokens found in vocabulary for taxes dictionary\n",
            "7 tokens found in vocabulary for commodity dictionary\n",
            "6 tokens found in vocabulary for healthcare dictionary\n",
            "1 tokens found in vocabulary for monetary dictionary\n",
            "1 tokens found in vocabulary for trade dictionary\n",
            "6 tokens found in vocabulary for financial regulation dictionary\n",
            "1 tokens found in vocabulary for elections dictionary\n",
            "3 tokens found in vocabulary for generic regulation dictionary\n"
          ]
        }
      ],
      "source": [
        "# find the position in the vocabulary of all terms\n",
        "taxes_idxs = [v for k,v in count_vectorizer.vocabulary_.items() if k in taxes_dict]\n",
        "print(f\"{len(taxes_idxs)} tokens found in vocabulary for taxes dictionary\")\n",
        "\n",
        "commodity_idxs = [v for k,v in count_vectorizer.vocabulary_.items() if k in commodity_dict]\n",
        "print(f\"{len(commodity_idxs)} tokens found in vocabulary for commodity dictionary\")\n",
        "\n",
        "healthcare_idxs = [v for k,v in count_vectorizer.vocabulary_.items() if k in healthcare_dict]\n",
        "print(f\"{len(healthcare_idxs)} tokens found in vocabulary for healthcare dictionary\")\n",
        "\n",
        "monetary_idxs = [v for k,v in count_vectorizer.vocabulary_.items() if k in monetary_dict]\n",
        "print(f\"{len(monetary_idxs)} tokens found in vocabulary for monetary dictionary\")\n",
        "\n",
        "trade_idxs = [v for k,v in count_vectorizer.vocabulary_.items() if k in trade_dict]\n",
        "print(f\"{len(trade_idxs)} tokens found in vocabulary for trade dictionary\")\n",
        "\n",
        "reg_finance_idxs = [v for k,v in count_vectorizer.vocabulary_.items() if k in reg_finance_dict]\n",
        "print(f\"{len(reg_finance_idxs)} tokens found in vocabulary for financial regulation dictionary\")\n",
        "\n",
        "elections_idxs = [v for k,v in count_vectorizer.vocabulary_.items() if k in elections_dict]\n",
        "print(f\"{len(elections_idxs)} tokens found in vocabulary for elections dictionary\")\n",
        "\n",
        "regulation_idxs = [v for k,v in count_vectorizer.vocabulary_.items() if k in regulation_dict]\n",
        "print(f\"{len(regulation_idxs)} tokens found in vocabulary for generic regulation dictionary\")"
      ]
    },
    {
      "cell_type": "code",
      "execution_count": 58,
      "metadata": {
        "id": "wjdnGPfodut8"
      },
      "outputs": [],
      "source": [
        "# count the total number of appearances of the tokens in each category per document\n",
        "taxes_counts = dt_matrix.tocsr()[:, taxes_idxs]\n",
        "taxes_counts = taxes_counts.sum(axis=1)\n",
        "\n",
        "commodity_counts = dt_matrix.tocsr()[:, commodity_idxs]\n",
        "commodity_counts = commodity_counts.sum(axis=1)\n",
        "\n",
        "reg_finance_counts = dt_matrix.tocsr()[:, reg_finance_idxs]\n",
        "reg_finance_counts = reg_finance_counts.sum(axis=1)\n",
        "\n",
        "healthcare_counts = dt_matrix.tocsr()[:, healthcare_idxs]\n",
        "healthcare_counts = healthcare_counts.sum(axis=1)\n",
        "\n",
        "monetary_counts = dt_matrix.tocsr()[:, monetary_idxs]\n",
        "monetary_counts = monetary_counts.sum(axis=1)"
      ]
    },
    {
      "cell_type": "code",
      "execution_count": 59,
      "metadata": {
        "id": "i8zc8HUtdut8"
      },
      "outputs": [],
      "source": [
        "# add counts to structured data\n",
        "data['taxes_counts'] = taxes_counts\n",
        "data['commodity_counts'] = commodity_counts\n",
        "data['reg_finance_counts'] = reg_finance_counts\n",
        "data['healthcare_counts'] = healthcare_counts\n",
        "data['monetary_counts'] = monetary_counts"
      ]
    },
    {
      "cell_type": "markdown",
      "metadata": {},
      "source": [
        "Our structured data now includes the number of tokens from each category that were found in each document."
      ]
    },
    {
      "cell_type": "code",
      "execution_count": 60,
      "metadata": {},
      "outputs": [
        {
          "data": {
            "text/html": [
              "<div>\n",
              "<style scoped>\n",
              "    .dataframe tbody tr th:only-of-type {\n",
              "        vertical-align: middle;\n",
              "    }\n",
              "\n",
              "    .dataframe tbody tr th {\n",
              "        vertical-align: top;\n",
              "    }\n",
              "\n",
              "    .dataframe thead th {\n",
              "        text-align: right;\n",
              "    }\n",
              "</style>\n",
              "<table border=\"1\" class=\"dataframe\">\n",
              "  <thead>\n",
              "    <tr style=\"text-align: right;\">\n",
              "      <th></th>\n",
              "      <th>sentences</th>\n",
              "      <th>cik</th>\n",
              "      <th>year</th>\n",
              "      <th>sent_no</th>\n",
              "      <th>sent_id</th>\n",
              "      <th>length</th>\n",
              "      <th>taxes_counts</th>\n",
              "      <th>commodity_counts</th>\n",
              "      <th>reg_finance_counts</th>\n",
              "      <th>healthcare_counts</th>\n",
              "      <th>monetary_counts</th>\n",
              "    </tr>\n",
              "  </thead>\n",
              "  <tbody>\n",
              "    <tr>\n",
              "      <th>0</th>\n",
              "      <td>You should carefully review the following disc...</td>\n",
              "      <td>1065088</td>\n",
              "      <td>2019</td>\n",
              "      <td>0</td>\n",
              "      <td>1065088_0</td>\n",
              "      <td>47</td>\n",
              "      <td>0</td>\n",
              "      <td>0</td>\n",
              "      <td>0</td>\n",
              "      <td>0</td>\n",
              "      <td>0</td>\n",
              "    </tr>\n",
              "    <tr>\n",
              "      <th>1</th>\n",
              "      <td>Risk Factors That May Affect our Business, Res...</td>\n",
              "      <td>1065088</td>\n",
              "      <td>2019</td>\n",
              "      <td>1</td>\n",
              "      <td>1065088_1</td>\n",
              "      <td>13</td>\n",
              "      <td>0</td>\n",
              "      <td>0</td>\n",
              "      <td>0</td>\n",
              "      <td>0</td>\n",
              "      <td>0</td>\n",
              "    </tr>\n",
              "    <tr>\n",
              "      <th>2</th>\n",
              "      <td>Our operating and financial results are subjec...</td>\n",
              "      <td>1065088</td>\n",
              "      <td>2019</td>\n",
              "      <td>2</td>\n",
              "      <td>1065088_2</td>\n",
              "      <td>39</td>\n",
              "      <td>0</td>\n",
              "      <td>0</td>\n",
              "      <td>0</td>\n",
              "      <td>0</td>\n",
              "      <td>0</td>\n",
              "    </tr>\n",
              "    <tr>\n",
              "      <th>3</th>\n",
              "      <td>Our operating and financial results have varie...</td>\n",
              "      <td>1065088</td>\n",
              "      <td>2019</td>\n",
              "      <td>3</td>\n",
              "      <td>1065088_3</td>\n",
              "      <td>43</td>\n",
              "      <td>0</td>\n",
              "      <td>0</td>\n",
              "      <td>0</td>\n",
              "      <td>0</td>\n",
              "      <td>0</td>\n",
              "    </tr>\n",
              "    <tr>\n",
              "      <th>4</th>\n",
              "      <td>It is difficult for us to forecast the level o...</td>\n",
              "      <td>1065088</td>\n",
              "      <td>2019</td>\n",
              "      <td>4</td>\n",
              "      <td>1065088_4</td>\n",
              "      <td>18</td>\n",
              "      <td>0</td>\n",
              "      <td>0</td>\n",
              "      <td>0</td>\n",
              "      <td>0</td>\n",
              "      <td>0</td>\n",
              "    </tr>\n",
              "  </tbody>\n",
              "</table>\n",
              "</div>"
            ],
            "text/plain": [
              "                                           sentences      cik  year  sent_no  \\\n",
              "0  You should carefully review the following disc...  1065088  2019        0   \n",
              "1  Risk Factors That May Affect our Business, Res...  1065088  2019        1   \n",
              "2  Our operating and financial results are subjec...  1065088  2019        2   \n",
              "3  Our operating and financial results have varie...  1065088  2019        3   \n",
              "4  It is difficult for us to forecast the level o...  1065088  2019        4   \n",
              "\n",
              "     sent_id  length  taxes_counts  commodity_counts  reg_finance_counts  \\\n",
              "0  1065088_0      47             0                 0                   0   \n",
              "1  1065088_1      13             0                 0                   0   \n",
              "2  1065088_2      39             0                 0                   0   \n",
              "3  1065088_3      43             0                 0                   0   \n",
              "4  1065088_4      18             0                 0                   0   \n",
              "\n",
              "   healthcare_counts  monetary_counts  \n",
              "0                  0                0  \n",
              "1                  0                0  \n",
              "2                  0                0  \n",
              "3                  0                0  \n",
              "4                  0                0  "
            ]
          },
          "execution_count": 60,
          "metadata": {},
          "output_type": "execute_result"
        }
      ],
      "source": [
        "data.head()"
      ]
    },
    {
      "cell_type": "code",
      "execution_count": 61,
      "metadata": {
        "colab": {
          "base_uri": "https://localhost:8080/",
          "height": 234
        },
        "id": "9Kzbj-lpdut8",
        "outputId": "415eb301-0407-4de7-a574-21547726255b"
      },
      "outputs": [
        {
          "name": "stdout",
          "output_type": "stream",
          "text": [
            "(2500, 6)\n"
          ]
        },
        {
          "data": {
            "text/html": [
              "<div>\n",
              "<style scoped>\n",
              "    .dataframe tbody tr th:only-of-type {\n",
              "        vertical-align: middle;\n",
              "    }\n",
              "\n",
              "    .dataframe tbody tr th {\n",
              "        vertical-align: top;\n",
              "    }\n",
              "\n",
              "    .dataframe thead th {\n",
              "        text-align: right;\n",
              "    }\n",
              "</style>\n",
              "<table border=\"1\" class=\"dataframe\">\n",
              "  <thead>\n",
              "    <tr style=\"text-align: right;\">\n",
              "      <th></th>\n",
              "      <th>cik</th>\n",
              "      <th>taxes_counts</th>\n",
              "      <th>commodity_counts</th>\n",
              "      <th>reg_finance_counts</th>\n",
              "      <th>healthcare_counts</th>\n",
              "      <th>monetary_counts</th>\n",
              "    </tr>\n",
              "  </thead>\n",
              "  <tbody>\n",
              "    <tr>\n",
              "      <th>0</th>\n",
              "      <td>2098</td>\n",
              "      <td>2</td>\n",
              "      <td>1</td>\n",
              "      <td>0</td>\n",
              "      <td>0</td>\n",
              "      <td>2</td>\n",
              "    </tr>\n",
              "    <tr>\n",
              "      <th>1</th>\n",
              "      <td>2178</td>\n",
              "      <td>8</td>\n",
              "      <td>31</td>\n",
              "      <td>1</td>\n",
              "      <td>0</td>\n",
              "      <td>0</td>\n",
              "    </tr>\n",
              "    <tr>\n",
              "      <th>2</th>\n",
              "      <td>2186</td>\n",
              "      <td>5</td>\n",
              "      <td>2</td>\n",
              "      <td>3</td>\n",
              "      <td>0</td>\n",
              "      <td>0</td>\n",
              "    </tr>\n",
              "    <tr>\n",
              "      <th>3</th>\n",
              "      <td>3453</td>\n",
              "      <td>13</td>\n",
              "      <td>15</td>\n",
              "      <td>1</td>\n",
              "      <td>0</td>\n",
              "      <td>1</td>\n",
              "    </tr>\n",
              "    <tr>\n",
              "      <th>4</th>\n",
              "      <td>3499</td>\n",
              "      <td>40</td>\n",
              "      <td>2</td>\n",
              "      <td>0</td>\n",
              "      <td>0</td>\n",
              "      <td>4</td>\n",
              "    </tr>\n",
              "  </tbody>\n",
              "</table>\n",
              "</div>"
            ],
            "text/plain": [
              "    cik  taxes_counts  commodity_counts  reg_finance_counts  \\\n",
              "0  2098             2                 1                   0   \n",
              "1  2178             8                31                   1   \n",
              "2  2186             5                 2                   3   \n",
              "3  3453            13                15                   1   \n",
              "4  3499            40                 2                   0   \n",
              "\n",
              "   healthcare_counts  monetary_counts  \n",
              "0                  0                2  \n",
              "1                  0                0  \n",
              "2                  0                0  \n",
              "3                  0                1  \n",
              "4                  0                4  "
            ]
          },
          "execution_count": 61,
          "metadata": {},
          "output_type": "execute_result"
        }
      ],
      "source": [
        "# aggregate at the firm level\n",
        "data_agg = data.groupby(['cik'], as_index=False).agg({'taxes_counts': 'sum', 'commodity_counts': 'sum', 'reg_finance_counts': 'sum', \n",
        "                                                      'healthcare_counts': 'sum', 'monetary_counts': 'sum'})\n",
        "print(data_agg.shape)\n",
        "data_agg.head()"
      ]
    },
    {
      "cell_type": "code",
      "execution_count": 62,
      "metadata": {},
      "outputs": [
        {
          "data": {
            "text/html": [
              "<div>\n",
              "<style scoped>\n",
              "    .dataframe tbody tr th:only-of-type {\n",
              "        vertical-align: middle;\n",
              "    }\n",
              "\n",
              "    .dataframe tbody tr th {\n",
              "        vertical-align: top;\n",
              "    }\n",
              "\n",
              "    .dataframe thead th {\n",
              "        text-align: right;\n",
              "    }\n",
              "</style>\n",
              "<table border=\"1\" class=\"dataframe\">\n",
              "  <thead>\n",
              "    <tr style=\"text-align: right;\">\n",
              "      <th></th>\n",
              "      <th>gvkey</th>\n",
              "      <th>datadate</th>\n",
              "      <th>fyear</th>\n",
              "      <th>indfmt</th>\n",
              "      <th>consol</th>\n",
              "      <th>popsrc</th>\n",
              "      <th>datafmt</th>\n",
              "      <th>tic</th>\n",
              "      <th>conm</th>\n",
              "      <th>curcd</th>\n",
              "      <th>act</th>\n",
              "      <th>at</th>\n",
              "      <th>emp</th>\n",
              "      <th>cik</th>\n",
              "      <th>costat</th>\n",
              "      <th>naics</th>\n",
              "      <th>naics2</th>\n",
              "      <th>naics2_name</th>\n",
              "    </tr>\n",
              "  </thead>\n",
              "  <tbody>\n",
              "    <tr>\n",
              "      <th>0</th>\n",
              "      <td>1004</td>\n",
              "      <td>20200531</td>\n",
              "      <td>2019</td>\n",
              "      <td>INDL</td>\n",
              "      <td>C</td>\n",
              "      <td>D</td>\n",
              "      <td>STD</td>\n",
              "      <td>AIR</td>\n",
              "      <td>AAR CORP</td>\n",
              "      <td>USD</td>\n",
              "      <td>1438.700</td>\n",
              "      <td>2079.000</td>\n",
              "      <td>5.400</td>\n",
              "      <td>1750</td>\n",
              "      <td>A</td>\n",
              "      <td>423860</td>\n",
              "      <td>42</td>\n",
              "      <td>Wholesale Trade</td>\n",
              "    </tr>\n",
              "    <tr>\n",
              "      <th>1</th>\n",
              "      <td>1050</td>\n",
              "      <td>20191231</td>\n",
              "      <td>2019</td>\n",
              "      <td>INDL</td>\n",
              "      <td>C</td>\n",
              "      <td>D</td>\n",
              "      <td>STD</td>\n",
              "      <td>CECE</td>\n",
              "      <td>CECO ENVIRONMENTAL CORP</td>\n",
              "      <td>USD</td>\n",
              "      <td>179.498</td>\n",
              "      <td>408.637</td>\n",
              "      <td>0.830</td>\n",
              "      <td>3197</td>\n",
              "      <td>A</td>\n",
              "      <td>333413</td>\n",
              "      <td>33</td>\n",
              "      <td>Manufacturing</td>\n",
              "    </tr>\n",
              "    <tr>\n",
              "      <th>2</th>\n",
              "      <td>1078</td>\n",
              "      <td>20191231</td>\n",
              "      <td>2019</td>\n",
              "      <td>INDL</td>\n",
              "      <td>C</td>\n",
              "      <td>D</td>\n",
              "      <td>STD</td>\n",
              "      <td>ABT</td>\n",
              "      <td>ABBOTT LABORATORIES</td>\n",
              "      <td>USD</td>\n",
              "      <td>15667.000</td>\n",
              "      <td>67887.000</td>\n",
              "      <td>107.000</td>\n",
              "      <td>1800</td>\n",
              "      <td>A</td>\n",
              "      <td>334510</td>\n",
              "      <td>33</td>\n",
              "      <td>Manufacturing</td>\n",
              "    </tr>\n",
              "    <tr>\n",
              "      <th>3</th>\n",
              "      <td>1104</td>\n",
              "      <td>20191231</td>\n",
              "      <td>2019</td>\n",
              "      <td>INDL</td>\n",
              "      <td>C</td>\n",
              "      <td>D</td>\n",
              "      <td>STD</td>\n",
              "      <td>ACU</td>\n",
              "      <td>ACME UNITED CORP</td>\n",
              "      <td>USD</td>\n",
              "      <td>73.146</td>\n",
              "      <td>110.749</td>\n",
              "      <td>0.441</td>\n",
              "      <td>2098</td>\n",
              "      <td>A</td>\n",
              "      <td>332215</td>\n",
              "      <td>33</td>\n",
              "      <td>Manufacturing</td>\n",
              "    </tr>\n",
              "    <tr>\n",
              "      <th>4</th>\n",
              "      <td>1117</td>\n",
              "      <td>20191231</td>\n",
              "      <td>2019</td>\n",
              "      <td>INDL</td>\n",
              "      <td>C</td>\n",
              "      <td>D</td>\n",
              "      <td>STD</td>\n",
              "      <td>BKTI</td>\n",
              "      <td>BK TECHNOLOGIES CORP</td>\n",
              "      <td>USD</td>\n",
              "      <td>23.886</td>\n",
              "      <td>37.940</td>\n",
              "      <td>0.111</td>\n",
              "      <td>2186</td>\n",
              "      <td>A</td>\n",
              "      <td>334220</td>\n",
              "      <td>33</td>\n",
              "      <td>Manufacturing</td>\n",
              "    </tr>\n",
              "  </tbody>\n",
              "</table>\n",
              "</div>"
            ],
            "text/plain": [
              "   gvkey  datadate  fyear indfmt consol popsrc datafmt   tic  \\\n",
              "0   1004  20200531   2019   INDL      C      D     STD   AIR   \n",
              "1   1050  20191231   2019   INDL      C      D     STD  CECE   \n",
              "2   1078  20191231   2019   INDL      C      D     STD   ABT   \n",
              "3   1104  20191231   2019   INDL      C      D     STD   ACU   \n",
              "4   1117  20191231   2019   INDL      C      D     STD  BKTI   \n",
              "\n",
              "                      conm curcd        act         at      emp   cik costat  \\\n",
              "0                 AAR CORP   USD   1438.700   2079.000    5.400  1750      A   \n",
              "1  CECO ENVIRONMENTAL CORP   USD    179.498    408.637    0.830  3197      A   \n",
              "2      ABBOTT LABORATORIES   USD  15667.000  67887.000  107.000  1800      A   \n",
              "3         ACME UNITED CORP   USD     73.146    110.749    0.441  2098      A   \n",
              "4     BK TECHNOLOGIES CORP   USD     23.886     37.940    0.111  2186      A   \n",
              "\n",
              "    naics  naics2      naics2_name  \n",
              "0  423860      42  Wholesale Trade  \n",
              "1  333413      33    Manufacturing  \n",
              "2  334510      33    Manufacturing  \n",
              "3  332215      33    Manufacturing  \n",
              "4  334220      33    Manufacturing  "
            ]
          },
          "execution_count": 62,
          "metadata": {},
          "output_type": "execute_result"
        }
      ],
      "source": [
        "# load additional data for firms\n",
        "covariates = pd.read_csv(data_path + \"covariates_2019.csv\")\n",
        "covariates.head()"
      ]
    },
    {
      "cell_type": "code",
      "execution_count": 63,
      "metadata": {},
      "outputs": [
        {
          "data": {
            "text/html": [
              "<div>\n",
              "<style scoped>\n",
              "    .dataframe tbody tr th:only-of-type {\n",
              "        vertical-align: middle;\n",
              "    }\n",
              "\n",
              "    .dataframe tbody tr th {\n",
              "        vertical-align: top;\n",
              "    }\n",
              "\n",
              "    .dataframe thead th {\n",
              "        text-align: right;\n",
              "    }\n",
              "</style>\n",
              "<table border=\"1\" class=\"dataframe\">\n",
              "  <thead>\n",
              "    <tr style=\"text-align: right;\">\n",
              "      <th></th>\n",
              "      <th>cik</th>\n",
              "      <th>taxes_counts</th>\n",
              "      <th>commodity_counts</th>\n",
              "      <th>reg_finance_counts</th>\n",
              "      <th>healthcare_counts</th>\n",
              "      <th>monetary_counts</th>\n",
              "      <th>gvkey</th>\n",
              "      <th>datadate</th>\n",
              "      <th>fyear</th>\n",
              "      <th>indfmt</th>\n",
              "      <th>...</th>\n",
              "      <th>tic</th>\n",
              "      <th>conm</th>\n",
              "      <th>curcd</th>\n",
              "      <th>act</th>\n",
              "      <th>at</th>\n",
              "      <th>emp</th>\n",
              "      <th>costat</th>\n",
              "      <th>naics</th>\n",
              "      <th>naics2</th>\n",
              "      <th>naics2_name</th>\n",
              "    </tr>\n",
              "  </thead>\n",
              "  <tbody>\n",
              "    <tr>\n",
              "      <th>0</th>\n",
              "      <td>2098</td>\n",
              "      <td>2</td>\n",
              "      <td>1</td>\n",
              "      <td>0</td>\n",
              "      <td>0</td>\n",
              "      <td>2</td>\n",
              "      <td>1104</td>\n",
              "      <td>20191231</td>\n",
              "      <td>2019</td>\n",
              "      <td>INDL</td>\n",
              "      <td>...</td>\n",
              "      <td>ACU</td>\n",
              "      <td>ACME UNITED CORP</td>\n",
              "      <td>USD</td>\n",
              "      <td>73.146</td>\n",
              "      <td>110.749</td>\n",
              "      <td>0.441</td>\n",
              "      <td>A</td>\n",
              "      <td>332215</td>\n",
              "      <td>33</td>\n",
              "      <td>Manufacturing</td>\n",
              "    </tr>\n",
              "    <tr>\n",
              "      <th>1</th>\n",
              "      <td>2178</td>\n",
              "      <td>8</td>\n",
              "      <td>31</td>\n",
              "      <td>1</td>\n",
              "      <td>0</td>\n",
              "      <td>0</td>\n",
              "      <td>1121</td>\n",
              "      <td>20191231</td>\n",
              "      <td>2019</td>\n",
              "      <td>INDL</td>\n",
              "      <td>...</td>\n",
              "      <td>AE</td>\n",
              "      <td>ADAMS RESOURCES &amp; ENERGY INC</td>\n",
              "      <td>USD</td>\n",
              "      <td>247.324</td>\n",
              "      <td>330.842</td>\n",
              "      <td>0.664</td>\n",
              "      <td>A</td>\n",
              "      <td>424720</td>\n",
              "      <td>42</td>\n",
              "      <td>Wholesale Trade</td>\n",
              "    </tr>\n",
              "    <tr>\n",
              "      <th>2</th>\n",
              "      <td>2186</td>\n",
              "      <td>5</td>\n",
              "      <td>2</td>\n",
              "      <td>3</td>\n",
              "      <td>0</td>\n",
              "      <td>0</td>\n",
              "      <td>1117</td>\n",
              "      <td>20191231</td>\n",
              "      <td>2019</td>\n",
              "      <td>INDL</td>\n",
              "      <td>...</td>\n",
              "      <td>BKTI</td>\n",
              "      <td>BK TECHNOLOGIES CORP</td>\n",
              "      <td>USD</td>\n",
              "      <td>23.886</td>\n",
              "      <td>37.940</td>\n",
              "      <td>0.111</td>\n",
              "      <td>A</td>\n",
              "      <td>334220</td>\n",
              "      <td>33</td>\n",
              "      <td>Manufacturing</td>\n",
              "    </tr>\n",
              "    <tr>\n",
              "      <th>3</th>\n",
              "      <td>3453</td>\n",
              "      <td>13</td>\n",
              "      <td>15</td>\n",
              "      <td>1</td>\n",
              "      <td>0</td>\n",
              "      <td>1</td>\n",
              "      <td>1254</td>\n",
              "      <td>20191231</td>\n",
              "      <td>2019</td>\n",
              "      <td>INDL</td>\n",
              "      <td>...</td>\n",
              "      <td>MATX</td>\n",
              "      <td>MATSON INC</td>\n",
              "      <td>USD</td>\n",
              "      <td>289.600</td>\n",
              "      <td>2845.400</td>\n",
              "      <td>1.988</td>\n",
              "      <td>A</td>\n",
              "      <td>483113</td>\n",
              "      <td>48</td>\n",
              "      <td>Transportation and Warehousing</td>\n",
              "    </tr>\n",
              "    <tr>\n",
              "      <th>4</th>\n",
              "      <td>3499</td>\n",
              "      <td>40</td>\n",
              "      <td>2</td>\n",
              "      <td>0</td>\n",
              "      <td>0</td>\n",
              "      <td>4</td>\n",
              "      <td>1257</td>\n",
              "      <td>20191231</td>\n",
              "      <td>2019</td>\n",
              "      <td>INDL</td>\n",
              "      <td>...</td>\n",
              "      <td>ALX</td>\n",
              "      <td>ALEXANDER'S INC</td>\n",
              "      <td>USD</td>\n",
              "      <td>NaN</td>\n",
              "      <td>1265.511</td>\n",
              "      <td>0.069</td>\n",
              "      <td>A</td>\n",
              "      <td>531120</td>\n",
              "      <td>53</td>\n",
              "      <td>Real Estate and Rental and Leasing</td>\n",
              "    </tr>\n",
              "  </tbody>\n",
              "</table>\n",
              "<p>5 rows × 23 columns</p>\n",
              "</div>"
            ],
            "text/plain": [
              "    cik  taxes_counts  commodity_counts  reg_finance_counts  \\\n",
              "0  2098             2                 1                   0   \n",
              "1  2178             8                31                   1   \n",
              "2  2186             5                 2                   3   \n",
              "3  3453            13                15                   1   \n",
              "4  3499            40                 2                   0   \n",
              "\n",
              "   healthcare_counts  monetary_counts  gvkey  datadate  fyear indfmt  ...  \\\n",
              "0                  0                2   1104  20191231   2019   INDL  ...   \n",
              "1                  0                0   1121  20191231   2019   INDL  ...   \n",
              "2                  0                0   1117  20191231   2019   INDL  ...   \n",
              "3                  0                1   1254  20191231   2019   INDL  ...   \n",
              "4                  0                4   1257  20191231   2019   INDL  ...   \n",
              "\n",
              "    tic                          conm curcd      act        at    emp  costat  \\\n",
              "0   ACU              ACME UNITED CORP   USD   73.146   110.749  0.441       A   \n",
              "1    AE  ADAMS RESOURCES & ENERGY INC   USD  247.324   330.842  0.664       A   \n",
              "2  BKTI          BK TECHNOLOGIES CORP   USD   23.886    37.940  0.111       A   \n",
              "3  MATX                    MATSON INC   USD  289.600  2845.400  1.988       A   \n",
              "4   ALX               ALEXANDER'S INC   USD      NaN  1265.511  0.069       A   \n",
              "\n",
              "    naics  naics2                         naics2_name  \n",
              "0  332215      33                       Manufacturing  \n",
              "1  424720      42                     Wholesale Trade  \n",
              "2  334220      33                       Manufacturing  \n",
              "3  483113      48      Transportation and Warehousing  \n",
              "4  531120      53  Real Estate and Rental and Leasing  \n",
              "\n",
              "[5 rows x 23 columns]"
            ]
          },
          "execution_count": 63,
          "metadata": {},
          "output_type": "execute_result"
        }
      ],
      "source": [
        "# merge new data to firm level counts\n",
        "data_agg = pd.merge(data_agg, covariates, how=\"inner\", on=\"cik\")\n",
        "data_agg.head()"
      ]
    },
    {
      "cell_type": "markdown",
      "metadata": {},
      "source": [
        "#### **Counts per NAICS2 sector**\n",
        "\n",
        "Now that we have consolidate the counts of some of the different thematic categories at the firm level, we can analyse how the exposure to these themes varies according to a firm's sector."
      ]
    },
    {
      "cell_type": "code",
      "execution_count": 64,
      "metadata": {},
      "outputs": [
        {
          "data": {
            "text/html": [
              "<div>\n",
              "<style scoped>\n",
              "    .dataframe tbody tr th:only-of-type {\n",
              "        vertical-align: middle;\n",
              "    }\n",
              "\n",
              "    .dataframe tbody tr th {\n",
              "        vertical-align: top;\n",
              "    }\n",
              "\n",
              "    .dataframe thead th {\n",
              "        text-align: right;\n",
              "    }\n",
              "</style>\n",
              "<table border=\"1\" class=\"dataframe\">\n",
              "  <thead>\n",
              "    <tr style=\"text-align: right;\">\n",
              "      <th></th>\n",
              "      <th>naics2_name</th>\n",
              "      <th>taxes_counts</th>\n",
              "      <th>commodity_counts</th>\n",
              "      <th>reg_finance_counts</th>\n",
              "      <th>healthcare_counts</th>\n",
              "      <th>monetary_counts</th>\n",
              "    </tr>\n",
              "  </thead>\n",
              "  <tbody>\n",
              "    <tr>\n",
              "      <th>0</th>\n",
              "      <td>Accommodation and Food Services</td>\n",
              "      <td>26.756757</td>\n",
              "      <td>7.324324</td>\n",
              "      <td>2.891892</td>\n",
              "      <td>2.135135</td>\n",
              "      <td>0.000000</td>\n",
              "    </tr>\n",
              "    <tr>\n",
              "      <th>1</th>\n",
              "      <td>Administrative and Support and Waste Managemen...</td>\n",
              "      <td>19.500000</td>\n",
              "      <td>7.916667</td>\n",
              "      <td>2.722222</td>\n",
              "      <td>2.722222</td>\n",
              "      <td>0.166667</td>\n",
              "    </tr>\n",
              "    <tr>\n",
              "      <th>2</th>\n",
              "      <td>Agriculture, Forestry, Fishing and Hunting (no...</td>\n",
              "      <td>2.600000</td>\n",
              "      <td>2.400000</td>\n",
              "      <td>3.600000</td>\n",
              "      <td>2.000000</td>\n",
              "      <td>0.400000</td>\n",
              "    </tr>\n",
              "    <tr>\n",
              "      <th>3</th>\n",
              "      <td>Arts, Entertainment, and Recreation</td>\n",
              "      <td>23.428571</td>\n",
              "      <td>2.428571</td>\n",
              "      <td>5.428571</td>\n",
              "      <td>0.142857</td>\n",
              "      <td>0.000000</td>\n",
              "    </tr>\n",
              "    <tr>\n",
              "      <th>4</th>\n",
              "      <td>Construction</td>\n",
              "      <td>18.413793</td>\n",
              "      <td>6.137931</td>\n",
              "      <td>2.103448</td>\n",
              "      <td>0.517241</td>\n",
              "      <td>0.310345</td>\n",
              "    </tr>\n",
              "    <tr>\n",
              "      <th>5</th>\n",
              "      <td>Educational Services</td>\n",
              "      <td>14.333333</td>\n",
              "      <td>3.111111</td>\n",
              "      <td>3.333333</td>\n",
              "      <td>1.666667</td>\n",
              "      <td>0.000000</td>\n",
              "    </tr>\n",
              "    <tr>\n",
              "      <th>6</th>\n",
              "      <td>Finance and Insurance</td>\n",
              "      <td>23.310606</td>\n",
              "      <td>4.969697</td>\n",
              "      <td>11.041667</td>\n",
              "      <td>2.689394</td>\n",
              "      <td>3.422348</td>\n",
              "    </tr>\n",
              "    <tr>\n",
              "      <th>7</th>\n",
              "      <td>Health Care and Social Assistance</td>\n",
              "      <td>15.880000</td>\n",
              "      <td>4.360000</td>\n",
              "      <td>2.560000</td>\n",
              "      <td>88.480000</td>\n",
              "      <td>0.120000</td>\n",
              "    </tr>\n",
              "    <tr>\n",
              "      <th>8</th>\n",
              "      <td>Information</td>\n",
              "      <td>32.030120</td>\n",
              "      <td>4.150602</td>\n",
              "      <td>5.066265</td>\n",
              "      <td>2.831325</td>\n",
              "      <td>0.174699</td>\n",
              "    </tr>\n",
              "    <tr>\n",
              "      <th>9</th>\n",
              "      <td>Manufacturing</td>\n",
              "      <td>19.318182</td>\n",
              "      <td>8.787013</td>\n",
              "      <td>3.837662</td>\n",
              "      <td>37.887013</td>\n",
              "      <td>0.037662</td>\n",
              "    </tr>\n",
              "    <tr>\n",
              "      <th>10</th>\n",
              "      <td>Mining, Quarrying, and Oil and Gas Extraction</td>\n",
              "      <td>24.931034</td>\n",
              "      <td>105.425287</td>\n",
              "      <td>6.356322</td>\n",
              "      <td>0.022989</td>\n",
              "      <td>0.080460</td>\n",
              "    </tr>\n",
              "    <tr>\n",
              "      <th>11</th>\n",
              "      <td>Other Services (except Public Administration)</td>\n",
              "      <td>16.000000</td>\n",
              "      <td>1.750000</td>\n",
              "      <td>0.500000</td>\n",
              "      <td>3.750000</td>\n",
              "      <td>0.000000</td>\n",
              "    </tr>\n",
              "    <tr>\n",
              "      <th>12</th>\n",
              "      <td>Professional, Scientific, and Technical Services</td>\n",
              "      <td>14.558824</td>\n",
              "      <td>6.485294</td>\n",
              "      <td>3.029412</td>\n",
              "      <td>5.117647</td>\n",
              "      <td>0.014706</td>\n",
              "    </tr>\n",
              "    <tr>\n",
              "      <th>13</th>\n",
              "      <td>Real Estate and Rental and Leasing</td>\n",
              "      <td>57.152047</td>\n",
              "      <td>5.304094</td>\n",
              "      <td>3.000000</td>\n",
              "      <td>7.719298</td>\n",
              "      <td>0.690058</td>\n",
              "    </tr>\n",
              "    <tr>\n",
              "      <th>14</th>\n",
              "      <td>Retail Trade</td>\n",
              "      <td>20.932432</td>\n",
              "      <td>10.337838</td>\n",
              "      <td>2.337838</td>\n",
              "      <td>2.270270</td>\n",
              "      <td>0.162162</td>\n",
              "    </tr>\n",
              "    <tr>\n",
              "      <th>15</th>\n",
              "      <td>Transportation and Warehousing</td>\n",
              "      <td>34.564103</td>\n",
              "      <td>41.512821</td>\n",
              "      <td>2.743590</td>\n",
              "      <td>0.974359</td>\n",
              "      <td>0.179487</td>\n",
              "    </tr>\n",
              "    <tr>\n",
              "      <th>16</th>\n",
              "      <td>Utilities</td>\n",
              "      <td>15.266667</td>\n",
              "      <td>26.911111</td>\n",
              "      <td>2.044444</td>\n",
              "      <td>0.200000</td>\n",
              "      <td>0.044444</td>\n",
              "    </tr>\n",
              "    <tr>\n",
              "      <th>17</th>\n",
              "      <td>Wholesale Trade</td>\n",
              "      <td>25.779661</td>\n",
              "      <td>15.593220</td>\n",
              "      <td>4.101695</td>\n",
              "      <td>6.576271</td>\n",
              "      <td>0.050847</td>\n",
              "    </tr>\n",
              "  </tbody>\n",
              "</table>\n",
              "</div>"
            ],
            "text/plain": [
              "                                          naics2_name  taxes_counts  \\\n",
              "0                     Accommodation and Food Services     26.756757   \n",
              "1   Administrative and Support and Waste Managemen...     19.500000   \n",
              "2   Agriculture, Forestry, Fishing and Hunting (no...      2.600000   \n",
              "3                 Arts, Entertainment, and Recreation     23.428571   \n",
              "4                                        Construction     18.413793   \n",
              "5                                Educational Services     14.333333   \n",
              "6                               Finance and Insurance     23.310606   \n",
              "7                   Health Care and Social Assistance     15.880000   \n",
              "8                                         Information     32.030120   \n",
              "9                                       Manufacturing     19.318182   \n",
              "10      Mining, Quarrying, and Oil and Gas Extraction     24.931034   \n",
              "11      Other Services (except Public Administration)     16.000000   \n",
              "12   Professional, Scientific, and Technical Services     14.558824   \n",
              "13                 Real Estate and Rental and Leasing     57.152047   \n",
              "14                                       Retail Trade     20.932432   \n",
              "15                     Transportation and Warehousing     34.564103   \n",
              "16                                          Utilities     15.266667   \n",
              "17                                    Wholesale Trade     25.779661   \n",
              "\n",
              "    commodity_counts  reg_finance_counts  healthcare_counts  monetary_counts  \n",
              "0           7.324324            2.891892           2.135135         0.000000  \n",
              "1           7.916667            2.722222           2.722222         0.166667  \n",
              "2           2.400000            3.600000           2.000000         0.400000  \n",
              "3           2.428571            5.428571           0.142857         0.000000  \n",
              "4           6.137931            2.103448           0.517241         0.310345  \n",
              "5           3.111111            3.333333           1.666667         0.000000  \n",
              "6           4.969697           11.041667           2.689394         3.422348  \n",
              "7           4.360000            2.560000          88.480000         0.120000  \n",
              "8           4.150602            5.066265           2.831325         0.174699  \n",
              "9           8.787013            3.837662          37.887013         0.037662  \n",
              "10        105.425287            6.356322           0.022989         0.080460  \n",
              "11          1.750000            0.500000           3.750000         0.000000  \n",
              "12          6.485294            3.029412           5.117647         0.014706  \n",
              "13          5.304094            3.000000           7.719298         0.690058  \n",
              "14         10.337838            2.337838           2.270270         0.162162  \n",
              "15         41.512821            2.743590           0.974359         0.179487  \n",
              "16         26.911111            2.044444           0.200000         0.044444  \n",
              "17         15.593220            4.101695           6.576271         0.050847  "
            ]
          },
          "execution_count": 64,
          "metadata": {},
          "output_type": "execute_result"
        }
      ],
      "source": [
        "# calculate the average number of tokens per sector\n",
        "data_sector = data_agg[[\"naics2_name\" ,\"taxes_counts\", \"commodity_counts\", \"reg_finance_counts\", \"healthcare_counts\", \"monetary_counts\"]].groupby(\"naics2_name\", as_index=False).mean()\n",
        "data_sector"
      ]
    },
    {
      "cell_type": "code",
      "execution_count": 65,
      "metadata": {},
      "outputs": [
        {
          "data": {
            "image/png": "[encoded data removed]",
            "text/plain": [
              "<Figure size 1152x720 with 2 Axes>"
            ]
          },
          "metadata": {
            "needs_background": "light"
          },
          "output_type": "display_data"
        }
      ],
      "source": [
        "# visualize table as heatmap\n",
        "data_plot = data_sector.set_index(\"naics2_name\")\n",
        "plt.figure(figsize=(16,10))\n",
        "sns.heatmap(data_plot, annot=True, fmt=\"g\", cmap='viridis')\n",
        "plt.show()"
      ]
    },
    {
      "cell_type": "code",
      "execution_count": 66,
      "metadata": {},
      "outputs": [
        {
          "data": {
            "image/png": "[encoded data removed]",
            "text/plain": [
              "<Figure size 864x576 with 1 Axes>"
            ]
          },
          "metadata": {
            "needs_background": "light"
          },
          "output_type": "display_data"
        }
      ],
      "source": [
        "# plot according to exposure to topic\n",
        "df_plot = data_sector.sort_values(\"commodity_counts\", ascending=False)\n",
        "\n",
        "plt.figure(figsize=(12,8))\n",
        "sns.barplot(data=df_plot, x=\"commodity_counts\", y=\"naics2_name\", palette=\"Blues_r\")\n",
        "plt.title(\"Commodities topic\")\n",
        "plt.xlabel(\"Average number of tokens from topic per firm\")\n",
        "plt.ylabel(\"Sector\")\n",
        "plt.show()"
      ]
    },
    {
      "cell_type": "code",
      "execution_count": 67,
      "metadata": {},
      "outputs": [
        {
          "data": {
            "text/html": [
              "<div>\n",
              "<style scoped>\n",
              "    .dataframe tbody tr th:only-of-type {\n",
              "        vertical-align: middle;\n",
              "    }\n",
              "\n",
              "    .dataframe tbody tr th {\n",
              "        vertical-align: top;\n",
              "    }\n",
              "\n",
              "    .dataframe thead th {\n",
              "        text-align: right;\n",
              "    }\n",
              "</style>\n",
              "<table border=\"1\" class=\"dataframe\">\n",
              "  <thead>\n",
              "    <tr style=\"text-align: right;\">\n",
              "      <th></th>\n",
              "      <th>cik</th>\n",
              "      <th>taxes_counts</th>\n",
              "      <th>commodity_counts</th>\n",
              "      <th>reg_finance_counts</th>\n",
              "      <th>healthcare_counts</th>\n",
              "      <th>monetary_counts</th>\n",
              "      <th>gvkey</th>\n",
              "      <th>datadate</th>\n",
              "      <th>fyear</th>\n",
              "      <th>indfmt</th>\n",
              "      <th>...</th>\n",
              "      <th>tic</th>\n",
              "      <th>conm</th>\n",
              "      <th>curcd</th>\n",
              "      <th>act</th>\n",
              "      <th>at</th>\n",
              "      <th>emp</th>\n",
              "      <th>costat</th>\n",
              "      <th>naics</th>\n",
              "      <th>naics2</th>\n",
              "      <th>naics2_name</th>\n",
              "    </tr>\n",
              "  </thead>\n",
              "  <tbody>\n",
              "    <tr>\n",
              "      <th>2052</th>\n",
              "      <td>1681459</td>\n",
              "      <td>68</td>\n",
              "      <td>35</td>\n",
              "      <td>2</td>\n",
              "      <td>0</td>\n",
              "      <td>0</td>\n",
              "      <td>30923</td>\n",
              "      <td>20191231</td>\n",
              "      <td>2019</td>\n",
              "      <td>INDL</td>\n",
              "      <td>...</td>\n",
              "      <td>FTI</td>\n",
              "      <td>TECHNIPFMC PLC</td>\n",
              "      <td>USD</td>\n",
              "      <td>11886.40</td>\n",
              "      <td>23518.800</td>\n",
              "      <td>37.000</td>\n",
              "      <td>A</td>\n",
              "      <td>237120</td>\n",
              "      <td>23</td>\n",
              "      <td>Construction</td>\n",
              "    </tr>\n",
              "    <tr>\n",
              "      <th>627</th>\n",
              "      <td>866273</td>\n",
              "      <td>3</td>\n",
              "      <td>30</td>\n",
              "      <td>0</td>\n",
              "      <td>0</td>\n",
              "      <td>0</td>\n",
              "      <td>23195</td>\n",
              "      <td>20190630</td>\n",
              "      <td>2019</td>\n",
              "      <td>INDL</td>\n",
              "      <td>...</td>\n",
              "      <td>MTRX</td>\n",
              "      <td>MATRIX SERVICE CO</td>\n",
              "      <td>USD</td>\n",
              "      <td>417.31</td>\n",
              "      <td>633.394</td>\n",
              "      <td>5.000</td>\n",
              "      <td>A</td>\n",
              "      <td>237120</td>\n",
              "      <td>23</td>\n",
              "      <td>Construction</td>\n",
              "    </tr>\n",
              "    <tr>\n",
              "      <th>1806</th>\n",
              "      <td>1562476</td>\n",
              "      <td>33</td>\n",
              "      <td>13</td>\n",
              "      <td>8</td>\n",
              "      <td>0</td>\n",
              "      <td>1</td>\n",
              "      <td>16653</td>\n",
              "      <td>20191231</td>\n",
              "      <td>2019</td>\n",
              "      <td>INDL</td>\n",
              "      <td>...</td>\n",
              "      <td>TMHC</td>\n",
              "      <td>TAYLOR MORRISON HOME CORP</td>\n",
              "      <td>USD</td>\n",
              "      <td>NaN</td>\n",
              "      <td>5245.686</td>\n",
              "      <td>2.300</td>\n",
              "      <td>A</td>\n",
              "      <td>236117</td>\n",
              "      <td>23</td>\n",
              "      <td>Construction</td>\n",
              "    </tr>\n",
              "    <tr>\n",
              "      <th>1822</th>\n",
              "      <td>1574197</td>\n",
              "      <td>74</td>\n",
              "      <td>11</td>\n",
              "      <td>8</td>\n",
              "      <td>0</td>\n",
              "      <td>0</td>\n",
              "      <td>31108</td>\n",
              "      <td>20191231</td>\n",
              "      <td>2019</td>\n",
              "      <td>INDL</td>\n",
              "      <td>...</td>\n",
              "      <td>FPH</td>\n",
              "      <td>FIVE POINT HOLDINGS LLC</td>\n",
              "      <td>USD</td>\n",
              "      <td>NaN</td>\n",
              "      <td>3004.700</td>\n",
              "      <td>0.175</td>\n",
              "      <td>A</td>\n",
              "      <td>237210</td>\n",
              "      <td>23</td>\n",
              "      <td>Construction</td>\n",
              "    </tr>\n",
              "    <tr>\n",
              "      <th>1827</th>\n",
              "      <td>1576940</td>\n",
              "      <td>41</td>\n",
              "      <td>11</td>\n",
              "      <td>2</td>\n",
              "      <td>0</td>\n",
              "      <td>0</td>\n",
              "      <td>18004</td>\n",
              "      <td>20191231</td>\n",
              "      <td>2019</td>\n",
              "      <td>INDL</td>\n",
              "      <td>...</td>\n",
              "      <td>CCS</td>\n",
              "      <td>CENTURY COMMUNITIES INC</td>\n",
              "      <td>USD</td>\n",
              "      <td>NaN</td>\n",
              "      <td>2499.967</td>\n",
              "      <td>1.460</td>\n",
              "      <td>A</td>\n",
              "      <td>236117</td>\n",
              "      <td>23</td>\n",
              "      <td>Construction</td>\n",
              "    </tr>\n",
              "  </tbody>\n",
              "</table>\n",
              "<p>5 rows × 23 columns</p>\n",
              "</div>"
            ],
            "text/plain": [
              "          cik  taxes_counts  commodity_counts  reg_finance_counts  \\\n",
              "2052  1681459            68                35                   2   \n",
              "627    866273             3                30                   0   \n",
              "1806  1562476            33                13                   8   \n",
              "1822  1574197            74                11                   8   \n",
              "1827  1576940            41                11                   2   \n",
              "\n",
              "      healthcare_counts  monetary_counts  gvkey  datadate  fyear indfmt  ...  \\\n",
              "2052                  0                0  30923  20191231   2019   INDL  ...   \n",
              "627                   0                0  23195  20190630   2019   INDL  ...   \n",
              "1806                  0                1  16653  20191231   2019   INDL  ...   \n",
              "1822                  0                0  31108  20191231   2019   INDL  ...   \n",
              "1827                  0                0  18004  20191231   2019   INDL  ...   \n",
              "\n",
              "       tic                       conm curcd       act         at     emp  \\\n",
              "2052   FTI             TECHNIPFMC PLC   USD  11886.40  23518.800  37.000   \n",
              "627   MTRX          MATRIX SERVICE CO   USD    417.31    633.394   5.000   \n",
              "1806  TMHC  TAYLOR MORRISON HOME CORP   USD       NaN   5245.686   2.300   \n",
              "1822   FPH    FIVE POINT HOLDINGS LLC   USD       NaN   3004.700   0.175   \n",
              "1827   CCS    CENTURY COMMUNITIES INC   USD       NaN   2499.967   1.460   \n",
              "\n",
              "      costat   naics  naics2   naics2_name  \n",
              "2052       A  237120      23  Construction  \n",
              "627        A  237120      23  Construction  \n",
              "1806       A  236117      23  Construction  \n",
              "1822       A  237210      23  Construction  \n",
              "1827       A  236117      23  Construction  \n",
              "\n",
              "[5 rows x 23 columns]"
            ]
          },
          "execution_count": 67,
          "metadata": {},
          "output_type": "execute_result"
        }
      ],
      "source": [
        "data_construction = data_agg.loc[data_agg[\"naics2_name\"] == \"Construction\"]\n",
        "data_construction.sort_values(\"commodity_counts\", ascending=False).head()"
      ]
    },
    {
      "cell_type": "markdown",
      "metadata": {},
      "source": [
        "If we look at the first two firms from the Construction sector that have the most counts from the Commodities topic we see that they are part of the NAICS sector that correspond to *Oil and Gas Pipeline and Related Structures Construction* (237120). This is very interesting since, although they are construction firms they work with gas and oil and, thus, have a high number of counts in the commodities topic."
      ]
    },
    {
      "cell_type": "code",
      "execution_count": 68,
      "metadata": {},
      "outputs": [
        {
          "data": {
            "image/png": "[encoded data removed]",
            "text/plain": [
              "<Figure size 864x576 with 1 Axes>"
            ]
          },
          "metadata": {
            "needs_background": "light"
          },
          "output_type": "display_data"
        }
      ],
      "source": [
        "# plot according to exposure to topic\n",
        "df_plot = data_sector.sort_values(\"reg_finance_counts\", ascending=False)\n",
        "\n",
        "plt.figure(figsize=(12,8))\n",
        "sns.barplot(data=df_plot, x=\"reg_finance_counts\", y=\"naics2_name\", palette=\"Blues_r\")\n",
        "plt.title(\"Financial regulation topic\")\n",
        "plt.xlabel(\"Average number of tokens from topic per firm\")\n",
        "plt.ylabel(\"Sector\")\n",
        "plt.show()"
      ]
    },
    {
      "cell_type": "code",
      "execution_count": 69,
      "metadata": {},
      "outputs": [
        {
          "data": {
            "image/png": "[encoded data removed]",
            "text/plain": [
              "<Figure size 864x576 with 1 Axes>"
            ]
          },
          "metadata": {
            "needs_background": "light"
          },
          "output_type": "display_data"
        }
      ],
      "source": [
        "# plot according to exposure to topic\n",
        "df_plot = data_sector.sort_values(\"monetary_counts\", ascending=False)\n",
        "\n",
        "plt.figure(figsize=(12,8))\n",
        "sns.barplot(data=df_plot, x=\"monetary_counts\", y=\"naics2_name\", palette=\"Blues_r\")\n",
        "plt.title(\"Monetary topic\")\n",
        "plt.xlabel(\"Average number of tokens from topic per firm\")\n",
        "plt.ylabel(\"Sector\")\n",
        "plt.show()"
      ]
    },
    {
      "cell_type": "code",
      "execution_count": 70,
      "metadata": {},
      "outputs": [
        {
          "data": {
            "image/png": "[encoded data removed]",
            "text/plain": [
              "<Figure size 864x576 with 1 Axes>"
            ]
          },
          "metadata": {
            "needs_background": "light"
          },
          "output_type": "display_data"
        }
      ],
      "source": [
        "# plot according to exposure to topic\n",
        "df_plot = data_sector.sort_values(\"healthcare_counts\", ascending=False)\n",
        "\n",
        "plt.figure(figsize=(12,8))\n",
        "sns.barplot(data=df_plot, x=\"healthcare_counts\", y=\"naics2_name\", palette=\"Blues_r\")\n",
        "plt.title(\"Healthcare topic\")\n",
        "plt.xlabel(\"Average number of tokens from topic per firm\")\n",
        "plt.ylabel(\"Sector\")\n",
        "plt.show()"
      ]
    },
    {
      "cell_type": "code",
      "execution_count": 71,
      "metadata": {},
      "outputs": [
        {
          "data": {
            "image/png": "[encoded data removed]",
            "text/plain": [
              "<Figure size 864x576 with 1 Axes>"
            ]
          },
          "metadata": {
            "needs_background": "light"
          },
          "output_type": "display_data"
        }
      ],
      "source": [
        "# plot according to exposure to topic\n",
        "df_plot = data_sector.sort_values(\"taxes_counts\", ascending=False)\n",
        "\n",
        "plt.figure(figsize=(12,8))\n",
        "sns.barplot(data=df_plot, x=\"taxes_counts\", y=\"naics2_name\", palette=\"Blues_r\")\n",
        "plt.title(\"Taxation topic\")\n",
        "plt.xlabel(\"Average number of tokens from topic per firm\")\n",
        "plt.ylabel(\"Sector\")\n",
        "plt.show()"
      ]
    }
  ],
  "metadata": {
    "colab": {
      "name": "preprocessing_notebook.ipynb",
      "provenance": []
    },
    "kernelspec": {
      "display_name": "Python 3",
      "language": "python",
      "name": "python3"
    },
    "language_info": {
      "codemirror_mode": {
        "name": "ipython",
        "version": 3
      },
      "file_extension": ".py",
      "mimetype": "text/x-python",
      "name": "python",
      "nbconvert_exporter": "python",
      "pygments_lexer": "ipython3",
      "version": "3.8.2"
    },
    "metadata": {
      "interpreter": {
        "hash": "aee8b7b246df8f9039afb4144a1f6fd8d2ca17a180786b69acc140d282b71a49"
      }
    },
    "toc": {
      "base_numbering": 1,
      "nav_menu": {},
      "number_sections": true,
      "sideBar": true,
      "skip_h1_title": false,
      "title_cell": "Table of Contents",
      "title_sidebar": "Contents",
      "toc_cell": false,
      "toc_position": {},
      "toc_section_display": true,
      "toc_window_display": false
    }
  },
  "nbformat": 4,
  "nbformat_minor": 0
}
