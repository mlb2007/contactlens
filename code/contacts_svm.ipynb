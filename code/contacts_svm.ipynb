{
 "cells": [
  {
   "cell_type": "code",
   "execution_count": 97,
   "metadata": {
    "pycharm": {
     "name": "#%%\n"
    }
   },
   "outputs": [
    {
     "name": "stderr",
     "output_type": "stream",
     "text": [
      "[nltk_data] Downloading package wordnet to /Users/bmukund/nltk_data...\n",
      "[nltk_data]   Package wordnet is already up-to-date!\n",
      "[nltk_data] Downloading package omw-1.4 to /Users/bmukund/nltk_data...\n",
      "[nltk_data]   Package omw-1.4 is already up-to-date!\n"
     ]
    }
   ],
   "source": [
    "%matplotlib inline\n",
    "%timeit\n",
    "import pandas as pd\n",
    "import string\n",
    "import numpy as np\n",
    "import matplotlib.pyplot as plt\n",
    "import seaborn as sns\n",
    "from sklearn.preprocessing import StandardScaler\n",
    "from sklearn.feature_extraction.text import CountVectorizer, TfidfVectorizer\n",
    "import sys\n",
    "from collections import Counter\n",
    "import random\n",
    "import ast\n",
    "import re\n",
    "import scipy\n",
    "\n",
    "sys.path.append('pymodules')\n",
    "# This class contains some utility functions Word2Vec, stop words etc. etc.\n",
    "import pymodules.preprocessing_class as pc\n",
    "\n",
    "# gender gueser\n",
    "import gender_guesser.detector as gd\n",
    "\n",
    "# for dictionary method synonym finder using wordnet\n",
    "import nltk\n",
    "nltk.download('wordnet')\n",
    "nltk.download('omw-1.4')\n",
    "from nltk.corpus import wordnet as wn\n",
    "\n",
    "from sklearn.linear_model import LogisticRegression\n",
    "from sklearn.svm import SVC\n",
    "from sklearn.ensemble import RandomForestRegressor\n",
    "from sklearn.ensemble import GradientBoostingRegressor\n",
    "from sklearn.preprocessing import StandardScaler\n",
    "from sklearn.metrics import accuracy_score, mean_squared_error\n",
    "\n",
    "from sklearn.inspection import PartialDependenceDisplay\n",
    "from sklearn.inspection import partial_dependence\n",
    "\n",
    "# (VII)\n",
    "from sklearn.metrics import confusion_matrix, ConfusionMatrixDisplay\n",
    "from sklearn.metrics import roc_curve\n",
    "from sklearn.metrics import RocCurveDisplay\n",
    "from sklearn.metrics import precision_recall_curve\n",
    "from sklearn.metrics import PrecisionRecallDisplay\n",
    "from sklearn.pipeline import Pipeline\n",
    "from sklearn.compose import ColumnTransformer\n",
    "from sklearn.preprocessing import StandardScaler\n",
    "from sklearn.model_selection import GridSearchCV\n",
    "# model/ensemble scorer ...\n",
    "from sklearn.metrics import make_scorer\n",
    "\n",
    "##########\n",
    "from sklearn.preprocessing import OneHotEncoder\n",
    "from sklearn.model_selection import train_test_split, ParameterGrid\n",
    "from sklearn.metrics import accuracy_score, mean_squared_error\n",
    "from sklearn.metrics import confusion_matrix, ConfusionMatrixDisplay\n",
    "from sklearn.metrics import multilabel_confusion_matrix, f1_score\n",
    "# model/ensemble scorer ...\n",
    "from sklearn.metrics import make_scorer\n",
    "\n",
    "import multiprocess as mp\n",
    "\n",
    "# from https://stackoverflow.com/questions/7370801/how-do-i-measure-elapsed-time-in-python\n",
    "from timeit import default_timer as timer"
   ]
  },
  {
   "cell_type": "code",
   "execution_count": 2,
   "outputs": [],
   "source": [
    "def find_wordnet_synonyms(word_list, type_of_word=None):\n",
    "    \"\"\" it is assumed that the word_list words are themselves synonyms and is given as a list (even if there is only one word\n",
    "    return lemmatized synonyms ...\n",
    "    \"\"\"\n",
    "    synonyms = set()\n",
    "    for word_to_look in word_list:\n",
    "        #print(f\"looking for synonyms of word:{word_to_look}\")\n",
    "        for syn in wn.synsets(word_to_look, pos=type_of_word):\n",
    "            for i in syn.lemmas():\n",
    "                synonyms.add(i.name())\n",
    "    #print(f\"Synonyms:\\n {synonyms}\")\n",
    "    return synonyms"
   ],
   "metadata": {
    "collapsed": false,
    "pycharm": {
     "name": "#%%\n"
    }
   }
  },
  {
   "cell_type": "code",
   "execution_count": 3,
   "metadata": {
    "pycharm": {
     "name": "#%%\n"
    }
   },
   "outputs": [],
   "source": [
    "# Function to get the first name so that we can guess the gender\n",
    "def first_name(x):\n",
    "    \"\"\"\n",
    "    We determine the first name from the given string. We also remove any digits from the name. \n",
    "    Further, we use space to split names\n",
    "    \"\"\"\n",
    "    x_split = str(x).split()\n",
    "    fname = x_split[0]\n",
    "    # remove reference to digits. Now after removal, there could be some misclassification, but that is ok ..\n",
    "    fname_p = re.sub(r'[0-9]+', \"\", fname)\n",
    "    ret_str = fname_p.capitalize()\n",
    "    return ret_str\n"
   ]
  },
  {
   "cell_type": "code",
   "execution_count": 67,
   "outputs": [],
   "source": [
    "# for parallel run of multiple trials ...\n",
    "def run_parallel(func, num_cpus=4):\n",
    "    \"\"\"\n",
    "    A simple parallel processor\n",
    "    \"\"\"\n",
    "    mp_pool = mp.Pool(num_cpus)\n",
    "\n",
    "    def _run(grid_parameters):\n",
    "        result = mp_pool.map(func, grid_parameters)\n",
    "        return result\n",
    "\n",
    "    return _run\n",
    "\n",
    "\n",
    "# Ref: https://machinelearningmastery.com/how-to-develop-a-cnn-from-scratch-for-fashion-mnist-clothing-classification/\n",
    "def onehot_encode(data):\n",
    "    \"\"\"\n",
    "    one hot encoding for CNN\n",
    "    \"\"\"\n",
    "    return to_categorical(data)\n",
    "\n",
    "\n",
    "# load dataset\n",
    "def split_data(X, y, validation=False, shuffle=False):\n",
    "    \"\"\"\n",
    "    load data and create validation set as well (25% of training data)\n",
    "    \"\"\"\n",
    "    trainX, testX, trainy, testy = train_test_split(X, y, test_size=0.25, random_state=42, shuffle=shuffle)\n",
    "    # create validation data as well\n",
    "    if validation:\n",
    "        trainX, validX, trainy, validy = train_test_split(trainX, trainy, test_size=0.25, random_state=42,\n",
    "                                                          shuffle=shuffle)\n",
    "        return trainX, trainy, testX, testy, validX, validy\n",
    "    else:\n",
    "        return trainX, trainy, testX, testy, None, None\n",
    "\n",
    "\n",
    "def plot_accuracy(model, test_str='Validation'):\n",
    "    plt.plot(model.history['accuracy'])\n",
    "    plt.plot(model.history['val_accuracy'])\n",
    "    plt.title('Model accuracy')\n",
    "    plt.ylabel('Accuracy')\n",
    "    plt.xlabel('Epoch')\n",
    "    plt.legend(['Train', test_str], loc='upper left')\n",
    "    plt.show()\n",
    "\n",
    "\n",
    "def plot_loss(model, test_str='Validation'):\n",
    "    plt.plot(model.history['loss'])\n",
    "    plt.plot(model.history['val_loss'])\n",
    "    plt.title('Model loss')\n",
    "    plt.ylabel('Loss')\n",
    "    plt.xlabel('Epoch')\n",
    "    plt.legend(['Train', test_str], loc='upper left')\n",
    "    plt.show()\n",
    "\n",
    "\n",
    "def convert_prob_to_labels(data):\n",
    "    # the outputs are probabilities, change it to classifier labels ..\n",
    "    y_arg = np.argmax(data, axis=1)\n",
    "    y_pred = onehot_encode(y_arg)\n",
    "    return y_pred\n",
    "\n",
    "\n",
    "def model_stats_all_labels(Y_pred, Y_actual):\n",
    "    # true negatives is  C[0, 0]\n",
    "    # false negatives is C[1, 0]\n",
    "    # true positives is  C[1, 1]\n",
    "    # false positives is C[0, 1]\n",
    "    mcm = multilabel_confusion_matrix(Y_actual, Y_pred)\n",
    "    tnv = mcm[:, 0, 0]\n",
    "    tpv = mcm[:, 1, 1]\n",
    "    fnv = mcm[:, 1, 0]\n",
    "    fpv = mcm[:, 0, 1]\n",
    "\n",
    "    accuracy = (tpv + tnv) / (tpv + tnv + fpv + fnv)\n",
    "    sensitivity = tpv / (tpv + fnv)\n",
    "    specificity = tnv / (tnv + fpv)\n",
    "    denom = 1 - specificity\n",
    "    likelihood = [sensitivity[i] / denom[i] if denom[i] > 0 else np.nan for i in range(len(denom))]\n",
    "\n",
    "    return accuracy, sensitivity, specificity, likelihood"
   ],
   "metadata": {
    "collapsed": false,
    "pycharm": {
     "name": "#%%\n"
    }
   }
  },
  {
   "cell_type": "code",
   "execution_count": 4,
   "metadata": {
    "pycharm": {
     "name": "#%%\n"
    }
   },
   "outputs": [],
   "source": [
    "filename = \"data/Master-data_Q42021.xlsx\"\n",
    "text_data_raw = pd.read_excel(filename, sheet_name='Scrubbed_data', index_col='REVIEW_DATE')\n",
    "\n",
    "# We don't need these columns\n",
    "not_needed = ['OVERALL_RATING', 'COMFORT_RATING', 'VISION_RATING', 'VALUE_FOR_MONEY', 'PROS', 'CONS', 'ORIGINAL_SOURCE', 'REPLY_FROM_ACCUVUE',\n",
    "'PRODUCT_LINK', 'WEBSITE']\n",
    "\n",
    "text_data = text_data_raw.drop(columns = not_needed, axis=1)\n"
   ]
  },
  {
   "cell_type": "code",
   "execution_count": 5,
   "metadata": {
    "pycharm": {
     "name": "#%%\n"
    }
   },
   "outputs": [
    {
     "data": {
      "text/plain": "female           4003\nmale             2400\nunknown          1556\nmostly_female     464\nmostly_male       253\nandy              118\nName: GENDER, dtype: int64"
     },
     "execution_count": 5,
     "metadata": {},
     "output_type": "execute_result"
    }
   ],
   "source": [
    "# Let us figure out the gender from the names and drop the names column\n",
    "# We use gender_guesser package.\n",
    "#text_data['AUTHOR'] = text_data['AUTHOR'].astype(str)\n",
    "gdx = gd.Detector()\n",
    "text_data['GENDER'] = text_data.AUTHOR.apply(first_name).map(lambda x: gdx.get_gender(x))\n",
    "\n",
    "# Drop the author column now\n",
    "text_data.drop(columns = ['AUTHOR'], axis=1, inplace=True)\n",
    "\n",
    "# Check the gender counts just to see how the data looks like\n",
    "text_data.GENDER.value_counts()"
   ]
  },
  {
   "cell_type": "code",
   "execution_count": 6,
   "metadata": {
    "pycharm": {
     "name": "#%%\n"
    }
   },
   "outputs": [],
   "source": [
    "# Consolidate the comments into one column\n",
    "# Comments can occur both in title and in Comment columns. \n",
    "text_data['COMMENT'] = text_data['TITLE'].astype(str).fillna(\"\") + \" \" + text_data['COMMENTS'].astype(str).fillna(\"\")\n",
    "text_data.drop(columns = ['TITLE', 'COMMENTS'], axis=1, inplace=True)"
   ]
  },
  {
   "cell_type": "code",
   "execution_count": 7,
   "outputs": [],
   "source": [
    "# clean rating\n",
    "# replace N = No rating with 0. We do this because rating is assumed to be numeric, not categorical\n",
    "text_data['RATING'].replace('N', '0', inplace=True)\n",
    "# convert rating to integers\n",
    "text_data['RATING'] = text_data['RATING'].apply(lambda x: int(x))"
   ],
   "metadata": {
    "collapsed": false,
    "pycharm": {
     "name": "#%%\n"
    }
   }
  },
  {
   "cell_type": "code",
   "execution_count": 8,
   "metadata": {
    "pycharm": {
     "name": "#%%\n"
    }
   },
   "outputs": [
    {
     "data": {
      "text/plain": "                                            FINAL_PRODUCT_NAME  RATING  \\\nREVIEW_DATE                                                              \n2021-11-01   Acuvue 2 Contact Lenses                       ...       5   \n2021-12-02   Acuvue 2 Contact Lenses                       ...       4   \n2021-12-01   Acuvue 2 Contact Lenses                       ...       4   \n2021-11-16   Acuvue 2 Contact Lenses                       ...       5   \n2021-12-08   Acuvue 2 Contact Lenses                       ...       4   \n...                                                        ...     ...   \n2021-11-29   Acuvue VITA Contact Lenses                    ...       5   \n2021-11-23                Shop Acuvue Vita 12 pack  (1.0 Box )       5   \n2021-12-27          Acuvue Vita for Astigmatism Contact Lenses       5   \n2021-10-16          Acuvue Vita for Astigmatism Contact Lenses       1   \n2021-12-05          Acuvue Vita for Astigmatism Contact Lenses       5   \n\n             PRODUCT   BRAND   GENDER  \\\nREVIEW_DATE                             \n2021-11-01   Acuvue2  Acuvue     male   \n2021-12-02   Acuvue2  Acuvue   female   \n2021-12-01   Acuvue2  Acuvue   female   \n2021-11-16   Acuvue2  Acuvue     male   \n2021-12-08   Acuvue2  Acuvue  unknown   \n...              ...     ...      ...   \n2021-11-29      Vita  Acuvue     male   \n2021-11-23      Vita  Acuvue     male   \n2021-12-27      Vita  Acuvue     male   \n2021-10-16      Vita  Acuvue  unknown   \n2021-12-05      Vita  Acuvue   female   \n\n                                                       COMMENT  \nREVIEW_DATE                                                     \n2021-11-01   Acucue 2 Contact Lenses I have used these lens...  \n2021-12-02                      Clear vision Tends to cloud up  \n2021-12-01   comfort These are very hard to handle. Flimsy ...  \n2021-11-16   Easy to use I have been using this product for...  \n2021-12-08   Excellent Excellent got promised a discount of...  \n...                                                        ...  \n2021-11-29   Truly the Best The price, fast shipping,  quic...  \n2021-11-23   Very Comfortable Acuvue  Vita are very comfort...  \n2021-12-27   Very Comfortable and Convenient Very Comfortab...  \n2021-10-16   Worst lenses I've worn, microscopic tears in a...  \n2021-12-05   Would buy again My order came in fast without ...  \n\n[8794 rows x 6 columns]",
      "text/html": "<div>\n<style scoped>\n    .dataframe tbody tr th:only-of-type {\n        vertical-align: middle;\n    }\n\n    .dataframe tbody tr th {\n        vertical-align: top;\n    }\n\n    .dataframe thead th {\n        text-align: right;\n    }\n</style>\n<table border=\"1\" class=\"dataframe\">\n  <thead>\n    <tr style=\"text-align: right;\">\n      <th></th>\n      <th>FINAL_PRODUCT_NAME</th>\n      <th>RATING</th>\n      <th>PRODUCT</th>\n      <th>BRAND</th>\n      <th>GENDER</th>\n      <th>COMMENT</th>\n    </tr>\n    <tr>\n      <th>REVIEW_DATE</th>\n      <th></th>\n      <th></th>\n      <th></th>\n      <th></th>\n      <th></th>\n      <th></th>\n    </tr>\n  </thead>\n  <tbody>\n    <tr>\n      <th>2021-11-01</th>\n      <td>Acuvue 2 Contact Lenses                       ...</td>\n      <td>5</td>\n      <td>Acuvue2</td>\n      <td>Acuvue</td>\n      <td>male</td>\n      <td>Acucue 2 Contact Lenses I have used these lens...</td>\n    </tr>\n    <tr>\n      <th>2021-12-02</th>\n      <td>Acuvue 2 Contact Lenses                       ...</td>\n      <td>4</td>\n      <td>Acuvue2</td>\n      <td>Acuvue</td>\n      <td>female</td>\n      <td>Clear vision Tends to cloud up</td>\n    </tr>\n    <tr>\n      <th>2021-12-01</th>\n      <td>Acuvue 2 Contact Lenses                       ...</td>\n      <td>4</td>\n      <td>Acuvue2</td>\n      <td>Acuvue</td>\n      <td>female</td>\n      <td>comfort These are very hard to handle. Flimsy ...</td>\n    </tr>\n    <tr>\n      <th>2021-11-16</th>\n      <td>Acuvue 2 Contact Lenses                       ...</td>\n      <td>5</td>\n      <td>Acuvue2</td>\n      <td>Acuvue</td>\n      <td>male</td>\n      <td>Easy to use I have been using this product for...</td>\n    </tr>\n    <tr>\n      <th>2021-12-08</th>\n      <td>Acuvue 2 Contact Lenses                       ...</td>\n      <td>4</td>\n      <td>Acuvue2</td>\n      <td>Acuvue</td>\n      <td>unknown</td>\n      <td>Excellent Excellent got promised a discount of...</td>\n    </tr>\n    <tr>\n      <th>...</th>\n      <td>...</td>\n      <td>...</td>\n      <td>...</td>\n      <td>...</td>\n      <td>...</td>\n      <td>...</td>\n    </tr>\n    <tr>\n      <th>2021-11-29</th>\n      <td>Acuvue VITA Contact Lenses                    ...</td>\n      <td>5</td>\n      <td>Vita</td>\n      <td>Acuvue</td>\n      <td>male</td>\n      <td>Truly the Best The price, fast shipping,  quic...</td>\n    </tr>\n    <tr>\n      <th>2021-11-23</th>\n      <td>Shop Acuvue Vita 12 pack  (1.0 Box )</td>\n      <td>5</td>\n      <td>Vita</td>\n      <td>Acuvue</td>\n      <td>male</td>\n      <td>Very Comfortable Acuvue  Vita are very comfort...</td>\n    </tr>\n    <tr>\n      <th>2021-12-27</th>\n      <td>Acuvue Vita for Astigmatism Contact Lenses</td>\n      <td>5</td>\n      <td>Vita</td>\n      <td>Acuvue</td>\n      <td>male</td>\n      <td>Very Comfortable and Convenient Very Comfortab...</td>\n    </tr>\n    <tr>\n      <th>2021-10-16</th>\n      <td>Acuvue Vita for Astigmatism Contact Lenses</td>\n      <td>1</td>\n      <td>Vita</td>\n      <td>Acuvue</td>\n      <td>unknown</td>\n      <td>Worst lenses I've worn, microscopic tears in a...</td>\n    </tr>\n    <tr>\n      <th>2021-12-05</th>\n      <td>Acuvue Vita for Astigmatism Contact Lenses</td>\n      <td>5</td>\n      <td>Vita</td>\n      <td>Acuvue</td>\n      <td>female</td>\n      <td>Would buy again My order came in fast without ...</td>\n    </tr>\n  </tbody>\n</table>\n<p>8794 rows × 6 columns</p>\n</div>"
     },
     "execution_count": 8,
     "metadata": {},
     "output_type": "execute_result"
    }
   ],
   "source": [
    "# display results\n",
    "text_data"
   ]
  },
  {
   "cell_type": "markdown",
   "metadata": {
    "pycharm": {
     "name": "#%% md\n"
    }
   },
   "source": [
    "### Tokenization"
   ]
  },
  {
   "cell_type": "code",
   "execution_count": 9,
   "metadata": {
    "collapsed": false,
    "jupyter": {
     "outputs_hidden": false
    },
    "pycharm": {
     "name": "#%%\n"
    }
   },
   "outputs": [
    {
     "name": "stderr",
     "output_type": "stream",
     "text": [
      "/var/folders/bk/93tv9tk147s32tbjbfrfb79w0000gn/T/ipykernel_48776/4173119622.py:65: DeprecationWarning: Flags not at the start of the expression '(\\n    (?:\\n      (?: ' (truncated)\n",
      "  word_re = re.compile(pattern=r\"\"\"(%s)\"\"\" % \"|\".join(regex_strings), flags=re.VERBOSE | re.I)\n"
     ]
    }
   ],
   "source": [
    "## regex for tokenization\n",
    "# Ref: http://sentiment.christopherpotts.net/code-data/happyfuntokenizing.py\n",
    "emoticon_string = r\"\"\"\n",
    "    (?:\n",
    "      [<>]?\n",
    "      [:;=8]                     # eyes\n",
    "      [\\-o\\*\\']?                 # optional nose\n",
    "      [\\)\\]\\(\\[dDpP/\\:\\}\\{@\\|\\\\] # mouth\n",
    "      |\n",
    "      [\\)\\]\\(\\[dDpP/\\:\\}\\{@\\|\\\\] # mouth\n",
    "      [\\-o\\*\\']?                 # optional nose\n",
    "      [:;=8]                     # eyes\n",
    "      [<>]?\n",
    "    )\"\"\"\n",
    "\n",
    "# The components of the tokenizer:\n",
    "regex_strings = (\n",
    "    # Phone numbers:\n",
    "    r\"\"\"\n",
    "    (?:\n",
    "      (?:            # (international)\n",
    "        \\+?[01]\n",
    "        [\\-\\s.]*\n",
    "      )?\n",
    "      (?:            # (area code)\n",
    "        [\\(]?\n",
    "        \\d{3}\n",
    "        [\\-\\s.\\)]*\n",
    "      )?\n",
    "      \\d{3}          # exchange\n",
    "      [\\-\\s.]*\n",
    "      \\d{4}          # base\n",
    "    )\"\"\"\n",
    "    ,\n",
    "    # Emoticons:\n",
    "    emoticon_string\n",
    "    ,\n",
    "    # HTML tags:\n",
    "    r\"\"\"<[^>]+>\"\"\"\n",
    "    ,\n",
    "    # Twitter username:\n",
    "    r\"\"\"(?:@[\\w_]+)\"\"\"\n",
    "    ,\n",
    "    # Twitter hashtags:\n",
    "    r\"\"\"(?:\\#+[\\w_]+[\\w\\'_\\-]*[\\w_]+)\"\"\"\n",
    "    ,\n",
    "    # Remaining word types:\n",
    "    r\"\"\"\n",
    "    (?:[a-z][a-z'\\-_]+[a-z])       # Words with apostrophes or dashes.\n",
    "    |\n",
    "    (?:[+\\-]?\\d+[,/.:-]\\d+[+\\-]?)  # Numbers, including fractions, decimals.\n",
    "    |\n",
    "    (?:[\\w_]+)                     # Words without apostrophes or dashes.\n",
    "    |\n",
    "    (?:\\.(?:\\s*\\.){1,})            # Ellipsis dots.\n",
    "    |\n",
    "    (?:\\S)                         # Everything else that isn't whitespace.\n",
    "    \"\"\",\n",
    "    r\"\"\"\n",
    "    (?x)                # set flag to allow verbose regexps (to separate logical sections of pattern and add comments)\n",
    "    \\w+(?:-\\w+)*        # preserve expressions with internal hyphens as single tokens\n",
    "    | [][.,;\"'?():-_`]  # preserve punctuation as separate tokens\n",
    "    \"\"\"\n",
    ")\n",
    "word_re = re.compile(pattern=r\"\"\"(%s)\"\"\" % \"|\".join(regex_strings), flags=re.VERBOSE | re.I)"
   ]
  },
  {
   "cell_type": "code",
   "execution_count": 10,
   "metadata": {
    "collapsed": false,
    "jupyter": {
     "outputs_hidden": false
    },
    "pycharm": {
     "name": "#%%\n"
    }
   },
   "outputs": [],
   "source": [
    "comments_data = text_data.COMMENT\n",
    "prep_comments = pc.RawDocs(comments_data,  # series of documents\n",
    "                  lower_case=True,  # whether to lowercase the text in the firs cleaning step\n",
    "                  stopwords='long',  # type of stopwords to initialize\n",
    "                  contraction_split=True,  # wheter to split contractions or not\n",
    "                  tokenization_pattern=word_re  # custom tokenization patter\n",
    "                  )"
   ]
  },
  {
   "cell_type": "code",
   "execution_count": 11,
   "metadata": {
    "collapsed": false,
    "jupyter": {
     "outputs_hidden": false
    },
    "pycharm": {
     "name": "#%%\n"
    }
   },
   "outputs": [
    {
     "name": "stdout",
     "output_type": "stream",
     "text": [
      "Document from the pandas series:\n",
      " Acucue 2 Contact Lenses I have used these lenses for a long time and I have to say that the service from Lens.com is great and the lenses work great for my needs!  I highly recommend them!\n",
      "\n",
      "-------------------------\n",
      "\n",
      "Document from preprocessing object:\n",
      " Acucue 2 Contact Lenses I have used these lenses for a long time and I have to say that the service from Lens.com is great and the lenses work great for my needs!  I highly recommend them!\n"
     ]
    }
   ],
   "source": [
    "# notice that the documents from the object are identical to the ones from the pandas series\n",
    "#comments_data\n",
    "i = 0\n",
    "print(\"Document from the pandas series:\\n\", comments_data[i])\n",
    "print(\"\\n-------------------------\\n\")\n",
    "print(\"Document from preprocessing object:\\n\", prep_comments.docs[i])\n"
   ]
  },
  {
   "cell_type": "code",
   "execution_count": 12,
   "metadata": {
    "collapsed": false,
    "jupyter": {
     "outputs_hidden": false
    },
    "pycharm": {
     "name": "#%%\n"
    }
   },
   "outputs": [],
   "source": [
    "# lower-case text, expand contractions and initialize stopwords list\n",
    "prep_comments.basic_cleaning()"
   ]
  },
  {
   "cell_type": "code",
   "execution_count": 13,
   "outputs": [
    {
     "name": "stdout",
     "output_type": "stream",
     "text": [
      "Acucue 2 Contact Lenses I have used these lenses for a long time and I have to say that the service from Lens.com is great and the lenses work great for my needs!  I highly recommend them!\n",
      "\n",
      "acucue 2 contact lenses i have used these lenses for a long time and i have to say that the service from lens.com is great and the lenses work great for my needs!  i highly recommend them!\n"
     ]
    }
   ],
   "source": [
    "# explore an example after the basic cleaning has been applied\n",
    "i = 0\n",
    "print(comments_data[i])\n",
    "print()\n",
    "print(prep_comments.docs[i])\n"
   ],
   "metadata": {
    "collapsed": false,
    "pycharm": {
     "name": "#%%\n"
    }
   }
  },
  {
   "cell_type": "code",
   "execution_count": 14,
   "outputs": [],
   "source": [
    "# now we can split the documents into tokens\n",
    "prep_comments.tokenize_text()"
   ],
   "metadata": {
    "collapsed": false,
    "pycharm": {
     "name": "#%%\n"
    }
   }
  },
  {
   "cell_type": "code",
   "execution_count": 15,
   "outputs": [
    {
     "name": "stdout",
     "output_type": "stream",
     "text": [
      "Acucue 2 Contact Lenses I have used these lenses for a long time and I have to say that the service from Lens.com is great and the lenses work great for my needs!  I highly recommend them!\n",
      "\n",
      "['acucue', '2', 'contact', 'lenses', 'i', 'have', 'used', 'these', 'lenses', 'for', 'a', 'long', 'time', 'and', 'i', 'have', 'to', 'say', 'that', 'the', 'service', 'from', 'lens', '.', 'com', 'is', 'great', 'and', 'the', 'lenses', 'work', 'great', 'for', 'my', 'needs', '!', 'i', 'highly', 'recommend', 'them', '!']\n"
     ]
    }
   ],
   "source": [
    "i = 0\n",
    "print(comments_data[i])\n",
    "print()\n",
    "print(prep_comments.tokens[i])"
   ],
   "metadata": {
    "collapsed": false,
    "pycharm": {
     "name": "#%%\n"
    }
   }
  },
  {
   "cell_type": "code",
   "execution_count": 16,
   "outputs": [
    {
     "data": {
      "text/plain": "'!\"#$%&\\'()*+,./:;<=>?@[\\\\]^_`{|}~'"
     },
     "execution_count": 16,
     "metadata": {},
     "output_type": "execute_result"
    }
   ],
   "source": [
    "punctuation = string.punctuation\n",
    "punctuation = punctuation.replace(\"-\", \"\") # remove the hyphen from the punctuation string\n",
    "punctuation"
   ],
   "metadata": {
    "collapsed": false,
    "pycharm": {
     "name": "#%%\n"
    }
   }
  },
  {
   "cell_type": "code",
   "execution_count": 17,
   "outputs": [],
   "source": [
    "prep_comments.token_clean(length=2,                 # remove tokens with less than this number of characters\n",
    "                 punctuation=punctuation,           # remove custom list of punctuation characters\n",
    "                 numbers = True                     # remove numbers\n",
    "                 )\n"
   ],
   "metadata": {
    "collapsed": false,
    "pycharm": {
     "name": "#%%\n"
    }
   }
  },
  {
   "cell_type": "code",
   "execution_count": 18,
   "outputs": [
    {
     "name": "stdout",
     "output_type": "stream",
     "text": [
      "Acucue 2 Contact Lenses I have used these lenses for a long time and I have to say that the service from Lens.com is great and the lenses work great for my needs!  I highly recommend them!\n",
      "\n",
      "['acucue', 'contact', 'lenses', 'have', 'used', 'these', 'lenses', 'for', 'long', 'time', 'and', 'have', 'say', 'that', 'the', 'service', 'from', 'lens', 'com', 'great', 'and', 'the', 'lenses', 'work', 'great', 'for', 'needs', 'highly', 'recommend', 'them']\n"
     ]
    }
   ],
   "source": [
    "i = 0\n",
    "print(comments_data[i])\n",
    "print()\n",
    "print(prep_comments.tokens[i])\n"
   ],
   "metadata": {
    "collapsed": false,
    "pycharm": {
     "name": "#%%\n"
    }
   }
  },
  {
   "cell_type": "code",
   "execution_count": 19,
   "outputs": [
    {
     "name": "stdout",
     "output_type": "stream",
     "text": [
      "['a', 'about', 'above', 'after', 'again', 'against', 'all', 'also', 'am', 'an', 'and', 'another', 'any', 'are', 'as', 'at', 'back', 'be', 'because', 'been', 'before', 'being', 'below', 'between', 'both', 'but', 'by', 'could', 'did', 'do', 'does', 'doing', 'down', 'during', 'each', 'even', 'ever', 'every', 'few', 'first', 'five', 'for', 'four', 'from', 'further', 'get', 'go', 'goes', 'had', 'has', 'have', 'having', 'he', 'her', 'here', 'hers', 'herself', 'high', 'him', 'himself', 'his', 'how', 'however', 'i', 'if', 'in', 'into', 'is', 'it', 'its', 'itself', 'just', 'least', 'less', 'like', 'long', 'made', 'make', 'many', 'me', 'more', 'most', 'my', 'myself', 'never', 'new', 'no', 'nor', 'not', 'now', 'of', 'off', 'old', 'on', 'once', 'one', 'only', 'or', 'other', 'ought', 'our', 'ours', 'ourselves', 'out', 'over', 'own', 'put', 'said', 'same', 'say', 'says', 'second', 'see', 'seen', 'she', 'should', 'since', 'so', 'some', 'still', 'such', 'take', 'than', 'that', 'the', 'their', 'theirs', 'them', 'themselves', 'then', 'there', 'these', 'they', 'this', 'those', 'three', 'through', 'to', 'too', 'two', 'under', 'until', 'up', 'us', 'very', 'was', 'way', 'we', 'well', 'were', 'what', 'when', 'where', 'whether', 'which', 'while', 'who', 'whom', 'why', 'with', 'would', 'you', 'your', 'yours', 'yourself', 'yourselves']\n"
     ]
    }
   ],
   "source": [
    "# get the list of stopwords provided earlier\n",
    "print(sorted(prep_comments.stopwords))"
   ],
   "metadata": {
    "collapsed": false,
    "pycharm": {
     "name": "#%%\n"
    }
   }
  },
  {
   "cell_type": "code",
   "execution_count": 20,
   "outputs": [],
   "source": [
    "# we need to specificy that we want to remove the stopwords from the \"tokens\"\n",
    "prep_comments.stopword_remove('tokens')"
   ],
   "metadata": {
    "collapsed": false,
    "pycharm": {
     "name": "#%%\n"
    }
   }
  },
  {
   "cell_type": "code",
   "execution_count": 21,
   "outputs": [
    {
     "name": "stdout",
     "output_type": "stream",
     "text": [
      "Acucue 2 Contact Lenses I have used these lenses for a long time and I have to say that the service from Lens.com is great and the lenses work great for my needs!  I highly recommend them!\n",
      "\n",
      "['acucue', 'contact', 'lenses', 'used', 'lenses', 'time', 'service', 'lens', 'com', 'great', 'lenses', 'work', 'great', 'needs', 'highly', 'recommend']\n"
     ]
    }
   ],
   "source": [
    "i = 0\n",
    "print(comments_data[i])\n",
    "print()\n",
    "print(prep_comments.tokens[i])\n"
   ],
   "metadata": {
    "collapsed": false,
    "pycharm": {
     "name": "#%%\n"
    }
   }
  },
  {
   "cell_type": "code",
   "execution_count": 22,
   "outputs": [],
   "source": [
    "# stemming\n",
    "# pre_comments.stem()\n",
    "\n",
    "# apply lemmatization to all documents (takes a very long time so we will avoid it for now)\n",
    "prep_comments.lemmatize()"
   ],
   "metadata": {
    "collapsed": false,
    "pycharm": {
     "name": "#%%\n"
    }
   }
  },
  {
   "cell_type": "code",
   "execution_count": 23,
   "outputs": [
    {
     "name": "stdout",
     "output_type": "stream",
     "text": [
      "Acucue 2 Contact Lenses I have used these lenses for a long time and I have to say that the service from Lens.com is great and the lenses work great for my needs!  I highly recommend them!\n",
      "\n",
      "['acucue', 'contact', 'lenses', 'used', 'lenses', 'time', 'service', 'lens', 'com', 'great', 'lenses', 'work', 'great', 'needs', 'highly', 'recommend']\n",
      "\n",
      "['acucue', 'contact', 'lense', 'use', 'lense', 'time', 'service', 'lens', 'com', 'great', 'lense', 'work', 'great', 'need', 'highly', 'recommend']\n"
     ]
    }
   ],
   "source": [
    "# compare all versions of the same raw sentences\n",
    "i = 0\n",
    "print(comments_data[i])\n",
    "print()\n",
    "print(prep_comments.tokens[i])\n",
    "print()\n",
    "# print(prep_comments.stems[i])\n",
    "# print()\n",
    "print(prep_comments.lemmas[i])\n"
   ],
   "metadata": {
    "collapsed": false,
    "pycharm": {
     "name": "#%%\n"
    }
   }
  },
  {
   "cell_type": "code",
   "execution_count": 24,
   "outputs": [
    {
     "data": {
      "text/plain": "[(1956.0, 'comfortable', 0),\n (1643.0, 'contacts', 1),\n (1597.0, 'great', 2),\n (1425.0, 'lenses', 3),\n (1002.0, 'eyes', 4),\n (983.0, 'good', 5),\n (872.0, 'day', 6),\n (842.0, 'easy', 7),\n (810.0, 'contact', 8),\n (767.0, 'wear', 9),\n (695.0, 'price', 10),\n (693.0, 'product', 11),\n (692.0, 'years', 12),\n (588.0, 'lens', 13),\n (581.0, 'love', 14)]"
     },
     "execution_count": 24,
     "metadata": {},
     "output_type": "execute_result"
    }
   ],
   "source": [
    "prep_comments.get_term_ranking(items='tokens', score_type='df')\n",
    "prep_comments.df_ranking['tokens'][:15]\n"
   ],
   "metadata": {
    "collapsed": false,
    "pycharm": {
     "name": "#%%\n"
    }
   }
  },
  {
   "cell_type": "markdown",
   "source": [
    "TF-IDF weights more words that occur frequently but in less number of documents. This seems to skew ranking towards advertisement like reviews. (See output) It is not clear if such counting is relevant for this project."
   ],
   "metadata": {
    "collapsed": false,
    "pycharm": {
     "name": "#%% md\n"
    }
   }
  },
  {
   "cell_type": "code",
   "execution_count": 25,
   "outputs": [
    {
     "data": {
      "text/plain": "[(28.39211864825375, 'freshlook', 0),\n (28.36511786875115, 'focus', 1),\n (28.240281202733275, 'frequency', 2),\n (28.090056961353014, 'green', 3),\n (28.02474931757409, 'colorblends', 4),\n (27.975072702813453, 'advance', 5),\n (27.918162541618855, 'brown', 6),\n (27.917854650349692, 'optima', 7),\n (27.809817055575433, 'soflens', 8),\n (27.78312736349992, 'proclear', 9)]"
     },
     "execution_count": 25,
     "metadata": {},
     "output_type": "execute_result"
    }
   ],
   "source": [
    "prep_comments.get_term_ranking(items='tokens', score_type='tfidf')\n",
    "prep_comments.tfidf_ranking['tokens'][:10]\n"
   ],
   "metadata": {
    "collapsed": false,
    "pycharm": {
     "name": "#%%\n"
    }
   }
  },
  {
   "cell_type": "code",
   "execution_count": 26,
   "outputs": [
    {
     "data": {
      "text/plain": "[(1.0, 'written', 183),\n (1.0, 'wrote', 183),\n (1.0, 'xc-best', 183),\n (1.0, 'xrs', 183),\n (1.0, 'xxxx', 183),\n (1.0, 'xxxxx', 183),\n (1.0, 'yearly', 183),\n (1.0, 'yesrs', 183),\n (1.0, 'yiur', 183),\n (1.0, 'yucky', 183)]"
     },
     "execution_count": 26,
     "metadata": {},
     "output_type": "execute_result"
    }
   ],
   "source": [
    "prep_comments.df_ranking['tokens'][-10:]"
   ],
   "metadata": {
    "collapsed": false,
    "pycharm": {
     "name": "#%%\n"
    }
   }
  },
  {
   "cell_type": "code",
   "execution_count": 27,
   "outputs": [
    {
     "data": {
      "text/plain": "[(8.388677769180811, 'worrying', 475),\n (8.388677769180811, 'wourd', 475),\n (8.388677769180811, 'wrap', 475),\n (8.388677769180811, 'wrapped', 475),\n (8.388677769180811, 'wrinkle', 475),\n (8.388677769180811, 'written', 475),\n (8.388677769180811, 'wrote', 475),\n (8.388677769180811, 'xc-best', 475),\n (8.388677769180811, 'xrs', 475),\n (8.388677769180811, 'xxxx', 475),\n (8.388677769180811, 'xxxxx', 475),\n (8.388677769180811, 'yearly', 475),\n (8.388677769180811, 'yesrs', 475),\n (8.388677769180811, 'yiur', 475),\n (8.388677769180811, 'yucky', 475)]"
     },
     "execution_count": 27,
     "metadata": {},
     "output_type": "execute_result"
    }
   ],
   "source": [
    "prep_comments.tfidf_ranking['tokens'][-15:]\n"
   ],
   "metadata": {
    "collapsed": false,
    "pycharm": {
     "name": "#%%\n"
    }
   }
  },
  {
   "cell_type": "code",
   "execution_count": 28,
   "outputs": [
    {
     "data": {
      "text/plain": "<Figure size 720x432 with 1 Axes>",
      "image/png": "[encoded data removed]"
     },
     "metadata": {
      "needs_background": "light"
     },
     "output_type": "display_data"
    }
   ],
   "source": [
    "plt.figure(figsize=(10,6))\n",
    "plt.plot([x[0] for x in prep_comments.df_ranking['tokens']])\n",
    "plt.title('Document frequency ranking')\n",
    "plt.ylabel(\"Document frequency\")\n",
    "plt.xlabel(\"Term ranking\")\n",
    "plt.show()\n"
   ],
   "metadata": {
    "collapsed": false,
    "pycharm": {
     "name": "#%%\n"
    }
   }
  },
  {
   "cell_type": "code",
   "execution_count": 29,
   "outputs": [
    {
     "data": {
      "text/plain": "<Figure size 720x432 with 1 Axes>",
      "image/png": "[encoded data removed]"
     },
     "metadata": {
      "needs_background": "light"
     },
     "output_type": "display_data"
    }
   ],
   "source": [
    "# we can use a log-log scale to observe more clearly the power-law distribution (Zipf's law)\n",
    "plt.figure(figsize=(10,6))\n",
    "plt.loglog([x[0] for x in prep_comments.df_ranking['tokens']])\n",
    "plt.title('Document frequency ranking (log-log)')\n",
    "plt.ylabel(\"log document frequency\")\n",
    "plt.xlabel(\"log term ranking\")\n",
    "plt.show()\n"
   ],
   "metadata": {
    "collapsed": false,
    "pycharm": {
     "name": "#%%\n"
    }
   }
  },
  {
   "cell_type": "code",
   "execution_count": 30,
   "outputs": [
    {
     "data": {
      "text/plain": "<Figure size 720x432 with 1 Axes>",
      "image/png": "[encoded data removed]"
     },
     "metadata": {
      "needs_background": "light"
     },
     "output_type": "display_data"
    }
   ],
   "source": [
    "plt.figure(figsize=(10,6))\n",
    "plt.plot([x[0] for x in prep_comments.tfidf_ranking['tokens']])\n",
    "plt.title('Tf-idf ranking')\n",
    "plt.ylabel(\"tf-idf\")\n",
    "plt.xlabel(\"Term ranking\")\n",
    "plt.show()\n"
   ],
   "metadata": {
    "collapsed": false,
    "pycharm": {
     "name": "#%%\n"
    }
   }
  },
  {
   "cell_type": "markdown",
   "source": [
    "### Vectorization"
   ],
   "metadata": {
    "collapsed": false,
    "pycharm": {
     "name": "#%% md\n"
    }
   }
  },
  {
   "cell_type": "code",
   "execution_count": 31,
   "outputs": [],
   "source": [
    "# simple auxiliary function to override the preprocessing done by sklearn\n",
    "def do_nothing(doc):\n",
    "    return doc\n"
   ],
   "metadata": {
    "collapsed": false,
    "pycharm": {
     "name": "#%%\n"
    }
   }
  },
  {
   "cell_type": "code",
   "execution_count": 32,
   "outputs": [],
   "source": [
    "# create a CountVectorizer object using our preprocessed text\n",
    "count_vectorizer = CountVectorizer(encoding='utf-8',\n",
    "                                   preprocessor=do_nothing,  # apply no additional preprocessing\n",
    "                                   tokenizer=do_nothing,     # apply no additional tokenization\n",
    "                                   lowercase=False,\n",
    "                                   strip_accents=None,\n",
    "                                   stop_words=None,\n",
    "                                   ngram_range=(1, 1),       # generate only unigrams\n",
    "                                   analyzer='word',          # analysis at the word-level\n",
    "                                   max_df=0.5,              # ignore tokens that have a higher document frequency (can be int or percent)\n",
    "                                   min_df=500,                # ignore tokens that have a lowe document frequency (can be int or percent)\n",
    "                                   max_features=None,        # we could impose a maximum number of vocabulary terms\n",
    "                                   )\n"
   ],
   "metadata": {
    "collapsed": false,
    "pycharm": {
     "name": "#%%\n"
    }
   }
  },
  {
   "cell_type": "code",
   "execution_count": 33,
   "outputs": [
    {
     "name": "stdout",
     "output_type": "stream",
     "text": [
      "Document-term matrix created with shape: (8794, 18)\n"
     ]
    }
   ],
   "source": [
    "# transform our preprocessed tokens into a document-term matrix\n",
    "dt_matrix = count_vectorizer.fit_transform(prep_comments.tokens)\n",
    "print(f\"Document-term matrix created with shape: {dt_matrix.shape}\")\n"
   ],
   "metadata": {
    "collapsed": false,
    "pycharm": {
     "name": "#%%\n"
    }
   }
  },
  {
   "cell_type": "code",
   "execution_count": 34,
   "outputs": [
    {
     "data": {
      "text/plain": "              0   1\n0       contact   1\n1        lenses  10\n2       service  15\n3          lens   9\n4         great   8\n5   comfortable   0\n6          easy   4\n7       product  14\n8         years  17\n9          fast   6\n10     contacts   2\n11          day   3\n12         pack  12\n13         eyes   5\n14         love  11\n15         good   7\n16        price  13\n17         wear  16",
      "text/html": "<div>\n<style scoped>\n    .dataframe tbody tr th:only-of-type {\n        vertical-align: middle;\n    }\n\n    .dataframe tbody tr th {\n        vertical-align: top;\n    }\n\n    .dataframe thead th {\n        text-align: right;\n    }\n</style>\n<table border=\"1\" class=\"dataframe\">\n  <thead>\n    <tr style=\"text-align: right;\">\n      <th></th>\n      <th>0</th>\n      <th>1</th>\n    </tr>\n  </thead>\n  <tbody>\n    <tr>\n      <th>0</th>\n      <td>contact</td>\n      <td>1</td>\n    </tr>\n    <tr>\n      <th>1</th>\n      <td>lenses</td>\n      <td>10</td>\n    </tr>\n    <tr>\n      <th>2</th>\n      <td>service</td>\n      <td>15</td>\n    </tr>\n    <tr>\n      <th>3</th>\n      <td>lens</td>\n      <td>9</td>\n    </tr>\n    <tr>\n      <th>4</th>\n      <td>great</td>\n      <td>8</td>\n    </tr>\n    <tr>\n      <th>5</th>\n      <td>comfortable</td>\n      <td>0</td>\n    </tr>\n    <tr>\n      <th>6</th>\n      <td>easy</td>\n      <td>4</td>\n    </tr>\n    <tr>\n      <th>7</th>\n      <td>product</td>\n      <td>14</td>\n    </tr>\n    <tr>\n      <th>8</th>\n      <td>years</td>\n      <td>17</td>\n    </tr>\n    <tr>\n      <th>9</th>\n      <td>fast</td>\n      <td>6</td>\n    </tr>\n    <tr>\n      <th>10</th>\n      <td>contacts</td>\n      <td>2</td>\n    </tr>\n    <tr>\n      <th>11</th>\n      <td>day</td>\n      <td>3</td>\n    </tr>\n    <tr>\n      <th>12</th>\n      <td>pack</td>\n      <td>12</td>\n    </tr>\n    <tr>\n      <th>13</th>\n      <td>eyes</td>\n      <td>5</td>\n    </tr>\n    <tr>\n      <th>14</th>\n      <td>love</td>\n      <td>11</td>\n    </tr>\n    <tr>\n      <th>15</th>\n      <td>good</td>\n      <td>7</td>\n    </tr>\n    <tr>\n      <th>16</th>\n      <td>price</td>\n      <td>13</td>\n    </tr>\n    <tr>\n      <th>17</th>\n      <td>wear</td>\n      <td>16</td>\n    </tr>\n  </tbody>\n</table>\n</div>"
     },
     "execution_count": 34,
     "metadata": {},
     "output_type": "execute_result"
    }
   ],
   "source": [
    "# we can access a dictionary that maps between words and positions of the document-term matrix\n",
    "# list(count_vectorizer.vocabulary_.items())[0:10]\n",
    "id_word_indexer = pd.DataFrame(count_vectorizer.vocabulary_.items())\n",
    "id_word_indexer"
   ],
   "metadata": {
    "collapsed": false,
    "pycharm": {
     "name": "#%%\n"
    }
   }
  },
  {
   "cell_type": "markdown",
   "source": [
    "### Dictionary methods\n",
    "Dictionary methods ai to find synonyms of words and add to the corpus. In our case we want to classify our corpus based on these four terms by identifying synonyms from the text\n",
    "* Identify \"product\"\n",
    "* Identify \"service\"\n",
    "* Identify \"quality\"\n",
    "* Identify \"price\""
   ],
   "metadata": {
    "collapsed": false,
    "pycharm": {
     "name": "#%% md\n"
    }
   }
  },
  {
   "cell_type": "markdown",
   "source": [
    "### Finding synonyms using WordNet for the words"
   ],
   "metadata": {
    "collapsed": false,
    "pycharm": {
     "name": "#%% md\n"
    }
   }
  },
  {
   "cell_type": "code",
   "execution_count": 35,
   "outputs": [],
   "source": [
    "product_words = ['gadget', 'contraption', 'appliance', 'widget', 'equipment', 'contrivance', 'gizmo', 'product', 'merchandise', 'ware', 'gismo']\n",
    "service_words = ['service', 'assist', 'help', 'aid']\n",
    "quality_words = ['quality', 'built', 'refurbish', 'comfort', 'relief']\n",
    "price_words = ['price', 'money', 'cash', 'cheap', 'costly', 'pricey', 'discount', 'payment', 'rebate', 'cost']"
   ],
   "metadata": {
    "collapsed": false,
    "pycharm": {
     "name": "#%%\n"
    }
   }
  },
  {
   "cell_type": "markdown",
   "source": [
    "#### Now we use the synonym finder to generate extra set of words for identifying classification words.\n",
    "We then use the resulting set of words as tokens to be found in our corpus. Because the synonym words from the wordnet synonym finder may not be entirely suitable to be used automatically\n",
    "we filter the result. Particularly, some words could be used in different senses (noun, adjective etc.) and could determine different classification. Given that we know the domain here,\n",
    "we want to make sure that the synonyms we find don't add to the ambiguity\n",
    "For example, one of the synonyms for \"ware\" is \"convenience\" (as in mode of convenience). But this could also mean \"ease of use\", which would come under \"quality\" and not under \"product\"\n",
    "In order to avoid this, we manually filter out the output synonyms of wordnet results"
   ],
   "metadata": {
    "collapsed": false,
    "pycharm": {
     "name": "#%% md\n"
    }
   }
  },
  {
   "cell_type": "code",
   "execution_count": 36,
   "outputs": [],
   "source": [
    "syns_indicating_product = find_wordnet_synonyms(product_words, wn.NOUN)"
   ],
   "metadata": {
    "collapsed": false,
    "pycharm": {
     "name": "#%%\n"
    }
   }
  },
  {
   "cell_type": "code",
   "execution_count": 37,
   "outputs": [],
   "source": [
    "syns_indicating_service = find_wordnet_synonyms(service_words, wn.NOUN)"
   ],
   "metadata": {
    "collapsed": false,
    "pycharm": {
     "name": "#%%\n"
    }
   }
  },
  {
   "cell_type": "code",
   "execution_count": 38,
   "outputs": [],
   "source": [
    "syns_indicating_quality = find_wordnet_synonyms(quality_words, wn.NOUN)"
   ],
   "metadata": {
    "collapsed": false,
    "pycharm": {
     "name": "#%%\n"
    }
   }
  },
  {
   "cell_type": "code",
   "execution_count": 39,
   "outputs": [],
   "source": [
    "syns_indicating_price = find_wordnet_synonyms(price_words, wn.NOUN)"
   ],
   "metadata": {
    "collapsed": false,
    "pycharm": {
     "name": "#%%\n"
    }
   }
  },
  {
   "cell_type": "code",
   "execution_count": 40,
   "outputs": [],
   "source": [
    "tokens_indicating_product = product_words\n",
    "tokens_indicating_service = service_words\n",
    "tokens_indicating_quality = quality_words\n",
    "tokens_indicating_price = price_words"
   ],
   "metadata": {
    "collapsed": false,
    "pycharm": {
     "name": "#%%\n"
    }
   }
  },
  {
   "cell_type": "code",
   "execution_count": 41,
   "outputs": [
    {
     "name": "stdout",
     "output_type": "stream",
     "text": [
      "1 tokens found in vocabulary indicating service, [15]\n"
     ]
    }
   ],
   "source": [
    "# vocabulary's key is the feature word and the value is the feature-word's index in the feature column ...\n",
    "service_indicator_token_ids = [v for k,v in count_vectorizer.vocabulary_.items() if k in tokens_indicating_service]\n",
    "print(f\"{len(service_indicator_token_ids)} tokens found in vocabulary indicating service, {service_indicator_token_ids}\")"
   ],
   "metadata": {
    "collapsed": false,
    "pycharm": {
     "name": "#%%\n"
    }
   }
  },
  {
   "cell_type": "code",
   "execution_count": 42,
   "outputs": [
    {
     "name": "stdout",
     "output_type": "stream",
     "text": [
      "1 tokens found in vocabulary indicating product, [14]\n"
     ]
    }
   ],
   "source": [
    "product_indicator_token_ids = [v for k,v in count_vectorizer.vocabulary_.items() if k in tokens_indicating_product]\n",
    "print(f\"{len(product_indicator_token_ids)} tokens found in vocabulary indicating product, {product_indicator_token_ids}\")"
   ],
   "metadata": {
    "collapsed": false,
    "pycharm": {
     "name": "#%%\n"
    }
   }
  },
  {
   "cell_type": "code",
   "execution_count": 43,
   "outputs": [
    {
     "name": "stdout",
     "output_type": "stream",
     "text": [
      "0 tokens found in vocabulary indicating quality, []\n"
     ]
    }
   ],
   "source": [
    "quality_indicator_token_ids = [v for k,v in count_vectorizer.vocabulary_.items() if k in tokens_indicating_quality]\n",
    "print(f\"{len(quality_indicator_token_ids)} tokens found in vocabulary indicating quality, {quality_indicator_token_ids}\")"
   ],
   "metadata": {
    "collapsed": false,
    "pycharm": {
     "name": "#%%\n"
    }
   }
  },
  {
   "cell_type": "code",
   "execution_count": 44,
   "outputs": [
    {
     "name": "stdout",
     "output_type": "stream",
     "text": [
      "1 tokens found in vocabulary indicating price, [13]\n"
     ]
    }
   ],
   "source": [
    "price_indicator_token_ids = [v for k,v in count_vectorizer.vocabulary_.items() if k in tokens_indicating_price]\n",
    "print(f\"{len(price_indicator_token_ids)} tokens found in vocabulary indicating price, {price_indicator_token_ids}\")"
   ],
   "metadata": {
    "collapsed": false,
    "pycharm": {
     "name": "#%%\n"
    }
   }
  },
  {
   "cell_type": "code",
   "execution_count": 45,
   "outputs": [
    {
     "data": {
      "text/plain": "matrix([[1],\n        [0],\n        [0],\n        ...,\n        [0],\n        [0],\n        [0]])"
     },
     "execution_count": 45,
     "metadata": {},
     "output_type": "execute_result"
    }
   ],
   "source": [
    "service_indicator_counts = dt_matrix.tocsr()[:, service_indicator_token_ids]\n",
    "# for a given data, count all such tokens that indicate service and presumably, one can add this as a new column to the data itself\n",
    "service_indicator_counts = service_indicator_counts.sum(axis=1)\n",
    "service_indicator_counts"
   ],
   "metadata": {
    "collapsed": false,
    "pycharm": {
     "name": "#%%\n"
    }
   }
  },
  {
   "cell_type": "code",
   "execution_count": 46,
   "outputs": [
    {
     "data": {
      "text/plain": "array([0, 0, 0, ..., 0, 1, 0])"
     },
     "execution_count": 46,
     "metadata": {},
     "output_type": "execute_result"
    }
   ],
   "source": [
    "product_indicator_counts = dt_matrix.tocsr()[:, product_indicator_token_ids]\n",
    "# for a given data, count all such tokens that indicate product and presumably, one can add this as a new column to the data itself\n",
    "product_indicator_counts = product_indicator_counts.sum(axis=1)\n",
    "np.array(product_indicator_counts).ravel()"
   ],
   "metadata": {
    "collapsed": false,
    "pycharm": {
     "name": "#%%\n"
    }
   }
  },
  {
   "cell_type": "code",
   "execution_count": 47,
   "outputs": [
    {
     "data": {
      "text/plain": "array([0, 0, 0, ..., 0, 1, 0])"
     },
     "execution_count": 47,
     "metadata": {},
     "output_type": "execute_result"
    }
   ],
   "source": [
    "price_indicator_counts = dt_matrix.tocsr()[:, price_indicator_token_ids]\n",
    "# for a given data, count all such tokens that indicate price and presumably, one can add this as a new column to the data itself\n",
    "price_indicator_counts = price_indicator_counts.sum(axis=1)\n",
    "np.array(price_indicator_counts).ravel()"
   ],
   "metadata": {
    "collapsed": false,
    "pycharm": {
     "name": "#%%\n"
    }
   }
  },
  {
   "cell_type": "code",
   "execution_count": 48,
   "outputs": [
    {
     "data": {
      "text/plain": "array([0., 0., 0., ..., 0., 0., 0.])"
     },
     "execution_count": 48,
     "metadata": {},
     "output_type": "execute_result"
    }
   ],
   "source": [
    "quality_indicator_counts = dt_matrix.tocsr()[:, quality_indicator_token_ids]\n",
    "# for a given data, count all such tokens that indicate quality and presumably, one can add this as a new column to the data itself\n",
    "quality_indicator_counts = quality_indicator_counts.sum(axis=1)\n",
    "np.array(quality_indicator_counts).ravel()"
   ],
   "metadata": {
    "collapsed": false,
    "pycharm": {
     "name": "#%%\n"
    }
   }
  },
  {
   "cell_type": "code",
   "execution_count": 48,
   "outputs": [],
   "source": [],
   "metadata": {
    "collapsed": false,
    "pycharm": {
     "name": "#%%\n"
    }
   }
  },
  {
   "cell_type": "code",
   "execution_count": 49,
   "outputs": [
    {
     "name": "stdout",
     "output_type": "stream",
     "text": [
      "Index:14, value:\n",
      "[[   0 8101]\n",
      " [   1  613]\n",
      " [   2   78]\n",
      " [   3    1]\n",
      " [   4    1]]\n",
      "Index:15, value:\n",
      "[[   0 8227]\n",
      " [   1  476]\n",
      " [   2   83]\n",
      " [   3    6]\n",
      " [   4    2]]\n",
      "Index:16, value:\n",
      "[[   0 8027]\n",
      " [   1  600]\n",
      " [   2  155]\n",
      " [   3   10]\n",
      " [   4    2]]\n",
      "Index:17, value:\n",
      "[[   0 8102]\n",
      " [   1  565]\n",
      " [   2  122]\n",
      " [   3    5]]\n"
     ]
    }
   ],
   "source": [
    "# index 14 - service, 15-product, 16-quality, 17-price\n",
    "for idx in [14, 15, 16, 17]:\n",
    "    unique, counts = np.unique(dt_matrix.toarray()[:, idx], return_counts=True)\n",
    "    print(f\"Index:{idx}, value:\\n{np.asarray((unique, counts)).T}\")"
   ],
   "metadata": {
    "collapsed": false,
    "pycharm": {
     "name": "#%%\n"
    }
   }
  },
  {
   "cell_type": "code",
   "execution_count": 50,
   "outputs": [
    {
     "data": {
      "text/plain": "                                            FINAL_PRODUCT_NAME  RATING  \\\nREVIEW_DATE                                                              \n2021-11-01   Acuvue 2 Contact Lenses                       ...       5   \n2021-12-02   Acuvue 2 Contact Lenses                       ...       4   \n2021-12-01   Acuvue 2 Contact Lenses                       ...       4   \n2021-11-16   Acuvue 2 Contact Lenses                       ...       5   \n2021-12-08   Acuvue 2 Contact Lenses                       ...       4   \n...                                                        ...     ...   \n2021-11-29   Acuvue VITA Contact Lenses                    ...       5   \n2021-11-23                Shop Acuvue Vita 12 pack  (1.0 Box )       5   \n2021-12-27          Acuvue Vita for Astigmatism Contact Lenses       5   \n2021-10-16          Acuvue Vita for Astigmatism Contact Lenses       1   \n2021-12-05          Acuvue Vita for Astigmatism Contact Lenses       5   \n\n             PRODUCT   BRAND   GENDER  \\\nREVIEW_DATE                             \n2021-11-01   Acuvue2  Acuvue     male   \n2021-12-02   Acuvue2  Acuvue   female   \n2021-12-01   Acuvue2  Acuvue   female   \n2021-11-16   Acuvue2  Acuvue     male   \n2021-12-08   Acuvue2  Acuvue  unknown   \n...              ...     ...      ...   \n2021-11-29      Vita  Acuvue     male   \n2021-11-23      Vita  Acuvue     male   \n2021-12-27      Vita  Acuvue     male   \n2021-10-16      Vita  Acuvue  unknown   \n2021-12-05      Vita  Acuvue   female   \n\n                                                       COMMENT  service  \\\nREVIEW_DATE                                                               \n2021-11-01   Acucue 2 Contact Lenses I have used these lens...        1   \n2021-12-02                      Clear vision Tends to cloud up        0   \n2021-12-01   comfort These are very hard to handle. Flimsy ...        0   \n2021-11-16   Easy to use I have been using this product for...        0   \n2021-12-08   Excellent Excellent got promised a discount of...        0   \n...                                                        ...      ...   \n2021-11-29   Truly the Best The price, fast shipping,  quic...        0   \n2021-11-23   Very Comfortable Acuvue  Vita are very comfort...        0   \n2021-12-27   Very Comfortable and Convenient Very Comfortab...        0   \n2021-10-16   Worst lenses I've worn, microscopic tears in a...        0   \n2021-12-05   Would buy again My order came in fast without ...        0   \n\n             product  quality  price  \nREVIEW_DATE                           \n2021-11-01         0      0.0      0  \n2021-12-02         0      0.0      0  \n2021-12-01         0      0.0      0  \n2021-11-16         1      0.0      0  \n2021-12-08         0      0.0      0  \n...              ...      ...    ...  \n2021-11-29         0      0.0      1  \n2021-11-23         0      0.0      0  \n2021-12-27         0      0.0      0  \n2021-10-16         1      0.0      1  \n2021-12-05         0      0.0      0  \n\n[8794 rows x 10 columns]",
      "text/html": "<div>\n<style scoped>\n    .dataframe tbody tr th:only-of-type {\n        vertical-align: middle;\n    }\n\n    .dataframe tbody tr th {\n        vertical-align: top;\n    }\n\n    .dataframe thead th {\n        text-align: right;\n    }\n</style>\n<table border=\"1\" class=\"dataframe\">\n  <thead>\n    <tr style=\"text-align: right;\">\n      <th></th>\n      <th>FINAL_PRODUCT_NAME</th>\n      <th>RATING</th>\n      <th>PRODUCT</th>\n      <th>BRAND</th>\n      <th>GENDER</th>\n      <th>COMMENT</th>\n      <th>service</th>\n      <th>product</th>\n      <th>quality</th>\n      <th>price</th>\n    </tr>\n    <tr>\n      <th>REVIEW_DATE</th>\n      <th></th>\n      <th></th>\n      <th></th>\n      <th></th>\n      <th></th>\n      <th></th>\n      <th></th>\n      <th></th>\n      <th></th>\n      <th></th>\n    </tr>\n  </thead>\n  <tbody>\n    <tr>\n      <th>2021-11-01</th>\n      <td>Acuvue 2 Contact Lenses                       ...</td>\n      <td>5</td>\n      <td>Acuvue2</td>\n      <td>Acuvue</td>\n      <td>male</td>\n      <td>Acucue 2 Contact Lenses I have used these lens...</td>\n      <td>1</td>\n      <td>0</td>\n      <td>0.0</td>\n      <td>0</td>\n    </tr>\n    <tr>\n      <th>2021-12-02</th>\n      <td>Acuvue 2 Contact Lenses                       ...</td>\n      <td>4</td>\n      <td>Acuvue2</td>\n      <td>Acuvue</td>\n      <td>female</td>\n      <td>Clear vision Tends to cloud up</td>\n      <td>0</td>\n      <td>0</td>\n      <td>0.0</td>\n      <td>0</td>\n    </tr>\n    <tr>\n      <th>2021-12-01</th>\n      <td>Acuvue 2 Contact Lenses                       ...</td>\n      <td>4</td>\n      <td>Acuvue2</td>\n      <td>Acuvue</td>\n      <td>female</td>\n      <td>comfort These are very hard to handle. Flimsy ...</td>\n      <td>0</td>\n      <td>0</td>\n      <td>0.0</td>\n      <td>0</td>\n    </tr>\n    <tr>\n      <th>2021-11-16</th>\n      <td>Acuvue 2 Contact Lenses                       ...</td>\n      <td>5</td>\n      <td>Acuvue2</td>\n      <td>Acuvue</td>\n      <td>male</td>\n      <td>Easy to use I have been using this product for...</td>\n      <td>0</td>\n      <td>1</td>\n      <td>0.0</td>\n      <td>0</td>\n    </tr>\n    <tr>\n      <th>2021-12-08</th>\n      <td>Acuvue 2 Contact Lenses                       ...</td>\n      <td>4</td>\n      <td>Acuvue2</td>\n      <td>Acuvue</td>\n      <td>unknown</td>\n      <td>Excellent Excellent got promised a discount of...</td>\n      <td>0</td>\n      <td>0</td>\n      <td>0.0</td>\n      <td>0</td>\n    </tr>\n    <tr>\n      <th>...</th>\n      <td>...</td>\n      <td>...</td>\n      <td>...</td>\n      <td>...</td>\n      <td>...</td>\n      <td>...</td>\n      <td>...</td>\n      <td>...</td>\n      <td>...</td>\n      <td>...</td>\n    </tr>\n    <tr>\n      <th>2021-11-29</th>\n      <td>Acuvue VITA Contact Lenses                    ...</td>\n      <td>5</td>\n      <td>Vita</td>\n      <td>Acuvue</td>\n      <td>male</td>\n      <td>Truly the Best The price, fast shipping,  quic...</td>\n      <td>0</td>\n      <td>0</td>\n      <td>0.0</td>\n      <td>1</td>\n    </tr>\n    <tr>\n      <th>2021-11-23</th>\n      <td>Shop Acuvue Vita 12 pack  (1.0 Box )</td>\n      <td>5</td>\n      <td>Vita</td>\n      <td>Acuvue</td>\n      <td>male</td>\n      <td>Very Comfortable Acuvue  Vita are very comfort...</td>\n      <td>0</td>\n      <td>0</td>\n      <td>0.0</td>\n      <td>0</td>\n    </tr>\n    <tr>\n      <th>2021-12-27</th>\n      <td>Acuvue Vita for Astigmatism Contact Lenses</td>\n      <td>5</td>\n      <td>Vita</td>\n      <td>Acuvue</td>\n      <td>male</td>\n      <td>Very Comfortable and Convenient Very Comfortab...</td>\n      <td>0</td>\n      <td>0</td>\n      <td>0.0</td>\n      <td>0</td>\n    </tr>\n    <tr>\n      <th>2021-10-16</th>\n      <td>Acuvue Vita for Astigmatism Contact Lenses</td>\n      <td>1</td>\n      <td>Vita</td>\n      <td>Acuvue</td>\n      <td>unknown</td>\n      <td>Worst lenses I've worn, microscopic tears in a...</td>\n      <td>0</td>\n      <td>1</td>\n      <td>0.0</td>\n      <td>1</td>\n    </tr>\n    <tr>\n      <th>2021-12-05</th>\n      <td>Acuvue Vita for Astigmatism Contact Lenses</td>\n      <td>5</td>\n      <td>Vita</td>\n      <td>Acuvue</td>\n      <td>female</td>\n      <td>Would buy again My order came in fast without ...</td>\n      <td>0</td>\n      <td>0</td>\n      <td>0.0</td>\n      <td>0</td>\n    </tr>\n  </tbody>\n</table>\n<p>8794 rows × 10 columns</p>\n</div>"
     },
     "execution_count": 50,
     "metadata": {},
     "output_type": "execute_result"
    }
   ],
   "source": [
    "text_data['service'] = np.array(service_indicator_counts).ravel()\n",
    "text_data['product'] = np.array(product_indicator_counts).ravel()\n",
    "text_data['quality'] = np.array(quality_indicator_counts).ravel()\n",
    "text_data['price'] = np.array(price_indicator_counts).ravel()\n",
    "text_data"
   ],
   "metadata": {
    "collapsed": false,
    "pycharm": {
     "name": "#%%\n"
    }
   }
  },
  {
   "cell_type": "code",
   "execution_count": 51,
   "outputs": [],
   "source": [
    "text_data['RATING'].replace('N', '-1', inplace=True)\n",
    "text_data.RATING.value_counts()\n",
    "text_data['RATING'] = text_data['RATING'].apply(lambda x: int(x))\n",
    "\n",
    "data_agg = text_data.groupby(['price'], as_index=False).agg({'COMMENT': 'sum', 'RATING':'mean'})\n"
   ],
   "metadata": {
    "collapsed": false,
    "pycharm": {
     "name": "#%%\n"
    }
   }
  },
  {
   "cell_type": "code",
   "execution_count": 52,
   "outputs": [
    {
     "data": {
      "text/plain": "   price                                            COMMENT    RATING\n0      0  Acucue 2 Contact Lenses I have used these lens...  4.727621\n1      1  1 Day Acuvue Moist 90 Pack They are great and ...  4.724958\n2      2  Good contacts, good price Good contacts, good ...  4.931373\n3      3  Great experience, great price First time purch...  5.000000",
      "text/html": "<div>\n<style scoped>\n    .dataframe tbody tr th:only-of-type {\n        vertical-align: middle;\n    }\n\n    .dataframe tbody tr th {\n        vertical-align: top;\n    }\n\n    .dataframe thead th {\n        text-align: right;\n    }\n</style>\n<table border=\"1\" class=\"dataframe\">\n  <thead>\n    <tr style=\"text-align: right;\">\n      <th></th>\n      <th>price</th>\n      <th>COMMENT</th>\n      <th>RATING</th>\n    </tr>\n  </thead>\n  <tbody>\n    <tr>\n      <th>0</th>\n      <td>0</td>\n      <td>Acucue 2 Contact Lenses I have used these lens...</td>\n      <td>4.727621</td>\n    </tr>\n    <tr>\n      <th>1</th>\n      <td>1</td>\n      <td>1 Day Acuvue Moist 90 Pack They are great and ...</td>\n      <td>4.724958</td>\n    </tr>\n    <tr>\n      <th>2</th>\n      <td>2</td>\n      <td>Good contacts, good price Good contacts, good ...</td>\n      <td>4.931373</td>\n    </tr>\n    <tr>\n      <th>3</th>\n      <td>3</td>\n      <td>Great experience, great price First time purch...</td>\n      <td>5.000000</td>\n    </tr>\n  </tbody>\n</table>\n</div>"
     },
     "execution_count": 52,
     "metadata": {},
     "output_type": "execute_result"
    }
   ],
   "source": [
    "data_agg"
   ],
   "metadata": {
    "collapsed": false,
    "pycharm": {
     "name": "#%%\n"
    }
   }
  },
  {
   "cell_type": "code",
   "execution_count": 52,
   "outputs": [],
   "source": [],
   "metadata": {
    "collapsed": false,
    "pycharm": {
     "name": "#%%\n"
    }
   }
  },
  {
   "cell_type": "code",
   "execution_count": 53,
   "outputs": [],
   "source": [
    "data_agg = text_data.groupby(['service'], as_index=False).agg({'COMMENT': 'sum', 'RATING':'mean'})"
   ],
   "metadata": {
    "collapsed": false,
    "pycharm": {
     "name": "#%%\n"
    }
   }
  },
  {
   "cell_type": "code",
   "execution_count": 54,
   "metadata": {
    "pycharm": {
     "name": "#%%\n"
    }
   },
   "outputs": [
    {
     "data": {
      "text/plain": "   service                                            COMMENT    RATING\n0        0  Clear vision Tends to cloud upcomfort These ar...  4.740367\n1        1  Acucue 2 Contact Lenses I have used these lens...  4.560924\n2        2  Great service over all Great service! Could ha...  4.843373\n3        3  Service is great but all spam emails are not C...  2.833333\n4        4  Service, Service, Service! I have always recei...  3.000000",
      "text/html": "<div>\n<style scoped>\n    .dataframe tbody tr th:only-of-type {\n        vertical-align: middle;\n    }\n\n    .dataframe tbody tr th {\n        vertical-align: top;\n    }\n\n    .dataframe thead th {\n        text-align: right;\n    }\n</style>\n<table border=\"1\" class=\"dataframe\">\n  <thead>\n    <tr style=\"text-align: right;\">\n      <th></th>\n      <th>service</th>\n      <th>COMMENT</th>\n      <th>RATING</th>\n    </tr>\n  </thead>\n  <tbody>\n    <tr>\n      <th>0</th>\n      <td>0</td>\n      <td>Clear vision Tends to cloud upcomfort These ar...</td>\n      <td>4.740367</td>\n    </tr>\n    <tr>\n      <th>1</th>\n      <td>1</td>\n      <td>Acucue 2 Contact Lenses I have used these lens...</td>\n      <td>4.560924</td>\n    </tr>\n    <tr>\n      <th>2</th>\n      <td>2</td>\n      <td>Great service over all Great service! Could ha...</td>\n      <td>4.843373</td>\n    </tr>\n    <tr>\n      <th>3</th>\n      <td>3</td>\n      <td>Service is great but all spam emails are not C...</td>\n      <td>2.833333</td>\n    </tr>\n    <tr>\n      <th>4</th>\n      <td>4</td>\n      <td>Service, Service, Service! I have always recei...</td>\n      <td>3.000000</td>\n    </tr>\n  </tbody>\n</table>\n</div>"
     },
     "execution_count": 54,
     "metadata": {},
     "output_type": "execute_result"
    }
   ],
   "source": [
    "data_agg"
   ]
  },
  {
   "cell_type": "code",
   "execution_count": 55,
   "metadata": {
    "pycharm": {
     "name": "#%%\n"
    }
   },
   "outputs": [
    {
     "data": {
      "text/plain": "      contact  lenses  service  lens  great  comfortable  easy  product  \\\n0           0       1        0     0      0            0     0        0   \n1           0       0        0     0      0            0     0        0   \n2           1       0        0     0      0            0     0        0   \n3           0       0        0     0      1            0     0        0   \n4           0       0        0     0      0            0     0        0   \n...       ...     ...      ...   ...    ...          ...   ...      ...   \n8789        0       0        0     0      0            0     1        0   \n8790        2       0        0     0      0            0     0        1   \n8791        2       0        0     0      0            0     0        0   \n8792        0       1        2     0      0            3     0        0   \n8793        0       0        0     0      0            0     1        0   \n\n      years  fast  contacts  day  pack  eyes  love  good  price  wear  \n0         2     1         3    0     0     0     0     1      0     0  \n1         0     0         0    0     0     0     0     0      0     0  \n2         0     0         0    0     0     0     0     0      0     0  \n3         0     0         0    0     0     0     1     0      0     1  \n4         0     0         0    0     0     0     0     0      0     0  \n...     ...   ...       ...  ...   ...   ...   ...   ...    ...   ...  \n8789      0     0         0    0     0     1     0     0      0     0  \n8790      0     0         0    0     0     0     0     0      1     0  \n8791      0     0         0    0     0     0     0     0      0     0  \n8792      0     0         2    0     0     1     1     0      0     1  \n8793      0     0         0    0     0     0     0     0      0     0  \n\n[8794 rows x 18 columns]",
      "text/html": "<div>\n<style scoped>\n    .dataframe tbody tr th:only-of-type {\n        vertical-align: middle;\n    }\n\n    .dataframe tbody tr th {\n        vertical-align: top;\n    }\n\n    .dataframe thead th {\n        text-align: right;\n    }\n</style>\n<table border=\"1\" class=\"dataframe\">\n  <thead>\n    <tr style=\"text-align: right;\">\n      <th></th>\n      <th>contact</th>\n      <th>lenses</th>\n      <th>service</th>\n      <th>lens</th>\n      <th>great</th>\n      <th>comfortable</th>\n      <th>easy</th>\n      <th>product</th>\n      <th>years</th>\n      <th>fast</th>\n      <th>contacts</th>\n      <th>day</th>\n      <th>pack</th>\n      <th>eyes</th>\n      <th>love</th>\n      <th>good</th>\n      <th>price</th>\n      <th>wear</th>\n    </tr>\n  </thead>\n  <tbody>\n    <tr>\n      <th>0</th>\n      <td>0</td>\n      <td>1</td>\n      <td>0</td>\n      <td>0</td>\n      <td>0</td>\n      <td>0</td>\n      <td>0</td>\n      <td>0</td>\n      <td>2</td>\n      <td>1</td>\n      <td>3</td>\n      <td>0</td>\n      <td>0</td>\n      <td>0</td>\n      <td>0</td>\n      <td>1</td>\n      <td>0</td>\n      <td>0</td>\n    </tr>\n    <tr>\n      <th>1</th>\n      <td>0</td>\n      <td>0</td>\n      <td>0</td>\n      <td>0</td>\n      <td>0</td>\n      <td>0</td>\n      <td>0</td>\n      <td>0</td>\n      <td>0</td>\n      <td>0</td>\n      <td>0</td>\n      <td>0</td>\n      <td>0</td>\n      <td>0</td>\n      <td>0</td>\n      <td>0</td>\n      <td>0</td>\n      <td>0</td>\n    </tr>\n    <tr>\n      <th>2</th>\n      <td>1</td>\n      <td>0</td>\n      <td>0</td>\n      <td>0</td>\n      <td>0</td>\n      <td>0</td>\n      <td>0</td>\n      <td>0</td>\n      <td>0</td>\n      <td>0</td>\n      <td>0</td>\n      <td>0</td>\n      <td>0</td>\n      <td>0</td>\n      <td>0</td>\n      <td>0</td>\n      <td>0</td>\n      <td>0</td>\n    </tr>\n    <tr>\n      <th>3</th>\n      <td>0</td>\n      <td>0</td>\n      <td>0</td>\n      <td>0</td>\n      <td>1</td>\n      <td>0</td>\n      <td>0</td>\n      <td>0</td>\n      <td>0</td>\n      <td>0</td>\n      <td>0</td>\n      <td>0</td>\n      <td>0</td>\n      <td>0</td>\n      <td>1</td>\n      <td>0</td>\n      <td>0</td>\n      <td>1</td>\n    </tr>\n    <tr>\n      <th>4</th>\n      <td>0</td>\n      <td>0</td>\n      <td>0</td>\n      <td>0</td>\n      <td>0</td>\n      <td>0</td>\n      <td>0</td>\n      <td>0</td>\n      <td>0</td>\n      <td>0</td>\n      <td>0</td>\n      <td>0</td>\n      <td>0</td>\n      <td>0</td>\n      <td>0</td>\n      <td>0</td>\n      <td>0</td>\n      <td>0</td>\n    </tr>\n    <tr>\n      <th>...</th>\n      <td>...</td>\n      <td>...</td>\n      <td>...</td>\n      <td>...</td>\n      <td>...</td>\n      <td>...</td>\n      <td>...</td>\n      <td>...</td>\n      <td>...</td>\n      <td>...</td>\n      <td>...</td>\n      <td>...</td>\n      <td>...</td>\n      <td>...</td>\n      <td>...</td>\n      <td>...</td>\n      <td>...</td>\n      <td>...</td>\n    </tr>\n    <tr>\n      <th>8789</th>\n      <td>0</td>\n      <td>0</td>\n      <td>0</td>\n      <td>0</td>\n      <td>0</td>\n      <td>0</td>\n      <td>1</td>\n      <td>0</td>\n      <td>0</td>\n      <td>0</td>\n      <td>0</td>\n      <td>0</td>\n      <td>0</td>\n      <td>1</td>\n      <td>0</td>\n      <td>0</td>\n      <td>0</td>\n      <td>0</td>\n    </tr>\n    <tr>\n      <th>8790</th>\n      <td>2</td>\n      <td>0</td>\n      <td>0</td>\n      <td>0</td>\n      <td>0</td>\n      <td>0</td>\n      <td>0</td>\n      <td>1</td>\n      <td>0</td>\n      <td>0</td>\n      <td>0</td>\n      <td>0</td>\n      <td>0</td>\n      <td>0</td>\n      <td>0</td>\n      <td>0</td>\n      <td>1</td>\n      <td>0</td>\n    </tr>\n    <tr>\n      <th>8791</th>\n      <td>2</td>\n      <td>0</td>\n      <td>0</td>\n      <td>0</td>\n      <td>0</td>\n      <td>0</td>\n      <td>0</td>\n      <td>0</td>\n      <td>0</td>\n      <td>0</td>\n      <td>0</td>\n      <td>0</td>\n      <td>0</td>\n      <td>0</td>\n      <td>0</td>\n      <td>0</td>\n      <td>0</td>\n      <td>0</td>\n    </tr>\n    <tr>\n      <th>8792</th>\n      <td>0</td>\n      <td>1</td>\n      <td>2</td>\n      <td>0</td>\n      <td>0</td>\n      <td>3</td>\n      <td>0</td>\n      <td>0</td>\n      <td>0</td>\n      <td>0</td>\n      <td>2</td>\n      <td>0</td>\n      <td>0</td>\n      <td>1</td>\n      <td>1</td>\n      <td>0</td>\n      <td>0</td>\n      <td>1</td>\n    </tr>\n    <tr>\n      <th>8793</th>\n      <td>0</td>\n      <td>0</td>\n      <td>0</td>\n      <td>0</td>\n      <td>0</td>\n      <td>0</td>\n      <td>1</td>\n      <td>0</td>\n      <td>0</td>\n      <td>0</td>\n      <td>0</td>\n      <td>0</td>\n      <td>0</td>\n      <td>0</td>\n      <td>0</td>\n      <td>0</td>\n      <td>0</td>\n      <td>0</td>\n    </tr>\n  </tbody>\n</table>\n<p>8794 rows × 18 columns</p>\n</div>"
     },
     "execution_count": 55,
     "metadata": {},
     "output_type": "execute_result"
    }
   ],
   "source": [
    "## FOR SVM, we need to make a matrix with proper column names\n",
    "# Also, we need another column that denotes the review\n",
    "# We also need to normalize the data\n",
    "df_svm = pd.DataFrame(dt_matrix.toarray())\n",
    "df_svm.rename(columns=id_word_indexer.to_dict()[0], inplace=True)\n",
    "df_svm"
   ]
  },
  {
   "cell_type": "code",
   "execution_count": 65,
   "outputs": [
    {
     "data": {
      "text/plain": "2    8386\n0     336\n1      72\nName: _SENTIMENT_, dtype: int64"
     },
     "execution_count": 65,
     "metadata": {},
     "output_type": "execute_result"
    }
   ],
   "source": [
    "# attach sentiment, seems\n",
    "def find_sentiment(rating):\n",
    "    choices = [0, 1, 2]\n",
    "    conditions = [rating < 3, rating == 3, rating > 3]\n",
    "    senti = np.select(conditions, choices)\n",
    "    return senti\n",
    "\n",
    "SENTIMENT_SERIES = text_data['RATING'].apply(find_sentiment).astype('category')\n",
    "df_svm['_SENTIMENT_'] = SENTIMENT_SERIES.values\n",
    "#df_svm._SENTIMENT_.value_counts()"
   ],
   "metadata": {
    "collapsed": false,
    "pycharm": {
     "name": "#%%\n"
    }
   }
  },
  {
   "cell_type": "code",
   "execution_count": 71,
   "outputs": [],
   "source": [
    "X = df_svm.drop(['_SENTIMENT_'], axis=1)\n",
    "y = df_svm['_SENTIMENT_']\n",
    "validation_reqd = True\n",
    "df_trainX, df_trainy, df_testX, df_testy, df_validX, df_validy = split_data(X, y, validation=True)"
   ],
   "metadata": {
    "collapsed": false,
    "pycharm": {
     "name": "#%%\n"
    }
   }
  },
  {
   "cell_type": "code",
   "execution_count": 94,
   "outputs": [],
   "source": [
    "def create_svm_model(trainX, trainy, validX, validy):\n",
    "    def _create_svm_model(param_dict):\n",
    "        C = param_dict['C']\n",
    "        kernel = param_dict['kernel']\n",
    "        degree = param_dict['degree']\n",
    "\n",
    "        model = SVC(C=C,\n",
    "                        kernel=kernel,\n",
    "                        degree=degree,\n",
    "                        gamma='auto',\n",
    "                        class_weight='balanced',\n",
    "                        random_state=42)\n",
    "\n",
    "\n",
    "        # fit model ...\n",
    "        history = model.fit(X=trainX, y=trainy)\n",
    "            #, validation_data = (validX,validy),\n",
    "            #                verbose=1,\n",
    "            #                workers=4,\n",
    "            #                use_multiprocessing=True)\n",
    "\n",
    "        y_pred_train = model.predict(trainX)#, workers=4, use_multiprocessing=True)\n",
    "        y_pred_validation = model.predict(validX)#, workers=4, use_multiprocessing=True)\n",
    "\n",
    "        #y_train_pred_labels = convert_prob_to_labels(y_pred_train)\n",
    "        #y_validation_pred_labels = convert_prob_to_labels(y_pred_validation)\n",
    "\n",
    "        # accuracy score used ...\n",
    "        train_score = accuracy_score(trainy, y_pred_train)\n",
    "        val_score = accuracy_score(validy, y_pred_validation)\n",
    "\n",
    "        return train_score, val_score, param_dict, history, y_pred_validation\n",
    "\n",
    "    return _create_svm_model"
   ],
   "metadata": {
    "collapsed": false,
    "pycharm": {
     "name": "#%%\n"
    }
   }
  },
  {
   "cell_type": "code",
   "execution_count": 77,
   "outputs": [
    {
     "name": "stdout",
     "output_type": "stream",
     "text": [
      "{'C': 1.0, 'degree': 1, 'kernel': 'linear'}\n"
     ]
    },
    {
     "data": {
      "text/plain": "[None]"
     },
     "execution_count": 77,
     "metadata": {},
     "output_type": "execute_result"
    }
   ],
   "source": [
    "# parameters to be varied\n",
    "C = [1.0] #np.logspace(0, 1, 21)\n",
    "kernel_functions = ['linear'] #('linear', 'poly', 'rbf', 'sigmoid')\n",
    "degree_vals = [1]\n",
    "\n",
    "parameters = [{'C': C,\n",
    "              'kernel': kernel_functions,\n",
    "              'degree': degree_vals\n",
    "              }\n",
    "              ]\n",
    "\n",
    "# make a grid out of parameter choices ...\n",
    "grid_params = ParameterGrid(parameters)\n",
    "[print(x) for x in grid_params]"
   ],
   "metadata": {
    "collapsed": false,
    "pycharm": {
     "name": "#%%\n"
    }
   }
  },
  {
   "cell_type": "code",
   "execution_count": 98,
   "outputs": [
    {
     "name": "stdout",
     "output_type": "stream",
     "text": [
      "Time taken to finish best parameter search with NN model: 0.0374563933166731 mins.\n"
     ]
    }
   ],
   "source": [
    "# func that sets up the context .. i.e. what the pipeline does, what the data input is\n",
    "svm_model_func = create_svm_model(df_trainX, df_trainy, df_validX, df_validy)\n",
    "\n",
    "st_ = timer()\n",
    "# run NN model in parallel and extract results (train_score, valid_score,parameter, history of fit) as a list\n",
    "results = run_parallel(svm_model_func, num_cpus=4)(grid_params)\n",
    "\n",
    "end_ = timer()\n",
    "\n",
    "print(f\"Time taken to finish best parameter search with NN model: {(end_-st_)/60.0} mins.\")"
   ],
   "metadata": {
    "collapsed": false,
    "pycharm": {
     "name": "#%%\n"
    }
   }
  },
  {
   "cell_type": "code",
   "execution_count": 96,
   "outputs": [
    {
     "data": {
      "text/plain": "[(0.47836635665183985,\n  0.4724075197089145,\n  {'C': 1.0, 'degree': 1, 'kernel': 'linear'},\n  SVC(class_weight='balanced', degree=1, gamma='auto', kernel='linear',\n      random_state=42),\n  array([0, 1, 0, ..., 0, 0, 2]))]"
     },
     "execution_count": 96,
     "metadata": {},
     "output_type": "execute_result"
    }
   ],
   "source": [
    "results"
   ],
   "metadata": {
    "collapsed": false,
    "pycharm": {
     "name": "#%%\n"
    }
   }
  },
  {
   "cell_type": "code",
   "execution_count": null,
   "outputs": [],
   "source": [
    "train_score, val_score, param_dict, history, y_pred_validation"
   ],
   "metadata": {
    "collapsed": false,
    "pycharm": {
     "name": "#%%\n"
    }
   }
  },
  {
   "cell_type": "code",
   "execution_count": 103,
   "outputs": [
    {
     "name": "stdout",
     "output_type": "stream",
     "text": [
      "Best validation score:0.4724075197089145\n",
      "Best params based on validation score:{'C': 1.0, 'degree': 1, 'kernel': 'linear'}\n"
     ]
    }
   ],
   "source": [
    "# find the best parameters based on validation score\n",
    "best_validation_score = results[0][1]\n",
    "best_params = results[0][2]\n",
    "plot_data = results[0][3]\n",
    "validation_data = results[0][4]\n",
    "for i in range(1, len(results)):\n",
    "    tscore = results[i][0]\n",
    "    vscore = results[i][1]\n",
    "    param = results[i][2]\n",
    "    if vscore > best_validation_score:\n",
    "        best_validation_score = vscore\n",
    "        best_params = param\n",
    "        plot_data = results[i][3]\n",
    "        validation_data = results[i][4]\n",
    "\n",
    "# output result\n",
    "print(f\"Best validation score:{best_validation_score}\")\n",
    "print(f\"Best params based on validation score:{best_params}\")"
   ],
   "metadata": {
    "collapsed": false,
    "pycharm": {
     "name": "#%%\n"
    }
   }
  },
  {
   "cell_type": "code",
   "execution_count": 104,
   "outputs": [
    {
     "ename": "NameError",
     "evalue": "name 'metrics' is not defined",
     "output_type": "error",
     "traceback": [
      "\u001B[0;31m---------------------------------------------------------------------------\u001B[0m",
      "\u001B[0;31mNameError\u001B[0m                                 Traceback (most recent call last)",
      "Input \u001B[0;32mIn [104]\u001B[0m, in \u001B[0;36m<cell line: 3>\u001B[0;34m()\u001B[0m\n\u001B[1;32m      1\u001B[0m \u001B[38;5;66;03m#y_pred =   np.argmax(y_pred_raw, axis = 1)\u001B[39;00m\n\u001B[1;32m      2\u001B[0m \u001B[38;5;66;03m#y_true = np.argmax(y_test, axis = 1)\u001B[39;00m\n\u001B[0;32m----> 3\u001B[0m \u001B[38;5;28mprint\u001B[39m(\u001B[43mmetrics\u001B[49m\u001B[38;5;241m.\u001B[39mclassification_report(validation_data, df_validy))\n",
      "\u001B[0;31mNameError\u001B[0m: name 'metrics' is not defined"
     ]
    }
   ],
   "source": [
    "from sklearn import metrics\n",
    "#y_pred =   np.argmax(y_pred_raw, axis = 1)\n",
    "#y_true = np.argmax(y_test, axis = 1)\n",
    "print(metrics.classification_report(validation_data, df_validy))"
   ],
   "metadata": {
    "collapsed": false,
    "pycharm": {
     "name": "#%%\n"
    }
   }
  }
 ],
 "metadata": {
  "interpreter": {
   "hash": "7478654ab1aa58977e1af457aae5317775386ee06614bd651985e9aec83741b6"
  },
  "kernelspec": {
   "display_name": "Python 3 (ipykernel)",
   "language": "python",
   "name": "python3"
  },
  "language_info": {
   "codemirror_mode": {
    "name": "ipython",
    "version": 3
   },
   "file_extension": ".py",
   "mimetype": "text/x-python",
   "name": "python",
   "nbconvert_exporter": "python",
   "pygments_lexer": "ipython3",
   "version": "3.8.2"
  }
 },
 "nbformat": 4,
 "nbformat_minor": 4
}