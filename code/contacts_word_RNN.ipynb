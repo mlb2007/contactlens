{
 "cells": [
  {
   "cell_type": "markdown",
   "metadata": {
    "pycharm": {
     "name": "#%% md\n"
    }
   },
   "source": [
    "# Recurrent Neural Network (RNN) LSTM based Sentiment Analysis\n",
    "\n",
    "In this we use LSTM (Long Short Term Memory) perceptron and use a neural network model to model sentiments based on inout word tokens and bigrams"
   ]
  },
  {
   "cell_type": "code",
   "execution_count": 1,
   "metadata": {
    "pycharm": {
     "name": "#%%\n"
    }
   },
   "outputs": [
    {
     "name": "stderr",
     "output_type": "stream",
     "text": [
      "/Users/bmukund/miniconda3/lib/python3.8/site-packages/spacy/util.py:837: UserWarning: [W095] Model 'en_core_web_sm' (3.2.0) was trained with spaCy v3.2 and may not be 100% compatible with the current version (3.3.0). If you see errors or degraded performance, download a newer compatible model or retrain your custom model with the current spaCy version. For more details and available updates, run: python -m spacy validate\n",
      "  warnings.warn(warn_msg)\n"
     ]
    }
   ],
   "source": [
    "\n",
    "%matplotlib inline\n",
    "%load_ext autoreload\n",
    "%autoreload 2\n",
    "\n",
    "import numpy as np\n",
    "import matplotlib.pyplot as plt\n",
    "import seaborn as sns\n",
    "import sys\n",
    "sys.path.append('pymodules')\n",
    "\n",
    "# Gensim\n",
    "from gensim.models import Word2Vec\n",
    "# making the plot look good ...\n",
    "from adjustText import adjust_text\n",
    "from sklearn.decomposition import PCA\n",
    "\n",
    "from keras_preprocessing.sequence import pad_sequences\n",
    "from keras.preprocessing.text import Tokenizer\n",
    "from keras.utils import to_categorical\n",
    "from tensorflow.keras.models import Sequential\n",
    "from tensorflow.keras.layers import Dense, LSTM, Embedding,Bidirectional\n",
    "from tensorflow.keras.layers import Dropout\n",
    "\n",
    "from keras.callbacks import EarlyStopping, ModelCheckpoint\n",
    "\n",
    "from sklearn import metrics\n",
    "from sklearn.model_selection import train_test_split, ParameterGrid\n",
    "\n",
    "# this class read the raw input and tokenizes comprehensively for use with modeling\n",
    "import pymodules.read_and_tokenize as contacts_utils\n",
    "\n",
    "from timeit import default_timer as timer\n",
    "from sklearn.metrics import confusion_matrix, ConfusionMatrixDisplay"
   ]
  },
  {
   "cell_type": "markdown",
   "metadata": {
    "pycharm": {
     "name": "#%% md\n"
    }
   },
   "source": [
    "### Read file and preprocess to generate tokens"
   ]
  },
  {
   "cell_type": "code",
   "execution_count": 2,
   "metadata": {
    "pycharm": {
     "name": "#%%\n"
    }
   },
   "outputs": [
    {
     "name": "stdout",
     "output_type": "stream",
     "text": [
      "Read sheet 'Scrubbed_data' ...\n",
      "Columns:Index(['TITLE', 'COMMENTS', 'OVERALL_RATING', 'COMFORT_RATING',\n",
      "       'VISION_RATING', 'VALUE_FOR_MONEY', 'AUTHOR', 'PROS', 'CONS',\n",
      "       'ORIGINAL_SOURCE', 'REPLY_FROM_ACCUVUE', 'FINAL_PRODUCT_NAME',\n",
      "       'PRODUCT_LINK', 'WEBSITE', 'RATING', 'PRODUCT', 'BRAND'],\n",
      "      dtype='object')\n",
      "Columns dropped: ['OVERALL_RATING', 'COMFORT_RATING', 'VISION_RATING', 'VALUE_FOR_MONEY', 'PROS', 'CONS', 'ORIGINAL_SOURCE', 'REPLY_FROM_ACCUVUE', 'PRODUCT_LINK', 'WEBSITE']\n",
      " Drop the Author column and replace it with gender of author ...\n",
      "Consolidate all the comments into one column called COMMENT\n",
      "Make ratings into integers\n",
      "Tokenize data based on regex found from experimentation and common usage ...\n",
      "Comments before tokenization at index[0]:\n",
      " Acucue 2 Contact Lenses I have used these lenses for a long time and I have to say that the service from Lens.com is great and the lenses work great for my needs!  I highly recommend them!\n",
      "Comments after tokenization at index[0]:\n",
      " Acucue 2 Contact Lenses I have used these lenses for a long time and I have to say that the service from Lens.com is great and the lenses work great for my needs!  I highly recommend them!\n",
      "Comments at index[0] before basic cleaning:\n",
      " Acucue 2 Contact Lenses I have used these lenses for a long time and I have to say that the service from Lens.com is great and the lenses work great for my needs!  I highly recommend them!\n",
      "Comments at index[0] after cleaning:\n",
      " acucue 2 contact lenses i have used these lenses for a long time and i have to say that the service from lens.com is great and the lenses work great for my needs!  i highly recommend them!\n",
      "Acucue 2 Contact Lenses I have used these lenses for a long time and I have to say that the service from Lens.com is great and the lenses work great for my needs!  I highly recommend them!\n",
      "\n",
      "['acucue', '2', 'contact', 'lenses', 'i', 'have', 'used', 'these', 'lenses', 'for', 'a', 'long', 'time', 'and', 'i', 'have', 'to', 'say', 'that', 'the', 'service', 'from', 'lens', '.', 'com', 'is', 'great', 'and', 'the', 'lenses', 'work', 'great', 'for', 'my', 'needs', '!', 'i', 'highly', 'recommend', 'them', '!']\n",
      "Comments at index[0] before removal of punctuations:\n",
      " Acucue 2 Contact Lenses I have used these lenses for a long time and I have to say that the service from Lens.com is great and the lenses work great for my needs!  I highly recommend them!\n",
      "Comments at index[0] after removal of punctuation:\n",
      " ['acucue', 'contact', 'lenses', 'have', 'used', 'these', 'lenses', 'for', 'long', 'time', 'and', 'have', 'say', 'that', 'the', 'service', 'from', 'lens', 'com', 'great', 'and', 'the', 'lenses', 'work', 'great', 'for', 'needs', 'highly', 'recommend', 'them']\n",
      "Comments at index[0] before removal of stop words:\n",
      " Acucue 2 Contact Lenses I have used these lenses for a long time and I have to say that the service from Lens.com is great and the lenses work great for my needs!  I highly recommend them!\n",
      "Comments at index[0] after removal of stop words:\n",
      " ['used', 'for', 'long', 'time', 'and', 'say', 'service', 'from', 'com', 'great', 'and', 'work', 'great', 'for', 'needs', 'highly', 'recommend']\n",
      "Lemmatize tokens\n",
      "Comments at index[0] after lemmatization:\n",
      " ['use', 'for', 'long', 'time', 'and', 'say', 'service', 'from', 'com', 'great', 'and', 'work', 'great', 'for', 'need', 'highly', 'recommend']\n",
      "Build the bigram and trigram words for use with topic modeling\n"
     ]
    }
   ],
   "source": [
    "filename = \"data/Master-data_Q42021.xlsx\"\n",
    "prep_comments, df = contacts_utils.read_file(filename)"
   ]
  },
  {
   "cell_type": "markdown",
   "metadata": {
    "pycharm": {
     "name": "#%% md\n"
    }
   },
   "source": [
    "### Determine response variable called 'SENTIMENT' based on rating\n",
    "\n",
    "* If Rating is < 3, we give a sentiment value of 0 (Negative sentiment)\n",
    "\n",
    "* If Rating is = 3, we give a sentiment value of 1 (Neutral sentiment)\n",
    "\n",
    "* If Rating is > 3, we give a sentiment value of 2 (Positive sentiment)"
   ]
  },
  {
   "cell_type": "code",
   "execution_count": 3,
   "metadata": {
    "pycharm": {
     "name": "#%%\n"
    }
   },
   "outputs": [],
   "source": [
    "# attach sentiment, seems\n",
    "def find_sentiment(rating):\n",
    "    choices = [0, 1, 2]\n",
    "    conditions = [rating < 3, rating == 3, rating > 3]\n",
    "    senti = np.select(conditions, choices)\n",
    "    return senti\n",
    "\n",
    "df['SENTIMENT'] = df['RATING'].apply(find_sentiment).astype('category')"
   ]
  },
  {
   "cell_type": "markdown",
   "metadata": {
    "pycharm": {
     "name": "#%% md\n"
    }
   },
   "source": [
    "### Add bigrams to the word tokens so that sentiments are expressed better by word tokens and word-pairs"
   ]
  },
  {
   "cell_type": "code",
   "execution_count": 4,
   "metadata": {
    "pycharm": {
     "name": "#%%\n"
    }
   },
   "outputs": [
    {
     "name": "stdout",
     "output_type": "stream",
     "text": [
      "Comments at index[0] after addition of bigrams:\n",
      " ['used', 'for', 'long', 'time', 'and', 'say', 'service', 'from', 'com', 'great', 'and', 'work', 'great', 'for', 'needs', 'highly', 'recommend', 'used-for', 'for-long', 'long-time', 'time-and', 'and-say', 'say-service', 'service-from', 'from-com', 'com-great', 'great-and', 'and-work', 'work-great', 'great-for', 'for-needs', 'needs-highly', 'highly-recommend']\n",
      "Comments at index[-1] after addition of bigrams:\n",
      " ['buy', 'again', 'order', 'came', 'fast', 'without', 'any', 'issues', 'and', 'candy', 'nice', 'touch', 'buy-again', 'again-order', 'order-came', 'came-fast', 'fast-without', 'without-any', 'any-issues', 'issues-and', 'and-candy', 'candy-nice', 'nice-touch']\n"
     ]
    }
   ],
   "source": [
    "require_bigrams = True\n",
    "if require_bigrams:\n",
    "    for i in range(len(prep_comments.tokens)):\n",
    "        prep_comments.tokens[i] = prep_comments.tokens[i] + prep_comments.bigrams[i]\n",
    "\n",
    "test_index = 0\n",
    "print(f\"Comments at index[{test_index}] after addition of bigrams:\\n {prep_comments.tokens[test_index]}\")\n",
    "print(f\"Comments at index[{-1}] after addition of bigrams:\\n {prep_comments.tokens[-1]}\")"
   ]
  },
  {
   "cell_type": "code",
   "execution_count": 5,
   "metadata": {
    "pycharm": {
     "name": "#%%\n"
    }
   },
   "outputs": [],
   "source": [
    "## Create Dictionary\n",
    "#id2word = corpora.Dictionary(prep_comments.tokens)\n",
    "## Create Corpus: Term Document Frequency\n",
    "#corpus = [id2word.doc2bow(text) for text in prep_comments.tokens]\n",
    "#print(corpus)"
   ]
  },
  {
   "cell_type": "markdown",
   "metadata": {
    "pycharm": {
     "name": "#%% md\n"
    }
   },
   "source": [
    "### Add the token and Sentiments are new columns and display them"
   ]
  },
  {
   "cell_type": "code",
   "execution_count": 6,
   "metadata": {
    "pycharm": {
     "name": "#%%\n"
    }
   },
   "outputs": [],
   "source": [
    "df['TOKENS'] = prep_comments.tokens"
   ]
  },
  {
   "cell_type": "code",
   "execution_count": 7,
   "metadata": {
    "pycharm": {
     "name": "#%%\n"
    }
   },
   "outputs": [],
   "source": [
    "dfXY = df[['TOKENS', 'SENTIMENT']]"
   ]
  },
  {
   "cell_type": "code",
   "execution_count": 8,
   "metadata": {
    "pycharm": {
     "name": "#%%\n"
    }
   },
   "outputs": [
    {
     "data": {
      "text/html": [
       "<div>\n",
       "<style scoped>\n",
       "    .dataframe tbody tr th:only-of-type {\n",
       "        vertical-align: middle;\n",
       "    }\n",
       "\n",
       "    .dataframe tbody tr th {\n",
       "        vertical-align: top;\n",
       "    }\n",
       "\n",
       "    .dataframe thead th {\n",
       "        text-align: right;\n",
       "    }\n",
       "</style>\n",
       "<table border=\"1\" class=\"dataframe\">\n",
       "  <thead>\n",
       "    <tr style=\"text-align: right;\">\n",
       "      <th></th>\n",
       "      <th>TOKENS</th>\n",
       "      <th>SENTIMENT</th>\n",
       "    </tr>\n",
       "    <tr>\n",
       "      <th>REVIEW_DATE</th>\n",
       "      <th></th>\n",
       "      <th></th>\n",
       "    </tr>\n",
       "  </thead>\n",
       "  <tbody>\n",
       "    <tr>\n",
       "      <th>2021-11-01</th>\n",
       "      <td>[used, for, long, time, and, say, service, fro...</td>\n",
       "      <td>2</td>\n",
       "    </tr>\n",
       "    <tr>\n",
       "      <th>2021-12-02</th>\n",
       "      <td>[clear, vision, tends, cloud, clear-vision, vi...</td>\n",
       "      <td>2</td>\n",
       "    </tr>\n",
       "    <tr>\n",
       "      <th>2021-12-01</th>\n",
       "      <td>[comfort, very, hard, handle, flimsy, but, com...</td>\n",
       "      <td>2</td>\n",
       "    </tr>\n",
       "    <tr>\n",
       "      <th>2021-11-16</th>\n",
       "      <td>[easy, use, using, product, for, and, very, re...</td>\n",
       "      <td>2</td>\n",
       "    </tr>\n",
       "    <tr>\n",
       "      <th>2021-12-08</th>\n",
       "      <td>[excellent, excellent, got, promised, discount...</td>\n",
       "      <td>2</td>\n",
       "    </tr>\n",
       "    <tr>\n",
       "      <th>...</th>\n",
       "      <td>...</td>\n",
       "      <td>...</td>\n",
       "    </tr>\n",
       "    <tr>\n",
       "      <th>2021-11-29</th>\n",
       "      <td>[truly, best, price, fast, shipping, quick, ve...</td>\n",
       "      <td>2</td>\n",
       "    </tr>\n",
       "    <tr>\n",
       "      <th>2021-11-23</th>\n",
       "      <td>[very, comfortable, vita, very, comfortable, a...</td>\n",
       "      <td>2</td>\n",
       "    </tr>\n",
       "    <tr>\n",
       "      <th>2021-12-27</th>\n",
       "      <td>[very, comfortable, and, convenient, very, com...</td>\n",
       "      <td>2</td>\n",
       "    </tr>\n",
       "    <tr>\n",
       "      <th>2021-10-16</th>\n",
       "      <td>[worst, worn, microscopic, tears, week, and, i...</td>\n",
       "      <td>0</td>\n",
       "    </tr>\n",
       "    <tr>\n",
       "      <th>2021-12-05</th>\n",
       "      <td>[buy, again, order, came, fast, without, any, ...</td>\n",
       "      <td>2</td>\n",
       "    </tr>\n",
       "  </tbody>\n",
       "</table>\n",
       "<p>8794 rows × 2 columns</p>\n",
       "</div>"
      ],
      "text/plain": [
       "                                                        TOKENS SENTIMENT\n",
       "REVIEW_DATE                                                             \n",
       "2021-11-01   [used, for, long, time, and, say, service, fro...         2\n",
       "2021-12-02   [clear, vision, tends, cloud, clear-vision, vi...         2\n",
       "2021-12-01   [comfort, very, hard, handle, flimsy, but, com...         2\n",
       "2021-11-16   [easy, use, using, product, for, and, very, re...         2\n",
       "2021-12-08   [excellent, excellent, got, promised, discount...         2\n",
       "...                                                        ...       ...\n",
       "2021-11-29   [truly, best, price, fast, shipping, quick, ve...         2\n",
       "2021-11-23   [very, comfortable, vita, very, comfortable, a...         2\n",
       "2021-12-27   [very, comfortable, and, convenient, very, com...         2\n",
       "2021-10-16   [worst, worn, microscopic, tears, week, and, i...         0\n",
       "2021-12-05   [buy, again, order, came, fast, without, any, ...         2\n",
       "\n",
       "[8794 rows x 2 columns]"
      ]
     },
     "execution_count": 8,
     "metadata": {},
     "output_type": "execute_result"
    }
   ],
   "source": [
    "dfXY"
   ]
  },
  {
   "cell_type": "markdown",
   "metadata": {
    "pycharm": {
     "name": "#%% md\n"
    }
   },
   "source": [
    "### Showcase the imbalanced nature of Sentiments in the given data"
   ]
  },
  {
   "cell_type": "code",
   "execution_count": 9,
   "metadata": {
    "pycharm": {
     "name": "#%%\n"
    }
   },
   "outputs": [
    {
     "data": {
      "text/plain": [
       "[[Text(0, 0, '>3'), Text(1, 0, '<3'), Text(2, 0, '=3')]]"
      ]
     },
     "execution_count": 9,
     "metadata": {},
     "output_type": "execute_result"
    },
    {
     "data": {
      "image/png": "[encoded data removed]",
      "text/plain": [
       "<Figure size 432x288 with 1 Axes>"
      ]
     },
     "metadata": {
      "needs_background": "light"
     },
     "output_type": "display_data"
    }
   ],
   "source": [
    "import seaborn as sns\n",
    "ax = sns.countplot(x=dfXY['SENTIMENT'], order=dfXY['SENTIMENT'].value_counts(ascending=False).index)\n",
    "abs_values = dfXY['SENTIMENT'].value_counts(ascending=False).values\n",
    "ax.bar_label(container=ax.containers[0], labels=abs_values)\n",
    "ax.set(xticklabels=['>3', '<3', '=3'])"
   ]
  },
  {
   "cell_type": "markdown",
   "metadata": {
    "pycharm": {
     "name": "#%% md\n"
    }
   },
   "source": [
    "### Highly imbalanced data\n",
    "* Because of highly imbalanced data, we need to \"balance\" by using class weights while fitting any model"
   ]
  },
  {
   "cell_type": "markdown",
   "metadata": {
    "pycharm": {
     "name": "#%% md\n"
    }
   },
   "source": [
    "## Use Keras engine for tokenization and also for RNN"
   ]
  },
  {
   "cell_type": "markdown",
   "metadata": {
    "pycharm": {
     "name": "#%% md\n"
    }
   },
   "source": [
    "### Take tokenized sentences and make it all integers using keras tokenizer on already tokenized data"
   ]
  },
  {
   "cell_type": "code",
   "execution_count": 10,
   "metadata": {
    "pycharm": {
     "name": "#%%\n"
    }
   },
   "outputs": [],
   "source": [
    "# because embedding is independent of tokenization, we integerize our token based on keras tokenizer\n",
    "num_expected_unique_words = 10000\n",
    "keras_tokenizer = Tokenizer(num_expected_unique_words, split=\",\")\n",
    "keras_tokenizer.fit_on_texts(dfXY['TOKENS'])"
   ]
  },
  {
   "cell_type": "markdown",
   "metadata": {
    "pycharm": {
     "name": "#%% md\n"
    }
   },
   "source": [
    "### Test, train, validation split"
   ]
  },
  {
   "cell_type": "code",
   "execution_count": 11,
   "metadata": {
    "pycharm": {
     "name": "#%%\n"
    }
   },
   "outputs": [],
   "source": [
    "validation_reqd = True\n",
    "X = dfXY.TOKENS\n",
    "y = dfXY.SENTIMENT\n",
    "df_trainX, df_trainy, df_testX, df_testy, df_validX, df_validy = contacts_utils.split_data(X, y, validation_reqd)"
   ]
  },
  {
   "cell_type": "markdown",
   "metadata": {
    "pycharm": {
     "name": "#%% md\n"
    }
   },
   "source": [
    "### Prepare data for input to RNN\n",
    "* We pad the data so that the sequence length that goes into RNN is always the same (Usually this is not the case), which is set to 300\n",
    "    * This sequence length is arbitrary and can be parameterized"
   ]
  },
  {
   "cell_type": "code",
   "execution_count": 12,
   "metadata": {
    "pycharm": {
     "name": "#%%\n"
    }
   },
   "outputs": [],
   "source": [
    "MAX_SEQ_LEN = 300\n",
    "X_train=keras_tokenizer.texts_to_sequences(df_trainX) # this converts texts into some numeric sequences\n",
    "X_train_pad=pad_sequences(X_train,maxlen=MAX_SEQ_LEN,padding='post') # this makes the length of all numeric sequences equal\n",
    "\n",
    "X_test = keras_tokenizer.texts_to_sequences(df_testX)\n",
    "X_test_pad = pad_sequences(X_test, maxlen = MAX_SEQ_LEN, padding = 'post')\n",
    "\n",
    "if validation_reqd:\n",
    "    X_val = keras_tokenizer.texts_to_sequences(df_validX)\n",
    "    X_val_pad = pad_sequences(X_val, maxlen = MAX_SEQ_LEN, padding = 'post')\n",
    "else:\n",
    "    X_val = None\n",
    "    X_val_pad = None"
   ]
  },
  {
   "cell_type": "markdown",
   "metadata": {
    "pycharm": {
     "name": "#%% md\n"
    }
   },
   "source": []
  },
  {
   "cell_type": "code",
   "execution_count": 13,
   "metadata": {
    "pycharm": {
     "name": "#%%\n"
    }
   },
   "outputs": [],
   "source": [
    "y_train = to_categorical(df_trainy.values,num_classes=3)\n",
    "y_test = to_categorical(df_testy.values, num_classes=3)\n",
    "if validation_reqd:\n",
    "    y_val = to_categorical(df_validy.values, num_classes=3)\n",
    "else:\n",
    "    y_val = None"
   ]
  },
  {
   "cell_type": "markdown",
   "metadata": {
    "pycharm": {
     "name": "#%% md\n"
    }
   },
   "source": [
    "### Balance imbalanced data using class weights \n",
    "Compute sentiment class weights based on training data to balance the dataset"
   ]
  },
  {
   "cell_type": "code",
   "execution_count": 14,
   "metadata": {
    "pycharm": {
     "name": "#%%\n"
    }
   },
   "outputs": [],
   "source": [
    "from sklearn.utils.class_weight import compute_class_weight\n",
    "y_integers = np.argmax(y_train, axis=1)\n",
    "class_weights = compute_class_weight(class_weight='balanced', classes=np.unique(y_integers), y=y_integers)\n",
    "sentiment_class_weights = dict(enumerate(class_weights))"
   ]
  },
  {
   "cell_type": "code",
   "execution_count": 15,
   "metadata": {
    "pycharm": {
     "name": "#%%\n"
    }
   },
   "outputs": [
    {
     "name": "stdout",
     "output_type": "stream",
     "text": [
      "{0: 7.460030165912519, 1: 34.34722222222222, 2: 0.3525051671299266}\n"
     ]
    },
    {
     "name": "stderr",
     "output_type": "stream",
     "text": [
      "/Users/bmukund/miniconda3/lib/python3.8/site-packages/seaborn/_decorators.py:36: FutureWarning: Pass the following variable as a keyword arg: x. From version 0.12, the only valid positional argument will be `data`, and passing other arguments without an explicit keyword will result in an error or misinterpretation.\n",
      "  warnings.warn(\n"
     ]
    },
    {
     "data": {
      "image/png": "[encoded data removed]",
      "text/plain": [
       "<Figure size 432x288 with 1 Axes>"
      ]
     },
     "metadata": {
      "needs_background": "light"
     },
     "output_type": "display_data"
    },
    {
     "name": "stdout",
     "output_type": "stream",
     "text": [
      "[ 221   48 4677]\n"
     ]
    },
    {
     "name": "stderr",
     "output_type": "stream",
     "text": [
      "/Users/bmukund/miniconda3/lib/python3.8/site-packages/seaborn/_decorators.py:36: FutureWarning: Pass the following variable as a keyword arg: x. From version 0.12, the only valid positional argument will be `data`, and passing other arguments without an explicit keyword will result in an error or misinterpretation.\n",
      "  warnings.warn(\n"
     ]
    },
    {
     "data": {
      "image/png": "[encoded data removed]",
      "text/plain": [
       "<Figure size 432x288 with 1 Axes>"
      ]
     },
     "metadata": {
      "needs_background": "light"
     },
     "output_type": "display_data"
    }
   ],
   "source": [
    "### Test if balancing has indeed taken place ...\n",
    "print(sentiment_class_weights)\n",
    "sns.countplot(y_integers)\n",
    "plt.show()\n",
    "print(np.bincount(y_integers))\n",
    "balance_wts = np.array([val for k, val in sentiment_class_weights.items()])\n",
    "bal = np.round(np.bincount(y_integers) * balance_wts)\n",
    "sns.countplot(bal)\n",
    "plt.show()"
   ]
  },
  {
   "cell_type": "markdown",
   "metadata": {
    "pycharm": {
     "name": "#%% md\n"
    }
   },
   "source": [
    "### Train gensim model to generate word embeddings made of 100 dimensional vector\n",
    "* Word embeddings vector is of size 100\n",
    "* It is based on universal dictionary\n",
    "* Each word/token now is expressed as a vector of 100 arbitrary, deterministic features. i.e. a word is embedded in a $R^{100}$ basis space"
   ]
  },
  {
   "cell_type": "code",
   "execution_count": 16,
   "metadata": {
    "pycharm": {
     "name": "#%%\n"
    }
   },
   "outputs": [],
   "source": [
    "# train Gensim's Word2Vec model\n",
    "gensim_model = Word2Vec(sentences=prep_comments.tokens,      # corpus\n",
    "                        vector_size=100,            # embedding dimension\n",
    "                        window=4,                   # words before and after to take into consideration\n",
    "                        sg=1,                       # use skip-gram\n",
    "                        negative=5,                 # number of negative examples for each positive one\n",
    "                        alpha=0.025,                # initial learning rate\n",
    "                        min_alpha=0.0001,           # minimum learning rate\n",
    "                        epochs=10,                   # number of passes through the data\n",
    "                        min_count=1,                # words that appear less than this are removed\n",
    "                        workers=4,                  # we use 1 to ensure replicability\n",
    "                        seed=92                     # for replicability\n",
    "                        )"
   ]
  },
  {
   "cell_type": "markdown",
   "metadata": {
    "pycharm": {
     "name": "#%% md\n"
    }
   },
   "source": [
    "### Do some gensim validation to ensure that word embeddings have been generated"
   ]
  },
  {
   "cell_type": "code",
   "execution_count": 17,
   "metadata": {
    "pycharm": {
     "name": "#%%\n"
    }
   },
   "outputs": [
    {
     "data": {
      "text/plain": [
       "(33417, 100)"
      ]
     },
     "execution_count": 17,
     "metadata": {},
     "output_type": "execute_result"
    }
   ],
   "source": [
    "# extract the word embeddings from the model\n",
    "word_vectors = gensim_model.wv\n",
    "word_vectors.vectors.shape  # vocab_size x embeddings dimension"
   ]
  },
  {
   "cell_type": "code",
   "execution_count": 18,
   "metadata": {
    "pycharm": {
     "name": "#%%\n"
    }
   },
   "outputs": [
    {
     "name": "stdout",
     "output_type": "stream",
     "text": [
      "Vocabulary Size: 33417 - Embedding Dim: 100\n"
     ]
    }
   ],
   "source": [
    "word_vectors_weights = gensim_model.wv.vectors\n",
    "vocab_size, embedding_size = word_vectors_weights.shape\n",
    "print(\"Vocabulary Size: {} - Embedding Dim: {}\".format(vocab_size, embedding_size))"
   ]
  },
  {
   "cell_type": "code",
   "execution_count": 19,
   "metadata": {
    "pycharm": {
     "name": "#%%\n"
    }
   },
   "outputs": [
    {
     "name": "stdout",
     "output_type": "stream",
     "text": [
      "[('complaints', 0.8658158183097839), ('usual', 0.8622128367424011), ('overall', 0.8606114387512207)]\n",
      "[('reasonable', 0.8719999194145203), ('appropriate', 0.8672037720680237), ('overall', 0.8653236031532288)]\n",
      "[('prompt', 0.9291145205497742), ('support', 0.9211879372596741), ('code', 0.9158746600151062)]\n",
      "[('inexpensive', 0.9033172130584717), ('high', 0.8809385895729065), ('value', 0.8762818574905396)]\n",
      "[('and-comfort', 0.780631959438324), ('comfort-clarity', 0.7758169174194336), ('comfort-and', 0.7712889909744263)]\n"
     ]
    }
   ],
   "source": [
    "# Some validation on the quality of the Word2Vec model\n",
    "print(gensim_model.wv.most_similar('product', topn=3))\n",
    "print(gensim_model.wv.most_similar('price', topn=3))\n",
    "print(gensim_model.wv.most_similar('service', topn=3))\n",
    "print(gensim_model.wv.most_similar('quality', topn=3))\n",
    "print(gensim_model.wv.most_similar(positive=['comfort', 'fit'], negative=['dry'], topn=3))\n",
    "\n",
    "def word2token(word):\n",
    "    try:\n",
    "        return gensim_model.wv.key_to_index[word]\n",
    "    except KeyError:\n",
    "        return 0\n",
    "\n",
    "def token2word(token):\n",
    "    return gensim_model.wv.index_to_key[token]"
   ]
  },
  {
   "cell_type": "code",
   "execution_count": 20,
   "metadata": {
    "pycharm": {
     "name": "#%%\n"
    }
   },
   "outputs": [
    {
     "data": {
      "text/plain": [
       "(10000, 100)"
      ]
     },
     "execution_count": 20,
     "metadata": {},
     "output_type": "execute_result"
    }
   ],
   "source": [
    "gensim_weight_matrix = np.zeros((num_expected_unique_words ,embedding_size))\n",
    "gensim_weight_matrix.shape"
   ]
  },
  {
   "cell_type": "markdown",
   "metadata": {
    "pycharm": {
     "name": "#%% md\n"
    }
   },
   "source": [
    "### Encode word embeddings\n",
    "* Test key to index for word vectors, so we can go back and forth between word and its embedding"
   ]
  },
  {
   "cell_type": "code",
   "execution_count": 21,
   "metadata": {
    "pycharm": {
     "name": "#%%\n"
    }
   },
   "outputs": [
    {
     "data": {
      "text/plain": [
       "array([-0.97792184,  0.6101492 , -0.1633291 ,  0.95594984, -0.69298893,\n",
       "        0.05233026, -0.2186156 ,  0.36031935, -0.07722113,  0.012258  ,\n",
       "        0.74179685,  0.47341073, -0.1044374 , -0.30277476, -0.56844264,\n",
       "       -0.5310976 , -0.3110355 , -0.11101796,  0.29717454, -1.0855538 ,\n",
       "        0.95120025, -0.2957213 , -0.09312268,  0.425216  ,  0.03509908,\n",
       "        0.06711707,  0.23925464,  0.0388074 ,  0.19528106,  0.42602095,\n",
       "        0.47665733,  0.78954566, -0.55358446,  0.19194633,  0.36639485,\n",
       "        0.5742307 ,  0.5829207 ,  0.16552289,  0.75133175, -0.73686993,\n",
       "        0.41969606, -0.19961365, -0.38251752,  0.17161398,  0.07439642,\n",
       "        0.5538888 ,  0.31072697,  0.52557015, -0.06848207, -0.24707793,\n",
       "        1.2307658 ,  0.05478761,  0.11644079, -0.10247983, -0.7407401 ,\n",
       "       -0.20715386, -0.19503647,  1.0609044 ,  0.7509476 , -0.52510244,\n",
       "       -0.90642005,  1.7055451 , -0.03284806,  0.8514643 ,  0.2591121 ,\n",
       "       -0.2828203 ,  0.39864686, -1.3440636 , -0.04130106, -0.7409289 ,\n",
       "       -0.1628391 ,  0.60360336, -0.34892344, -0.78099006,  0.27555433,\n",
       "        0.2943471 ,  0.05140894, -0.5182916 , -0.03945187,  0.2645331 ,\n",
       "        0.536468  ,  0.4291928 , -0.05438214, -0.4051281 , -0.29916173,\n",
       "       -0.691388  , -0.22377908,  1.1255488 ,  0.09772427, -0.21042535,\n",
       "        0.84762174,  0.48737144, -0.08101631,  0.58556557,  0.59855276,\n",
       "       -0.49131757,  0.10839296,  0.10735399, -0.35069978,  0.06594787],\n",
       "      dtype=float32)"
      ]
     },
     "execution_count": 21,
     "metadata": {},
     "output_type": "execute_result"
    }
   ],
   "source": [
    "word_vectors[word_vectors.key_to_index['dry']]"
   ]
  },
  {
   "cell_type": "markdown",
   "metadata": {
    "pycharm": {
     "name": "#%% md\n"
    }
   },
   "source": [
    "### Map the index of the word (obtained by keras_tokenizer, which assigned interger values to words) to its weight matrix obtained from word embedding"
   ]
  },
  {
   "cell_type": "code",
   "execution_count": 22,
   "metadata": {
    "pycharm": {
     "name": "#%%\n"
    }
   },
   "outputs": [],
   "source": [
    "for word, index in keras_tokenizer.word_index.items():\n",
    "    if index < num_expected_unique_words: # why ? since index starts with zero\n",
    "        try:\n",
    "            word_index_in_embedding = word_vectors.key_to_index[word]\n",
    "        except KeyError:\n",
    "            gensim_weight_matrix[index] = np.zeros(embedding_size)\n",
    "        else:\n",
    "            gensim_weight_matrix[index] = word_vectors[word_index_in_embedding]"
   ]
  },
  {
   "cell_type": "code",
   "execution_count": 23,
   "metadata": {
    "pycharm": {
     "name": "#%%\n"
    }
   },
   "outputs": [
    {
     "data": {
      "text/plain": [
       "(10000, 100)"
      ]
     },
     "execution_count": 23,
     "metadata": {},
     "output_type": "execute_result"
    }
   ],
   "source": [
    "gensim_weight_matrix.shape"
   ]
  },
  {
   "cell_type": "markdown",
   "metadata": {
    "pycharm": {
     "name": "#%% md\n"
    }
   },
   "source": [
    "### RNN model"
   ]
  },
  {
   "cell_type": "code",
   "execution_count": 24,
   "metadata": {
    "pycharm": {
     "name": "#%%\n"
    }
   },
   "outputs": [],
   "source": [
    "num_sentiments  = 3"
   ]
  },
  {
   "cell_type": "markdown",
   "metadata": {
    "pycharm": {
     "name": "#%% md\n"
    }
   },
   "source": [
    "### Cache results of RNN model in sentiment_RNN_Model.h5"
   ]
  },
  {
   "cell_type": "code",
   "execution_count": 25,
   "metadata": {
    "pycharm": {
     "name": "#%%\n"
    }
   },
   "outputs": [],
   "source": [
    "#EarlyStopping and ModelCheckpoint\n",
    "es = EarlyStopping(monitor = 'val_loss', mode = 'min', verbose = 1, patience = 5)\n",
    "mc = ModelCheckpoint('./sentiment_RNN_model.h5', monitor = 'val_accuracy', mode = 'max', verbose = 1, save_best_only = True)"
   ]
  },
  {
   "cell_type": "markdown",
   "metadata": {
    "pycharm": {
     "name": "#%% md\n"
    }
   },
   "source": [
    "### The RNN model\n",
    "\n",
    "* 3 hidden layers\n",
    "\n",
    "* loss function is \"categorical cross entropy\" as the sentiments are categorical"
   ]
  },
  {
   "cell_type": "code",
   "execution_count": 26,
   "metadata": {
    "pycharm": {
     "name": "#%%\n"
    }
   },
   "outputs": [],
   "source": [
    "def create_RNN_model(num_sentiments, sentiment_class_weights, num_expected_unique_words, embedding_size, gensim_weight_matrix, trainX, trainy, validX, validy, testX, testy):\n",
    "    def _create_RNN_model(param_dict):\n",
    "        _epochs = param_dict['epochs']\n",
    "        _batch_size = param_dict['batch_size']\n",
    "        drop_out_factor = param_dict['drop_out_factor']\n",
    "        lstm_nodes = param_dict['lstm_nodes']\n",
    "\n",
    "        # fixed three layers ...\n",
    "        model = Sequential()\n",
    "        model.add(Embedding(input_dim = num_expected_unique_words,\n",
    "                    output_dim = embedding_size,\n",
    "                    input_length= trainX.shape[1],\n",
    "                    weights = [gensim_weight_matrix],\n",
    "                    trainable = False))\n",
    "\n",
    "        model.add(Dropout(drop_out_factor[0]))\n",
    "        model.add(Bidirectional(LSTM(lstm_nodes[0],return_sequences=True)))\n",
    "        model.add(Dropout(drop_out_factor[1]))\n",
    "        model.add(Bidirectional(LSTM(lstm_nodes[1],return_sequences=True)))\n",
    "        model.add(Dropout(drop_out_factor[2]))\n",
    "        model.add(Bidirectional(LSTM(lstm_nodes[2],return_sequences=False)))\n",
    "\n",
    "        model.add(Dense(num_sentiments, activation = 'softmax'))\n",
    "\n",
    "        model.compile(loss = 'categorical_crossentropy',\n",
    "                      optimizer = 'adam',\n",
    "                      metrics = 'accuracy')\n",
    "\n",
    "        history = model.fit(trainX, trainy,\n",
    "                            epochs = _epochs,\n",
    "                            batch_size = _batch_size,\n",
    "                            validation_data=(validX, validy),\n",
    "                            verbose = 1,\n",
    "                            #callbacks= [es, mc],\n",
    "                            class_weight = sentiment_class_weights,\n",
    "                            workers=4,\n",
    "                            use_multiprocessing=True)\n",
    "\n",
    "        _, test_score = model.evaluate(testX,testy)\n",
    "        y_pred_test_raw = model.predict(testX, workers=4, use_multiprocessing=True)\n",
    "        y_test_pred = np.argmax(y_pred_test_raw, axis = 1)\n",
    "        return test_score, param_dict, history, y_test_pred, model\n",
    "\n",
    "    return _create_RNN_model"
   ]
  },
  {
   "cell_type": "markdown",
   "metadata": {
    "pycharm": {
     "name": "#%% md\n"
    }
   },
   "source": [
    "### Model parameterization"
   ]
  },
  {
   "cell_type": "code",
   "execution_count": 27,
   "metadata": {
    "pycharm": {
     "name": "#%%\n"
    }
   },
   "outputs": [],
   "source": [
    "# parameters to be varied\n",
    "batch_size = [100, 300]\n",
    "epochs = [50, 100]\n",
    "drop_out_factor = [[0.1, 0.1, 0.1], [0.2, 0.2, 0.2]]\n",
    "lstm_nodes = [[100, 200, 100], [50, 100, 50]]\n",
    "\n",
    "parameters = [{'epochs': epochs,\n",
    "               'batch_size': batch_size,\n",
    "               'drop_out_factor':drop_out_factor,\n",
    "               'lstm_nodes':lstm_nodes\n",
    "               }\n",
    "              ]\n",
    "\n",
    "# make a grid out of parameter choices ...\n",
    "grid_params = ParameterGrid(parameters)\n",
    "#for x in grid_params:\n",
    "#    print(f\"===== Params ===== \\n {x}\")"
   ]
  },
  {
   "cell_type": "markdown",
   "metadata": {
    "pycharm": {
     "name": "#%% md\n"
    }
   },
   "source": [
    "### Run different models with different parameterizations to choose the best mode\n",
    "* Best model is chosen based on accuracy of  validation scores"
   ]
  },
  {
   "cell_type": "code",
   "execution_count": 28,
   "metadata": {
    "pycharm": {
     "name": "#%%\n"
    },
    "scrolled": true
   },
   "outputs": [
    {
     "name": "stderr",
     "output_type": "stream",
     "text": [
      "2022-08-08 18:04:05.623272: I tensorflow/core/platform/cpu_feature_guard.cc:193] This TensorFlow binary is optimized with oneAPI Deep Neural Network Library (oneDNN) to use the following CPU instructions in performance-critical operations:  AVX2 FMA\n",
      "To enable them in other operations, rebuild TensorFlow with the appropriate compiler flags.\n",
      "2022-08-08 18:04:05.692980: I tensorflow/core/platform/cpu_feature_guard.cc:193] This TensorFlow binary is optimized with oneAPI Deep Neural Network Library (oneDNN) to use the following CPU instructions in performance-critical operations:  AVX2 FMA\n",
      "To enable them in other operations, rebuild TensorFlow with the appropriate compiler flags.\n",
      "2022-08-08 18:04:05.762476: I tensorflow/core/platform/cpu_feature_guard.cc:193] This TensorFlow binary is optimized with oneAPI Deep Neural Network Library (oneDNN) to use the following CPU instructions in performance-critical operations:  AVX2 FMA\n",
      "To enable them in other operations, rebuild TensorFlow with the appropriate compiler flags.\n",
      "2022-08-08 18:04:05.834278: I tensorflow/core/platform/cpu_feature_guard.cc:193] This TensorFlow binary is optimized with oneAPI Deep Neural Network Library (oneDNN) to use the following CPU instructions in performance-critical operations:  AVX2 FMA\n",
      "To enable them in other operations, rebuild TensorFlow with the appropriate compiler flags.\n"
     ]
    },
    {
     "name": "stdout",
     "output_type": "stream",
     "text": [
      "Epoch 1/50\n",
      "Epoch 1/50\n",
      "Epoch 1/100\n",
      "Epoch 1/100\n",
      "50/50 [==============================] - 190s 4s/step - loss: 1.0485 - accuracy: 0.5888 - val_loss: 1.1604 - val_accuracy: 0.5609\n",
      "Epoch 2/100\n",
      "50/50 [==============================] - 190s 4s/step - loss: 1.0453 - accuracy: 0.5198 - val_loss: 1.1489 - val_accuracy: 0.6222\n",
      "Epoch 2/50\n",
      "50/50 [==============================] - 163s 3s/step - loss: 0.9654 - accuracy: 0.7254 - val_loss: 0.9830 - val_accuracy: 0.5719\n",
      "Epoch 3/50\n",
      "50/50 [==============================] - 166s 3s/step - loss: 0.9567 - accuracy: 0.6735 - val_loss: 0.8768 - val_accuracy: 0.7229\n",
      "Epoch 3/100\n",
      "50/50 [==============================] - 357s 7s/step - loss: 1.0497 - accuracy: 0.5479 - val_loss: 1.1977 - val_accuracy: 0.4579\n",
      "Epoch 2/50\n",
      "50/50 [==============================] - 360s 7s/step - loss: 1.0447 - accuracy: 0.5334 - val_loss: 1.0471 - val_accuracy: 0.5973\n",
      "Epoch 2/100\n",
      "50/50 [==============================] - 186s 4s/step - loss: 0.9233 - accuracy: 0.6856 - val_loss: 0.6013 - val_accuracy: 0.8714\n",
      "Epoch 4/50\n",
      "50/50 [==============================] - 188s 4s/step - loss: 0.9520 - accuracy: 0.6668 - val_loss: 0.7906 - val_accuracy: 0.7586\n",
      "Epoch 4/100\n",
      "50/50 [==============================] - 220s 4s/step - loss: 0.9243 - accuracy: 0.7337 - val_loss: 1.1400 - val_accuracy: 0.6028\n",
      "Epoch 5/50\n",
      "50/50 [==============================] - 219s 4s/step - loss: 0.9142 - accuracy: 0.7210 - val_loss: 1.0345 - val_accuracy: 0.5864\n",
      "Epoch 5/100\n",
      "50/50 [==============================] - 407s 8s/step - loss: 0.9666 - accuracy: 0.6812 - val_loss: 1.2089 - val_accuracy: 0.4002\n",
      "Epoch 3/50\n",
      "50/50 [==============================] - 409s 8s/step - loss: 0.9855 - accuracy: 0.6438 - val_loss: 1.1922 - val_accuracy: 0.4748\n",
      "Epoch 3/100\n",
      "50/50 [==============================] - 196s 4s/step - loss: 0.9103 - accuracy: 0.7123 - val_loss: 0.8513 - val_accuracy: 0.6944\n",
      "Epoch 6/50\n",
      "50/50 [==============================] - 195s 4s/step - loss: 0.9044 - accuracy: 0.6856 - val_loss: 0.7726 - val_accuracy: 0.7077\n",
      "Epoch 6/100\n",
      "50/50 [==============================] - 180s 4s/step - loss: 0.9119 - accuracy: 0.6896 - val_loss: 0.7988 - val_accuracy: 0.7077\n",
      "Epoch 7/50\n",
      "50/50 [==============================] - 182s 4s/step - loss: 0.8664 - accuracy: 0.7117 - val_loss: 0.7397 - val_accuracy: 0.7683\n",
      "Epoch 7/100\n",
      "50/50 [==============================] - 379s 8s/step - loss: 0.9266 - accuracy: 0.6781 - val_loss: 1.0947 - val_accuracy: 0.4845\n",
      "Epoch 4/50\n",
      "50/50 [==============================] - 376s 7s/step - loss: 0.9397 - accuracy: 0.6880 - val_loss: 1.1912 - val_accuracy: 0.5282\n",
      "Epoch 4/100\n",
      "50/50 [==============================] - 184s 4s/step - loss: 0.8402 - accuracy: 0.7147 - val_loss: 0.6031 - val_accuracy: 0.7987\n",
      "Epoch 8/50\n",
      "50/50 [==============================] - 186s 4s/step - loss: 0.9007 - accuracy: 0.6626 - val_loss: 0.5688 - val_accuracy: 0.8642\n",
      "Epoch 8/100\n",
      "50/50 [==============================] - 183s 4s/step - loss: 0.8573 - accuracy: 0.6799 - val_loss: 1.4025 - val_accuracy: 0.3736\n",
      "Epoch 9/50\n",
      "50/50 [==============================] - 366s 7s/step - loss: 0.9427 - accuracy: 0.7085 - val_loss: 0.8871 - val_accuracy: 0.7216\n",
      "Epoch 5/50\n",
      "50/50 [==============================] - 365s 7s/step - loss: 0.9729 - accuracy: 0.6442 - val_loss: 0.7163 - val_accuracy: 0.7774\n",
      "Epoch 5/100\n",
      "50/50 [==============================] - 184s 4s/step - loss: 0.8658 - accuracy: 0.7080 - val_loss: 0.7462 - val_accuracy: 0.7556\n",
      "Epoch 9/100\n",
      "50/50 [==============================] - 188s 4s/step - loss: 0.8723 - accuracy: 0.6721 - val_loss: 0.9193 - val_accuracy: 0.5482\n",
      "Epoch 10/50\n",
      "50/50 [==============================] - 187s 4s/step - loss: 0.8457 - accuracy: 0.7503 - val_loss: 0.6613 - val_accuracy: 0.7762\n",
      "Epoch 10/100\n",
      "50/50 [==============================] - 187s 4s/step - loss: 0.7971 - accuracy: 0.6971 - val_loss: 0.7932 - val_accuracy: 0.6737\n",
      "Epoch 11/50\n",
      "50/50 [==============================] - 374s 7s/step - loss: 0.9159 - accuracy: 0.6830 - val_loss: 0.6193 - val_accuracy: 0.8799\n",
      "Epoch 6/50\n",
      "50/50 [==============================] - 374s 7s/step - loss: 0.9605 - accuracy: 0.5985 - val_loss: 0.9650 - val_accuracy: 0.6452\n",
      "Epoch 6/100\n",
      "50/50 [==============================] - 189s 4s/step - loss: 0.8108 - accuracy: 0.7184 - val_loss: 0.9698 - val_accuracy: 0.6410\n",
      "Epoch 11/100\n",
      "50/50 [==============================] - 192s 4s/step - loss: 0.7563 - accuracy: 0.7076 - val_loss: 0.9561 - val_accuracy: 0.5646\n",
      "Epoch 12/50\n",
      "50/50 [==============================] - 196s 4s/step - loss: 0.8081 - accuracy: 0.6870 - val_loss: 0.4957 - val_accuracy: 0.8557\n",
      "Epoch 12/100\n",
      "50/50 [==============================] - 305s 6s/step - loss: 0.8520 - accuracy: 0.5940 - val_loss: 0.7424 - val_accuracy: 0.6070\n",
      "Epoch 13/50\n",
      "50/50 [==============================] - 508s 10s/step - loss: 0.9480 - accuracy: 0.6571 - val_loss: 0.6013 - val_accuracy: 0.8326\n",
      "Epoch 7/50\n",
      "50/50 [==============================] - 311s 6s/step - loss: 0.8328 - accuracy: 0.6777 - val_loss: 0.8841 - val_accuracy: 0.6180\n",
      "Epoch 13/100\n",
      "50/50 [==============================] - 510s 10s/step - loss: 0.9738 - accuracy: 0.6306 - val_loss: 0.9113 - val_accuracy: 0.4936\n",
      "Epoch 7/100\n",
      "50/50 [==============================] - 296s 6s/step - loss: 0.7765 - accuracy: 0.6650 - val_loss: 0.5804 - val_accuracy: 0.7714\n",
      "Epoch 14/50\n",
      "50/50 [==============================] - 296s 6s/step - loss: 0.7926 - accuracy: 0.7268 - val_loss: 0.8883 - val_accuracy: 0.5797\n",
      "Epoch 14/100\n",
      "50/50 [==============================] - 199s 4s/step - loss: 0.7839 - accuracy: 0.6899 - val_loss: 0.8713 - val_accuracy: 0.6234\n",
      "Epoch 15/50\n",
      "50/50 [==============================] - 192s 4s/step - loss: 0.8016 - accuracy: 0.7339 - val_loss: 0.8634 - val_accuracy: 0.6683\n",
      "Epoch 15/100\n",
      "50/50 [==============================] - 491s 10s/step - loss: 0.9177 - accuracy: 0.6423 - val_loss: 0.7429 - val_accuracy: 0.6962\n",
      "Epoch 8/100\n",
      "50/50 [==============================] - 494s 10s/step - loss: 0.9143 - accuracy: 0.7313 - val_loss: 0.7796 - val_accuracy: 0.7453\n",
      "Epoch 8/50\n",
      "50/50 [==============================] - 187s 4s/step - loss: 0.7651 - accuracy: 0.7028 - val_loss: 0.6402 - val_accuracy: 0.7495\n",
      "Epoch 16/50\n",
      "50/50 [==============================] - 187s 4s/step - loss: 0.7758 - accuracy: 0.7135 - val_loss: 0.6762 - val_accuracy: 0.7538\n",
      "Epoch 16/100\n",
      "50/50 [==============================] - 188s 4s/step - loss: 0.7493 - accuracy: 0.6706 - val_loss: 0.8498 - val_accuracy: 0.5500\n",
      "Epoch 17/50\n",
      "50/50 [==============================] - 188s 4s/step - loss: 0.7861 - accuracy: 0.6987 - val_loss: 0.6570 - val_accuracy: 0.7780\n",
      "Epoch 17/100\n",
      "50/50 [==============================] - 374s 8s/step - loss: 0.8602 - accuracy: 0.7109 - val_loss: 0.7033 - val_accuracy: 0.7592\n",
      "Epoch 9/50\n",
      "50/50 [==============================] - 375s 8s/step - loss: 0.8751 - accuracy: 0.6945 - val_loss: 1.0513 - val_accuracy: 0.5355\n",
      "Epoch 9/100\n",
      "50/50 [==============================] - 2234s 46s/step - loss: 0.7588 - accuracy: 0.6583 - val_loss: 0.6537 - val_accuracy: 0.7568\n",
      "Epoch 18/50\n",
      "50/50 [==============================] - 2264s 46s/step - loss: 0.7656 - accuracy: 0.7030 - val_loss: 0.8565 - val_accuracy: 0.6434\n",
      "Epoch 18/100\n",
      "50/50 [==============================] - 657s 13s/step - loss: 0.6973 - accuracy: 0.7105 - val_loss: 0.8746 - val_accuracy: 0.6046\n",
      "Epoch 19/50\n",
      "50/50 [==============================] - 2417s 49s/step - loss: 0.7070 - accuracy: 0.7262 - val_loss: 0.6234 - val_accuracy: 0.7914\n",
      "Epoch 19/100\n",
      "50/50 [==============================] - 4682s 95s/step - loss: 0.8639 - accuracy: 0.7149 - val_loss: 0.9534 - val_accuracy: 0.5834\n",
      "Epoch 10/50\n",
      "50/50 [==============================] - 4682s 95s/step - loss: 0.8426 - accuracy: 0.7060 - val_loss: 0.5272 - val_accuracy: 0.7938\n",
      "Epoch 10/100\n",
      "50/50 [==============================] - 2405s 49s/step - loss: 0.7372 - accuracy: 0.6862 - val_loss: 0.5739 - val_accuracy: 0.8126\n",
      "Epoch 20/50\n",
      "50/50 [==============================] - 645s 13s/step - loss: 0.7366 - accuracy: 0.6626 - val_loss: 0.5670 - val_accuracy: 0.7756\n",
      "Epoch 20/100\n",
      "50/50 [==============================] - 657s 13s/step - loss: 0.6776 - accuracy: 0.7234 - val_loss: 0.6519 - val_accuracy: 0.7065\n",
      "Epoch 21/50\n"
     ]
    },
    {
     "name": "stdout",
     "output_type": "stream",
     "text": [
      "50/50 [==============================] - 2409s 49s/step - loss: 0.6794 - accuracy: 0.7499 - val_loss: 0.6248 - val_accuracy: 0.7884\n",
      "Epoch 21/100\n",
      "50/50 [==============================] - 3059s 62s/step - loss: 0.8038 - accuracy: 0.7572 - val_loss: 0.8042 - val_accuracy: 0.6925\n",
      "Epoch 11/50\n",
      "50/50 [==============================] - 3064s 62s/step - loss: 0.8843 - accuracy: 0.6664 - val_loss: 0.8411 - val_accuracy: 0.6452\n",
      "Epoch 11/100\n",
      "50/50 [==============================] - 2401s 49s/step - loss: 0.6700 - accuracy: 0.6779 - val_loss: 1.0360 - val_accuracy: 0.4651\n",
      "Epoch 22/50\n",
      "50/50 [==============================] - 657s 13s/step - loss: 0.6787 - accuracy: 0.6864 - val_loss: 0.5388 - val_accuracy: 0.8090\n",
      "Epoch 22/100\n",
      "50/50 [==============================] - 653s 13s/step - loss: 0.6324 - accuracy: 0.7483 - val_loss: 0.6412 - val_accuracy: 0.7532\n",
      "Epoch 23/50\n",
      "50/50 [==============================] - 645s 13s/step - loss: 0.7106 - accuracy: 0.7505 - val_loss: 0.8385 - val_accuracy: 0.6768\n",
      "Epoch 23/100\n",
      "50/50 [==============================] - 1297s 26s/step - loss: 0.8541 - accuracy: 0.6719 - val_loss: 0.8493 - val_accuracy: 0.6580\n",
      "Epoch 12/50\n",
      "50/50 [==============================] - 1294s 26s/step - loss: 0.8262 - accuracy: 0.6872 - val_loss: 0.5709 - val_accuracy: 0.8029\n",
      "Epoch 12/100\n",
      "50/50 [==============================] - 205s 4s/step - loss: 0.6701 - accuracy: 0.6278 - val_loss: 0.6272 - val_accuracy: 0.6428\n",
      "Epoch 24/50\n",
      "50/50 [==============================] - 178s 4s/step - loss: 0.7209 - accuracy: 0.7004 - val_loss: 0.4759 - val_accuracy: 0.8344\n",
      "Epoch 24/100\n",
      "50/50 [==============================] - 171s 3s/step - loss: 0.6677 - accuracy: 0.6397 - val_loss: 0.9025 - val_accuracy: 0.5700\n",
      "Epoch 25/50\n",
      "50/50 [==============================] - 173s 3s/step - loss: 0.6246 - accuracy: 0.7317 - val_loss: 0.5918 - val_accuracy: 0.7592\n",
      "Epoch 25/100\n",
      "50/50 [==============================] - 349s 7s/step - loss: 0.8102 - accuracy: 0.7353 - val_loss: 0.6750 - val_accuracy: 0.7550\n",
      "Epoch 13/50\n",
      "50/50 [==============================] - 353s 7s/step - loss: 0.7950 - accuracy: 0.7018 - val_loss: 0.7837 - val_accuracy: 0.6628\n",
      "Epoch 13/100\n",
      "50/50 [==============================] - 169s 3s/step - loss: 0.6378 - accuracy: 0.6894 - val_loss: 0.5654 - val_accuracy: 0.7787\n",
      "Epoch 26/50\n",
      "50/50 [==============================] - 169s 3s/step - loss: 0.5922 - accuracy: 0.7082 - val_loss: 0.5367 - val_accuracy: 0.7944\n",
      "Epoch 26/100\n",
      "50/50 [==============================] - 170s 3s/step - loss: 0.5631 - accuracy: 0.7268 - val_loss: 1.0311 - val_accuracy: 0.5221\n",
      "Epoch 27/50\n",
      "50/50 [==============================] - 171s 3s/step - loss: 0.5522 - accuracy: 0.7030 - val_loss: 0.7288 - val_accuracy: 0.6640\n",
      "Epoch 27/100\n",
      "50/50 [==============================] - 342s 7s/step - loss: 0.7810 - accuracy: 0.7178 - val_loss: 0.6866 - val_accuracy: 0.7605\n",
      "Epoch 14/50\n",
      "50/50 [==============================] - 342s 7s/step - loss: 0.8058 - accuracy: 0.6896 - val_loss: 0.8350 - val_accuracy: 0.5761\n",
      "Epoch 14/100\n",
      "50/50 [==============================] - 171s 3s/step - loss: 0.5642 - accuracy: 0.6951 - val_loss: 0.5109 - val_accuracy: 0.7981\n",
      "Epoch 28/50\n",
      "50/50 [==============================] - 171s 3s/step - loss: 0.5823 - accuracy: 0.6977 - val_loss: 0.8515 - val_accuracy: 0.6574\n",
      "Epoch 28/100\n",
      "50/50 [==============================] - 171s 3s/step - loss: 0.5109 - accuracy: 0.7004 - val_loss: 1.0987 - val_accuracy: 0.4403\n",
      "Epoch 29/50\n",
      "50/50 [==============================] - 172s 3s/step - loss: 0.5646 - accuracy: 0.7461 - val_loss: 0.4372 - val_accuracy: 0.8272\n",
      "Epoch 29/100\n",
      "50/50 [==============================] - 345s 7s/step - loss: 0.7685 - accuracy: 0.7204 - val_loss: 0.7049 - val_accuracy: 0.7574\n",
      "Epoch 15/50\n",
      "50/50 [==============================] - 344s 7s/step - loss: 0.7363 - accuracy: 0.6941 - val_loss: 0.5388 - val_accuracy: 0.8302\n",
      "Epoch 15/100\n",
      "50/50 [==============================] - 176s 4s/step - loss: 0.5308 - accuracy: 0.6771 - val_loss: 0.6180 - val_accuracy: 0.7483\n",
      "Epoch 30/50\n",
      "50/50 [==============================] - 176s 4s/step - loss: 0.6416 - accuracy: 0.7339 - val_loss: 0.6800 - val_accuracy: 0.7380\n",
      "Epoch 30/100\n",
      "50/50 [==============================] - 246s 5s/step - loss: 0.5718 - accuracy: 0.7353 - val_loss: 0.6592 - val_accuracy: 0.7132\n",
      "Epoch 31/50\n",
      "50/50 [==============================] - 261s 5s/step - loss: 0.5545 - accuracy: 0.7050 - val_loss: 0.5451 - val_accuracy: 0.7411\n",
      "Epoch 31/100\n",
      "50/50 [==============================] - 447s 9s/step - loss: 0.7580 - accuracy: 0.7044 - val_loss: 0.5516 - val_accuracy: 0.8526\n",
      "Epoch 16/50\n",
      "50/50 [==============================] - 448s 9s/step - loss: 0.7647 - accuracy: 0.6915 - val_loss: 0.4748 - val_accuracy: 0.8739\n",
      "Epoch 16/100\n",
      "50/50 [==============================] - 279s 6s/step - loss: 0.4828 - accuracy: 0.7604 - val_loss: 0.5689 - val_accuracy: 0.7744\n",
      "Epoch 32/50\n",
      "50/50 [==============================] - 278s 6s/step - loss: 0.4797 - accuracy: 0.7362 - val_loss: 0.7001 - val_accuracy: 0.6713\n",
      "Epoch 32/100\n",
      "50/50 [==============================] - 225s 5s/step - loss: 0.4219 - accuracy: 0.7370 - val_loss: 0.6307 - val_accuracy: 0.7471\n",
      "Epoch 33/50\n",
      "50/50 [==============================] - 485s 10s/step - loss: 0.4068 - accuracy: 0.7600 - val_loss: 0.4180 - val_accuracy: 0.8563\n",
      "Epoch 33/100\n",
      "50/50 [==============================] - 1086s 22s/step - loss: 0.7596 - accuracy: 0.6524 - val_loss: 0.7382 - val_accuracy: 0.6586\n",
      "Epoch 17/50\n",
      "50/50 [==============================] - 1082s 22s/step - loss: 0.8075 - accuracy: 0.6933 - val_loss: 0.7063 - val_accuracy: 0.7059\n",
      "Epoch 17/100\n",
      "50/50 [==============================] - 2095s 43s/step - loss: 0.4307 - accuracy: 0.7669 - val_loss: 0.7398 - val_accuracy: 0.6616\n",
      "Epoch 34/50\n",
      "50/50 [==============================] - 1886s 38s/step - loss: 0.4854 - accuracy: 0.7216 - val_loss: 0.4811 - val_accuracy: 0.8423\n",
      "Epoch 34/100\n",
      "50/50 [==============================] - 652s 13s/step - loss: 0.4552 - accuracy: 0.7076 - val_loss: 0.6177 - val_accuracy: 0.7489\n",
      "Epoch 35/50\n",
      "50/50 [==============================] - 659s 13s/step - loss: 0.5335 - accuracy: 0.7364 - val_loss: 0.5854 - val_accuracy: 0.7793\n",
      "Epoch 35/100\n",
      "50/50 [==============================] - 2266s 46s/step - loss: 0.6823 - accuracy: 0.7137 - val_loss: 1.0534 - val_accuracy: 0.5579\n",
      "Epoch 18/50\n",
      "50/50 [==============================] - 2283s 46s/step - loss: 0.8965 - accuracy: 0.6712 - val_loss: 0.6565 - val_accuracy: 0.7338\n",
      "Epoch 18/100\n",
      "50/50 [==============================] - 664s 13s/step - loss: 0.4678 - accuracy: 0.7687 - val_loss: 0.5349 - val_accuracy: 0.7690\n",
      "Epoch 36/50\n",
      "50/50 [==============================] - 657s 13s/step - loss: 0.5856 - accuracy: 0.7871 - val_loss: 0.5423 - val_accuracy: 0.7762\n",
      "Epoch 36/100\n",
      "50/50 [==============================] - 656s 13s/step - loss: 0.5167 - accuracy: 0.7268 - val_loss: 0.4648 - val_accuracy: 0.7926\n",
      "Epoch 37/50\n",
      "50/50 [==============================] - 660s 13s/step - loss: 0.5874 - accuracy: 0.7277 - val_loss: 0.5928 - val_accuracy: 0.7453\n",
      "Epoch 37/100\n",
      "50/50 [==============================] - 1325s 27s/step - loss: 0.7298 - accuracy: 0.7319 - val_loss: 0.7304 - val_accuracy: 0.6847\n",
      "Epoch 19/50\n",
      "50/50 [==============================] - 1324s 27s/step - loss: 0.7278 - accuracy: 0.7182 - val_loss: 0.8556 - val_accuracy: 0.5767\n",
      "Epoch 19/100\n",
      "50/50 [==============================] - 654s 13s/step - loss: 0.4654 - accuracy: 0.7119 - val_loss: 0.5923 - val_accuracy: 0.7350\n",
      "Epoch 38/50\n",
      "50/50 [==============================] - 656s 13s/step - loss: 0.4502 - accuracy: 0.7376 - val_loss: 0.5170 - val_accuracy: 0.7938\n",
      "Epoch 38/100\n",
      "50/50 [==============================] - 656s 13s/step - loss: 0.3816 - accuracy: 0.8004 - val_loss: 0.5947 - val_accuracy: 0.7277\n",
      "Epoch 39/50\n",
      "50/50 [==============================] - 660s 13s/step - loss: 0.4992 - accuracy: 0.7552 - val_loss: 0.8175 - val_accuracy: 0.5955\n",
      "Epoch 39/100\n",
      "50/50 [==============================] - 1322s 26s/step - loss: 0.6663 - accuracy: 0.6721 - val_loss: 0.7129 - val_accuracy: 0.6956\n",
      "Epoch 20/50\n",
      "50/50 [==============================] - 1315s 26s/step - loss: 0.7324 - accuracy: 0.6878 - val_loss: 0.8601 - val_accuracy: 0.6173\n",
      "Epoch 20/100\n"
     ]
    },
    {
     "name": "stdout",
     "output_type": "stream",
     "text": [
      "50/50 [==============================] - 651s 13s/step - loss: 0.4085 - accuracy: 0.7159 - val_loss: 0.5528 - val_accuracy: 0.7544\n",
      "Epoch 40/50\n",
      "50/50 [==============================] - 659s 13s/step - loss: 0.4706 - accuracy: 0.7384 - val_loss: 0.5939 - val_accuracy: 0.7119\n",
      "Epoch 40/100\n",
      "50/50 [==============================] - 652s 13s/step - loss: 0.4730 - accuracy: 0.7574 - val_loss: 0.6544 - val_accuracy: 0.7356\n",
      "Epoch 41/50\n",
      "50/50 [==============================] - 654s 13s/step - loss: 0.5188 - accuracy: 0.7020 - val_loss: 0.7016 - val_accuracy: 0.6853\n",
      "Epoch 41/100\n",
      "50/50 [==============================] - 1318s 26s/step - loss: 0.6894 - accuracy: 0.7256 - val_loss: 0.5720 - val_accuracy: 0.7550\n",
      "Epoch 21/50\n",
      "50/50 [==============================] - 1318s 26s/step - loss: 0.7672 - accuracy: 0.7139 - val_loss: 0.6789 - val_accuracy: 0.7404\n",
      "Epoch 21/100\n",
      "50/50 [==============================] - 1820s 37s/step - loss: 0.4880 - accuracy: 0.7465 - val_loss: 0.5230 - val_accuracy: 0.7635\n",
      "Epoch 42/50\n",
      "50/50 [==============================] - 1744s 35s/step - loss: 0.5138 - accuracy: 0.7491 - val_loss: 0.4319 - val_accuracy: 0.8078\n",
      "Epoch 42/100\n",
      "50/50 [==============================] - 174s 3s/step - loss: 0.4104 - accuracy: 0.7796 - val_loss: 0.4699 - val_accuracy: 0.8029\n",
      "Epoch 43/50\n",
      "50/50 [==============================] - 171s 3s/step - loss: 0.3818 - accuracy: 0.7756 - val_loss: 0.5944 - val_accuracy: 0.7362\n",
      "Epoch 43/100\n",
      "50/50 [==============================] - 1860s 37s/step - loss: 0.6392 - accuracy: 0.7087 - val_loss: 0.5246 - val_accuracy: 0.8302\n",
      "Epoch 22/50\n",
      "50/50 [==============================] - 1849s 37s/step - loss: 0.7037 - accuracy: 0.7424 - val_loss: 0.5313 - val_accuracy: 0.8120\n",
      "Epoch 22/100\n",
      "50/50 [==============================] - 170s 3s/step - loss: 0.3693 - accuracy: 0.7760 - val_loss: 0.5705 - val_accuracy: 0.7053\n",
      "Epoch 44/50\n",
      "50/50 [==============================] - 171s 3s/step - loss: 0.3539 - accuracy: 0.7638 - val_loss: 0.4734 - val_accuracy: 0.8302\n",
      "Epoch 44/100\n",
      "50/50 [==============================] - 168s 3s/step - loss: 0.3574 - accuracy: 0.7707 - val_loss: 0.4021 - val_accuracy: 0.8569\n",
      "Epoch 45/50\n",
      "50/50 [==============================] - 168s 3s/step - loss: 0.3103 - accuracy: 0.7982 - val_loss: 0.4773 - val_accuracy: 0.7768\n",
      "Epoch 45/100\n",
      "50/50 [==============================] - 338s 7s/step - loss: 0.5940 - accuracy: 0.7756 - val_loss: 0.7285 - val_accuracy: 0.7010\n",
      "Epoch 23/50\n",
      "50/50 [==============================] - 340s 7s/step - loss: 0.6741 - accuracy: 0.6886 - val_loss: 0.6986 - val_accuracy: 0.6768\n",
      "Epoch 23/100\n",
      "50/50 [==============================] - 1973s 40s/step - loss: 0.3299 - accuracy: 0.8045 - val_loss: 0.4405 - val_accuracy: 0.8175\n",
      "Epoch 46/50\n",
      "50/50 [==============================] - 9203s 188s/step - loss: 0.3675 - accuracy: 0.7671 - val_loss: 0.4661 - val_accuracy: 0.8029\n",
      "Epoch 46/100\n",
      "50/50 [==============================] - 7805s 159s/step - loss: 0.3075 - accuracy: 0.7934 - val_loss: 0.5501 - val_accuracy: 0.7380\n",
      "Epoch 47/50\n",
      "50/50 [==============================] - 662s 13s/step - loss: 0.4744 - accuracy: 0.7392 - val_loss: 0.5992 - val_accuracy: 0.7471\n",
      "Epoch 47/100\n",
      "50/50 [==============================] - 9930s 203s/step - loss: 0.5916 - accuracy: 0.7364 - val_loss: 0.6253 - val_accuracy: 0.7926\n",
      "Epoch 24/50\n",
      "50/50 [==============================] - 9947s 203s/step - loss: 0.6862 - accuracy: 0.7618 - val_loss: 1.2388 - val_accuracy: 0.2820\n",
      "Epoch 24/100\n",
      "50/50 [==============================] - 655s 13s/step - loss: 0.2921 - accuracy: 0.7913 - val_loss: 0.6681 - val_accuracy: 0.6483\n",
      "Epoch 48/50\n",
      "50/50 [==============================] - 658s 13s/step - loss: 0.3662 - accuracy: 0.7922 - val_loss: 0.5698 - val_accuracy: 0.7617\n",
      "Epoch 48/100\n",
      "50/50 [==============================] - 650s 13s/step - loss: 0.3096 - accuracy: 0.7802 - val_loss: 0.5572 - val_accuracy: 0.7326\n",
      "Epoch 49/50\n",
      "50/50 [==============================] - 663s 13s/step - loss: 0.3303 - accuracy: 0.7723 - val_loss: 0.5569 - val_accuracy: 0.7550\n",
      "Epoch 49/100\n",
      "50/50 [==============================] - 1325s 27s/step - loss: 0.5126 - accuracy: 0.7740 - val_loss: 0.6059 - val_accuracy: 0.7641\n",
      "Epoch 25/50\n",
      "50/50 [==============================] - 1325s 27s/step - loss: 0.7427 - accuracy: 0.6278 - val_loss: 0.6810 - val_accuracy: 0.7641\n",
      "Epoch 25/100\n",
      "50/50 [==============================] - 665s 13s/step - loss: 0.2762 - accuracy: 0.8138 - val_loss: 0.4543 - val_accuracy: 0.7975\n",
      "Epoch 50/50\n",
      "50/50 [==============================] - 669s 13s/step - loss: 0.3457 - accuracy: 0.7752 - val_loss: 0.5406 - val_accuracy: 0.7950\n",
      "Epoch 50/100\n",
      "50/50 [==============================] - 650s 13s/step - loss: 0.2677 - accuracy: 0.8144 - val_loss: 0.5192 - val_accuracy: 0.7774\n",
      "69/69 [==============================] - 93s 1s/step - loss: 0.6287 - accuracy: 0.7322\n",
      "50/50 [==============================] - 646s 13s/step - loss: 0.3301 - accuracy: 0.7760 - val_loss: 0.4903 - val_accuracy: 0.7714\n",
      "Epoch 51/100\n",
      "50/50 [==============================] - 1292s 26s/step - loss: 0.6405 - accuracy: 0.7046 - val_loss: 0.5603 - val_accuracy: 0.7871\n",
      "Epoch 26/50\n",
      "50/50 [==============================] - 1291s 26s/step - loss: 0.6694 - accuracy: 0.7119 - val_loss: 0.8202 - val_accuracy: 0.6640\n",
      "Epoch 26/100\n",
      "69/69 [==============================] - 191s 1s/steploss: 0.2502 -\n",
      "50/50 [==============================] - 1460s 30s/step - loss: 0.3436 - accuracy: 0.7822 - val_loss: 0.4432 - val_accuracy: 0.8144\n",
      "Epoch 52/100\n",
      "47/50 [===========================>..] - ETA: 1:58 - loss: 0.4951 - accuracy: 0.7753"
     ]
    },
    {
     "name": "stderr",
     "output_type": "stream",
     "text": [
      "WARNING:absl:Found untraced functions such as lstm_cell_1_layer_call_fn, lstm_cell_1_layer_call_and_return_conditional_losses, lstm_cell_2_layer_call_fn, lstm_cell_2_layer_call_and_return_conditional_losses, lstm_cell_4_layer_call_fn while saving (showing 5 of 12). These functions will not be directly callable after loading.\n"
     ]
    },
    {
     "name": "stdout",
     "output_type": "stream",
     "text": [
      "50/50 [==============================] - 514s 10s/step - loss: 0.3676 - accuracy: 0.7630 - val_loss: 0.6462 - val_accuracy: 0.7659\n",
      "Epoch 53/100\n",
      "50/50 [==============================] - 1973s 40s/step - loss: 0.4870 - accuracy: 0.7699 - val_loss: 0.6660 - val_accuracy: 0.6950\n",
      "Epoch 27/50\n",
      "50/50 [==============================] - 1971s 40s/step - loss: 0.7187 - accuracy: 0.6996 - val_loss: 0.9039 - val_accuracy: 0.5828\n",
      "Epoch 27/100\n",
      " 1/50 [..............................] - ETA: 15:53 - loss: 0.4817 - accuracy: 0.5900INFO:tensorflow:Assets written to: ram://8e359d43-c701-4618-8a38-177c621e4086/assets\n"
     ]
    },
    {
     "name": "stderr",
     "output_type": "stream",
     "text": [
      "INFO:tensorflow:Assets written to: ram://8e359d43-c701-4618-8a38-177c621e4086/assets\n"
     ]
    },
    {
     "name": "stdout",
     "output_type": "stream",
     "text": [
      " 4/50 [=>............................] - ETA: 15:46 - loss: 0.6868 - accuracy: 0.7325"
     ]
    },
    {
     "name": "stderr",
     "output_type": "stream",
     "text": [
      "2022-08-09 04:35:51.290178: I tensorflow/core/platform/cpu_feature_guard.cc:193] This TensorFlow binary is optimized with oneAPI Deep Neural Network Library (oneDNN) to use the following CPU instructions in performance-critical operations:  AVX2 FMA\n",
      "To enable them in other operations, rebuild TensorFlow with the appropriate compiler flags.\n"
     ]
    },
    {
     "name": "stdout",
     "output_type": "stream",
     "text": [
      "19/50 [==========>...................] - ETA: 5:07 - loss: 0.4480 - accuracy: 0.7821Epoch 1/50\n",
      "50/50 [==============================] - 540s 11s/step - loss: 0.4486 - accuracy: 0.7845 - val_loss: 0.4783 - val_accuracy: 0.7762\n",
      "Epoch 54/100\n",
      "50/50 [==============================] - 648s 13s/step - loss: 0.3060 - accuracy: 0.7934 - val_loss: 0.5407 - val_accuracy: 0.7556\n",
      "Epoch 55/100\n",
      "50/50 [==============================] - 1205s 24s/step - loss: 0.5009 - accuracy: 0.7558 - val_loss: 0.8845 - val_accuracy: 0.5894\n",
      "Epoch 28/50\n",
      "50/50 [==============================] - 1210s 24s/step - loss: 0.6687 - accuracy: 0.6577 - val_loss: 0.5888 - val_accuracy: 0.7920\n",
      "Epoch 28/100\n",
      "50/50 [==============================] - 618s 12s/step - loss: 0.2646 - accuracy: 0.8195 - val_loss: 0.4630 - val_accuracy: 0.7968\n",
      "Epoch 56/100\n",
      "50/50 [==============================] - 1752s 29s/step - loss: 1.0581 - accuracy: 0.5999 - val_loss: 1.2909 - val_accuracy: 0.5603\n",
      "Epoch 2/50\n",
      "50/50 [==============================] - 648s 13s/step - loss: 0.2464 - accuracy: 0.8239 - val_loss: 0.4799 - val_accuracy: 0.7908\n",
      "Epoch 57/100\n",
      "50/50 [==============================] - 1266s 25s/step - loss: 0.5912 - accuracy: 0.7180 - val_loss: 0.6896 - val_accuracy: 0.7138\n",
      "Epoch 29/50\n",
      "50/50 [==============================] - 1263s 25s/step - loss: 0.5696 - accuracy: 0.7432 - val_loss: 0.5059 - val_accuracy: 0.8441\n",
      "Epoch 29/100\n",
      "50/50 [==============================] - 651s 13s/step - loss: 0.2547 - accuracy: 0.8047 - val_loss: 0.5599 - val_accuracy: 0.7975\n",
      "Epoch 58/100\n",
      "50/50 [==============================] - 1308s 26s/step - loss: 1.0084 - accuracy: 0.6433 - val_loss: 0.8520 - val_accuracy: 0.7841\n",
      "Epoch 3/50\n",
      "50/50 [==============================] - 652s 13s/step - loss: 0.3193 - accuracy: 0.8073 - val_loss: 0.5122 - val_accuracy: 0.7926\n",
      "Epoch 59/100\n",
      "50/50 [==============================] - 1310s 26s/step - loss: 0.4810 - accuracy: 0.7244 - val_loss: 0.4000 - val_accuracy: 0.8787\n",
      "Epoch 30/50\n",
      "50/50 [==============================] - 1310s 26s/step - loss: 0.5773 - accuracy: 0.7564 - val_loss: 0.6035 - val_accuracy: 0.7835\n",
      "Epoch 30/100\n",
      "50/50 [==============================] - 647s 13s/step - loss: 0.2529 - accuracy: 0.8243 - val_loss: 0.4364 - val_accuracy: 0.8253\n",
      "Epoch 60/100\n",
      "50/50 [==============================] - 1301s 26s/step - loss: 0.9499 - accuracy: 0.6892 - val_loss: 1.1643 - val_accuracy: 0.5676\n",
      "Epoch 4/50\n",
      "50/50 [==============================] - 652s 13s/step - loss: 0.2391 - accuracy: 0.8267 - val_loss: 0.3867 - val_accuracy: 0.8599\n",
      "Epoch 61/100\n",
      "50/50 [==============================] - 1302s 26s/step - loss: 0.4640 - accuracy: 0.7715 - val_loss: 1.0228 - val_accuracy: 0.5130\n",
      "Epoch 31/50\n",
      "50/50 [==============================] - 1305s 26s/step - loss: 0.5247 - accuracy: 0.7590 - val_loss: 0.5371 - val_accuracy: 0.7993\n",
      "Epoch 31/100\n",
      "50/50 [==============================] - 668s 13s/step - loss: 0.2333 - accuracy: 0.8318 - val_loss: 0.4224 - val_accuracy: 0.8059\n",
      "Epoch 62/100\n",
      "50/50 [==============================] - 1321s 26s/step - loss: 0.9448 - accuracy: 0.6607 - val_loss: 0.8018 - val_accuracy: 0.7404\n",
      "Epoch 5/50\n",
      "50/50 [==============================] - 604s 12s/step - loss: 0.2239 - accuracy: 0.8350 - val_loss: 0.3882 - val_accuracy: 0.8138\n",
      "Epoch 63/100\n",
      "50/50 [==============================] - 1211s 24s/step - loss: 0.4119 - accuracy: 0.7250 - val_loss: 0.4525 - val_accuracy: 0.8284\n",
      "Epoch 32/50\n",
      "50/50 [==============================] - 1196s 24s/step - loss: 0.5733 - accuracy: 0.7359 - val_loss: 0.7185 - val_accuracy: 0.7229\n",
      "Epoch 32/100\n",
      "50/50 [==============================] - 189s 4s/step - loss: 0.3262 - accuracy: 0.8229 - val_loss: 0.4636 - val_accuracy: 0.7975\n",
      "Epoch 64/100\n",
      "50/50 [==============================] - 687s 14s/step - loss: 0.9250 - accuracy: 0.6894 - val_loss: 0.5055 - val_accuracy: 0.8945\n",
      "Epoch 6/50\n",
      "50/50 [==============================] - 185s 4s/step - loss: 0.4388 - accuracy: 0.7968 - val_loss: 0.8997 - val_accuracy: 0.5882\n",
      "Epoch 65/100\n",
      "50/50 [==============================] - 368s 7s/step - loss: 0.3860 - accuracy: 0.7972 - val_loss: 0.6693 - val_accuracy: 0.7150\n",
      "Epoch 33/50\n",
      "50/50 [==============================] - 368s 7s/step - loss: 0.5260 - accuracy: 0.7372 - val_loss: 0.5904 - val_accuracy: 0.7975\n",
      "Epoch 33/100\n",
      "50/50 [==============================] - 184s 4s/step - loss: 0.3342 - accuracy: 0.7590 - val_loss: 0.4344 - val_accuracy: 0.8484\n",
      "Epoch 66/100\n",
      "50/50 [==============================] - 363s 7s/step - loss: 0.9103 - accuracy: 0.6834 - val_loss: 0.5793 - val_accuracy: 0.8084\n",
      "Epoch 7/50\n",
      "50/50 [==============================] - 182s 4s/step - loss: 0.3037 - accuracy: 0.8118 - val_loss: 0.5116 - val_accuracy: 0.8029\n",
      "Epoch 67/100\n",
      "50/50 [==============================] - 359s 7s/step - loss: 0.4281 - accuracy: 0.7645 - val_loss: 0.5091 - val_accuracy: 0.8284\n",
      "Epoch 34/50\n",
      "50/50 [==============================] - 360s 7s/step - loss: 0.4948 - accuracy: 0.7523 - val_loss: 0.5433 - val_accuracy: 0.7968\n",
      "Epoch 34/100\n",
      "50/50 [==============================] - 181s 4s/step - loss: 0.2480 - accuracy: 0.8370 - val_loss: 0.5201 - val_accuracy: 0.7483\n",
      "Epoch 68/100\n",
      "50/50 [==============================] - 360s 7s/step - loss: 0.8739 - accuracy: 0.6929 - val_loss: 0.7130 - val_accuracy: 0.7453\n",
      "Epoch 8/50\n",
      "50/50 [==============================] - 181s 4s/step - loss: 0.2117 - accuracy: 0.8463 - val_loss: 0.4141 - val_accuracy: 0.8435\n",
      "Epoch 69/100\n",
      "50/50 [==============================] - 361s 7s/step - loss: 0.4315 - accuracy: 0.7618 - val_loss: 0.4720 - val_accuracy: 0.8508\n",
      "Epoch 35/50\n",
      "50/50 [==============================] - 360s 7s/step - loss: 0.4479 - accuracy: 0.7129 - val_loss: 0.6251 - val_accuracy: 0.7477\n",
      "Epoch 35/100\n",
      "50/50 [==============================] - 181s 4s/step - loss: 0.2071 - accuracy: 0.8488 - val_loss: 0.3155 - val_accuracy: 0.8799\n",
      "Epoch 70/100\n",
      "50/50 [==============================] - 362s 7s/step - loss: 0.8445 - accuracy: 0.7010 - val_loss: 0.7138 - val_accuracy: 0.7392\n",
      "Epoch 9/50\n",
      "50/50 [==============================] - 185s 4s/step - loss: 0.1888 - accuracy: 0.8560 - val_loss: 0.3686 - val_accuracy: 0.8654\n",
      "Epoch 71/100\n",
      "50/50 [==============================] - 364s 7s/step - loss: 0.4337 - accuracy: 0.7796 - val_loss: 0.5877 - val_accuracy: 0.6938\n",
      "Epoch 36/50\n",
      "50/50 [==============================] - 363s 7s/step - loss: 0.4770 - accuracy: 0.7934 - val_loss: 0.8423 - val_accuracy: 0.5822\n",
      "Epoch 36/100\n",
      "50/50 [==============================] - 187s 4s/step - loss: 0.2268 - accuracy: 0.8457 - val_loss: 0.4848 - val_accuracy: 0.8266\n",
      "Epoch 72/100\n",
      "50/50 [==============================] - 372s 7s/step - loss: 0.8551 - accuracy: 0.6541 - val_loss: 1.0422 - val_accuracy: 0.4566\n",
      "Epoch 10/50\n",
      "50/50 [==============================] - 190s 4s/step - loss: 0.2654 - accuracy: 0.8306 - val_loss: 0.5262 - val_accuracy: 0.7690\n",
      "Epoch 73/100\n",
      "50/50 [==============================] - 377s 8s/step - loss: 0.4219 - accuracy: 0.7465 - val_loss: 0.4786 - val_accuracy: 0.8545\n",
      "Epoch 37/50\n",
      "50/50 [==============================] - 379s 8s/step - loss: 0.4597 - accuracy: 0.7380 - val_loss: 0.5707 - val_accuracy: 0.7392\n",
      "Epoch 37/100\n",
      "50/50 [==============================] - 190s 4s/step - loss: 0.2463 - accuracy: 0.8306 - val_loss: 0.3685 - val_accuracy: 0.8375\n",
      "Epoch 74/100\n",
      "50/50 [==============================] - 377s 8s/step - loss: 0.8543 - accuracy: 0.7135 - val_loss: 0.7327 - val_accuracy: 0.7653\n",
      "Epoch 11/50\n",
      "50/50 [==============================] - 210s 4s/step - loss: 0.1932 - accuracy: 0.8698 - val_loss: 0.3359 - val_accuracy: 0.8617\n",
      "Epoch 75/100\n",
      "50/50 [==============================] - 401s 8s/step - loss: 0.4639 - accuracy: 0.7543 - val_loss: 0.4851 - val_accuracy: 0.8090\n",
      "Epoch 38/50\n",
      "50/50 [==============================] - 400s 8s/step - loss: 0.4444 - accuracy: 0.7742 - val_loss: 1.2596 - val_accuracy: 0.4566\n",
      "Epoch 38/100\n",
      "50/50 [==============================] - 199s 4s/step - loss: 0.1817 - accuracy: 0.8706 - val_loss: 0.4477 - val_accuracy: 0.8126\n",
      "Epoch 76/100\n",
      "50/50 [==============================] - 406s 8s/step - loss: 0.8063 - accuracy: 0.7224 - val_loss: 0.6038 - val_accuracy: 0.7756\n",
      "Epoch 12/50\n"
     ]
    },
    {
     "name": "stdout",
     "output_type": "stream",
     "text": [
      "50/50 [==============================] - 196s 4s/step - loss: 0.1757 - accuracy: 0.8674 - val_loss: 0.3588 - val_accuracy: 0.8466\n",
      "Epoch 77/100\n",
      "50/50 [==============================] - 391s 8s/step - loss: 0.3529 - accuracy: 0.7986 - val_loss: 0.5873 - val_accuracy: 0.7332\n",
      "Epoch 39/50\n",
      "50/50 [==============================] - 394s 8s/step - loss: 0.6483 - accuracy: 0.6731 - val_loss: 0.8137 - val_accuracy: 0.6562\n",
      "Epoch 39/100\n",
      "50/50 [==============================] - 197s 4s/step - loss: 0.1683 - accuracy: 0.8771 - val_loss: 0.4540 - val_accuracy: 0.8035\n",
      "Epoch 78/100\n",
      "50/50 [==============================] - 392s 8s/step - loss: 0.8426 - accuracy: 0.5894 - val_loss: 0.4766 - val_accuracy: 0.8205\n",
      "Epoch 13/50\n",
      "50/50 [==============================] - 180s 4s/step - loss: 0.1628 - accuracy: 0.8854 - val_loss: 0.3823 - val_accuracy: 0.8417\n",
      "Epoch 79/100\n",
      "50/50 [==============================] - 375s 7s/step - loss: 0.2914 - accuracy: 0.7768 - val_loss: 0.4893 - val_accuracy: 0.7817\n",
      "Epoch 40/50\n",
      "50/50 [==============================] - 378s 8s/step - loss: 0.6280 - accuracy: 0.7250 - val_loss: 0.5478 - val_accuracy: 0.7708\n",
      "Epoch 40/100\n",
      "50/50 [==============================] - 181s 4s/step - loss: 0.1522 - accuracy: 0.8811 - val_loss: 0.3790 - val_accuracy: 0.8514\n",
      "Epoch 80/100\n",
      "50/50 [==============================] - 355s 7s/step - loss: 0.8268 - accuracy: 0.6864 - val_loss: 0.8713 - val_accuracy: 0.6877\n",
      "Epoch 14/50\n",
      "50/50 [==============================] - 180s 4s/step - loss: 0.1777 - accuracy: 0.8769 - val_loss: 0.7086 - val_accuracy: 0.7204\n",
      "Epoch 81/100\n",
      "50/50 [==============================] - 358s 7s/step - loss: 0.2955 - accuracy: 0.8168 - val_loss: 0.3712 - val_accuracy: 0.8514\n",
      "Epoch 41/50\n",
      "50/50 [==============================] - 357s 7s/step - loss: 0.4949 - accuracy: 0.7521 - val_loss: 0.6034 - val_accuracy: 0.7744\n",
      "Epoch 41/100\n",
      "50/50 [==============================] - 184s 4s/step - loss: 0.2613 - accuracy: 0.8241 - val_loss: 0.5221 - val_accuracy: 0.7459\n",
      "Epoch 82/100\n",
      "50/50 [==============================] - 360s 7s/step - loss: 0.8061 - accuracy: 0.7301 - val_loss: 0.6699 - val_accuracy: 0.7659\n",
      "Epoch 15/50\n",
      "50/50 [==============================] - 186s 4s/step - loss: 0.2403 - accuracy: 0.8350 - val_loss: 0.5943 - val_accuracy: 0.7617\n",
      "Epoch 83/100\n",
      "50/50 [==============================] - 369s 7s/step - loss: 0.3408 - accuracy: 0.7695 - val_loss: 0.6688 - val_accuracy: 0.7053\n",
      "Epoch 42/50\n",
      "50/50 [==============================] - 368s 7s/step - loss: 0.6562 - accuracy: 0.6440 - val_loss: 0.4984 - val_accuracy: 0.8163\n",
      "Epoch 42/100\n",
      "50/50 [==============================] - 188s 4s/step - loss: 0.2122 - accuracy: 0.8457 - val_loss: 0.3302 - val_accuracy: 0.8775\n",
      "Epoch 84/100\n",
      "50/50 [==============================] - 367s 7s/step - loss: 0.7604 - accuracy: 0.6678 - val_loss: 0.8988 - val_accuracy: 0.6149\n",
      "Epoch 16/50\n",
      "50/50 [==============================] - 390s 8s/step - loss: 0.2912 - accuracy: 0.7922 - val_loss: 0.4192 - val_accuracy: 0.8326\n",
      "Epoch 43/50\n",
      "50/50 [==============================] - 209s 4s/step - loss: 0.1825 - accuracy: 0.8726 - val_loss: 0.3763 - val_accuracy: 0.8593\n",
      "Epoch 85/100\n",
      "50/50 [==============================] - 395s 8s/step - loss: 0.4635 - accuracy: 0.7596 - val_loss: 0.6172 - val_accuracy: 0.7283\n",
      "Epoch 43/100\n",
      "50/50 [==============================] - 190s 4s/step - loss: 0.1744 - accuracy: 0.8704 - val_loss: 0.3576 - val_accuracy: 0.8587\n",
      "Epoch 86/100\n",
      "50/50 [==============================] - 401s 8s/step - loss: 0.7630 - accuracy: 0.7159 - val_loss: 0.6920 - val_accuracy: 0.7107\n",
      "Epoch 17/50\n",
      "50/50 [==============================] - 375s 8s/step - loss: 0.2783 - accuracy: 0.8180 - val_loss: 0.4976 - val_accuracy: 0.7920\n",
      "Epoch 44/50\n",
      "50/50 [==============================] - 188s 4s/step - loss: 0.2104 - accuracy: 0.8704 - val_loss: 0.4520 - val_accuracy: 0.8144\n",
      "Epoch 87/100\n",
      "50/50 [==============================] - 377s 8s/step - loss: 0.5241 - accuracy: 0.7548 - val_loss: 0.5954 - val_accuracy: 0.7489\n",
      "Epoch 44/100\n",
      "50/50 [==============================] - 180s 4s/step - loss: 0.2146 - accuracy: 0.8423 - val_loss: 0.6049 - val_accuracy: 0.7283\n",
      "Epoch 88/100\n",
      "50/50 [==============================] - 364s 7s/step - loss: 0.8042 - accuracy: 0.6316 - val_loss: 0.5954 - val_accuracy: 0.7787\n",
      "Epoch 18/50\n",
      "50/50 [==============================] - 376s 8s/step - loss: 0.3437 - accuracy: 0.7327 - val_loss: 0.6569 - val_accuracy: 0.7914\n",
      "Epoch 45/50\n",
      "50/50 [==============================] - 194s 4s/step - loss: 0.2162 - accuracy: 0.8577 - val_loss: 0.4920 - val_accuracy: 0.8229\n",
      "Epoch 89/100\n",
      "50/50 [==============================] - 373s 7s/step - loss: 0.6008 - accuracy: 0.7353 - val_loss: 0.4937 - val_accuracy: 0.7902\n",
      "Epoch 45/100\n",
      "50/50 [==============================] - 191s 4s/step - loss: 0.2051 - accuracy: 0.8508 - val_loss: 0.3671 - val_accuracy: 0.8187\n",
      "Epoch 90/100\n",
      "50/50 [==============================] - 382s 8s/step - loss: 0.7183 - accuracy: 0.7240 - val_loss: 0.6638 - val_accuracy: 0.7502\n",
      "Epoch 19/50\n",
      "50/50 [==============================] - 388s 8s/step - loss: 0.4286 - accuracy: 0.7790 - val_loss: 0.4819 - val_accuracy: 0.8102\n",
      "Epoch 46/50\n",
      "50/50 [==============================] - 199s 4s/step - loss: 0.2214 - accuracy: 0.8387 - val_loss: 0.4015 - val_accuracy: 0.8411\n",
      "Epoch 91/100\n",
      "50/50 [==============================] - 389s 8s/step - loss: 0.5214 - accuracy: 0.6518 - val_loss: 0.7600 - val_accuracy: 0.6725\n",
      "Epoch 46/100\n",
      "50/50 [==============================] - 386s 8s/step - loss: 0.7128 - accuracy: 0.7497 - val_loss: 0.6198 - val_accuracy: 0.7896\n",
      "Epoch 20/50\n",
      "50/50 [==============================] - 190s 4s/step - loss: 0.1932 - accuracy: 0.8530 - val_loss: 0.3079 - val_accuracy: 0.8775\n",
      "Epoch 92/100\n",
      "50/50 [==============================] - 381s 8s/step - loss: 0.2871 - accuracy: 0.8116 - val_loss: 0.4287 - val_accuracy: 0.8199\n",
      "Epoch 47/50\n",
      "50/50 [==============================] - 194s 4s/step - loss: 0.1654 - accuracy: 0.8831 - val_loss: 0.4466 - val_accuracy: 0.7847\n",
      "Epoch 93/100\n",
      "50/50 [==============================] - 379s 8s/step - loss: 0.5573 - accuracy: 0.6749 - val_loss: 0.7434 - val_accuracy: 0.6167\n",
      "Epoch 47/100\n",
      "50/50 [==============================] - 375s 8s/step - loss: 0.7055 - accuracy: 0.6438 - val_loss: 0.8091 - val_accuracy: 0.6410\n",
      "Epoch 21/50\n",
      "50/50 [==============================] - 184s 4s/step - loss: 0.1815 - accuracy: 0.8837 - val_loss: 0.4855 - val_accuracy: 0.8326\n",
      "Epoch 94/100\n",
      "50/50 [==============================] - 361s 7s/step - loss: 0.2461 - accuracy: 0.8263 - val_loss: 0.4285 - val_accuracy: 0.8090\n",
      "Epoch 48/50\n",
      "50/50 [==============================] - 183s 4s/step - loss: 0.2391 - accuracy: 0.8510 - val_loss: 0.4506 - val_accuracy: 0.8059\n",
      "Epoch 95/100\n",
      "50/50 [==============================] - 361s 7s/step - loss: 0.4447 - accuracy: 0.7196 - val_loss: 0.4751 - val_accuracy: 0.8387\n",
      "Epoch 48/100\n",
      "50/50 [==============================] - 362s 7s/step - loss: 0.7194 - accuracy: 0.7260 - val_loss: 0.7129 - val_accuracy: 0.6659\n",
      "Epoch 22/50\n",
      "50/50 [==============================] - 189s 4s/step - loss: 0.1646 - accuracy: 0.8821 - val_loss: 0.3905 - val_accuracy: 0.8314\n",
      "Epoch 96/100\n",
      "50/50 [==============================] - 378s 8s/step - loss: 0.2472 - accuracy: 0.8229 - val_loss: 0.4134 - val_accuracy: 0.8278\n",
      "Epoch 49/50\n",
      "50/50 [==============================] - 191s 4s/step - loss: 0.1439 - accuracy: 0.8914 - val_loss: 0.4051 - val_accuracy: 0.7817\n",
      "Epoch 97/100\n",
      "50/50 [==============================] - 380s 8s/step - loss: 0.5223 - accuracy: 0.7406 - val_loss: 0.6011 - val_accuracy: 0.7235\n",
      "Epoch 49/100\n",
      "50/50 [==============================] - 381s 8s/step - loss: 0.7013 - accuracy: 0.6632 - val_loss: 0.9978 - val_accuracy: 0.5816\n",
      "Epoch 23/50\n",
      "50/50 [==============================] - 189s 4s/step - loss: 0.1527 - accuracy: 0.8945 - val_loss: 0.3682 - val_accuracy: 0.8514\n",
      "Epoch 98/100\n",
      "50/50 [==============================] - 381s 8s/step - loss: 0.2251 - accuracy: 0.8385 - val_loss: 0.3744 - val_accuracy: 0.8490\n",
      "Epoch 50/50\n",
      "50/50 [==============================] - 379s 8s/step - loss: 0.4459 - accuracy: 0.7388 - val_loss: 0.8099 - val_accuracy: 0.6192\n",
      "Epoch 50/100\n"
     ]
    },
    {
     "name": "stdout",
     "output_type": "stream",
     "text": [
      "50/50 [==============================] - 191s 4s/step - loss: 0.1382 - accuracy: 0.8953 - val_loss: 0.2909 - val_accuracy: 0.8945\n",
      "Epoch 99/100\n",
      "50/50 [==============================] - 383s 8s/step - loss: 0.6896 - accuracy: 0.6994 - val_loss: 0.5326 - val_accuracy: 0.7968\n",
      "Epoch 24/50\n",
      "50/50 [==============================] - 191s 4s/step - loss: 0.1312 - accuracy: 0.9131 - val_loss: 0.3154 - val_accuracy: 0.8890\n",
      "Epoch 100/100\n",
      "50/50 [==============================] - 381s 8s/step - loss: 0.2157 - accuracy: 0.8376 - val_loss: 0.3755 - val_accuracy: 0.8490\n",
      "50/50 [==============================] - 378s 8s/step - loss: 0.5106 - accuracy: 0.7165 - val_loss: 0.6704 - val_accuracy: 0.7210\n",
      "Epoch 51/100\n",
      "50/50 [==============================] - 190s 4s/step - loss: 0.1269 - accuracy: 0.9165 - val_loss: 0.3149 - val_accuracy: 0.8757\n",
      "69/69 [==============================] - 25s 361ms/step - loss: 0.3447 - accuracy: 0.8722\n",
      "69/69 [==============================] - 52s 751ms/step - loss: 0.4415 - accuracy: 0.8131\n",
      "69/69 [==============================] - 52s 384ms/stepss: 0.3353 - accuracy:\n",
      "69/69 [==============================] - 79s 813ms/step: 0.6692 - accuracy: 0.6\n",
      "50/50 [==============================] - 342s 7s/step - loss: 0.6686 - accuracy: 0.6905 - val_loss: 0.7753 - val_accuracy: 0.6349\n",
      "Epoch 25/50\n",
      "21/50 [===========>..................] - ETA: 2:04 - loss: 0.6496 - accuracy: 0.6890"
     ]
    },
    {
     "name": "stderr",
     "output_type": "stream",
     "text": [
      "WARNING:absl:Found untraced functions such as lstm_cell_1_layer_call_fn, lstm_cell_1_layer_call_and_return_conditional_losses, lstm_cell_2_layer_call_fn, lstm_cell_2_layer_call_and_return_conditional_losses, lstm_cell_4_layer_call_fn while saving (showing 5 of 12). These functions will not be directly callable after loading.\n"
     ]
    },
    {
     "name": "stdout",
     "output_type": "stream",
     "text": [
      "24/50 [=============>................] - ETA: 1:50 - loss: 0.6198 - accuracy: 0.6862"
     ]
    },
    {
     "name": "stderr",
     "output_type": "stream",
     "text": [
      "WARNING:absl:Found untraced functions such as lstm_cell_1_layer_call_fn, lstm_cell_1_layer_call_and_return_conditional_losses, lstm_cell_2_layer_call_fn, lstm_cell_2_layer_call_and_return_conditional_losses, lstm_cell_4_layer_call_fn while saving (showing 5 of 12). These functions will not be directly callable after loading.\n"
     ]
    },
    {
     "name": "stdout",
     "output_type": "stream",
     "text": [
      "26/50 [==============>...............] - ETA: 1:40 - loss: 0.6144 - accuracy: 0.6885INFO:tensorflow:Assets written to: ram://71f87545-4633-4de2-8aeb-f8940433034c/assets\n"
     ]
    },
    {
     "name": "stderr",
     "output_type": "stream",
     "text": [
      "INFO:tensorflow:Assets written to: ram://71f87545-4633-4de2-8aeb-f8940433034c/assets\n"
     ]
    },
    {
     "name": "stdout",
     "output_type": "stream",
     "text": [
      "50/50 [==============================] - 263s 5s/step - loss: 0.3561 - accuracy: 0.8013 - val_loss: 0.5585 - val_accuracy: 0.7253\n",
      "Epoch 52/100\n",
      "Epoch 1/50\n",
      " 2/50 [>.............................] - ETA: 3:16 - loss: 0.3865 - accuracy: 0.7200INFO:tensorflow:Assets written to: ram://80d5ab45-9bd1-49d7-b186-3851a1f7ae1e/assets\n"
     ]
    },
    {
     "name": "stderr",
     "output_type": "stream",
     "text": [
      "INFO:tensorflow:Assets written to: ram://80d5ab45-9bd1-49d7-b186-3851a1f7ae1e/assets\n"
     ]
    },
    {
     "name": "stdout",
     "output_type": "stream",
     "text": [
      "28/50 [===============>..............] - ETA: 57s - loss: 1.0755 - accuracy: 0.4543 Epoch 1/100\n",
      "50/50 [==============================] - 244s 5s/step - loss: 0.6146 - accuracy: 0.7208 - val_loss: 0.7538 - val_accuracy: 0.6537\n",
      "Epoch 26/50\n",
      "50/50 [==============================] - 247s 4s/step - loss: 1.0505 - accuracy: 0.5657 - val_loss: 0.8621 - val_accuracy: 0.7526\n",
      "Epoch 2/50\n",
      "50/50 [==============================] - 283s 6s/step - loss: 0.3292 - accuracy: 0.7938 - val_loss: 0.5435 - val_accuracy: 0.7489\n",
      "Epoch 53/100\n",
      "50/50 [==============================] - 183s 4s/step - loss: 1.0064 - accuracy: 0.6876 - val_loss: 1.0993 - val_accuracy: 0.6064\n",
      "Epoch 3/50\n",
      "50/50 [==============================] - 331s 7s/step - loss: 0.5797 - accuracy: 0.7091 - val_loss: 0.6585 - val_accuracy: 0.7477\n",
      "Epoch 27/50\n",
      "50/50 [==============================] - 161s 3s/step - loss: 0.9881 - accuracy: 0.6448 - val_loss: 0.7460 - val_accuracy: 0.7301\n",
      "Epoch 4/50\n",
      "50/50 [==============================] - 343s 7s/step - loss: 0.3396 - accuracy: 0.7675 - val_loss: 0.6286 - val_accuracy: 0.7314\n",
      "Epoch 54/100\n",
      "50/50 [==============================] - 507s 9s/step - loss: 1.0524 - accuracy: 0.5564 - val_loss: 0.8584 - val_accuracy: 0.7671\n",
      "Epoch 2/100\n",
      "50/50 [==============================] - 180s 4s/step - loss: 0.9525 - accuracy: 0.6878 - val_loss: 0.5109 - val_accuracy: 0.8575\n",
      "Epoch 5/50\n",
      "50/50 [==============================] - 340s 7s/step - loss: 0.6019 - accuracy: 0.7315 - val_loss: 0.6431 - val_accuracy: 0.6986\n",
      "Epoch 28/50\n",
      "50/50 [==============================] - 179s 4s/step - loss: 0.9514 - accuracy: 0.7301 - val_loss: 0.5697 - val_accuracy: 0.9272\n",
      "Epoch 6/50\n",
      "50/50 [==============================] - 359s 7s/step - loss: 0.3109 - accuracy: 0.8002 - val_loss: 0.4687 - val_accuracy: 0.7993\n",
      "Epoch 55/100\n",
      "50/50 [==============================] - 365s 7s/step - loss: 1.0228 - accuracy: 0.5782 - val_loss: 0.8800 - val_accuracy: 0.5943\n",
      "Epoch 3/100\n",
      "50/50 [==============================] - 184s 4s/step - loss: 0.9486 - accuracy: 0.6931 - val_loss: 0.7119 - val_accuracy: 0.7944\n",
      "Epoch 7/50\n",
      "50/50 [==============================] - 361s 7s/step - loss: 0.6343 - accuracy: 0.7137 - val_loss: 0.6698 - val_accuracy: 0.7520\n",
      "Epoch 29/50\n",
      "50/50 [==============================] - 183s 4s/step - loss: 0.9204 - accuracy: 0.6628 - val_loss: 0.7184 - val_accuracy: 0.7314\n",
      "Epoch 8/50\n",
      "50/50 [==============================] - 371s 7s/step - loss: 0.3102 - accuracy: 0.7796 - val_loss: 0.5529 - val_accuracy: 0.7356\n",
      "Epoch 56/100\n",
      "50/50 [==============================] - 377s 8s/step - loss: 0.9382 - accuracy: 0.6909 - val_loss: 0.7800 - val_accuracy: 0.7756\n",
      "Epoch 4/100\n",
      "50/50 [==============================] - 187s 4s/step - loss: 0.8687 - accuracy: 0.6808 - val_loss: 0.7628 - val_accuracy: 0.7210\n",
      "Epoch 9/50\n",
      "50/50 [==============================] - 373s 7s/step - loss: 0.5873 - accuracy: 0.7175 - val_loss: 0.8351 - val_accuracy: 0.6689\n",
      "Epoch 30/50\n",
      "50/50 [==============================] - 194s 4s/step - loss: 0.9157 - accuracy: 0.6454 - val_loss: 0.9988 - val_accuracy: 0.5622\n",
      "Epoch 10/50\n",
      "50/50 [==============================] - 380s 8s/step - loss: 0.3187 - accuracy: 0.7717 - val_loss: 0.6060 - val_accuracy: 0.7732\n",
      "Epoch 57/100\n",
      "50/50 [==============================] - 388s 8s/step - loss: 0.9492 - accuracy: 0.5568 - val_loss: 1.1154 - val_accuracy: 0.4348\n",
      "Epoch 5/100\n",
      "50/50 [==============================] - 186s 4s/step - loss: 0.9668 - accuracy: 0.6882 - val_loss: 0.9171 - val_accuracy: 0.6925\n",
      "Epoch 11/50\n",
      "50/50 [==============================] - 378s 7s/step - loss: 0.5824 - accuracy: 0.7080 - val_loss: 0.6618 - val_accuracy: 0.6586\n",
      "Epoch 31/50\n",
      "50/50 [==============================] - 185s 4s/step - loss: 0.8576 - accuracy: 0.7424 - val_loss: 0.6134 - val_accuracy: 0.8023\n",
      "Epoch 12/50\n",
      "50/50 [==============================] - 373s 7s/step - loss: 0.2997 - accuracy: 0.8136 - val_loss: 0.6561 - val_accuracy: 0.6671\n",
      "Epoch 58/100\n",
      "50/50 [==============================] - 374s 7s/step - loss: 1.0088 - accuracy: 0.6142 - val_loss: 0.6888 - val_accuracy: 0.8175\n",
      "Epoch 6/100\n",
      "50/50 [==============================] - 188s 4s/step - loss: 0.7973 - accuracy: 0.7214 - val_loss: 0.5092 - val_accuracy: 0.8411\n",
      "Epoch 13/50\n",
      "50/50 [==============================] - 371s 7s/step - loss: 0.5008 - accuracy: 0.7608 - val_loss: 0.6639 - val_accuracy: 0.7841\n",
      "Epoch 32/50\n",
      "50/50 [==============================] - 189s 4s/step - loss: 0.9135 - accuracy: 0.5600 - val_loss: 0.6316 - val_accuracy: 0.8017\n",
      "Epoch 14/50\n",
      "50/50 [==============================] - 383s 8s/step - loss: 0.2894 - accuracy: 0.7590 - val_loss: 0.4228 - val_accuracy: 0.8272\n",
      "Epoch 59/100\n",
      "50/50 [==============================] - 392s 8s/step - loss: 0.9041 - accuracy: 0.7444 - val_loss: 1.2881 - val_accuracy: 0.4160\n",
      "Epoch 7/100\n",
      "50/50 [==============================] - 195s 4s/step - loss: 0.7948 - accuracy: 0.7105 - val_loss: 0.6933 - val_accuracy: 0.7950\n",
      "Epoch 15/50\n",
      "50/50 [==============================] - 385s 8s/step - loss: 0.4956 - accuracy: 0.7744 - val_loss: 0.6541 - val_accuracy: 0.6931\n",
      "Epoch 33/50\n",
      "50/50 [==============================] - 186s 4s/step - loss: 0.7630 - accuracy: 0.7610 - val_loss: 0.6198 - val_accuracy: 0.7762\n",
      "Epoch 16/50\n",
      "50/50 [==============================] - 377s 8s/step - loss: 0.2527 - accuracy: 0.8154 - val_loss: 0.5251 - val_accuracy: 0.7841\n",
      "Epoch 60/100\n",
      "50/50 [==============================] - 377s 8s/step - loss: 0.9806 - accuracy: 0.5230 - val_loss: 0.6101 - val_accuracy: 0.7799\n",
      "Epoch 8/100\n",
      "50/50 [==============================] - 185s 4s/step - loss: 0.7680 - accuracy: 0.7123 - val_loss: 0.4872 - val_accuracy: 0.8393\n",
      "Epoch 17/50\n",
      "50/50 [==============================] - 369s 7s/step - loss: 0.6689 - accuracy: 0.6159 - val_loss: 0.8099 - val_accuracy: 0.6586\n",
      "Epoch 34/50\n",
      "50/50 [==============================] - 186s 4s/step - loss: 0.7898 - accuracy: 0.6951 - val_loss: 0.8154 - val_accuracy: 0.7004\n",
      "Epoch 18/50\n",
      "50/50 [==============================] - 369s 7s/step - loss: 0.2525 - accuracy: 0.8213 - val_loss: 0.4744 - val_accuracy: 0.7683\n",
      "Epoch 61/100\n",
      "50/50 [==============================] - 376s 8s/step - loss: 0.8971 - accuracy: 0.6704 - val_loss: 0.9459 - val_accuracy: 0.6246\n",
      "Epoch 9/100\n",
      "50/50 [==============================] - 190s 4s/step - loss: 0.7800 - accuracy: 0.6842 - val_loss: 0.6810 - val_accuracy: 0.7356\n",
      "Epoch 19/50\n",
      "50/50 [==============================] - 375s 8s/step - loss: 0.6317 - accuracy: 0.6985 - val_loss: 0.6808 - val_accuracy: 0.7386\n",
      "Epoch 35/50\n",
      "50/50 [==============================] - 193s 4s/step - loss: 0.7460 - accuracy: 0.7143 - val_loss: 1.1408 - val_accuracy: 0.5882\n",
      "Epoch 20/50\n",
      "50/50 [==============================] - 385s 8s/step - loss: 0.2658 - accuracy: 0.8188 - val_loss: 0.6361 - val_accuracy: 0.7162\n",
      "Epoch 62/100\n",
      "50/50 [==============================] - 393s 8s/step - loss: 0.8876 - accuracy: 0.7070 - val_loss: 0.6526 - val_accuracy: 0.7647\n",
      "Epoch 10/100\n",
      "50/50 [==============================] - 194s 4s/step - loss: 0.7900 - accuracy: 0.6680 - val_loss: 0.5833 - val_accuracy: 0.7780\n",
      "Epoch 21/50\n",
      "50/50 [==============================] - 385s 8s/step - loss: 0.4986 - accuracy: 0.7701 - val_loss: 0.5621 - val_accuracy: 0.7556\n",
      "Epoch 36/50\n",
      "50/50 [==============================] - 193s 4s/step - loss: 0.7509 - accuracy: 0.6803 - val_loss: 0.6255 - val_accuracy: 0.7683\n",
      "Epoch 22/50\n",
      "50/50 [==============================] - 389s 8s/step - loss: 0.2721 - accuracy: 0.8195 - val_loss: 0.4659 - val_accuracy: 0.7659\n",
      "Epoch 63/100\n",
      "50/50 [==============================] - 392s 8s/step - loss: 0.8589 - accuracy: 0.7026 - val_loss: 0.7849 - val_accuracy: 0.7126\n",
      "Epoch 11/100\n",
      "50/50 [==============================] - 196s 4s/step - loss: 0.6765 - accuracy: 0.7465 - val_loss: 0.6843 - val_accuracy: 0.7320\n",
      "Epoch 23/50\n",
      "50/50 [==============================] - 385s 8s/step - loss: 0.4455 - accuracy: 0.7450 - val_loss: 0.6213 - val_accuracy: 0.7726\n",
      "Epoch 37/50\n",
      "50/50 [==============================] - 193s 4s/step - loss: 0.6760 - accuracy: 0.7254 - val_loss: 0.6661 - val_accuracy: 0.7592\n",
      "Epoch 24/50\n",
      "50/50 [==============================] - 388s 8s/step - loss: 0.2555 - accuracy: 0.8037 - val_loss: 0.4497 - val_accuracy: 0.8150\n",
      "Epoch 64/100\n"
     ]
    },
    {
     "name": "stdout",
     "output_type": "stream",
     "text": [
      "50/50 [==============================] - 392s 8s/step - loss: 0.8511 - accuracy: 0.7186 - val_loss: 0.5461 - val_accuracy: 0.8296\n",
      "Epoch 12/100\n",
      "50/50 [==============================] - 194s 4s/step - loss: 0.6799 - accuracy: 0.6969 - val_loss: 0.5203 - val_accuracy: 0.8338\n",
      "Epoch 25/50\n",
      "50/50 [==============================] - 388s 8s/step - loss: 0.4901 - accuracy: 0.7687 - val_loss: 0.6252 - val_accuracy: 0.7726\n",
      "Epoch 38/50\n",
      "50/50 [==============================] - 194s 4s/step - loss: 0.6958 - accuracy: 0.6929 - val_loss: 0.6102 - val_accuracy: 0.7477\n",
      "Epoch 26/50\n",
      "50/50 [==============================] - 386s 8s/step - loss: 0.2275 - accuracy: 0.8615 - val_loss: 0.5520 - val_accuracy: 0.7362\n",
      "Epoch 65/100\n",
      "50/50 [==============================] - 393s 8s/step - loss: 0.8579 - accuracy: 0.6793 - val_loss: 0.6959 - val_accuracy: 0.7435\n",
      "Epoch 13/100\n",
      "50/50 [==============================] - 194s 4s/step - loss: 0.6306 - accuracy: 0.7002 - val_loss: 0.6300 - val_accuracy: 0.7659\n",
      "Epoch 27/50\n",
      "50/50 [==============================] - 388s 8s/step - loss: 0.4367 - accuracy: 0.7467 - val_loss: 0.6000 - val_accuracy: 0.7459\n",
      "Epoch 39/50\n",
      "50/50 [==============================] - 194s 4s/step - loss: 0.6051 - accuracy: 0.7459 - val_loss: 0.5988 - val_accuracy: 0.7835\n",
      "Epoch 28/50\n",
      "50/50 [==============================] - 389s 8s/step - loss: 0.3069 - accuracy: 0.7922 - val_loss: 0.7056 - val_accuracy: 0.7107\n",
      "Epoch 66/100\n",
      "50/50 [==============================] - 391s 8s/step - loss: 0.8282 - accuracy: 0.7143 - val_loss: 0.6681 - val_accuracy: 0.7447\n",
      "Epoch 14/100\n",
      "50/50 [==============================] - 195s 4s/step - loss: 0.6264 - accuracy: 0.7198 - val_loss: 0.6024 - val_accuracy: 0.7447\n",
      "Epoch 29/50\n",
      "50/50 [==============================] - 386s 8s/step - loss: 0.4129 - accuracy: 0.7677 - val_loss: 0.5826 - val_accuracy: 0.7132\n",
      "Epoch 40/50\n",
      "50/50 [==============================] - 196s 4s/step - loss: 0.5561 - accuracy: 0.7089 - val_loss: 0.6988 - val_accuracy: 0.7605\n",
      "Epoch 30/50\n",
      "50/50 [==============================] - 389s 8s/step - loss: 0.3447 - accuracy: 0.7357 - val_loss: 0.4221 - val_accuracy: 0.8163\n",
      "Epoch 67/100\n",
      "50/50 [==============================] - 394s 8s/step - loss: 0.8168 - accuracy: 0.6969 - val_loss: 0.6995 - val_accuracy: 0.7411\n",
      "Epoch 15/100\n",
      "50/50 [==============================] - 195s 4s/step - loss: 0.6693 - accuracy: 0.7351 - val_loss: 0.7577 - val_accuracy: 0.6295\n",
      "Epoch 31/50\n",
      "50/50 [==============================] - 386s 8s/step - loss: 0.3905 - accuracy: 0.7434 - val_loss: 0.5746 - val_accuracy: 0.7241\n",
      "Epoch 41/50\n",
      "50/50 [==============================] - 203s 4s/step - loss: 0.6048 - accuracy: 0.6696 - val_loss: 0.5506 - val_accuracy: 0.7599\n",
      "Epoch 32/50\n",
      "50/50 [==============================] - 399s 8s/step - loss: 0.2523 - accuracy: 0.8241 - val_loss: 0.5152 - val_accuracy: 0.7847\n",
      "Epoch 68/100\n",
      "50/50 [==============================] - 404s 8s/step - loss: 0.7907 - accuracy: 0.7370 - val_loss: 0.6840 - val_accuracy: 0.7671\n",
      "Epoch 16/100\n",
      "50/50 [==============================] - 196s 4s/step - loss: 0.6059 - accuracy: 0.6866 - val_loss: 0.8747 - val_accuracy: 0.6052\n",
      "Epoch 33/50\n",
      "50/50 [==============================] - 399s 8s/step - loss: 0.3798 - accuracy: 0.7814 - val_loss: 0.4945 - val_accuracy: 0.8338\n",
      "Epoch 42/50\n",
      "50/50 [==============================] - 197s 4s/step - loss: 0.6125 - accuracy: 0.7426 - val_loss: 0.7163 - val_accuracy: 0.7411\n",
      "Epoch 34/50\n",
      "50/50 [==============================] - 394s 8s/step - loss: 0.2171 - accuracy: 0.8471 - val_loss: 0.4376 - val_accuracy: 0.8181\n",
      "Epoch 69/100\n",
      "50/50 [==============================] - 397s 8s/step - loss: 0.8261 - accuracy: 0.6892 - val_loss: 0.7145 - val_accuracy: 0.7247\n",
      "Epoch 17/100\n",
      "50/50 [==============================] - 197s 4s/step - loss: 0.5747 - accuracy: 0.7004 - val_loss: 0.5102 - val_accuracy: 0.8102\n",
      "Epoch 35/50\n",
      "50/50 [==============================] - 392s 8s/step - loss: 0.3529 - accuracy: 0.7578 - val_loss: 0.4465 - val_accuracy: 0.8581\n",
      "Epoch 43/50\n",
      "50/50 [==============================] - 195s 4s/step - loss: 0.5080 - accuracy: 0.7056 - val_loss: 0.4731 - val_accuracy: 0.8126\n",
      "Epoch 36/50\n",
      "50/50 [==============================] - 390s 8s/step - loss: 0.2058 - accuracy: 0.8550 - val_loss: 0.4723 - val_accuracy: 0.8126\n",
      "Epoch 70/100\n",
      "50/50 [==============================] - 396s 8s/step - loss: 0.7943 - accuracy: 0.6842 - val_loss: 0.5051 - val_accuracy: 0.8059\n",
      "Epoch 18/100\n",
      "50/50 [==============================] - 388s 8s/step - loss: 0.3354 - accuracy: 0.8209 - val_loss: 0.5380 - val_accuracy: 0.8023\n",
      "Epoch 44/50\n",
      "50/50 [==============================] - 195s 4s/step - loss: 0.6205 - accuracy: 0.7058 - val_loss: 0.9673 - val_accuracy: 0.5318\n",
      "Epoch 37/50\n",
      "50/50 [==============================] - 201s 4s/step - loss: 0.6755 - accuracy: 0.6662 - val_loss: 0.5128 - val_accuracy: 0.8169\n",
      "Epoch 38/50\n",
      "50/50 [==============================] - 395s 8s/step - loss: 0.2119 - accuracy: 0.8546 - val_loss: 0.7104 - val_accuracy: 0.6834\n",
      "Epoch 71/100\n",
      "50/50 [==============================] - 397s 8s/step - loss: 0.8188 - accuracy: 0.6417 - val_loss: 0.7003 - val_accuracy: 0.7107\n",
      "Epoch 19/100\n",
      "50/50 [==============================] - 396s 8s/step - loss: 0.3627 - accuracy: 0.7647 - val_loss: 0.5931 - val_accuracy: 0.7968\n",
      "Epoch 45/50\n",
      "50/50 [==============================] - 196s 4s/step - loss: 0.5167 - accuracy: 0.7230 - val_loss: 0.5744 - val_accuracy: 0.7538\n",
      "Epoch 39/50\n",
      "50/50 [==============================] - 206s 4s/step - loss: 0.5321 - accuracy: 0.7236 - val_loss: 0.7746 - val_accuracy: 0.6361\n",
      "Epoch 40/50\n",
      "50/50 [==============================] - 402s 8s/step - loss: 0.2538 - accuracy: 0.8352 - val_loss: 0.4358 - val_accuracy: 0.8138\n",
      "Epoch 72/100\n",
      "50/50 [==============================] - 410s 8s/step - loss: 0.8053 - accuracy: 0.6735 - val_loss: 1.0427 - val_accuracy: 0.6192\n",
      "Epoch 20/100\n",
      "50/50 [==============================] - 402s 8s/step - loss: 0.3446 - accuracy: 0.7913 - val_loss: 0.5233 - val_accuracy: 0.7732\n",
      "Epoch 46/50\n",
      "50/50 [==============================] - 196s 4s/step - loss: 0.5459 - accuracy: 0.7018 - val_loss: 0.7747 - val_accuracy: 0.6822\n",
      "Epoch 41/50\n",
      "50/50 [==============================] - 196s 4s/step - loss: 0.5306 - accuracy: 0.7293 - val_loss: 0.5982 - val_accuracy: 0.7326\n",
      "Epoch 42/50\n",
      "50/50 [==============================] - 390s 8s/step - loss: 0.2320 - accuracy: 0.8197 - val_loss: 0.5064 - val_accuracy: 0.7665\n",
      "Epoch 73/100\n",
      "50/50 [==============================] - 395s 8s/step - loss: 0.8213 - accuracy: 0.6781 - val_loss: 0.6481 - val_accuracy: 0.7835\n",
      "Epoch 21/100\n",
      "50/50 [==============================] - 388s 8s/step - loss: 0.3302 - accuracy: 0.7893 - val_loss: 0.5160 - val_accuracy: 0.8144\n",
      "Epoch 47/50\n",
      "50/50 [==============================] - 194s 4s/step - loss: 0.5128 - accuracy: 0.7477 - val_loss: 0.6226 - val_accuracy: 0.7350\n",
      "Epoch 43/50\n",
      "50/50 [==============================] - 194s 4s/step - loss: 0.4874 - accuracy: 0.7277 - val_loss: 0.6580 - val_accuracy: 0.6980\n",
      "Epoch 44/50\n",
      "50/50 [==============================] - 384s 8s/step - loss: 0.2059 - accuracy: 0.8459 - val_loss: 0.4731 - val_accuracy: 0.8023\n",
      "Epoch 74/100\n",
      "50/50 [==============================] - 392s 8s/step - loss: 0.7690 - accuracy: 0.7137 - val_loss: 0.6628 - val_accuracy: 0.7259\n",
      "Epoch 22/100\n",
      "50/50 [==============================] - 384s 8s/step - loss: 0.4099 - accuracy: 0.7705 - val_loss: 0.6942 - val_accuracy: 0.7404\n",
      "Epoch 48/50\n",
      "50/50 [==============================] - 193s 4s/step - loss: 0.4904 - accuracy: 0.7113 - val_loss: 0.6088 - val_accuracy: 0.7089\n",
      "Epoch 45/50\n",
      "50/50 [==============================] - 196s 4s/step - loss: 0.5132 - accuracy: 0.7323 - val_loss: 0.5144 - val_accuracy: 0.7726\n",
      "Epoch 46/50\n",
      "50/50 [==============================] - 385s 8s/step - loss: 0.2015 - accuracy: 0.8524 - val_loss: 0.4718 - val_accuracy: 0.7908\n",
      "Epoch 75/100\n",
      "50/50 [==============================] - 446s 9s/step - loss: 0.7911 - accuracy: 0.7165 - val_loss: 0.6855 - val_accuracy: 0.7344\n",
      "Epoch 23/100\n",
      "50/50 [==============================] - 467s 9s/step - loss: 0.3477 - accuracy: 0.7968 - val_loss: 0.5705 - val_accuracy: 0.7944\n",
      "Epoch 49/50\n"
     ]
    },
    {
     "name": "stdout",
     "output_type": "stream",
     "text": [
      "50/50 [==============================] - 283s 6s/step - loss: 0.4965 - accuracy: 0.7319 - val_loss: 0.7062 - val_accuracy: 0.6161\n",
      "Epoch 47/50\n",
      "50/50 [==============================] - 249s 5s/step - loss: 0.4397 - accuracy: 0.7525 - val_loss: 0.4595 - val_accuracy: 0.8011\n",
      "Epoch 48/50\n",
      "50/50 [==============================] - 538s 11s/step - loss: 0.1975 - accuracy: 0.8694 - val_loss: 0.6418 - val_accuracy: 0.7508\n",
      "Epoch 76/100\n",
      "50/50 [==============================] - 488s 10s/step - loss: 0.7114 - accuracy: 0.7374 - val_loss: 0.7413 - val_accuracy: 0.7271\n",
      "Epoch 24/100\n",
      "50/50 [==============================] - 454s 9s/step - loss: 0.4059 - accuracy: 0.6706 - val_loss: 0.3697 - val_accuracy: 0.8884\n",
      "Epoch 50/50\n",
      "50/50 [==============================] - 196s 4s/step - loss: 0.4631 - accuracy: 0.7180 - val_loss: 0.6270 - val_accuracy: 0.7077\n",
      "Epoch 49/50\n",
      "50/50 [==============================] - 194s 4s/step - loss: 0.5498 - accuracy: 0.7317 - val_loss: 0.5761 - val_accuracy: 0.7126\n",
      "Epoch 50/50\n",
      "50/50 [==============================] - 391s 8s/step - loss: 0.2588 - accuracy: 0.8156 - val_loss: 0.3688 - val_accuracy: 0.8466\n",
      "Epoch 77/100\n",
      "50/50 [==============================] - 394s 8s/step - loss: 0.7359 - accuracy: 0.6652 - val_loss: 0.5011 - val_accuracy: 0.8229\n",
      "Epoch 25/100\n",
      "50/50 [==============================] - 385s 8s/step - loss: 0.5337 - accuracy: 0.7556 - val_loss: 0.6112 - val_accuracy: 0.7404\n",
      "50/50 [==============================] - 195s 4s/step - loss: 0.4945 - accuracy: 0.7087 - val_loss: 0.7139 - val_accuracy: 0.6246\n",
      "69/69 [==============================] - 29s 416ms/step - loss: 0.7720 - accuracy: 0.5839\n",
      "69/69 [==============================] - 58s 832ms/step - loss: 0.6770 - accuracy: 0.6958\n",
      "69/69 [==============================] - 44s 337ms/step\n",
      "69/69 [==============================] - 74s 760ms/stepss: 0.8049 - accuracy\n",
      "50/50 [==============================] - 336s 7s/step - loss: 0.2319 - accuracy: 0.8504 - val_loss: 0.4273 - val_accuracy: 0.8296\n",
      "Epoch 78/100\n",
      "14/50 [=======>......................] - ETA: 2:31 - loss: 0.1953 - accuracy: 0.8636"
     ]
    },
    {
     "name": "stderr",
     "output_type": "stream",
     "text": [
      "WARNING:absl:Found untraced functions such as lstm_cell_10_layer_call_fn, lstm_cell_10_layer_call_and_return_conditional_losses, lstm_cell_11_layer_call_fn, lstm_cell_11_layer_call_and_return_conditional_losses, lstm_cell_13_layer_call_fn while saving (showing 5 of 12). These functions will not be directly callable after loading.\n"
     ]
    },
    {
     "name": "stdout",
     "output_type": "stream",
     "text": [
      "50/50 [==============================] - 288s 6s/step - loss: 0.7855 - accuracy: 0.6405 - val_loss: 0.8803 - val_accuracy: 0.6604\n",
      "Epoch 26/100\n",
      "18/50 [=========>....................] - ETA: 2:14 - loss: 0.2044 - accuracy: 0.8561"
     ]
    },
    {
     "name": "stderr",
     "output_type": "stream",
     "text": [
      "WARNING:absl:Found untraced functions such as lstm_cell_10_layer_call_fn, lstm_cell_10_layer_call_and_return_conditional_losses, lstm_cell_11_layer_call_fn, lstm_cell_11_layer_call_and_return_conditional_losses, lstm_cell_13_layer_call_fn while saving (showing 5 of 12). These functions will not be directly callable after loading.\n"
     ]
    },
    {
     "name": "stdout",
     "output_type": "stream",
     "text": [
      "19/50 [==========>...................] - ETA: 2:10 - loss: 0.1992 - accuracy: 0.8574INFO:tensorflow:Assets written to: ram://f627c652-80cc-4d49-a3f7-94f4c369cb0e/assets\n"
     ]
    },
    {
     "name": "stderr",
     "output_type": "stream",
     "text": [
      "INFO:tensorflow:Assets written to: ram://f627c652-80cc-4d49-a3f7-94f4c369cb0e/assets\n"
     ]
    },
    {
     "name": "stdout",
     "output_type": "stream",
     "text": [
      " 4/50 [=>............................] - ETA: 3:27 - loss: 0.8833 - accuracy: 0.6450Epoch 1/100\n",
      "23/50 [============>.................] - ETA: 1:55 - loss: 0.1977 - accuracy: 0.8570INFO:tensorflow:Assets written to: ram://45755105-e264-4221-9814-ce44b8814d50/assets\n"
     ]
    },
    {
     "name": "stderr",
     "output_type": "stream",
     "text": [
      "INFO:tensorflow:Assets written to: ram://45755105-e264-4221-9814-ce44b8814d50/assets\n"
     ]
    },
    {
     "name": "stdout",
     "output_type": "stream",
     "text": [
      "24/50 [=============>................] - ETA: 1:14 - loss: 1.1818 - accuracy: 0.3438Epoch 1/50\n",
      "50/50 [==============================] - 261s 5s/step - loss: 0.2170 - accuracy: 0.8504 - val_loss: 0.4820 - val_accuracy: 0.8393\n",
      "Epoch 79/100\n",
      "50/50 [==============================] - 236s 3s/step - loss: 1.0672 - accuracy: 0.5190 - val_loss: 1.1043 - val_accuracy: 0.6216\n",
      "Epoch 2/100\n",
      "50/50 [==============================] - 310s 6s/step - loss: 0.7499 - accuracy: 0.7246 - val_loss: 0.5825 - val_accuracy: 0.7805\n",
      "Epoch 27/100\n",
      "50/50 [==============================] - 211s 4s/step - loss: 0.9991 - accuracy: 0.7022 - val_loss: 0.8347 - val_accuracy: 0.7532\n",
      "Epoch 3/100\n",
      "50/50 [==============================] - 388s 8s/step - loss: 0.2332 - accuracy: 0.8324 - val_loss: 0.5270 - val_accuracy: 0.8108\n",
      "Epoch 80/100\n",
      "17/17 [==============================] - 491s 21s/step - loss: 1.0866 - accuracy: 0.5435 - val_loss: 1.1479 - val_accuracy: 0.6343\n",
      "Epoch 2/50\n",
      "50/50 [==============================] - 191s 4s/step - loss: 0.9583 - accuracy: 0.6763 - val_loss: 0.7680 - val_accuracy: 0.7126\n",
      "Epoch 4/100\n",
      "50/50 [==============================] - 389s 8s/step - loss: 0.7171 - accuracy: 0.7380 - val_loss: 0.4817 - val_accuracy: 0.8557\n",
      "Epoch 28/100\n",
      "50/50 [==============================] - 198s 4s/step - loss: 0.9221 - accuracy: 0.7392 - val_loss: 0.7845 - val_accuracy: 0.7508\n",
      "Epoch 5/100\n",
      "50/50 [==============================] - 385s 8s/step - loss: 0.2442 - accuracy: 0.8370 - val_loss: 0.4219 - val_accuracy: 0.8587\n",
      "Epoch 81/100\n",
      "17/17 [==============================] - 324s 19s/step - loss: 0.9987 - accuracy: 0.6886 - val_loss: 0.9570 - val_accuracy: 0.6483\n",
      "Epoch 3/50\n",
      "50/50 [==============================] - 194s 4s/step - loss: 0.8945 - accuracy: 0.7289 - val_loss: 1.0192 - val_accuracy: 0.6180\n",
      "Epoch 6/100\n",
      "50/50 [==============================] - 394s 8s/step - loss: 0.6714 - accuracy: 0.7169 - val_loss: 0.6305 - val_accuracy: 0.7489\n",
      "Epoch 29/100\n",
      "50/50 [==============================] - 201s 4s/step - loss: 0.8770 - accuracy: 0.6840 - val_loss: 0.6081 - val_accuracy: 0.8727\n",
      "Epoch 7/100\n",
      "17/17 [==============================] - 325s 19s/step - loss: 0.9236 - accuracy: 0.6686 - val_loss: 0.7281 - val_accuracy: 0.6743\n",
      "Epoch 4/50\n",
      "50/50 [==============================] - 392s 8s/step - loss: 0.2171 - accuracy: 0.8429 - val_loss: 0.5163 - val_accuracy: 0.7611\n",
      "Epoch 82/100\n",
      "50/50 [==============================] - 197s 4s/step - loss: 0.9228 - accuracy: 0.7050 - val_loss: 0.8113 - val_accuracy: 0.6871\n",
      "Epoch 8/100\n",
      "50/50 [==============================] - 399s 8s/step - loss: 0.6488 - accuracy: 0.7400 - val_loss: 0.6321 - val_accuracy: 0.7550\n",
      "Epoch 30/100\n",
      "17/17 [==============================] - 340s 20s/step - loss: 0.8942 - accuracy: 0.6996 - val_loss: 0.8029 - val_accuracy: 0.6683\n",
      "Epoch 5/50\n",
      "50/50 [==============================] - 209s 4s/step - loss: 0.8701 - accuracy: 0.6682 - val_loss: 0.8720 - val_accuracy: 0.6089\n",
      "Epoch 9/100\n",
      "50/50 [==============================] - 409s 8s/step - loss: 0.2105 - accuracy: 0.8467 - val_loss: 0.3679 - val_accuracy: 0.8757\n",
      "Epoch 83/100\n",
      "50/50 [==============================] - 201s 4s/step - loss: 0.8195 - accuracy: 0.7157 - val_loss: 0.8478 - val_accuracy: 0.6562\n",
      "Epoch 10/100\n",
      "50/50 [==============================] - 416s 8s/step - loss: 0.7138 - accuracy: 0.6844 - val_loss: 0.5339 - val_accuracy: 0.8381\n",
      "Epoch 31/100\n",
      "17/17 [==============================] - 332s 20s/step - loss: 0.8948 - accuracy: 0.6377 - val_loss: 0.6556 - val_accuracy: 0.8253\n",
      "Epoch 6/50\n",
      "50/50 [==============================] - 210s 4s/step - loss: 0.8193 - accuracy: 0.7105 - val_loss: 0.9093 - val_accuracy: 0.6095\n",
      "Epoch 11/100\n",
      "50/50 [==============================] - 413s 8s/step - loss: 0.2041 - accuracy: 0.8534 - val_loss: 0.3403 - val_accuracy: 0.8763\n",
      "Epoch 84/100\n",
      "50/50 [==============================] - 230s 5s/step - loss: 0.8234 - accuracy: 0.6803 - val_loss: 0.7936 - val_accuracy: 0.6707\n",
      "Epoch 12/100\n",
      "17/17 [==============================] - 371s 22s/step - loss: 0.8898 - accuracy: 0.6789 - val_loss: 0.9208 - val_accuracy: 0.6022\n",
      "Epoch 7/50\n",
      "50/50 [==============================] - 449s 9s/step - loss: 0.6336 - accuracy: 0.7497 - val_loss: 0.7079 - val_accuracy: 0.6410\n",
      "Epoch 32/100\n",
      "50/50 [==============================] - 198s 4s/step - loss: 0.7739 - accuracy: 0.7042 - val_loss: 0.9065 - val_accuracy: 0.6186\n",
      "Epoch 13/100\n",
      "50/50 [==============================] - 411s 8s/step - loss: 0.1764 - accuracy: 0.8746 - val_loss: 0.4442 - val_accuracy: 0.8217\n",
      "Epoch 85/100\n",
      "17/17 [==============================] - 308s 18s/step - loss: 0.8363 - accuracy: 0.6925 - val_loss: 0.8530 - val_accuracy: 0.6907\n",
      "Epoch 8/50\n",
      "50/50 [==============================] - 189s 4s/step - loss: 0.7757 - accuracy: 0.6767 - val_loss: 0.5671 - val_accuracy: 0.7987\n",
      "Epoch 14/100\n",
      "50/50 [==============================] - 377s 8s/step - loss: 0.6021 - accuracy: 0.7012 - val_loss: 0.6185 - val_accuracy: 0.7386\n",
      "Epoch 33/100\n",
      "50/50 [==============================] - 184s 4s/step - loss: 0.7639 - accuracy: 0.7074 - val_loss: 0.5443 - val_accuracy: 0.7738\n",
      "Epoch 15/100\n",
      "17/17 [==============================] - 296s 17s/step - loss: 0.8107 - accuracy: 0.6981 - val_loss: 0.9309 - val_accuracy: 0.6452\n",
      "Epoch 9/50\n",
      "50/50 [==============================] - 366s 7s/step - loss: 0.2116 - accuracy: 0.8674 - val_loss: 0.4870 - val_accuracy: 0.7932\n",
      "Epoch 86/100\n",
      "50/50 [==============================] - 190s 4s/step - loss: 0.8004 - accuracy: 0.6975 - val_loss: 0.7834 - val_accuracy: 0.6367\n",
      "Epoch 16/100\n",
      "50/50 [==============================] - 380s 8s/step - loss: 0.6608 - accuracy: 0.7109 - val_loss: 0.8282 - val_accuracy: 0.6270\n",
      "Epoch 34/100\n",
      "50/50 [==============================] - 209s 4s/step - loss: 0.7912 - accuracy: 0.6464 - val_loss: 0.6999 - val_accuracy: 0.7168\n",
      "Epoch 17/100\n",
      "17/17 [==============================] - 333s 20s/step - loss: 0.8503 - accuracy: 0.6842 - val_loss: 0.8341 - val_accuracy: 0.6483\n",
      "Epoch 10/50\n",
      "50/50 [==============================] - 552s 11s/step - loss: 0.1555 - accuracy: 0.8787 - val_loss: 0.2896 - val_accuracy: 0.8963\n",
      "Epoch 87/100\n",
      "50/50 [==============================] - 329s 7s/step - loss: 0.7278 - accuracy: 0.7208 - val_loss: 0.8939 - val_accuracy: 0.5446\n",
      "Epoch 18/100\n",
      "50/50 [==============================] - 537s 11s/step - loss: 0.6649 - accuracy: 0.7028 - val_loss: 0.7270 - val_accuracy: 0.6883\n",
      "Epoch 35/100\n",
      "17/17 [==============================] - 441s 26s/step - loss: 0.8270 - accuracy: 0.6903 - val_loss: 1.0270 - val_accuracy: 0.5561\n",
      "Epoch 11/50\n",
      "50/50 [==============================] - 180s 4s/step - loss: 0.6989 - accuracy: 0.7024 - val_loss: 0.5753 - val_accuracy: 0.7944\n",
      "Epoch 19/100\n",
      "50/50 [==============================] - 366s 7s/step - loss: 0.1508 - accuracy: 0.9017 - val_loss: 0.3640 - val_accuracy: 0.8733\n",
      "Epoch 88/100\n",
      "50/50 [==============================] - 199s 4s/step - loss: 0.7152 - accuracy: 0.7228 - val_loss: 0.6286 - val_accuracy: 0.7932\n",
      "Epoch 20/100\n",
      "17/17 [==============================] - 320s 19s/step - loss: 0.7958 - accuracy: 0.7297 - val_loss: 0.8472 - val_accuracy: 0.6895\n",
      "Epoch 12/50\n",
      "50/50 [==============================] - 391s 8s/step - loss: 0.6384 - accuracy: 0.7289 - val_loss: 0.5094 - val_accuracy: 0.8253\n",
      "Epoch 36/100\n",
      "50/50 [==============================] - 210s 4s/step - loss: 0.6832 - accuracy: 0.7574 - val_loss: 0.8296 - val_accuracy: 0.6531\n",
      "Epoch 21/100\n",
      "50/50 [==============================] - 415s 8s/step - loss: 0.1595 - accuracy: 0.8801 - val_loss: 0.3799 - val_accuracy: 0.8466\n",
      "Epoch 89/100\n",
      "17/17 [==============================] - 342s 20s/step - loss: 0.7091 - accuracy: 0.7618 - val_loss: 0.5900 - val_accuracy: 0.8029\n",
      "Epoch 13/50\n",
      "50/50 [==============================] - 215s 4s/step - loss: 0.7029 - accuracy: 0.7032 - val_loss: 0.9136 - val_accuracy: 0.5706\n",
      "Epoch 22/100\n",
      "50/50 [==============================] - 432s 9s/step - loss: 0.5621 - accuracy: 0.7345 - val_loss: 0.8300 - val_accuracy: 0.5876\n",
      "Epoch 37/100\n",
      "50/50 [==============================] - 218s 4s/step - loss: 0.7024 - accuracy: 0.7064 - val_loss: 0.6931 - val_accuracy: 0.7483\n",
      "Epoch 23/100\n",
      "50/50 [==============================] - 455s 9s/step - loss: 0.3636 - accuracy: 0.8411 - val_loss: 0.5558 - val_accuracy: 0.7768\n"
     ]
    },
    {
     "name": "stdout",
     "output_type": "stream",
     "text": [
      "Epoch 90/100\n",
      "17/17 [==============================] - 383s 23s/step - loss: 0.7563 - accuracy: 0.7123 - val_loss: 0.7880 - val_accuracy: 0.6653\n",
      "Epoch 14/50\n",
      "50/50 [==============================] - 384s 8s/step - loss: 0.6736 - accuracy: 0.7056 - val_loss: 0.6794 - val_accuracy: 0.7332\n",
      "Epoch 24/100\n",
      "50/50 [==============================] - 689s 14s/step - loss: 0.5972 - accuracy: 0.6994 - val_loss: 0.6812 - val_accuracy: 0.7332\n",
      "Epoch 38/100\n",
      "50/50 [==============================] - 370s 7s/step - loss: 0.6352 - accuracy: 0.7268 - val_loss: 0.6591 - val_accuracy: 0.7356\n",
      "Epoch 25/100\n",
      "17/17 [==============================] - 619s 36s/step - loss: 0.7504 - accuracy: 0.7260 - val_loss: 0.8610 - val_accuracy: 0.6719\n",
      "Epoch 15/50\n",
      "50/50 [==============================] - 717s 14s/step - loss: 0.7971 - accuracy: 0.6292 - val_loss: 1.0469 - val_accuracy: 0.5470\n",
      "Epoch 91/100\n",
      "50/50 [==============================] - 200s 4s/step - loss: 0.6525 - accuracy: 0.6688 - val_loss: 0.6793 - val_accuracy: 0.7180\n",
      "Epoch 26/100\n",
      "50/50 [==============================] - 480s 9s/step - loss: 0.5155 - accuracy: 0.7600 - val_loss: 0.6419 - val_accuracy: 0.7162\n",
      "Epoch 39/100\n",
      "17/17 [==============================] - 322s 19s/step - loss: 0.7811 - accuracy: 0.6666 - val_loss: 0.5900 - val_accuracy: 0.8023\n",
      "Epoch 16/50\n",
      "50/50 [==============================] - 199s 4s/step - loss: 0.6617 - accuracy: 0.7368 - val_loss: 0.6869 - val_accuracy: 0.7508\n",
      "Epoch 27/100\n",
      "50/50 [==============================] - 396s 8s/step - loss: 0.5373 - accuracy: 0.7040 - val_loss: 0.6897 - val_accuracy: 0.7592\n",
      "Epoch 92/100\n",
      "50/50 [==============================] - 202s 4s/step - loss: 0.6124 - accuracy: 0.7204 - val_loss: 0.5717 - val_accuracy: 0.7793\n",
      "Epoch 28/100\n",
      "17/17 [==============================] - 322s 19s/step - loss: 0.7890 - accuracy: 0.6907 - val_loss: 0.6682 - val_accuracy: 0.7890\n",
      "Epoch 17/50\n",
      "50/50 [==============================] - 401s 8s/step - loss: 0.5058 - accuracy: 0.7452 - val_loss: 0.5003 - val_accuracy: 0.8278\n",
      "Epoch 40/100\n",
      "50/50 [==============================] - 201s 4s/step - loss: 0.5816 - accuracy: 0.7212 - val_loss: 0.6804 - val_accuracy: 0.7514\n",
      "Epoch 29/100\n",
      "50/50 [==============================] - 400s 8s/step - loss: 0.4718 - accuracy: 0.7594 - val_loss: 0.5678 - val_accuracy: 0.7683\n",
      "Epoch 93/100\n",
      "17/17 [==============================] - 389s 23s/step - loss: 0.7712 - accuracy: 0.6957 - val_loss: 0.7703 - val_accuracy: 0.6992\n",
      "Epoch 18/50\n",
      "50/50 [==============================] - 264s 5s/step - loss: 0.6113 - accuracy: 0.7424 - val_loss: 0.9360 - val_accuracy: 0.4967\n",
      "Epoch 30/100\n",
      "50/50 [==============================] - 457s 9s/step - loss: 0.5026 - accuracy: 0.7335 - val_loss: 0.4137 - val_accuracy: 0.8593\n",
      "Epoch 41/100\n",
      "50/50 [==============================] - 180s 4s/step - loss: 0.6038 - accuracy: 0.6763 - val_loss: 0.4906 - val_accuracy: 0.8247\n",
      "Epoch 31/100\n",
      "50/50 [==============================] - 432s 9s/step - loss: 0.4941 - accuracy: 0.7224 - val_loss: 0.5732 - val_accuracy: 0.7301\n",
      "Epoch 94/100\n",
      "17/17 [==============================] - 295s 17s/step - loss: 0.6945 - accuracy: 0.7432 - val_loss: 0.5869 - val_accuracy: 0.7993\n",
      "Epoch 19/50\n",
      "50/50 [==============================] - 188s 4s/step - loss: 0.5358 - accuracy: 0.7220 - val_loss: 0.5797 - val_accuracy: 0.7059\n",
      "Epoch 32/100\n",
      "50/50 [==============================] - 386s 8s/step - loss: 0.4886 - accuracy: 0.7839 - val_loss: 0.8266 - val_accuracy: 0.6325\n",
      "Epoch 42/100\n",
      "50/50 [==============================] - 222s 4s/step - loss: 0.5200 - accuracy: 0.7345 - val_loss: 0.5938 - val_accuracy: 0.7477\n",
      "Epoch 33/100\n",
      "17/17 [==============================] - 344s 20s/step - loss: 0.6827 - accuracy: 0.7430 - val_loss: 0.6402 - val_accuracy: 0.7890\n",
      "Epoch 20/50\n",
      "50/50 [==============================] - 419s 8s/step - loss: 0.3931 - accuracy: 0.7746 - val_loss: 0.5871 - val_accuracy: 0.7259\n",
      "Epoch 95/100\n",
      "50/50 [==============================] - 222s 4s/step - loss: 0.6001 - accuracy: 0.7353 - val_loss: 1.0085 - val_accuracy: 0.5355\n",
      "Epoch 34/100\n",
      "50/50 [==============================] - 454s 9s/step - loss: 0.6036 - accuracy: 0.6856 - val_loss: 0.6544 - val_accuracy: 0.7404\n",
      "Epoch 43/100\n",
      "17/17 [==============================] - 362s 21s/step - loss: 0.6082 - accuracy: 0.7962 - val_loss: 0.5407 - val_accuracy: 0.8326\n",
      "Epoch 21/50\n",
      "50/50 [==============================] - 226s 5s/step - loss: 0.5923 - accuracy: 0.7434 - val_loss: 0.6805 - val_accuracy: 0.6950\n",
      "Epoch 35/100\n",
      "50/50 [==============================] - 454s 9s/step - loss: 0.2965 - accuracy: 0.8037 - val_loss: 0.4587 - val_accuracy: 0.8065\n",
      "Epoch 96/100\n",
      "50/50 [==============================] - 230s 5s/step - loss: 0.5260 - accuracy: 0.7313 - val_loss: 0.7545 - val_accuracy: 0.6762\n",
      "Epoch 36/100\n",
      "17/17 [==============================] - 365s 22s/step - loss: 0.6435 - accuracy: 0.6979 - val_loss: 1.0170 - val_accuracy: 0.5252\n",
      "Epoch 22/50\n",
      "50/50 [==============================] - 454s 9s/step - loss: 0.4977 - accuracy: 0.7382 - val_loss: 0.6207 - val_accuracy: 0.7477\n",
      "Epoch 44/100\n",
      "50/50 [==============================] - 231s 5s/step - loss: 0.5550 - accuracy: 0.7230 - val_loss: 0.6069 - val_accuracy: 0.7071\n",
      "Epoch 37/100\n",
      "50/50 [==============================] - 454s 9s/step - loss: 0.2382 - accuracy: 0.8415 - val_loss: 0.3681 - val_accuracy: 0.8696\n",
      "Epoch 97/100\n",
      "17/17 [==============================] - 376s 22s/step - loss: 0.6842 - accuracy: 0.7014 - val_loss: 0.4409 - val_accuracy: 0.8472\n",
      "Epoch 23/50\n",
      "50/50 [==============================] - 235s 5s/step - loss: 0.4575 - accuracy: 0.7188 - val_loss: 0.6797 - val_accuracy: 0.7398\n",
      "Epoch 38/100\n",
      "50/50 [==============================] - 469s 9s/step - loss: 0.4477 - accuracy: 0.7689 - val_loss: 0.5335 - val_accuracy: 0.8102\n",
      "Epoch 45/100\n",
      "50/50 [==============================] - 232s 5s/step - loss: 0.4655 - accuracy: 0.7562 - val_loss: 0.6197 - val_accuracy: 0.7526\n",
      "Epoch 39/100\n",
      "50/50 [==============================] - 465s 9s/step - loss: 0.2154 - accuracy: 0.8494 - val_loss: 0.3903 - val_accuracy: 0.8514\n",
      "Epoch 98/100\n",
      "17/17 [==============================] - 371s 22s/step - loss: 0.6816 - accuracy: 0.7408 - val_loss: 0.6371 - val_accuracy: 0.7168\n",
      "Epoch 24/50\n",
      "50/50 [==============================] - 223s 4s/step - loss: 0.5305 - accuracy: 0.7000 - val_loss: 0.9045 - val_accuracy: 0.5749\n",
      "Epoch 40/100\n",
      "50/50 [==============================] - 447s 9s/step - loss: 0.4374 - accuracy: 0.7497 - val_loss: 0.5715 - val_accuracy: 0.7441\n",
      "Epoch 46/100\n",
      "50/50 [==============================] - 214s 4s/step - loss: 0.5134 - accuracy: 0.6771 - val_loss: 0.5308 - val_accuracy: 0.8090\n",
      "Epoch 41/100\n",
      "17/17 [==============================] - 347s 20s/step - loss: 0.6022 - accuracy: 0.7184 - val_loss: 0.8486 - val_accuracy: 0.6549\n",
      "Epoch 25/50\n",
      "50/50 [==============================] - 421s 8s/step - loss: 0.2169 - accuracy: 0.8546 - val_loss: 0.6033 - val_accuracy: 0.7599\n",
      "Epoch 99/100\n",
      "50/50 [==============================] - 188s 4s/step - loss: 0.5024 - accuracy: 0.7776 - val_loss: 0.6265 - val_accuracy: 0.7774\n",
      "Epoch 42/100\n",
      "50/50 [==============================] - 395s 8s/step - loss: 0.5043 - accuracy: 0.7264 - val_loss: 0.3457 - val_accuracy: 0.8987\n",
      "Epoch 47/100\n",
      "17/17 [==============================] - 304s 18s/step - loss: 0.5898 - accuracy: 0.7091 - val_loss: 0.6118 - val_accuracy: 0.7726\n",
      "Epoch 26/50\n",
      "50/50 [==============================] - 187s 4s/step - loss: 0.4264 - accuracy: 0.7879 - val_loss: 0.6796 - val_accuracy: 0.6689\n",
      "Epoch 43/100\n",
      "50/50 [==============================] - 371s 7s/step - loss: 0.3265 - accuracy: 0.7998 - val_loss: 0.6003 - val_accuracy: 0.7690\n",
      "Epoch 100/100\n",
      "50/50 [==============================] - 187s 4s/step - loss: 0.4433 - accuracy: 0.7422 - val_loss: 0.5788 - val_accuracy: 0.7878\n",
      "Epoch 44/100\n",
      "17/17 [==============================] - 295s 17s/step - loss: 0.6055 - accuracy: 0.7871 - val_loss: 0.8160 - val_accuracy: 0.6483\n",
      "Epoch 27/50\n",
      "50/50 [==============================] - 370s 7s/step - loss: 0.6299 - accuracy: 0.6987 - val_loss: 0.5970 - val_accuracy: 0.7344\n",
      "Epoch 48/100\n",
      "50/50 [==============================] - 184s 4s/step - loss: 0.3763 - accuracy: 0.7986 - val_loss: 0.6045 - val_accuracy: 0.6756\n",
      "Epoch 45/100\n"
     ]
    },
    {
     "name": "stdout",
     "output_type": "stream",
     "text": [
      "50/50 [==============================] - 365s 7s/step - loss: 0.2716 - accuracy: 0.8352 - val_loss: 0.4254 - val_accuracy: 0.8272\n",
      "69/69 [==============================] - 58s 842ms/step - loss: 0.4513 - accuracy: 0.8154\n",
      "17/17 [==============================] - 286s 17s/step - loss: 0.5759 - accuracy: 0.6577 - val_loss: 0.5845 - val_accuracy: 0.7568\n",
      "Epoch 28/50\n",
      "50/50 [==============================] - 171s 3s/step - loss: 0.4286 - accuracy: 0.7523 - val_loss: 0.5174 - val_accuracy: 0.8169\n",
      "Epoch 46/100\n",
      "69/69 [==============================] - 98s 818ms/stepss: 0.4281 - accuracy\n",
      "50/50 [==============================] - 347s 7s/step - loss: 0.4893 - accuracy: 0.7339 - val_loss: 0.5122 - val_accuracy: 0.7744\n",
      "Epoch 49/100\n",
      "50/50 [==============================] - 150s 3s/step - loss: 0.4431 - accuracy: 0.7580 - val_loss: 0.5896 - val_accuracy: 0.7411\n",
      "Epoch 47/100\n",
      "17/17 [==============================] - 232s 13s/step - loss: 0.4888 - accuracy: 0.8021 - val_loss: 0.5357 - val_accuracy: 0.7950\n",
      "Epoch 29/50\n",
      "42/50 [========================>.....] - ETA: 42s - loss: 0.4101 - accuracy: 0.7517"
     ]
    },
    {
     "name": "stderr",
     "output_type": "stream",
     "text": [
      "WARNING:absl:Found untraced functions such as lstm_cell_1_layer_call_fn, lstm_cell_1_layer_call_and_return_conditional_losses, lstm_cell_2_layer_call_fn, lstm_cell_2_layer_call_and_return_conditional_losses, lstm_cell_4_layer_call_fn while saving (showing 5 of 12). These functions will not be directly callable after loading.\n"
     ]
    },
    {
     "name": "stdout",
     "output_type": "stream",
     "text": [
      "50/50 [==============================] - 145s 3s/step - loss: 0.3616 - accuracy: 0.7897 - val_loss: 0.6066 - val_accuracy: 0.7326\n",
      "Epoch 48/100\n",
      "16/50 [========>.....................] - ETA: 1:29 - loss: 0.4596 - accuracy: 0.7500INFO:tensorflow:Assets written to: ram://b51bc778-897a-4496-abfb-e5855fc78adb/assets\n"
     ]
    },
    {
     "name": "stderr",
     "output_type": "stream",
     "text": [
      "INFO:tensorflow:Assets written to: ram://b51bc778-897a-4496-abfb-e5855fc78adb/assets\n"
     ]
    },
    {
     "name": "stdout",
     "output_type": "stream",
     "text": [
      "50/50 [==============================] - 286s 6s/step - loss: 0.4198 - accuracy: 0.7582 - val_loss: 0.5651 - val_accuracy: 0.7817\n",
      "Epoch 50/100\n",
      " 1/50 [..............................] - ETA: 4:44 - loss: 0.3090 - accuracy: 0.7800Epoch 1/50\n",
      "50/50 [==============================] - 147s 3s/step - loss: 0.4301 - accuracy: 0.7386 - val_loss: 0.3795 - val_accuracy: 0.8696\n",
      "Epoch 49/100\n",
      "17/17 [==============================] - 233s 14s/step - loss: 0.4858 - accuracy: 0.7331 - val_loss: 0.3916 - val_accuracy: 0.8830\n",
      "Epoch 30/50\n",
      "50/50 [==============================] - 183s 4s/step - loss: 0.3672 - accuracy: 0.7723 - val_loss: 0.6176 - val_accuracy: 0.7022\n",
      "Epoch 50/100\n",
      "17/17 [==============================] - 325s 14s/step - loss: 1.0614 - accuracy: 0.4931 - val_loss: 1.4022 - val_accuracy: 0.5039\n",
      "Epoch 2/50\n",
      "50/50 [==============================] - 333s 7s/step - loss: 0.4072 - accuracy: 0.7357 - val_loss: 0.5814 - val_accuracy: 0.7962\n",
      "Epoch 51/100\n",
      "17/17 [==============================] - 292s 17s/step - loss: 0.5707 - accuracy: 0.7778 - val_loss: 0.4926 - val_accuracy: 0.8120\n",
      "Epoch 31/50\n",
      "50/50 [==============================] - 180s 4s/step - loss: 0.3919 - accuracy: 0.7776 - val_loss: 0.5756 - val_accuracy: 0.7787\n",
      "Epoch 51/100\n",
      "17/17 [==============================] - 153s 9s/step - loss: 0.9888 - accuracy: 0.6981 - val_loss: 0.9295 - val_accuracy: 0.6968\n",
      "Epoch 3/50\n",
      "17/17 [==============================] - 137s 8s/step - loss: 0.9386 - accuracy: 0.7113 - val_loss: 1.0661 - val_accuracy: 0.6082\n",
      "Epoch 4/50\n",
      "50/50 [==============================] - 183s 4s/step - loss: 0.3683 - accuracy: 0.7491 - val_loss: 0.5107 - val_accuracy: 0.8041\n",
      "Epoch 52/100\n",
      "17/17 [==============================] - 308s 18s/step - loss: 0.5372 - accuracy: 0.7879 - val_loss: 0.5269 - val_accuracy: 0.8266\n",
      "Epoch 32/50\n",
      "50/50 [==============================] - 379s 8s/step - loss: 0.3941 - accuracy: 0.7705 - val_loss: 0.5076 - val_accuracy: 0.8126\n",
      "Epoch 52/100\n",
      "17/17 [==============================] - 145s 9s/step - loss: 0.8823 - accuracy: 0.7388 - val_loss: 0.7981 - val_accuracy: 0.7526\n",
      "Epoch 5/50\n",
      "50/50 [==============================] - 188s 4s/step - loss: 0.3442 - accuracy: 0.7675 - val_loss: 0.6814 - val_accuracy: 0.7295\n",
      "Epoch 53/100\n",
      "17/17 [==============================] - 145s 9s/step - loss: 0.8694 - accuracy: 0.6941 - val_loss: 0.6094 - val_accuracy: 0.7932\n",
      "Epoch 6/50\n",
      "50/50 [==============================] - 183s 4s/step - loss: 0.3587 - accuracy: 0.7810 - val_loss: 0.6254 - val_accuracy: 0.7459\n",
      "Epoch 54/100\n",
      "17/17 [==============================] - 302s 18s/step - loss: 0.4621 - accuracy: 0.7865 - val_loss: 0.6153 - val_accuracy: 0.7611\n",
      "Epoch 33/50\n",
      "17/17 [==============================] - 134s 8s/step - loss: 0.8455 - accuracy: 0.7450 - val_loss: 0.8211 - val_accuracy: 0.7101\n",
      "Epoch 7/50\n",
      "50/50 [==============================] - 367s 7s/step - loss: 0.3719 - accuracy: 0.7729 - val_loss: 0.4371 - val_accuracy: 0.8078\n",
      "Epoch 53/100\n",
      "50/50 [==============================] - 177s 4s/step - loss: 0.3401 - accuracy: 0.7952 - val_loss: 0.7196 - val_accuracy: 0.6810\n",
      "Epoch 55/100\n",
      "17/17 [==============================] - 134s 8s/step - loss: 0.8218 - accuracy: 0.7200 - val_loss: 0.6069 - val_accuracy: 0.8369\n",
      "Epoch 8/50\n",
      "17/17 [==============================] - 283s 17s/step - loss: 0.4780 - accuracy: 0.7661 - val_loss: 0.7586 - val_accuracy: 0.6719\n",
      "Epoch 34/50\n",
      "17/17 [==============================] - 130s 8s/step - loss: 0.8839 - accuracy: 0.6496 - val_loss: 0.8211 - val_accuracy: 0.6677\n",
      "Epoch 9/50\n",
      "50/50 [==============================] - 173s 3s/step - loss: 0.4416 - accuracy: 0.7477 - val_loss: 0.8142 - val_accuracy: 0.7041\n",
      "Epoch 56/100\n",
      "50/50 [==============================] - 351s 7s/step - loss: 0.4411 - accuracy: 0.7141 - val_loss: 0.6389 - val_accuracy: 0.6653\n",
      "Epoch 54/100\n",
      "17/17 [==============================] - 133s 8s/step - loss: 0.8567 - accuracy: 0.6698 - val_loss: 0.9870 - val_accuracy: 0.5676\n",
      "Epoch 10/50\n",
      "50/50 [==============================] - 172s 3s/step - loss: 0.3628 - accuracy: 0.7428 - val_loss: 0.6199 - val_accuracy: 0.6986\n",
      "Epoch 57/100\n",
      "17/17 [==============================] - 131s 8s/step - loss: 0.8428 - accuracy: 0.7085 - val_loss: 0.9899 - val_accuracy: 0.6010\n",
      "Epoch 11/50\n",
      "17/17 [==============================] - 284s 17s/step - loss: 0.4900 - accuracy: 0.7703 - val_loss: 0.7356 - val_accuracy: 0.5694\n",
      "Epoch 35/50\n",
      "50/50 [==============================] - 171s 3s/step - loss: 0.3690 - accuracy: 0.7606 - val_loss: 0.4983 - val_accuracy: 0.7738\n",
      "Epoch 58/100\n",
      "17/17 [==============================] - 131s 8s/step - loss: 0.7979 - accuracy: 0.7210 - val_loss: 0.6316 - val_accuracy: 0.8041\n",
      "Epoch 12/50\n",
      "50/50 [==============================] - 351s 7s/step - loss: 0.4394 - accuracy: 0.7762 - val_loss: 0.6108 - val_accuracy: 0.7338\n",
      "Epoch 55/100\n",
      "17/17 [==============================] - 141s 8s/step - loss: 0.7967 - accuracy: 0.7612 - val_loss: 0.6799 - val_accuracy: 0.7647\n",
      "Epoch 13/50\n",
      "17/17 [==============================] - 292s 17s/step - loss: 0.4961 - accuracy: 0.6686 - val_loss: 0.4073 - val_accuracy: 0.8575\n",
      "Epoch 36/50\n",
      "50/50 [==============================] - 183s 4s/step - loss: 0.3689 - accuracy: 0.7802 - val_loss: 0.5959 - val_accuracy: 0.6543\n",
      "Epoch 59/100\n",
      "17/17 [==============================] - 145s 9s/step - loss: 0.7491 - accuracy: 0.7521 - val_loss: 0.7034 - val_accuracy: 0.7884\n",
      "Epoch 14/50\n",
      "50/50 [==============================] - 196s 4s/step - loss: 0.3830 - accuracy: 0.7337 - val_loss: 0.4902 - val_accuracy: 0.7829\n",
      "Epoch 60/100\n",
      "17/17 [==============================] - 147s 9s/step - loss: 0.8108 - accuracy: 0.7180 - val_loss: 0.5878 - val_accuracy: 0.7847\n",
      "Epoch 15/50\n",
      "50/50 [==============================] - 384s 8s/step - loss: 0.4156 - accuracy: 0.7643 - val_loss: 0.4784 - val_accuracy: 0.8217\n",
      "Epoch 56/100\n",
      "17/17 [==============================] - 313s 19s/step - loss: 0.4567 - accuracy: 0.7946 - val_loss: 0.5639 - val_accuracy: 0.7871\n",
      "Epoch 37/50\n",
      "50/50 [==============================] - 183s 4s/step - loss: 0.3782 - accuracy: 0.7770 - val_loss: 0.5940 - val_accuracy: 0.7277\n",
      "Epoch 61/100\n",
      "17/17 [==============================] - 139s 8s/step - loss: 0.7846 - accuracy: 0.7198 - val_loss: 0.6419 - val_accuracy: 0.7635\n",
      "Epoch 16/50\n",
      "17/17 [==============================] - 137s 8s/step - loss: 0.7320 - accuracy: 0.7034 - val_loss: 0.5579 - val_accuracy: 0.7859\n",
      "Epoch 17/50\n",
      "50/50 [==============================] - 179s 4s/step - loss: 0.4181 - accuracy: 0.7452 - val_loss: 0.6534 - val_accuracy: 0.6931\n",
      "Epoch 62/100\n",
      "17/17 [==============================] - 287s 17s/step - loss: 0.4802 - accuracy: 0.7220 - val_loss: 0.5133 - val_accuracy: 0.8241\n",
      "Epoch 38/50\n",
      "50/50 [==============================] - 355s 7s/step - loss: 0.4179 - accuracy: 0.7636 - val_loss: 0.6027 - val_accuracy: 0.7156\n",
      "Epoch 57/100\n",
      "17/17 [==============================] - 130s 8s/step - loss: 0.6943 - accuracy: 0.7182 - val_loss: 0.6838 - val_accuracy: 0.7053\n",
      "Epoch 18/50\n",
      "50/50 [==============================] - 175s 4s/step - loss: 0.5297 - accuracy: 0.6783 - val_loss: 0.5349 - val_accuracy: 0.7799\n",
      "Epoch 63/100\n",
      "17/17 [==============================] - 134s 8s/step - loss: 0.7428 - accuracy: 0.6524 - val_loss: 0.5446 - val_accuracy: 0.8163\n",
      "Epoch 19/50\n",
      "17/17 [==============================] - 282s 17s/step - loss: 0.4424 - accuracy: 0.7887 - val_loss: 0.5058 - val_accuracy: 0.7853\n",
      "Epoch 39/50\n",
      "50/50 [==============================] - 176s 4s/step - loss: 0.3985 - accuracy: 0.7499 - val_loss: 0.5327 - val_accuracy: 0.7605\n",
      "Epoch 64/100\n",
      "17/17 [==============================] - 130s 8s/step - loss: 0.6916 - accuracy: 0.7287 - val_loss: 0.5136 - val_accuracy: 0.8241\n",
      "Epoch 20/50\n",
      "50/50 [==============================] - 351s 7s/step - loss: 0.3716 - accuracy: 0.7800 - val_loss: 0.7249 - val_accuracy: 0.6562\n",
      "Epoch 58/100\n",
      "17/17 [==============================] - 131s 8s/step - loss: 0.6691 - accuracy: 0.7432 - val_loss: 0.7865 - val_accuracy: 0.6944\n",
      "Epoch 21/50\n",
      "50/50 [==============================] - 175s 3s/step - loss: 0.4367 - accuracy: 0.7236 - val_loss: 0.6318 - val_accuracy: 0.7053\n",
      "Epoch 65/100\n",
      "17/17 [==============================] - 285s 17s/step - loss: 0.4456 - accuracy: 0.7056 - val_loss: 0.6359 - val_accuracy: 0.7095\n"
     ]
    },
    {
     "name": "stdout",
     "output_type": "stream",
     "text": [
      "Epoch 40/50\n",
      "17/17 [==============================] - 133s 8s/step - loss: 0.6642 - accuracy: 0.7315 - val_loss: 0.6297 - val_accuracy: 0.7617\n",
      "Epoch 22/50\n",
      "50/50 [==============================] - 174s 3s/step - loss: 0.3535 - accuracy: 0.7610 - val_loss: 0.5899 - val_accuracy: 0.7374\n",
      "Epoch 66/100\n",
      "17/17 [==============================] - 131s 8s/step - loss: 0.6504 - accuracy: 0.7550 - val_loss: 0.6490 - val_accuracy: 0.7599\n",
      "Epoch 23/50\n",
      "50/50 [==============================] - 348s 7s/step - loss: 0.3769 - accuracy: 0.7802 - val_loss: 0.4766 - val_accuracy: 0.8114\n",
      "Epoch 59/100\n",
      "50/50 [==============================] - 175s 3s/step - loss: 0.3075 - accuracy: 0.7560 - val_loss: 0.4996 - val_accuracy: 0.8351\n",
      "Epoch 67/100\n",
      "17/17 [==============================] - 280s 17s/step - loss: 0.4172 - accuracy: 0.7238 - val_loss: 0.5302 - val_accuracy: 0.7690\n",
      "Epoch 41/50\n",
      "17/17 [==============================] - 132s 8s/step - loss: 0.6859 - accuracy: 0.6622 - val_loss: 0.9240 - val_accuracy: 0.6258\n",
      "Epoch 24/50\n",
      "17/17 [==============================] - 132s 8s/step - loss: 0.6280 - accuracy: 0.7552 - val_loss: 0.6885 - val_accuracy: 0.7362\n",
      "Epoch 25/50\n",
      "50/50 [==============================] - 174s 3s/step - loss: 0.3095 - accuracy: 0.8122 - val_loss: 0.5368 - val_accuracy: 0.7435\n",
      "Epoch 68/100\n",
      "50/50 [==============================] - 358s 7s/step - loss: 0.3745 - accuracy: 0.7529 - val_loss: 0.7734 - val_accuracy: 0.6719\n",
      "Epoch 60/100\n",
      "17/17 [==============================] - 297s 18s/step - loss: 0.3495 - accuracy: 0.7669 - val_loss: 0.5618 - val_accuracy: 0.7495\n",
      "Epoch 42/50\n",
      "17/17 [==============================] - 150s 9s/step - loss: 0.6673 - accuracy: 0.7196 - val_loss: 0.8310 - val_accuracy: 0.6513\n",
      "Epoch 26/50\n",
      "50/50 [==============================] - 210s 4s/step - loss: 0.2706 - accuracy: 0.7778 - val_loss: 0.5569 - val_accuracy: 0.7332\n",
      "Epoch 69/100\n",
      "17/17 [==============================] - 168s 10s/step - loss: 0.6505 - accuracy: 0.7309 - val_loss: 0.6743 - val_accuracy: 0.7356\n",
      "Epoch 27/50\n",
      "50/50 [==============================] - 229s 5s/step - loss: 0.2907 - accuracy: 0.7810 - val_loss: 0.4361 - val_accuracy: 0.8132\n",
      "Epoch 70/100\n",
      "17/17 [==============================] - 175s 10s/step - loss: 0.6679 - accuracy: 0.7750 - val_loss: 0.6985 - val_accuracy: 0.7271\n",
      "Epoch 28/50\n",
      "17/17 [==============================] - 362s 21s/step - loss: 0.3228 - accuracy: 0.7841 - val_loss: 0.5344 - val_accuracy: 0.7847\n",
      "Epoch 43/50\n",
      "50/50 [==============================] - 456s 9s/step - loss: 0.4006 - accuracy: 0.7461 - val_loss: 0.4630 - val_accuracy: 0.8247\n",
      "Epoch 61/100\n",
      "17/17 [==============================] - 179s 11s/step - loss: 0.6714 - accuracy: 0.6694 - val_loss: 0.6486 - val_accuracy: 0.7241\n",
      "Epoch 29/50\n",
      "50/50 [==============================] - 232s 5s/step - loss: 0.3024 - accuracy: 0.7780 - val_loss: 0.6962 - val_accuracy: 0.6513\n",
      "Epoch 71/100\n",
      "17/17 [==============================] - 144s 9s/step - loss: 0.5306 - accuracy: 0.7697 - val_loss: 0.6238 - val_accuracy: 0.6792\n",
      "Epoch 30/50\n",
      "17/17 [==============================] - 336s 20s/step - loss: 0.4382 - accuracy: 0.7667 - val_loss: 0.7128 - val_accuracy: 0.6252\n",
      "Epoch 44/50\n",
      "50/50 [==============================] - 186s 4s/step - loss: 0.2932 - accuracy: 0.8057 - val_loss: 0.5114 - val_accuracy: 0.7580\n",
      "Epoch 72/100\n",
      "17/17 [==============================] - 131s 8s/step - loss: 0.5252 - accuracy: 0.6753 - val_loss: 0.5184 - val_accuracy: 0.7956\n",
      "Epoch 31/50\n",
      "50/50 [==============================] - 388s 8s/step - loss: 0.3561 - accuracy: 0.7665 - val_loss: 0.5024 - val_accuracy: 0.7762\n",
      "Epoch 62/100\n",
      "50/50 [==============================] - 180s 4s/step - loss: 0.3271 - accuracy: 0.7467 - val_loss: 0.5069 - val_accuracy: 0.7380\n",
      "Epoch 73/100\n",
      "17/17 [==============================] - 143s 8s/step - loss: 0.5645 - accuracy: 0.7060 - val_loss: 0.4393 - val_accuracy: 0.8290\n",
      "Epoch 32/50\n",
      "17/17 [==============================] - 294s 17s/step - loss: 0.4168 - accuracy: 0.7758 - val_loss: 0.5007 - val_accuracy: 0.7744\n",
      "Epoch 45/50\n",
      "17/17 [==============================] - 136s 8s/step - loss: 0.5573 - accuracy: 0.7384 - val_loss: 0.5811 - val_accuracy: 0.7914\n",
      "Epoch 33/50\n",
      "50/50 [==============================] - 183s 4s/step - loss: 0.2866 - accuracy: 0.7972 - val_loss: 0.4590 - val_accuracy: 0.8059\n",
      "Epoch 74/100\n",
      "50/50 [==============================] - 366s 7s/step - loss: 0.3816 - accuracy: 0.7477 - val_loss: 0.6711 - val_accuracy: 0.6798\n",
      "Epoch 63/100\n",
      "17/17 [==============================] - 137s 8s/step - loss: 0.6237 - accuracy: 0.7305 - val_loss: 0.8695 - val_accuracy: 0.6095\n",
      "Epoch 34/50\n",
      "50/50 [==============================] - 181s 4s/step - loss: 0.3189 - accuracy: 0.7913 - val_loss: 0.6326 - val_accuracy: 0.7326\n",
      "Epoch 75/100\n",
      "17/17 [==============================] - 292s 17s/step - loss: 0.3632 - accuracy: 0.7448 - val_loss: 0.3954 - val_accuracy: 0.8702\n",
      "Epoch 46/50\n",
      "17/17 [==============================] - 138s 8s/step - loss: 0.5345 - accuracy: 0.7450 - val_loss: 0.7444 - val_accuracy: 0.6422\n",
      "Epoch 35/50\n",
      "50/50 [==============================] - 184s 4s/step - loss: 0.3292 - accuracy: 0.7952 - val_loss: 0.4688 - val_accuracy: 0.8011\n",
      "Epoch 76/100\n",
      "17/17 [==============================] - 139s 8s/step - loss: 0.4808 - accuracy: 0.7325 - val_loss: 0.7757 - val_accuracy: 0.6750\n",
      "Epoch 36/50\n",
      "50/50 [==============================] - 367s 7s/step - loss: 0.3460 - accuracy: 0.7723 - val_loss: 0.4628 - val_accuracy: 0.8235\n",
      "Epoch 64/100\n",
      "17/17 [==============================] - 296s 17s/step - loss: 0.3507 - accuracy: 0.8006 - val_loss: 0.6362 - val_accuracy: 0.7101\n",
      "Epoch 47/50\n",
      "17/17 [==============================] - 137s 8s/step - loss: 0.4554 - accuracy: 0.7829 - val_loss: 0.6488 - val_accuracy: 0.7635\n",
      "Epoch 37/50\n",
      "50/50 [==============================] - 181s 4s/step - loss: 0.2744 - accuracy: 0.8013 - val_loss: 0.5164 - val_accuracy: 0.7926\n",
      "Epoch 77/100\n",
      "17/17 [==============================] - 138s 8s/step - loss: 0.4518 - accuracy: 0.7709 - val_loss: 0.5044 - val_accuracy: 0.8011\n",
      "Epoch 38/50\n",
      "50/50 [==============================] - 180s 4s/step - loss: 0.2568 - accuracy: 0.8247 - val_loss: 0.5126 - val_accuracy: 0.7671\n",
      "Epoch 78/100\n",
      "17/17 [==============================] - 287s 17s/step - loss: 0.4231 - accuracy: 0.7734 - val_loss: 0.5142 - val_accuracy: 0.7720\n",
      "Epoch 48/50\n",
      "50/50 [==============================] - 357s 7s/step - loss: 0.3085 - accuracy: 0.7766 - val_loss: 0.6012 - val_accuracy: 0.7423\n",
      "Epoch 65/100\n",
      "17/17 [==============================] - 134s 8s/step - loss: 0.4459 - accuracy: 0.7628 - val_loss: 0.5270 - val_accuracy: 0.7859\n",
      "Epoch 39/50\n",
      "50/50 [==============================] - 178s 4s/step - loss: 0.2729 - accuracy: 0.7958 - val_loss: 0.4036 - val_accuracy: 0.8575\n",
      "Epoch 79/100\n",
      "17/17 [==============================] - 135s 8s/step - loss: 0.4666 - accuracy: 0.7186 - val_loss: 0.6772 - val_accuracy: 0.7592\n",
      "Epoch 40/50\n",
      "17/17 [==============================] - 288s 17s/step - loss: 0.3324 - accuracy: 0.7624 - val_loss: 0.5705 - val_accuracy: 0.7423\n",
      "Epoch 49/50\n",
      "17/17 [==============================] - 131s 8s/step - loss: 0.4488 - accuracy: 0.7875 - val_loss: 0.6086 - val_accuracy: 0.7811\n",
      "Epoch 41/50\n",
      "50/50 [==============================] - 176s 4s/step - loss: 0.3598 - accuracy: 0.7552 - val_loss: 0.5497 - val_accuracy: 0.7453\n",
      "Epoch 80/100\n",
      "50/50 [==============================] - 353s 7s/step - loss: 0.3574 - accuracy: 0.7655 - val_loss: 0.6125 - val_accuracy: 0.7156\n",
      "Epoch 66/100\n",
      "17/17 [==============================] - 129s 8s/step - loss: 0.3877 - accuracy: 0.7432 - val_loss: 0.4737 - val_accuracy: 0.8102\n",
      "Epoch 42/50\n",
      "50/50 [==============================] - 174s 3s/step - loss: 0.2574 - accuracy: 0.8251 - val_loss: 0.4724 - val_accuracy: 0.7938\n",
      "Epoch 81/100\n",
      "17/17 [==============================] - 128s 8s/step - loss: 0.3782 - accuracy: 0.7485 - val_loss: 0.4459 - val_accuracy: 0.8387\n",
      "Epoch 43/50\n",
      "17/17 [==============================] - 278s 16s/step - loss: 0.3371 - accuracy: 0.8186 - val_loss: 0.6002 - val_accuracy: 0.7586\n",
      "Epoch 50/50\n",
      "50/50 [==============================] - 173s 3s/step - loss: 0.2259 - accuracy: 0.8435 - val_loss: 0.5794 - val_accuracy: 0.7156\n",
      "Epoch 82/100\n"
     ]
    },
    {
     "name": "stdout",
     "output_type": "stream",
     "text": [
      "17/17 [==============================] - 130s 8s/step - loss: 0.3683 - accuracy: 0.7875 - val_loss: 0.5058 - val_accuracy: 0.8193\n",
      "Epoch 44/50\n",
      "50/50 [==============================] - 342s 7s/step - loss: 0.3813 - accuracy: 0.7827 - val_loss: 0.6860 - val_accuracy: 0.6962\n",
      "Epoch 67/100\n",
      "17/17 [==============================] - 134s 8s/step - loss: 0.4322 - accuracy: 0.7626 - val_loss: 0.7029 - val_accuracy: 0.7168\n",
      "Epoch 45/50\n",
      "50/50 [==============================] - 173s 3s/step - loss: 0.2233 - accuracy: 0.8427 - val_loss: 0.4440 - val_accuracy: 0.8314\n",
      "Epoch 83/100\n",
      "17/17 [==============================] - 275s 16s/step - loss: 0.3199 - accuracy: 0.7911 - val_loss: 0.5784 - val_accuracy: 0.7368\n",
      "69/69 [==============================] - 56s 805ms/step - loss: 0.6672 - accuracy: 0.6817\n",
      "17/17 [==============================] - 125s 7s/step - loss: 0.4817 - accuracy: 0.7349 - val_loss: 0.7364 - val_accuracy: 0.5882\n",
      "Epoch 46/50\n",
      "69/69 [==============================] - 76s 778ms/stepss: 0.4538 - accu\n",
      "50/50 [==============================] - 164s 3s/step - loss: 0.2121 - accuracy: 0.8294 - val_loss: 0.5777 - val_accuracy: 0.7326\n",
      "Epoch 84/100\n",
      "50/50 [==============================] - 321s 6s/step - loss: 0.3263 - accuracy: 0.7954 - val_loss: 0.4597 - val_accuracy: 0.8247\n",
      "Epoch 68/100\n",
      "17/17 [==============================] - 106s 6s/step - loss: 0.4463 - accuracy: 0.7173 - val_loss: 0.4685 - val_accuracy: 0.8260\n",
      "Epoch 47/50\n",
      "50/50 [==============================] - 136s 3s/step - loss: 0.3033 - accuracy: 0.7946 - val_loss: 0.4242 - val_accuracy: 0.8599\n",
      "Epoch 85/100\n",
      "17/17 [==============================] - 101s 6s/step - loss: 0.4124 - accuracy: 0.7915 - val_loss: 0.6094 - val_accuracy: 0.7780\n",
      "Epoch 48/50\n",
      "39/50 [======================>.......] - ETA: 27s - loss: 0.2889 - accuracy: 0.8523"
     ]
    },
    {
     "name": "stderr",
     "output_type": "stream",
     "text": [
      "WARNING:absl:Found untraced functions such as lstm_cell_19_layer_call_fn, lstm_cell_19_layer_call_and_return_conditional_losses, lstm_cell_20_layer_call_fn, lstm_cell_20_layer_call_and_return_conditional_losses, lstm_cell_22_layer_call_fn while saving (showing 5 of 12). These functions will not be directly callable after loading.\n"
     ]
    },
    {
     "name": "stdout",
     "output_type": "stream",
     "text": [
      "17/17 [==============================] - 101s 6s/step - loss: 0.4986 - accuracy: 0.7370 - val_loss: 0.6562 - val_accuracy: 0.7671\n",
      "Epoch 49/50\n",
      "50/50 [==============================] - 136s 3s/step - loss: 0.2805 - accuracy: 0.8486 - val_loss: 0.5091 - val_accuracy: 0.8029\n",
      "Epoch 86/100\n",
      "INFO:tensorflow:Assets written to: ram://d3aac1bd-fcbd-497c-9be1-ea259ceedd3e/assets\n"
     ]
    },
    {
     "name": "stderr",
     "output_type": "stream",
     "text": [
      "INFO:tensorflow:Assets written to: ram://d3aac1bd-fcbd-497c-9be1-ea259ceedd3e/assets\n"
     ]
    },
    {
     "name": "stdout",
     "output_type": "stream",
     "text": [
      " 8/50 [===>..........................] - ETA: 1:48 - loss: 0.2450 - accuracy: 0.8138Epoch 1/100\n",
      "50/50 [==============================] - 274s 5s/step - loss: 0.3374 - accuracy: 0.8049 - val_loss: 0.6437 - val_accuracy: 0.7022\n",
      "Epoch 69/100\n",
      "17/17 [==============================] - 105s 6s/step - loss: 0.4508 - accuracy: 0.7307 - val_loss: 0.5074 - val_accuracy: 0.8114\n",
      "Epoch 50/50\n",
      "50/50 [==============================] - 144s 3s/step - loss: 0.2327 - accuracy: 0.8239 - val_loss: 0.4839 - val_accuracy: 0.7932\n",
      "Epoch 87/100\n",
      "17/17 [==============================] - 129s 8s/step - loss: 0.3931 - accuracy: 0.8229 - val_loss: 0.5425 - val_accuracy: 0.7847\n",
      "69/69 [==============================] - 24s 352ms/step - loss: 0.6208 - accuracy: 0.7467\n",
      "69/69 [==============================] - 51s 351ms/step\n",
      "50/50 [==============================] - 168s 3s/step - loss: 0.3294 - accuracy: 0.8069 - val_loss: 0.5523 - val_accuracy: 0.7168\n",
      "Epoch 88/100\n",
      "50/50 [==============================] - 309s 6s/step - loss: 0.2948 - accuracy: 0.7798 - val_loss: 0.4340 - val_accuracy: 0.8344\n",
      "Epoch 70/100\n",
      "17/17 [==============================] - 380s 16s/step - loss: 1.0511 - accuracy: 0.5679 - val_loss: 0.5127 - val_accuracy: 0.9321\n",
      "Epoch 2/100\n",
      "50/50 [==============================] - 133s 3s/step - loss: 0.4061 - accuracy: 0.7869 - val_loss: 0.4706 - val_accuracy: 0.7647\n",
      "Epoch 89/100\n",
      "43/50 [========================>.....] - ETA: 17s - loss: 0.3608 - accuracy: 0.7549"
     ]
    },
    {
     "name": "stderr",
     "output_type": "stream",
     "text": [
      "WARNING:absl:Found untraced functions such as lstm_cell_10_layer_call_fn, lstm_cell_10_layer_call_and_return_conditional_losses, lstm_cell_11_layer_call_fn, lstm_cell_11_layer_call_and_return_conditional_losses, lstm_cell_13_layer_call_fn while saving (showing 5 of 12). These functions will not be directly callable after loading.\n"
     ]
    },
    {
     "name": "stdout",
     "output_type": "stream",
     "text": [
      "50/50 [==============================] - 139s 3s/step - loss: 0.3515 - accuracy: 0.7600 - val_loss: 0.5749 - val_accuracy: 0.7320\n",
      "Epoch 90/100\n",
      " 5/50 [==>...........................] - ETA: 2:05 - loss: 0.2752 - accuracy: 0.7420INFO:tensorflow:Assets written to: ram://80784f1e-96ea-4767-b7cf-22cbe6b2a0d0/assets\n"
     ]
    },
    {
     "name": "stderr",
     "output_type": "stream",
     "text": [
      "INFO:tensorflow:Assets written to: ram://80784f1e-96ea-4767-b7cf-22cbe6b2a0d0/assets\n"
     ]
    },
    {
     "name": "stdout",
     "output_type": "stream",
     "text": [
      "50/50 [==============================] - ETA: 0s - loss: 0.2676 - accuracy: 0.8324Epoch 1/100\n",
      "17/17 [==============================] - 221s 13s/step - loss: 0.9631 - accuracy: 0.6907 - val_loss: 1.0754 - val_accuracy: 0.6052\n",
      "Epoch 3/100\n",
      "50/50 [==============================] - 278s 6s/step - loss: 0.2676 - accuracy: 0.8324 - val_loss: 0.6160 - val_accuracy: 0.7156\n",
      "Epoch 71/100\n",
      "50/50 [==============================] - 151s 3s/step - loss: 0.2656 - accuracy: 0.8057 - val_loss: 0.4137 - val_accuracy: 0.8381\n",
      "Epoch 91/100\n",
      "17/17 [==============================] - 263s 16s/step - loss: 0.9588 - accuracy: 0.6304 - val_loss: 0.7449 - val_accuracy: 0.7617\n",
      "Epoch 4/100\n",
      "50/50 [==============================] - 170s 3s/step - loss: 0.2277 - accuracy: 0.8344 - val_loss: 0.5072 - val_accuracy: 0.7647\n",
      "Epoch 92/100\n",
      "17/17 [==============================] - 286s 9s/step - loss: 1.0762 - accuracy: 0.3900 - val_loss: 0.8294 - val_accuracy: 0.8108\n",
      "Epoch 2/100\n",
      "50/50 [==============================] - 338s 7s/step - loss: 0.2944 - accuracy: 0.8047 - val_loss: 0.5340 - val_accuracy: 0.7592\n",
      "Epoch 72/100\n",
      "17/17 [==============================] - 143s 8s/step - loss: 0.9895 - accuracy: 0.7155 - val_loss: 0.9499 - val_accuracy: 0.7223\n",
      "Epoch 3/100\n",
      "50/50 [==============================] - 183s 4s/step - loss: 0.2300 - accuracy: 0.8241 - val_loss: 0.4468 - val_accuracy: 0.8417\n",
      "Epoch 93/100\n",
      "17/17 [==============================] - 291s 17s/step - loss: 0.9588 - accuracy: 0.6640 - val_loss: 0.7740 - val_accuracy: 0.7696\n",
      "Epoch 5/100\n",
      "17/17 [==============================] - 133s 8s/step - loss: 0.9434 - accuracy: 0.7736 - val_loss: 0.9759 - val_accuracy: 0.7016\n",
      "Epoch 4/100\n",
      "50/50 [==============================] - 177s 4s/step - loss: 0.1999 - accuracy: 0.8550 - val_loss: 0.3969 - val_accuracy: 0.8636\n",
      "Epoch 94/100\n",
      "17/17 [==============================] - 137s 8s/step - loss: 0.9100 - accuracy: 0.7313 - val_loss: 0.8522 - val_accuracy: 0.7047\n",
      "Epoch 5/100\n",
      "50/50 [==============================] - 356s 7s/step - loss: 0.3626 - accuracy: 0.7590 - val_loss: 0.5474 - val_accuracy: 0.7671\n",
      "Epoch 73/100\n",
      "50/50 [==============================] - 177s 4s/step - loss: 0.2213 - accuracy: 0.8498 - val_loss: 0.5238 - val_accuracy: 0.7653\n",
      "Epoch 95/100\n",
      "17/17 [==============================] - 134s 8s/step - loss: 0.8858 - accuracy: 0.6894 - val_loss: 1.0853 - val_accuracy: 0.5549\n",
      "Epoch 6/100\n",
      "17/17 [==============================] - 284s 17s/step - loss: 0.9164 - accuracy: 0.7036 - val_loss: 0.6586 - val_accuracy: 0.7999\n",
      "Epoch 6/100\n",
      "17/17 [==============================] - 156s 9s/step - loss: 0.8854 - accuracy: 0.6729 - val_loss: 0.8810 - val_accuracy: 0.6998\n",
      "Epoch 7/100\n",
      "50/50 [==============================] - 197s 4s/step - loss: 0.2063 - accuracy: 0.8463 - val_loss: 0.4341 - val_accuracy: 0.8296\n",
      "Epoch 96/100\n",
      "50/50 [==============================] - 371s 7s/step - loss: 0.3702 - accuracy: 0.7736 - val_loss: 0.4201 - val_accuracy: 0.8108\n",
      "Epoch 74/100\n",
      "17/17 [==============================] - 136s 8s/step - loss: 0.8969 - accuracy: 0.6526 - val_loss: 1.2796 - val_accuracy: 0.4239\n",
      "Epoch 8/100\n",
      "17/17 [==============================] - 305s 18s/step - loss: 0.9914 - accuracy: 0.6278 - val_loss: 0.4111 - val_accuracy: 0.8842\n",
      "Epoch 7/100\n",
      "50/50 [==============================] - 174s 3s/step - loss: 0.2126 - accuracy: 0.8336 - val_loss: 0.4457 - val_accuracy: 0.8023\n",
      "Epoch 97/100\n",
      "17/17 [==============================] - 133s 8s/step - loss: 0.8552 - accuracy: 0.6909 - val_loss: 0.6143 - val_accuracy: 0.7981\n",
      "Epoch 9/100\n",
      "50/50 [==============================] - 173s 3s/step - loss: 0.1937 - accuracy: 0.8536 - val_loss: 0.4378 - val_accuracy: 0.8078\n",
      "Epoch 98/100\n",
      "17/17 [==============================] - 131s 8s/step - loss: 0.8767 - accuracy: 0.6438 - val_loss: 0.5528 - val_accuracy: 0.8211\n",
      "Epoch 10/100\n",
      "17/17 [==============================] - 278s 16s/step - loss: 0.8863 - accuracy: 0.7533 - val_loss: 0.7598 - val_accuracy: 0.7368\n",
      "Epoch 8/100\n",
      "50/50 [==============================] - 346s 7s/step - loss: 0.2795 - accuracy: 0.8362 - val_loss: 0.5882 - val_accuracy: 0.7350\n",
      "Epoch 75/100\n",
      "17/17 [==============================] - 131s 8s/step - loss: 0.7970 - accuracy: 0.6967 - val_loss: 0.7379 - val_accuracy: 0.7332\n",
      "Epoch 11/100\n",
      "50/50 [==============================] - 173s 3s/step - loss: 0.2156 - accuracy: 0.8383 - val_loss: 0.5499 - val_accuracy: 0.7599\n",
      "Epoch 99/100\n",
      "17/17 [==============================] - 135s 8s/step - loss: 0.8270 - accuracy: 0.7169 - val_loss: 0.7118 - val_accuracy: 0.7526\n",
      "Epoch 12/100\n",
      "17/17 [==============================] - 284s 17s/step - loss: 0.8453 - accuracy: 0.7024 - val_loss: 0.5911 - val_accuracy: 0.7847\n",
      "Epoch 9/100\n",
      "50/50 [==============================] - 179s 4s/step - loss: 0.1958 - accuracy: 0.8655 - val_loss: 0.5882 - val_accuracy: 0.7471\n",
      "Epoch 100/100\n",
      "17/17 [==============================] - 136s 8s/step - loss: 0.7823 - accuracy: 0.7552 - val_loss: 0.6732 - val_accuracy: 0.7811\n",
      "Epoch 13/100\n",
      "50/50 [==============================] - 356s 7s/step - loss: 0.2528 - accuracy: 0.8075 - val_loss: 0.3954 - val_accuracy: 0.8405\n",
      "Epoch 76/100\n",
      "50/50 [==============================] - 181s 4s/step - loss: 0.2032 - accuracy: 0.8540 - val_loss: 0.5182 - val_accuracy: 0.7714\n",
      "69/69 [==============================] - 26s 382ms/step - loss: 0.4992 - accuracy: 0.7608\n",
      "17/17 [==============================] - 137s 8s/step - loss: 0.7227 - accuracy: 0.7475 - val_loss: 0.7746 - val_accuracy: 0.7132\n",
      "Epoch 14/100\n",
      "69/69 [==============================] - 50s 364ms/stepss: 0.2420 - accuracy: 0.\n",
      "17/17 [==============================] - 279s 16s/step - loss: 0.8392 - accuracy: 0.7052 - val_loss: 0.9697 - val_accuracy: 0.6004\n",
      "Epoch 10/100\n",
      "17/17 [==============================] - 117s 7s/step - loss: 0.8416 - accuracy: 0.6549 - val_loss: 0.7284 - val_accuracy: 0.6786\n",
      "Epoch 15/100\n",
      "50/50 [==============================] - 329s 7s/step - loss: 0.2404 - accuracy: 0.8237 - val_loss: 0.4532 - val_accuracy: 0.8005\n",
      "Epoch 77/100\n",
      "17/17 [==============================] - 118s 7s/step - loss: 0.7723 - accuracy: 0.7323 - val_loss: 0.9524 - val_accuracy: 0.6064\n",
      "Epoch 16/100\n",
      "17/17 [==============================] - 250s 15s/step - loss: 0.8231 - accuracy: 0.7467 - val_loss: 0.6442 - val_accuracy: 0.8114\n",
      "Epoch 11/100\n",
      "22/50 [============>.................] - ETA: 3:09 - loss: 0.2065 - accuracy: 0.8532"
     ]
    },
    {
     "name": "stderr",
     "output_type": "stream",
     "text": [
      "WARNING:absl:Found untraced functions such as lstm_cell_19_layer_call_fn, lstm_cell_19_layer_call_and_return_conditional_losses, lstm_cell_20_layer_call_fn, lstm_cell_20_layer_call_and_return_conditional_losses, lstm_cell_22_layer_call_fn while saving (showing 5 of 12). These functions will not be directly callable after loading.\n"
     ]
    },
    {
     "name": "stdout",
     "output_type": "stream",
     "text": [
      "17/17 [==============================] - 158s 9s/step - loss: 0.7616 - accuracy: 0.7024 - val_loss: 0.6569 - val_accuracy: 0.7738\n",
      "Epoch 17/100\n",
      " 5/17 [=======>......................] - ETA: 3:57 - loss: 0.7828 - accuracy: 0.7807INFO:tensorflow:Assets written to: ram://e2ccc129-d88c-4d76-a209-55d500b6542d/assets\n"
     ]
    },
    {
     "name": "stderr",
     "output_type": "stream",
     "text": [
      "INFO:tensorflow:Assets written to: ram://e2ccc129-d88c-4d76-a209-55d500b6542d/assets\n"
     ]
    },
    {
     "name": "stdout",
     "output_type": "stream",
     "text": [
      "34/50 [===================>..........] - ETA: 2:01 - loss: 0.2134 - accuracy: 0.8471Epoch 1/50\n",
      "17/17 [==============================] - 209s 12s/step - loss: 0.7131 - accuracy: 0.7125 - val_loss: 0.6134 - val_accuracy: 0.7738\n",
      "Epoch 18/100\n",
      "50/50 [==============================] - 455s 9s/step - loss: 0.2214 - accuracy: 0.8457 - val_loss: 0.5506 - val_accuracy: 0.7447\n",
      "Epoch 78/100\n",
      "17/17 [==============================] - 398s 24s/step - loss: 0.8015 - accuracy: 0.7471 - val_loss: 0.6464 - val_accuracy: 0.7768\n",
      "Epoch 12/100\n",
      "17/17 [==============================] - 225s 13s/step - loss: 0.6874 - accuracy: 0.7175 - val_loss: 0.5591 - val_accuracy: 0.8065\n",
      "Epoch 19/100\n",
      "17/17 [==============================] - 259s 15s/step - loss: 0.6721 - accuracy: 0.7275 - val_loss: 0.4349 - val_accuracy: 0.8496\n",
      "Epoch 20/100\n",
      "17/17 [==============================] - 501s 29s/step - loss: 0.7572 - accuracy: 0.7054 - val_loss: 0.9483 - val_accuracy: 0.5367\n",
      "Epoch 13/100\n",
      "17/17 [==============================] - 801s 32s/step - loss: 1.0987 - accuracy: 0.5366 - val_loss: 1.5413 - val_accuracy: 0.4160\n",
      "Epoch 2/50\n",
      "50/50 [==============================] - 622s 13s/step - loss: 0.2308 - accuracy: 0.8247 - val_loss: 0.4295 - val_accuracy: 0.8096\n",
      "Epoch 79/100\n",
      "17/17 [==============================] - 233s 14s/step - loss: 0.6461 - accuracy: 0.7030 - val_loss: 0.7078 - val_accuracy: 0.6992\n",
      "Epoch 21/100\n",
      "17/17 [==============================] - 246s 15s/step - loss: 0.6461 - accuracy: 0.7210 - val_loss: 0.6611 - val_accuracy: 0.7489\n",
      "Epoch 22/100\n",
      "17/17 [==============================] - 501s 30s/step - loss: 0.8098 - accuracy: 0.6595 - val_loss: 0.4965 - val_accuracy: 0.8235\n",
      "Epoch 14/100\n",
      "17/17 [==============================] - 499s 29s/step - loss: 1.0244 - accuracy: 0.6438 - val_loss: 1.0030 - val_accuracy: 0.6471\n",
      "Epoch 3/50\n",
      "17/17 [==============================] - 250s 15s/step - loss: 0.6424 - accuracy: 0.7740 - val_loss: 0.6258 - val_accuracy: 0.7793\n",
      "Epoch 23/100\n",
      "50/50 [==============================] - 641s 13s/step - loss: 0.2210 - accuracy: 0.8235 - val_loss: 0.4587 - val_accuracy: 0.7920\n",
      "Epoch 80/100\n",
      "17/17 [==============================] - 259s 15s/step - loss: 0.6427 - accuracy: 0.6896 - val_loss: 0.5192 - val_accuracy: 0.7629\n",
      "Epoch 24/100\n",
      "17/17 [==============================] - 520s 31s/step - loss: 0.7476 - accuracy: 0.6929 - val_loss: 0.5577 - val_accuracy: 0.8017\n",
      "Epoch 15/100\n",
      "17/17 [==============================] - 516s 30s/step - loss: 0.9401 - accuracy: 0.6749 - val_loss: 0.7108 - val_accuracy: 0.8047\n",
      "Epoch 4/50\n",
      "17/17 [==============================] - 247s 14s/step - loss: 0.6194 - accuracy: 0.7382 - val_loss: 0.5931 - val_accuracy: 0.7835\n",
      " 2/17 [==>...........................] - ETA: 6:37 - loss: 0.6800 - accuracy: 0.7800Epoch 25/100\n",
      "50/50 [==============================] - 647s 13s/step - loss: 0.2560 - accuracy: 0.8261 - val_loss: 0.6257 - val_accuracy: 0.6974\n",
      "Epoch 81/100\n",
      "17/17 [==============================] - 253s 15s/step - loss: 0.5589 - accuracy: 0.6931 - val_loss: 0.4677 - val_accuracy: 0.8144\n",
      "Epoch 26/100\n",
      "17/17 [==============================] - 520s 31s/step - loss: 0.7563 - accuracy: 0.7137 - val_loss: 0.5291 - val_accuracy: 0.8241\n",
      "Epoch 16/100\n",
      "17/17 [==============================] - 511s 30s/step - loss: 0.9127 - accuracy: 0.7507 - val_loss: 0.8841 - val_accuracy: 0.7083\n",
      "Epoch 5/50\n",
      "17/17 [==============================] - 259s 15s/step - loss: 0.6102 - accuracy: 0.7578 - val_loss: 0.7869 - val_accuracy: 0.6289\n",
      "Epoch 27/100\n",
      "17/17 [==============================] - 261s 15s/step - loss: 0.5462 - accuracy: 0.7143 - val_loss: 0.7263 - val_accuracy: 0.7065\n",
      "Epoch 28/100\n",
      "50/50 [==============================] - 664s 13s/step - loss: 0.2135 - accuracy: 0.8534 - val_loss: 0.4588 - val_accuracy: 0.8369\n",
      "Epoch 82/100\n",
      "17/17 [==============================] - 519s 31s/step - loss: 0.7040 - accuracy: 0.6886 - val_loss: 0.7050 - val_accuracy: 0.6877\n",
      "Epoch 17/100\n",
      "17/17 [==============================] - 517s 30s/step - loss: 0.8812 - accuracy: 0.7594 - val_loss: 0.7492 - val_accuracy: 0.8229\n",
      "Epoch 6/50\n",
      "17/17 [==============================] - 264s 16s/step - loss: 0.6455 - accuracy: 0.7087 - val_loss: 0.8789 - val_accuracy: 0.5913\n",
      "Epoch 29/100\n",
      "17/17 [==============================] - 159s 9s/step - loss: 0.6757 - accuracy: 0.7034 - val_loss: 0.5762 - val_accuracy: 0.7847\n",
      "Epoch 30/100\n",
      "17/17 [==============================] - 362s 21s/step - loss: 0.7314 - accuracy: 0.6884 - val_loss: 0.3906 - val_accuracy: 0.8702\n",
      "Epoch 18/100\n",
      "17/17 [==============================] - 351s 20s/step - loss: 0.8884 - accuracy: 0.6880 - val_loss: 0.6741 - val_accuracy: 0.7332\n",
      "Epoch 7/50\n",
      "17/17 [==============================] - 152s 9s/step - loss: 0.6155 - accuracy: 0.6862 - val_loss: 0.6965 - val_accuracy: 0.6422\n",
      "Epoch 31/100\n",
      "50/50 [==============================] - 455s 9s/step - loss: 0.2532 - accuracy: 0.8261 - val_loss: 0.5184 - val_accuracy: 0.7696\n",
      "Epoch 83/100\n",
      "17/17 [==============================] - 172s 10s/step - loss: 0.6059 - accuracy: 0.7475 - val_loss: 0.5935 - val_accuracy: 0.7835\n",
      "Epoch 32/100\n",
      "17/17 [==============================] - 363s 22s/step - loss: 0.6961 - accuracy: 0.7093 - val_loss: 0.5199 - val_accuracy: 0.8284\n",
      "Epoch 19/100\n",
      "17/17 [==============================] - 363s 22s/step - loss: 0.8687 - accuracy: 0.7459 - val_loss: 0.6126 - val_accuracy: 0.8460\n",
      "Epoch 8/50\n",
      "17/17 [==============================] - 187s 11s/step - loss: 0.5094 - accuracy: 0.8021 - val_loss: 0.5258 - val_accuracy: 0.8120\n",
      "Epoch 33/100\n",
      "50/50 [==============================] - 456s 9s/step - loss: 0.2463 - accuracy: 0.8235 - val_loss: 0.4071 - val_accuracy: 0.8169\n",
      "Epoch 84/100\n",
      "17/17 [==============================] - 175s 10s/step - loss: 0.4869 - accuracy: 0.7054 - val_loss: 0.8998 - val_accuracy: 0.6331\n",
      "Epoch 34/100\n",
      "17/17 [==============================] - 364s 22s/step - loss: 0.6943 - accuracy: 0.7246 - val_loss: 0.8026 - val_accuracy: 0.6847\n",
      "Epoch 20/100\n",
      "17/17 [==============================] - 166s 9s/step - loss: 0.5091 - accuracy: 0.7554 - val_loss: 0.6760 - val_accuracy: 0.6683\n",
      "Epoch 35/100\n",
      "17/17 [==============================] - 364s 21s/step - loss: 0.8384 - accuracy: 0.6874 - val_loss: 0.5387 - val_accuracy: 0.8041\n",
      "Epoch 9/50\n",
      "17/17 [==============================] - 201s 12s/step - loss: 0.4599 - accuracy: 0.7232 - val_loss: 0.6755 - val_accuracy: 0.7089\n",
      "Epoch 36/100\n",
      "50/50 [==============================] - 454s 9s/step - loss: 0.2052 - accuracy: 0.8381 - val_loss: 0.3480 - val_accuracy: 0.8593\n",
      "Epoch 85/100\n",
      "17/17 [==============================] - 186s 11s/step - loss: 0.4583 - accuracy: 0.7410 - val_loss: 0.5771 - val_accuracy: 0.7016\n",
      "Epoch 37/100\n",
      "17/17 [==============================] - 401s 24s/step - loss: 0.6975 - accuracy: 0.7163 - val_loss: 0.5982 - val_accuracy: 0.7471\n",
      "Epoch 21/100\n",
      "17/17 [==============================] - 402s 23s/step - loss: 0.8460 - accuracy: 0.6941 - val_loss: 0.7269 - val_accuracy: 0.7283\n",
      "Epoch 10/50\n",
      "17/17 [==============================] - 171s 10s/step - loss: 0.4032 - accuracy: 0.7440 - val_loss: 0.6781 - val_accuracy: 0.6780\n",
      "Epoch 38/100\n",
      "50/50 [==============================] - 458s 9s/step - loss: 0.2253 - accuracy: 0.8342 - val_loss: 0.4846 - val_accuracy: 0.7841\n",
      "Epoch 86/100\n",
      "17/17 [==============================] - 183s 11s/step - loss: 0.4312 - accuracy: 0.7855 - val_loss: 0.6792 - val_accuracy: 0.6992\n",
      "Epoch 39/100\n",
      "17/17 [==============================] - 369s 22s/step - loss: 0.6097 - accuracy: 0.7548 - val_loss: 0.6249 - val_accuracy: 0.7683\n",
      "Epoch 22/100\n",
      "17/17 [==============================] - 367s 22s/step - loss: 0.8360 - accuracy: 0.7291 - val_loss: 0.6405 - val_accuracy: 0.7726\n",
      "Epoch 11/50\n",
      "17/17 [==============================] - 166s 10s/step - loss: 0.6292 - accuracy: 0.7362 - val_loss: 0.5956 - val_accuracy: 0.7216\n",
      "Epoch 40/100\n",
      "17/17 [==============================] - 178s 10s/step - loss: 0.5272 - accuracy: 0.7105 - val_loss: 0.6448 - val_accuracy: 0.6646\n",
      "Epoch 41/100\n",
      "50/50 [==============================] - 443s 9s/step - loss: 0.2202 - accuracy: 0.8552 - val_loss: 0.5002 - val_accuracy: 0.7847\n",
      "Epoch 87/100\n",
      "17/17 [==============================] - 366s 22s/step - loss: 0.6333 - accuracy: 0.6805 - val_loss: 0.5576 - val_accuracy: 0.7878\n"
     ]
    },
    {
     "name": "stdout",
     "output_type": "stream",
     "text": [
      "Epoch 23/100\n",
      "17/17 [==============================] - 371s 22s/step - loss: 0.7820 - accuracy: 0.7238 - val_loss: 0.9255 - val_accuracy: 0.6349\n",
      "Epoch 12/50\n",
      "17/17 [==============================] - 177s 10s/step - loss: 0.4269 - accuracy: 0.7837 - val_loss: 0.6437 - val_accuracy: 0.7404\n",
      "Epoch 42/100\n",
      "17/17 [==============================] - 178s 10s/step - loss: 0.4139 - accuracy: 0.7901 - val_loss: 0.6596 - val_accuracy: 0.7599\n",
      "Epoch 43/100\n",
      "17/17 [==============================] - 365s 21s/step - loss: 0.6485 - accuracy: 0.7097 - val_loss: 0.6013 - val_accuracy: 0.7611\n",
      "Epoch 24/100\n",
      "17/17 [==============================] - 363s 21s/step - loss: 0.8274 - accuracy: 0.7070 - val_loss: 0.6295 - val_accuracy: 0.7429\n",
      "Epoch 13/50\n",
      "50/50 [==============================] - 455s 9s/step - loss: 0.3022 - accuracy: 0.8308 - val_loss: 0.5228 - val_accuracy: 0.7793\n",
      "Epoch 88/100\n",
      "17/17 [==============================] - 174s 10s/step - loss: 0.3649 - accuracy: 0.7998 - val_loss: 0.5931 - val_accuracy: 0.7047\n",
      "Epoch 44/100\n",
      "17/17 [==============================] - 181s 11s/step - loss: 0.3399 - accuracy: 0.7758 - val_loss: 0.6108 - val_accuracy: 0.7022\n",
      "Epoch 45/100\n",
      "17/17 [==============================] - 375s 22s/step - loss: 0.6123 - accuracy: 0.7584 - val_loss: 0.5703 - val_accuracy: 0.7495\n",
      "Epoch 25/100\n",
      "17/17 [==============================] - 374s 22s/step - loss: 0.7636 - accuracy: 0.6992 - val_loss: 0.8060 - val_accuracy: 0.6871\n",
      "Epoch 14/50\n",
      "17/17 [==============================] - 167s 10s/step - loss: 0.3855 - accuracy: 0.7351 - val_loss: 0.5564 - val_accuracy: 0.8247\n",
      "Epoch 46/100\n",
      "50/50 [==============================] - 434s 9s/step - loss: 0.3385 - accuracy: 0.8122 - val_loss: 0.3890 - val_accuracy: 0.8320\n",
      "Epoch 89/100\n",
      "17/17 [==============================] - 174s 10s/step - loss: 0.4172 - accuracy: 0.7889 - val_loss: 0.4709 - val_accuracy: 0.8405\n",
      "Epoch 47/100\n",
      "17/17 [==============================] - 354s 21s/step - loss: 0.6744 - accuracy: 0.6824 - val_loss: 0.6045 - val_accuracy: 0.7599\n",
      "Epoch 26/100\n",
      "17/17 [==============================] - 353s 21s/step - loss: 0.7466 - accuracy: 0.7020 - val_loss: 0.8369 - val_accuracy: 0.6828\n",
      "Epoch 15/50\n",
      "17/17 [==============================] - 166s 10s/step - loss: 0.4367 - accuracy: 0.7400 - val_loss: 0.5202 - val_accuracy: 0.8102\n",
      "Epoch 48/100\n",
      "50/50 [==============================] - 469s 9s/step - loss: 0.2936 - accuracy: 0.7879 - val_loss: 0.3808 - val_accuracy: 0.8375\n",
      "Epoch 90/100\n",
      "17/17 [==============================] - 209s 12s/step - loss: 0.3830 - accuracy: 0.7416 - val_loss: 0.8420 - val_accuracy: 0.6289\n",
      "Epoch 49/100\n",
      "17/17 [==============================] - 386s 23s/step - loss: 0.6315 - accuracy: 0.7515 - val_loss: 0.7304 - val_accuracy: 0.5737\n",
      "Epoch 27/100\n",
      "17/17 [==============================] - 384s 23s/step - loss: 0.7580 - accuracy: 0.7036 - val_loss: 0.8208 - val_accuracy: 0.6228\n",
      "Epoch 16/50\n",
      "17/17 [==============================] - 149s 9s/step - loss: 0.3752 - accuracy: 0.7248 - val_loss: 0.5617 - val_accuracy: 0.7611\n",
      "Epoch 50/100\n",
      "17/17 [==============================] - 157s 9s/step - loss: 0.3627 - accuracy: 0.8134 - val_loss: 0.7468 - val_accuracy: 0.6410\n",
      "Epoch 51/100\n",
      "50/50 [==============================] - 396s 8s/step - loss: 0.2266 - accuracy: 0.8405 - val_loss: 0.3378 - val_accuracy: 0.8708\n",
      " 8/17 [=============>................] - ETA: 1:06 - loss: 0.3569 - accuracy: 0.6608Epoch 91/100\n",
      "17/17 [==============================] - 309s 18s/step - loss: 0.5583 - accuracy: 0.6905 - val_loss: 0.8936 - val_accuracy: 0.6562\n",
      "Epoch 28/100\n",
      "17/17 [==============================] - 308s 18s/step - loss: 0.7714 - accuracy: 0.7076 - val_loss: 0.7090 - val_accuracy: 0.7247\n",
      "Epoch 17/50\n",
      "17/17 [==============================] - 137s 8s/step - loss: 0.3596 - accuracy: 0.7351 - val_loss: 0.4553 - val_accuracy: 0.8187\n",
      "Epoch 52/100\n",
      "17/17 [==============================] - 162s 9s/step - loss: 0.3417 - accuracy: 0.7592 - val_loss: 0.5298 - val_accuracy: 0.7938\n",
      "Epoch 53/100\n",
      "17/17 [==============================] - 334s 20s/step - loss: 0.6732 - accuracy: 0.7495 - val_loss: 0.6661 - val_accuracy: 0.6804\n",
      "Epoch 29/100\n",
      "17/17 [==============================] - 338s 20s/step - loss: 0.7522 - accuracy: 0.6925 - val_loss: 0.6397 - val_accuracy: 0.7756\n",
      "Epoch 18/50\n",
      "17/17 [==============================] - 165s 9s/step - loss: 0.3848 - accuracy: 0.7794 - val_loss: 0.4875 - val_accuracy: 0.8223\n",
      "Epoch 54/100\n",
      "50/50 [==============================] - 402s 8s/step - loss: 0.2083 - accuracy: 0.8482 - val_loss: 0.4002 - val_accuracy: 0.8120\n",
      "Epoch 92/100\n",
      "17/17 [==============================] - 176s 10s/step - loss: 0.4522 - accuracy: 0.7541 - val_loss: 0.6166 - val_accuracy: 0.7641\n",
      "Epoch 55/100\n",
      "17/17 [==============================] - 357s 21s/step - loss: 0.5348 - accuracy: 0.7228 - val_loss: 0.6580 - val_accuracy: 0.7204\n",
      "Epoch 30/100\n",
      "17/17 [==============================] - 355s 21s/step - loss: 0.7079 - accuracy: 0.7715 - val_loss: 0.8831 - val_accuracy: 0.6598\n",
      "Epoch 19/50\n",
      "17/17 [==============================] - 172s 10s/step - loss: 0.4551 - accuracy: 0.8122 - val_loss: 0.6068 - val_accuracy: 0.7423\n",
      "Epoch 56/100\n",
      "50/50 [==============================] - 464s 9s/step - loss: 0.2106 - accuracy: 0.8520 - val_loss: 0.4921 - val_accuracy: 0.7841\n",
      "Epoch 93/100\n",
      "17/17 [==============================] - 241s 14s/step - loss: 0.4090 - accuracy: 0.7586 - val_loss: 0.5508 - val_accuracy: 0.7495\n",
      "Epoch 57/100\n",
      "17/17 [==============================] - 547s 33s/step - loss: 0.5638 - accuracy: 0.7440 - val_loss: 0.7219 - val_accuracy: 0.6792\n",
      "Epoch 31/100\n",
      "17/17 [==============================] - 310s 18s/step - loss: 0.3645 - accuracy: 0.7665 - val_loss: 0.5959 - val_accuracy: 0.7089\n",
      "Epoch 58/100\n",
      "17/17 [==============================] - 557s 33s/step - loss: 0.7244 - accuracy: 0.7386 - val_loss: 0.5621 - val_accuracy: 0.7720\n",
      "Epoch 20/50\n",
      "17/17 [==============================] - 289s 17s/step - loss: 0.3169 - accuracy: 0.8160 - val_loss: 0.5513 - val_accuracy: 0.7508\n",
      "Epoch 59/100\n",
      "50/50 [==============================] - 751s 15s/step - loss: 0.2115 - accuracy: 0.8403 - val_loss: 0.3771 - val_accuracy: 0.8472\n",
      "Epoch 94/100\n",
      "17/17 [==============================] - 584s 35s/step - loss: 0.5499 - accuracy: 0.7117 - val_loss: 0.7970 - val_accuracy: 0.6228\n",
      "Epoch 32/100\n",
      "17/17 [==============================] - 297s 17s/step - loss: 0.3405 - accuracy: 0.8041 - val_loss: 0.6565 - val_accuracy: 0.6998\n",
      "Epoch 60/100\n",
      "17/17 [==============================] - 585s 35s/step - loss: 0.7701 - accuracy: 0.7058 - val_loss: 0.8145 - val_accuracy: 0.6671\n",
      "Epoch 21/50\n",
      "17/17 [==============================] - 305s 18s/step - loss: 0.3177 - accuracy: 0.7974 - val_loss: 0.6315 - val_accuracy: 0.7235\n",
      "Epoch 61/100\n",
      "50/50 [==============================] - 761s 15s/step - loss: 0.2108 - accuracy: 0.8451 - val_loss: 0.4440 - val_accuracy: 0.8138\n",
      "Epoch 95/100\n",
      "17/17 [==============================] - 598s 36s/step - loss: 0.5750 - accuracy: 0.6773 - val_loss: 0.5961 - val_accuracy: 0.7580\n",
      "Epoch 33/100\n",
      "17/17 [==============================] - 598s 35s/step - loss: 0.6597 - accuracy: 0.7537 - val_loss: 0.6702 - val_accuracy: 0.6913\n",
      "Epoch 22/50\n",
      "17/17 [==============================] - 295s 17s/step - loss: 0.3221 - accuracy: 0.7198 - val_loss: 0.3699 - val_accuracy: 0.8648\n",
      "Epoch 62/100\n",
      "17/17 [==============================] - 313s 18s/step - loss: 0.2895 - accuracy: 0.8288 - val_loss: 0.5652 - val_accuracy: 0.7544\n",
      "Epoch 63/100\n",
      "17/17 [==============================] - 585s 35s/step - loss: 0.4750 - accuracy: 0.7531 - val_loss: 0.6921 - val_accuracy: 0.6938\n",
      "Epoch 34/100\n",
      "17/17 [==============================] - 585s 34s/step - loss: 0.7182 - accuracy: 0.6666 - val_loss: 0.7284 - val_accuracy: 0.7101\n",
      "Epoch 23/50\n",
      "17/17 [==============================] - 282s 17s/step - loss: 0.3019 - accuracy: 0.7962 - val_loss: 0.5783 - val_accuracy: 0.7817\n",
      "Epoch 64/100\n",
      "50/50 [==============================] - 734s 15s/step - loss: 0.1938 - accuracy: 0.8666 - val_loss: 0.4634 - val_accuracy: 0.8150\n",
      "Epoch 96/100\n",
      "17/17 [==============================] - 298s 17s/step - loss: 0.2847 - accuracy: 0.7940 - val_loss: 0.4451 - val_accuracy: 0.8205\n",
      "Epoch 65/100\n"
     ]
    },
    {
     "name": "stdout",
     "output_type": "stream",
     "text": [
      "17/17 [==============================] - 572s 34s/step - loss: 0.4185 - accuracy: 0.7554 - val_loss: 0.5767 - val_accuracy: 0.7677\n",
      "Epoch 35/100\n",
      "17/17 [==============================] - 573s 34s/step - loss: 0.6371 - accuracy: 0.7792 - val_loss: 0.6180 - val_accuracy: 0.7726\n",
      "Epoch 24/50\n",
      "17/17 [==============================] - 272s 16s/step - loss: 0.2775 - accuracy: 0.8255 - val_loss: 0.5501 - val_accuracy: 0.7647\n",
      "Epoch 66/100\n",
      "50/50 [==============================] - 749s 15s/step - loss: 0.1733 - accuracy: 0.8759 - val_loss: 0.4883 - val_accuracy: 0.7975\n",
      "Epoch 97/100\n",
      "17/17 [==============================] - 309s 18s/step - loss: 0.3268 - accuracy: 0.8008 - val_loss: 0.3467 - val_accuracy: 0.8648\n",
      "Epoch 67/100\n",
      "17/17 [==============================] - 597s 36s/step - loss: 0.4966 - accuracy: 0.7159 - val_loss: 0.6755 - val_accuracy: 0.7574\n",
      "Epoch 36/100\n",
      "17/17 [==============================] - 276s 16s/step - loss: 0.2823 - accuracy: 0.7764 - val_loss: 0.3291 - val_accuracy: 0.8830\n",
      "Epoch 68/100\n",
      "17/17 [==============================] - 596s 35s/step - loss: 0.6555 - accuracy: 0.7618 - val_loss: 0.6083 - val_accuracy: 0.7750\n",
      "Epoch 25/50\n",
      "17/17 [==============================] - 283s 17s/step - loss: 0.2797 - accuracy: 0.8114 - val_loss: 0.5492 - val_accuracy: 0.7993\n",
      " 9/17 [==============>...............] - ETA: 4:12 - loss: 0.6680 - accuracy: 0.7585Epoch 69/100\n",
      "50/50 [==============================] - 715s 14s/step - loss: 0.1946 - accuracy: 0.8425 - val_loss: 0.5686 - val_accuracy: 0.8084\n",
      "Epoch 98/100\n",
      "17/17 [==============================] - 553s 33s/step - loss: 0.5955 - accuracy: 0.6755 - val_loss: 0.7563 - val_accuracy: 0.6367\n",
      "Epoch 37/100\n",
      "17/17 [==============================] - 265s 16s/step - loss: 0.2728 - accuracy: 0.8360 - val_loss: 0.5574 - val_accuracy: 0.7586\n",
      "Epoch 70/100\n",
      "17/17 [==============================] - 553s 33s/step - loss: 0.6860 - accuracy: 0.6290 - val_loss: 0.5094 - val_accuracy: 0.8296\n",
      "Epoch 26/50\n",
      "17/17 [==============================] - 297s 18s/step - loss: 0.2903 - accuracy: 0.7893 - val_loss: 0.5889 - val_accuracy: 0.7574\n",
      "Epoch 71/100\n",
      "50/50 [==============================] - 720s 14s/step - loss: 0.3090 - accuracy: 0.8407 - val_loss: 0.4371 - val_accuracy: 0.8029\n",
      "Epoch 99/100\n",
      "17/17 [==============================] - 572s 34s/step - loss: 0.5059 - accuracy: 0.6797 - val_loss: 0.8701 - val_accuracy: 0.6064\n",
      "Epoch 38/100\n",
      "17/17 [==============================] - 273s 16s/step - loss: 0.2689 - accuracy: 0.8542 - val_loss: 0.5347 - val_accuracy: 0.7338\n",
      "Epoch 72/100\n",
      "17/17 [==============================] - 569s 33s/step - loss: 0.7329 - accuracy: 0.6585 - val_loss: 0.4942 - val_accuracy: 0.8199\n",
      "Epoch 27/50\n",
      "17/17 [==============================] - 305s 18s/step - loss: 0.2471 - accuracy: 0.7940 - val_loss: 0.4196 - val_accuracy: 0.8126\n",
      "Epoch 73/100\n",
      "17/17 [==============================] - 593s 35s/step - loss: 0.4704 - accuracy: 0.6862 - val_loss: 0.6145 - val_accuracy: 0.7429\n",
      "Epoch 39/100\n",
      "17/17 [==============================] - 271s 16s/step - loss: 0.2203 - accuracy: 0.8304 - val_loss: 0.4703 - val_accuracy: 0.7944\n",
      "Epoch 74/100\n",
      "17/17 [==============================] - 580s 34s/step - loss: 0.6516 - accuracy: 0.7444 - val_loss: 0.6759 - val_accuracy: 0.7271\n",
      "Epoch 28/50\n",
      "50/50 [==============================] - 729s 15s/step - loss: 0.2418 - accuracy: 0.8401 - val_loss: 0.3920 - val_accuracy: 0.8387\n",
      "Epoch 100/100\n",
      "17/17 [==============================] - 268s 16s/step - loss: 0.2366 - accuracy: 0.8308 - val_loss: 0.5216 - val_accuracy: 0.7295\n",
      "Epoch 75/100\n",
      "17/17 [==============================] - 282s 17s/step - loss: 0.2278 - accuracy: 0.8352 - val_loss: 0.4010 - val_accuracy: 0.8369\n",
      "Epoch 76/100\n",
      "17/17 [==============================] - 554s 33s/step - loss: 0.5510 - accuracy: 0.6899 - val_loss: 0.5192 - val_accuracy: 0.7562\n",
      "Epoch 40/100\n",
      "17/17 [==============================] - 550s 33s/step - loss: 0.6402 - accuracy: 0.7438 - val_loss: 0.6726 - val_accuracy: 0.7665\n",
      "Epoch 29/50\n",
      "50/50 [==============================] - 708s 14s/step - loss: 0.2006 - accuracy: 0.8550 - val_loss: 0.4029 - val_accuracy: 0.8399\n",
      "17/17 [==============================] - 284s 17s/step - loss: 0.2397 - accuracy: 0.8403 - val_loss: 0.7089 - val_accuracy: 0.7398\n",
      "Epoch 77/100\n",
      "69/69 [==============================] - 103s 1s/step - loss: 0.4121 - accuracy: 0.8258\n",
      "69/69 [==============================] - 160s 1s/steposs: 0.3671 - accura\n",
      "17/17 [==============================] - 255s 15s/step - loss: 0.3696 - accuracy: 0.7287 - val_loss: 0.6239 - val_accuracy: 0.7332\n",
      "Epoch 78/100\n",
      "17/17 [==============================] - 546s 32s/step - loss: 0.4439 - accuracy: 0.7632 - val_loss: 0.5917 - val_accuracy: 0.7762\n",
      "Epoch 41/100\n",
      "17/17 [==============================] - 540s 32s/step - loss: 0.5631 - accuracy: 0.7568 - val_loss: 0.5217 - val_accuracy: 0.8090\n",
      "Epoch 30/50\n",
      "17/17 [==============================] - 244s 15s/step - loss: 0.3478 - accuracy: 0.7475 - val_loss: 0.5847 - val_accuracy: 0.7514\n",
      "Epoch 79/100\n",
      "17/17 [==============================] - 219s 13s/step - loss: 0.2920 - accuracy: 0.7699 - val_loss: 0.4618 - val_accuracy: 0.8302\n",
      "Epoch 80/100\n",
      "17/17 [==============================] - 462s 27s/step - loss: 0.4556 - accuracy: 0.6470 - val_loss: 0.7424 - val_accuracy: 0.7144\n",
      "Epoch 42/100\n",
      "17/17 [==============================] - 462s 27s/step - loss: 0.5337 - accuracy: 0.7582 - val_loss: 0.6058 - val_accuracy: 0.6986\n",
      "Epoch 31/50\n",
      " 7/17 [===========>..................] - ETA: 2:35 - loss: 0.2633 - accuracy: 0.8524"
     ]
    },
    {
     "name": "stderr",
     "output_type": "stream",
     "text": [
      "WARNING:absl:Found untraced functions such as lstm_cell_10_layer_call_fn, lstm_cell_10_layer_call_and_return_conditional_losses, lstm_cell_11_layer_call_fn, lstm_cell_11_layer_call_and_return_conditional_losses, lstm_cell_13_layer_call_fn while saving (showing 5 of 12). These functions will not be directly callable after loading.\n"
     ]
    },
    {
     "name": "stdout",
     "output_type": "stream",
     "text": [
      " 8/17 [=============>................] - ETA: 3:59 - loss: 0.5305 - accuracy: 0.6742INFO:tensorflow:Assets written to: ram://d311dd4d-ab95-4c44-9fb1-4deee52f84e4/assets\n"
     ]
    },
    {
     "name": "stderr",
     "output_type": "stream",
     "text": [
      "INFO:tensorflow:Assets written to: ram://d311dd4d-ab95-4c44-9fb1-4deee52f84e4/assets\n"
     ]
    },
    {
     "name": "stdout",
     "output_type": "stream",
     "text": [
      " 9/17 [==============>...............] - ETA: 3:27 - loss: 0.4841 - accuracy: 0.8196Epoch 81/100\n",
      "17/17 [==============================] - 251s 15s/step - loss: 0.2529 - accuracy: 0.8441 - val_loss: 0.4637 - val_accuracy: 0.8223\n",
      "Epoch 1/50\n",
      "17/17 [==============================] - 270s 15s/step - loss: 0.2130 - accuracy: 0.8484 - val_loss: 0.5458 - val_accuracy: 0.7568\n",
      "17/17 [==============================] - 514s 30s/step - loss: 0.4533 - accuracy: 0.8168 - val_loss: 0.5249 - val_accuracy: 0.7890\n",
      "Epoch 82/100\n",
      "Epoch 43/100\n",
      "17/17 [==============================] - 513s 30s/step - loss: 0.5823 - accuracy: 0.7147 - val_loss: 0.6681 - val_accuracy: 0.7374\n",
      "Epoch 32/50\n",
      "17/17 [==============================] - 307s 18s/step - loss: 0.2221 - accuracy: 0.8528 - val_loss: 0.4290 - val_accuracy: 0.8187\n",
      "Epoch 83/100\n",
      "17/17 [==============================] - 769s 22s/step - loss: 1.0518 - accuracy: 0.4850 - val_loss: 0.6664 - val_accuracy: 0.9042\n",
      "Epoch 2/50\n",
      "17/17 [==============================] - 296s 17s/step - loss: 0.2131 - accuracy: 0.8356 - val_loss: 0.4916 - val_accuracy: 0.8023\n",
      "Epoch 84/100\n",
      "17/17 [==============================] - 610s 36s/step - loss: 0.6213 - accuracy: 0.7471 - val_loss: 0.5441 - val_accuracy: 0.8120\n",
      "Epoch 33/50\n",
      "17/17 [==============================] - 618s 36s/step - loss: 0.4375 - accuracy: 0.7258 - val_loss: 0.7628 - val_accuracy: 0.6816\n",
      "Epoch 44/100\n",
      "17/17 [==============================] - 280s 16s/step - loss: 1.0269 - accuracy: 0.6729 - val_loss: 0.8063 - val_accuracy: 0.7950\n",
      "Epoch 3/50\n",
      "17/17 [==============================] - 293s 17s/step - loss: 0.2087 - accuracy: 0.8393 - val_loss: 0.4714 - val_accuracy: 0.8011\n",
      "Epoch 85/100\n",
      "17/17 [==============================] - 293s 17s/step - loss: 0.9510 - accuracy: 0.7295 - val_loss: 0.6197 - val_accuracy: 0.8739\n",
      "Epoch 4/50\n",
      "17/17 [==============================] - 284s 17s/step - loss: 0.2296 - accuracy: 0.8575 - val_loss: 0.4781 - val_accuracy: 0.7696\n",
      "Epoch 86/100\n",
      "17/17 [==============================] - 585s 34s/step - loss: 0.5625 - accuracy: 0.7503 - val_loss: 0.5514 - val_accuracy: 0.7805\n",
      "Epoch 34/50\n",
      "17/17 [==============================] - 584s 34s/step - loss: 0.4246 - accuracy: 0.7594 - val_loss: 0.6516 - val_accuracy: 0.7617\n",
      "Epoch 45/100\n",
      "17/17 [==============================] - 284s 17s/step - loss: 0.9185 - accuracy: 0.7455 - val_loss: 0.7957 - val_accuracy: 0.7932\n",
      "Epoch 5/50\n",
      "17/17 [==============================] - 287s 17s/step - loss: 0.2595 - accuracy: 0.8229 - val_loss: 0.3855 - val_accuracy: 0.8623\n",
      "Epoch 87/100\n",
      "17/17 [==============================] - 264s 16s/step - loss: 0.8900 - accuracy: 0.7085 - val_loss: 0.6575 - val_accuracy: 0.8078\n",
      "Epoch 6/50\n",
      "17/17 [==============================] - 259s 15s/step - loss: 0.2334 - accuracy: 0.8271 - val_loss: 0.3775 - val_accuracy: 0.8557\n",
      "Epoch 88/100\n",
      "17/17 [==============================] - 543s 32s/step - loss: 0.5234 - accuracy: 0.7552 - val_loss: 0.6709 - val_accuracy: 0.7653\n",
      "Epoch 35/50\n",
      "17/17 [==============================] - 551s 32s/step - loss: 0.3839 - accuracy: 0.8021 - val_loss: 0.4379 - val_accuracy: 0.8332\n",
      "Epoch 46/100\n",
      "17/17 [==============================] - 250s 15s/step - loss: 0.8801 - accuracy: 0.7167 - val_loss: 0.6225 - val_accuracy: 0.8326\n",
      "Epoch 7/50\n",
      "17/17 [==============================] - 255s 15s/step - loss: 0.2295 - accuracy: 0.8393 - val_loss: 0.4494 - val_accuracy: 0.8484\n",
      "Epoch 89/100\n",
      "17/17 [==============================] - 271s 16s/step - loss: 0.8765 - accuracy: 0.7580 - val_loss: 1.3024 - val_accuracy: 0.5082\n",
      "Epoch 8/50\n",
      "17/17 [==============================] - 273s 16s/step - loss: 0.2496 - accuracy: 0.8393 - val_loss: 0.3665 - val_accuracy: 0.8684\n",
      "Epoch 90/100\n",
      "17/17 [==============================] - 522s 31s/step - loss: 0.6218 - accuracy: 0.6882 - val_loss: 0.8631 - val_accuracy: 0.5961\n",
      "Epoch 36/50\n",
      "17/17 [==============================] - 530s 31s/step - loss: 0.3402 - accuracy: 0.7738 - val_loss: 0.5579 - val_accuracy: 0.7495\n",
      "Epoch 47/100\n",
      "17/17 [==============================] - 258s 15s/step - loss: 0.9566 - accuracy: 0.5914 - val_loss: 0.6919 - val_accuracy: 0.7799\n",
      "Epoch 9/50\n",
      "17/17 [==============================] - 267s 16s/step - loss: 0.2254 - accuracy: 0.8439 - val_loss: 0.4935 - val_accuracy: 0.8156\n",
      "Epoch 91/100\n",
      "17/17 [==============================] - 268s 16s/step - loss: 0.8716 - accuracy: 0.7452 - val_loss: 0.7155 - val_accuracy: 0.7799\n",
      "Epoch 10/50\n",
      "17/17 [==============================] - 270s 15s/step - loss: 0.3306 - accuracy: 0.7952 - val_loss: 0.4879 - val_accuracy: 0.8169\n",
      "Epoch 92/100\n",
      "17/17 [==============================] - 533s 32s/step - loss: 0.6409 - accuracy: 0.6901 - val_loss: 0.5921 - val_accuracy: 0.7623\n",
      "Epoch 37/50\n",
      "17/17 [==============================] - 538s 32s/step - loss: 0.3770 - accuracy: 0.7746 - val_loss: 0.6548 - val_accuracy: 0.7253\n",
      "Epoch 48/100\n",
      "17/17 [==============================] - 274s 16s/step - loss: 0.8304 - accuracy: 0.7384 - val_loss: 0.5160 - val_accuracy: 0.8702\n",
      "Epoch 11/50\n",
      "17/17 [==============================] - 280s 17s/step - loss: 0.2953 - accuracy: 0.8441 - val_loss: 0.5290 - val_accuracy: 0.7938\n",
      "Epoch 93/100\n",
      "17/17 [==============================] - 277s 16s/step - loss: 0.8410 - accuracy: 0.7262 - val_loss: 0.5434 - val_accuracy: 0.8539\n",
      "Epoch 12/50\n",
      "17/17 [==============================] - 272s 16s/step - loss: 0.2407 - accuracy: 0.8154 - val_loss: 0.3602 - val_accuracy: 0.8714\n",
      "Epoch 94/100\n",
      "17/17 [==============================] - 553s 33s/step - loss: 0.5718 - accuracy: 0.6848 - val_loss: 0.8643 - val_accuracy: 0.6719\n",
      "Epoch 38/50\n",
      "17/17 [==============================] - 552s 32s/step - loss: 0.4067 - accuracy: 0.7651 - val_loss: 0.4046 - val_accuracy: 0.8563\n",
      "Epoch 49/100\n",
      "17/17 [==============================] - 270s 16s/step - loss: 0.8347 - accuracy: 0.7062 - val_loss: 0.6287 - val_accuracy: 0.7968\n",
      "Epoch 13/50\n",
      "17/17 [==============================] - 276s 16s/step - loss: 0.2021 - accuracy: 0.8763 - val_loss: 0.3822 - val_accuracy: 0.8514\n",
      "Epoch 95/100\n",
      "17/17 [==============================] - 276s 16s/step - loss: 0.8364 - accuracy: 0.7058 - val_loss: 0.8577 - val_accuracy: 0.6155\n",
      "Epoch 14/50\n",
      "17/17 [==============================] - 276s 16s/step - loss: 0.1888 - accuracy: 0.8738 - val_loss: 0.3971 - val_accuracy: 0.8557\n",
      "Epoch 96/100\n",
      "17/17 [==============================] - 552s 33s/step - loss: 0.5244 - accuracy: 0.7922 - val_loss: 0.7939 - val_accuracy: 0.6367\n",
      "Epoch 39/50\n",
      "17/17 [==============================] - 554s 33s/step - loss: 0.3638 - accuracy: 0.7827 - val_loss: 0.5935 - val_accuracy: 0.7641\n",
      "Epoch 50/100\n",
      "17/17 [==============================] - 269s 16s/step - loss: 0.7936 - accuracy: 0.7436 - val_loss: 0.7603 - val_accuracy: 0.7653\n",
      "Epoch 15/50\n",
      "17/17 [==============================] - 297s 18s/step - loss: 0.1970 - accuracy: 0.8573 - val_loss: 0.3730 - val_accuracy: 0.8629\n",
      "Epoch 97/100\n",
      "17/17 [==============================] - 309s 18s/step - loss: 0.7681 - accuracy: 0.7560 - val_loss: 0.8492 - val_accuracy: 0.6483\n",
      "Epoch 16/50\n",
      "17/17 [==============================] - 291s 17s/step - loss: 0.1663 - accuracy: 0.8761 - val_loss: 0.3434 - val_accuracy: 0.8599\n",
      "Epoch 98/100\n",
      "17/17 [==============================] - 587s 35s/step - loss: 0.5384 - accuracy: 0.6882 - val_loss: 0.6743 - val_accuracy: 0.6816\n",
      "Epoch 40/50\n",
      "17/17 [==============================] - 588s 35s/step - loss: 0.3377 - accuracy: 0.8221 - val_loss: 0.4667 - val_accuracy: 0.8296\n",
      "Epoch 51/100\n",
      "17/17 [==============================] - 277s 16s/step - loss: 0.7432 - accuracy: 0.6858 - val_loss: 0.6913 - val_accuracy: 0.7174\n",
      "Epoch 17/50\n",
      "17/17 [==============================] - 300s 18s/step - loss: 0.1753 - accuracy: 0.8930 - val_loss: 0.4213 - val_accuracy: 0.8314\n",
      "Epoch 99/100\n",
      "17/17 [==============================] - 305s 18s/step - loss: 0.7138 - accuracy: 0.7426 - val_loss: 0.4916 - val_accuracy: 0.8284\n",
      "Epoch 18/50\n",
      "17/17 [==============================] - 566s 34s/step - loss: 0.5365 - accuracy: 0.7248 - val_loss: 0.8179 - val_accuracy: 0.6349\n",
      "Epoch 41/50\n",
      "17/17 [==============================] - 270s 16s/step - loss: 0.1787 - accuracy: 0.8601 - val_loss: 0.4389 - val_accuracy: 0.8096\n",
      "Epoch 100/100\n"
     ]
    },
    {
     "name": "stdout",
     "output_type": "stream",
     "text": [
      "17/17 [==============================] - 560s 33s/step - loss: 0.3754 - accuracy: 0.7723 - val_loss: 0.5717 - val_accuracy: 0.7756\n",
      "Epoch 52/100\n",
      "17/17 [==============================] - 204s 12s/step - loss: 0.7271 - accuracy: 0.7058 - val_loss: 0.5647 - val_accuracy: 0.7738\n",
      "Epoch 19/50\n",
      "17/17 [==============================] - 166s 10s/step - loss: 0.1719 - accuracy: 0.8926 - val_loss: 0.3822 - val_accuracy: 0.8472\n",
      "69/69 [==============================] - 27s 400ms/step - loss: 0.4237 - accuracy: 0.8240\n",
      "17/17 [==============================] - 149s 9s/step - loss: 0.7698 - accuracy: 0.7161 - val_loss: 0.6804 - val_accuracy: 0.7459\n",
      "Epoch 20/50\n",
      "69/69 [==============================] - 56s 362ms/stepss: 0.7\n",
      "17/17 [==============================] - 300s 17s/step - loss: 0.4845 - accuracy: 0.7353 - val_loss: 0.6411 - val_accuracy: 0.7004\n",
      "Epoch 42/50\n",
      "17/17 [==============================] - 290s 17s/step - loss: 0.3247 - accuracy: 0.7560 - val_loss: 0.5960 - val_accuracy: 0.6974\n",
      "Epoch 53/100\n",
      "17/17 [==============================] - 116s 7s/step - loss: 0.7739 - accuracy: 0.7564 - val_loss: 0.8845 - val_accuracy: 0.6180\n",
      "Epoch 21/50\n",
      "17/17 [==============================] - 125s 7s/step - loss: 0.7046 - accuracy: 0.7374 - val_loss: 0.5204 - val_accuracy: 0.8472\n",
      "Epoch 22/50\n",
      "10/17 [================>.............] - ETA: 41s - loss: 0.7352 - accuracy: 0.6643"
     ]
    },
    {
     "name": "stderr",
     "output_type": "stream",
     "text": [
      "WARNING:absl:Found untraced functions such as lstm_cell_19_layer_call_fn, lstm_cell_19_layer_call_and_return_conditional_losses, lstm_cell_20_layer_call_fn, lstm_cell_20_layer_call_and_return_conditional_losses, lstm_cell_22_layer_call_fn while saving (showing 5 of 12). These functions will not be directly callable after loading.\n"
     ]
    },
    {
     "name": "stdout",
     "output_type": "stream",
     "text": [
      "17/17 [==============================] - 246s 15s/step - loss: 0.4401 - accuracy: 0.7422 - val_loss: 0.5141 - val_accuracy: 0.7999\n",
      "Epoch 43/50\n",
      "17/17 [==============================] - 246s 14s/step - loss: 0.3147 - accuracy: 0.7877 - val_loss: 0.5646 - val_accuracy: 0.7417\n",
      "Epoch 54/100\n",
      "17/17 [==============================] - ETA: 0s - loss: 0.7323 - accuracy: 0.6810INFO:tensorflow:Assets written to: ram://3f39b32e-43fe-44b2-88b1-d6b752d5ceac/assets\n"
     ]
    },
    {
     "name": "stderr",
     "output_type": "stream",
     "text": [
      "INFO:tensorflow:Assets written to: ram://3f39b32e-43fe-44b2-88b1-d6b752d5ceac/assets\n"
     ]
    },
    {
     "name": "stdout",
     "output_type": "stream",
     "text": [
      "17/17 [==============================] - 111s 7s/step - loss: 0.7323 - accuracy: 0.6810 - val_loss: 0.6462 - val_accuracy: 0.7568\n",
      "Epoch 23/50\n",
      " 4/17 [======>.......................] - ETA: 2:46 - loss: 0.2956 - accuracy: 0.7950Epoch 1/100\n",
      "17/17 [==============================] - 151s 9s/step - loss: 0.7253 - accuracy: 0.7554 - val_loss: 0.7661 - val_accuracy: 0.7059\n",
      "Epoch 24/50\n",
      "17/17 [==============================] - 279s 17s/step - loss: 0.3960 - accuracy: 0.7618 - val_loss: 0.6777 - val_accuracy: 0.7022\n",
      "Epoch 44/50\n",
      "17/17 [==============================] - 283s 17s/step - loss: 0.3515 - accuracy: 0.7996 - val_loss: 0.4773 - val_accuracy: 0.7787\n",
      "Epoch 55/100\n",
      "17/17 [==============================] - 137s 8s/step - loss: 0.6890 - accuracy: 0.6949 - val_loss: 0.5635 - val_accuracy: 0.7890\n",
      "Epoch 25/50\n",
      "17/17 [==============================] - 180s 11s/step - loss: 0.6653 - accuracy: 0.7428 - val_loss: 0.7385 - val_accuracy: 0.7314\n",
      "Epoch 26/50\n",
      "17/17 [==============================] - 340s 20s/step - loss: 0.4310 - accuracy: 0.7321 - val_loss: 0.6765 - val_accuracy: 0.7465\n",
      "Epoch 45/50\n",
      "17/17 [==============================] - 561s 22s/step - loss: 1.0685 - accuracy: 0.5623 - val_loss: 1.4419 - val_accuracy: 0.5064\n",
      "Epoch 2/100\n",
      "17/17 [==============================] - 336s 20s/step - loss: 0.4920 - accuracy: 0.6749 - val_loss: 0.4897 - val_accuracy: 0.7884\n",
      "Epoch 56/100\n",
      "17/17 [==============================] - 141s 8s/step - loss: 0.6920 - accuracy: 0.7121 - val_loss: 0.8348 - val_accuracy: 0.6677\n",
      "Epoch 27/50\n",
      "17/17 [==============================] - 295s 18s/step - loss: 0.6441 - accuracy: 0.7511 - val_loss: 0.6343 - val_accuracy: 0.7605\n",
      "Epoch 28/50\n",
      "17/17 [==============================] - 549s 33s/step - loss: 0.3892 - accuracy: 0.7877 - val_loss: 0.6282 - val_accuracy: 0.6628\n",
      "Epoch 46/50\n",
      "17/17 [==============================] - 543s 33s/step - loss: 1.0005 - accuracy: 0.6858 - val_loss: 1.0298 - val_accuracy: 0.6374\n",
      "Epoch 3/100\n",
      "17/17 [==============================] - 556s 34s/step - loss: 0.3826 - accuracy: 0.7111 - val_loss: 0.5659 - val_accuracy: 0.8029\n",
      "Epoch 57/100\n",
      "17/17 [==============================] - 269s 16s/step - loss: 0.6952 - accuracy: 0.7455 - val_loss: 0.8017 - val_accuracy: 0.6580\n",
      "Epoch 29/50\n",
      "17/17 [==============================] - 315s 19s/step - loss: 0.6370 - accuracy: 0.7400 - val_loss: 0.6690 - val_accuracy: 0.7696\n",
      "Epoch 30/50\n",
      "17/17 [==============================] - 590s 35s/step - loss: 0.9753 - accuracy: 0.6854 - val_loss: 0.8805 - val_accuracy: 0.6173\n",
      "Epoch 4/100\n",
      "17/17 [==============================] - 594s 35s/step - loss: 0.4000 - accuracy: 0.7531 - val_loss: 0.6899 - val_accuracy: 0.7210\n",
      "Epoch 47/50\n",
      "17/17 [==============================] - 602s 36s/step - loss: 0.3336 - accuracy: 0.8383 - val_loss: 0.6059 - val_accuracy: 0.7617\n",
      "Epoch 58/100\n",
      "17/17 [==============================] - 280s 16s/step - loss: 0.6526 - accuracy: 0.6953 - val_loss: 0.6660 - val_accuracy: 0.7508\n",
      "Epoch 31/50\n",
      "17/17 [==============================] - 301s 18s/step - loss: 0.6514 - accuracy: 0.7222 - val_loss: 0.7530 - val_accuracy: 0.6731\n",
      "Epoch 32/50\n",
      "17/17 [==============================] - 595s 35s/step - loss: 0.9483 - accuracy: 0.6640 - val_loss: 0.6922 - val_accuracy: 0.8247\n",
      "Epoch 5/100\n",
      "17/17 [==============================] - 601s 36s/step - loss: 0.5534 - accuracy: 0.7630 - val_loss: 0.9308 - val_accuracy: 0.4706\n",
      "Epoch 48/50\n",
      "17/17 [==============================] - 593s 35s/step - loss: 0.3174 - accuracy: 0.7491 - val_loss: 0.5640 - val_accuracy: 0.7532\n",
      "Epoch 59/100\n",
      "17/17 [==============================] - 277s 17s/step - loss: 0.6526 - accuracy: 0.7713 - val_loss: 0.5891 - val_accuracy: 0.7871\n",
      "Epoch 33/50\n",
      "17/17 [==============================] - 270s 16s/step - loss: 0.5947 - accuracy: 0.7608 - val_loss: 0.6798 - val_accuracy: 0.7210\n",
      "Epoch 34/50\n",
      "17/17 [==============================] - 532s 32s/step - loss: 0.8935 - accuracy: 0.7582 - val_loss: 0.9427 - val_accuracy: 0.6907\n",
      "Epoch 6/100\n",
      "17/17 [==============================] - 538s 32s/step - loss: 0.4989 - accuracy: 0.7004 - val_loss: 0.4407 - val_accuracy: 0.8411\n",
      "Epoch 49/50\n",
      "17/17 [==============================] - 531s 31s/step - loss: 0.3875 - accuracy: 0.7752 - val_loss: 0.7188 - val_accuracy: 0.6028\n",
      "Epoch 60/100\n",
      "17/17 [==============================] - 258s 15s/step - loss: 0.6980 - accuracy: 0.7113 - val_loss: 0.8259 - val_accuracy: 0.6841\n",
      "Epoch 35/50\n",
      "17/17 [==============================] - 268s 16s/step - loss: 0.7162 - accuracy: 0.7204 - val_loss: 0.9899 - val_accuracy: 0.6210\n",
      "Epoch 36/50\n",
      "17/17 [==============================] - 534s 32s/step - loss: 0.8713 - accuracy: 0.6983 - val_loss: 0.9403 - val_accuracy: 0.6707\n",
      "Epoch 7/100\n",
      "17/17 [==============================] - 534s 31s/step - loss: 0.4214 - accuracy: 0.7616 - val_loss: 0.5672 - val_accuracy: 0.7878\n",
      "Epoch 50/50\n",
      "17/17 [==============================] - 534s 31s/step - loss: 0.3582 - accuracy: 0.7808 - val_loss: 0.5715 - val_accuracy: 0.7435\n",
      "Epoch 61/100\n",
      "17/17 [==============================] - 261s 15s/step - loss: 0.7097 - accuracy: 0.7388 - val_loss: 1.1239 - val_accuracy: 0.4821\n",
      "Epoch 37/50\n",
      "17/17 [==============================] - 272s 16s/step - loss: 0.6648 - accuracy: 0.6781 - val_loss: 0.7085 - val_accuracy: 0.6416\n",
      "Epoch 38/50\n",
      "17/17 [==============================] - 528s 32s/step - loss: 0.8563 - accuracy: 0.7258 - val_loss: 0.6176 - val_accuracy: 0.8126\n",
      "Epoch 8/100\n",
      "17/17 [==============================] - 523s 31s/step - loss: 0.3839 - accuracy: 0.8004 - val_loss: 0.6304 - val_accuracy: 0.7592\n",
      "17/17 [==============================] - 243s 14s/step - loss: 0.7307 - accuracy: 0.6559 - val_loss: 0.6615 - val_accuracy: 0.6913\n",
      "Epoch 39/50\n",
      "17/17 [==============================] - 526s 31s/step - loss: 0.3163 - accuracy: 0.7853 - val_loss: 0.5680 - val_accuracy: 0.7495\n",
      "Epoch 62/100\n",
      "69/69 [==============================] - 100s 1s/step - loss: 0.7064 - accuracy: 0.7085\n",
      "69/69 [==============================] - 148s 1s/steploss: 0.8911\n",
      "17/17 [==============================] - 249s 15s/step - loss: 0.6634 - accuracy: 0.7362 - val_loss: 0.7064 - val_accuracy: 0.7235\n",
      "Epoch 40/50\n",
      "17/17 [==============================] - 444s 26s/step - loss: 0.8659 - accuracy: 0.6878 - val_loss: 0.7016 - val_accuracy: 0.7271\n",
      "Epoch 9/100\n",
      "17/17 [==============================] - 192s 11s/step - loss: 0.6252 - accuracy: 0.7465 - val_loss: 0.9214 - val_accuracy: 0.6301\n",
      "Epoch 41/50\n",
      "17/17 [==============================] - 440s 26s/step - loss: 0.2769 - accuracy: 0.8213 - val_loss: 0.4835 - val_accuracy: 0.7968\n",
      "Epoch 63/100\n",
      "17/17 [==============================] - 206s 12s/step - loss: 0.6438 - accuracy: 0.6880 - val_loss: 0.7040 - val_accuracy: 0.7259\n",
      "Epoch 42/50\n",
      "12/17 [====================>.........] - ETA: 56s - loss: 0.6837 - accuracy: 0.7847 "
     ]
    },
    {
     "name": "stderr",
     "output_type": "stream",
     "text": [
      "WARNING:absl:Found untraced functions such as lstm_cell_28_layer_call_fn, lstm_cell_28_layer_call_and_return_conditional_losses, lstm_cell_29_layer_call_fn, lstm_cell_29_layer_call_and_return_conditional_losses, lstm_cell_31_layer_call_fn while saving (showing 5 of 12). These functions will not be directly callable after loading.\n"
     ]
    },
    {
     "name": "stdout",
     "output_type": "stream",
     "text": [
      "17/17 [==============================] - 402s 24s/step - loss: 0.8116 - accuracy: 0.6939 - val_loss: 0.6774 - val_accuracy: 0.7113\n",
      "Epoch 10/100\n",
      "17/17 [==============================] - 401s 23s/step - loss: 0.2457 - accuracy: 0.8017 - val_loss: 0.3776 - val_accuracy: 0.8611\n",
      "Epoch 64/100\n",
      "17/17 [==============================] - 199s 12s/step - loss: 0.6361 - accuracy: 0.7596 - val_loss: 0.6787 - val_accuracy: 0.7229\n",
      "Epoch 43/50\n",
      "INFO:tensorflow:Assets written to: ram://b61bc523-183e-4a3e-89c8-13eda3c39ad7/assets\n"
     ]
    },
    {
     "name": "stderr",
     "output_type": "stream",
     "text": [
      "INFO:tensorflow:Assets written to: ram://b61bc523-183e-4a3e-89c8-13eda3c39ad7/assets\n"
     ]
    },
    {
     "name": "stdout",
     "output_type": "stream",
     "text": [
      " 3/17 [====>.........................] - ETA: 3:15 - loss: 0.6522 - accuracy: 0.7056Epoch 1/100\n",
      "17/17 [==============================] - 244s 14s/step - loss: 0.5945 - accuracy: 0.7313 - val_loss: 0.6044 - val_accuracy: 0.7805\n",
      "Epoch 44/50\n",
      "17/17 [==============================] - 497s 30s/step - loss: 0.8840 - accuracy: 0.6757 - val_loss: 1.0466 - val_accuracy: 0.5227\n",
      "Epoch 11/100\n",
      "17/17 [==============================] - 254s 15s/step - loss: 0.5791 - accuracy: 0.7911 - val_loss: 0.6103 - val_accuracy: 0.7556\n",
      "Epoch 45/50\n",
      "17/17 [==============================] - 498s 30s/step - loss: 0.2668 - accuracy: 0.8104 - val_loss: 0.3803 - val_accuracy: 0.8508\n",
      "Epoch 65/100\n",
      "17/17 [==============================] - 487s 18s/step - loss: 1.0724 - accuracy: 0.5461 - val_loss: 1.2879 - val_accuracy: 0.5421\n",
      "Epoch 2/100\n",
      "17/17 [==============================] - 256s 15s/step - loss: 0.7748 - accuracy: 0.7341 - val_loss: 0.6463 - val_accuracy: 0.7714\n",
      "Epoch 46/50\n",
      "17/17 [==============================] - 253s 15s/step - loss: 0.9854 - accuracy: 0.7082 - val_loss: 0.7580 - val_accuracy: 0.8072\n",
      "Epoch 3/100\n",
      "17/17 [==============================] - 502s 30s/step - loss: 0.8302 - accuracy: 0.7323 - val_loss: 0.9197 - val_accuracy: 0.6543\n",
      "Epoch 12/100\n",
      "17/17 [==============================] - 247s 15s/step - loss: 0.6471 - accuracy: 0.7636 - val_loss: 0.7012 - val_accuracy: 0.7204\n",
      "Epoch 47/50\n",
      "17/17 [==============================] - 506s 30s/step - loss: 0.2611 - accuracy: 0.8013 - val_loss: 0.4271 - val_accuracy: 0.8296\n",
      "Epoch 66/100\n",
      "17/17 [==============================] - 243s 14s/step - loss: 0.9605 - accuracy: 0.6531 - val_loss: 0.9380 - val_accuracy: 0.6828\n",
      "Epoch 4/100\n",
      "17/17 [==============================] - 269s 16s/step - loss: 0.5614 - accuracy: 0.7560 - val_loss: 0.7524 - val_accuracy: 0.6804\n",
      "Epoch 48/50\n",
      "17/17 [==============================] - 273s 16s/step - loss: 0.8994 - accuracy: 0.7768 - val_loss: 0.8123 - val_accuracy: 0.6980\n",
      "Epoch 5/100\n",
      "17/17 [==============================] - 537s 32s/step - loss: 0.7856 - accuracy: 0.7455 - val_loss: 0.7547 - val_accuracy: 0.7514\n",
      "Epoch 13/100\n",
      "17/17 [==============================] - 259s 15s/step - loss: 0.5788 - accuracy: 0.7398 - val_loss: 0.7152 - val_accuracy: 0.7283\n",
      "Epoch 49/50\n",
      "17/17 [==============================] - 536s 32s/step - loss: 0.2412 - accuracy: 0.8277 - val_loss: 0.4104 - val_accuracy: 0.8387\n",
      "Epoch 67/100\n",
      "17/17 [==============================] - 261s 15s/step - loss: 0.9327 - accuracy: 0.5973 - val_loss: 0.7318 - val_accuracy: 0.7817\n",
      "Epoch 6/100\n",
      "17/17 [==============================] - 266s 16s/step - loss: 0.5528 - accuracy: 0.7256 - val_loss: 0.6531 - val_accuracy: 0.7265\n",
      "Epoch 50/50\n",
      "17/17 [==============================] - 257s 15s/step - loss: 0.8875 - accuracy: 0.6753 - val_loss: 0.6624 - val_accuracy: 0.8120\n",
      "Epoch 7/100\n",
      "17/17 [==============================] - 533s 32s/step - loss: 0.8353 - accuracy: 0.6666 - val_loss: 0.8146 - val_accuracy: 0.6834\n",
      "Epoch 14/100\n",
      "17/17 [==============================] - 261s 15s/step - loss: 0.5289 - accuracy: 0.7897 - val_loss: 0.6215 - val_accuracy: 0.7647\n",
      "17/17 [==============================] - 533s 31s/step - loss: 0.2514 - accuracy: 0.8364 - val_loss: 0.4694 - val_accuracy: 0.7950\n",
      "Epoch 68/100\n",
      "17/17 [==============================] - 255s 15s/step - loss: 0.8555 - accuracy: 0.7353 - val_loss: 1.0376 - val_accuracy: 0.5894\n",
      "Epoch 8/100\n",
      "69/69 [==============================] - 38s 551ms/step - loss: 0.7034 - accuracy: 0.7108\n",
      "69/69 [==============================] - 92s 575ms/step\n",
      "17/17 [==============================] - 221s 13s/step - loss: 0.8781 - accuracy: 0.7386 - val_loss: 0.6874 - val_accuracy: 0.7708\n",
      "Epoch 9/100\n",
      "17/17 [==============================] - 418s 25s/step - loss: 0.7491 - accuracy: 0.7422 - val_loss: 0.5412 - val_accuracy: 0.8144\n",
      "Epoch 15/100\n",
      "17/17 [==============================] - 415s 24s/step - loss: 0.2542 - accuracy: 0.8075 - val_loss: 0.5567 - val_accuracy: 0.7471\n",
      "Epoch 69/100\n",
      "17/17 [==============================] - 188s 11s/step - loss: 0.8654 - accuracy: 0.7060 - val_loss: 0.8883 - val_accuracy: 0.6537\n",
      "Epoch 10/100\n",
      "17/17 [==============================] - 200s 11s/step - loss: 0.8129 - accuracy: 0.7097 - val_loss: 0.8546 - val_accuracy: 0.6919\n",
      "Epoch 11/100\n",
      " 2/17 [==>...........................] - ETA: 2:23 - loss: 0.7791 - accuracy: 0.6667"
     ]
    },
    {
     "name": "stderr",
     "output_type": "stream",
     "text": [
      "WARNING:absl:Found untraced functions such as lstm_cell_19_layer_call_fn, lstm_cell_19_layer_call_and_return_conditional_losses, lstm_cell_20_layer_call_fn, lstm_cell_20_layer_call_and_return_conditional_losses, lstm_cell_22_layer_call_fn while saving (showing 5 of 12). These functions will not be directly callable after loading.\n"
     ]
    },
    {
     "name": "stdout",
     "output_type": "stream",
     "text": [
      "10/17 [================>.............] - ETA: 1:24 - loss: 0.8100 - accuracy: 0.7577INFO:tensorflow:Assets written to: ram://4fc021d6-a838-4f37-a349-9a732a742640/assets\n"
     ]
    },
    {
     "name": "stderr",
     "output_type": "stream",
     "text": [
      "INFO:tensorflow:Assets written to: ram://4fc021d6-a838-4f37-a349-9a732a742640/assets\n"
     ]
    },
    {
     "name": "stdout",
     "output_type": "stream",
     "text": [
      "17/17 [==============================] - 403s 24s/step - loss: 0.7286 - accuracy: 0.7418 - val_loss: 0.5546 - val_accuracy: 0.8120\n",
      "Epoch 16/100\n",
      "17/17 [==============================] - 201s 12s/step - loss: 0.8006 - accuracy: 0.7543 - val_loss: 0.7720 - val_accuracy: 0.7295\n",
      "Epoch 12/100\n",
      "17/17 [==============================] - 403s 23s/step - loss: 0.2506 - accuracy: 0.8306 - val_loss: 0.5959 - val_accuracy: 0.7508\n",
      "Epoch 70/100\n",
      "17/17 [==============================] - 213s 12s/step - loss: 0.7860 - accuracy: 0.7070 - val_loss: 0.7741 - val_accuracy: 0.6798\n",
      "Epoch 13/100\n",
      "17/17 [==============================] - 427s 25s/step - loss: 0.7014 - accuracy: 0.7618 - val_loss: 0.7676 - val_accuracy: 0.7441\n",
      "Epoch 17/100\n",
      "17/17 [==============================] - 209s 12s/step - loss: 0.7362 - accuracy: 0.7426 - val_loss: 0.5998 - val_accuracy: 0.8223\n",
      "Epoch 14/100\n",
      "17/17 [==============================] - 425s 25s/step - loss: 0.2387 - accuracy: 0.8197 - val_loss: 0.4251 - val_accuracy: 0.8284\n",
      "Epoch 71/100\n",
      "17/17 [==============================] - 201s 12s/step - loss: 0.7459 - accuracy: 0.7046 - val_loss: 0.6631 - val_accuracy: 0.7253\n",
      "Epoch 15/100\n",
      "17/17 [==============================] - 402s 24s/step - loss: 0.7018 - accuracy: 0.7313 - val_loss: 0.6276 - val_accuracy: 0.7265\n",
      "Epoch 18/100\n",
      "17/17 [==============================] - 192s 11s/step - loss: 0.7407 - accuracy: 0.7254 - val_loss: 0.8919 - val_accuracy: 0.5682\n",
      "Epoch 16/100\n",
      "17/17 [==============================] - 404s 24s/step - loss: 0.2426 - accuracy: 0.8290 - val_loss: 0.6426 - val_accuracy: 0.7198\n",
      "Epoch 72/100\n",
      "17/17 [==============================] - 192s 11s/step - loss: 0.7893 - accuracy: 0.6213 - val_loss: 0.6521 - val_accuracy: 0.7811\n",
      "Epoch 17/100\n",
      "17/17 [==============================] - 185s 11s/step - loss: 0.7759 - accuracy: 0.7048 - val_loss: 0.6236 - val_accuracy: 0.7556\n",
      "Epoch 18/100\n",
      "17/17 [==============================] - 386s 23s/step - loss: 0.6858 - accuracy: 0.6903 - val_loss: 0.7022 - val_accuracy: 0.6458\n",
      "Epoch 19/100\n",
      "17/17 [==============================] - 385s 22s/step - loss: 0.2513 - accuracy: 0.8310 - val_loss: 0.4787 - val_accuracy: 0.8017\n",
      "Epoch 73/100\n",
      "17/17 [==============================] - 189s 11s/step - loss: 0.7238 - accuracy: 0.7262 - val_loss: 0.8305 - val_accuracy: 0.6901\n",
      "Epoch 19/100\n",
      "17/17 [==============================] - 186s 11s/step - loss: 0.6889 - accuracy: 0.7372 - val_loss: 0.4622 - val_accuracy: 0.8532\n",
      "Epoch 20/100\n",
      "17/17 [==============================] - 376s 22s/step - loss: 0.6820 - accuracy: 0.7408 - val_loss: 0.6215 - val_accuracy: 0.7762\n",
      "Epoch 20/100\n",
      "17/17 [==============================] - 376s 22s/step - loss: 0.2304 - accuracy: 0.8478 - val_loss: 0.5125 - val_accuracy: 0.7793\n",
      "Epoch 74/100\n",
      "17/17 [==============================] - 184s 11s/step - loss: 0.6863 - accuracy: 0.7171 - val_loss: 0.5463 - val_accuracy: 0.8169\n",
      "Epoch 21/100\n",
      "17/17 [==============================] - 182s 11s/step - loss: 0.6600 - accuracy: 0.6894 - val_loss: 0.6143 - val_accuracy: 0.7538\n",
      "Epoch 22/100\n",
      "17/17 [==============================] - 369s 22s/step - loss: 0.6582 - accuracy: 0.7123 - val_loss: 0.6231 - val_accuracy: 0.7489\n",
      "Epoch 21/100\n",
      "17/17 [==============================] - 370s 22s/step - loss: 0.2514 - accuracy: 0.8231 - val_loss: 0.5249 - val_accuracy: 0.7447\n",
      "Epoch 75/100\n",
      "17/17 [==============================] - 180s 11s/step - loss: 0.6812 - accuracy: 0.7250 - val_loss: 1.1500 - val_accuracy: 0.5706\n",
      "Epoch 23/100\n",
      "17/17 [==============================] - 180s 11s/step - loss: 0.7637 - accuracy: 0.6454 - val_loss: 0.5629 - val_accuracy: 0.7811\n",
      "Epoch 24/100\n",
      "17/17 [==============================] - 363s 21s/step - loss: 0.6932 - accuracy: 0.7056 - val_loss: 0.5239 - val_accuracy: 0.7829\n",
      "Epoch 22/100\n",
      "17/17 [==============================] - 362s 21s/step - loss: 0.2388 - accuracy: 0.8176 - val_loss: 0.3557 - val_accuracy: 0.8648\n",
      "Epoch 76/100\n",
      "17/17 [==============================] - 192s 12s/step - loss: 0.6631 - accuracy: 0.7459 - val_loss: 0.5241 - val_accuracy: 0.8175\n",
      "Epoch 25/100\n",
      "17/17 [==============================] - 173s 10s/step - loss: 0.6467 - accuracy: 0.7234 - val_loss: 0.5580 - val_accuracy: 0.8011\n",
      "Epoch 26/100\n",
      "17/17 [==============================] - 368s 22s/step - loss: 0.6339 - accuracy: 0.6947 - val_loss: 0.7582 - val_accuracy: 0.6883\n",
      "Epoch 23/100\n",
      "17/17 [==============================] - 370s 22s/step - loss: 0.2509 - accuracy: 0.8285 - val_loss: 0.3503 - val_accuracy: 0.8496\n",
      "Epoch 77/100\n",
      "17/17 [==============================] - 176s 10s/step - loss: 0.6718 - accuracy: 0.6888 - val_loss: 0.6815 - val_accuracy: 0.7095\n",
      "Epoch 27/100\n",
      "17/17 [==============================] - 185s 11s/step - loss: 0.6893 - accuracy: 0.7275 - val_loss: 0.8307 - val_accuracy: 0.6568\n",
      "Epoch 28/100\n",
      "17/17 [==============================] - 368s 22s/step - loss: 0.6593 - accuracy: 0.6533 - val_loss: 0.5650 - val_accuracy: 0.7568\n",
      "Epoch 24/100\n",
      "17/17 [==============================] - 367s 22s/step - loss: 0.2416 - accuracy: 0.8150 - val_loss: 0.4643 - val_accuracy: 0.8096\n",
      "Epoch 78/100\n",
      "17/17 [==============================] - 183s 11s/step - loss: 0.6392 - accuracy: 0.7275 - val_loss: 0.7851 - val_accuracy: 0.6222\n",
      "Epoch 29/100\n",
      "17/17 [==============================] - 181s 11s/step - loss: 0.5883 - accuracy: 0.6640 - val_loss: 0.4286 - val_accuracy: 0.8466\n",
      "Epoch 30/100\n",
      "17/17 [==============================] - 365s 22s/step - loss: 0.6764 - accuracy: 0.7444 - val_loss: 0.5400 - val_accuracy: 0.8187\n",
      "Epoch 25/100\n",
      "17/17 [==============================] - 365s 21s/step - loss: 0.2282 - accuracy: 0.8306 - val_loss: 0.4019 - val_accuracy: 0.8375\n",
      "Epoch 79/100\n",
      "17/17 [==============================] - 169s 10s/step - loss: 0.7018 - accuracy: 0.5786 - val_loss: 0.9290 - val_accuracy: 0.5403\n",
      "Epoch 31/100\n",
      "17/17 [==============================] - 194s 12s/step - loss: 0.6406 - accuracy: 0.7515 - val_loss: 0.6012 - val_accuracy: 0.7617\n",
      "Epoch 32/100\n",
      "17/17 [==============================] - 367s 22s/step - loss: 0.6454 - accuracy: 0.7097 - val_loss: 0.5661 - val_accuracy: 0.8023\n",
      "Epoch 26/100\n",
      "17/17 [==============================] - 368s 22s/step - loss: 0.2099 - accuracy: 0.8706 - val_loss: 0.3964 - val_accuracy: 0.8223\n",
      "Epoch 80/100\n",
      "17/17 [==============================] - 184s 11s/step - loss: 0.5780 - accuracy: 0.7586 - val_loss: 0.5844 - val_accuracy: 0.7890\n",
      "Epoch 33/100\n",
      "17/17 [==============================] - 177s 10s/step - loss: 0.5307 - accuracy: 0.7036 - val_loss: 0.6574 - val_accuracy: 0.6889\n",
      "Epoch 34/100\n",
      "17/17 [==============================] - 365s 22s/step - loss: 0.5900 - accuracy: 0.7818 - val_loss: 0.5722 - val_accuracy: 0.7495\n",
      "Epoch 27/100\n",
      "17/17 [==============================] - 364s 21s/step - loss: 0.2103 - accuracy: 0.8546 - val_loss: 0.5196 - val_accuracy: 0.7659\n",
      "Epoch 81/100\n",
      "17/17 [==============================] - 179s 11s/step - loss: 0.5738 - accuracy: 0.7074 - val_loss: 0.9818 - val_accuracy: 0.4864\n",
      "Epoch 35/100\n",
      "17/17 [==============================] - 190s 11s/step - loss: 0.5639 - accuracy: 0.6939 - val_loss: 0.5147 - val_accuracy: 0.8150\n",
      "Epoch 36/100\n",
      "17/17 [==============================] - 373s 22s/step - loss: 0.6394 - accuracy: 0.6537 - val_loss: 0.5288 - val_accuracy: 0.8005\n",
      "Epoch 28/100\n",
      "17/17 [==============================] - 373s 22s/step - loss: 0.2598 - accuracy: 0.8207 - val_loss: 0.4786 - val_accuracy: 0.8126\n",
      "Epoch 82/100\n",
      "17/17 [==============================] - 178s 11s/step - loss: 0.5190 - accuracy: 0.7956 - val_loss: 0.5637 - val_accuracy: 0.7659\n",
      "Epoch 37/100\n",
      "17/17 [==============================] - 179s 10s/step - loss: 0.5564 - accuracy: 0.6450 - val_loss: 0.3758 - val_accuracy: 0.8532\n",
      "Epoch 38/100\n",
      "17/17 [==============================] - 362s 22s/step - loss: 0.5985 - accuracy: 0.7216 - val_loss: 0.7109 - val_accuracy: 0.6938\n",
      "Epoch 29/100\n",
      "17/17 [==============================] - 362s 21s/step - loss: 0.2831 - accuracy: 0.8225 - val_loss: 0.4431 - val_accuracy: 0.8260\n",
      "Epoch 83/100\n",
      "17/17 [==============================] - 177s 10s/step - loss: 0.6251 - accuracy: 0.7194 - val_loss: 0.8686 - val_accuracy: 0.6519\n",
      "Epoch 39/100\n",
      "17/17 [==============================] - 178s 11s/step - loss: 0.6578 - accuracy: 0.7050 - val_loss: 0.7059 - val_accuracy: 0.6925\n"
     ]
    },
    {
     "name": "stdout",
     "output_type": "stream",
     "text": [
      "Epoch 40/100\n",
      "17/17 [==============================] - 359s 21s/step - loss: 0.5719 - accuracy: 0.7434 - val_loss: 0.6313 - val_accuracy: 0.7241\n",
      "Epoch 30/100\n",
      "17/17 [==============================] - 360s 21s/step - loss: 0.2471 - accuracy: 0.8498 - val_loss: 0.5480 - val_accuracy: 0.7696\n",
      "Epoch 84/100\n",
      "17/17 [==============================] - 177s 11s/step - loss: 0.6071 - accuracy: 0.7214 - val_loss: 0.6838 - val_accuracy: 0.7380\n",
      "Epoch 41/100\n",
      "17/17 [==============================] - 188s 11s/step - loss: 0.5531 - accuracy: 0.7545 - val_loss: 0.6230 - val_accuracy: 0.7392\n",
      "Epoch 42/100\n",
      "17/17 [==============================] - 367s 22s/step - loss: 0.5472 - accuracy: 0.7054 - val_loss: 0.6711 - val_accuracy: 0.6270\n",
      "Epoch 31/100\n",
      "17/17 [==============================] - 367s 22s/step - loss: 0.2370 - accuracy: 0.8298 - val_loss: 0.5688 - val_accuracy: 0.7629\n",
      "Epoch 85/100\n",
      "17/17 [==============================] - 171s 10s/step - loss: 0.5345 - accuracy: 0.7236 - val_loss: 0.6409 - val_accuracy: 0.7332\n",
      "Epoch 43/100\n",
      "17/17 [==============================] - 184s 11s/step - loss: 0.5205 - accuracy: 0.7210 - val_loss: 0.4985 - val_accuracy: 0.8059\n",
      "Epoch 44/100\n",
      "17/17 [==============================] - 357s 21s/step - loss: 0.5341 - accuracy: 0.7471 - val_loss: 0.4553 - val_accuracy: 0.8393\n",
      "Epoch 32/100\n",
      "17/17 [==============================] - 357s 21s/step - loss: 0.3250 - accuracy: 0.8207 - val_loss: 0.5349 - val_accuracy: 0.7714\n",
      "Epoch 86/100\n",
      "17/17 [==============================] - 181s 11s/step - loss: 0.5036 - accuracy: 0.7491 - val_loss: 0.6017 - val_accuracy: 0.7071\n",
      "Epoch 45/100\n",
      "17/17 [==============================] - 175s 10s/step - loss: 0.4962 - accuracy: 0.7285 - val_loss: 0.6900 - val_accuracy: 0.6853\n",
      "Epoch 46/100\n",
      "17/17 [==============================] - 358s 21s/step - loss: 0.5547 - accuracy: 0.7281 - val_loss: 0.4704 - val_accuracy: 0.7762\n",
      "Epoch 33/100\n",
      "17/17 [==============================] - 360s 21s/step - loss: 0.3669 - accuracy: 0.7103 - val_loss: 0.6985 - val_accuracy: 0.6719\n",
      "Epoch 87/100\n",
      "17/17 [==============================] - 171s 10s/step - loss: 0.4798 - accuracy: 0.6874 - val_loss: 0.5448 - val_accuracy: 0.8217\n",
      "Epoch 47/100\n",
      "17/17 [==============================] - 178s 11s/step - loss: 0.6054 - accuracy: 0.7604 - val_loss: 0.9238 - val_accuracy: 0.5919\n",
      "Epoch 48/100\n",
      "17/17 [==============================] - 360s 21s/step - loss: 0.4612 - accuracy: 0.7552 - val_loss: 0.5860 - val_accuracy: 0.6883\n",
      "Epoch 34/100\n",
      "17/17 [==============================] - 359s 21s/step - loss: 0.2842 - accuracy: 0.8015 - val_loss: 0.5517 - val_accuracy: 0.7429\n",
      "Epoch 88/100\n",
      "17/17 [==============================] - 181s 10s/step - loss: 0.5063 - accuracy: 0.6890 - val_loss: 0.6312 - val_accuracy: 0.6883\n",
      "Epoch 49/100\n",
      "17/17 [==============================] - 176s 10s/step - loss: 0.4971 - accuracy: 0.7109 - val_loss: 0.7266 - val_accuracy: 0.6810\n",
      "Epoch 50/100\n",
      "17/17 [==============================] - 354s 21s/step - loss: 0.5018 - accuracy: 0.6937 - val_loss: 0.6281 - val_accuracy: 0.7362\n",
      "Epoch 35/100\n",
      "17/17 [==============================] - 356s 21s/step - loss: 0.2369 - accuracy: 0.8156 - val_loss: 0.4888 - val_accuracy: 0.7987\n",
      "Epoch 89/100\n",
      "17/17 [==============================] - 169s 10s/step - loss: 0.4677 - accuracy: 0.7388 - val_loss: 0.6078 - val_accuracy: 0.7568\n",
      "Epoch 51/100\n",
      "17/17 [==============================] - 190s 11s/step - loss: 0.4607 - accuracy: 0.7434 - val_loss: 0.7535 - val_accuracy: 0.5979\n",
      "Epoch 52/100\n",
      "17/17 [==============================] - 364s 22s/step - loss: 0.4528 - accuracy: 0.7804 - val_loss: 0.8175 - val_accuracy: 0.5876\n",
      "Epoch 36/100\n",
      "17/17 [==============================] - 362s 21s/step - loss: 0.2028 - accuracy: 0.8443 - val_loss: 0.4782 - val_accuracy: 0.7896\n",
      "Epoch 90/100\n",
      "17/17 [==============================] - 176s 10s/step - loss: 0.4350 - accuracy: 0.7319 - val_loss: 0.5663 - val_accuracy: 0.7186\n",
      "Epoch 53/100\n",
      "17/17 [==============================] - 190s 11s/step - loss: 0.4012 - accuracy: 0.7262 - val_loss: 0.5754 - val_accuracy: 0.7362\n",
      "Epoch 54/100\n",
      "17/17 [==============================] - 366s 22s/step - loss: 0.5497 - accuracy: 0.6834 - val_loss: 0.9282 - val_accuracy: 0.5337\n",
      "Epoch 37/100\n",
      "17/17 [==============================] - 366s 22s/step - loss: 0.2000 - accuracy: 0.8498 - val_loss: 0.4759 - val_accuracy: 0.7932\n",
      "Epoch 91/100\n",
      "17/17 [==============================] - 175s 10s/step - loss: 0.3929 - accuracy: 0.7416 - val_loss: 0.6342 - val_accuracy: 0.7307\n",
      "Epoch 55/100\n",
      "17/17 [==============================] - 189s 11s/step - loss: 0.4436 - accuracy: 0.7436 - val_loss: 0.5691 - val_accuracy: 0.7047\n",
      "Epoch 56/100\n",
      "17/17 [==============================] - 365s 22s/step - loss: 0.5203 - accuracy: 0.7620 - val_loss: 0.5897 - val_accuracy: 0.7865\n",
      "Epoch 38/100\n",
      "17/17 [==============================] - 367s 22s/step - loss: 0.1764 - accuracy: 0.8649 - val_loss: 0.3976 - val_accuracy: 0.8381\n",
      "Epoch 92/100\n",
      "17/17 [==============================] - 171s 10s/step - loss: 0.4335 - accuracy: 0.7558 - val_loss: 0.6539 - val_accuracy: 0.7216\n",
      "Epoch 57/100\n",
      "17/17 [==============================] - 176s 10s/step - loss: 0.5166 - accuracy: 0.7578 - val_loss: 0.6735 - val_accuracy: 0.7107\n",
      "Epoch 58/100\n",
      "17/17 [==============================] - 348s 21s/step - loss: 0.4676 - accuracy: 0.7574 - val_loss: 0.5401 - val_accuracy: 0.7441\n",
      "Epoch 39/100\n",
      "17/17 [==============================] - 349s 21s/step - loss: 0.2085 - accuracy: 0.8550 - val_loss: 0.3803 - val_accuracy: 0.8714\n",
      "Epoch 93/100\n",
      "17/17 [==============================] - 169s 10s/step - loss: 0.5190 - accuracy: 0.7325 - val_loss: 0.6963 - val_accuracy: 0.6701\n",
      "Epoch 59/100\n",
      "17/17 [==============================] - 192s 11s/step - loss: 0.4173 - accuracy: 0.7408 - val_loss: 0.4589 - val_accuracy: 0.8235\n",
      "Epoch 60/100\n",
      "17/17 [==============================] - 368s 22s/step - loss: 0.4823 - accuracy: 0.6923 - val_loss: 0.5442 - val_accuracy: 0.7659\n",
      "Epoch 40/100\n",
      "17/17 [==============================] - 365s 22s/step - loss: 0.1879 - accuracy: 0.8684 - val_loss: 0.4069 - val_accuracy: 0.8654\n",
      "Epoch 94/100\n",
      "17/17 [==============================] - 175s 10s/step - loss: 0.3474 - accuracy: 0.7576 - val_loss: 0.5351 - val_accuracy: 0.7483\n",
      "Epoch 61/100\n",
      "17/17 [==============================] - 184s 11s/step - loss: 0.3917 - accuracy: 0.7776 - val_loss: 0.4556 - val_accuracy: 0.8332\n",
      "Epoch 62/100\n",
      "17/17 [==============================] - 364s 22s/step - loss: 0.5079 - accuracy: 0.6589 - val_loss: 0.4696 - val_accuracy: 0.8454\n",
      "Epoch 41/100\n",
      "17/17 [==============================] - 363s 21s/step - loss: 0.1946 - accuracy: 0.8753 - val_loss: 0.4968 - val_accuracy: 0.8072\n",
      "Epoch 95/100\n",
      "17/17 [==============================] - 194s 11s/step - loss: 0.3872 - accuracy: 0.7558 - val_loss: 0.4494 - val_accuracy: 0.8454\n",
      "Epoch 63/100\n",
      "17/17 [==============================] - 176s 10s/step - loss: 0.3921 - accuracy: 0.7732 - val_loss: 0.6146 - val_accuracy: 0.7132\n",
      "Epoch 64/100\n",
      "17/17 [==============================] - 374s 22s/step - loss: 0.4617 - accuracy: 0.7899 - val_loss: 0.6626 - val_accuracy: 0.7162\n",
      "Epoch 42/100\n",
      "17/17 [==============================] - 376s 22s/step - loss: 0.3291 - accuracy: 0.7507 - val_loss: 0.5162 - val_accuracy: 0.7629\n",
      "Epoch 96/100\n",
      "17/17 [==============================] - 170s 10s/step - loss: 0.3495 - accuracy: 0.7651 - val_loss: 0.5825 - val_accuracy: 0.7459\n",
      "Epoch 65/100\n",
      "17/17 [==============================] - 180s 11s/step - loss: 0.3396 - accuracy: 0.7798 - val_loss: 0.5848 - val_accuracy: 0.7592\n",
      "Epoch 66/100\n",
      "17/17 [==============================] - 355s 21s/step - loss: 0.4445 - accuracy: 0.6961 - val_loss: 0.6621 - val_accuracy: 0.7016\n",
      "Epoch 43/100\n",
      "17/17 [==============================] - 355s 21s/step - loss: 0.2422 - accuracy: 0.8603 - val_loss: 0.4326 - val_accuracy: 0.8308\n",
      "Epoch 97/100\n",
      "17/17 [==============================] - 171s 10s/step - loss: 0.5322 - accuracy: 0.7649 - val_loss: 0.8436 - val_accuracy: 0.5961\n",
      "Epoch 67/100\n",
      "17/17 [==============================] - 187s 11s/step - loss: 0.4598 - accuracy: 0.7014 - val_loss: 0.5945 - val_accuracy: 0.7223\n",
      "Epoch 68/100\n",
      "17/17 [==============================] - 366s 22s/step - loss: 0.4204 - accuracy: 0.7855 - val_loss: 0.6888 - val_accuracy: 0.6774\n"
     ]
    },
    {
     "name": "stdout",
     "output_type": "stream",
     "text": [
      "Epoch 44/100\n",
      "17/17 [==============================] - 364s 21s/step - loss: 0.1963 - accuracy: 0.8366 - val_loss: 0.3511 - val_accuracy: 0.8775\n",
      "Epoch 98/100\n",
      "17/17 [==============================] - 173s 10s/step - loss: 0.3518 - accuracy: 0.7871 - val_loss: 0.5049 - val_accuracy: 0.7896\n",
      "Epoch 69/100\n",
      "17/17 [==============================] - 177s 10s/step - loss: 0.3953 - accuracy: 0.7657 - val_loss: 0.6607 - val_accuracy: 0.6786\n",
      "Epoch 70/100\n",
      "17/17 [==============================] - 352s 21s/step - loss: 0.4664 - accuracy: 0.7123 - val_loss: 0.5619 - val_accuracy: 0.6950\n",
      "Epoch 45/100\n",
      "17/17 [==============================] - 351s 21s/step - loss: 0.2007 - accuracy: 0.8560 - val_loss: 0.3440 - val_accuracy: 0.8781\n",
      "Epoch 99/100\n",
      "17/17 [==============================] - 172s 10s/step - loss: 0.3665 - accuracy: 0.7922 - val_loss: 0.5693 - val_accuracy: 0.7762\n",
      "Epoch 71/100\n",
      "17/17 [==============================] - 182s 11s/step - loss: 0.3509 - accuracy: 0.7598 - val_loss: 0.6629 - val_accuracy: 0.6956\n",
      "Epoch 72/100\n",
      "17/17 [==============================] - 352s 21s/step - loss: 0.4103 - accuracy: 0.7485 - val_loss: 0.7888 - val_accuracy: 0.6980\n",
      "Epoch 46/100\n",
      "17/17 [==============================] - 355s 21s/step - loss: 0.1914 - accuracy: 0.8732 - val_loss: 0.3525 - val_accuracy: 0.8660\n",
      "Epoch 100/100\n",
      "17/17 [==============================] - 174s 10s/step - loss: 0.3167 - accuracy: 0.7669 - val_loss: 0.5268 - val_accuracy: 0.7538\n",
      "Epoch 73/100\n",
      "17/17 [==============================] - 170s 10s/step - loss: 0.3123 - accuracy: 0.8077 - val_loss: 0.5380 - val_accuracy: 0.7586\n",
      "Epoch 74/100\n",
      "17/17 [==============================] - 350s 21s/step - loss: 0.4081 - accuracy: 0.7576 - val_loss: 0.6985 - val_accuracy: 0.6343\n",
      "Epoch 47/100\n",
      "17/17 [==============================] - 349s 21s/step - loss: 0.1596 - accuracy: 0.8912 - val_loss: 0.4168 - val_accuracy: 0.8448\n",
      "17/17 [==============================] - 170s 10s/step - loss: 0.3736 - accuracy: 0.7867 - val_loss: 0.5255 - val_accuracy: 0.7871\n",
      "Epoch 75/100\n",
      "69/69 [==============================] - 76s 1s/step - loss: 0.4238 - accuracy: 0.8363\n",
      "69/69 [==============================] - 92s 999ms/steps: 0.353\n",
      "17/17 [==============================] - 149s 9s/step - loss: 0.3584 - accuracy: 0.7667 - val_loss: 0.6663 - val_accuracy: 0.7101\n",
      "Epoch 76/100\n",
      "17/17 [==============================] - 286s 17s/step - loss: 0.4387 - accuracy: 0.7165 - val_loss: 0.6095 - val_accuracy: 0.7459\n",
      "Epoch 48/100\n",
      "17/17 [==============================] - 122s 7s/step - loss: 0.3492 - accuracy: 0.8019 - val_loss: 0.5394 - val_accuracy: 0.7574\n",
      "Epoch 77/100\n",
      "11/17 [==================>...........] - ETA: 38s - loss: 0.3487 - accuracy: 0.7033"
     ]
    },
    {
     "name": "stderr",
     "output_type": "stream",
     "text": [
      "WARNING:absl:Found untraced functions such as lstm_cell_28_layer_call_fn, lstm_cell_28_layer_call_and_return_conditional_losses, lstm_cell_29_layer_call_fn, lstm_cell_29_layer_call_and_return_conditional_losses, lstm_cell_31_layer_call_fn while saving (showing 5 of 12). These functions will not be directly callable after loading.\n"
     ]
    },
    {
     "name": "stdout",
     "output_type": "stream",
     "text": [
      "15/17 [=========================>....] - ETA: 12s - loss: 0.3588 - accuracy: 0.7333INFO:tensorflow:Assets written to: ram://217c9abe-af12-4db3-ba9c-8b6bc8dba76f/assets\n"
     ]
    },
    {
     "name": "stderr",
     "output_type": "stream",
     "text": [
      "INFO:tensorflow:Assets written to: ram://217c9abe-af12-4db3-ba9c-8b6bc8dba76f/assets\n"
     ]
    },
    {
     "name": "stdout",
     "output_type": "stream",
     "text": [
      "17/17 [==============================] - 119s 7s/step - loss: 0.3479 - accuracy: 0.7402 - val_loss: 0.4932 - val_accuracy: 0.7993\n",
      "Epoch 78/100\n",
      "17/17 [==============================] - 233s 14s/step - loss: 0.4012 - accuracy: 0.7558 - val_loss: 0.5769 - val_accuracy: 0.7532\n",
      "Epoch 49/100\n",
      "17/17 [==============================] - 120s 7s/step - loss: 0.3067 - accuracy: 0.7663 - val_loss: 0.4154 - val_accuracy: 0.8272\n",
      "Epoch 79/100\n",
      "17/17 [==============================] - 117s 7s/step - loss: 0.2953 - accuracy: 0.8023 - val_loss: 0.5646 - val_accuracy: 0.7793\n",
      "Epoch 80/100\n",
      "17/17 [==============================] - 221s 13s/step - loss: 0.3425 - accuracy: 0.7940 - val_loss: 0.5489 - val_accuracy: 0.7320\n",
      "Epoch 50/100\n",
      "17/17 [==============================] - 112s 7s/step - loss: 0.3028 - accuracy: 0.8063 - val_loss: 0.5677 - val_accuracy: 0.7289\n",
      "Epoch 81/100\n",
      "17/17 [==============================] - 115s 7s/step - loss: 0.3220 - accuracy: 0.7483 - val_loss: 0.4442 - val_accuracy: 0.8235\n",
      "Epoch 82/100\n",
      "17/17 [==============================] - 215s 13s/step - loss: 0.3394 - accuracy: 0.7863 - val_loss: 0.5733 - val_accuracy: 0.7580\n",
      "Epoch 51/100\n",
      "17/17 [==============================] - 113s 7s/step - loss: 0.2751 - accuracy: 0.7980 - val_loss: 0.5810 - val_accuracy: 0.7592\n",
      "Epoch 83/100\n",
      "17/17 [==============================] - 115s 7s/step - loss: 0.2822 - accuracy: 0.7978 - val_loss: 0.5589 - val_accuracy: 0.7210\n",
      "Epoch 84/100\n",
      "17/17 [==============================] - 214s 13s/step - loss: 0.3480 - accuracy: 0.7966 - val_loss: 0.4505 - val_accuracy: 0.8235\n",
      "Epoch 52/100\n",
      "17/17 [==============================] - 111s 7s/step - loss: 0.3070 - accuracy: 0.7754 - val_loss: 0.4019 - val_accuracy: 0.8460\n",
      "Epoch 85/100\n",
      "17/17 [==============================] - 115s 7s/step - loss: 0.3557 - accuracy: 0.7584 - val_loss: 0.4401 - val_accuracy: 0.8247\n",
      "Epoch 86/100\n",
      "17/17 [==============================] - 215s 13s/step - loss: 0.3447 - accuracy: 0.7956 - val_loss: 0.5406 - val_accuracy: 0.7247\n",
      "Epoch 53/100\n",
      "17/17 [==============================] - 113s 7s/step - loss: 0.3110 - accuracy: 0.8112 - val_loss: 0.5872 - val_accuracy: 0.7283\n",
      "Epoch 87/100\n",
      "17/17 [==============================] - 214s 13s/step - loss: 0.3571 - accuracy: 0.7513 - val_loss: 0.4672 - val_accuracy: 0.8423\n",
      "Epoch 54/100\n",
      "17/17 [==============================] - 113s 7s/step - loss: 0.2853 - accuracy: 0.8099 - val_loss: 0.4716 - val_accuracy: 0.8084\n",
      "Epoch 88/100\n",
      "17/17 [==============================] - 116s 7s/step - loss: 0.2697 - accuracy: 0.7889 - val_loss: 0.3702 - val_accuracy: 0.8672\n",
      "Epoch 89/100\n",
      "17/17 [==============================] - 215s 13s/step - loss: 0.3851 - accuracy: 0.7592 - val_loss: 0.3704 - val_accuracy: 0.8563\n",
      "Epoch 55/100\n",
      "17/17 [==============================] - 112s 7s/step - loss: 0.2455 - accuracy: 0.8174 - val_loss: 0.3775 - val_accuracy: 0.8454\n",
      "Epoch 90/100\n",
      "17/17 [==============================] - 117s 7s/step - loss: 0.3149 - accuracy: 0.8176 - val_loss: 0.5115 - val_accuracy: 0.7908\n",
      "Epoch 91/100\n",
      "17/17 [==============================] - 216s 13s/step - loss: 0.4726 - accuracy: 0.7442 - val_loss: 0.6046 - val_accuracy: 0.7659\n",
      "Epoch 56/100\n",
      "17/17 [==============================] - 111s 7s/step - loss: 0.3121 - accuracy: 0.7756 - val_loss: 0.5089 - val_accuracy: 0.8029\n",
      "Epoch 92/100\n",
      "17/17 [==============================] - 116s 7s/step - loss: 0.4206 - accuracy: 0.7541 - val_loss: 0.4046 - val_accuracy: 0.8041\n",
      "Epoch 93/100\n",
      "17/17 [==============================] - 216s 13s/step - loss: 0.4626 - accuracy: 0.7341 - val_loss: 0.5824 - val_accuracy: 0.7738\n",
      "Epoch 57/100\n",
      "17/17 [==============================] - 113s 7s/step - loss: 0.3275 - accuracy: 0.8002 - val_loss: 0.4806 - val_accuracy: 0.7829\n",
      "Epoch 94/100\n",
      "17/17 [==============================] - 115s 7s/step - loss: 0.2674 - accuracy: 0.8065 - val_loss: 0.4386 - val_accuracy: 0.8047\n",
      "Epoch 95/100\n",
      "17/17 [==============================] - 215s 13s/step - loss: 0.4056 - accuracy: 0.7473 - val_loss: 0.6127 - val_accuracy: 0.7380\n",
      "Epoch 58/100\n",
      "17/17 [==============================] - 114s 7s/step - loss: 0.2439 - accuracy: 0.8338 - val_loss: 0.4065 - val_accuracy: 0.8193\n",
      "Epoch 96/100\n",
      "17/17 [==============================] - 113s 7s/step - loss: 0.2283 - accuracy: 0.8451 - val_loss: 0.4606 - val_accuracy: 0.8035\n",
      "Epoch 97/100\n",
      "17/17 [==============================] - 213s 13s/step - loss: 0.4088 - accuracy: 0.7717 - val_loss: 0.5522 - val_accuracy: 0.7344\n",
      "Epoch 59/100\n",
      "17/17 [==============================] - 111s 7s/step - loss: 0.2456 - accuracy: 0.8093 - val_loss: 0.3726 - val_accuracy: 0.8399\n",
      "Epoch 98/100\n",
      "17/17 [==============================] - 115s 7s/step - loss: 0.2627 - accuracy: 0.8296 - val_loss: 0.5520 - val_accuracy: 0.7586\n",
      "Epoch 99/100\n",
      "17/17 [==============================] - 215s 13s/step - loss: 0.3894 - accuracy: 0.7386 - val_loss: 0.4399 - val_accuracy: 0.8047\n",
      "Epoch 60/100\n",
      "17/17 [==============================] - 111s 7s/step - loss: 0.2419 - accuracy: 0.8128 - val_loss: 0.4401 - val_accuracy: 0.8357\n",
      "Epoch 100/100\n",
      "17/17 [==============================] - 117s 7s/step - loss: 0.2307 - accuracy: 0.8350 - val_loss: 0.4070 - val_accuracy: 0.8284\n",
      "17/17 [==============================] - 214s 13s/step - loss: 0.3997 - accuracy: 0.7616 - val_loss: 0.4305 - val_accuracy: 0.8217\n",
      "Epoch 61/100\n",
      "69/69 [==============================] - 17s 251ms/step - loss: 0.4373 - accuracy: 0.8136\n",
      "69/69 [==============================] - 35s 280ms/stepss: 0.3911 - accuracy: 0.\n",
      "17/17 [==============================] - 162s 10s/step - loss: 0.4036 - accuracy: 0.7693 - val_loss: 0.6309 - val_accuracy: 0.7107\n",
      "Epoch 62/100\n",
      " 1/17 [>.............................] - ETA: 1:55 - loss: 0.5923 - accuracy: 0.7367"
     ]
    },
    {
     "name": "stderr",
     "output_type": "stream",
     "text": [
      "WARNING:absl:Found untraced functions such as lstm_cell_37_layer_call_fn, lstm_cell_37_layer_call_and_return_conditional_losses, lstm_cell_38_layer_call_fn, lstm_cell_38_layer_call_and_return_conditional_losses, lstm_cell_40_layer_call_fn while saving (showing 5 of 12). These functions will not be directly callable after loading.\n"
     ]
    },
    {
     "name": "stdout",
     "output_type": "stream",
     "text": [
      " 3/17 [====>.........................] - ETA: 1:39 - loss: 0.3739 - accuracy: 0.7633INFO:tensorflow:Assets written to: ram://4ca588ba-2362-42ad-9e86-6c48739a6106/assets\n"
     ]
    },
    {
     "name": "stderr",
     "output_type": "stream",
     "text": [
      "INFO:tensorflow:Assets written to: ram://4ca588ba-2362-42ad-9e86-6c48739a6106/assets\n"
     ]
    },
    {
     "name": "stdout",
     "output_type": "stream",
     "text": [
      "17/17 [==============================] - 133s 8s/step - loss: 0.4204 - accuracy: 0.7827 - val_loss: 0.5469 - val_accuracy: 0.7526\n",
      "Epoch 63/100\n",
      "17/17 [==============================] - 131s 8s/step - loss: 0.4829 - accuracy: 0.7772 - val_loss: 0.4793 - val_accuracy: 0.7987\n",
      "Epoch 64/100\n",
      "17/17 [==============================] - 129s 8s/step - loss: 0.3734 - accuracy: 0.7301 - val_loss: 0.5143 - val_accuracy: 0.7884\n",
      "Epoch 65/100\n",
      "17/17 [==============================] - 130s 8s/step - loss: 0.3097 - accuracy: 0.8019 - val_loss: 0.5871 - val_accuracy: 0.7404\n",
      "Epoch 66/100\n",
      "17/17 [==============================] - 131s 8s/step - loss: 0.3184 - accuracy: 0.7645 - val_loss: 0.5901 - val_accuracy: 0.7544\n",
      "Epoch 67/100\n",
      "17/17 [==============================] - 137s 8s/step - loss: 0.2959 - accuracy: 0.7867 - val_loss: 0.5111 - val_accuracy: 0.7744\n",
      "Epoch 68/100\n",
      "17/17 [==============================] - 137s 8s/step - loss: 0.3163 - accuracy: 0.8263 - val_loss: 0.6415 - val_accuracy: 0.7259\n",
      "Epoch 69/100\n",
      "17/17 [==============================] - 129s 8s/step - loss: 0.3004 - accuracy: 0.8095 - val_loss: 0.4620 - val_accuracy: 0.8181\n",
      "Epoch 70/100\n",
      "17/17 [==============================] - 131s 8s/step - loss: 0.3006 - accuracy: 0.7594 - val_loss: 0.4158 - val_accuracy: 0.8496\n",
      "Epoch 71/100\n",
      "17/17 [==============================] - 132s 8s/step - loss: 0.2806 - accuracy: 0.8154 - val_loss: 0.4960 - val_accuracy: 0.8169\n",
      "Epoch 72/100\n",
      "17/17 [==============================] - 132s 8s/step - loss: 0.2769 - accuracy: 0.8209 - val_loss: 0.5573 - val_accuracy: 0.7859\n",
      "Epoch 73/100\n",
      "17/17 [==============================] - 131s 8s/step - loss: 0.2881 - accuracy: 0.7893 - val_loss: 0.3675 - val_accuracy: 0.8696\n",
      "Epoch 74/100\n",
      "17/17 [==============================] - 132s 8s/step - loss: 0.3183 - accuracy: 0.8164 - val_loss: 0.4733 - val_accuracy: 0.8266\n",
      "Epoch 75/100\n",
      "17/17 [==============================] - 130s 8s/step - loss: 0.3263 - accuracy: 0.7808 - val_loss: 0.3885 - val_accuracy: 0.8611\n",
      "Epoch 76/100\n",
      "17/17 [==============================] - 130s 8s/step - loss: 0.2921 - accuracy: 0.8071 - val_loss: 0.4195 - val_accuracy: 0.8169\n",
      "Epoch 77/100\n",
      "17/17 [==============================] - 129s 8s/step - loss: 0.2581 - accuracy: 0.8534 - val_loss: 0.4442 - val_accuracy: 0.8029\n",
      "Epoch 78/100\n",
      "17/17 [==============================] - 129s 8s/step - loss: 0.2404 - accuracy: 0.8425 - val_loss: 0.5325 - val_accuracy: 0.7720\n",
      "Epoch 79/100\n",
      "17/17 [==============================] - 133s 8s/step - loss: 0.2391 - accuracy: 0.8188 - val_loss: 0.4910 - val_accuracy: 0.7878\n",
      "Epoch 80/100\n",
      "17/17 [==============================] - 129s 8s/step - loss: 0.2404 - accuracy: 0.8435 - val_loss: 0.6219 - val_accuracy: 0.7665\n",
      "Epoch 81/100\n",
      "17/17 [==============================] - 134s 8s/step - loss: 0.2440 - accuracy: 0.8283 - val_loss: 0.3982 - val_accuracy: 0.8260\n",
      "Epoch 82/100\n",
      "17/17 [==============================] - 132s 8s/step - loss: 0.2038 - accuracy: 0.8573 - val_loss: 0.4344 - val_accuracy: 0.8175\n",
      "Epoch 83/100\n",
      "17/17 [==============================] - 131s 8s/step - loss: 0.2305 - accuracy: 0.8354 - val_loss: 0.5404 - val_accuracy: 0.7920\n",
      "Epoch 84/100\n",
      "17/17 [==============================] - 128s 8s/step - loss: 0.2359 - accuracy: 0.8437 - val_loss: 0.5884 - val_accuracy: 0.7265\n",
      "Epoch 85/100\n",
      "17/17 [==============================] - 130s 8s/step - loss: 0.2293 - accuracy: 0.8288 - val_loss: 0.4145 - val_accuracy: 0.8466\n",
      "Epoch 86/100\n",
      "17/17 [==============================] - 132s 8s/step - loss: 0.2028 - accuracy: 0.8658 - val_loss: 0.3925 - val_accuracy: 0.8514\n",
      "Epoch 87/100\n",
      "17/17 [==============================] - 133s 8s/step - loss: 0.2177 - accuracy: 0.8488 - val_loss: 0.5063 - val_accuracy: 0.7823\n",
      "Epoch 88/100\n",
      "17/17 [==============================] - 130s 8s/step - loss: 0.1846 - accuracy: 0.8577 - val_loss: 0.4550 - val_accuracy: 0.7853\n",
      "Epoch 89/100\n",
      "17/17 [==============================] - 130s 8s/step - loss: 0.1885 - accuracy: 0.8601 - val_loss: 0.4278 - val_accuracy: 0.8338\n",
      "Epoch 90/100\n",
      "17/17 [==============================] - 132s 8s/step - loss: 0.1925 - accuracy: 0.8718 - val_loss: 0.3814 - val_accuracy: 0.8526\n",
      "Epoch 91/100\n",
      "17/17 [==============================] - 129s 8s/step - loss: 0.1771 - accuracy: 0.8714 - val_loss: 0.4662 - val_accuracy: 0.8041\n",
      "Epoch 92/100\n",
      "17/17 [==============================] - 131s 8s/step - loss: 0.1853 - accuracy: 0.8627 - val_loss: 0.4616 - val_accuracy: 0.8132\n",
      "Epoch 93/100\n",
      "17/17 [==============================] - 131s 8s/step - loss: 0.1772 - accuracy: 0.8544 - val_loss: 0.3595 - val_accuracy: 0.8660\n",
      "Epoch 94/100\n",
      "17/17 [==============================] - 130s 8s/step - loss: 0.1702 - accuracy: 0.8862 - val_loss: 0.3528 - val_accuracy: 0.8569\n",
      "Epoch 95/100\n",
      "17/17 [==============================] - 132s 8s/step - loss: 0.1610 - accuracy: 0.8939 - val_loss: 0.3998 - val_accuracy: 0.8241\n",
      "Epoch 96/100\n",
      "17/17 [==============================] - 130s 8s/step - loss: 0.2056 - accuracy: 0.8516 - val_loss: 0.6517 - val_accuracy: 0.7392\n",
      "Epoch 97/100\n",
      "17/17 [==============================] - 130s 8s/step - loss: 0.2062 - accuracy: 0.8383 - val_loss: 0.4115 - val_accuracy: 0.8156\n",
      "Epoch 98/100\n",
      "17/17 [==============================] - 129s 8s/step - loss: 0.1797 - accuracy: 0.8835 - val_loss: 0.5000 - val_accuracy: 0.7653\n",
      "Epoch 99/100\n",
      "17/17 [==============================] - 129s 8s/step - loss: 0.1834 - accuracy: 0.8599 - val_loss: 0.3652 - val_accuracy: 0.8702\n",
      "Epoch 100/100\n",
      "17/17 [==============================] - 130s 8s/step - loss: 0.1697 - accuracy: 0.8959 - val_loss: 0.4943 - val_accuracy: 0.7884\n",
      "69/69 [==============================] - 25s 352ms/step - loss: 0.5154 - accuracy: 0.7844\n",
      "69/69 [==============================] - 27s 320ms/step\n"
     ]
    },
    {
     "name": "stderr",
     "output_type": "stream",
     "text": [
      "WARNING:absl:Found untraced functions such as lstm_cell_28_layer_call_fn, lstm_cell_28_layer_call_and_return_conditional_losses, lstm_cell_29_layer_call_fn, lstm_cell_29_layer_call_and_return_conditional_losses, lstm_cell_31_layer_call_fn while saving (showing 5 of 12). These functions will not be directly callable after loading.\n"
     ]
    },
    {
     "name": "stdout",
     "output_type": "stream",
     "text": [
      "INFO:tensorflow:Assets written to: ram://fd697a1c-87dc-42e1-a31c-bb92fc0a5ff7/assets\n"
     ]
    },
    {
     "name": "stderr",
     "output_type": "stream",
     "text": [
      "INFO:tensorflow:Assets written to: ram://fd697a1c-87dc-42e1-a31c-bb92fc0a5ff7/assets\n"
     ]
    },
    {
     "name": "stdout",
     "output_type": "stream",
     "text": [
      "Time taken to finish best parameter search with RNN model: 1848.2832303750833 mins.\n"
     ]
    }
   ],
   "source": [
    "# func that sets up the context .. i.e. what the pipeline does, what the data input is\n",
    "RNN_model_func = create_RNN_model(num_sentiments, sentiment_class_weights, num_expected_unique_words,\n",
    "                                  embedding_size, gensim_weight_matrix,\n",
    "                                  X_train_pad, y_train, X_val_pad, y_val, X_test_pad, y_test)\n",
    "\n",
    "st_ = timer()\n",
    "# run NN model in parallel and extract results (train_score, valid_score,parameter, history of fit) as a list\n",
    "results = contacts_utils.run_parallel(RNN_model_func, num_cpus=4)(grid_params)\n",
    "\n",
    "end_ = timer()\n",
    "\n",
    "print(f\"Time taken to finish best parameter search with RNN model: {(end_-st_)/60.0} mins.\")"
   ]
  },
  {
   "cell_type": "markdown",
   "metadata": {
    "pycharm": {
     "name": "#%% md\n"
    }
   },
   "source": [
    "### Get the best RNN model based on accuracy score on test data"
   ]
  },
  {
   "cell_type": "code",
   "execution_count": 31,
   "metadata": {},
   "outputs": [
    {
     "data": {
      "text/plain": [
       "0.8130968809127808"
      ]
     },
     "execution_count": 31,
     "metadata": {},
     "output_type": "execute_result"
    }
   ],
   "source": [
    "results[0][0]"
   ]
  },
  {
   "cell_type": "code",
   "execution_count": 32,
   "metadata": {
    "pycharm": {
     "name": "#%%\n"
    }
   },
   "outputs": [
    {
     "name": "stdout",
     "output_type": "stream",
     "text": [
      "Best test score:0.8722146153450012\n",
      "Best params based on test score:{'batch_size': 100, 'drop_out_factor': [0.1, 0.1, 0.1], 'epochs': 100, 'lstm_nodes': [50, 100, 50]}\n"
     ]
    }
   ],
   "source": [
    "# find the best parameters based on validation score\n",
    "# results => test_score, param_dict, history, y_test_pred, model\n",
    "best_test_score = results[0][0]\n",
    "best_params = results[0][1]\n",
    "history_data = results[0][2]\n",
    "y_test_prediction_data = results[0][3]\n",
    "best_model = results[0][4]\n",
    "for i in range(1, len(results)):\n",
    "    tscore = results[i][0]\n",
    "    param = results[i][1]\n",
    "    if tscore > best_test_score:\n",
    "        best_test_score = tscore\n",
    "        best_params = param\n",
    "        history_data = results[i][2]\n",
    "        y_test_prediction_data = results[i][3]\n",
    "        best_model = results[i][4]\n",
    "\n",
    "# output result\n",
    "print(f\"Best test score:{best_test_score}\")\n",
    "print(f\"Best params based on test score:{best_params}\")"
   ]
  },
  {
   "cell_type": "markdown",
   "metadata": {
    "pycharm": {
     "name": "#%%\n"
    }
   },
   "source": [
    "### Model Metrics"
   ]
  },
  {
   "cell_type": "code",
   "execution_count": 33,
   "metadata": {
    "pycharm": {
     "name": "#%%\n"
    }
   },
   "outputs": [
    {
     "name": "stdout",
     "output_type": "stream",
     "text": [
      "              precision    recall  f1-score   support\n",
      "\n",
      "    negative       0.23      0.60      0.33        83\n",
      "     neutral       0.11      0.56      0.18        18\n",
      "    positive       0.98      0.89      0.93      2098\n",
      "\n",
      "    accuracy                           0.87      2199\n",
      "   macro avg       0.44      0.68      0.48      2199\n",
      "weighted avg       0.95      0.87      0.90      2199\n",
      "\n"
     ]
    }
   ],
   "source": [
    "model = best_model\n",
    "history_embedding = history_data\n",
    "y_pred = y_test_prediction_data\n",
    "\n",
    "# Confusion matrix\n",
    "y_true = np.argmax(y_test, axis = 1)\n",
    "print(metrics.classification_report(y_true, y_pred, target_names=['negative', 'neutral', 'positive']))"
   ]
  },
  {
   "cell_type": "code",
   "execution_count": 34,
   "metadata": {},
   "outputs": [
    {
     "name": "stdout",
     "output_type": "stream",
     "text": [
      "[[  50    3   30]\n",
      " [   6   10    2]\n",
      " [ 160   80 1858]]\n"
     ]
    },
    {
     "data": {
      "image/png": "[encoded data removed]",
      "text/plain": [
       "<Figure size 432x288 with 2 Axes>"
      ]
     },
     "metadata": {
      "needs_background": "light"
     },
     "output_type": "display_data"
    },
    {
     "name": "stdout",
     "output_type": "stream",
     "text": [
      "RNN Model:Accuracy of model(<3, = 3, >3) is:   [90.95 95.86 87.63]%\n",
      "RNN Model:Sensitivity of the test(<3, = 3, >3):[60.24 55.56 88.56]%\n",
      "RNN Model:Specificity of the test(<3, = 3, >3):[92.16 96.19 68.32]%\n",
      "RNN Model:Likelihood ratio(<3, = 3, >3):       [ 7.68 14.6   2.8 ]\n"
     ]
    }
   ],
   "source": [
    "## plot confusion matrix as well\n",
    "cm = confusion_matrix(y_true, y_pred)\n",
    "print(cm)\n",
    "cm_display = ConfusionMatrixDisplay(cm).plot()\n",
    "plt.show()\n",
    "accuracy, sensitivity, specificity, likelihood = contacts_utils.model_stats_all_labels(y_pred, y_true)\n",
    "print(f'RNN Model:Accuracy of model(<3, = 3, >3) is:   {np.round(accuracy*100, 2)}%')\n",
    "print(f'RNN Model:Sensitivity of the test(<3, = 3, >3):{np.round(sensitivity*100,2)}%')\n",
    "print(f'RNN Model:Specificity of the test(<3, = 3, >3):{np.round(specificity*100,2)}%')\n",
    "print(f'RNN Model:Likelihood ratio(<3, = 3, >3):       {np.round(likelihood, 2)}')"
   ]
  },
  {
   "cell_type": "markdown",
   "metadata": {
    "pycharm": {
     "name": "#%% md\n"
    }
   },
   "source": [
    "### Plot loss and validation, accuracy errors"
   ]
  },
  {
   "cell_type": "code",
   "execution_count": 42,
   "metadata": {
    "pycharm": {
     "name": "#%%\n"
    }
   },
   "outputs": [],
   "source": [
    "#print(history_embedding.history)"
   ]
  },
  {
   "cell_type": "code",
   "execution_count": 36,
   "metadata": {
    "pycharm": {
     "name": "#%%\n"
    }
   },
   "outputs": [
    {
     "data": {
      "image/png": "[encoded data removed]",
      "text/plain": [
       "<Figure size 432x288 with 1 Axes>"
      ]
     },
     "metadata": {
      "needs_background": "light"
     },
     "output_type": "display_data"
    }
   ],
   "source": [
    "contacts_utils.plot_loss(history_embedding)"
   ]
  },
  {
   "cell_type": "code",
   "execution_count": 37,
   "metadata": {
    "pycharm": {
     "name": "#%%\n"
    }
   },
   "outputs": [
    {
     "data": {
      "image/png": "[encoded data removed]",
      "text/plain": [
       "<Figure size 432x288 with 1 Axes>"
      ]
     },
     "metadata": {
      "needs_background": "light"
     },
     "output_type": "display_data"
    }
   ],
   "source": [
    "contacts_utils.plot_accuracy(history_embedding)"
   ]
  },
  {
   "cell_type": "code",
   "execution_count": 38,
   "metadata": {
    "pycharm": {
     "name": "#%%\n"
    }
   },
   "outputs": [
    {
     "data": {
      "text/plain": [
       "<keras.engine.sequential.Sequential at 0x7faa94bc0910>"
      ]
     },
     "execution_count": 38,
     "metadata": {},
     "output_type": "execute_result"
    }
   ],
   "source": [
    "best_model"
   ]
  },
  {
   "cell_type": "markdown",
   "metadata": {},
   "source": [
    "### Input test data as shown to determine sentiment based on best RNN model\n",
    "\n",
    "* Input data also must be pre-processed into tokens before feeding into RNN model"
   ]
  },
  {
   "cell_type": "code",
   "execution_count": 39,
   "metadata": {
    "pycharm": {
     "name": "#%%\n"
    }
   },
   "outputs": [
    {
     "name": "stdout",
     "output_type": "stream",
     "text": [
      "Read sheet 'Scrubbed_data' ...\n",
      "Columns dropped: ['OVERALL_RATING', 'COMFORT_RATING', 'VISION_RATING', 'VALUE_FOR_MONEY', 'PROS', 'CONS', 'ORIGINAL_SOURCE', 'REPLY_FROM_ACCUVUE', 'PRODUCT_LINK', 'WEBSITE']\n",
      " Drop the Author column and replace it with gender of author ...\n",
      "Consolidate all the comments into one column called COMMENT\n",
      "Make ratings into integers\n",
      "Tokenize data based on regex found from experimentation and common usage ...\n",
      "Comments before tokenization at index[0]:\n",
      " Acucue 2 Contact Lenses I have used these lenses for a long time and I have to say that the service from Lens.com is great and the lenses work great for my needs!  I highly recommend them!\n",
      "Comments after tokenization at index[0]:\n",
      " Acucue 2 Contact Lenses I have used these lenses for a long time and I have to say that the service from Lens.com is great and the lenses work great for my needs!  I highly recommend them!\n",
      "Comments at index[0] before basic cleaning:\n",
      " Acucue 2 Contact Lenses I have used these lenses for a long time and I have to say that the service from Lens.com is great and the lenses work great for my needs!  I highly recommend them!\n",
      "Comments at index[0] after cleaning:\n",
      " acucue 2 contact lenses i have used these lenses for a long time and i have to say that the service from lens.com is great and the lenses work great for my needs!  i highly recommend them!\n",
      "Acucue 2 Contact Lenses I have used these lenses for a long time and I have to say that the service from Lens.com is great and the lenses work great for my needs!  I highly recommend them!\n",
      "\n",
      "['acucue', '2', 'contact', 'lenses', 'i', 'have', 'used', 'these', 'lenses', 'for', 'a', 'long', 'time', 'and', 'i', 'have', 'to', 'say', 'that', 'the', 'service', 'from', 'lens', '.', 'com', 'is', 'great', 'and', 'the', 'lenses', 'work', 'great', 'for', 'my', 'needs', '!', 'i', 'highly', 'recommend', 'them', '!']\n",
      "Comments at index[0] before removal of punctuations:\n",
      " Acucue 2 Contact Lenses I have used these lenses for a long time and I have to say that the service from Lens.com is great and the lenses work great for my needs!  I highly recommend them!\n",
      "Comments at index[0] after removal of punctuation:\n",
      " ['acucue', 'contact', 'lenses', 'have', 'used', 'these', 'lenses', 'for', 'long', 'time', 'and', 'have', 'say', 'that', 'the', 'service', 'from', 'lens', 'com', 'great', 'and', 'the', 'lenses', 'work', 'great', 'for', 'needs', 'highly', 'recommend', 'them']\n",
      "Comments at index[0] before removal of stop words:\n",
      " Acucue 2 Contact Lenses I have used these lenses for a long time and I have to say that the service from Lens.com is great and the lenses work great for my needs!  I highly recommend them!\n",
      "Comments at index[0] after removal of stop words:\n",
      " ['used', 'for', 'long', 'time', 'and', 'say', 'service', 'from', 'com', 'great', 'and', 'work', 'great', 'for', 'needs', 'highly', 'recommend']\n",
      "Lemmatize tokens\n",
      "Comments at index[0] after lemmatization:\n",
      " ['use', 'for', 'long', 'time', 'and', 'say', 'service', 'from', 'com', 'great', 'and', 'work', 'great', 'for', 'need', 'highly', 'recommend']\n",
      "Build the bigram and trigram words for use with topic modeling\n",
      "Comments at index[0] after addition of bigrams:\n",
      " ['used', 'for', 'long', 'time', 'and', 'say', 'service', 'from', 'com', 'great', 'and', 'work', 'great', 'for', 'needs', 'highly', 'recommend', 'used-for', 'for-long', 'long-time', 'time-and', 'and-say', 'say-service', 'service-from', 'from-com', 'com-great', 'great-and', 'and-work', 'work-great', 'great-for', 'for-needs', 'needs-highly', 'highly-recommend']\n",
      "Comments at index[-1] after addition of bigrams:\n",
      " ['best', 'disposable', 'best-disposable']\n"
     ]
    }
   ],
   "source": [
    "import testdata_prep_rnn as tnn\n",
    "import pandas as pd\n",
    "filename = \"data/Master-data_Q42021.xlsx\"\n",
    "print(f\"Read sheet 'Scrubbed_data' ...\")\n",
    "df_raw = pd.read_excel(filename, sheet_name='Scrubbed_data', index_col='REVIEW_DATE')\n",
    "# to get a subset as a dataframe, use double bracket notation\n",
    "some_test_data = df_raw.iloc[:42, :]\n",
    "some_test_data.columns\n",
    "\n",
    "tks, wt = tnn.process_test_data(some_test_data, gensim_model)"
   ]
  },
  {
   "cell_type": "code",
   "execution_count": 40,
   "metadata": {
    "pycharm": {
     "name": "#%%\n"
    }
   },
   "outputs": [
    {
     "name": "stdout",
     "output_type": "stream",
     "text": [
      "2/2 [==============================] - 10s 69ms/step\n"
     ]
    }
   ],
   "source": [
    "tp_raw = best_model.predict(tks)"
   ]
  },
  {
   "cell_type": "code",
   "execution_count": 41,
   "metadata": {
    "pycharm": {
     "name": "#%%\n"
    }
   },
   "outputs": [
    {
     "data": {
      "text/plain": [
       "array([0, 2, 2, 2, 2, 0, 2, 0, 2, 1, 1, 2, 2, 2, 2, 2, 2, 2, 0, 2, 2, 0,\n",
       "       2, 0, 0, 2, 2, 0, 0, 0, 2, 0, 0, 2, 2, 2, 2, 2, 2, 2, 0, 2])"
      ]
     },
     "execution_count": 41,
     "metadata": {},
     "output_type": "execute_result"
    }
   ],
   "source": [
    "y_test_pred = np.argmax(tp_raw, axis = 1)\n",
    "y_test_pred"
   ]
  }
 ],
 "metadata": {
  "interpreter": {
   "hash": "7478654ab1aa58977e1af457aae5317775386ee06614bd651985e9aec83741b6"
  },
  "kernelspec": {
   "display_name": "Python 3 (ipykernel)",
   "language": "python",
   "name": "python3"
  },
  "language_info": {
   "codemirror_mode": {
    "name": "ipython",
    "version": 3
   },
   "file_extension": ".py",
   "mimetype": "text/x-python",
   "name": "python",
   "nbconvert_exporter": "python",
   "pygments_lexer": "ipython3",
   "version": "3.8.2"
  }
 },
 "nbformat": 4,
 "nbformat_minor": 4
}
