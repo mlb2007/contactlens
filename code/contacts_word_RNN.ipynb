{
 "cells": [
  {
   "cell_type": "code",
   "execution_count": 1,
   "metadata": {
    "pycharm": {
     "name": "#%%\n"
    }
   },
   "outputs": [
    {
     "name": "stderr",
     "output_type": "stream",
     "text": [
      "/Users/bmukund/miniconda3/lib/python3.8/site-packages/spacy/util.py:837: UserWarning: [W095] Model 'en_core_web_sm' (3.2.0) was trained with spaCy v3.2 and may not be 100% compatible with the current version (3.3.0). If you see errors or degraded performance, download a newer compatible model or retrain your custom model with the current spaCy version. For more details and available updates, run: python -m spacy validate\n",
      "  warnings.warn(warn_msg)\n",
      "[nltk_data] Downloading package wordnet to /Users/bmukund/nltk_data...\n",
      "[nltk_data]   Package wordnet is already up-to-date!\n",
      "[nltk_data] Downloading package omw-1.4 to /Users/bmukund/nltk_data...\n",
      "[nltk_data]   Package omw-1.4 is already up-to-date!\n"
     ]
    }
   ],
   "source": [
    "# Ref:https://www.machinelearningplus.com/nlp/topic-modeling-visualization-how-to-present-results-lda-models/\n",
    "%matplotlib inline\n",
    "%load_ext autoreload\n",
    "%autoreload 2\n",
    "\n",
    "import numpy as np\n",
    "import matplotlib.pyplot as plt\n",
    "import seaborn as sns\n",
    "import sys\n",
    "\n",
    "sys.path.append('pymodules')\n",
    "# for dictionary method synonym finder using wordnet\n",
    "#import nltk\n",
    "#nltk.download('wordnet')\n",
    "#nltk.download('omw-1.4')\n",
    "\n",
    "# Gensim\n",
    "import gensim, spacy, logging, warnings\n",
    "import gensim.corpora as corpora\n",
    "from gensim.models import Word2Vec\n",
    "# making the plot look good ...\n",
    "from adjustText import adjust_text\n",
    "from sklearn.decomposition import PCA\n",
    "\n",
    "from keras_preprocessing.sequence import pad_sequences\n",
    "from keras.preprocessing.text import Tokenizer\n",
    "from keras.utils import to_categorical\n",
    "from tensorflow.keras.models import Sequential\n",
    "from tensorflow.keras.layers import Dense, LSTM, Embedding,Bidirectional\n",
    "from tensorflow.keras.layers import Dropout\n",
    "\n",
    "from keras.callbacks import EarlyStopping, ModelCheckpoint\n",
    "\n",
    "from sklearn import metrics\n",
    "from sklearn.model_selection import train_test_split, ParameterGrid\n",
    "\n",
    "# this class read the raw input and tokenizes comprehensively for use with modeling\n",
    "import pymodules.read_and_tokenize as contacts_utils\n",
    "\n",
    "from timeit import default_timer as timer"
   ]
  },
  {
   "cell_type": "code",
   "execution_count": 2,
   "outputs": [
    {
     "name": "stdout",
     "output_type": "stream",
     "text": [
      "Read sheet 'Scrubbed_data' ...\n",
      "Columns dropped: ['OVERALL_RATING', 'COMFORT_RATING', 'VISION_RATING', 'VALUE_FOR_MONEY', 'PROS', 'CONS', 'ORIGINAL_SOURCE', 'REPLY_FROM_ACCUVUE', 'PRODUCT_LINK', 'WEBSITE']\n",
      " Drop the Author column and replace it with gender of author ...\n",
      "Consolidate all the comments into one column called COMMENT\n",
      "Make ratings into integers\n",
      "Tokenize data based on regex found from experimentation and common usage ...\n",
      "Comments before tokenization at index[0]:\n",
      " Acucue 2 Contact Lenses I have used these lenses for a long time and I have to say that the service from Lens.com is great and the lenses work great for my needs!  I highly recommend them!\n",
      "Comments after tokenization at index[0]:\n",
      " Acucue 2 Contact Lenses I have used these lenses for a long time and I have to say that the service from Lens.com is great and the lenses work great for my needs!  I highly recommend them!\n",
      "Comments at index[0] before basic cleaning:\n",
      " Acucue 2 Contact Lenses I have used these lenses for a long time and I have to say that the service from Lens.com is great and the lenses work great for my needs!  I highly recommend them!\n",
      "Comments at index[0] after cleaning:\n",
      " acucue 2 contact lenses i have used these lenses for a long time and i have to say that the service from lens.com is great and the lenses work great for my needs!  i highly recommend them!\n",
      "Acucue 2 Contact Lenses I have used these lenses for a long time and I have to say that the service from Lens.com is great and the lenses work great for my needs!  I highly recommend them!\n",
      "\n",
      "['acucue', '2', 'contact', 'lenses', 'i', 'have', 'used', 'these', 'lenses', 'for', 'a', 'long', 'time', 'and', 'i', 'have', 'to', 'say', 'that', 'the', 'service', 'from', 'lens', '.', 'com', 'is', 'great', 'and', 'the', 'lenses', 'work', 'great', 'for', 'my', 'needs', '!', 'i', 'highly', 'recommend', 'them', '!']\n",
      "Comments at index[0] before removal of punctuations:\n",
      " Acucue 2 Contact Lenses I have used these lenses for a long time and I have to say that the service from Lens.com is great and the lenses work great for my needs!  I highly recommend them!\n",
      "Comments at index[0] after removal of punctuation:\n",
      " ['acucue', 'contact', 'lenses', 'have', 'used', 'these', 'lenses', 'for', 'long', 'time', 'and', 'have', 'say', 'that', 'the', 'service', 'from', 'lens', 'com', 'great', 'and', 'the', 'lenses', 'work', 'great', 'for', 'needs', 'highly', 'recommend', 'them']\n",
      "Comments at index[0] before removal of stop words:\n",
      " Acucue 2 Contact Lenses I have used these lenses for a long time and I have to say that the service from Lens.com is great and the lenses work great for my needs!  I highly recommend them!\n",
      "Comments at index[0] after removal of stop words:\n",
      " ['contact', 'used', 'time', 'service', 'com', 'great', 'work', 'great', 'needs', 'highly', 'recommend']\n",
      "Lemmatize tokens\n",
      "Comments at index[0] after lemmatization:\n",
      " ['contact', 'use', 'time', 'service', 'com', 'great', 'work', 'great', 'need', 'highly', 'recommend']\n",
      "Build the bigram and trigram words for use with topic modeling\n"
     ]
    }
   ],
   "source": [
    "filename = \"data/Master-data_Q42021.xlsx\"\n",
    "prep_comments, df = contacts_utils.read_file(filename)"
   ],
   "metadata": {
    "collapsed": false,
    "pycharm": {
     "name": "#%%\n"
    }
   }
  },
  {
   "cell_type": "code",
   "execution_count": 3,
   "outputs": [],
   "source": [
    "# attach sentiment, seems\n",
    "def find_sentiment(rating):\n",
    "    choices = [0, 1, 2]\n",
    "    conditions = [rating < 3, rating == 3, rating > 3]\n",
    "    senti = np.select(conditions, choices)\n",
    "    return senti\n",
    "\n",
    "df['SENTIMENT'] = df['RATING'].apply(find_sentiment).astype('category')"
   ],
   "metadata": {
    "collapsed": false,
    "pycharm": {
     "name": "#%%\n"
    }
   }
  },
  {
   "cell_type": "code",
   "execution_count": 4,
   "outputs": [
    {
     "name": "stdout",
     "output_type": "stream",
     "text": [
      "Comments at index[0] after addition of bigrams:\n",
      " ['contact', 'used', 'time', 'service', 'com', 'great', 'work', 'great', 'needs', 'highly', 'recommend', 'contact-used', 'used-time', 'time-service', 'service-com', 'com-great', 'great-work', 'work-great', 'great-needs', 'needs-highly', 'highly-recommend']\n",
      "Comments at index[-1] after addition of bigrams:\n",
      " ['buy', 'order', 'came', 'fast', 'without', 'issues', 'candy', 'nice', 'touch', 'buy-order', 'order-came', 'came-fast', 'fast-without', 'without-issues', 'issues-candy', 'candy-nice', 'nice-touch']\n"
     ]
    }
   ],
   "source": [
    "require_bigrams = True\n",
    "if require_bigrams:\n",
    "    for i in range(len(prep_comments.tokens)):\n",
    "        prep_comments.tokens[i] = prep_comments.tokens[i] + prep_comments.bigrams[i]\n",
    "\n",
    "test_index = 0\n",
    "print(f\"Comments at index[{test_index}] after addition of bigrams:\\n {prep_comments.tokens[test_index]}\")\n",
    "print(f\"Comments at index[{-1}] after addition of bigrams:\\n {prep_comments.tokens[-1]}\")"
   ],
   "metadata": {
    "collapsed": false,
    "pycharm": {
     "name": "#%%\n"
    }
   }
  },
  {
   "cell_type": "code",
   "execution_count": 5,
   "metadata": {
    "pycharm": {
     "name": "#%%\n"
    }
   },
   "outputs": [],
   "source": [
    "## Create Dictionary\n",
    "#id2word = corpora.Dictionary(prep_comments.tokens)\n",
    "## Create Corpus: Term Document Frequency\n",
    "#corpus = [id2word.doc2bow(text) for text in prep_comments.tokens]\n",
    "#print(corpus)"
   ]
  },
  {
   "cell_type": "code",
   "execution_count": 6,
   "metadata": {
    "pycharm": {
     "name": "#%%\n"
    }
   },
   "outputs": [],
   "source": [
    "df['TOKENS'] = prep_comments.tokens"
   ]
  },
  {
   "cell_type": "code",
   "execution_count": 7,
   "metadata": {
    "pycharm": {
     "name": "#%%\n"
    }
   },
   "outputs": [],
   "source": [
    "dfXY = df[['TOKENS', 'SENTIMENT']]"
   ]
  },
  {
   "cell_type": "code",
   "execution_count": 8,
   "outputs": [
    {
     "data": {
      "text/plain": "                                                        TOKENS SENTIMENT\nREVIEW_DATE                                                             \n2021-11-01   [contact, used, time, service, com, great, wor...         2\n2021-12-02   [clear, vision, tends, cloud, clear-vision, vi...         2\n2021-12-01   [comfort, hard, handle, flimsy, comfortable, e...         2\n2021-11-16   [easy, use, using, product, years, reliable, e...         2\n2021-12-08   [excellent, excellent, got, promised, discount...         2\n...                                                        ...       ...\n2021-11-29   [truly, best, price, fast, shipping, quick, ve...         2\n2021-11-23   [comfortable, vita, comfortable, wear, fact, c...         2\n2021-12-27   [comfortable, convenient, comfortable, conveni...         2\n2021-10-16   [worst, worn, microscopic, tears, week, irrita...         0\n2021-12-05   [buy, order, came, fast, without, issues, cand...         2\n\n[8794 rows x 2 columns]",
      "text/html": "<div>\n<style scoped>\n    .dataframe tbody tr th:only-of-type {\n        vertical-align: middle;\n    }\n\n    .dataframe tbody tr th {\n        vertical-align: top;\n    }\n\n    .dataframe thead th {\n        text-align: right;\n    }\n</style>\n<table border=\"1\" class=\"dataframe\">\n  <thead>\n    <tr style=\"text-align: right;\">\n      <th></th>\n      <th>TOKENS</th>\n      <th>SENTIMENT</th>\n    </tr>\n    <tr>\n      <th>REVIEW_DATE</th>\n      <th></th>\n      <th></th>\n    </tr>\n  </thead>\n  <tbody>\n    <tr>\n      <th>2021-11-01</th>\n      <td>[contact, used, time, service, com, great, wor...</td>\n      <td>2</td>\n    </tr>\n    <tr>\n      <th>2021-12-02</th>\n      <td>[clear, vision, tends, cloud, clear-vision, vi...</td>\n      <td>2</td>\n    </tr>\n    <tr>\n      <th>2021-12-01</th>\n      <td>[comfort, hard, handle, flimsy, comfortable, e...</td>\n      <td>2</td>\n    </tr>\n    <tr>\n      <th>2021-11-16</th>\n      <td>[easy, use, using, product, years, reliable, e...</td>\n      <td>2</td>\n    </tr>\n    <tr>\n      <th>2021-12-08</th>\n      <td>[excellent, excellent, got, promised, discount...</td>\n      <td>2</td>\n    </tr>\n    <tr>\n      <th>...</th>\n      <td>...</td>\n      <td>...</td>\n    </tr>\n    <tr>\n      <th>2021-11-29</th>\n      <td>[truly, best, price, fast, shipping, quick, ve...</td>\n      <td>2</td>\n    </tr>\n    <tr>\n      <th>2021-11-23</th>\n      <td>[comfortable, vita, comfortable, wear, fact, c...</td>\n      <td>2</td>\n    </tr>\n    <tr>\n      <th>2021-12-27</th>\n      <td>[comfortable, convenient, comfortable, conveni...</td>\n      <td>2</td>\n    </tr>\n    <tr>\n      <th>2021-10-16</th>\n      <td>[worst, worn, microscopic, tears, week, irrita...</td>\n      <td>0</td>\n    </tr>\n    <tr>\n      <th>2021-12-05</th>\n      <td>[buy, order, came, fast, without, issues, cand...</td>\n      <td>2</td>\n    </tr>\n  </tbody>\n</table>\n<p>8794 rows × 2 columns</p>\n</div>"
     },
     "execution_count": 8,
     "metadata": {},
     "output_type": "execute_result"
    }
   ],
   "source": [
    "dfXY"
   ],
   "metadata": {
    "collapsed": false,
    "pycharm": {
     "name": "#%%\n"
    }
   }
  },
  {
   "cell_type": "code",
   "execution_count": 9,
   "metadata": {
    "pycharm": {
     "name": "#%%\n"
    }
   },
   "outputs": [
    {
     "data": {
      "text/plain": "<Figure size 432x288 with 1 Axes>",
      "image/png": "[encoded data removed]"
     },
     "metadata": {
      "needs_background": "light"
     },
     "output_type": "display_data"
    }
   ],
   "source": [
    "sns.countplot(dfXY.SENTIMENT)\n",
    "plt.show()"
   ]
  },
  {
   "cell_type": "markdown",
   "metadata": {
    "pycharm": {
     "name": "#%% md\n"
    }
   },
   "source": [
    "### Highly imbalanced data\n",
    "* Because of highly imbalanced data, we need to \"balance\" by using class weights while fitting any model"
   ]
  },
  {
   "cell_type": "markdown",
   "metadata": {
    "pycharm": {
     "name": "#%% md\n"
    }
   },
   "source": [
    "### take tokenized sentences and make it all integers using keras tokenizer on already tokenized data"
   ]
  },
  {
   "cell_type": "code",
   "execution_count": 10,
   "metadata": {
    "pycharm": {
     "name": "#%%\n"
    }
   },
   "outputs": [],
   "source": [
    "# because embedding is independent of tokenization, we integerize our token based on keras tokenizer\n",
    "num_expected_unique_words = 10000\n",
    "keras_tokenizer = Tokenizer(num_expected_unique_words, split=\",\")\n",
    "keras_tokenizer.fit_on_texts(dfXY['TOKENS'])"
   ]
  },
  {
   "cell_type": "code",
   "execution_count": 11,
   "metadata": {
    "pycharm": {
     "name": "#%%\n"
    }
   },
   "outputs": [],
   "source": [
    "validation_reqd = True\n",
    "X = dfXY.TOKENS\n",
    "y = dfXY.SENTIMENT\n",
    "df_trainX, df_trainy, df_testX, df_testy, df_validX, df_validy = contacts_utils.split_data(X, y, validation_reqd)"
   ]
  },
  {
   "cell_type": "code",
   "execution_count": 12,
   "metadata": {
    "pycharm": {
     "name": "#%%\n"
    }
   },
   "outputs": [],
   "source": [
    "MAX_SEQ_LEN = 300\n",
    "X_train=keras_tokenizer.texts_to_sequences(df_trainX) # this converts texts into some numeric sequences\n",
    "X_train_pad=pad_sequences(X_train,maxlen=MAX_SEQ_LEN,padding='post') # this makes the length of all numeric sequences equal\n",
    "\n",
    "X_test = keras_tokenizer.texts_to_sequences(df_testX)\n",
    "X_test_pad = pad_sequences(X_test, maxlen = MAX_SEQ_LEN, padding = 'post')\n",
    "\n",
    "if validation_reqd:\n",
    "    X_val = keras_tokenizer.texts_to_sequences(df_validX)\n",
    "    X_val_pad = pad_sequences(X_val, maxlen = MAX_SEQ_LEN, padding = 'post')\n",
    "else:\n",
    "    X_val = None\n",
    "    X_val_pad = None"
   ]
  },
  {
   "cell_type": "code",
   "execution_count": 13,
   "metadata": {
    "pycharm": {
     "name": "#%%\n"
    }
   },
   "outputs": [],
   "source": [
    "y_train = to_categorical(df_trainy.values,num_classes=3)\n",
    "y_test = to_categorical(df_testy.values, num_classes=3)\n",
    "if validation_reqd:\n",
    "    y_val = to_categorical(df_validy.values, num_classes=3)\n",
    "else:\n",
    "    y_val = None"
   ]
  },
  {
   "cell_type": "markdown",
   "metadata": {
    "pycharm": {
     "name": "#%% md\n"
    }
   },
   "source": [
    "### Compute class weights based on training data to balance the dataset"
   ]
  },
  {
   "cell_type": "code",
   "execution_count": 14,
   "metadata": {
    "pycharm": {
     "name": "#%%\n"
    }
   },
   "outputs": [],
   "source": [
    "from sklearn.utils.class_weight import compute_class_weight\n",
    "y_integers = np.argmax(y_train, axis=1)\n",
    "class_weights = compute_class_weight(class_weight='balanced', classes=np.unique(y_integers), y=y_integers)\n",
    "sentiment_class_weights = dict(enumerate(class_weights))"
   ]
  },
  {
   "cell_type": "code",
   "execution_count": 15,
   "metadata": {
    "pycharm": {
     "name": "#%%\n"
    }
   },
   "outputs": [
    {
     "name": "stdout",
     "output_type": "stream",
     "text": [
      "{0: 7.460030165912519, 1: 34.34722222222222, 2: 0.3525051671299266}\n"
     ]
    },
    {
     "data": {
      "text/plain": "<Figure size 432x288 with 1 Axes>",
      "image/png": "[encoded data removed]"
     },
     "metadata": {
      "needs_background": "light"
     },
     "output_type": "display_data"
    },
    {
     "name": "stdout",
     "output_type": "stream",
     "text": [
      "[ 221   48 4677]\n"
     ]
    },
    {
     "data": {
      "text/plain": "<Figure size 432x288 with 1 Axes>",
      "image/png": "[encoded data removed]"
     },
     "metadata": {
      "needs_background": "light"
     },
     "output_type": "display_data"
    }
   ],
   "source": [
    "### Test if balancing has indeed taken place ...\n",
    "print(sentiment_class_weights)\n",
    "sns.countplot(y_integers)\n",
    "plt.show()\n",
    "print(np.bincount(y_integers))\n",
    "balance_wts = np.array([val for k, val in sentiment_class_weights.items()])\n",
    "bal = np.round(np.bincount(y_integers) * balance_wts)\n",
    "sns.countplot(bal)\n",
    "plt.show()"
   ]
  },
  {
   "cell_type": "code",
   "execution_count": 16,
   "metadata": {
    "pycharm": {
     "name": "#%%\n"
    }
   },
   "outputs": [],
   "source": [
    "# train Gensim's Word2Vec model\n",
    "gensim_model = Word2Vec(sentences=prep_comments.tokens,      # corpus\n",
    "                        vector_size=100,            # embedding dimension\n",
    "                        window=4,                   # words before and after to take into consideration\n",
    "                        sg=1,                       # use skip-gram\n",
    "                        negative=5,                 # number of negative examples for each positive one\n",
    "                        alpha=0.025,                # initial learning rate\n",
    "                        min_alpha=0.0001,           # minimum learning rate\n",
    "                        epochs=10,                   # number of passes through the data\n",
    "                        min_count=1,                # words that appear less than this are removed\n",
    "                        workers=4,                  # we use 1 to ensure replicability\n",
    "                        seed=92                     # for replicability\n",
    "                        )"
   ]
  },
  {
   "cell_type": "code",
   "execution_count": 17,
   "metadata": {
    "pycharm": {
     "name": "#%%\n"
    }
   },
   "outputs": [
    {
     "data": {
      "text/plain": "(29377, 100)"
     },
     "execution_count": 17,
     "metadata": {},
     "output_type": "execute_result"
    }
   ],
   "source": [
    "# extract the word embeddings from the model\n",
    "word_vectors = gensim_model.wv\n",
    "word_vectors.vectors.shape  # vocab_size x embeddings dimension"
   ]
  },
  {
   "cell_type": "code",
   "execution_count": 18,
   "metadata": {
    "pycharm": {
     "name": "#%%\n"
    }
   },
   "outputs": [
    {
     "name": "stdout",
     "output_type": "stream",
     "text": [
      "Vocabulary Size: 29377 - Embedding Dim: 100\n"
     ]
    }
   ],
   "source": [
    "word_vectors_weights = gensim_model.wv.vectors\n",
    "vocab_size, embedding_size = word_vectors_weights.shape\n",
    "print(\"Vocabulary Size: {} - Embedding Dim: {}\".format(vocab_size, embedding_size))"
   ]
  },
  {
   "cell_type": "code",
   "execution_count": 19,
   "metadata": {
    "pycharm": {
     "name": "#%%\n"
    }
   },
   "outputs": [
    {
     "name": "stdout",
     "output_type": "stream",
     "text": [
      "[('usual', 0.8906511068344116), ('complaints', 0.8849597573280334), ('product-issues', 0.8752360939979553)]\n",
      "[('fee', 0.9062368869781494), ('receiving', 0.9008634686470032), ('reasonable', 0.8930147290229797)]\n",
      "[('support', 0.9328551888465881), ('prompt', 0.9296995997428894), ('efficient', 0.9282112121582031)]\n",
      "[('inexpensive', 0.9252446293830872), ('quality-contact', 0.9124814867973328), ('good-contact', 0.9109454154968262)]\n",
      "[('comfort-fit', 0.8070130348205566), ('fit-comfort', 0.8048593401908875), ('great-comfort', 0.76300448179245)]\n"
     ]
    }
   ],
   "source": [
    "# Some validation on the quality of the Word2Vec model\n",
    "print(gensim_model.wv.most_similar('product', topn=3))\n",
    "print(gensim_model.wv.most_similar('price', topn=3))\n",
    "print(gensim_model.wv.most_similar('service', topn=3))\n",
    "print(gensim_model.wv.most_similar('quality', topn=3))\n",
    "print(gensim_model.wv.most_similar(positive=['comfort', 'fit'], negative=['dry'], topn=3))\n",
    "\n",
    "def word2token(word):\n",
    "    try:\n",
    "        return gensim_model.wv.key_to_index[word]\n",
    "    except KeyError:\n",
    "        return 0\n",
    "\n",
    "def token2word(token):\n",
    "    return gensim_model.wv.index_to_key[token]"
   ]
  },
  {
   "cell_type": "code",
   "execution_count": 20,
   "metadata": {
    "pycharm": {
     "name": "#%%\n"
    }
   },
   "outputs": [
    {
     "data": {
      "text/plain": "(10000, 100)"
     },
     "execution_count": 20,
     "metadata": {},
     "output_type": "execute_result"
    }
   ],
   "source": [
    "gensim_weight_matrix = np.zeros((num_expected_unique_words ,embedding_size))\n",
    "gensim_weight_matrix.shape"
   ]
  },
  {
   "cell_type": "markdown",
   "source": [
    "### Test key to index for word vectors ..."
   ],
   "metadata": {
    "collapsed": false,
    "pycharm": {
     "name": "#%% md\n"
    }
   }
  },
  {
   "cell_type": "code",
   "execution_count": 21,
   "metadata": {
    "pycharm": {
     "name": "#%%\n"
    }
   },
   "outputs": [
    {
     "data": {
      "text/plain": "array([-0.7768502 ,  0.02300774,  0.26880482,  0.13142408, -0.53115755,\n       -0.3739037 , -1.108656  , -0.6720339 ,  0.13040945,  0.532316  ,\n        1.1707847 ,  0.12693594,  0.07948939, -0.05052609,  0.36457092,\n        0.02171068, -0.25104254, -0.5830283 ,  0.41373563, -1.0604469 ,\n        0.95258254, -0.5773645 ,  0.80656266,  0.5073695 , -0.2731006 ,\n        0.26703632, -0.07272255, -0.1386635 , -0.7810804 ,  0.2614708 ,\n        0.25357038,  0.48099288, -1.1897092 ,  0.235308  ,  1.0025603 ,\n        0.13769008, -0.24867558, -0.27040824, -0.14294499, -0.46284276,\n        0.29400438,  0.26128855, -0.33124903, -0.15286216,  0.08377958,\n       -0.18434164,  0.5107179 ,  0.3370642 ,  0.2261591 ,  0.8912444 ,\n        0.27115285,  0.00770176,  0.3386986 , -0.28057355, -0.7383073 ,\n        0.1156505 ,  0.21219163, -0.44088534,  0.11250752, -0.09759232,\n       -0.5503909 ,  0.5893717 , -0.08108548,  0.61314166,  0.4646472 ,\n       -0.20553434,  0.07031621, -0.32457545,  0.14979306, -1.2174366 ,\n        0.14776932,  0.14839739, -0.19341679, -0.980259  ,  1.1058319 ,\n        0.88895303,  0.00564484,  0.04002473,  0.5290424 ,  0.2092911 ,\n        1.2399303 , -0.27742118, -0.80696446, -0.79269725, -0.4440993 ,\n        0.13886575,  0.14160709,  0.16441745,  0.02592481,  0.0249657 ,\n        0.39385548,  0.10295701, -1.0140222 ,  0.14412656,  0.4407497 ,\n        0.12857217,  0.40905163,  0.20842668, -0.40898556, -0.02193199],\n      dtype=float32)"
     },
     "execution_count": 21,
     "metadata": {},
     "output_type": "execute_result"
    }
   ],
   "source": [
    "word_vectors[word_vectors.key_to_index['dry']]"
   ]
  },
  {
   "cell_type": "markdown",
   "metadata": {
    "pycharm": {
     "name": "#%% md\n"
    }
   },
   "source": [
    "### map the index of the word (obtained by keras_tokenizer, which assigned interger values to words) to its weight matrix obtained from wrod embedding"
   ]
  },
  {
   "cell_type": "code",
   "execution_count": 22,
   "metadata": {
    "pycharm": {
     "name": "#%%\n"
    }
   },
   "outputs": [],
   "source": [
    "for word, index in keras_tokenizer.word_index.items():\n",
    "    if index < num_expected_unique_words: # why ? since index starts with zero\n",
    "        try:\n",
    "            word_index_in_embedding = word_vectors.key_to_index[word]\n",
    "        except KeyError:\n",
    "            gensim_weight_matrix[index] = np.zeros(embedding_size)\n",
    "        else:\n",
    "            gensim_weight_matrix[index] = word_vectors[word_index_in_embedding]"
   ]
  },
  {
   "cell_type": "code",
   "execution_count": 23,
   "metadata": {
    "pycharm": {
     "name": "#%%\n"
    }
   },
   "outputs": [
    {
     "data": {
      "text/plain": "(10000, 100)"
     },
     "execution_count": 23,
     "metadata": {},
     "output_type": "execute_result"
    }
   ],
   "source": [
    "gensim_weight_matrix.shape"
   ]
  },
  {
   "cell_type": "markdown",
   "metadata": {
    "pycharm": {
     "name": "#%% md\n"
    }
   },
   "source": [
    "### RNN model"
   ]
  },
  {
   "cell_type": "code",
   "execution_count": 24,
   "metadata": {
    "pycharm": {
     "name": "#%%\n"
    }
   },
   "outputs": [],
   "source": [
    "num_sentiments  = 3"
   ]
  },
  {
   "cell_type": "code",
   "execution_count": 25,
   "outputs": [],
   "source": [
    "#EarlyStopping and ModelCheckpoint\n",
    "es = EarlyStopping(monitor = 'val_loss', mode = 'min', verbose = 1, patience = 5)\n",
    "mc = ModelCheckpoint('./sentiment_RNN_model.h5', monitor = 'val_accuracy', mode = 'max', verbose = 1, save_best_only = True)"
   ],
   "metadata": {
    "collapsed": false,
    "pycharm": {
     "name": "#%%\n"
    }
   }
  },
  {
   "cell_type": "code",
   "execution_count": 26,
   "outputs": [],
   "source": [
    "def create_RNN_model(num_sentiments, sentiment_class_weights, num_expected_unique_words, embedding_size, gensim_weight_matrix, trainX, trainy, validX, validy, testX, testy):\n",
    "    def _create_RNN_model(param_dict):\n",
    "        _epochs = param_dict['epochs']\n",
    "        _batch_size = param_dict['batch_size']\n",
    "        drop_out_factor = param_dict['drop_out_factor']\n",
    "        lstm_nodes = param_dict['lstm_nodes']\n",
    "\n",
    "        # fixed three layers ...\n",
    "        model = Sequential()\n",
    "        model.add(Embedding(input_dim = num_expected_unique_words,\n",
    "                    output_dim = embedding_size,\n",
    "                    input_length= trainX.shape[1],\n",
    "                    weights = [gensim_weight_matrix],\n",
    "                    trainable = False))\n",
    "\n",
    "        model.add(Dropout(drop_out_factor[0]))\n",
    "        model.add(Bidirectional(LSTM(lstm_nodes[0],return_sequences=True)))\n",
    "        model.add(Dropout(drop_out_factor[1]))\n",
    "        model.add(Bidirectional(LSTM(lstm_nodes[1],return_sequences=True)))\n",
    "        model.add(Dropout(drop_out_factor[2]))\n",
    "        model.add(Bidirectional(LSTM(lstm_nodes[2],return_sequences=False)))\n",
    "\n",
    "        model.add(Dense(num_sentiments, activation = 'softmax'))\n",
    "\n",
    "        model.compile(loss = 'categorical_crossentropy',\n",
    "                      optimizer = 'adam',\n",
    "                      metrics = 'accuracy')\n",
    "\n",
    "        history = model.fit(trainX, trainy,\n",
    "                            epochs = _epochs,\n",
    "                            batch_size = _batch_size,\n",
    "                            validation_data=(validX, validy),\n",
    "                            verbose = 1,\n",
    "                            callbacks= [es, mc],\n",
    "                            class_weight = sentiment_class_weights,\n",
    "                            workers=4,\n",
    "                            use_multiprocessing=True)\n",
    "\n",
    "        _, test_score = model.evaluate(testX,testy)\n",
    "        y_pred_test_raw = model.predict(testX, workers=4, use_multiprocessing=True)\n",
    "        y_test_pred = np.argmax(y_pred_test_raw, axis = 1)\n",
    "        return test_score, param_dict, history, y_test_pred, model\n",
    "\n",
    "    return _create_RNN_model"
   ],
   "metadata": {
    "collapsed": false,
    "pycharm": {
     "name": "#%%\n"
    }
   }
  },
  {
   "cell_type": "code",
   "execution_count": 27,
   "outputs": [
    {
     "name": "stdout",
     "output_type": "stream",
     "text": [
      "{'batch_size': 120, 'drop_out_factor': [0.2, 0.2, 0.2], 'epochs': 2, 'lstm_nodes': [100, 200, 100]}\n"
     ]
    },
    {
     "data": {
      "text/plain": "[None]"
     },
     "execution_count": 27,
     "metadata": {},
     "output_type": "execute_result"
    }
   ],
   "source": [
    "# parameters to be varied\n",
    "batch_size = [120]\n",
    "epochs = [2]\n",
    "drop_out_factor = [[0.2, 0.2, 0.2]]\n",
    "lstm_nodes = [[100, 200, 100]]\n",
    "\n",
    "parameters = [{'epochs': epochs,\n",
    "               'batch_size': batch_size,\n",
    "               'drop_out_factor':drop_out_factor,\n",
    "               'lstm_nodes':lstm_nodes\n",
    "               }\n",
    "              ]\n",
    "\n",
    "# make a grid out of parameter choices ...\n",
    "grid_params = ParameterGrid(parameters)\n",
    "[print(x) for x in grid_params]"
   ],
   "metadata": {
    "collapsed": false,
    "pycharm": {
     "name": "#%%\n"
    }
   }
  },
  {
   "cell_type": "code",
   "execution_count": 28,
   "outputs": [
    {
     "name": "stderr",
     "output_type": "stream",
     "text": [
      "2022-08-02 21:41:13.439930: I tensorflow/core/platform/cpu_feature_guard.cc:193] This TensorFlow binary is optimized with oneAPI Deep Neural Network Library (oneDNN) to use the following CPU instructions in performance-critical operations:  AVX2 FMA\n",
      "To enable them in other operations, rebuild TensorFlow with the appropriate compiler flags.\n"
     ]
    },
    {
     "name": "stdout",
     "output_type": "stream",
     "text": [
      "Epoch 1/2\n",
      "42/42 [==============================] - ETA: 0s - loss: 1.0751 - accuracy: 0.6112\n",
      "Epoch 1: val_accuracy improved from -inf to 0.62523, saving model to ./sentiment_RNN_model.h5\n",
      "42/42 [==============================] - 156s 4s/step - loss: 1.0751 - accuracy: 0.6112 - val_loss: 1.1230 - val_accuracy: 0.6252\n",
      "Epoch 2/2\n",
      "42/42 [==============================] - ETA: 0s - loss: 1.0386 - accuracy: 0.6474\n",
      "Epoch 2: val_accuracy improved from 0.62523 to 0.76349, saving model to ./sentiment_RNN_model.h5\n",
      "42/42 [==============================] - 140s 3s/step - loss: 1.0386 - accuracy: 0.6474 - val_loss: 0.8157 - val_accuracy: 0.7635\n",
      "69/69 [==============================] - 23s 326ms/step - loss: 0.8315 - accuracy: 0.7467\n",
      "69/69 [==============================] - 25s 327ms/step\n"
     ]
    },
    {
     "name": "stderr",
     "output_type": "stream",
     "text": [
      "WARNING:absl:Found untraced functions such as lstm_cell_1_layer_call_fn, lstm_cell_1_layer_call_and_return_conditional_losses, lstm_cell_2_layer_call_fn, lstm_cell_2_layer_call_and_return_conditional_losses, lstm_cell_4_layer_call_fn while saving (showing 5 of 12). These functions will not be directly callable after loading.\n"
     ]
    },
    {
     "name": "stdout",
     "output_type": "stream",
     "text": [
      "INFO:tensorflow:Assets written to: ram://d11bf306-ea01-4667-bacb-90300ffc4782/assets\n"
     ]
    },
    {
     "name": "stderr",
     "output_type": "stream",
     "text": [
      "INFO:tensorflow:Assets written to: ram://d11bf306-ea01-4667-bacb-90300ffc4782/assets\n",
      "2022-08-02 21:47:26.278018: I tensorflow/core/platform/cpu_feature_guard.cc:193] This TensorFlow binary is optimized with oneAPI Deep Neural Network Library (oneDNN) to use the following CPU instructions in performance-critical operations:  AVX2 FMA\n",
      "To enable them in other operations, rebuild TensorFlow with the appropriate compiler flags.\n"
     ]
    },
    {
     "name": "stdout",
     "output_type": "stream",
     "text": [
      "Time taken to finish best parameter search with RNN model: 6.432630306716667 mins.\n"
     ]
    }
   ],
   "source": [
    "# func that sets up the context .. i.e. what the pipeline does, what the data input is\n",
    "RNN_model_func = create_RNN_model(num_sentiments, sentiment_class_weights, num_expected_unique_words,\n",
    "                                  embedding_size, gensim_weight_matrix,\n",
    "                                  X_train_pad, y_train, X_val_pad, y_val, X_test_pad, y_test)\n",
    "\n",
    "st_ = timer()\n",
    "# run NN model in parallel and extract results (train_score, valid_score,parameter, history of fit) as a list\n",
    "results = contacts_utils.run_parallel(RNN_model_func, num_cpus=4)(grid_params)\n",
    "\n",
    "end_ = timer()\n",
    "\n",
    "print(f\"Time taken to finish best parameter search with RNN model: {(end_-st_)/60.0} mins.\")"
   ],
   "metadata": {
    "collapsed": false,
    "pycharm": {
     "name": "#%%\n"
    }
   }
  },
  {
   "cell_type": "code",
   "execution_count": 29,
   "outputs": [
    {
     "name": "stdout",
     "output_type": "stream",
     "text": [
      "Best test score:0.746703028678894\n",
      "Best params based on test score:{'batch_size': 120, 'drop_out_factor': [0.2, 0.2, 0.2], 'epochs': 2, 'lstm_nodes': [100, 200, 100]}\n"
     ]
    }
   ],
   "source": [
    "# find the best parameters based on validation score\n",
    "# results => test_score, param_dict, history, y_test_pred, model\n",
    "best_test_score = results[0][0]\n",
    "best_params = results[0][1]\n",
    "history_data = results[0][2]\n",
    "y_test_prediction_data = results[0][3]\n",
    "best_model = results[0][4]\n",
    "for i in range(1, len(results)):\n",
    "    tscore = results[i][1]\n",
    "    param = results[i][2]\n",
    "    if tscore > best_test_score:\n",
    "        best_test_score = tscore\n",
    "        best_params = param\n",
    "        history_data = results[i][2]\n",
    "        y_test_prediction_data = results[i][3]\n",
    "        best_model = results[i][4]\n",
    "\n",
    "# output result\n",
    "print(f\"Best test score:{best_test_score}\")\n",
    "print(f\"Best params based on test score:{best_params}\")"
   ],
   "metadata": {
    "collapsed": false,
    "pycharm": {
     "name": "#%%\n"
    }
   }
  },
  {
   "cell_type": "code",
   "execution_count": 29,
   "metadata": {
    "pycharm": {
     "name": "#%%\n"
    }
   },
   "outputs": [],
   "source": []
  },
  {
   "cell_type": "code",
   "execution_count": 30,
   "outputs": [
    {
     "name": "stdout",
     "output_type": "stream",
     "text": [
      "              precision    recall  f1-score   support\n",
      "\n",
      "    negative       0.10      0.66      0.18        83\n",
      "     neutral       0.02      0.06      0.03        18\n",
      "    positive       0.98      0.76      0.85      2098\n",
      "\n",
      "    accuracy                           0.75      2199\n",
      "   macro avg       0.37      0.49      0.35      2199\n",
      "weighted avg       0.94      0.75      0.82      2199\n",
      "\n"
     ]
    }
   ],
   "source": [
    "model = best_model\n",
    "history_embedding = history_data\n",
    "y_pred = y_test_prediction_data\n",
    "\n",
    "# Confusion matrix\n",
    "y_true = np.argmax(y_test, axis = 1)\n",
    "print(metrics.classification_report(y_true, y_pred, target_names=['negative', 'neutral', 'positive']))"
   ],
   "metadata": {
    "collapsed": false,
    "pycharm": {
     "name": "#%%\n"
    }
   }
  },
  {
   "cell_type": "code",
   "execution_count": 31,
   "metadata": {
    "pycharm": {
     "name": "#%%\n"
    }
   },
   "outputs": [
    {
     "data": {
      "text/plain": "<Figure size 432x288 with 1 Axes>",
      "image/png": "[encoded data removed]"
     },
     "metadata": {
      "needs_background": "light"
     },
     "output_type": "display_data"
    },
    {
     "name": "stdout",
     "output_type": "stream",
     "text": [
      "{'loss': [1.075122356414795, 1.0386415719985962], 'accuracy': [0.6112009882926941, 0.6473918557167053], 'val_loss': [1.1230084896087646, 0.8157471418380737], 'val_accuracy': [0.6252273917198181, 0.763493001461029]}\n"
     ]
    }
   ],
   "source": [
    "print(history_embedding.history)"
   ]
  },
  {
   "cell_type": "code",
   "execution_count": 32,
   "metadata": {
    "pycharm": {
     "name": "#%%\n"
    }
   },
   "outputs": [
    {
     "data": {
      "text/plain": "<Figure size 432x288 with 1 Axes>",
      "image/png": "[encoded data removed]"
     },
     "metadata": {
      "needs_background": "light"
     },
     "output_type": "display_data"
    }
   ],
   "source": [
    "contacts_utils.plot_loss(history_embedding)"
   ]
  },
  {
   "cell_type": "code",
   "execution_count": 33,
   "metadata": {
    "pycharm": {
     "name": "#%%\n"
    }
   },
   "outputs": [
    {
     "data": {
      "text/plain": "<Figure size 432x288 with 1 Axes>",
      "image/png": "[encoded data removed]"
     },
     "metadata": {
      "needs_background": "light"
     },
     "output_type": "display_data"
    }
   ],
   "source": [
    "contacts_utils.plot_accuracy(history_embedding)"
   ]
  },
  {
   "cell_type": "code",
   "execution_count": 34,
   "metadata": {
    "pycharm": {
     "name": "#%%\n"
    }
   },
   "outputs": [],
   "source": [
    "# use a PCA decomposition to visualize the embeddings in 2D\n",
    "def pca_scatterplot(model, words):\n",
    "    pca = PCA(n_components=2, random_state=92)\n",
    "    word_vectors = np.array([model[w] for w in words])\n",
    "    low_dim_emb = pca.fit_transform(word_vectors)\n",
    "    plt.figure(figsize=(21,10))\n",
    "    plt.scatter(low_dim_emb[:,0], low_dim_emb[:,1], edgecolors='blue', c='blue')\n",
    "    plt.xlabel(\"Component 1\")\n",
    "    plt.ylabel(\"Component 2\")\n",
    "\n",
    "    # get the text of the plotted words\n",
    "    texts = []\n",
    "    for word, (x,y) in zip(words, low_dim_emb):\n",
    "        texts.append(plt.text(x+0.01, y+0.01, word, rotation=0))\n",
    "\n",
    "    # adjust the position of the labels so that they dont overlap\n",
    "    adjust_text(texts)\n",
    "    # show plot\n",
    "    plt.show()"
   ]
  },
  {
   "cell_type": "markdown",
   "metadata": {
    "pycharm": {
     "name": "#%% md\n"
    }
   },
   "source": []
  },
  {
   "cell_type": "code",
   "execution_count": 35,
   "metadata": {
    "pycharm": {
     "name": "#%%\n"
    }
   },
   "outputs": [
    {
     "name": "stdout",
     "output_type": "stream",
     "text": [
      "['dryer', 'usual', 'service', 'great-service', 'shelf', 'awhile', 'disappointed']\n"
     ]
    },
    {
     "data": {
      "text/plain": "<Figure size 1512x720 with 1 Axes>",
      "image/png": "[encoded data removed]"
     },
     "metadata": {
      "needs_background": "light"
     },
     "output_type": "display_data"
    }
   ],
   "source": [
    "# define the tokens to use in the plot\n",
    "tokens_of_interest = ['dryer', 'usual', 'service', 'great-service',  'shelf', 'awhile', 'disappointed']\n",
    "print(tokens_of_interest)\n",
    "# plot\n",
    "pca_scatterplot(word_vectors, tokens_of_interest)"
   ]
  }
 ],
 "metadata": {
  "interpreter": {
   "hash": "7478654ab1aa58977e1af457aae5317775386ee06614bd651985e9aec83741b6"
  },
  "kernelspec": {
   "display_name": "Python 3 (ipykernel)",
   "language": "python",
   "name": "python3"
  },
  "language_info": {
   "codemirror_mode": {
    "name": "ipython",
    "version": 3
   },
   "file_extension": ".py",
   "mimetype": "text/x-python",
   "name": "python",
   "nbconvert_exporter": "python",
   "pygments_lexer": "ipython3",
   "version": "3.8.2"
  }
 },
 "nbformat": 4,
 "nbformat_minor": 4
}