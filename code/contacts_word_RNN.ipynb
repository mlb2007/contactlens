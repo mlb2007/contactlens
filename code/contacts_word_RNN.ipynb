{
 "cells": [
  {
   "cell_type": "markdown",
   "metadata": {
    "pycharm": {
     "name": "#%% md\n"
    }
   },
   "source": [
    "# Recurrent Neural Network (RNN) LSTM based Sentiment Analysis\n",
    "\n",
    "In this we use LSTM (Long Short Term Memory) perceptron and use a neural network model to model sentiments based on inout word tokens and bigrams"
   ]
  },
  {
   "cell_type": "code",
   "execution_count": 1,
   "metadata": {
    "pycharm": {
     "name": "#%%\n"
    }
   },
   "outputs": [
    {
     "name": "stderr",
     "output_type": "stream",
     "text": [
      "/Users/bmukund/miniconda3/lib/python3.8/site-packages/spacy/util.py:837: UserWarning: [W095] Model 'en_core_web_sm' (3.2.0) was trained with spaCy v3.2 and may not be 100% compatible with the current version (3.3.0). If you see errors or degraded performance, download a newer compatible model or retrain your custom model with the current spaCy version. For more details and available updates, run: python -m spacy validate\n",
      "  warnings.warn(warn_msg)\n"
     ]
    }
   ],
   "source": [
    "\n",
    "%matplotlib inline\n",
    "%load_ext autoreload\n",
    "%autoreload 2\n",
    "\n",
    "import numpy as np\n",
    "import matplotlib.pyplot as plt\n",
    "import seaborn as sns\n",
    "import sys\n",
    "sys.path.append('pymodules')\n",
    "\n",
    "# Gensim\n",
    "from gensim.models import Word2Vec\n",
    "# making the plot look good ...\n",
    "from adjustText import adjust_text\n",
    "from sklearn.decomposition import PCA\n",
    "\n",
    "from keras_preprocessing.sequence import pad_sequences\n",
    "from keras.preprocessing.text import Tokenizer\n",
    "from keras.utils import to_categorical\n",
    "from tensorflow.keras.models import Sequential\n",
    "from tensorflow.keras.layers import Dense, LSTM, Embedding,Bidirectional\n",
    "from tensorflow.keras.layers import Dropout\n",
    "\n",
    "from keras.callbacks import EarlyStopping, ModelCheckpoint\n",
    "\n",
    "from sklearn import metrics\n",
    "from sklearn.model_selection import train_test_split, ParameterGrid\n",
    "\n",
    "# this class read the raw input and tokenizes comprehensively for use with modeling\n",
    "import pymodules.read_and_tokenize as contacts_utils\n",
    "\n",
    "from timeit import default_timer as timer\n",
    "from sklearn.metrics import confusion_matrix, ConfusionMatrixDisplay"
   ]
  },
  {
   "cell_type": "markdown",
   "metadata": {
    "pycharm": {
     "name": "#%% md\n"
    }
   },
   "source": [
    "### Read file and preprocess to generate tokens"
   ]
  },
  {
   "cell_type": "code",
   "execution_count": 2,
   "metadata": {
    "pycharm": {
     "name": "#%%\n"
    }
   },
   "outputs": [
    {
     "name": "stdout",
     "output_type": "stream",
     "text": [
      "Read sheet 'Scrubbed_data' ...\n",
      "Columns:Index(['TITLE', 'COMMENTS', 'OVERALL_RATING', 'COMFORT_RATING',\n",
      "       'VISION_RATING', 'VALUE_FOR_MONEY', 'AUTHOR', 'PROS', 'CONS',\n",
      "       'ORIGINAL_SOURCE', 'REPLY_FROM_ACCUVUE', 'FINAL_PRODUCT_NAME',\n",
      "       'PRODUCT_LINK', 'WEBSITE', 'RATING', 'PRODUCT', 'BRAND'],\n",
      "      dtype='object')\n",
      "Columns dropped: ['OVERALL_RATING', 'COMFORT_RATING', 'VISION_RATING', 'VALUE_FOR_MONEY', 'PROS', 'CONS', 'ORIGINAL_SOURCE', 'REPLY_FROM_ACCUVUE', 'PRODUCT_LINK', 'WEBSITE']\n",
      " Drop the Author column and replace it with gender of author ...\n",
      "Consolidate all the comments into one column called COMMENT\n",
      "Make ratings into integers\n",
      "Tokenize data based on regex found from experimentation and common usage ...\n",
      "Comments before tokenization at index[0]:\n",
      " Acucue 2 Contact Lenses I have used these lenses for a long time and I have to say that the service from Lens.com is great and the lenses work great for my needs!  I highly recommend them!\n",
      "Comments after tokenization at index[0]:\n",
      " Acucue 2 Contact Lenses I have used these lenses for a long time and I have to say that the service from Lens.com is great and the lenses work great for my needs!  I highly recommend them!\n",
      "Comments at index[0] before basic cleaning:\n",
      " Acucue 2 Contact Lenses I have used these lenses for a long time and I have to say that the service from Lens.com is great and the lenses work great for my needs!  I highly recommend them!\n",
      "Comments at index[0] after cleaning:\n",
      " acucue 2 contact lenses i have used these lenses for a long time and i have to say that the service from lens.com is great and the lenses work great for my needs!  i highly recommend them!\n",
      "Acucue 2 Contact Lenses I have used these lenses for a long time and I have to say that the service from Lens.com is great and the lenses work great for my needs!  I highly recommend them!\n",
      "\n",
      "['acucue', '2', 'contact', 'lenses', 'i', 'have', 'used', 'these', 'lenses', 'for', 'a', 'long', 'time', 'and', 'i', 'have', 'to', 'say', 'that', 'the', 'service', 'from', 'lens', '.', 'com', 'is', 'great', 'and', 'the', 'lenses', 'work', 'great', 'for', 'my', 'needs', '!', 'i', 'highly', 'recommend', 'them', '!']\n",
      "Comments at index[0] before removal of punctuations:\n",
      " Acucue 2 Contact Lenses I have used these lenses for a long time and I have to say that the service from Lens.com is great and the lenses work great for my needs!  I highly recommend them!\n",
      "Comments at index[0] after removal of punctuation:\n",
      " ['acucue', 'contact', 'lenses', 'have', 'used', 'these', 'lenses', 'for', 'long', 'time', 'and', 'have', 'say', 'that', 'the', 'service', 'from', 'lens', 'com', 'great', 'and', 'the', 'lenses', 'work', 'great', 'for', 'needs', 'highly', 'recommend', 'them']\n",
      "Comments at index[0] before removal of stop words:\n",
      " Acucue 2 Contact Lenses I have used these lenses for a long time and I have to say that the service from Lens.com is great and the lenses work great for my needs!  I highly recommend them!\n",
      "Comments at index[0] after removal of stop words:\n",
      " ['used', 'for', 'long', 'time', 'and', 'say', 'service', 'from', 'com', 'great', 'and', 'work', 'great', 'for', 'needs', 'highly', 'recommend']\n",
      "Lemmatize tokens\n",
      "Comments at index[0] after lemmatization:\n",
      " ['use', 'for', 'long', 'time', 'and', 'say', 'service', 'from', 'com', 'great', 'and', 'work', 'great', 'for', 'need', 'highly', 'recommend']\n",
      "Build the bigram and trigram words for use with topic modeling\n"
     ]
    }
   ],
   "source": [
    "filename = \"data/Master-data_Q42021.xlsx\"\n",
    "prep_comments, df = contacts_utils.read_file(filename)"
   ]
  },
  {
   "cell_type": "markdown",
   "metadata": {
    "pycharm": {
     "name": "#%% md\n"
    }
   },
   "source": [
    "### Determine response variable called 'SENTIMENT' based on rating\n",
    "\n",
    "* If Rating is < 3, we give a sentiment value of 0 (Negative sentiment)\n",
    "\n",
    "* If Rating is = 3, we give a sentiment value of 1 (Neutral sentiment)\n",
    "\n",
    "* If Rating is > 3, we give a sentiment value of 2 (Positive sentiment)"
   ]
  },
  {
   "cell_type": "code",
   "execution_count": 3,
   "metadata": {
    "pycharm": {
     "name": "#%%\n"
    }
   },
   "outputs": [],
   "source": [
    "# attach sentiment, seems\n",
    "def find_sentiment(rating):\n",
    "    choices = [0, 1, 2]\n",
    "    conditions = [rating < 3, rating == 3, rating > 3]\n",
    "    senti = np.select(conditions, choices)\n",
    "    return senti\n",
    "\n",
    "df['SENTIMENT'] = df['RATING'].apply(find_sentiment).astype('category')"
   ]
  },
  {
   "cell_type": "markdown",
   "metadata": {
    "pycharm": {
     "name": "#%% md\n"
    }
   },
   "source": [
    "### Add bigrams to the word tokens so that sentiments are expressed better by word tokens and word-pairs"
   ]
  },
  {
   "cell_type": "code",
   "execution_count": 4,
   "metadata": {
    "pycharm": {
     "name": "#%%\n"
    }
   },
   "outputs": [
    {
     "name": "stdout",
     "output_type": "stream",
     "text": [
      "Comments at index[0] after addition of bigrams:\n",
      " ['used', 'for', 'long', 'time', 'and', 'say', 'service', 'from', 'com', 'great', 'and', 'work', 'great', 'for', 'needs', 'highly', 'recommend', 'used-for', 'for-long', 'long-time', 'time-and', 'and-say', 'say-service', 'service-from', 'from-com', 'com-great', 'great-and', 'and-work', 'work-great', 'great-for', 'for-needs', 'needs-highly', 'highly-recommend']\n",
      "Comments at index[-1] after addition of bigrams:\n",
      " ['buy', 'again', 'order', 'came', 'fast', 'without', 'any', 'issues', 'and', 'candy', 'nice', 'touch', 'buy-again', 'again-order', 'order-came', 'came-fast', 'fast-without', 'without-any', 'any-issues', 'issues-and', 'and-candy', 'candy-nice', 'nice-touch']\n"
     ]
    }
   ],
   "source": [
    "require_bigrams = True\n",
    "if require_bigrams:\n",
    "    for i in range(len(prep_comments.tokens)):\n",
    "        prep_comments.tokens[i] = prep_comments.tokens[i] + prep_comments.bigrams[i]\n",
    "\n",
    "test_index = 0\n",
    "print(f\"Comments at index[{test_index}] after addition of bigrams:\\n {prep_comments.tokens[test_index]}\")\n",
    "print(f\"Comments at index[{-1}] after addition of bigrams:\\n {prep_comments.tokens[-1]}\")"
   ]
  },
  {
   "cell_type": "code",
   "execution_count": 5,
   "metadata": {
    "pycharm": {
     "name": "#%%\n"
    }
   },
   "outputs": [],
   "source": [
    "## Create Dictionary\n",
    "#id2word = corpora.Dictionary(prep_comments.tokens)\n",
    "## Create Corpus: Term Document Frequency\n",
    "#corpus = [id2word.doc2bow(text) for text in prep_comments.tokens]\n",
    "#print(corpus)"
   ]
  },
  {
   "cell_type": "markdown",
   "metadata": {
    "pycharm": {
     "name": "#%% md\n"
    }
   },
   "source": [
    "### Add the token and Sentiments are new columns and display them"
   ]
  },
  {
   "cell_type": "code",
   "execution_count": 6,
   "metadata": {
    "pycharm": {
     "name": "#%%\n"
    }
   },
   "outputs": [],
   "source": [
    "df['TOKENS'] = prep_comments.tokens"
   ]
  },
  {
   "cell_type": "code",
   "execution_count": 7,
   "metadata": {
    "pycharm": {
     "name": "#%%\n"
    }
   },
   "outputs": [],
   "source": [
    "dfXY = df[['TOKENS', 'SENTIMENT']]"
   ]
  },
  {
   "cell_type": "code",
   "execution_count": 8,
   "metadata": {
    "pycharm": {
     "name": "#%%\n"
    }
   },
   "outputs": [
    {
     "data": {
      "text/html": [
       "<div>\n",
       "<style scoped>\n",
       "    .dataframe tbody tr th:only-of-type {\n",
       "        vertical-align: middle;\n",
       "    }\n",
       "\n",
       "    .dataframe tbody tr th {\n",
       "        vertical-align: top;\n",
       "    }\n",
       "\n",
       "    .dataframe thead th {\n",
       "        text-align: right;\n",
       "    }\n",
       "</style>\n",
       "<table border=\"1\" class=\"dataframe\">\n",
       "  <thead>\n",
       "    <tr style=\"text-align: right;\">\n",
       "      <th></th>\n",
       "      <th>TOKENS</th>\n",
       "      <th>SENTIMENT</th>\n",
       "    </tr>\n",
       "    <tr>\n",
       "      <th>REVIEW_DATE</th>\n",
       "      <th></th>\n",
       "      <th></th>\n",
       "    </tr>\n",
       "  </thead>\n",
       "  <tbody>\n",
       "    <tr>\n",
       "      <th>2021-11-01</th>\n",
       "      <td>[used, for, long, time, and, say, service, fro...</td>\n",
       "      <td>2</td>\n",
       "    </tr>\n",
       "    <tr>\n",
       "      <th>2021-12-02</th>\n",
       "      <td>[clear, vision, tends, cloud, clear-vision, vi...</td>\n",
       "      <td>2</td>\n",
       "    </tr>\n",
       "    <tr>\n",
       "      <th>2021-12-01</th>\n",
       "      <td>[comfort, very, hard, handle, flimsy, but, com...</td>\n",
       "      <td>2</td>\n",
       "    </tr>\n",
       "    <tr>\n",
       "      <th>2021-11-16</th>\n",
       "      <td>[easy, use, using, product, for, and, very, re...</td>\n",
       "      <td>2</td>\n",
       "    </tr>\n",
       "    <tr>\n",
       "      <th>2021-12-08</th>\n",
       "      <td>[excellent, excellent, got, promised, discount...</td>\n",
       "      <td>2</td>\n",
       "    </tr>\n",
       "    <tr>\n",
       "      <th>...</th>\n",
       "      <td>...</td>\n",
       "      <td>...</td>\n",
       "    </tr>\n",
       "    <tr>\n",
       "      <th>2021-11-29</th>\n",
       "      <td>[truly, best, price, fast, shipping, quick, ve...</td>\n",
       "      <td>2</td>\n",
       "    </tr>\n",
       "    <tr>\n",
       "      <th>2021-11-23</th>\n",
       "      <td>[very, comfortable, vita, very, comfortable, a...</td>\n",
       "      <td>2</td>\n",
       "    </tr>\n",
       "    <tr>\n",
       "      <th>2021-12-27</th>\n",
       "      <td>[very, comfortable, and, convenient, very, com...</td>\n",
       "      <td>2</td>\n",
       "    </tr>\n",
       "    <tr>\n",
       "      <th>2021-10-16</th>\n",
       "      <td>[worst, worn, microscopic, tears, week, and, i...</td>\n",
       "      <td>0</td>\n",
       "    </tr>\n",
       "    <tr>\n",
       "      <th>2021-12-05</th>\n",
       "      <td>[buy, again, order, came, fast, without, any, ...</td>\n",
       "      <td>2</td>\n",
       "    </tr>\n",
       "  </tbody>\n",
       "</table>\n",
       "<p>8794 rows × 2 columns</p>\n",
       "</div>"
      ],
      "text/plain": [
       "                                                        TOKENS SENTIMENT\n",
       "REVIEW_DATE                                                             \n",
       "2021-11-01   [used, for, long, time, and, say, service, fro...         2\n",
       "2021-12-02   [clear, vision, tends, cloud, clear-vision, vi...         2\n",
       "2021-12-01   [comfort, very, hard, handle, flimsy, but, com...         2\n",
       "2021-11-16   [easy, use, using, product, for, and, very, re...         2\n",
       "2021-12-08   [excellent, excellent, got, promised, discount...         2\n",
       "...                                                        ...       ...\n",
       "2021-11-29   [truly, best, price, fast, shipping, quick, ve...         2\n",
       "2021-11-23   [very, comfortable, vita, very, comfortable, a...         2\n",
       "2021-12-27   [very, comfortable, and, convenient, very, com...         2\n",
       "2021-10-16   [worst, worn, microscopic, tears, week, and, i...         0\n",
       "2021-12-05   [buy, again, order, came, fast, without, any, ...         2\n",
       "\n",
       "[8794 rows x 2 columns]"
      ]
     },
     "execution_count": 8,
     "metadata": {},
     "output_type": "execute_result"
    }
   ],
   "source": [
    "dfXY"
   ]
  },
  {
   "cell_type": "markdown",
   "metadata": {
    "pycharm": {
     "name": "#%% md\n"
    }
   },
   "source": [
    "### Showcase the imbalanced nature of Sentiments in the given data"
   ]
  },
  {
   "cell_type": "code",
   "execution_count": 9,
   "metadata": {
    "pycharm": {
     "name": "#%%\n"
    }
   },
   "outputs": [
    {
     "data": {
      "text/plain": [
       "[[Text(0, 0, '>3'), Text(1, 0, '<3'), Text(2, 0, '=3')]]"
      ]
     },
     "execution_count": 9,
     "metadata": {},
     "output_type": "execute_result"
    },
    {
     "data": {
      "image/png": "[encoded data removed]",
      "text/plain": [
       "<Figure size 432x288 with 1 Axes>"
      ]
     },
     "metadata": {
      "needs_background": "light"
     },
     "output_type": "display_data"
    }
   ],
   "source": [
    "import seaborn as sns\n",
    "ax = sns.countplot(x=dfXY['SENTIMENT'], order=dfXY['SENTIMENT'].value_counts(ascending=False).index)\n",
    "abs_values = dfXY['SENTIMENT'].value_counts(ascending=False).values\n",
    "ax.bar_label(container=ax.containers[0], labels=abs_values)\n",
    "ax.set(xticklabels=['>3', '<3', '=3'])"
   ]
  },
  {
   "cell_type": "markdown",
   "metadata": {
    "pycharm": {
     "name": "#%% md\n"
    }
   },
   "source": [
    "### Highly imbalanced data\n",
    "* Because of highly imbalanced data, we need to \"balance\" by using class weights while fitting any model"
   ]
  },
  {
   "cell_type": "markdown",
   "metadata": {
    "pycharm": {
     "name": "#%% md\n"
    }
   },
   "source": [
    "## Use Keras engine for tokenization and also for RNN"
   ]
  },
  {
   "cell_type": "markdown",
   "metadata": {
    "pycharm": {
     "name": "#%% md\n"
    }
   },
   "source": [
    "### Take tokenized sentences and make it all integers using keras tokenizer on already tokenized data"
   ]
  },
  {
   "cell_type": "code",
   "execution_count": 10,
   "metadata": {
    "pycharm": {
     "name": "#%%\n"
    }
   },
   "outputs": [],
   "source": [
    "# because embedding is independent of tokenization, we integerize our token based on keras tokenizer\n",
    "num_expected_unique_words = 10000\n",
    "keras_tokenizer = Tokenizer(num_expected_unique_words, split=\",\")\n",
    "keras_tokenizer.fit_on_texts(dfXY['TOKENS'])"
   ]
  },
  {
   "cell_type": "markdown",
   "metadata": {
    "pycharm": {
     "name": "#%% md\n"
    }
   },
   "source": [
    "### Test, train, validation split"
   ]
  },
  {
   "cell_type": "code",
   "execution_count": 11,
   "metadata": {
    "pycharm": {
     "name": "#%%\n"
    }
   },
   "outputs": [],
   "source": [
    "validation_reqd = True\n",
    "X = dfXY.TOKENS\n",
    "y = dfXY.SENTIMENT\n",
    "df_trainX, df_trainy, df_testX, df_testy, df_validX, df_validy = contacts_utils.split_data(X, y, validation_reqd)"
   ]
  },
  {
   "cell_type": "markdown",
   "metadata": {
    "pycharm": {
     "name": "#%% md\n"
    }
   },
   "source": [
    "### Prepare data for input to RNN\n",
    "* We pad the data so that the sequence length that goes into RNN is always the same (Usually this is not the case), which is set to 300\n",
    "    * This sequence length is arbitrary and can be parameterized"
   ]
  },
  {
   "cell_type": "code",
   "execution_count": 12,
   "metadata": {
    "pycharm": {
     "name": "#%%\n"
    }
   },
   "outputs": [],
   "source": [
    "MAX_SEQ_LEN = 300\n",
    "X_train=keras_tokenizer.texts_to_sequences(df_trainX) # this converts texts into some numeric sequences\n",
    "X_train_pad=pad_sequences(X_train,maxlen=MAX_SEQ_LEN,padding='post') # this makes the length of all numeric sequences equal\n",
    "\n",
    "X_test = keras_tokenizer.texts_to_sequences(df_testX)\n",
    "X_test_pad = pad_sequences(X_test, maxlen = MAX_SEQ_LEN, padding = 'post')\n",
    "\n",
    "if validation_reqd:\n",
    "    X_val = keras_tokenizer.texts_to_sequences(df_validX)\n",
    "    X_val_pad = pad_sequences(X_val, maxlen = MAX_SEQ_LEN, padding = 'post')\n",
    "else:\n",
    "    X_val = None\n",
    "    X_val_pad = None"
   ]
  },
  {
   "cell_type": "markdown",
   "metadata": {
    "pycharm": {
     "name": "#%% md\n"
    }
   },
   "source": []
  },
  {
   "cell_type": "code",
   "execution_count": 13,
   "metadata": {
    "pycharm": {
     "name": "#%%\n"
    }
   },
   "outputs": [],
   "source": [
    "y_train = to_categorical(df_trainy.values,num_classes=3)\n",
    "y_test = to_categorical(df_testy.values, num_classes=3)\n",
    "if validation_reqd:\n",
    "    y_val = to_categorical(df_validy.values, num_classes=3)\n",
    "else:\n",
    "    y_val = None"
   ]
  },
  {
   "cell_type": "markdown",
   "metadata": {
    "pycharm": {
     "name": "#%% md\n"
    }
   },
   "source": [
    "### Balance imbalanced data using class weights \n",
    "Compute sentiment class weights based on training data to balance the dataset"
   ]
  },
  {
   "cell_type": "code",
   "execution_count": 14,
   "metadata": {
    "pycharm": {
     "name": "#%%\n"
    }
   },
   "outputs": [],
   "source": [
    "from sklearn.utils.class_weight import compute_class_weight\n",
    "y_integers = np.argmax(y_train, axis=1)\n",
    "class_weights = compute_class_weight(class_weight='balanced', classes=np.unique(y_integers), y=y_integers)\n",
    "sentiment_class_weights = dict(enumerate(class_weights))"
   ]
  },
  {
   "cell_type": "code",
   "execution_count": 15,
   "metadata": {
    "pycharm": {
     "name": "#%%\n"
    }
   },
   "outputs": [
    {
     "name": "stdout",
     "output_type": "stream",
     "text": [
      "{0: 7.460030165912519, 1: 34.34722222222222, 2: 0.3525051671299266}\n"
     ]
    },
    {
     "name": "stderr",
     "output_type": "stream",
     "text": [
      "/Users/bmukund/miniconda3/lib/python3.8/site-packages/seaborn/_decorators.py:36: FutureWarning: Pass the following variable as a keyword arg: x. From version 0.12, the only valid positional argument will be `data`, and passing other arguments without an explicit keyword will result in an error or misinterpretation.\n",
      "  warnings.warn(\n"
     ]
    },
    {
     "data": {
      "image/png": "[encoded data removed]",
      "text/plain": [
       "<Figure size 432x288 with 1 Axes>"
      ]
     },
     "metadata": {
      "needs_background": "light"
     },
     "output_type": "display_data"
    },
    {
     "name": "stdout",
     "output_type": "stream",
     "text": [
      "[ 221   48 4677]\n"
     ]
    },
    {
     "name": "stderr",
     "output_type": "stream",
     "text": [
      "/Users/bmukund/miniconda3/lib/python3.8/site-packages/seaborn/_decorators.py:36: FutureWarning: Pass the following variable as a keyword arg: x. From version 0.12, the only valid positional argument will be `data`, and passing other arguments without an explicit keyword will result in an error or misinterpretation.\n",
      "  warnings.warn(\n"
     ]
    },
    {
     "data": {
      "image/png": "[encoded data removed]",
      "text/plain": [
       "<Figure size 432x288 with 1 Axes>"
      ]
     },
     "metadata": {
      "needs_background": "light"
     },
     "output_type": "display_data"
    }
   ],
   "source": [
    "### Test if balancing has indeed taken place ...\n",
    "print(sentiment_class_weights)\n",
    "sns.countplot(y_integers)\n",
    "plt.show()\n",
    "print(np.bincount(y_integers))\n",
    "balance_wts = np.array([val for k, val in sentiment_class_weights.items()])\n",
    "bal = np.round(np.bincount(y_integers) * balance_wts)\n",
    "sns.countplot(bal)\n",
    "plt.show()"
   ]
  },
  {
   "cell_type": "markdown",
   "metadata": {
    "pycharm": {
     "name": "#%% md\n"
    }
   },
   "source": [
    "### Train gensim model to generate word embeddings made of 100 dimensional vector\n",
    "* Word embeddings vector is of size 100\n",
    "* It is based on universal dictionary\n",
    "* Each word/token now is expressed as a vector of 100 arbitrary, deterministic features. i.e. a word is embedded in a $R^{100}$ basis space"
   ]
  },
  {
   "cell_type": "code",
   "execution_count": 16,
   "metadata": {
    "pycharm": {
     "name": "#%%\n"
    }
   },
   "outputs": [],
   "source": [
    "# train Gensim's Word2Vec model\n",
    "gensim_model = Word2Vec(sentences=prep_comments.tokens,      # corpus\n",
    "                        vector_size=100,            # embedding dimension\n",
    "                        window=4,                   # words before and after to take into consideration\n",
    "                        sg=1,                       # use skip-gram\n",
    "                        negative=5,                 # number of negative examples for each positive one\n",
    "                        alpha=0.025,                # initial learning rate\n",
    "                        min_alpha=0.0001,           # minimum learning rate\n",
    "                        epochs=10,                   # number of passes through the data\n",
    "                        min_count=1,                # words that appear less than this are removed\n",
    "                        workers=4,                  # we use 1 to ensure replicability\n",
    "                        seed=92                     # for replicability\n",
    "                        )"
   ]
  },
  {
   "cell_type": "markdown",
   "metadata": {
    "pycharm": {
     "name": "#%% md\n"
    }
   },
   "source": [
    "### Do some gensim validation to ensure that word embeddings have been generated"
   ]
  },
  {
   "cell_type": "code",
   "execution_count": 17,
   "metadata": {
    "pycharm": {
     "name": "#%%\n"
    }
   },
   "outputs": [
    {
     "data": {
      "text/plain": [
       "(33417, 100)"
      ]
     },
     "execution_count": 17,
     "metadata": {},
     "output_type": "execute_result"
    }
   ],
   "source": [
    "# extract the word embeddings from the model\n",
    "word_vectors = gensim_model.wv\n",
    "word_vectors.vectors.shape  # vocab_size x embeddings dimension"
   ]
  },
  {
   "cell_type": "code",
   "execution_count": 18,
   "metadata": {
    "pycharm": {
     "name": "#%%\n"
    }
   },
   "outputs": [
    {
     "name": "stdout",
     "output_type": "stream",
     "text": [
      "Vocabulary Size: 33417 - Embedding Dim: 100\n"
     ]
    }
   ],
   "source": [
    "word_vectors_weights = gensim_model.wv.vectors\n",
    "vocab_size, embedding_size = word_vectors_weights.shape\n",
    "print(\"Vocabulary Size: {} - Embedding Dim: {}\".format(vocab_size, embedding_size))"
   ]
  },
  {
   "cell_type": "code",
   "execution_count": 19,
   "metadata": {
    "pycharm": {
     "name": "#%%\n"
    }
   },
   "outputs": [
    {
     "name": "stdout",
     "output_type": "stream",
     "text": [
      "[('product-excellent', 0.8487588763237), ('complaints', 0.845560610294342), ('excellent-excellent', 0.8437972664833069)]\n",
      "[('reasonable', 0.8621415495872498), ('deal', 0.8557785153388977), ('inexpensive', 0.8554325103759766)]\n",
      "[('prompt', 0.9275981783866882), ('support', 0.9168749451637268), ('services', 0.9093946814537048)]\n",
      "[('inexpensive', 0.9004871845245361), ('high', 0.8821184635162354), ('consistent', 0.8811280727386475)]\n",
      "[('clarity-and', 0.779310405254364), ('comfort-clarity', 0.7789759635925293), ('and-comfort', 0.7742425203323364)]\n"
     ]
    }
   ],
   "source": [
    "# Some validation on the quality of the Word2Vec model\n",
    "print(gensim_model.wv.most_similar('product', topn=3))\n",
    "print(gensim_model.wv.most_similar('price', topn=3))\n",
    "print(gensim_model.wv.most_similar('service', topn=3))\n",
    "print(gensim_model.wv.most_similar('quality', topn=3))\n",
    "print(gensim_model.wv.most_similar(positive=['comfort', 'fit'], negative=['dry'], topn=3))\n",
    "\n",
    "def word2token(word):\n",
    "    try:\n",
    "        return gensim_model.wv.key_to_index[word]\n",
    "    except KeyError:\n",
    "        return 0\n",
    "\n",
    "def token2word(token):\n",
    "    return gensim_model.wv.index_to_key[token]"
   ]
  },
  {
   "cell_type": "code",
   "execution_count": 20,
   "metadata": {
    "pycharm": {
     "name": "#%%\n"
    }
   },
   "outputs": [
    {
     "data": {
      "text/plain": [
       "(10000, 100)"
      ]
     },
     "execution_count": 20,
     "metadata": {},
     "output_type": "execute_result"
    }
   ],
   "source": [
    "gensim_weight_matrix = np.zeros((num_expected_unique_words ,embedding_size))\n",
    "gensim_weight_matrix.shape"
   ]
  },
  {
   "cell_type": "markdown",
   "metadata": {
    "pycharm": {
     "name": "#%% md\n"
    }
   },
   "source": [
    "### Encode word embeddings\n",
    "* Test key to index for word vectors, so we can go back and forth between word and its embedding"
   ]
  },
  {
   "cell_type": "code",
   "execution_count": 21,
   "metadata": {
    "pycharm": {
     "name": "#%%\n"
    }
   },
   "outputs": [
    {
     "data": {
      "text/plain": [
       "array([-1.0567551 ,  0.5794932 ,  0.04696224,  1.0849292 , -0.70392257,\n",
       "        0.58469963, -0.5408199 ,  0.5112359 ,  0.06947376,  0.01574691,\n",
       "        0.8027163 ,  0.1808152 , -0.0240392 , -0.05469049, -0.3358213 ,\n",
       "       -0.56312686, -0.31741065, -0.32615995,  0.4807728 , -1.1633352 ,\n",
       "        1.0238576 , -0.53013396, -0.05519943,  0.05840091,  0.20794512,\n",
       "       -0.11283576,  0.3075843 , -0.13057749,  0.19371147,  0.3644337 ,\n",
       "        0.56170857,  0.66923803, -0.85273945,  0.19719815,  0.5979246 ,\n",
       "        0.54743814,  0.45307067,  0.26919052,  0.54672194, -0.63489455,\n",
       "        0.5374036 , -0.14397381, -0.5387951 , -0.00705698,  0.08561787,\n",
       "        0.72511226,  0.25593624,  0.02148348, -0.32282192, -0.03039818,\n",
       "        1.0585194 ,  0.03566016, -0.03193273, -0.17561074, -0.5770317 ,\n",
       "       -0.04222794, -0.16787149,  0.7646237 ,  0.71381736, -0.5433788 ,\n",
       "       -1.1929808 ,  1.6079367 , -0.5554333 ,  0.8199882 ,  0.2986765 ,\n",
       "       -0.30615178,  0.17396073, -1.1024452 , -0.06520268, -0.8107086 ,\n",
       "       -0.17280133,  0.35975492,  0.0374161 , -0.35353008,  0.7179648 ,\n",
       "        0.2509029 , -0.00926022, -0.6164521 , -0.03189931, -0.01765825,\n",
       "        0.8435724 ,  0.5158185 , -0.20244795, -0.2848966 , -0.11926571,\n",
       "       -0.5160524 , -0.3929855 ,  0.9251646 , -0.1212087 , -0.1575675 ,\n",
       "        0.6778745 ,  0.5948015 ,  0.27498806,  0.40886152,  0.5961585 ,\n",
       "       -0.7521523 , -0.162559  ,  0.33061928, -0.154023  ,  0.05564035],\n",
       "      dtype=float32)"
      ]
     },
     "execution_count": 21,
     "metadata": {},
     "output_type": "execute_result"
    }
   ],
   "source": [
    "word_vectors[word_vectors.key_to_index['dry']]"
   ]
  },
  {
   "cell_type": "markdown",
   "metadata": {
    "pycharm": {
     "name": "#%% md\n"
    }
   },
   "source": [
    "### Map the index of the word (obtained by keras_tokenizer, which assigned interger values to words) to its weight matrix obtained from word embedding"
   ]
  },
  {
   "cell_type": "code",
   "execution_count": 22,
   "metadata": {
    "pycharm": {
     "name": "#%%\n"
    }
   },
   "outputs": [],
   "source": [
    "for word, index in keras_tokenizer.word_index.items():\n",
    "    if index < num_expected_unique_words: # why ? since index starts with zero\n",
    "        try:\n",
    "            word_index_in_embedding = word_vectors.key_to_index[word]\n",
    "        except KeyError:\n",
    "            gensim_weight_matrix[index] = np.zeros(embedding_size)\n",
    "        else:\n",
    "            gensim_weight_matrix[index] = word_vectors[word_index_in_embedding]"
   ]
  },
  {
   "cell_type": "code",
   "execution_count": 23,
   "metadata": {
    "pycharm": {
     "name": "#%%\n"
    }
   },
   "outputs": [
    {
     "data": {
      "text/plain": [
       "(10000, 100)"
      ]
     },
     "execution_count": 23,
     "metadata": {},
     "output_type": "execute_result"
    }
   ],
   "source": [
    "gensim_weight_matrix.shape"
   ]
  },
  {
   "cell_type": "markdown",
   "metadata": {
    "pycharm": {
     "name": "#%% md\n"
    }
   },
   "source": [
    "### RNN model"
   ]
  },
  {
   "cell_type": "code",
   "execution_count": 24,
   "metadata": {
    "pycharm": {
     "name": "#%%\n"
    }
   },
   "outputs": [],
   "source": [
    "num_sentiments  = 3"
   ]
  },
  {
   "cell_type": "markdown",
   "metadata": {
    "pycharm": {
     "name": "#%% md\n"
    }
   },
   "source": [
    "### Cache results of RNN model in sentiment_RNN_Model.h5"
   ]
  },
  {
   "cell_type": "code",
   "execution_count": 25,
   "metadata": {
    "pycharm": {
     "name": "#%%\n"
    }
   },
   "outputs": [],
   "source": [
    "#EarlyStopping and ModelCheckpoint\n",
    "es = EarlyStopping(monitor = 'val_loss', mode = 'min', verbose = 1, patience = 5)\n",
    "mc = ModelCheckpoint('./sentiment_RNN_model.h5', monitor = 'val_accuracy', mode = 'max', verbose = 1, save_best_only = True)"
   ]
  },
  {
   "cell_type": "markdown",
   "metadata": {
    "pycharm": {
     "name": "#%% md\n"
    }
   },
   "source": [
    "### The RNN model\n",
    "\n",
    "* 3 hidden layers\n",
    "\n",
    "* loss function is \"categorical cross entropy\" as the sentiments are categorical"
   ]
  },
  {
   "cell_type": "code",
   "execution_count": 26,
   "metadata": {
    "pycharm": {
     "name": "#%%\n"
    }
   },
   "outputs": [],
   "source": [
    "def create_RNN_model(num_sentiments, sentiment_class_weights, num_expected_unique_words, embedding_size, gensim_weight_matrix, trainX, trainy, validX, validy, testX, testy):\n",
    "    def _create_RNN_model(param_dict):\n",
    "        _epochs = param_dict['epochs']\n",
    "        _batch_size = param_dict['batch_size']\n",
    "        drop_out_factor = param_dict['drop_out_factor']\n",
    "        lstm_nodes = param_dict['lstm_nodes']\n",
    "\n",
    "        # fixed three layers ...\n",
    "        model = Sequential()\n",
    "        model.add(Embedding(input_dim = num_expected_unique_words,\n",
    "                    output_dim = embedding_size,\n",
    "                    input_length= trainX.shape[1],\n",
    "                    weights = [gensim_weight_matrix],\n",
    "                    trainable = False))\n",
    "\n",
    "        model.add(Dropout(drop_out_factor[0]))\n",
    "        model.add(Bidirectional(LSTM(lstm_nodes[0],return_sequences=True)))\n",
    "        model.add(Dropout(drop_out_factor[1]))\n",
    "        model.add(Bidirectional(LSTM(lstm_nodes[1],return_sequences=True)))\n",
    "        model.add(Dropout(drop_out_factor[2]))\n",
    "        model.add(Bidirectional(LSTM(lstm_nodes[2],return_sequences=False)))\n",
    "\n",
    "        model.add(Dense(num_sentiments, activation = 'softmax'))\n",
    "\n",
    "        model.compile(loss = 'categorical_crossentropy',\n",
    "                      optimizer = 'adam',\n",
    "                      metrics = 'accuracy')\n",
    "\n",
    "        history = model.fit(trainX, trainy,\n",
    "                            epochs = _epochs,\n",
    "                            batch_size = _batch_size,\n",
    "                            validation_data=(validX, validy),\n",
    "                            verbose = 1,\n",
    "                            callbacks= [es, mc],\n",
    "                            class_weight = sentiment_class_weights,\n",
    "                            workers=4,\n",
    "                            use_multiprocessing=True)\n",
    "\n",
    "        _, test_score = model.evaluate(testX,testy)\n",
    "        y_pred_test_raw = model.predict(testX, workers=4, use_multiprocessing=True)\n",
    "        y_test_pred = np.argmax(y_pred_test_raw, axis = 1)\n",
    "        return test_score, param_dict, history, y_test_pred, model\n",
    "\n",
    "    return _create_RNN_model"
   ]
  },
  {
   "cell_type": "markdown",
   "metadata": {
    "pycharm": {
     "name": "#%% md\n"
    }
   },
   "source": [
    "### Model parameterization"
   ]
  },
  {
   "cell_type": "code",
   "execution_count": 27,
   "metadata": {
    "pycharm": {
     "name": "#%%\n"
    }
   },
   "outputs": [],
   "source": [
    "# parameters to be varied\n",
    "batch_size = [300]\n",
    "epochs = [100]\n",
    "drop_out_factor = [[0.1, 0.1, 0.1]]\n",
    "lstm_nodes = [[100, 200, 100]]\n",
    "\n",
    "parameters = [{'epochs': epochs,\n",
    "               'batch_size': batch_size,\n",
    "               'drop_out_factor':drop_out_factor,\n",
    "               'lstm_nodes':lstm_nodes\n",
    "               }\n",
    "              ]\n",
    "\n",
    "# make a grid out of parameter choices ...\n",
    "grid_params = ParameterGrid(parameters)\n",
    "#for x in grid_params:\n",
    "#    print(f\"===== Params ===== \\n {x}\")"
   ]
  },
  {
   "cell_type": "markdown",
   "metadata": {
    "pycharm": {
     "name": "#%% md\n"
    }
   },
   "source": [
    "### Run different models with different parameterizations to choose the best mode\n",
    "* Best model is chosen based on accuracy of  validation scores"
   ]
  },
  {
   "cell_type": "code",
   "execution_count": 28,
   "metadata": {
    "pycharm": {
     "name": "#%%\n"
    },
    "scrolled": true
   },
   "outputs": [
    {
     "name": "stderr",
     "output_type": "stream",
     "text": [
      "2022-08-06 18:47:13.915182: I tensorflow/core/platform/cpu_feature_guard.cc:193] This TensorFlow binary is optimized with oneAPI Deep Neural Network Library (oneDNN) to use the following CPU instructions in performance-critical operations:  AVX2 FMA\n",
      "To enable them in other operations, rebuild TensorFlow with the appropriate compiler flags.\n"
     ]
    },
    {
     "name": "stdout",
     "output_type": "stream",
     "text": [
      "Epoch 1/100\n",
      "17/17 [==============================] - ETA: 0s - loss: 1.0648 - accuracy: 0.5613\n",
      "Epoch 1: val_accuracy improved from -inf to 0.75561, saving model to ./sentiment_RNN_model.h5\n",
      "17/17 [==============================] - 114s 6s/step - loss: 1.0648 - accuracy: 0.5613 - val_loss: 0.8361 - val_accuracy: 0.7556\n",
      "Epoch 2/100\n",
      "17/17 [==============================] - ETA: 0s - loss: 0.9925 - accuracy: 0.6522\n",
      "Epoch 2: val_accuracy improved from 0.75561 to 0.80230, saving model to ./sentiment_RNN_model.h5\n",
      "17/17 [==============================] - 98s 6s/step - loss: 0.9925 - accuracy: 0.6522 - val_loss: 0.7746 - val_accuracy: 0.8023\n",
      "Epoch 3/100\n",
      "17/17 [==============================] - ETA: 0s - loss: 0.9329 - accuracy: 0.7394\n",
      "Epoch 3: val_accuracy did not improve from 0.80230\n",
      "17/17 [==============================] - 101s 6s/step - loss: 0.9329 - accuracy: 0.7394 - val_loss: 0.9403 - val_accuracy: 0.7053\n",
      "Epoch 4/100\n",
      "17/17 [==============================] - ETA: 0s - loss: 0.8841 - accuracy: 0.7457\n",
      "Epoch 4: val_accuracy improved from 0.80230 to 0.82474, saving model to ./sentiment_RNN_model.h5\n",
      "17/17 [==============================] - 104s 6s/step - loss: 0.8841 - accuracy: 0.7457 - val_loss: 0.6430 - val_accuracy: 0.8247\n",
      "Epoch 5/100\n",
      "17/17 [==============================] - ETA: 0s - loss: 0.8730 - accuracy: 0.7135\n",
      "Epoch 5: val_accuracy improved from 0.82474 to 0.84839, saving model to ./sentiment_RNN_model.h5\n",
      "17/17 [==============================] - 97s 6s/step - loss: 0.8730 - accuracy: 0.7135 - val_loss: 0.6283 - val_accuracy: 0.8484\n",
      "Epoch 6/100\n",
      "17/17 [==============================] - ETA: 0s - loss: 0.8966 - accuracy: 0.6953\n",
      "Epoch 6: val_accuracy improved from 0.84839 to 0.85628, saving model to ./sentiment_RNN_model.h5\n",
      "17/17 [==============================] - 92s 5s/step - loss: 0.8966 - accuracy: 0.6953 - val_loss: 0.5004 - val_accuracy: 0.8563\n",
      "Epoch 7/100\n",
      "17/17 [==============================] - ETA: 0s - loss: 0.8552 - accuracy: 0.7359\n",
      "Epoch 7: val_accuracy did not improve from 0.85628\n",
      "17/17 [==============================] - 91s 5s/step - loss: 0.8552 - accuracy: 0.7359 - val_loss: 0.6556 - val_accuracy: 0.7926\n",
      "Epoch 8/100\n",
      "17/17 [==============================] - ETA: 0s - loss: 0.8765 - accuracy: 0.7273\n",
      "Epoch 8: val_accuracy did not improve from 0.85628\n",
      "17/17 [==============================] - 88s 5s/step - loss: 0.8765 - accuracy: 0.7273 - val_loss: 0.6568 - val_accuracy: 0.8132\n",
      "Epoch 9/100\n",
      "17/17 [==============================] - ETA: 0s - loss: 0.8058 - accuracy: 0.7604\n",
      "Epoch 9: val_accuracy did not improve from 0.85628\n",
      "17/17 [==============================] - 88s 5s/step - loss: 0.8058 - accuracy: 0.7604 - val_loss: 0.8326 - val_accuracy: 0.7192\n",
      "Epoch 10/100\n",
      "17/17 [==============================] - ETA: 0s - loss: 0.7706 - accuracy: 0.7457\n",
      "Epoch 10: val_accuracy did not improve from 0.85628\n",
      "17/17 [==============================] - 88s 5s/step - loss: 0.7706 - accuracy: 0.7457 - val_loss: 0.6801 - val_accuracy: 0.7975\n",
      "Epoch 11/100\n",
      "17/17 [==============================] - ETA: 0s - loss: 0.8205 - accuracy: 0.7076\n",
      "Epoch 11: val_accuracy did not improve from 0.85628\n",
      "17/17 [==============================] - 88s 5s/step - loss: 0.8205 - accuracy: 0.7076 - val_loss: 0.8748 - val_accuracy: 0.6471\n",
      "Epoch 11: early stopping\n",
      "69/69 [==============================] - 17s 242ms/step - loss: 1.0122 - accuracy: 0.5525\n",
      "69/69 [==============================] - 19s 241ms/step\n"
     ]
    },
    {
     "name": "stderr",
     "output_type": "stream",
     "text": [
      "WARNING:absl:Found untraced functions such as lstm_cell_1_layer_call_fn, lstm_cell_1_layer_call_and_return_conditional_losses, lstm_cell_2_layer_call_fn, lstm_cell_2_layer_call_and_return_conditional_losses, lstm_cell_4_layer_call_fn while saving (showing 5 of 12). These functions will not be directly callable after loading.\n"
     ]
    },
    {
     "name": "stdout",
     "output_type": "stream",
     "text": [
      "INFO:tensorflow:Assets written to: ram://6273b6d5-9fb2-4d5b-8e7e-60e17f7939d7/assets\n"
     ]
    },
    {
     "name": "stderr",
     "output_type": "stream",
     "text": [
      "INFO:tensorflow:Assets written to: ram://6273b6d5-9fb2-4d5b-8e7e-60e17f7939d7/assets\n",
      "2022-08-06 19:05:42.134001: I tensorflow/core/platform/cpu_feature_guard.cc:193] This TensorFlow binary is optimized with oneAPI Deep Neural Network Library (oneDNN) to use the following CPU instructions in performance-critical operations:  AVX2 FMA\n",
      "To enable them in other operations, rebuild TensorFlow with the appropriate compiler flags.\n"
     ]
    },
    {
     "name": "stdout",
     "output_type": "stream",
     "text": [
      "Time taken to finish best parameter search with RNN model: 18.655000897350003 mins.\n"
     ]
    }
   ],
   "source": [
    "# func that sets up the context .. i.e. what the pipeline does, what the data input is\n",
    "RNN_model_func = create_RNN_model(num_sentiments, sentiment_class_weights, num_expected_unique_words,\n",
    "                                  embedding_size, gensim_weight_matrix,\n",
    "                                  X_train_pad, y_train, X_val_pad, y_val, X_test_pad, y_test)\n",
    "\n",
    "st_ = timer()\n",
    "# run NN model in parallel and extract results (train_score, valid_score,parameter, history of fit) as a list\n",
    "results = contacts_utils.run_parallel(RNN_model_func, num_cpus=4)(grid_params)\n",
    "\n",
    "end_ = timer()\n",
    "\n",
    "print(f\"Time taken to finish best parameter search with RNN model: {(end_-st_)/60.0} mins.\")"
   ]
  },
  {
   "cell_type": "markdown",
   "metadata": {
    "pycharm": {
     "name": "#%% md\n"
    }
   },
   "source": [
    "### Get the best RNN model based on accuracy score on test data"
   ]
  },
  {
   "cell_type": "code",
   "execution_count": 29,
   "metadata": {
    "pycharm": {
     "name": "#%%\n"
    }
   },
   "outputs": [
    {
     "name": "stdout",
     "output_type": "stream",
     "text": [
      "Best test score:0.5525238513946533\n",
      "Best params based on test score:{'batch_size': 300, 'drop_out_factor': [0.1, 0.1, 0.1], 'epochs': 100, 'lstm_nodes': [100, 200, 100]}\n"
     ]
    }
   ],
   "source": [
    "# find the best parameters based on validation score\n",
    "# results => test_score, param_dict, history, y_test_pred, model\n",
    "best_test_score = results[0][0]\n",
    "best_params = results[0][1]\n",
    "history_data = results[0][2]\n",
    "y_test_prediction_data = results[0][3]\n",
    "best_model = results[0][4]\n",
    "for i in range(1, len(results)):\n",
    "    tscore = results[i][1]\n",
    "    param = results[i][2]\n",
    "    if tscore > best_test_score:\n",
    "        best_test_score = tscore\n",
    "        best_params = param\n",
    "        history_data = results[i][2]\n",
    "        y_test_prediction_data = results[i][3]\n",
    "        best_model = results[i][4]\n",
    "\n",
    "# output result\n",
    "print(f\"Best test score:{best_test_score}\")\n",
    "print(f\"Best params based on test score:{best_params}\")"
   ]
  },
  {
   "cell_type": "markdown",
   "metadata": {
    "pycharm": {
     "name": "#%%\n"
    }
   },
   "source": [
    "### Model Metrics"
   ]
  },
  {
   "cell_type": "code",
   "execution_count": 30,
   "metadata": {
    "pycharm": {
     "name": "#%%\n"
    }
   },
   "outputs": [
    {
     "name": "stdout",
     "output_type": "stream",
     "text": [
      "              precision    recall  f1-score   support\n",
      "\n",
      "    negative       0.05      0.17      0.08        83\n",
      "     neutral       0.02      1.00      0.05        18\n",
      "    positive       0.99      0.56      0.72      2098\n",
      "\n",
      "    accuracy                           0.55      2199\n",
      "   macro avg       0.36      0.58      0.28      2199\n",
      "weighted avg       0.95      0.55      0.69      2199\n",
      "\n"
     ]
    }
   ],
   "source": [
    "model = best_model\n",
    "history_embedding = history_data\n",
    "y_pred = y_test_prediction_data\n",
    "\n",
    "# Confusion matrix\n",
    "y_true = np.argmax(y_test, axis = 1)\n",
    "print(metrics.classification_report(y_true, y_pred, target_names=['negative', 'neutral', 'positive']))"
   ]
  },
  {
   "cell_type": "code",
   "execution_count": 31,
   "metadata": {},
   "outputs": [
    {
     "name": "stdout",
     "output_type": "stream",
     "text": [
      "[[  14   57   12]\n",
      " [   0   18    0]\n",
      " [ 252  663 1183]]\n"
     ]
    },
    {
     "data": {
      "image/png": "[encoded data removed]",
      "text/plain": [
       "<Figure size 432x288 with 2 Axes>"
      ]
     },
     "metadata": {
      "needs_background": "light"
     },
     "output_type": "display_data"
    },
    {
     "name": "stdout",
     "output_type": "stream",
     "text": [
      "RNN Model:Accuracy of model(<3, = 3, >3) is:   [85.4  67.26 57.84]%\n",
      "RNN Model:Sensitivity of the test(<3, = 3, >3):[ 16.87 100.    56.39]%\n",
      "RNN Model:Specificity of the test(<3, = 3, >3):[88.09 66.99 88.12]%\n",
      "RNN Model:Likelihood ratio(<3, = 3, >3):       [1.42 3.03 4.75]\n"
     ]
    }
   ],
   "source": [
    "## plot confusion matrix as well\n",
    "cm = confusion_matrix(y_true, y_pred)\n",
    "print(cm)\n",
    "cm_display = ConfusionMatrixDisplay(cm).plot()\n",
    "plt.show()\n",
    "accuracy, sensitivity, specificity, likelihood = contacts_utils.model_stats_all_labels(y_pred, y_true)\n",
    "print(f'RNN Model:Accuracy of model(<3, = 3, >3) is:   {np.round(accuracy*100, 2)}%')\n",
    "print(f'RNN Model:Sensitivity of the test(<3, = 3, >3):{np.round(sensitivity*100,2)}%')\n",
    "print(f'RNN Model:Specificity of the test(<3, = 3, >3):{np.round(specificity*100,2)}%')\n",
    "print(f'RNN Model:Likelihood ratio(<3, = 3, >3):       {np.round(likelihood, 2)}')"
   ]
  },
  {
   "cell_type": "markdown",
   "metadata": {
    "pycharm": {
     "name": "#%% md\n"
    }
   },
   "source": [
    "### Plot loss and validation, accuracy errors"
   ]
  },
  {
   "cell_type": "code",
   "execution_count": 32,
   "metadata": {
    "pycharm": {
     "name": "#%%\n"
    }
   },
   "outputs": [
    {
     "name": "stdout",
     "output_type": "stream",
     "text": [
      "{'loss': [1.0648220777511597, 0.9925411343574524, 0.9329174757003784, 0.884126603603363, 0.8730056881904602, 0.8965586423873901, 0.8551949858665466, 0.8764827251434326, 0.8057549595832825, 0.7705609202384949, 0.8204777836799622], 'accuracy': [0.5612616539001465, 0.6522442102432251, 0.7393853664398193, 0.7456530332565308, 0.7135058641433716, 0.6953093409538269, 0.7359482645988464, 0.727254331111908, 0.7604124546051025, 0.7456530332565308, 0.7076425552368164], 'val_loss': [0.836064875125885, 0.7746328115463257, 0.9402700066566467, 0.642956018447876, 0.6282882690429688, 0.5004377961158752, 0.6555503606796265, 0.6568272113800049, 0.8325866460800171, 0.6800709366798401, 0.8747988939285278], 'val_accuracy': [0.7556094527244568, 0.8023044466972351, 0.7052759528160095, 0.8247422575950623, 0.8483929634094238, 0.8562765121459961, 0.7926015853881836, 0.8132201433181763, 0.7192237973213196, 0.797452986240387, 0.6470588445663452]}\n"
     ]
    }
   ],
   "source": [
    "print(history_embedding.history)"
   ]
  },
  {
   "cell_type": "code",
   "execution_count": 33,
   "metadata": {
    "pycharm": {
     "name": "#%%\n"
    }
   },
   "outputs": [
    {
     "data": {
      "image/png": "[encoded data removed]",
      "text/plain": [
       "<Figure size 432x288 with 1 Axes>"
      ]
     },
     "metadata": {
      "needs_background": "light"
     },
     "output_type": "display_data"
    }
   ],
   "source": [
    "contacts_utils.plot_loss(history_embedding)"
   ]
  },
  {
   "cell_type": "code",
   "execution_count": 34,
   "metadata": {
    "pycharm": {
     "name": "#%%\n"
    }
   },
   "outputs": [
    {
     "data": {
      "image/png": "[encoded data removed]",
      "text/plain": [
       "<Figure size 432x288 with 1 Axes>"
      ]
     },
     "metadata": {
      "needs_background": "light"
     },
     "output_type": "display_data"
    }
   ],
   "source": [
    "contacts_utils.plot_accuracy(history_embedding)"
   ]
  },
  {
   "cell_type": "code",
   "execution_count": 35,
   "metadata": {
    "pycharm": {
     "name": "#%%\n"
    }
   },
   "outputs": [
    {
     "data": {
      "text/plain": [
       "<keras.engine.sequential.Sequential at 0x7fc459dac4f0>"
      ]
     },
     "execution_count": 35,
     "metadata": {},
     "output_type": "execute_result"
    }
   ],
   "source": [
    "best_model"
   ]
  },
  {
   "cell_type": "markdown",
   "metadata": {},
   "source": [
    "### Input test data as shown to determine sentiment based on best RNN model\n",
    "\n",
    "* Input data also must be pre-processed into tokens before feeding into RNN model"
   ]
  },
  {
   "cell_type": "code",
   "execution_count": 36,
   "metadata": {
    "pycharm": {
     "name": "#%%\n"
    }
   },
   "outputs": [
    {
     "name": "stdout",
     "output_type": "stream",
     "text": [
      "Read sheet 'Scrubbed_data' ...\n",
      "Columns dropped: ['OVERALL_RATING', 'COMFORT_RATING', 'VISION_RATING', 'VALUE_FOR_MONEY', 'PROS', 'CONS', 'ORIGINAL_SOURCE', 'REPLY_FROM_ACCUVUE', 'PRODUCT_LINK', 'WEBSITE']\n",
      " Drop the Author column and replace it with gender of author ...\n",
      "Consolidate all the comments into one column called COMMENT\n",
      "Make ratings into integers\n",
      "Tokenize data based on regex found from experimentation and common usage ...\n",
      "Comments before tokenization at index[0]:\n",
      " Acucue 2 Contact Lenses I have used these lenses for a long time and I have to say that the service from Lens.com is great and the lenses work great for my needs!  I highly recommend them!\n",
      "Comments after tokenization at index[0]:\n",
      " Acucue 2 Contact Lenses I have used these lenses for a long time and I have to say that the service from Lens.com is great and the lenses work great for my needs!  I highly recommend them!\n",
      "Comments at index[0] before basic cleaning:\n",
      " Acucue 2 Contact Lenses I have used these lenses for a long time and I have to say that the service from Lens.com is great and the lenses work great for my needs!  I highly recommend them!\n",
      "Comments at index[0] after cleaning:\n",
      " acucue 2 contact lenses i have used these lenses for a long time and i have to say that the service from lens.com is great and the lenses work great for my needs!  i highly recommend them!\n",
      "Acucue 2 Contact Lenses I have used these lenses for a long time and I have to say that the service from Lens.com is great and the lenses work great for my needs!  I highly recommend them!\n",
      "\n",
      "['acucue', '2', 'contact', 'lenses', 'i', 'have', 'used', 'these', 'lenses', 'for', 'a', 'long', 'time', 'and', 'i', 'have', 'to', 'say', 'that', 'the', 'service', 'from', 'lens', '.', 'com', 'is', 'great', 'and', 'the', 'lenses', 'work', 'great', 'for', 'my', 'needs', '!', 'i', 'highly', 'recommend', 'them', '!']\n",
      "Comments at index[0] before removal of punctuations:\n",
      " Acucue 2 Contact Lenses I have used these lenses for a long time and I have to say that the service from Lens.com is great and the lenses work great for my needs!  I highly recommend them!\n",
      "Comments at index[0] after removal of punctuation:\n",
      " ['acucue', 'contact', 'lenses', 'have', 'used', 'these', 'lenses', 'for', 'long', 'time', 'and', 'have', 'say', 'that', 'the', 'service', 'from', 'lens', 'com', 'great', 'and', 'the', 'lenses', 'work', 'great', 'for', 'needs', 'highly', 'recommend', 'them']\n",
      "Comments at index[0] before removal of stop words:\n",
      " Acucue 2 Contact Lenses I have used these lenses for a long time and I have to say that the service from Lens.com is great and the lenses work great for my needs!  I highly recommend them!\n",
      "Comments at index[0] after removal of stop words:\n",
      " ['used', 'for', 'long', 'time', 'and', 'say', 'service', 'from', 'com', 'great', 'and', 'work', 'great', 'for', 'needs', 'highly', 'recommend']\n",
      "Lemmatize tokens\n",
      "Comments at index[0] after lemmatization:\n",
      " ['use', 'for', 'long', 'time', 'and', 'say', 'service', 'from', 'com', 'great', 'and', 'work', 'great', 'for', 'need', 'highly', 'recommend']\n",
      "Build the bigram and trigram words for use with topic modeling\n",
      "Comments at index[0] after addition of bigrams:\n",
      " ['used', 'for', 'long', 'time', 'and', 'say', 'service', 'from', 'com', 'great', 'and', 'work', 'great', 'for', 'needs', 'highly', 'recommend', 'used-for', 'for-long', 'long-time', 'time-and', 'and-say', 'say-service', 'service-from', 'from-com', 'com-great', 'great-and', 'and-work', 'work-great', 'great-for', 'for-needs', 'needs-highly', 'highly-recommend']\n",
      "Comments at index[-1] after addition of bigrams:\n",
      " ['best', 'disposable', 'best-disposable']\n"
     ]
    }
   ],
   "source": [
    "import testdata_prep_rnn as tnn\n",
    "import pandas as pd\n",
    "filename = \"data/Master-data_Q42021.xlsx\"\n",
    "print(f\"Read sheet 'Scrubbed_data' ...\")\n",
    "df_raw = pd.read_excel(filename, sheet_name='Scrubbed_data', index_col='REVIEW_DATE')\n",
    "# to get a subset as a dataframe, use double bracket notation\n",
    "some_test_data = df_raw.iloc[:42, :]\n",
    "some_test_data.columns\n",
    "\n",
    "tks, wt = tnn.process_test_data(some_test_data, gensim_model)"
   ]
  },
  {
   "cell_type": "code",
   "execution_count": 37,
   "metadata": {
    "pycharm": {
     "name": "#%%\n"
    }
   },
   "outputs": [
    {
     "name": "stdout",
     "output_type": "stream",
     "text": [
      "2/2 [==============================] - 2s 100ms/step\n"
     ]
    }
   ],
   "source": [
    "tp_raw = best_model.predict(tks)"
   ]
  },
  {
   "cell_type": "code",
   "execution_count": 38,
   "metadata": {
    "pycharm": {
     "name": "#%%\n"
    }
   },
   "outputs": [
    {
     "data": {
      "text/plain": [
       "array([1, 0, 1, 1, 2, 2, 2, 2, 1, 1, 1, 0, 0, 2, 2, 1, 0, 1, 2, 0, 1, 1,\n",
       "       1, 1, 2, 1, 1, 1, 1, 2, 1, 1, 1, 1, 1, 2, 2, 1, 2, 1, 1, 2])"
      ]
     },
     "execution_count": 38,
     "metadata": {},
     "output_type": "execute_result"
    }
   ],
   "source": [
    "y_test_pred = np.argmax(tp_raw, axis = 1)\n",
    "y_test_pred"
   ]
  }
 ],
 "metadata": {
  "interpreter": {
   "hash": "7478654ab1aa58977e1af457aae5317775386ee06614bd651985e9aec83741b6"
  },
  "kernelspec": {
   "display_name": "Python 3 (ipykernel)",
   "language": "python",
   "name": "python3"
  },
  "language_info": {
   "codemirror_mode": {
    "name": "ipython",
    "version": 3
   },
   "file_extension": ".py",
   "mimetype": "text/x-python",
   "name": "python",
   "nbconvert_exporter": "python",
   "pygments_lexer": "ipython3",
   "version": "3.8.2"
  }
 },
 "nbformat": 4,
 "nbformat_minor": 4
}
