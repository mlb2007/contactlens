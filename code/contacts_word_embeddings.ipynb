{
 "cells": [
  {
   "cell_type": "code",
   "execution_count": 1,
   "metadata": {
    "pycharm": {
     "name": "#%%\n"
    }
   },
   "outputs": [
    {
     "name": "stderr",
     "output_type": "stream",
     "text": [
      "/Users/bmukund/miniconda3/lib/python3.8/site-packages/spacy/util.py:837: UserWarning: [W095] Model 'en_core_web_sm' (3.2.0) was trained with spaCy v3.2 and may not be 100% compatible with the current version (3.3.0). If you see errors or degraded performance, download a newer compatible model or retrain your custom model with the current spaCy version. For more details and available updates, run: python -m spacy validate\n",
      "  warnings.warn(warn_msg)\n",
      "[nltk_data] Downloading package wordnet to /Users/bmukund/nltk_data...\n",
      "[nltk_data]   Package wordnet is already up-to-date!\n",
      "[nltk_data] Downloading package omw-1.4 to /Users/bmukund/nltk_data...\n",
      "[nltk_data]   Package omw-1.4 is already up-to-date!\n"
     ]
    }
   ],
   "source": [
    "# Ref:https://www.machinelearningplus.com/nlp/topic-modeling-visualization-how-to-present-results-lda-models/\n",
    "%matplotlib inline\n",
    "%load_ext autoreload\n",
    "%autoreload 2\n",
    "\n",
    "import pandas as pd\n",
    "import string\n",
    "import numpy as np\n",
    "import matplotlib.pyplot as plt\n",
    "import seaborn as sns\n",
    "from sklearn.preprocessing import StandardScaler\n",
    "from sklearn.feature_extraction.text import CountVectorizer, TfidfVectorizer\n",
    "import sys\n",
    "from collections import Counter\n",
    "import random\n",
    "import ast\n",
    "import re\n",
    "import scipy\n",
    "\n",
    "sys.path.append('pymodules')\n",
    "# This class contains some utility functions Word2Vec, stop words etc. etc.\n",
    "import pymodules.preprocessing_class as pc\n",
    "\n",
    "# gender gueser\n",
    "import gender_guesser.detector as gd\n",
    "\n",
    "# for dictionary method synonym finder using wordnet\n",
    "import nltk\n",
    "nltk.download('wordnet')\n",
    "nltk.download('omw-1.4')\n",
    "from nltk.corpus import wordnet as wn\n",
    "\n",
    "# Gensim\n",
    "import gensim, spacy, logging, warnings\n",
    "import gensim.corpora as corpora\n",
    "#from gensim.utils import lemmatize, simple_preprocess\n",
    "from gensim.models import CoherenceModel\n",
    "from gensim.models import Word2Vec\n",
    "# making the plot look good ...\n",
    "from adjustText import adjust_text\n",
    "from sklearn.decomposition import PCA\n",
    "from collections import Counter\n",
    "\n",
    "from pprint import pprint\n",
    "from wordcloud import WordCloud, STOPWORDS\n",
    "import matplotlib.colors as mcolors\n",
    "\n",
    "from tensorflow.keras.models import Sequential\n",
    "from tensorflow.keras.layers import Dense, LSTM, Embedding,Bidirectional\n",
    "import tensorflow\n",
    "from tensorflow.compat.v1.keras.layers import CuDNNLSTM\n",
    "from tensorflow.keras.layers import Dropout\n",
    "\n",
    "from keras_preprocessing.sequence import pad_sequences\n",
    "from keras.preprocessing.text import Tokenizer\n",
    "\n",
    "##########\n",
    "from sklearn.preprocessing import OneHotEncoder\n",
    "from sklearn.model_selection import train_test_split, ParameterGrid\n",
    "from sklearn.metrics import accuracy_score, mean_squared_error\n",
    "from sklearn.metrics import confusion_matrix, ConfusionMatrixDisplay\n",
    "from sklearn.metrics import multilabel_confusion_matrix, f1_score\n",
    "# model/ensemble scorer ...\n",
    "from sklearn.metrics import make_scorer\n",
    "import keras\n",
    "from keras.utils import to_categorical\n",
    "from keras.layers import Flatten\n",
    "from keras.optimizers import SGD\n",
    "\n",
    "from tensorflow.keras.models import Sequential\n",
    "from tensorflow.keras.layers import Dense, LSTM, Embedding,Bidirectional\n",
    "import tensorflow\n",
    "from tensorflow.compat.v1.keras.layers import CuDNNLSTM\n",
    "from tensorflow.keras.layers import Dropout\n",
    "\n",
    "#EarlyStopping and ModelCheckpoint\n",
    "from keras.callbacks import EarlyStopping, ModelCheckpoint\n",
    "\n",
    "from sklearn import metrics"
   ]
  },
  {
   "cell_type": "code",
   "execution_count": 2,
   "outputs": [],
   "source": [
    "# for parallel run of multiple trials ...\n",
    "def run_parallel(func, num_cpus=4):\n",
    "    \"\"\"\n",
    "    A simple parallel processor\n",
    "    \"\"\"\n",
    "    mp_pool = mp.Pool(num_cpus)\n",
    "    def _run(grid_parameters):\n",
    "        result = mp_pool.map(func, grid_parameters)\n",
    "        return result\n",
    "    return _run\n",
    "\n",
    "# Ref: https://machinelearningmastery.com/how-to-develop-a-cnn-from-scratch-for-fashion-mnist-clothing-classification/\n",
    "def onehot_encode(data):\n",
    "    \"\"\"\n",
    "    one hot encoding for CNN\n",
    "    \"\"\"\n",
    "    return to_categorical(data)\n",
    "\n",
    "# load dataset\n",
    "def split_data(X, y, validation=False, shuffle=True):\n",
    "    \"\"\"\n",
    "    load data and create validation set as well (25% of training data)\n",
    "    \"\"\"\n",
    "    trainX, testX, trainy, testy = train_test_split(X, y, test_size=0.25, random_state=42, shuffle=shuffle)\n",
    "    # create validation data as well\n",
    "    if validation:\n",
    "        trainX, validX, trainy, validy = train_test_split(trainX, trainy, test_size=0.25, random_state=42, shuffle=shuffle)\n",
    "        return trainX, trainy, testX, testy, validX, validy\n",
    "    else:\n",
    "        return trainX, trainy, testX, testy, None, None\n",
    "\n",
    "\n",
    "def plot_accuracy(model, test_str='Validation'):\n",
    "    plt.plot(model.history['accuracy'])\n",
    "    plt.plot(model.history['val_accuracy'])\n",
    "    plt.title('Model accuracy')\n",
    "    plt.ylabel('Accuracy')\n",
    "    plt.xlabel('Epoch')\n",
    "    plt.legend(['Train', test_str], loc='upper left')\n",
    "    plt.show()\n",
    "\n",
    "def plot_loss(model, test_str = 'Validation'):\n",
    "    plt.plot(model.history['loss'])\n",
    "    plt.plot(model.history['val_loss'])\n",
    "    plt.title('Model loss')\n",
    "    plt.ylabel('Loss')\n",
    "    plt.xlabel('Epoch')\n",
    "    plt.legend(['Train', test_str], loc='upper left')\n",
    "    plt.show()\n",
    "\n",
    "def convert_prob_to_labels(data):\n",
    "    # the outputs are probabilities, change it to classifier labels ..\n",
    "    y_arg = np.argmax(data, axis=1)\n",
    "    y_pred = onehot_encode(y_arg)\n",
    "    return y_pred\n"
   ],
   "metadata": {
    "collapsed": false,
    "pycharm": {
     "name": "#%%\n"
    }
   }
  },
  {
   "cell_type": "code",
   "execution_count": 3,
   "outputs": [],
   "source": [
    "def model_stats_all_labels(Y_pred, Y_actual):\n",
    "    # true negatives is  C[0, 0]\n",
    "    # false negatives is C[1, 0]\n",
    "    # true positives is  C[1, 1]\n",
    "    # false positives is C[0, 1]\n",
    "    mcm = multilabel_confusion_matrix(Y_actual, Y_pred)\n",
    "    tnv = mcm[:, 0, 0]\n",
    "    tpv = mcm[:, 1, 1]\n",
    "    fnv = mcm[:, 1, 0]\n",
    "    fpv = mcm[:, 0, 1]\n",
    "\n",
    "    accuracy = (tpv+tnv)/(tpv+tnv+fpv+fnv)\n",
    "    sensitivity = tpv/(tpv+fnv)\n",
    "    specificity = tnv/(tnv+fpv)\n",
    "    denom = 1-specificity\n",
    "    likelihood = [sensitivity[i]/denom[i] if denom[i] > 0 else np.nan for i in range(len(denom))]\n",
    "\n",
    "    return accuracy, sensitivity, specificity, likelihood"
   ],
   "metadata": {
    "collapsed": false,
    "pycharm": {
     "name": "#%%\n"
    }
   }
  },
  {
   "cell_type": "code",
   "execution_count": 4,
   "outputs": [],
   "source": [
    "def find_wordnet_synonyms(word_list, type_of_word=None):\n",
    "    \"\"\" it is assumed that the word_list words are themselves synonyms and is given as a list (even if there is only one word\n",
    "    return lemmatized synonyms ...\n",
    "    \"\"\"\n",
    "    synonyms = set()\n",
    "    for word_to_look in word_list:\n",
    "        #print(f\"looking for synonyms of word:{word_to_look}\")\n",
    "        for syn in wn.synsets(word_to_look, pos=type_of_word):\n",
    "            for i in syn.lemmas():\n",
    "                synonyms.add(i.name())\n",
    "    #print(f\"Synonyms:\\n {synonyms}\")\n",
    "    return synonyms"
   ],
   "metadata": {
    "collapsed": false,
    "pycharm": {
     "name": "#%%\n"
    }
   }
  },
  {
   "cell_type": "code",
   "execution_count": 5,
   "metadata": {
    "pycharm": {
     "name": "#%%\n"
    }
   },
   "outputs": [],
   "source": [
    "# Function to get the first name so that we can guess the gender\n",
    "def first_name(x):\n",
    "    \"\"\"\n",
    "    We determine the first name from the given string. We also remove any digits from the name. \n",
    "    Further, we use space to split names\n",
    "    \"\"\"\n",
    "    x_split = str(x).split()\n",
    "    fname = x_split[0]\n",
    "    # remove reference to digits. Now after removal, there could be some misclassification, but that is ok ..\n",
    "    fname_p = re.sub(r'[0-9]+', \"\", fname)\n",
    "    ret_str = fname_p.capitalize()\n",
    "    return ret_str\n"
   ]
  },
  {
   "cell_type": "code",
   "execution_count": 6,
   "metadata": {
    "pycharm": {
     "name": "#%%\n"
    }
   },
   "outputs": [],
   "source": [
    "filename = \"data/Master-data_Q42021.xlsx\"\n",
    "text_data_raw = pd.read_excel(filename, sheet_name='Scrubbed_data', index_col='REVIEW_DATE')\n",
    "\n",
    "# We don't need these columns\n",
    "not_needed = ['OVERALL_RATING', 'COMFORT_RATING', 'VISION_RATING', 'VALUE_FOR_MONEY', 'PROS', 'CONS', 'ORIGINAL_SOURCE', 'REPLY_FROM_ACCUVUE',\n",
    "'PRODUCT_LINK', 'WEBSITE']\n",
    "\n",
    "text_data = text_data_raw.drop(columns = not_needed, axis=1)\n"
   ]
  },
  {
   "cell_type": "code",
   "execution_count": 7,
   "metadata": {
    "pycharm": {
     "name": "#%%\n"
    }
   },
   "outputs": [
    {
     "data": {
      "text/plain": "female           4003\nmale             2400\nunknown          1556\nmostly_female     464\nmostly_male       253\nandy              118\nName: GENDER, dtype: int64"
     },
     "execution_count": 7,
     "metadata": {},
     "output_type": "execute_result"
    }
   ],
   "source": [
    "# Let us figure out the gender from the names and drop the names column\n",
    "# We use gender_guesser package.\n",
    "#text_data['AUTHOR'] = text_data['AUTHOR'].astype(str)\n",
    "gdx = gd.Detector()\n",
    "text_data['GENDER'] = text_data.AUTHOR.apply(first_name).map(lambda x: gdx.get_gender(x))\n",
    "\n",
    "# Drop the author column now\n",
    "text_data.drop(columns = ['AUTHOR'], axis=1, inplace=True)\n",
    "\n",
    "# Check the gender counts just to see how the data looks like\n",
    "text_data.GENDER.value_counts()"
   ]
  },
  {
   "cell_type": "code",
   "execution_count": 8,
   "metadata": {
    "pycharm": {
     "name": "#%%\n"
    }
   },
   "outputs": [],
   "source": [
    "# Consolidate the comments into one column\n",
    "# Comments can occur both in title and in Comment columns. \n",
    "text_data['COMMENT'] = text_data['TITLE'].astype(str).fillna(\"\") + \" \" + text_data['COMMENTS'].astype(str).fillna(\"\")\n",
    "text_data.drop(columns = ['TITLE', 'COMMENTS'], axis=1, inplace=True)"
   ]
  },
  {
   "cell_type": "code",
   "execution_count": 9,
   "outputs": [],
   "source": [
    "# clean rating\n",
    "# replace N = No rating with 0. We do this because rating is assumed to be numeric, not categorical\n",
    "text_data['RATING'].replace('N', '0', inplace=True)\n",
    "# convert rating to integers\n",
    "text_data['RATING'] = text_data['RATING'].apply(lambda x: int(x))\n",
    "\n",
    "# attach sentiment, seems\n",
    "def find_sentiment(rating):\n",
    "    choices = [0, 1, 2]\n",
    "    conditions = [rating < 3, rating == 3, rating > 3]\n",
    "    senti = np.select(conditions, choices)\n",
    "    return senti\n",
    "\n",
    "text_data['SENTIMENT'] = text_data['RATING'].apply(find_sentiment).astype('category')"
   ],
   "metadata": {
    "collapsed": false,
    "pycharm": {
     "name": "#%%\n"
    }
   }
  },
  {
   "cell_type": "code",
   "execution_count": 10,
   "metadata": {
    "pycharm": {
     "name": "#%%\n"
    }
   },
   "outputs": [
    {
     "data": {
      "text/plain": "                                            FINAL_PRODUCT_NAME  RATING  \\\nREVIEW_DATE                                                              \n2021-11-01   Acuvue 2 Contact Lenses                       ...       5   \n2021-12-02   Acuvue 2 Contact Lenses                       ...       4   \n2021-12-01   Acuvue 2 Contact Lenses                       ...       4   \n2021-11-16   Acuvue 2 Contact Lenses                       ...       5   \n2021-12-08   Acuvue 2 Contact Lenses                       ...       4   \n...                                                        ...     ...   \n2021-11-29   Acuvue VITA Contact Lenses                    ...       5   \n2021-11-23                Shop Acuvue Vita 12 pack  (1.0 Box )       5   \n2021-12-27          Acuvue Vita for Astigmatism Contact Lenses       5   \n2021-10-16          Acuvue Vita for Astigmatism Contact Lenses       1   \n2021-12-05          Acuvue Vita for Astigmatism Contact Lenses       5   \n\n             PRODUCT   BRAND   GENDER  \\\nREVIEW_DATE                             \n2021-11-01   Acuvue2  Acuvue     male   \n2021-12-02   Acuvue2  Acuvue   female   \n2021-12-01   Acuvue2  Acuvue   female   \n2021-11-16   Acuvue2  Acuvue     male   \n2021-12-08   Acuvue2  Acuvue  unknown   \n...              ...     ...      ...   \n2021-11-29      Vita  Acuvue     male   \n2021-11-23      Vita  Acuvue     male   \n2021-12-27      Vita  Acuvue     male   \n2021-10-16      Vita  Acuvue  unknown   \n2021-12-05      Vita  Acuvue   female   \n\n                                                       COMMENT SENTIMENT  \nREVIEW_DATE                                                               \n2021-11-01   Acucue 2 Contact Lenses I have used these lens...         2  \n2021-12-02                      Clear vision Tends to cloud up         2  \n2021-12-01   comfort These are very hard to handle. Flimsy ...         2  \n2021-11-16   Easy to use I have been using this product for...         2  \n2021-12-08   Excellent Excellent got promised a discount of...         2  \n...                                                        ...       ...  \n2021-11-29   Truly the Best The price, fast shipping,  quic...         2  \n2021-11-23   Very Comfortable Acuvue  Vita are very comfort...         2  \n2021-12-27   Very Comfortable and Convenient Very Comfortab...         2  \n2021-10-16   Worst lenses I've worn, microscopic tears in a...         0  \n2021-12-05   Would buy again My order came in fast without ...         2  \n\n[8794 rows x 7 columns]",
      "text/html": "<div>\n<style scoped>\n    .dataframe tbody tr th:only-of-type {\n        vertical-align: middle;\n    }\n\n    .dataframe tbody tr th {\n        vertical-align: top;\n    }\n\n    .dataframe thead th {\n        text-align: right;\n    }\n</style>\n<table border=\"1\" class=\"dataframe\">\n  <thead>\n    <tr style=\"text-align: right;\">\n      <th></th>\n      <th>FINAL_PRODUCT_NAME</th>\n      <th>RATING</th>\n      <th>PRODUCT</th>\n      <th>BRAND</th>\n      <th>GENDER</th>\n      <th>COMMENT</th>\n      <th>SENTIMENT</th>\n    </tr>\n    <tr>\n      <th>REVIEW_DATE</th>\n      <th></th>\n      <th></th>\n      <th></th>\n      <th></th>\n      <th></th>\n      <th></th>\n      <th></th>\n    </tr>\n  </thead>\n  <tbody>\n    <tr>\n      <th>2021-11-01</th>\n      <td>Acuvue 2 Contact Lenses                       ...</td>\n      <td>5</td>\n      <td>Acuvue2</td>\n      <td>Acuvue</td>\n      <td>male</td>\n      <td>Acucue 2 Contact Lenses I have used these lens...</td>\n      <td>2</td>\n    </tr>\n    <tr>\n      <th>2021-12-02</th>\n      <td>Acuvue 2 Contact Lenses                       ...</td>\n      <td>4</td>\n      <td>Acuvue2</td>\n      <td>Acuvue</td>\n      <td>female</td>\n      <td>Clear vision Tends to cloud up</td>\n      <td>2</td>\n    </tr>\n    <tr>\n      <th>2021-12-01</th>\n      <td>Acuvue 2 Contact Lenses                       ...</td>\n      <td>4</td>\n      <td>Acuvue2</td>\n      <td>Acuvue</td>\n      <td>female</td>\n      <td>comfort These are very hard to handle. Flimsy ...</td>\n      <td>2</td>\n    </tr>\n    <tr>\n      <th>2021-11-16</th>\n      <td>Acuvue 2 Contact Lenses                       ...</td>\n      <td>5</td>\n      <td>Acuvue2</td>\n      <td>Acuvue</td>\n      <td>male</td>\n      <td>Easy to use I have been using this product for...</td>\n      <td>2</td>\n    </tr>\n    <tr>\n      <th>2021-12-08</th>\n      <td>Acuvue 2 Contact Lenses                       ...</td>\n      <td>4</td>\n      <td>Acuvue2</td>\n      <td>Acuvue</td>\n      <td>unknown</td>\n      <td>Excellent Excellent got promised a discount of...</td>\n      <td>2</td>\n    </tr>\n    <tr>\n      <th>...</th>\n      <td>...</td>\n      <td>...</td>\n      <td>...</td>\n      <td>...</td>\n      <td>...</td>\n      <td>...</td>\n      <td>...</td>\n    </tr>\n    <tr>\n      <th>2021-11-29</th>\n      <td>Acuvue VITA Contact Lenses                    ...</td>\n      <td>5</td>\n      <td>Vita</td>\n      <td>Acuvue</td>\n      <td>male</td>\n      <td>Truly the Best The price, fast shipping,  quic...</td>\n      <td>2</td>\n    </tr>\n    <tr>\n      <th>2021-11-23</th>\n      <td>Shop Acuvue Vita 12 pack  (1.0 Box )</td>\n      <td>5</td>\n      <td>Vita</td>\n      <td>Acuvue</td>\n      <td>male</td>\n      <td>Very Comfortable Acuvue  Vita are very comfort...</td>\n      <td>2</td>\n    </tr>\n    <tr>\n      <th>2021-12-27</th>\n      <td>Acuvue Vita for Astigmatism Contact Lenses</td>\n      <td>5</td>\n      <td>Vita</td>\n      <td>Acuvue</td>\n      <td>male</td>\n      <td>Very Comfortable and Convenient Very Comfortab...</td>\n      <td>2</td>\n    </tr>\n    <tr>\n      <th>2021-10-16</th>\n      <td>Acuvue Vita for Astigmatism Contact Lenses</td>\n      <td>1</td>\n      <td>Vita</td>\n      <td>Acuvue</td>\n      <td>unknown</td>\n      <td>Worst lenses I've worn, microscopic tears in a...</td>\n      <td>0</td>\n    </tr>\n    <tr>\n      <th>2021-12-05</th>\n      <td>Acuvue Vita for Astigmatism Contact Lenses</td>\n      <td>5</td>\n      <td>Vita</td>\n      <td>Acuvue</td>\n      <td>female</td>\n      <td>Would buy again My order came in fast without ...</td>\n      <td>2</td>\n    </tr>\n  </tbody>\n</table>\n<p>8794 rows × 7 columns</p>\n</div>"
     },
     "execution_count": 10,
     "metadata": {},
     "output_type": "execute_result"
    }
   ],
   "source": [
    "# display results\n",
    "text_data"
   ]
  },
  {
   "cell_type": "code",
   "execution_count": 11,
   "outputs": [
    {
     "data": {
      "text/plain": "'Acuvue 2 Contact Lenses                                                                                     1 box - 6 pack - 3 month supply'"
     },
     "execution_count": 11,
     "metadata": {},
     "output_type": "execute_result"
    }
   ],
   "source": [
    "text_data.FINAL_PRODUCT_NAME.values[0].strip(\" \\t\")"
   ],
   "metadata": {
    "collapsed": false,
    "pycharm": {
     "name": "#%%\n"
    }
   }
  },
  {
   "cell_type": "markdown",
   "metadata": {
    "pycharm": {
     "name": "#%% md\n"
    }
   },
   "source": [
    "### Tokenization"
   ]
  },
  {
   "cell_type": "code",
   "execution_count": 12,
   "metadata": {
    "collapsed": false,
    "jupyter": {
     "outputs_hidden": false
    },
    "pycharm": {
     "name": "#%%\n"
    }
   },
   "outputs": [
    {
     "name": "stderr",
     "output_type": "stream",
     "text": [
      "/var/folders/bk/93tv9tk147s32tbjbfrfb79w0000gn/T/ipykernel_93035/4173119622.py:65: DeprecationWarning: Flags not at the start of the expression '(\\n    (?:\\n      (?: ' (truncated)\n",
      "  word_re = re.compile(pattern=r\"\"\"(%s)\"\"\" % \"|\".join(regex_strings), flags=re.VERBOSE | re.I)\n"
     ]
    }
   ],
   "source": [
    "## regex for tokenization\n",
    "# Ref: http://sentiment.christopherpotts.net/code-data/happyfuntokenizing.py\n",
    "emoticon_string = r\"\"\"\n",
    "    (?:\n",
    "      [<>]?\n",
    "      [:;=8]                     # eyes\n",
    "      [\\-o\\*\\']?                 # optional nose\n",
    "      [\\)\\]\\(\\[dDpP/\\:\\}\\{@\\|\\\\] # mouth\n",
    "      |\n",
    "      [\\)\\]\\(\\[dDpP/\\:\\}\\{@\\|\\\\] # mouth\n",
    "      [\\-o\\*\\']?                 # optional nose\n",
    "      [:;=8]                     # eyes\n",
    "      [<>]?\n",
    "    )\"\"\"\n",
    "\n",
    "# The components of the tokenizer:\n",
    "regex_strings = (\n",
    "    # Phone numbers:\n",
    "    r\"\"\"\n",
    "    (?:\n",
    "      (?:            # (international)\n",
    "        \\+?[01]\n",
    "        [\\-\\s.]*\n",
    "      )?\n",
    "      (?:            # (area code)\n",
    "        [\\(]?\n",
    "        \\d{3}\n",
    "        [\\-\\s.\\)]*\n",
    "      )?\n",
    "      \\d{3}          # exchange\n",
    "      [\\-\\s.]*\n",
    "      \\d{4}          # base\n",
    "    )\"\"\"\n",
    "    ,\n",
    "    # Emoticons:\n",
    "    emoticon_string\n",
    "    ,\n",
    "    # HTML tags:\n",
    "    r\"\"\"<[^>]+>\"\"\"\n",
    "    ,\n",
    "    # Twitter username:\n",
    "    r\"\"\"(?:@[\\w_]+)\"\"\"\n",
    "    ,\n",
    "    # Twitter hashtags:\n",
    "    r\"\"\"(?:\\#+[\\w_]+[\\w\\'_\\-]*[\\w_]+)\"\"\"\n",
    "    ,\n",
    "    # Remaining word types:\n",
    "    r\"\"\"\n",
    "    (?:[a-z][a-z'\\-_]+[a-z])       # Words with apostrophes or dashes.\n",
    "    |\n",
    "    (?:[+\\-]?\\d+[,/.:-]\\d+[+\\-]?)  # Numbers, including fractions, decimals.\n",
    "    |\n",
    "    (?:[\\w_]+)                     # Words without apostrophes or dashes.\n",
    "    |\n",
    "    (?:\\.(?:\\s*\\.){1,})            # Ellipsis dots.\n",
    "    |\n",
    "    (?:\\S)                         # Everything else that isn't whitespace.\n",
    "    \"\"\",\n",
    "    r\"\"\"\n",
    "    (?x)                # set flag to allow verbose regexps (to separate logical sections of pattern and add comments)\n",
    "    \\w+(?:-\\w+)*        # preserve expressions with internal hyphens as single tokens\n",
    "    | [][.,;\"'?():-_`]  # preserve punctuation as separate tokens\n",
    "    \"\"\"\n",
    ")\n",
    "word_re = re.compile(pattern=r\"\"\"(%s)\"\"\" % \"|\".join(regex_strings), flags=re.VERBOSE | re.I)"
   ]
  },
  {
   "cell_type": "code",
   "execution_count": 13,
   "metadata": {
    "collapsed": false,
    "jupyter": {
     "outputs_hidden": false
    },
    "pycharm": {
     "name": "#%%\n"
    }
   },
   "outputs": [],
   "source": [
    "comments_data = text_data.COMMENT\n",
    "prep_comments = pc.RawDocs(comments_data,  # series of documents\n",
    "                  lower_case=True,  # whether to lowercase the text in the firs cleaning step\n",
    "                  stopwords='long',  # type of stopwords to initialize\n",
    "                  contraction_split=True,  # wheter to split contractions or not\n",
    "                  tokenization_pattern=word_re  # custom tokenization patter\n",
    "                  )"
   ]
  },
  {
   "cell_type": "code",
   "execution_count": 14,
   "outputs": [
    {
     "data": {
      "text/plain": "<pymodules.preprocessing_class.RawDocs at 0x7fb55d427970>"
     },
     "execution_count": 14,
     "metadata": {},
     "output_type": "execute_result"
    }
   ],
   "source": [
    "prep_comments"
   ],
   "metadata": {
    "collapsed": false,
    "pycharm": {
     "name": "#%%\n"
    }
   }
  },
  {
   "cell_type": "code",
   "execution_count": 15,
   "metadata": {
    "collapsed": false,
    "jupyter": {
     "outputs_hidden": false
    },
    "pycharm": {
     "name": "#%%\n"
    }
   },
   "outputs": [
    {
     "name": "stdout",
     "output_type": "stream",
     "text": [
      "Document from the pandas series:\n",
      " Acucue 2 Contact Lenses I have used these lenses for a long time and I have to say that the service from Lens.com is great and the lenses work great for my needs!  I highly recommend them!\n",
      "\n",
      "-------------------------\n",
      "\n",
      "Document from preprocessing object:\n",
      " Acucue 2 Contact Lenses I have used these lenses for a long time and I have to say that the service from Lens.com is great and the lenses work great for my needs!  I highly recommend them!\n"
     ]
    }
   ],
   "source": [
    "# notice that the documents from the object are identical to the ones from the pandas series\n",
    "#comments_data\n",
    "i = 0\n",
    "print(\"Document from the pandas series:\\n\", comments_data[i])\n",
    "print(\"\\n-------------------------\\n\")\n",
    "print(\"Document from preprocessing object:\\n\", prep_comments.docs[i])\n"
   ]
  },
  {
   "cell_type": "code",
   "execution_count": 16,
   "metadata": {
    "collapsed": false,
    "jupyter": {
     "outputs_hidden": false
    },
    "pycharm": {
     "name": "#%%\n"
    }
   },
   "outputs": [],
   "source": [
    "# lower-case text, expand contractions and initialize stopwords list\n",
    "stop_lens_list = ['Lens', 'lens', 'Contact-lens', 'Contact-Lens', 'lenses', 'Lenses', 'Contact-Lenses', 'Contact-lenses', 'contact-lens', 'contact-lenses', 'acucue', 'acuvue', 'Acuvue', 'pack',\n",
    "                  'box', 'Pack', 'Box', 'Moist', 'moist', 'month', 'trial']\n",
    "prep_comments.basic_cleaning(custom_stopwords_list = stop_lens_list)"
   ]
  },
  {
   "cell_type": "code",
   "execution_count": 17,
   "outputs": [
    {
     "name": "stdout",
     "output_type": "stream",
     "text": [
      "Acucue 2 Contact Lenses I have used these lenses for a long time and I have to say that the service from Lens.com is great and the lenses work great for my needs!  I highly recommend them!\n",
      "\n",
      "acucue 2 contact lenses i have used these lenses for a long time and i have to say that the service from lens.com is great and the lenses work great for my needs!  i highly recommend them!\n"
     ]
    }
   ],
   "source": [
    "# explore an example after the basic cleaning has been applied\n",
    "i = 0\n",
    "print(comments_data[i])\n",
    "print()\n",
    "print(prep_comments.docs[i])"
   ],
   "metadata": {
    "collapsed": false,
    "pycharm": {
     "name": "#%%\n"
    }
   }
  },
  {
   "cell_type": "code",
   "execution_count": 18,
   "outputs": [],
   "source": [
    "# now we can split the documents into tokens\n",
    "prep_comments.tokenize_text()"
   ],
   "metadata": {
    "collapsed": false,
    "pycharm": {
     "name": "#%%\n"
    }
   }
  },
  {
   "cell_type": "code",
   "execution_count": 19,
   "outputs": [
    {
     "name": "stdout",
     "output_type": "stream",
     "text": [
      "Acucue 2 Contact Lenses I have used these lenses for a long time and I have to say that the service from Lens.com is great and the lenses work great for my needs!  I highly recommend them!\n",
      "\n",
      "['acucue', '2', 'contact', 'lenses', 'i', 'have', 'used', 'these', 'lenses', 'for', 'a', 'long', 'time', 'and', 'i', 'have', 'to', 'say', 'that', 'the', 'service', 'from', 'lens', '.', 'com', 'is', 'great', 'and', 'the', 'lenses', 'work', 'great', 'for', 'my', 'needs', '!', 'i', 'highly', 'recommend', 'them', '!']\n"
     ]
    }
   ],
   "source": [
    "i = 0\n",
    "print(comments_data[i])\n",
    "print()\n",
    "print(prep_comments.tokens[i])"
   ],
   "metadata": {
    "collapsed": false,
    "pycharm": {
     "name": "#%%\n"
    }
   }
  },
  {
   "cell_type": "code",
   "execution_count": 20,
   "outputs": [
    {
     "data": {
      "text/plain": "'!\"#$%&\\'()*+,./:;<=>?@[\\\\]^_`{|}~'"
     },
     "execution_count": 20,
     "metadata": {},
     "output_type": "execute_result"
    }
   ],
   "source": [
    "punctuation = string.punctuation\n",
    "punctuation = punctuation.replace(\"-\", \"\") # remove the hyphen from the punctuation string\n",
    "punctuation"
   ],
   "metadata": {
    "collapsed": false,
    "pycharm": {
     "name": "#%%\n"
    }
   }
  },
  {
   "cell_type": "code",
   "execution_count": 21,
   "outputs": [],
   "source": [
    "prep_comments.token_clean(length=2,                 # remove tokens with less than this number of characters\n",
    "                 punctuation=punctuation,           # remove custom list of punctuation characters\n",
    "                 numbers = True                     # remove numbers\n",
    "                 )"
   ],
   "metadata": {
    "collapsed": false,
    "pycharm": {
     "name": "#%%\n"
    }
   }
  },
  {
   "cell_type": "code",
   "execution_count": 22,
   "outputs": [
    {
     "name": "stdout",
     "output_type": "stream",
     "text": [
      "Would buy again My order came in fast without any issues, and the candy in the box was a nice touch 😄 \n",
      "\n",
      "['would', 'buy', 'again', 'order', 'came', 'fast', 'without', 'any', 'issues', 'and', 'the', 'candy', 'the', 'box', 'was', 'nice', 'touch']\n"
     ]
    }
   ],
   "source": [
    "i = -1\n",
    "print(comments_data[i])\n",
    "print()\n",
    "print(prep_comments.tokens[i])"
   ],
   "metadata": {
    "collapsed": false,
    "pycharm": {
     "name": "#%%\n"
    }
   }
  },
  {
   "cell_type": "code",
   "execution_count": 23,
   "outputs": [],
   "source": [
    "# get the list of stopwords provided earlier\n",
    "#print(sorted(prep_comments.stopwords))"
   ],
   "metadata": {
    "collapsed": false,
    "pycharm": {
     "name": "#%%\n"
    }
   }
  },
  {
   "cell_type": "code",
   "execution_count": 24,
   "outputs": [],
   "source": [
    "# we need to specificy that we want to remove the stopwords from the \"tokens\"\n",
    "prep_comments.stopword_remove('tokens')"
   ],
   "metadata": {
    "collapsed": false,
    "pycharm": {
     "name": "#%%\n"
    }
   }
  },
  {
   "cell_type": "code",
   "execution_count": 25,
   "outputs": [
    {
     "name": "stdout",
     "output_type": "stream",
     "text": [
      "Would buy again My order came in fast without any issues, and the candy in the box was a nice touch 😄 \n",
      "\n",
      "['buy', 'order', 'came', 'fast', 'without', 'issues', 'candy', 'nice', 'touch']\n"
     ]
    }
   ],
   "source": [
    "i = -1\n",
    "print(comments_data[i])\n",
    "print()\n",
    "print(prep_comments.tokens[i])"
   ],
   "metadata": {
    "collapsed": false,
    "pycharm": {
     "name": "#%%\n"
    }
   }
  },
  {
   "cell_type": "code",
   "execution_count": 26,
   "outputs": [],
   "source": [
    "# apply lemmatization to all documents (takes a very long time so we will avoid it for now)\n",
    "prep_comments.lemmatize()"
   ],
   "metadata": {
    "collapsed": false,
    "pycharm": {
     "name": "#%%\n"
    }
   }
  },
  {
   "cell_type": "code",
   "execution_count": 27,
   "outputs": [
    {
     "name": "stdout",
     "output_type": "stream",
     "text": [
      "Would buy again My order came in fast without any issues, and the candy in the box was a nice touch 😄 \n",
      "\n",
      "['buy', 'order', 'came', 'fast', 'without', 'issues', 'candy', 'nice', 'touch']\n",
      "\n",
      "['buy', 'order', 'come', 'fast', 'without', 'issue', 'candy', 'nice', 'touch']\n"
     ]
    }
   ],
   "source": [
    "# compare all versions of the same raw sentences\n",
    "i = -1\n",
    "print(comments_data[i])\n",
    "print()\n",
    "print(prep_comments.tokens[i])\n",
    "print()\n",
    "print(prep_comments.lemmas[i])"
   ],
   "metadata": {
    "collapsed": false,
    "pycharm": {
     "name": "#%%\n"
    }
   }
  },
  {
   "cell_type": "code",
   "execution_count": 28,
   "outputs": [],
   "source": [
    "# Create Dictionary\n",
    "id2word = corpora.Dictionary(prep_comments.tokens)\n",
    "# Create Corpus: Term Document Frequency\n",
    "corpus = [id2word.doc2bow(text) for text in prep_comments.tokens]"
   ],
   "metadata": {
    "collapsed": false,
    "pycharm": {
     "name": "#%%\n"
    }
   }
  },
  {
   "cell_type": "code",
   "execution_count": 29,
   "outputs": [],
   "source": [
    "text_data['TOKENS'] = prep_comments.tokens"
   ],
   "metadata": {
    "collapsed": false,
    "pycharm": {
     "name": "#%%\n"
    }
   }
  },
  {
   "cell_type": "code",
   "execution_count": 30,
   "outputs": [
    {
     "data": {
      "text/plain": "                                            FINAL_PRODUCT_NAME  RATING  \\\nREVIEW_DATE                                                              \n2021-11-01   Acuvue 2 Contact Lenses                       ...       5   \n2021-12-02   Acuvue 2 Contact Lenses                       ...       4   \n2021-12-01   Acuvue 2 Contact Lenses                       ...       4   \n2021-11-16   Acuvue 2 Contact Lenses                       ...       5   \n2021-12-08   Acuvue 2 Contact Lenses                       ...       4   \n...                                                        ...     ...   \n2021-11-29   Acuvue VITA Contact Lenses                    ...       5   \n2021-11-23                Shop Acuvue Vita 12 pack  (1.0 Box )       5   \n2021-12-27          Acuvue Vita for Astigmatism Contact Lenses       5   \n2021-10-16          Acuvue Vita for Astigmatism Contact Lenses       1   \n2021-12-05          Acuvue Vita for Astigmatism Contact Lenses       5   \n\n             PRODUCT   BRAND   GENDER  \\\nREVIEW_DATE                             \n2021-11-01   Acuvue2  Acuvue     male   \n2021-12-02   Acuvue2  Acuvue   female   \n2021-12-01   Acuvue2  Acuvue   female   \n2021-11-16   Acuvue2  Acuvue     male   \n2021-12-08   Acuvue2  Acuvue  unknown   \n...              ...     ...      ...   \n2021-11-29      Vita  Acuvue     male   \n2021-11-23      Vita  Acuvue     male   \n2021-12-27      Vita  Acuvue     male   \n2021-10-16      Vita  Acuvue  unknown   \n2021-12-05      Vita  Acuvue   female   \n\n                                                       COMMENT SENTIMENT  \\\nREVIEW_DATE                                                                \n2021-11-01   Acucue 2 Contact Lenses I have used these lens...         2   \n2021-12-02                      Clear vision Tends to cloud up         2   \n2021-12-01   comfort These are very hard to handle. Flimsy ...         2   \n2021-11-16   Easy to use I have been using this product for...         2   \n2021-12-08   Excellent Excellent got promised a discount of...         2   \n...                                                        ...       ...   \n2021-11-29   Truly the Best The price, fast shipping,  quic...         2   \n2021-11-23   Very Comfortable Acuvue  Vita are very comfort...         2   \n2021-12-27   Very Comfortable and Convenient Very Comfortab...         2   \n2021-10-16   Worst lenses I've worn, microscopic tears in a...         0   \n2021-12-05   Would buy again My order came in fast without ...         2   \n\n                                                        TOKENS  \nREVIEW_DATE                                                     \n2021-11-01   [contact, used, time, service, com, great, wor...  \n2021-12-02                       [clear, vision, tends, cloud]  \n2021-12-01   [comfort, hard, handle, flimsy, comfortable, e...  \n2021-11-16        [easy, use, using, product, years, reliable]  \n2021-12-08   [excellent, excellent, got, promised, discount...  \n...                                                        ...  \n2021-11-29   [truly, best, price, fast, shipping, quick, ve...  \n2021-11-23   [comfortable, vita, comfortable, wear, fact, c...  \n2021-12-27   [comfortable, convenient, comfortable, conveni...  \n2021-10-16   [worst, worn, microscopic, tears, week, irrita...  \n2021-12-05   [buy, order, came, fast, without, issues, cand...  \n\n[8794 rows x 8 columns]",
      "text/html": "<div>\n<style scoped>\n    .dataframe tbody tr th:only-of-type {\n        vertical-align: middle;\n    }\n\n    .dataframe tbody tr th {\n        vertical-align: top;\n    }\n\n    .dataframe thead th {\n        text-align: right;\n    }\n</style>\n<table border=\"1\" class=\"dataframe\">\n  <thead>\n    <tr style=\"text-align: right;\">\n      <th></th>\n      <th>FINAL_PRODUCT_NAME</th>\n      <th>RATING</th>\n      <th>PRODUCT</th>\n      <th>BRAND</th>\n      <th>GENDER</th>\n      <th>COMMENT</th>\n      <th>SENTIMENT</th>\n      <th>TOKENS</th>\n    </tr>\n    <tr>\n      <th>REVIEW_DATE</th>\n      <th></th>\n      <th></th>\n      <th></th>\n      <th></th>\n      <th></th>\n      <th></th>\n      <th></th>\n      <th></th>\n    </tr>\n  </thead>\n  <tbody>\n    <tr>\n      <th>2021-11-01</th>\n      <td>Acuvue 2 Contact Lenses                       ...</td>\n      <td>5</td>\n      <td>Acuvue2</td>\n      <td>Acuvue</td>\n      <td>male</td>\n      <td>Acucue 2 Contact Lenses I have used these lens...</td>\n      <td>2</td>\n      <td>[contact, used, time, service, com, great, wor...</td>\n    </tr>\n    <tr>\n      <th>2021-12-02</th>\n      <td>Acuvue 2 Contact Lenses                       ...</td>\n      <td>4</td>\n      <td>Acuvue2</td>\n      <td>Acuvue</td>\n      <td>female</td>\n      <td>Clear vision Tends to cloud up</td>\n      <td>2</td>\n      <td>[clear, vision, tends, cloud]</td>\n    </tr>\n    <tr>\n      <th>2021-12-01</th>\n      <td>Acuvue 2 Contact Lenses                       ...</td>\n      <td>4</td>\n      <td>Acuvue2</td>\n      <td>Acuvue</td>\n      <td>female</td>\n      <td>comfort These are very hard to handle. Flimsy ...</td>\n      <td>2</td>\n      <td>[comfort, hard, handle, flimsy, comfortable, e...</td>\n    </tr>\n    <tr>\n      <th>2021-11-16</th>\n      <td>Acuvue 2 Contact Lenses                       ...</td>\n      <td>5</td>\n      <td>Acuvue2</td>\n      <td>Acuvue</td>\n      <td>male</td>\n      <td>Easy to use I have been using this product for...</td>\n      <td>2</td>\n      <td>[easy, use, using, product, years, reliable]</td>\n    </tr>\n    <tr>\n      <th>2021-12-08</th>\n      <td>Acuvue 2 Contact Lenses                       ...</td>\n      <td>4</td>\n      <td>Acuvue2</td>\n      <td>Acuvue</td>\n      <td>unknown</td>\n      <td>Excellent Excellent got promised a discount of...</td>\n      <td>2</td>\n      <td>[excellent, excellent, got, promised, discount...</td>\n    </tr>\n    <tr>\n      <th>...</th>\n      <td>...</td>\n      <td>...</td>\n      <td>...</td>\n      <td>...</td>\n      <td>...</td>\n      <td>...</td>\n      <td>...</td>\n      <td>...</td>\n    </tr>\n    <tr>\n      <th>2021-11-29</th>\n      <td>Acuvue VITA Contact Lenses                    ...</td>\n      <td>5</td>\n      <td>Vita</td>\n      <td>Acuvue</td>\n      <td>male</td>\n      <td>Truly the Best The price, fast shipping,  quic...</td>\n      <td>2</td>\n      <td>[truly, best, price, fast, shipping, quick, ve...</td>\n    </tr>\n    <tr>\n      <th>2021-11-23</th>\n      <td>Shop Acuvue Vita 12 pack  (1.0 Box )</td>\n      <td>5</td>\n      <td>Vita</td>\n      <td>Acuvue</td>\n      <td>male</td>\n      <td>Very Comfortable Acuvue  Vita are very comfort...</td>\n      <td>2</td>\n      <td>[comfortable, vita, comfortable, wear, fact, c...</td>\n    </tr>\n    <tr>\n      <th>2021-12-27</th>\n      <td>Acuvue Vita for Astigmatism Contact Lenses</td>\n      <td>5</td>\n      <td>Vita</td>\n      <td>Acuvue</td>\n      <td>male</td>\n      <td>Very Comfortable and Convenient Very Comfortab...</td>\n      <td>2</td>\n      <td>[comfortable, convenient, comfortable, conveni...</td>\n    </tr>\n    <tr>\n      <th>2021-10-16</th>\n      <td>Acuvue Vita for Astigmatism Contact Lenses</td>\n      <td>1</td>\n      <td>Vita</td>\n      <td>Acuvue</td>\n      <td>unknown</td>\n      <td>Worst lenses I've worn, microscopic tears in a...</td>\n      <td>0</td>\n      <td>[worst, worn, microscopic, tears, week, irrita...</td>\n    </tr>\n    <tr>\n      <th>2021-12-05</th>\n      <td>Acuvue Vita for Astigmatism Contact Lenses</td>\n      <td>5</td>\n      <td>Vita</td>\n      <td>Acuvue</td>\n      <td>female</td>\n      <td>Would buy again My order came in fast without ...</td>\n      <td>2</td>\n      <td>[buy, order, came, fast, without, issues, cand...</td>\n    </tr>\n  </tbody>\n</table>\n<p>8794 rows × 8 columns</p>\n</div>"
     },
     "execution_count": 30,
     "metadata": {},
     "output_type": "execute_result"
    }
   ],
   "source": [
    "text_data"
   ],
   "metadata": {
    "collapsed": false,
    "pycharm": {
     "name": "#%%\n"
    }
   }
  },
  {
   "cell_type": "code",
   "execution_count": 31,
   "outputs": [],
   "source": [
    "dfXY = text_data[['TOKENS', 'SENTIMENT']]\n",
    "#tks = dfXY['TOKENS'].apply(lambda x: \",\".join(x))\n",
    "#tks"
   ],
   "metadata": {
    "collapsed": false,
    "pycharm": {
     "name": "#%%\n"
    }
   }
  },
  {
   "cell_type": "markdown",
   "source": [
    "### take tokenized sentences and make it all integers using keras tokenizer on already tokenized data"
   ],
   "metadata": {
    "collapsed": false,
    "pycharm": {
     "name": "#%% md\n"
    }
   }
  },
  {
   "cell_type": "code",
   "execution_count": 32,
   "outputs": [],
   "source": [
    "# because embedding is independent of tokenization, we integerize our token based on keras tokenizer\n",
    "num_expected_unique_words = 10000\n",
    "keras_tokenizer = Tokenizer(num_expected_unique_words, split=\",\")\n",
    "keras_tokenizer.fit_on_texts(dfXY['TOKENS'])"
   ],
   "metadata": {
    "collapsed": false,
    "pycharm": {
     "name": "#%%\n"
    }
   }
  },
  {
   "cell_type": "code",
   "execution_count": 33,
   "outputs": [],
   "source": [
    "validation_reqd = True\n",
    "X = dfXY.TOKENS\n",
    "y = dfXY.SENTIMENT\n",
    "df_trainX, df_trainy, df_testX, df_testy, df_validX, df_validy = split_data(X, y, validation_reqd)"
   ],
   "metadata": {
    "collapsed": false,
    "pycharm": {
     "name": "#%%\n"
    }
   }
  },
  {
   "cell_type": "code",
   "execution_count": 34,
   "outputs": [],
   "source": [
    "MAX_SEQ_LEN = 300\n",
    "X_train=keras_tokenizer.texts_to_sequences(df_trainX) # this converts texts into some numeric sequences\n",
    "X_train_pad=pad_sequences(X_train,maxlen=MAX_SEQ_LEN,padding='post') # this makes the length of all numeric sequences equal\n",
    "\n",
    "X_test = keras_tokenizer.texts_to_sequences(df_testX)\n",
    "X_test_pad = pad_sequences(X_test, maxlen = MAX_SEQ_LEN, padding = 'post')\n",
    "\n",
    "if validation_reqd:\n",
    "    X_val = keras_tokenizer.texts_to_sequences(df_validX)\n",
    "    X_val_pad = pad_sequences(X_val, maxlen = MAX_SEQ_LEN, padding = 'post')\n",
    "else:\n",
    "    X_val = None\n",
    "    X_val_pad = None"
   ],
   "metadata": {
    "collapsed": false,
    "pycharm": {
     "name": "#%%\n"
    }
   }
  },
  {
   "cell_type": "code",
   "execution_count": 35,
   "outputs": [],
   "source": [
    "y_train = to_categorical(df_trainy.values,num_classes=3)\n",
    "y_test = to_categorical(df_testy.values, num_classes=3)\n",
    "if validation_reqd:\n",
    "    y_val = to_categorical(df_validy.values, num_classes=3)\n",
    "else:\n",
    "    y_val = None"
   ],
   "metadata": {
    "collapsed": false,
    "pycharm": {
     "name": "#%%\n"
    }
   }
  },
  {
   "cell_type": "code",
   "execution_count": 36,
   "outputs": [],
   "source": [
    "# train Gensim's Word2Vec model\n",
    "gensim_model = Word2Vec(sentences=prep_comments.tokens,      # corpus\n",
    "                        vector_size=100,            # embedding dimension\n",
    "                        window=4,                   # words before and after to take into consideration\n",
    "                        sg=1,                       # use skip-gram\n",
    "                        negative=5,                 # number of negative examples for each positive one\n",
    "                        alpha=0.025,                # initial learning rate\n",
    "                        min_alpha=0.0001,           # minimum learning rate\n",
    "                        epochs=10,                   # number of passes through the data\n",
    "                        min_count=1,                # words that appear less than this are removed\n",
    "                        workers=4,                  # we use 1 to ensure replicability\n",
    "                        seed=92                     # for replicability\n",
    "                        )"
   ],
   "metadata": {
    "collapsed": false,
    "pycharm": {
     "name": "#%%\n"
    }
   }
  },
  {
   "cell_type": "code",
   "execution_count": 37,
   "outputs": [
    {
     "data": {
      "text/plain": "(3866, 100)"
     },
     "execution_count": 37,
     "metadata": {},
     "output_type": "execute_result"
    }
   ],
   "source": [
    "# extract the word embeddings from the model\n",
    "word_vectors = gensim_model.wv\n",
    "word_vectors.vectors.shape  # vocab_size x embeddings dimension"
   ],
   "metadata": {
    "collapsed": false,
    "pycharm": {
     "name": "#%%\n"
    }
   }
  },
  {
   "cell_type": "code",
   "execution_count": 38,
   "outputs": [
    {
     "name": "stdout",
     "output_type": "stream",
     "text": [
      "Vocabulary Size: 3866 - Embedding Dim: 100\n"
     ]
    }
   ],
   "source": [
    "word_vectors_weights = gensim_model.wv.vectors\n",
    "vocab_size, embedding_size = word_vectors_weights.shape\n",
    "print(\"Vocabulary Size: {} - Embedding Dim: {}\".format(vocab_size, embedding_size))"
   ],
   "metadata": {
    "collapsed": false,
    "pycharm": {
     "name": "#%%\n"
    }
   }
  },
  {
   "cell_type": "code",
   "execution_count": 39,
   "outputs": [
    {
     "name": "stdout",
     "output_type": "stream",
     "text": [
      "[('complaints', 0.8903340697288513), ('organization', 0.8885895609855652), ('products', 0.8822992444038391)]\n",
      "[('reasonable', 0.8891157507896423), ('products', 0.8795651793479919), ('pricing', 0.8788275122642517)]\n",
      "[('efficient', 0.9208877682685852), ('prompt', 0.9130818843841553), ('communication', 0.9125839471817017)]\n",
      "[('inexpensive', 0.9139235019683838), ('value', 0.8920178413391113), ('organization', 0.8874971866607666)]\n",
      "[('clarity', 0.7279307842254639), ('perfectly', 0.666947603225708), ('durability', 0.6549642086029053)]\n"
     ]
    }
   ],
   "source": [
    "# Some validation on the quality of the Word2Vec model\n",
    "print(gensim_model.wv.most_similar('product', topn=3))\n",
    "print(gensim_model.wv.most_similar('price', topn=3))\n",
    "print(gensim_model.wv.most_similar('service', topn=3))\n",
    "print(gensim_model.wv.most_similar('quality', topn=3))\n",
    "print(gensim_model.wv.most_similar(positive=['comfort', 'fit'], negative=['dry'], topn=3))\n",
    "\n",
    "def word2token(word):\n",
    "    try:\n",
    "        return gensim_model.wv.key_to_index[word]\n",
    "    except KeyError:\n",
    "        return 0\n",
    "\n",
    "def token2word(token):\n",
    "    return gensim_model.wv.index_to_key[token]"
   ],
   "metadata": {
    "collapsed": false,
    "pycharm": {
     "name": "#%%\n"
    }
   }
  },
  {
   "cell_type": "code",
   "execution_count": 40,
   "outputs": [
    {
     "data": {
      "text/plain": "(10000, 100)"
     },
     "execution_count": 40,
     "metadata": {},
     "output_type": "execute_result"
    }
   ],
   "source": [
    "gensim_weight_matrix = np.zeros((num_expected_unique_words ,embedding_size))\n",
    "gensim_weight_matrix.shape"
   ],
   "metadata": {
    "collapsed": false,
    "pycharm": {
     "name": "#%%\n"
    }
   }
  },
  {
   "cell_type": "code",
   "execution_count": 41,
   "outputs": [
    {
     "data": {
      "text/plain": "array([-0.48646688, -0.10057545, -0.01636557,  0.12661152, -0.16834627,\n       -0.1289036 , -0.5936565 , -0.01086082, -0.06351963,  0.4147907 ,\n        0.5627787 , -0.26170146, -0.17241016,  0.05398599,  0.05347341,\n       -0.00771342, -0.04772512, -0.28116027,  0.25421268, -0.45505133,\n        0.08086294,  0.07848439,  0.40655455,  0.50118935, -0.03411631,\n       -0.00625135,  0.14728922, -0.30279523, -0.549352  ,  0.04179486,\n        0.46028522,  0.05771782, -0.48282555, -0.02257379,  0.58881897,\n        0.1086688 ,  0.31071708, -0.07145069, -0.10884464, -0.2970314 ,\n        0.11140027,  0.11665965, -0.31037593, -0.07009772, -0.3243443 ,\n        0.33083898,  0.1417991 , -0.09932446,  0.12094037,  0.81668663,\n       -0.08618829,  0.64751446, -0.10993981, -0.46144786, -0.09165813,\n       -0.2122798 ,  0.41226694, -0.3322713 , -0.27162552, -0.01163253,\n       -0.22069   ,  0.14647011, -0.3187761 ,  0.38727343, -0.02249982,\n       -0.30720037, -0.04830677,  0.2115375 ,  0.14442824, -0.40102232,\n       -0.45497775,  0.28139296,  0.4777776 , -0.08892338,  0.18226403,\n        0.33780193,  0.15154687,  0.07422865, -0.12324809,  0.2944943 ,\n        0.28121403, -0.2135498 , -0.59023637, -0.22102489, -0.32713348,\n       -0.17417589, -0.17612208,  0.11800458, -0.08073916,  0.10944831,\n       -0.03055761,  0.0680621 , -0.67819864, -0.11286207,  0.01124578,\n       -0.0299571 ,  0.36231187,  0.15712677,  0.18320292, -0.00735305],\n      dtype=float32)"
     },
     "execution_count": 41,
     "metadata": {},
     "output_type": "execute_result"
    }
   ],
   "source": [
    "word_vectors[word_vectors.key_to_index['dry']]"
   ],
   "metadata": {
    "collapsed": false,
    "pycharm": {
     "name": "#%%\n"
    }
   }
  },
  {
   "cell_type": "markdown",
   "source": [
    "### map the index of the word (obtained by keras_tokenizer, which assigned interger values to words) to its weight matrix obtained from wrod embedding"
   ],
   "metadata": {
    "collapsed": false,
    "pycharm": {
     "name": "#%% md\n"
    }
   }
  },
  {
   "cell_type": "code",
   "execution_count": 42,
   "outputs": [],
   "source": [
    "for word, index in keras_tokenizer.word_index.items():\n",
    "    if index < num_expected_unique_words: # why ? since index starts with zero\n",
    "        try:\n",
    "            word_index_in_embedding = word_vectors.key_to_index[word]\n",
    "        except KeyError:\n",
    "            gensim_weight_matrix[index] = np.zeros(embedding_size)\n",
    "        else:\n",
    "            gensim_weight_matrix[index] = word_vectors[word_index_in_embedding]"
   ],
   "metadata": {
    "collapsed": false,
    "pycharm": {
     "name": "#%%\n"
    }
   }
  },
  {
   "cell_type": "code",
   "execution_count": 43,
   "outputs": [
    {
     "data": {
      "text/plain": "(10000, 100)"
     },
     "execution_count": 43,
     "metadata": {},
     "output_type": "execute_result"
    }
   ],
   "source": [
    "gensim_weight_matrix.shape"
   ],
   "metadata": {
    "collapsed": false,
    "pycharm": {
     "name": "#%%\n"
    }
   }
  },
  {
   "cell_type": "markdown",
   "source": [
    "### RNN model"
   ],
   "metadata": {
    "collapsed": false,
    "pycharm": {
     "name": "#%% md\n"
    }
   }
  },
  {
   "cell_type": "code",
   "execution_count": 44,
   "outputs": [
    {
     "name": "stdout",
     "output_type": "stream",
     "text": [
      "input length:300\n"
     ]
    },
    {
     "name": "stderr",
     "output_type": "stream",
     "text": [
      "2022-06-26 21:32:44.680720: I tensorflow/core/platform/cpu_feature_guard.cc:193] This TensorFlow binary is optimized with oneAPI Deep Neural Network Library (oneDNN) to use the following CPU instructions in performance-critical operations:  AVX2 FMA\n",
      "To enable them in other operations, rebuild TensorFlow with the appropriate compiler flags.\n"
     ]
    }
   ],
   "source": [
    "num_sentiments  = 3\n",
    "print(f\"input length:{X_train_pad.shape[1]}\")\n",
    "\n",
    "model = Sequential()\n",
    "model.add(Embedding(input_dim = num_expected_unique_words,\n",
    "                    output_dim = embedding_size,\n",
    "                    input_length= X_train_pad.shape[1],\n",
    "                    weights = [gensim_weight_matrix],\n",
    "                    trainable = False))\n",
    "\n",
    "model.add(Dropout(0.2))\n",
    "model.add(Bidirectional(LSTM(100,return_sequences=True)))\n",
    "model.add(Dropout(0.2))\n",
    "model.add(Bidirectional(LSTM(200,return_sequences=True)))\n",
    "model.add(Dropout(0.2))\n",
    "model.add(Bidirectional(LSTM(100,return_sequences=False)))\n",
    "model.add(Dense(num_sentiments, activation = 'softmax'))\n",
    "\n",
    "model.compile(loss = 'categorical_crossentropy',\n",
    "              optimizer = 'adam',\n",
    "              metrics = 'accuracy')"
   ],
   "metadata": {
    "collapsed": false,
    "pycharm": {
     "name": "#%%\n"
    }
   }
  },
  {
   "cell_type": "code",
   "execution_count": 45,
   "outputs": [],
   "source": [
    "#EarlyStopping and ModelCheckpoint\n",
    "from keras.callbacks import EarlyStopping, ModelCheckpoint\n",
    "es = EarlyStopping(monitor = 'val_loss', mode = 'min', verbose = 1, patience = 5)\n",
    "mc = ModelCheckpoint('./sentiment_RNN_model.h5', monitor = 'val_accuracy', mode = 'max', verbose = 1, save_best_only = True)"
   ],
   "metadata": {
    "collapsed": false,
    "pycharm": {
     "name": "#%%\n"
    }
   }
  },
  {
   "cell_type": "code",
   "execution_count": 46,
   "outputs": [
    {
     "name": "stdout",
     "output_type": "stream",
     "text": [
      "Epoch 1/20\n",
      "42/42 [==============================] - ETA: 0s - loss: 0.2733 - accuracy: 0.9434\n",
      "Epoch 1: val_accuracy improved from -inf to 0.95512, saving model to ./sentiment_RNN_model.h5\n",
      "42/42 [==============================] - 266s 6s/step - loss: 0.2733 - accuracy: 0.9434 - val_loss: 0.2107 - val_accuracy: 0.9551\n",
      "Epoch 2/20\n",
      "42/42 [==============================] - ETA: 0s - loss: 0.1995 - accuracy: 0.9531\n",
      "Epoch 2: val_accuracy did not improve from 0.95512\n",
      "42/42 [==============================] - 252s 6s/step - loss: 0.1995 - accuracy: 0.9531 - val_loss: 0.1824 - val_accuracy: 0.9545\n",
      "Epoch 3/20\n",
      "42/42 [==============================] - ETA: 0s - loss: 0.1881 - accuracy: 0.9519\n",
      "Epoch 3: val_accuracy improved from 0.95512 to 0.95573, saving model to ./sentiment_RNN_model.h5\n",
      "42/42 [==============================] - 277s 7s/step - loss: 0.1881 - accuracy: 0.9519 - val_loss: 0.1718 - val_accuracy: 0.9557\n",
      "Epoch 4/20\n",
      "42/42 [==============================] - ETA: 0s - loss: 0.1805 - accuracy: 0.9531\n",
      "Epoch 4: val_accuracy did not improve from 0.95573\n",
      "42/42 [==============================] - 271s 6s/step - loss: 0.1805 - accuracy: 0.9531 - val_loss: 0.1693 - val_accuracy: 0.9557\n",
      "Epoch 5/20\n",
      "42/42 [==============================] - ETA: 0s - loss: 0.1813 - accuracy: 0.9521\n",
      "Epoch 5: val_accuracy did not improve from 0.95573\n",
      "42/42 [==============================] - 273s 6s/step - loss: 0.1813 - accuracy: 0.9521 - val_loss: 0.1721 - val_accuracy: 0.9551\n",
      "Epoch 6/20\n",
      "42/42 [==============================] - ETA: 0s - loss: 0.1728 - accuracy: 0.9535\n",
      "Epoch 6: val_accuracy did not improve from 0.95573\n",
      "42/42 [==============================] - 271s 6s/step - loss: 0.1728 - accuracy: 0.9535 - val_loss: 0.1697 - val_accuracy: 0.9551\n",
      "Epoch 7/20\n",
      "42/42 [==============================] - ETA: 0s - loss: 0.1790 - accuracy: 0.9519\n",
      "Epoch 7: val_accuracy improved from 0.95573 to 0.95694, saving model to ./sentiment_RNN_model.h5\n",
      "42/42 [==============================] - 273s 7s/step - loss: 0.1790 - accuracy: 0.9519 - val_loss: 0.1757 - val_accuracy: 0.9569\n",
      "Epoch 8/20\n",
      "42/42 [==============================] - ETA: 0s - loss: 0.1709 - accuracy: 0.9543 \n",
      "Epoch 8: val_accuracy improved from 0.95694 to 0.95755, saving model to ./sentiment_RNN_model.h5\n",
      "42/42 [==============================] - 1361s 33s/step - loss: 0.1709 - accuracy: 0.9543 - val_loss: 0.1728 - val_accuracy: 0.9576\n",
      "Epoch 9/20\n",
      "42/42 [==============================] - ETA: 0s - loss: 0.1671 - accuracy: 0.9545\n",
      "Epoch 9: val_accuracy did not improve from 0.95755\n",
      "42/42 [==============================] - 247s 6s/step - loss: 0.1671 - accuracy: 0.9545 - val_loss: 0.1702 - val_accuracy: 0.9576\n",
      "Epoch 9: early stopping\n",
      "69/69 [==============================] - 39s 564ms/step - loss: 0.1692 - accuracy: 0.9554\n",
      "Accuracy of model is: 0.955434262752533\n"
     ]
    }
   ],
   "source": [
    "if validation_reqd:\n",
    "    history_embedding = model.fit(X_train_pad, y_train,\n",
    "                                  epochs = 20,\n",
    "                                  batch_size = 120,\n",
    "                                  validation_data=(X_val_pad, y_val),\n",
    "                                  verbose = 1,\n",
    "                                  callbacks= [es, mc],\n",
    "                                  workers=4,\n",
    "                                  use_multiprocessing=True)\n",
    "else:\n",
    "    history_embedding = model.fit(X_train_pad, y_train,\n",
    "                                  epochs = 20,\n",
    "                                  batch_size = 120,\n",
    "                                  verbose = 1,\n",
    "                                  callbacks= [es, mc],\n",
    "                                  workers=4,\n",
    "                                  use_multiprocessing=True)\n",
    "\n",
    "\n",
    "_, accuracy = model.evaluate(X_test_pad, y_test)\n",
    "print(f'Accuracy of model is: {accuracy}')"
   ],
   "metadata": {
    "collapsed": false,
    "pycharm": {
     "name": "#%%\n"
    }
   }
  },
  {
   "cell_type": "code",
   "execution_count": 46,
   "outputs": [],
   "source": [],
   "metadata": {
    "collapsed": false,
    "pycharm": {
     "name": "#%%\n"
    }
   }
  },
  {
   "cell_type": "code",
   "execution_count": 47,
   "outputs": [
    {
     "data": {
      "text/plain": "<Figure size 432x288 with 1 Axes>",
      "image/png": "[encoded data removed]"
     },
     "metadata": {
      "needs_background": "light"
     },
     "output_type": "display_data"
    }
   ],
   "source": [
    "plt.plot(history_embedding.history['accuracy'],c='b',label='train accuracy')\n",
    "plt.plot(history_embedding.history['val_accuracy'],c='r',label='validation accuracy')\n",
    "plt.legend(loc='lower right')\n",
    "plt.show()"
   ],
   "metadata": {
    "collapsed": false,
    "pycharm": {
     "name": "#%%\n"
    }
   }
  },
  {
   "cell_type": "code",
   "execution_count": 48,
   "outputs": [
    {
     "name": "stdout",
     "output_type": "stream",
     "text": [
      "69/69 [==============================] - 20s 274ms/step\n"
     ]
    }
   ],
   "source": [
    "y_pred_raw =model.predict(X_test_pad, workers=4, use_multiprocessing=True)"
   ],
   "metadata": {
    "collapsed": false,
    "pycharm": {
     "name": "#%%\n"
    }
   }
  },
  {
   "cell_type": "code",
   "execution_count": 49,
   "outputs": [
    {
     "name": "stdout",
     "output_type": "stream",
     "text": [
      "              precision    recall  f1-score   support\n",
      "\n",
      "           0       0.12      0.45      0.19        22\n",
      "           1       0.00      0.00      0.00         0\n",
      "           2       1.00      0.96      0.98      2177\n",
      "\n",
      "    accuracy                           0.96      2199\n",
      "   macro avg       0.37      0.47      0.39      2199\n",
      "weighted avg       0.99      0.96      0.97      2199\n",
      "\n"
     ]
    },
    {
     "name": "stderr",
     "output_type": "stream",
     "text": [
      "/Users/bmukund/miniconda3/lib/python3.8/site-packages/sklearn/metrics/_classification.py:1318: UndefinedMetricWarning: Recall and F-score are ill-defined and being set to 0.0 in labels with no true samples. Use `zero_division` parameter to control this behavior.\n",
      "  _warn_prf(average, modifier, msg_start, len(result))\n",
      "/Users/bmukund/miniconda3/lib/python3.8/site-packages/sklearn/metrics/_classification.py:1318: UndefinedMetricWarning: Recall and F-score are ill-defined and being set to 0.0 in labels with no true samples. Use `zero_division` parameter to control this behavior.\n",
      "  _warn_prf(average, modifier, msg_start, len(result))\n",
      "/Users/bmukund/miniconda3/lib/python3.8/site-packages/sklearn/metrics/_classification.py:1318: UndefinedMetricWarning: Recall and F-score are ill-defined and being set to 0.0 in labels with no true samples. Use `zero_division` parameter to control this behavior.\n",
      "  _warn_prf(average, modifier, msg_start, len(result))\n"
     ]
    }
   ],
   "source": [
    "y_pred =   np.argmax(y_pred_raw, axis = 1)\n",
    "y_true = np.argmax(y_test, axis = 1)\n",
    "print(metrics.classification_report(y_pred, y_true))\n",
    "#\n",
    "#y_pred = convert_prob_to_labels(y_pred_raw)\n",
    "#print(metrics.classification_report(y_pred, y_test))"
   ],
   "metadata": {
    "collapsed": false,
    "pycharm": {
     "name": "#%%\n"
    }
   }
  },
  {
   "cell_type": "code",
   "execution_count": 50,
   "outputs": [
    {
     "data": {
      "text/plain": "<Figure size 432x288 with 1 Axes>",
      "image/png": "[encoded data removed]"
     },
     "metadata": {
      "needs_background": "light"
     },
     "output_type": "display_data"
    }
   ],
   "source": [
    "plot_loss(history_embedding)"
   ],
   "metadata": {
    "collapsed": false,
    "pycharm": {
     "name": "#%%\n"
    }
   }
  },
  {
   "cell_type": "code",
   "execution_count": 51,
   "outputs": [
    {
     "data": {
      "text/plain": "<Figure size 432x288 with 1 Axes>",
      "image/png": "[encoded data removed]"
     },
     "metadata": {
      "needs_background": "light"
     },
     "output_type": "display_data"
    }
   ],
   "source": [
    "plot_accuracy(history_embedding)"
   ],
   "metadata": {
    "collapsed": false,
    "pycharm": {
     "name": "#%%\n"
    }
   }
  },
  {
   "cell_type": "code",
   "execution_count": 52,
   "outputs": [],
   "source": [
    "# use a PCA decomposition to visualize the embeddings in 2D\n",
    "def pca_scatterplot(model, words):\n",
    "    pca = PCA(n_components=2, random_state=92)\n",
    "    word_vectors = np.array([model[w] for w in words])\n",
    "    low_dim_emb = pca.fit_transform(word_vectors)\n",
    "    plt.figure(figsize=(21,10))\n",
    "    plt.scatter(low_dim_emb[:,0], low_dim_emb[:,1], edgecolors='blue', c='blue')\n",
    "    plt.xlabel(\"Component 1\")\n",
    "    plt.ylabel(\"Component 2\")\n",
    "\n",
    "    # get the text of the plotted words\n",
    "    texts = []\n",
    "    for word, (x,y) in zip(words, low_dim_emb):\n",
    "        texts.append(plt.text(x+0.01, y+0.01, word, rotation=0))\n",
    "\n",
    "    # adjust the position of the labels so that they dont overlap\n",
    "    adjust_text(texts)\n",
    "    # show plot\n",
    "    plt.show()"
   ],
   "metadata": {
    "collapsed": false,
    "pycharm": {
     "name": "#%%\n"
    }
   }
  },
  {
   "cell_type": "markdown",
   "source": [],
   "metadata": {
    "collapsed": false,
    "pycharm": {
     "name": "#%% md\n"
    }
   }
  },
  {
   "cell_type": "code",
   "execution_count": 53,
   "outputs": [
    {
     "name": "stdout",
     "output_type": "stream",
     "text": [
      "['dryer', 'usual', 'seems', 'shelf', 'awhile', 'disappointed']\n"
     ]
    },
    {
     "data": {
      "text/plain": "<Figure size 1512x720 with 1 Axes>",
      "image/png": "[encoded data removed]"
     },
     "metadata": {
      "needs_background": "light"
     },
     "output_type": "display_data"
    }
   ],
   "source": [
    "# define the tokens to use in the plot\n",
    "tokens_of_interest = ['dryer', 'usual', 'seems', 'shelf', 'awhile', 'disappointed']\n",
    "print(tokens_of_interest)\n",
    "# expand the list of tokens with all the tokens from the replacement dictionary\n",
    "#tokens_of_interest = set(tokens_of_interest) + list(replacing_dict.values()) )\n",
    "\n",
    "# plot\n",
    "pca_scatterplot(word_vectors, tokens_of_interest)"
   ],
   "metadata": {
    "collapsed": false,
    "pycharm": {
     "name": "#%%\n"
    }
   }
  }
 ],
 "metadata": {
  "interpreter": {
   "hash": "7478654ab1aa58977e1af457aae5317775386ee06614bd651985e9aec83741b6"
  },
  "kernelspec": {
   "display_name": "Python 3 (ipykernel)",
   "language": "python",
   "name": "python3"
  },
  "language_info": {
   "codemirror_mode": {
    "name": "ipython",
    "version": 3
   },
   "file_extension": ".py",
   "mimetype": "text/x-python",
   "name": "python",
   "nbconvert_exporter": "python",
   "pygments_lexer": "ipython3",
   "version": "3.8.2"
  }
 },
 "nbformat": 4,
 "nbformat_minor": 4
}