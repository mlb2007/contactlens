{
  "cells": [
    {
      "cell_type": "markdown",
      "id": "optional-influence",
      "metadata": {
        "id": "optional-influence"
      },
      "source": [
        "# **Introduction to Word Embeddings**\n",
        "\n",
        "This tutorial illustrates several applications of word embeddings by estimating a Word2Vec model using an off-the-shelf python library (```Gensim```).\n",
        "\n",
        "Some additional resources on Word2Vec:\n",
        "- [Jurafsky & Martin (2021). Book chapter.](https://web.stanford.edu/~jurafsky/slp3/6.pdf)\n",
        "- [Mikolov et al. (2013). Original paper.](https://arxiv.org/pdf/1301.3781.pdf)\n",
        "- [Rong (2016). Additional explanation on how to train the model.](https://arxiv.org/pdf/1411.2738.pdf)\n",
        "- [Alammar (2019). Illustrated guide.](https://jalammar.github.io/illustrated-word2vec/)\n",
        "- [Gensim documentation](https://radimrehurek.com/gensim/models/word2vec.html)"
      ]
    },
    {
      "cell_type": "markdown",
      "id": "e75c2330-27c2-4cf6-b7d8-312d7b60c898",
      "metadata": {
        "id": "e75c2330-27c2-4cf6-b7d8-312d7b60c898"
      },
      "source": [
        "## **Setup**"
      ]
    },
    {
      "cell_type": "code",
      "execution_count": 3,
      "id": "bc05b753-7cb8-43b7-8ec8-680bb0f188ba",
      "metadata": {
        "id": "bc05b753-7cb8-43b7-8ec8-680bb0f188ba"
      },
      "outputs": [],
      "source": [
        "# ## install necessary packages\n",
        "# !pip install flashtext                  # easy phrase replacing methods\n",
        "# !pip install contractions               # expand English contractions \n",
        "# !pip install --upgrade spacy==2.2.4     # functions for lemmatizing\n",
        "# !pip install gensim==4.0.0              # word2vec estimation\n",
        "# !pip install adjustText                 # generate plots with lots of text labels"
      ]
    },
    {
      "cell_type": "code",
      "execution_count": 4,
      "id": "military-demonstration",
      "metadata": {
        "id": "military-demonstration"
      },
      "outputs": [],
      "source": [
        "import sys\n",
        "import pandas as pd\n",
        "import numpy as np\n",
        "import string\n",
        "from gensim.models import Word2Vec\n",
        "import matplotlib.pyplot as plt\n",
        "from adjustText import adjust_text\n",
        "from sklearn.decomposition import PCA\n",
        "from collections import Counter\n",
        "from sklearn.preprocessing import StandardScaler"
      ]
    },
    {
      "cell_type": "code",
      "execution_count": 5,
      "id": "5824485c",
      "metadata": {},
      "outputs": [],
      "source": [
        "# define paths\n",
        "data_path = \"../data/\"\n",
        "pymodules_path = \"../pymodules\""
      ]
    },
    {
      "cell_type": "code",
      "execution_count": 6,
      "id": "3ed59a1b",
      "metadata": {},
      "outputs": [],
      "source": [
        "# import our own code\n",
        "sys.path.append(pymodules_path)\n",
        "import preprocessing_class as pc\n",
        "import dictionary_methods as dictionary_methods"
      ]
    },
    {
      "cell_type": "markdown",
      "id": "ff8cb7d3-d86a-4fdc-acc5-7402e74b12c8",
      "metadata": {
        "id": "ff8cb7d3-d86a-4fdc-acc5-7402e74b12c8"
      },
      "source": [
        "## **Off-the-shelf Word2Vec using Gensim**\n",
        "\n",
        "[Gensim](https://radimrehurek.com/gensim/index.html) is a very powerful library that contains efficient (written in ```C```) implementations of several NLP models. Word2Vec is included among these. We will start by using this library to demonstrate use cases for word embeddings."
      ]
    },
    {
      "cell_type": "markdown",
      "id": "3a7c7a62-c1ab-4aeb-a2e8-ac009d7b6c34",
      "metadata": {
        "id": "3a7c7a62-c1ab-4aeb-a2e8-ac009d7b6c34"
      },
      "source": [
        "### *Load data and preprocess text*\n",
        "\n",
        "We will now load some real data over which we will estimate our word embeddings. We see that our data consists of paragraphs from the Inflation Reports produced by the Bank of England. The data starts on 1998 and ends in 2015. Reports are produced four times a year in the months of February, May, August and November."
      ]
    },
    {
      "cell_type": "markdown",
      "id": "5952f0ca",
      "metadata": {},
      "source": [
        "As a starting point, we will need to download three data files from Google Drive:\n",
        "1. [Inflation Reports data](https://drive.google.com/file/d/1o_67kmSkLjaEoYxIUkfnouC_Nm_IQJZE/view?usp=sharing) \n",
        "2. [Monetary Policy Committee minutes data](https://drive.google.com/file/d/1iCtirTJfgowx2TVJVmISNRbq690wv1vm/view?usp=sharing)\n",
        "3. [Quarterly GDP data](https://drive.google.com/file/d/1m9lTsJU2--K8mpLu2STZSS691WLZnN6h/view?usp=sharing)\n",
        "\n",
        "Once you download the two files put them in the *\"data\"* folder and keep their original names."
      ]
    },
    {
      "cell_type": "code",
      "execution_count": 26,
      "id": "c9f47d7b-e1b3-4326-846b-5dd4c1a7cb99",
      "metadata": {
        "colab": {
          "base_uri": "https://localhost:8080/"
        },
        "id": "c9f47d7b-e1b3-4326-846b-5dd4c1a7cb99",
        "outputId": "9c5c28d6-0531-4d32-f016-1e822085f4fb"
      },
      "outputs": [
        {
          "name": "stdout",
          "output_type": "stream",
          "text": [
            "(15023, 2)\n"
          ]
        },
        {
          "data": {
            "text/html": [
              "<div>\n",
              "<style scoped>\n",
              "    .dataframe tbody tr th:only-of-type {\n",
              "        vertical-align: middle;\n",
              "    }\n",
              "\n",
              "    .dataframe tbody tr th {\n",
              "        vertical-align: top;\n",
              "    }\n",
              "\n",
              "    .dataframe thead th {\n",
              "        text-align: right;\n",
              "    }\n",
              "</style>\n",
              "<table border=\"1\" class=\"dataframe\">\n",
              "  <thead>\n",
              "    <tr style=\"text-align: right;\">\n",
              "      <th></th>\n",
              "      <th>yearmonth</th>\n",
              "      <th>paragraph</th>\n",
              "    </tr>\n",
              "  </thead>\n",
              "  <tbody>\n",
              "    <tr>\n",
              "      <th>0</th>\n",
              "      <td>199802</td>\n",
              "      <td>It is almost six years since output reached it...</td>\n",
              "    </tr>\n",
              "    <tr>\n",
              "      <th>1</th>\n",
              "      <td>199802</td>\n",
              "      <td>Monetary policy is currently being pulled in o...</td>\n",
              "    </tr>\n",
              "    <tr>\n",
              "      <th>2</th>\n",
              "      <td>199802</td>\n",
              "      <td>On the other hand, the delayed demand effect o...</td>\n",
              "    </tr>\n",
              "    <tr>\n",
              "      <th>3</th>\n",
              "      <td>199802</td>\n",
              "      <td>The scale of the slowdown depends, in part, on...</td>\n",
              "    </tr>\n",
              "    <tr>\n",
              "      <th>4</th>\n",
              "      <td>199802</td>\n",
              "      <td>Net trade is weakening, but domestic demand gr...</td>\n",
              "    </tr>\n",
              "    <tr>\n",
              "      <th>5</th>\n",
              "      <td>199802</td>\n",
              "      <td>The combination of sharply weakening net trade...</td>\n",
              "    </tr>\n",
              "    <tr>\n",
              "      <th>6</th>\n",
              "      <td>199802</td>\n",
              "      <td>The MPC’s probability distribution for the fou...</td>\n",
              "    </tr>\n",
              "    <tr>\n",
              "      <th>7</th>\n",
              "      <td>199802</td>\n",
              "      <td>The MPC’s projection of the twelve-month RPIX ...</td>\n",
              "    </tr>\n",
              "    <tr>\n",
              "      <th>8</th>\n",
              "      <td>199802</td>\n",
              "      <td>Overall, the balance of risks to inflation in ...</td>\n",
              "    </tr>\n",
              "    <tr>\n",
              "      <th>9</th>\n",
              "      <td>199802</td>\n",
              "      <td>Against the background of this projection, the...</td>\n",
              "    </tr>\n",
              "  </tbody>\n",
              "</table>\n",
              "</div>"
            ],
            "text/plain": [
              "   yearmonth                                          paragraph\n",
              "0     199802  It is almost six years since output reached it...\n",
              "1     199802  Monetary policy is currently being pulled in o...\n",
              "2     199802  On the other hand, the delayed demand effect o...\n",
              "3     199802  The scale of the slowdown depends, in part, on...\n",
              "4     199802  Net trade is weakening, but domestic demand gr...\n",
              "5     199802  The combination of sharply weakening net trade...\n",
              "6     199802  The MPC’s probability distribution for the fou...\n",
              "7     199802  The MPC’s projection of the twelve-month RPIX ...\n",
              "8     199802  Overall, the balance of risks to inflation in ...\n",
              "9     199802  Against the background of this projection, the..."
            ]
          },
          "execution_count": 26,
          "metadata": {},
          "output_type": "execute_result"
        }
      ],
      "source": [
        "data = pd.read_csv(data_path + \"ir_data_final.txt\", sep=\"\\t\")\n",
        "data = data[['ir_date', 'paragraph']]\n",
        "data.columns = ['yearmonth', 'paragraph']\n",
        "print(data.shape)\n",
        "data.head(10)"
      ]
    },
    {
      "cell_type": "code",
      "execution_count": 25,
      "id": "a647e409",
      "metadata": {},
      "outputs": [
        {
          "data": {
            "text/plain": [
              "'It is almost six years since output reached its trough in the last recession. Since then, output has risen at an average rate of 3% a year and inflation has fallen from almost 5% to below 3% a year. The combination of above-trend growth and falling inflation is unsustainable, and has probably already come to an end. At this juncture, with output growth likely to fall sharply, monetary policy is more finely balanced than at any point since the inflation target was introduced in 1992. The central issue is whether the existing policy stance will slow the economy sufficiently quickly to prevent further upward pressure on earnings growth and retail price inflation.'"
            ]
          },
          "execution_count": 25,
          "metadata": {},
          "output_type": "execute_result"
        }
      ],
      "source": [
        "# explore one of the paragraphs\n",
        "data.loc[0, \"paragraph\"]"
      ]
    },
    {
      "cell_type": "code",
      "execution_count": 27,
      "id": "d856f1d9-edd9-4bda-a56d-b4c48a37b074",
      "metadata": {
        "colab": {
          "base_uri": "https://localhost:8080/"
        },
        "id": "d856f1d9-edd9-4bda-a56d-b4c48a37b074",
        "outputId": "345e1f6a-537b-47dc-e957-9923f394b7b1"
      },
      "outputs": [
        {
          "name": "stdout",
          "output_type": "stream",
          "text": [
            "   yearmonth  size\n",
            "0     199802   177\n",
            "1     199805   161\n",
            "2     199808   195\n",
            "3     199811   176\n",
            "4     199902   191\n",
            "\n",
            "    yearmonth  size\n",
            "65     201405   235\n",
            "66     201408   229\n",
            "67     201411   220\n",
            "68     201502   214\n",
            "69     201505   214\n"
          ]
        }
      ],
      "source": [
        "# check how often these reports are produced\n",
        "grouped = data.groupby(\"yearmonth\", as_index=False).size()\n",
        "print(grouped.head(5))\n",
        "print()\n",
        "print(grouped.tail(5))"
      ]
    },
    {
      "cell_type": "code",
      "execution_count": 28,
      "id": "e_TVUwiS1uDW",
      "metadata": {
        "id": "e_TVUwiS1uDW"
      },
      "outputs": [],
      "source": [
        "def apply_preprocessing(data, replacing_dict, pattern, punctuation):\n",
        "    \"\"\" Function to apply the steps from the preprocessing class in the correct\n",
        "        order to generate a term frequency matrix and the appropriate dictionaries\n",
        "    \"\"\"\n",
        "    \n",
        "    prep = pc.RawDocs(data, stopwords=\"short\", lower_case=True, contraction_split=True, tokenization_pattern=pattern)\n",
        "    prep.phrase_replace(replace_dict=replacing_dict, case_sensitive_replacing=False)\n",
        "    # lower-case text, expand contractions and initialize stopwords list\n",
        "    prep.basic_cleaning()\n",
        "    # split the documents into tokens\n",
        "    prep.tokenize_text()\n",
        "    # clean tokens\n",
        "    prep.token_clean(length=2, punctuation=punctuation, numbers=True)\n",
        "    # create document-term matrix\n",
        "    prep.dt_matrix_create(items='tokens', min_df=10, score_type='df')\n",
        "    \n",
        "    # get the vocabulary and the appropriate dictionaries to map from indices to words\n",
        "    word2idx = prep.vocabulary[\"tokens\"]\n",
        "    idx2word = {i:word for word,i in word2idx.items()}\n",
        "    vocab = list(word2idx.keys())\n",
        "    \n",
        "    return prep, word2idx, idx2word, vocab"
      ]
    },
    {
      "cell_type": "code",
      "execution_count": 29,
      "id": "hiGs2bZK198L",
      "metadata": {
        "id": "hiGs2bZK198L"
      },
      "outputs": [],
      "source": [
        "# define dictionary for pre-processing class with terms we want to preserve\n",
        "replacing_dict = {'monetary policy':'monetary-policy',\n",
        "                  'interest rate':'interest-rate',\n",
        "                  'interest rates':'interest-rate',\n",
        "                  'yield curve':'yield-curve',\n",
        "                  'repo rate':'repo-rate',\n",
        "                  'bond yields':'bond-yields',\n",
        "                  'real estate':'real-estate',\n",
        "                  'economic growth':'economic-growth'}"
      ]
    },
    {
      "cell_type": "code",
      "execution_count": 30,
      "id": "00ee427d-4a0b-4233-99ee-b4d4f4564a0d",
      "metadata": {
        "id": "00ee427d-4a0b-4233-99ee-b4d4f4564a0d"
      },
      "outputs": [],
      "source": [
        "# define tokenization pattern and punctuation symbols\n",
        "pattern = r'''\n",
        "          (?x)                # set flag to allow verbose regexps (to separate logical sections of pattern and add comments)\n",
        "          \\w+(?:-\\w+)*        # word characters with internal hyphens\n",
        "          | [][.,;\"'?():-_`]  # preserve punctuation as separate tokens\n",
        "          '''\n",
        "punctuation = string.punctuation.replace(\"-\", \"\")"
      ]
    },
    {
      "cell_type": "code",
      "execution_count": 31,
      "id": "ce3153bc-9af9-40ec-a5cb-25f2dfa2dd61",
      "metadata": {
        "id": "ce3153bc-9af9-40ec-a5cb-25f2dfa2dd61"
      },
      "outputs": [],
      "source": [
        "# use preprocessing class\n",
        "prep, word2idx, idx2word, vocab = apply_preprocessing(data.paragraph, replacing_dict, pattern, punctuation)"
      ]
    },
    {
      "cell_type": "code",
      "execution_count": 32,
      "id": "7bf4b965-5095-42d4-84ec-d9d64bd063fa",
      "metadata": {
        "colab": {
          "base_uri": "https://localhost:8080/"
        },
        "id": "7bf4b965-5095-42d4-84ec-d9d64bd063fa",
        "outputId": "ecc89fd3-1e2f-4e32-fbbb-6fde765d91a5"
      },
      "outputs": [
        {
          "name": "stdout",
          "output_type": "stream",
          "text": [
            "Broad money continues to grow at double-digit rates (see Chart 1.1). But there are signs that the pace of growth has moderated since the first half of 1997. The slowdown in money growth was preceded by a slowdown in lending, particularly to the corporate sector. Official interest rates have been unchanged since the rise in the Bank’s repo rate on 6 November to 7.25%. Long-term nominal interest rates have fallen by around 50 basis points in the United Kingdom and by around 40 basis points overseas during the same period. The starting-point for the nominal effective exchange rate in the inflation projection, based on its average value in the 15 working days to 4 February, was 104.9—around 2.8% higher than the starting-point used in the November Report.\n",
            "\n",
            " ------------------------------- \n",
            "\n",
            "['broad', 'money', 'continues', 'grow', 'rates', 'see', 'chart', 'but', 'there', 'are', 'signs', 'that', 'the', 'pace', 'growth', 'has', 'moderated', 'since', 'the', 'first', 'half', 'the', 'slowdown', 'money', 'growth', 'was', 'slowdown', 'lending', 'particularly', 'the', 'corporate', 'sector', 'official', 'interest-rate', 'have', 'been', 'unchanged', 'since', 'the', 'rise', 'the', 'bank', 'repo-rate', 'november', 'long-term', 'nominal', 'interest-rate', 'have', 'fallen', 'around', 'basis', 'points', 'the', 'united', 'kingdom', 'and', 'around', 'basis', 'points', 'overseas', 'during', 'the', 'same', 'period', 'the', 'starting-point', 'for', 'the', 'nominal', 'effective', 'exchange', 'rate', 'the', 'inflation', 'projection', 'based', 'its', 'average', 'value', 'the', 'working', 'days', 'february', 'was', 'around', 'higher', 'than', 'the', 'starting-point', 'used', 'the', 'november', 'report']\n"
          ]
        }
      ],
      "source": [
        "# inspect a particular tokenized document and compare to its original form\n",
        "i = 10\n",
        "print(data.paragraph[i])\n",
        "print(\"\\n ------------------------------- \\n\")\n",
        "print(prep.tokens[i])"
      ]
    },
    {
      "cell_type": "markdown",
      "id": "7ddc39dd-70b8-43a2-a5e7-6a943cbdce33",
      "metadata": {
        "id": "7ddc39dd-70b8-43a2-a5e7-6a943cbdce33"
      },
      "source": [
        "### *Model estimation*\n",
        "\n",
        "Now that we have our text preprocessed we can use the [Gensim](https://radimrehurek.com/gensim/) library to efficiently estimate word embeddings using word2vec."
      ]
    },
    {
      "cell_type": "code",
      "execution_count": 33,
      "id": "247cede9-6076-44c1-8977-85f6844f00d3",
      "metadata": {
        "id": "247cede9-6076-44c1-8977-85f6844f00d3"
      },
      "outputs": [],
      "source": [
        "# train Gensim's Word2Vec model\n",
        "gensim_model = Word2Vec(sentences=prep.tokens,      # corpus\n",
        "                        vector_size=100,            # embedding dimension\n",
        "                        window=4,                   # words before and after to take into consideration\n",
        "                        sg=1,                       # use skip-gram\n",
        "                        negative=5,                 # number of negative examples for each positive one\n",
        "                        alpha=0.025,                # initial learning rate\n",
        "                        min_alpha=0.0001,           # minimum learning rate\n",
        "                        epochs=5,                   # number of passes through the data\n",
        "                        min_count=1,                # words that appear less than this are removed\n",
        "                        workers=1,                  # we use 1 to ensure replicability\n",
        "                        seed=92                     # for replicability\n",
        "                       )"
      ]
    },
    {
      "cell_type": "code",
      "execution_count": 34,
      "id": "b9ca52c2-38b9-4377-9d19-c46f0c7194f2",
      "metadata": {
        "id": "b9ca52c2-38b9-4377-9d19-c46f0c7194f2"
      },
      "outputs": [
        {
          "data": {
            "text/plain": [
              "(3579, 100)"
            ]
          },
          "execution_count": 34,
          "metadata": {},
          "output_type": "execute_result"
        }
      ],
      "source": [
        "# extract the word embeddings from the model\n",
        "word_vectors = gensim_model.wv\n",
        "word_vectors.vectors.shape  # vocab_size x embeddings dimension"
      ]
    },
    {
      "cell_type": "markdown",
      "id": "8eb3d717",
      "metadata": {},
      "source": [
        "There a lot of different ways in which we can use these estimated word embeddings. We will start by showing a simple way to visualize them in 2-dimensions."
      ]
    },
    {
      "cell_type": "markdown",
      "id": "8afe694f-f4ee-486a-ac1b-7b2720077a7b",
      "metadata": {
        "id": "8afe694f-f4ee-486a-ac1b-7b2720077a7b"
      },
      "source": [
        "### *Visualization*"
      ]
    },
    {
      "cell_type": "code",
      "execution_count": 38,
      "id": "6c11c66f-3219-4f7c-a777-fe0dc1ddb220",
      "metadata": {
        "id": "6c11c66f-3219-4f7c-a777-fe0dc1ddb220"
      },
      "outputs": [],
      "source": [
        "# use a PCA decomposition to visualize the embeddings in 2D\n",
        "def pca_scatterplot(model, words):\n",
        "    pca = PCA(n_components=2, random_state=92)\n",
        "    word_vectors = np.array([model[w] for w in words])\n",
        "    low_dim_emb = pca.fit_transform(word_vectors)\n",
        "    plt.figure(figsize=(21,10))\n",
        "    plt.scatter(low_dim_emb[:,0], low_dim_emb[:,1], edgecolors='blue', c='blue')\n",
        "    plt.xlabel(\"Component 1\")\n",
        "    plt.ylabel(\"Component 2\")\n",
        "\n",
        "    # get the text of the plotted words\n",
        "    texts = []\n",
        "    for word, (x,y) in zip(words, low_dim_emb):\n",
        "        texts.append(plt.text(x+0.01, y+0.01, word, rotation=0))\n",
        "    \n",
        "    # adjust the position of the labels so that they dont overlap\n",
        "    adjust_text(texts)\n",
        "    # show plot\n",
        "    plt.show()"
      ]
    },
    {
      "cell_type": "code",
      "execution_count": 39,
      "id": "41a980f8-d2d7-4b7e-8aae-fb74ab132df7",
      "metadata": {
        "colab": {
          "base_uri": "https://localhost:8080/"
        },
        "id": "41a980f8-d2d7-4b7e-8aae-fb74ab132df7",
        "outputId": "c78add96-08b6-49f3-ed39-0f50040f4391"
      },
      "outputs": [
        {
          "data": {
            "image/png": "[encoded data removed]",
            "text/plain": [
              "<Figure size 1512x720 with 1 Axes>"
            ]
          },
          "metadata": {
            "needs_background": "light"
          },
          "output_type": "display_data"
        }
      ],
      "source": [
        "# define the tokens to use in the plot\n",
        "tokens_of_interest = ['economy', 'gdp', 'production', 'output',\n",
        "                      'investment', 'confidence', 'sentiment',\n",
        "                      'uncertainty', 'inflation', 'cpi',\n",
        "                      'loan', 'mortgage', 'credit', 'debt', 'savings', \n",
        "                      'borrowing', 'housing', 'labour', 'workforce', \n",
        "                      'unemployment', 'employment', 'jobs', 'wages',\n",
        "                      'trade', 'exports', 'imports']\n",
        "\n",
        "# expand the list of tokens with all the tokens from the replacement dictionary\n",
        "tokens_of_interest = set(tokens_of_interest + list(replacing_dict.values()) )\n",
        "\n",
        "# plot\n",
        "pca_scatterplot(word_vectors, list(tokens_of_interest))"
      ]
    },
    {
      "cell_type": "markdown",
      "id": "3760eb2f",
      "metadata": {},
      "source": [
        "We can clearly observe how words form some thematically cohesive groups; trade (e.g. exports, imports, trade, output), job-market (e.g. workforce, jobs, employment), housing (e.g. real-state, housing, borrowing, mortgage)."
      ]
    },
    {
      "cell_type": "markdown",
      "id": "af539380-686d-4ec5-924c-9f8bd51ace1e",
      "metadata": {
        "id": "af539380-686d-4ec5-924c-9f8bd51ace1e"
      },
      "source": [
        "### *Nearest neighbors analysis*\n",
        "\n",
        "We can further explore how words cluster in the embedded space by analyzing the nearest neighbours of some selected words."
      ]
    },
    {
      "cell_type": "code",
      "execution_count": 40,
      "id": "d5eadc3a-2711-4369-8c42-8df7c13af56a",
      "metadata": {
        "colab": {
          "base_uri": "https://localhost:8080/"
        },
        "id": "d5eadc3a-2711-4369-8c42-8df7c13af56a",
        "outputId": "49c2d87d-c71d-4667-8415-8e600773d314"
      },
      "outputs": [
        {
          "name": "stdout",
          "output_type": "stream",
          "text": [
            "Nearest neighbors of: uncertainty\n",
            "[('doubts', 0.6419909000396729), ('uncertainties', 0.6365733742713928), ('surrounding', 0.6188446879386902), ('fears', 0.61778724193573), ('surrounds', 0.6146233081817627), ('duration', 0.6106055974960327), ('concerns', 0.5991458296775818), ('depth', 0.5939427018165588), ('considerable', 0.5921647548675537), ('concern', 0.578204333782196)]\n",
            "\n",
            "\n",
            "Nearest neighbors of: risk\n",
            "[('possibility', 0.6882918477058411), ('downside', 0.6575586795806885), ('premium', 0.6569870114326477), ('upside', 0.6305557489395142), ('risks', 0.6201984882354736), ('pose', 0.6118707656860352), ('posing', 0.5984246730804443), ('threat', 0.5891011953353882), ('poses', 0.5762071013450623), ('reappraisal', 0.5737084746360779)]\n",
            "\n",
            "\n",
            "Nearest neighbors of: stable\n",
            "[('steady', 0.6979434490203857), ('remarkably', 0.6896635293960571), ('fairly', 0.683296799659729), ('flat', 0.6814144849777222), ('resilient', 0.6402592658996582), ('fluctuated', 0.624945878982544), ('benign', 0.6080789566040039), ('unchanged', 0.6063917279243469), ('virtually', 0.6030830144882202), ('reasonably', 0.5867316722869873)]\n",
            "\n",
            "\n",
            "Nearest neighbors of: contraction\n",
            "[('destocking', 0.7348541617393494), ('slowing', 0.7208251357078552), ('deceleration', 0.7180231809616089), ('contracted', 0.7160255908966064), ('bounceback', 0.7140512466430664), ('softness', 0.7068885564804077), ('slowdown', 0.6918514966964722), ('lacklustre', 0.6814370155334473), ('acceleration', 0.6675595641136169), ('expansion', 0.6652669906616211)]\n",
            "\n",
            "\n",
            "Nearest neighbors of: expansion\n",
            "[('upswing', 0.7335663437843323), ('vigorous', 0.7246045470237732), ('briskly', 0.7118220329284668), ('brisk', 0.7099722623825073), ('bolstered', 0.6836205720901489), ('revival', 0.6806062459945679), ('solid', 0.6764068007469177), ('upturn', 0.6729583144187927), ('recovery', 0.6678748726844788), ('contraction', 0.6652669310569763)]\n",
            "\n",
            "\n",
            "Nearest neighbors of: monetary-policy\n",
            "[('stance', 0.733041524887085), ('policy', 0.7126091122627258), ('stimulatory', 0.6645202040672302), ('accommodative', 0.6631230115890503), ('stimulative', 0.6514757871627808), ('objective', 0.6133357882499695), ('normalisation', 0.6113855242729187), ('mechanism', 0.6098856925964355), ('framework', 0.6061856746673584), ('credible', 0.597450852394104)]\n",
            "\n",
            "\n",
            "Nearest neighbors of: interest-rate\n",
            "[('yield-curve', 0.6689556837081909), ('yields', 0.6524397134780884), ('two-week', 0.6240591406822205), ('rates', 0.6205923557281494), ('repo-rate', 0.598667562007904), ('bound', 0.5983438491821289), ('convenient', 0.5954621434211731), ('follow', 0.5799317359924316), ('libor', 0.5749225616455078), ('five-year', 0.5595821142196655)]\n",
            "\n",
            "\n",
            "Nearest neighbors of: inflation\n",
            "[('cpi', 0.6881786584854126), ('rpix', 0.6592761874198914), ('target', 0.5943328142166138), ('non-energy', 0.5780572891235352), ('undershooting', 0.5708066821098328), ('undershoot', 0.5681530833244324), ('symmetric', 0.5655410289764404), ('below-target', 0.5639771223068237), ('anchored', 0.5613351464271545), ('rpi', 0.5354964733123779)]\n",
            "\n",
            "\n"
          ]
        }
      ],
      "source": [
        "# find the K nearest neighbours of relevant words\n",
        "K = 10\n",
        "words = [\"uncertainty\", \"risk\", \"stable\",\n",
        "         \"contraction\", \"expansion\",\n",
        "         \"monetary-policy\", \"interest-rate\", \"inflation\"]\n",
        "\n",
        "for word in words:\n",
        "    print(f\"Nearest neighbors of: {word}\")\n",
        "    print(word_vectors.most_similar(word, topn=K))\n",
        "    print(\"\\n\")"
      ]
    },
    {
      "cell_type": "markdown",
      "id": "21cf8616-e4ae-4ca5-936d-eb9c0f0c6f03",
      "metadata": {
        "id": "21cf8616-e4ae-4ca5-936d-eb9c0f0c6f03"
      },
      "source": [
        "### *Analogy tasks*"
      ]
    },
    {
      "cell_type": "markdown",
      "id": "6831515e",
      "metadata": {},
      "source": [
        "A very interesting, and surprising, use of word embeddings is to find word analogies. The famous example used by [Mikolov et al. (2013)](https://arxiv.org/pdf/1301.3781.pdf) searches for a word $X$ in the embedded space that is similar to \"woman\" in the same sense that \"king\" is similar to \"man\". This task can be expressed in terms of a simple vector arithmetic problem as follows:\n",
        "\n",
        "$$\n",
        "\\vec{King}^{\\,} - \\vec{Man}^{\\,} = \\vec{X}^{\\,} - \\vec{Woman}^{\\,} \\\\\n",
        "\\vec{King}^{\\,} - \\vec{Man}^{\\,} + \\vec{Woman}^{\\,} = \\vec{X}^{\\,}\n",
        "$$\n",
        "\n",
        "Mikolov et al. (2013) find that when performing this operation on their trained embeddings, they are able to recover the word \"queen\".\n",
        "\n",
        "$$ \\vec{King}^{\\,} - \\vec{Man}^{\\,} + \\vec{Woman}^{\\,} \\approx \\vec{Queen}^{\\,} $$\n",
        "\n",
        "Using ```Gensim``` this operation can be very easily perfomed by simply using the ```.most_similar()``` function as follows:\n",
        "\n",
        "<center>\n",
        "\n",
        "```python\n",
        "word_vectors.most_similar(positive=['woman', 'king'], negative=['man'])\n",
        "```\n",
        "\n",
        "</center>"
      ]
    },
    {
      "cell_type": "markdown",
      "id": "2279c969",
      "metadata": {},
      "source": [
        "We will play with this idea and try to extend it to our own domain. Some of the analogies that we will try to solve are: \n",
        "\n",
        "$$\n",
        "\\vec{Contraction}^{\\,} - \\vec{Expansion}^{\\,} + \\vec{Downward}^{\\,} = \\vec{X}^{\\,} \\\\\n",
        "\\vec{Inflation}^{\\,} - \\vec{CPI}^{\\,} + \\vec{GDP}^{\\,} = \\vec{X}^{\\,} \\\\\n",
        "$$"
      ]
    },
    {
      "cell_type": "code",
      "execution_count": 41,
      "id": "PrOTPikwjPs1",
      "metadata": {
        "colab": {
          "base_uri": "https://localhost:8080/"
        },
        "id": "PrOTPikwjPs1",
        "outputId": "b3fce250-d064-4060-d232-77f54da8ee1b"
      },
      "outputs": [
        {
          "name": "stdout",
          "output_type": "stream",
          "text": [
            "Analogy task for positive words: ['contraction', 'downward'] and negative words ['expansion']\n",
            "[('upward', 0.7148268222808838), ('upwards', 0.6246974468231201), ('downwards', 0.6236264705657959), ('lessening', 0.5131341814994812), ('movement', 0.5023254752159119), ('masked', 0.4965052306652069), ('revision', 0.4905395805835724), ('placing', 0.48904168605804443), ('exert', 0.48706313967704773), ('sizable', 0.48392224311828613)]\n",
            "\n",
            "\n",
            "Analogy task for positive words: ['expansion', 'tighten'] and negative words ['contraction']\n",
            "[('improve', 0.675494909286499), ('loosen', 0.647791862487793), ('expand', 0.5738944411277771), ('stimulative', 0.5534189343452454), ('backstop', 0.547343373298645), ('looser', 0.5409491062164307), ('functioning', 0.5408640503883362), ('tight', 0.5393858551979065), ('providing', 0.5336853861808777), ('credible', 0.526263415813446)]\n",
            "\n",
            "\n",
            "Analogy task for positive words: ['inflation', 'gdp'] and negative words ['cpi']\n",
            "[('uneven', 0.49301818013191223), ('four-quarter', 0.4834442734718323), ('outturn', 0.458893358707428), ('output', 0.45659738779067993), ('below-trend', 0.4487616717815399), ('centre', 0.4415017068386078), ('above-trend', 0.43917837738990784), ('negligible', 0.4340091943740845), ('unrevised', 0.431562215089798), ('recovery', 0.4298859238624573)]\n",
            "\n",
            "\n",
            "Analogy task for positive words: ['company', 'wages'] and negative words ['profits']\n",
            "[('employers', 0.5352463126182556), ('employees', 0.5195005536079407), ('price-setting', 0.518894612789154), ('demands', 0.516858696937561), ('negotiations', 0.5161868333816528), ('wage', 0.5158095359802246), ('bargaining', 0.49600985646247864), ('resistance', 0.48554351925849915), ('erosion', 0.47741714119911194), ('resist', 0.4754953682422638)]\n",
            "\n",
            "\n"
          ]
        }
      ],
      "source": [
        "# create the analogy tasks for our data\n",
        "positive_words = [['contraction', 'downward'],\n",
        "                  ['expansion', 'tighten'],\n",
        "                  ['inflation', 'gdp'],\n",
        "                  ['company', 'wages']]\n",
        "\n",
        "negative_words = [['expansion'],\n",
        "                  ['contraction'],\n",
        "                  ['cpi'],\n",
        "                  ['profits']]\n",
        "\n",
        "for pw, nw in zip(positive_words, negative_words):\n",
        "    print(f\"Analogy task for positive words: {pw} and negative words {nw}\")\n",
        "    print(word_vectors.most_similar(positive=pw, negative=nw))\n",
        "    print(\"\\n\")"
      ]
    },
    {
      "cell_type": "markdown",
      "id": "aaca13c6-d38d-4b16-aa92-ab6623b4d47d",
      "metadata": {
        "id": "aaca13c6-d38d-4b16-aa92-ab6623b4d47d"
      },
      "source": [
        "### *Building dictionaries*\n",
        "\n",
        "One last use of word embeddings is to expand existing dictionaries by finding the nearest neighbours to a set of \"center\" terms. To illustrate this, we will show how to generate dictionaries of positive and negative terms to analyze text data from the Bank of England Monetary Police Comittee minutes."
      ]
    },
    {
      "cell_type": "code",
      "execution_count": 42,
      "id": "be80cb35-d6e7-47a8-8b67-1ff6e2886357",
      "metadata": {
        "colab": {
          "base_uri": "https://localhost:8080/"
        },
        "id": "be80cb35-d6e7-47a8-8b67-1ff6e2886357",
        "outputId": "3998ea5b-b894-4e0b-841d-b8633a5c99a0"
      },
      "outputs": [
        {
          "name": "stdout",
          "output_type": "stream",
          "text": [
            "['expansion', 'stable', 'steady', 'vigorous', 'brisk', 'resilient', 'remarkably', 'robust', 'fairly', 'buoyant', 'solid', 'solidly', 'robustly', 'upswing', 'bolstered', 'softness', 'slackened', 'above-trend', 'healthy', 'briskly', 'lacklustre', 'buoyancy', 'buoyed', 'stagnant', 'resumed', 'below-trend', 'reasonably', 'uneven', 'gather', 'revive', 'fluctuated', 'tandem', 'disappointed', 'odds', 'acceleration', 'strengthening', 'upturn', 'gently', 'firm', 'accelerated', 'characterised', 'supporting']\n"
          ]
        }
      ],
      "source": [
        "# create a positive dictionary by finding the nearest neighbors to a combination of relevant words\n",
        "N = 40\n",
        "pos_center_terms = ['expansion', 'stable']\n",
        "pos_nn = [w for w, _ in word_vectors.most_similar(positive=pos_center_terms, topn=N)]\n",
        "pos_word2vec = pos_center_terms + pos_nn\n",
        "print(pos_word2vec)"
      ]
    },
    {
      "cell_type": "code",
      "execution_count": 43,
      "id": "a03929de-be58-4d54-a1a5-a8af2b7d80be",
      "metadata": {
        "colab": {
          "base_uri": "https://localhost:8080/"
        },
        "id": "a03929de-be58-4d54-a1a5-a8af2b7d80be",
        "outputId": "6454c3f3-96f7-46b4-fcc2-356ac97db855"
      },
      "outputs": [
        {
          "name": "stdout",
          "output_type": "stream",
          "text": [
            "['contraction', 'uncertainty', 'destocking', 'softness', 'anxieties', 'deceleration', 'bounceback', 'upswing', 'worsening', 'exacerbated', 'sars', 'doubts', 'correction', 'gathers', 'momentum', 'slackening', 'conflict', 'pause', 'lacklustre', 'duration', 'sharper-than-expected', 'deteriorating', 'military', 'slowdown', 'patchy', 'moderation', 'hostilities', 'severity', 'gather', 'boom', 'amid', 'acceleration', 'uneven', 'retrenchment', 'softening', 'depth', 'outbreak', 'abrupt', 'half-year', 'turmoil', 'impairment', 'upturn']\n"
          ]
        }
      ],
      "source": [
        "# create a negative dictionary by finding the nearest neighbors to a combination of relevant words\n",
        "N = 40\n",
        "neg_center_terms = ['contraction', 'uncertainty']\n",
        "neg_nn = [w for w, _ in word_vectors.most_similar(positive=neg_center_terms, topn=N)]\n",
        "neg_word2vec = neg_center_terms + neg_nn\n",
        "print(neg_word2vec)"
      ]
    },
    {
      "cell_type": "code",
      "execution_count": 44,
      "id": "1c41d896-29cf-4abe-8fb1-fdd5631497cc",
      "metadata": {
        "id": "1c41d896-29cf-4abe-8fb1-fdd5631497cc"
      },
      "outputs": [],
      "source": [
        "# load data for dictionary method example\n",
        "path_dict_example = data_path + 'mpc_minutes.txt'\n",
        "data_dict, prep_dict = dictionary_methods.dict_example(path_dict_example) # dataframe, preprocessing object"
      ]
    },
    {
      "cell_type": "code",
      "execution_count": 45,
      "id": "d0f958ce-2d78-469f-abae-a3dc5c7e66c4",
      "metadata": {
        "id": "d0f958ce-2d78-469f-abae-a3dc5c7e66c4"
      },
      "outputs": [],
      "source": [
        "# generate the count of positive and negative lemmas in the corpus with our new dictionaries\n",
        "pos_counts_word2vec, neg_counts_word2vec = dictionary_methods.pos_neg_counts(prep_dict, pos_word2vec, neg_word2vec)"
      ]
    },
    {
      "cell_type": "code",
      "execution_count": 46,
      "id": "fb5e7e17-80cd-4d48-be7e-2d1e00d02d15",
      "metadata": {
        "id": "fb5e7e17-80cd-4d48-be7e-2d1e00d02d15"
      },
      "outputs": [],
      "source": [
        "# Apel and Blix-Grimaldi (2012) dictionaries\n",
        "pos_words_AB = ['accelerate','accelerated','accelerates','accelerating','expand','expanded','expanding','expands',\n",
        "             'fast','faster','fastest','gain','gained','gaining','gains','high','higher','highest','increase',\n",
        "             'increased','increases','increasing','strong','stronger','strongest']\n",
        "\n",
        "neg_words_AB = ['contract','contracted','contracting','contracts','decelerate','decelerated','decelerates',\n",
        "             'decelerating','decrease','decreased','decreases','decreasing','lose','losing','loss','losses',\n",
        "             'lost','low','lower','lowest','slow','slower','slowest','weak','weaker','weakest']"
      ]
    },
    {
      "cell_type": "code",
      "execution_count": 47,
      "id": "ad59b6fa-6d86-4409-9c80-77ff161cf8ca",
      "metadata": {
        "id": "ad59b6fa-6d86-4409-9c80-77ff161cf8ca"
      },
      "outputs": [],
      "source": [
        "# generate the count of positive and negative lemmas in the corpus with Apel and Blix-Grimaldi (2012)\n",
        "pos_counts_AB, neg_counts_AB = dictionary_methods.pos_neg_counts(prep_dict, pos_words_AB, neg_words_AB)"
      ]
    },
    {
      "cell_type": "code",
      "execution_count": 48,
      "id": "a2dd787a-ffc5-4a21-a163-8ac8d8629f90",
      "metadata": {
        "colab": {
          "base_uri": "https://localhost:8080/",
          "height": 203
        },
        "id": "a2dd787a-ffc5-4a21-a163-8ac8d8629f90",
        "outputId": "70577fdc-0daa-49b8-e3c9-868b78392ac6"
      },
      "outputs": [
        {
          "data": {
            "text/html": [
              "<div>\n",
              "<style scoped>\n",
              "    .dataframe tbody tr th:only-of-type {\n",
              "        vertical-align: middle;\n",
              "    }\n",
              "\n",
              "    .dataframe tbody tr th {\n",
              "        vertical-align: top;\n",
              "    }\n",
              "\n",
              "    .dataframe thead th {\n",
              "        text-align: right;\n",
              "    }\n",
              "</style>\n",
              "<table border=\"1\" class=\"dataframe\">\n",
              "  <thead>\n",
              "    <tr style=\"text-align: right;\">\n",
              "      <th></th>\n",
              "      <th>date</th>\n",
              "      <th>minutes</th>\n",
              "      <th>year</th>\n",
              "      <th>quarter</th>\n",
              "      <th>pos_counts_word2vec</th>\n",
              "      <th>neg_counts_word2vec</th>\n",
              "      <th>pos_counts_AB</th>\n",
              "      <th>neg_counts_AB</th>\n",
              "    </tr>\n",
              "  </thead>\n",
              "  <tbody>\n",
              "    <tr>\n",
              "      <th>0</th>\n",
              "      <td>199706</td>\n",
              "      <td>1 Sections I to V of this minute summarise t...</td>\n",
              "      <td>1997</td>\n",
              "      <td>2</td>\n",
              "      <td>0.0</td>\n",
              "      <td>0.0</td>\n",
              "      <td>0.0</td>\n",
              "      <td>0.0</td>\n",
              "    </tr>\n",
              "    <tr>\n",
              "      <th>1</th>\n",
              "      <td>199706</td>\n",
              "      <td>The 12-month growth rate of notes and coins ...</td>\n",
              "      <td>1997</td>\n",
              "      <td>2</td>\n",
              "      <td>0.0</td>\n",
              "      <td>1.0</td>\n",
              "      <td>0.0</td>\n",
              "      <td>0.0</td>\n",
              "    </tr>\n",
              "    <tr>\n",
              "      <th>2</th>\n",
              "      <td>199706</td>\n",
              "      <td>Broad money, too, decelerated in April: its ...</td>\n",
              "      <td>1997</td>\n",
              "      <td>2</td>\n",
              "      <td>1.0</td>\n",
              "      <td>0.0</td>\n",
              "      <td>2.0</td>\n",
              "      <td>2.0</td>\n",
              "    </tr>\n",
              "    <tr>\n",
              "      <th>3</th>\n",
              "      <td>199706</td>\n",
              "      <td>Lending growth continued at around 9% in ...</td>\n",
              "      <td>1997</td>\n",
              "      <td>2</td>\n",
              "      <td>0.0</td>\n",
              "      <td>0.0</td>\n",
              "      <td>1.0</td>\n",
              "      <td>1.0</td>\n",
              "    </tr>\n",
              "    <tr>\n",
              "      <th>4</th>\n",
              "      <td>199706</td>\n",
              "      <td>Lending to individuals remained robust in...</td>\n",
              "      <td>1997</td>\n",
              "      <td>2</td>\n",
              "      <td>1.0</td>\n",
              "      <td>0.0</td>\n",
              "      <td>1.0</td>\n",
              "      <td>0.0</td>\n",
              "    </tr>\n",
              "  </tbody>\n",
              "</table>\n",
              "</div>"
            ],
            "text/plain": [
              "     date                                            minutes  year  quarter  \\\n",
              "0  199706    1 Sections I to V of this minute summarise t...  1997        2   \n",
              "1  199706    The 12-month growth rate of notes and coins ...  1997        2   \n",
              "2  199706    Broad money, too, decelerated in April: its ...  1997        2   \n",
              "3  199706       Lending growth continued at around 9% in ...  1997        2   \n",
              "4  199706       Lending to individuals remained robust in...  1997        2   \n",
              "\n",
              "   pos_counts_word2vec  neg_counts_word2vec  pos_counts_AB  neg_counts_AB  \n",
              "0                  0.0                  0.0            0.0            0.0  \n",
              "1                  0.0                  1.0            0.0            0.0  \n",
              "2                  1.0                  0.0            2.0            2.0  \n",
              "3                  0.0                  0.0            1.0            1.0  \n",
              "4                  1.0                  0.0            1.0            0.0  "
            ]
          },
          "execution_count": 48,
          "metadata": {},
          "output_type": "execute_result"
        }
      ],
      "source": [
        "# add counts to the data\n",
        "data_dict['pos_counts_word2vec'] = pos_counts_word2vec\n",
        "data_dict['neg_counts_word2vec'] = neg_counts_word2vec\n",
        "\n",
        "data_dict['pos_counts_AB'] = pos_counts_AB\n",
        "data_dict['neg_counts_AB'] = neg_counts_AB\n",
        "\n",
        "data_dict.head()"
      ]
    },
    {
      "cell_type": "code",
      "execution_count": 49,
      "id": "959c009e-b413-47f1-bd14-ea30d92f1a01",
      "metadata": {
        "colab": {
          "base_uri": "https://localhost:8080/",
          "height": 234
        },
        "id": "959c009e-b413-47f1-bd14-ea30d92f1a01",
        "outputId": "8f4f6871-bdba-4b41-ff1f-c0258c84c819"
      },
      "outputs": [
        {
          "data": {
            "text/html": [
              "<div>\n",
              "<style scoped>\n",
              "    .dataframe tbody tr th:only-of-type {\n",
              "        vertical-align: middle;\n",
              "    }\n",
              "\n",
              "    .dataframe tbody tr th {\n",
              "        vertical-align: top;\n",
              "    }\n",
              "\n",
              "    .dataframe thead th {\n",
              "        text-align: right;\n",
              "    }\n",
              "</style>\n",
              "<table border=\"1\" class=\"dataframe\">\n",
              "  <thead>\n",
              "    <tr style=\"text-align: right;\">\n",
              "      <th></th>\n",
              "      <th>pos_counts_word2vec</th>\n",
              "      <th>neg_counts_word2vec</th>\n",
              "      <th>pos_counts_AB</th>\n",
              "      <th>neg_counts_AB</th>\n",
              "      <th>year</th>\n",
              "      <th>quarter</th>\n",
              "    </tr>\n",
              "    <tr>\n",
              "      <th>date</th>\n",
              "      <th></th>\n",
              "      <th></th>\n",
              "      <th></th>\n",
              "      <th></th>\n",
              "      <th></th>\n",
              "      <th></th>\n",
              "    </tr>\n",
              "  </thead>\n",
              "  <tbody>\n",
              "    <tr>\n",
              "      <th>199706</th>\n",
              "      <td>10.0</td>\n",
              "      <td>11.0</td>\n",
              "      <td>27.0</td>\n",
              "      <td>16.0</td>\n",
              "      <td>1997.0</td>\n",
              "      <td>2.0</td>\n",
              "    </tr>\n",
              "    <tr>\n",
              "      <th>199707</th>\n",
              "      <td>9.0</td>\n",
              "      <td>5.0</td>\n",
              "      <td>83.0</td>\n",
              "      <td>25.0</td>\n",
              "      <td>1997.0</td>\n",
              "      <td>3.0</td>\n",
              "    </tr>\n",
              "    <tr>\n",
              "      <th>199708</th>\n",
              "      <td>12.0</td>\n",
              "      <td>15.0</td>\n",
              "      <td>76.0</td>\n",
              "      <td>21.0</td>\n",
              "      <td>1997.0</td>\n",
              "      <td>3.0</td>\n",
              "    </tr>\n",
              "    <tr>\n",
              "      <th>199709</th>\n",
              "      <td>17.0</td>\n",
              "      <td>18.0</td>\n",
              "      <td>70.0</td>\n",
              "      <td>30.0</td>\n",
              "      <td>1997.0</td>\n",
              "      <td>3.0</td>\n",
              "    </tr>\n",
              "    <tr>\n",
              "      <th>199710</th>\n",
              "      <td>19.0</td>\n",
              "      <td>11.0</td>\n",
              "      <td>94.0</td>\n",
              "      <td>38.0</td>\n",
              "      <td>1997.0</td>\n",
              "      <td>4.0</td>\n",
              "    </tr>\n",
              "  </tbody>\n",
              "</table>\n",
              "</div>"
            ],
            "text/plain": [
              "        pos_counts_word2vec  neg_counts_word2vec  pos_counts_AB  \\\n",
              "date                                                              \n",
              "199706                 10.0                 11.0           27.0   \n",
              "199707                  9.0                  5.0           83.0   \n",
              "199708                 12.0                 15.0           76.0   \n",
              "199709                 17.0                 18.0           70.0   \n",
              "199710                 19.0                 11.0           94.0   \n",
              "\n",
              "        neg_counts_AB    year  quarter  \n",
              "date                                    \n",
              "199706           16.0  1997.0      2.0  \n",
              "199707           25.0  1997.0      3.0  \n",
              "199708           21.0  1997.0      3.0  \n",
              "199709           30.0  1997.0      3.0  \n",
              "199710           38.0  1997.0      4.0  "
            ]
          },
          "execution_count": 49,
          "metadata": {},
          "output_type": "execute_result"
        }
      ],
      "source": [
        "# aggregate to year-month level\n",
        "data_agg = data_dict.groupby(['date']).agg({'pos_counts_word2vec': 'sum', 'neg_counts_word2vec': 'sum',\n",
        "                                            'pos_counts_AB': 'sum', 'neg_counts_AB': 'sum',\n",
        "                                            'year': 'mean', 'quarter':'mean'})\n",
        "data_agg.head()"
      ]
    },
    {
      "cell_type": "code",
      "execution_count": 50,
      "id": "zgYZn0Jx3pNL",
      "metadata": {
        "colab": {
          "base_uri": "https://localhost:8080/",
          "height": 234
        },
        "id": "zgYZn0Jx3pNL",
        "outputId": "0ca199bb-0356-405f-f104-4aeb14a194f2"
      },
      "outputs": [
        {
          "data": {
            "text/html": [
              "<div>\n",
              "<style scoped>\n",
              "    .dataframe tbody tr th:only-of-type {\n",
              "        vertical-align: middle;\n",
              "    }\n",
              "\n",
              "    .dataframe tbody tr th {\n",
              "        vertical-align: top;\n",
              "    }\n",
              "\n",
              "    .dataframe thead th {\n",
              "        text-align: right;\n",
              "    }\n",
              "</style>\n",
              "<table border=\"1\" class=\"dataframe\">\n",
              "  <thead>\n",
              "    <tr style=\"text-align: right;\">\n",
              "      <th></th>\n",
              "      <th></th>\n",
              "      <th>pos_counts_word2vec</th>\n",
              "      <th>neg_counts_word2vec</th>\n",
              "      <th>pos_counts_AB</th>\n",
              "      <th>neg_counts_AB</th>\n",
              "    </tr>\n",
              "    <tr>\n",
              "      <th>year</th>\n",
              "      <th>quarter</th>\n",
              "      <th></th>\n",
              "      <th></th>\n",
              "      <th></th>\n",
              "      <th></th>\n",
              "    </tr>\n",
              "  </thead>\n",
              "  <tbody>\n",
              "    <tr>\n",
              "      <th rowspan=\"2\" valign=\"top\">1997.0</th>\n",
              "      <th>3.0</th>\n",
              "      <td>38.0</td>\n",
              "      <td>38.0</td>\n",
              "      <td>229.0</td>\n",
              "      <td>76.0</td>\n",
              "    </tr>\n",
              "    <tr>\n",
              "      <th>4.0</th>\n",
              "      <td>64.0</td>\n",
              "      <td>48.0</td>\n",
              "      <td>222.0</td>\n",
              "      <td>99.0</td>\n",
              "    </tr>\n",
              "    <tr>\n",
              "      <th rowspan=\"3\" valign=\"top\">1998.0</th>\n",
              "      <th>1.0</th>\n",
              "      <td>75.0</td>\n",
              "      <td>86.0</td>\n",
              "      <td>237.0</td>\n",
              "      <td>143.0</td>\n",
              "    </tr>\n",
              "    <tr>\n",
              "      <th>2.0</th>\n",
              "      <td>116.0</td>\n",
              "      <td>59.0</td>\n",
              "      <td>229.0</td>\n",
              "      <td>168.0</td>\n",
              "    </tr>\n",
              "    <tr>\n",
              "      <th>3.0</th>\n",
              "      <td>85.0</td>\n",
              "      <td>86.0</td>\n",
              "      <td>248.0</td>\n",
              "      <td>175.0</td>\n",
              "    </tr>\n",
              "  </tbody>\n",
              "</table>\n",
              "</div>"
            ],
            "text/plain": [
              "                pos_counts_word2vec  neg_counts_word2vec  pos_counts_AB  \\\n",
              "year   quarter                                                            \n",
              "1997.0 3.0                     38.0                 38.0          229.0   \n",
              "       4.0                     64.0                 48.0          222.0   \n",
              "1998.0 1.0                     75.0                 86.0          237.0   \n",
              "       2.0                    116.0                 59.0          229.0   \n",
              "       3.0                     85.0                 86.0          248.0   \n",
              "\n",
              "                neg_counts_AB  \n",
              "year   quarter                 \n",
              "1997.0 3.0               76.0  \n",
              "       4.0               99.0  \n",
              "1998.0 1.0              143.0  \n",
              "       2.0              168.0  \n",
              "       3.0              175.0  "
            ]
          },
          "execution_count": 50,
          "metadata": {},
          "output_type": "execute_result"
        }
      ],
      "source": [
        "# aggregate to year-quarter level removing incomplete quarters \n",
        "data_agg['months_x_quarter'] = 1\n",
        "data_agg = data_agg.groupby(['year', 'quarter']).sum()[['pos_counts_word2vec', 'neg_counts_word2vec',\n",
        "                                                        'pos_counts_AB', 'neg_counts_AB',\n",
        "                                                        'months_x_quarter']]\n",
        "\n",
        "data_agg = data_agg[data_agg['months_x_quarter']==3]\n",
        "del data_agg['months_x_quarter']\n",
        "\n",
        "data_agg.head()"
      ]
    },
    {
      "cell_type": "code",
      "execution_count": 51,
      "id": "b8e12c9b-3ea7-493b-8c8f-15677b66a2af",
      "metadata": {
        "colab": {
          "base_uri": "https://localhost:8080/",
          "height": 234
        },
        "id": "b8e12c9b-3ea7-493b-8c8f-15677b66a2af",
        "outputId": "18137c6e-0f84-4e90-8e87-365a557cad2d"
      },
      "outputs": [
        {
          "data": {
            "text/html": [
              "<div>\n",
              "<style scoped>\n",
              "    .dataframe tbody tr th:only-of-type {\n",
              "        vertical-align: middle;\n",
              "    }\n",
              "\n",
              "    .dataframe tbody tr th {\n",
              "        vertical-align: top;\n",
              "    }\n",
              "\n",
              "    .dataframe thead th {\n",
              "        text-align: right;\n",
              "    }\n",
              "</style>\n",
              "<table border=\"1\" class=\"dataframe\">\n",
              "  <thead>\n",
              "    <tr style=\"text-align: right;\">\n",
              "      <th></th>\n",
              "      <th></th>\n",
              "      <th>pos_counts_word2vec</th>\n",
              "      <th>neg_counts_word2vec</th>\n",
              "      <th>pos_counts_AB</th>\n",
              "      <th>neg_counts_AB</th>\n",
              "      <th>sentiment_word2vec</th>\n",
              "      <th>sentiment_AB</th>\n",
              "    </tr>\n",
              "    <tr>\n",
              "      <th>year</th>\n",
              "      <th>quarter</th>\n",
              "      <th></th>\n",
              "      <th></th>\n",
              "      <th></th>\n",
              "      <th></th>\n",
              "      <th></th>\n",
              "      <th></th>\n",
              "    </tr>\n",
              "  </thead>\n",
              "  <tbody>\n",
              "    <tr>\n",
              "      <th rowspan=\"2\" valign=\"top\">1997.0</th>\n",
              "      <th>3.0</th>\n",
              "      <td>38.0</td>\n",
              "      <td>38.0</td>\n",
              "      <td>229.0</td>\n",
              "      <td>76.0</td>\n",
              "      <td>0.000000</td>\n",
              "      <td>0.501639</td>\n",
              "    </tr>\n",
              "    <tr>\n",
              "      <th>4.0</th>\n",
              "      <td>64.0</td>\n",
              "      <td>48.0</td>\n",
              "      <td>222.0</td>\n",
              "      <td>99.0</td>\n",
              "      <td>0.142857</td>\n",
              "      <td>0.383178</td>\n",
              "    </tr>\n",
              "    <tr>\n",
              "      <th rowspan=\"3\" valign=\"top\">1998.0</th>\n",
              "      <th>1.0</th>\n",
              "      <td>75.0</td>\n",
              "      <td>86.0</td>\n",
              "      <td>237.0</td>\n",
              "      <td>143.0</td>\n",
              "      <td>-0.068323</td>\n",
              "      <td>0.247368</td>\n",
              "    </tr>\n",
              "    <tr>\n",
              "      <th>2.0</th>\n",
              "      <td>116.0</td>\n",
              "      <td>59.0</td>\n",
              "      <td>229.0</td>\n",
              "      <td>168.0</td>\n",
              "      <td>0.325714</td>\n",
              "      <td>0.153652</td>\n",
              "    </tr>\n",
              "    <tr>\n",
              "      <th>3.0</th>\n",
              "      <td>85.0</td>\n",
              "      <td>86.0</td>\n",
              "      <td>248.0</td>\n",
              "      <td>175.0</td>\n",
              "      <td>-0.005848</td>\n",
              "      <td>0.172577</td>\n",
              "    </tr>\n",
              "  </tbody>\n",
              "</table>\n",
              "</div>"
            ],
            "text/plain": [
              "                pos_counts_word2vec  neg_counts_word2vec  pos_counts_AB  \\\n",
              "year   quarter                                                            \n",
              "1997.0 3.0                     38.0                 38.0          229.0   \n",
              "       4.0                     64.0                 48.0          222.0   \n",
              "1998.0 1.0                     75.0                 86.0          237.0   \n",
              "       2.0                    116.0                 59.0          229.0   \n",
              "       3.0                     85.0                 86.0          248.0   \n",
              "\n",
              "                neg_counts_AB  sentiment_word2vec  sentiment_AB  \n",
              "year   quarter                                                   \n",
              "1997.0 3.0               76.0            0.000000      0.501639  \n",
              "       4.0               99.0            0.142857      0.383178  \n",
              "1998.0 1.0              143.0           -0.068323      0.247368  \n",
              "       2.0              168.0            0.325714      0.153652  \n",
              "       3.0              175.0           -0.005848      0.172577  "
            ]
          },
          "execution_count": 51,
          "metadata": {},
          "output_type": "execute_result"
        }
      ],
      "source": [
        "# compute sentiment at year-quarter level\n",
        "data_agg['sentiment_word2vec'] = (data_agg.pos_counts_word2vec - data_agg.neg_counts_word2vec)/(data_agg.pos_counts_word2vec + data_agg.neg_counts_word2vec)\n",
        "data_agg['sentiment_AB'] = (data_agg.pos_counts_AB - data_agg.neg_counts_AB)/(data_agg.pos_counts_AB + data_agg.neg_counts_AB)\n",
        "data_agg.head()"
      ]
    },
    {
      "cell_type": "markdown",
      "id": "1a146d7a-9377-4846-9397-dafd0d837c77",
      "metadata": {
        "id": "1a146d7a-9377-4846-9397-dafd0d837c77"
      },
      "source": [
        "Next we add quarterly GDP data collected from the ONS website."
      ]
    },
    {
      "cell_type": "code",
      "execution_count": 52,
      "id": "a839e6bc-9e20-4cfc-92af-4ef322758f09",
      "metadata": {
        "colab": {
          "base_uri": "https://localhost:8080/",
          "height": 203
        },
        "id": "a839e6bc-9e20-4cfc-92af-4ef322758f09",
        "outputId": "8d70c8fc-d366-472a-9111-6a004633d989"
      },
      "outputs": [
        {
          "data": {
            "text/html": [
              "<div>\n",
              "<style scoped>\n",
              "    .dataframe tbody tr th:only-of-type {\n",
              "        vertical-align: middle;\n",
              "    }\n",
              "\n",
              "    .dataframe tbody tr th {\n",
              "        vertical-align: top;\n",
              "    }\n",
              "\n",
              "    .dataframe thead th {\n",
              "        text-align: right;\n",
              "    }\n",
              "</style>\n",
              "<table border=\"1\" class=\"dataframe\">\n",
              "  <thead>\n",
              "    <tr style=\"text-align: right;\">\n",
              "      <th></th>\n",
              "      <th>year</th>\n",
              "      <th>quarter</th>\n",
              "      <th>gdp_growth</th>\n",
              "    </tr>\n",
              "  </thead>\n",
              "  <tbody>\n",
              "    <tr>\n",
              "      <th>0</th>\n",
              "      <td>1997</td>\n",
              "      <td>2</td>\n",
              "      <td>1.2</td>\n",
              "    </tr>\n",
              "    <tr>\n",
              "      <th>1</th>\n",
              "      <td>1997</td>\n",
              "      <td>3</td>\n",
              "      <td>0.6</td>\n",
              "    </tr>\n",
              "    <tr>\n",
              "      <th>2</th>\n",
              "      <td>1997</td>\n",
              "      <td>4</td>\n",
              "      <td>1.3</td>\n",
              "    </tr>\n",
              "    <tr>\n",
              "      <th>3</th>\n",
              "      <td>1998</td>\n",
              "      <td>1</td>\n",
              "      <td>0.6</td>\n",
              "    </tr>\n",
              "    <tr>\n",
              "      <th>4</th>\n",
              "      <td>1998</td>\n",
              "      <td>2</td>\n",
              "      <td>0.6</td>\n",
              "    </tr>\n",
              "  </tbody>\n",
              "</table>\n",
              "</div>"
            ],
            "text/plain": [
              "   year  quarter  gdp_growth\n",
              "0  1997        2         1.2\n",
              "1  1997        3         0.6\n",
              "2  1997        4         1.3\n",
              "3  1998        1         0.6\n",
              "4  1998        2         0.6"
            ]
          },
          "execution_count": 52,
          "metadata": {},
          "output_type": "execute_result"
        }
      ],
      "source": [
        "# prepare GDP data\n",
        "ons = pd.read_csv(data_path + 'ons_quarterly_gdp.csv', names=['label', 'gdp_growth', 'quarter_long'], header=0)\n",
        "ons['year'] = ons.label.apply(lambda x: x[:4]).astype(int)\n",
        "ons['quarter'] = ons.label.apply(lambda x: x[6]).astype(int)\n",
        "ons = ons[['year', 'quarter', 'gdp_growth']]\n",
        "ons = ons.drop_duplicates().reset_index(drop=True).copy()\n",
        "ons.head()"
      ]
    },
    {
      "cell_type": "code",
      "execution_count": 53,
      "id": "8a63d1e5-0951-4899-bbb6-215c23f670a5",
      "metadata": {
        "colab": {
          "base_uri": "https://localhost:8080/",
          "height": 203
        },
        "id": "8a63d1e5-0951-4899-bbb6-215c23f670a5",
        "outputId": "c0ac367b-8a39-4b8f-ebb5-1e292ba2a3cd"
      },
      "outputs": [
        {
          "data": {
            "text/html": [
              "<div>\n",
              "<style scoped>\n",
              "    .dataframe tbody tr th:only-of-type {\n",
              "        vertical-align: middle;\n",
              "    }\n",
              "\n",
              "    .dataframe tbody tr th {\n",
              "        vertical-align: top;\n",
              "    }\n",
              "\n",
              "    .dataframe thead th {\n",
              "        text-align: right;\n",
              "    }\n",
              "</style>\n",
              "<table border=\"1\" class=\"dataframe\">\n",
              "  <thead>\n",
              "    <tr style=\"text-align: right;\">\n",
              "      <th></th>\n",
              "      <th>year</th>\n",
              "      <th>quarter</th>\n",
              "      <th>pos_counts_word2vec</th>\n",
              "      <th>neg_counts_word2vec</th>\n",
              "      <th>pos_counts_AB</th>\n",
              "      <th>neg_counts_AB</th>\n",
              "      <th>sentiment_word2vec</th>\n",
              "      <th>sentiment_AB</th>\n",
              "      <th>gdp_growth</th>\n",
              "      <th>year_quarter</th>\n",
              "    </tr>\n",
              "  </thead>\n",
              "  <tbody>\n",
              "    <tr>\n",
              "      <th>0</th>\n",
              "      <td>1997.0</td>\n",
              "      <td>3.0</td>\n",
              "      <td>38.0</td>\n",
              "      <td>38.0</td>\n",
              "      <td>229.0</td>\n",
              "      <td>76.0</td>\n",
              "      <td>0.000000</td>\n",
              "      <td>0.501639</td>\n",
              "      <td>0.6</td>\n",
              "      <td>1997-07-01</td>\n",
              "    </tr>\n",
              "    <tr>\n",
              "      <th>1</th>\n",
              "      <td>1997.0</td>\n",
              "      <td>4.0</td>\n",
              "      <td>64.0</td>\n",
              "      <td>48.0</td>\n",
              "      <td>222.0</td>\n",
              "      <td>99.0</td>\n",
              "      <td>0.142857</td>\n",
              "      <td>0.383178</td>\n",
              "      <td>1.3</td>\n",
              "      <td>1997-10-01</td>\n",
              "    </tr>\n",
              "    <tr>\n",
              "      <th>2</th>\n",
              "      <td>1998.0</td>\n",
              "      <td>1.0</td>\n",
              "      <td>75.0</td>\n",
              "      <td>86.0</td>\n",
              "      <td>237.0</td>\n",
              "      <td>143.0</td>\n",
              "      <td>-0.068323</td>\n",
              "      <td>0.247368</td>\n",
              "      <td>0.6</td>\n",
              "      <td>1998-01-01</td>\n",
              "    </tr>\n",
              "    <tr>\n",
              "      <th>3</th>\n",
              "      <td>1998.0</td>\n",
              "      <td>2.0</td>\n",
              "      <td>116.0</td>\n",
              "      <td>59.0</td>\n",
              "      <td>229.0</td>\n",
              "      <td>168.0</td>\n",
              "      <td>0.325714</td>\n",
              "      <td>0.153652</td>\n",
              "      <td>0.6</td>\n",
              "      <td>1998-04-01</td>\n",
              "    </tr>\n",
              "    <tr>\n",
              "      <th>4</th>\n",
              "      <td>1998.0</td>\n",
              "      <td>3.0</td>\n",
              "      <td>85.0</td>\n",
              "      <td>86.0</td>\n",
              "      <td>248.0</td>\n",
              "      <td>175.0</td>\n",
              "      <td>-0.005848</td>\n",
              "      <td>0.172577</td>\n",
              "      <td>0.7</td>\n",
              "      <td>1998-07-01</td>\n",
              "    </tr>\n",
              "  </tbody>\n",
              "</table>\n",
              "</div>"
            ],
            "text/plain": [
              "     year  quarter  pos_counts_word2vec  neg_counts_word2vec  pos_counts_AB  \\\n",
              "0  1997.0      3.0                 38.0                 38.0          229.0   \n",
              "1  1997.0      4.0                 64.0                 48.0          222.0   \n",
              "2  1998.0      1.0                 75.0                 86.0          237.0   \n",
              "3  1998.0      2.0                116.0                 59.0          229.0   \n",
              "4  1998.0      3.0                 85.0                 86.0          248.0   \n",
              "\n",
              "   neg_counts_AB  sentiment_word2vec  sentiment_AB  gdp_growth year_quarter  \n",
              "0           76.0            0.000000      0.501639         0.6   1997-07-01  \n",
              "1           99.0            0.142857      0.383178         1.3   1997-10-01  \n",
              "2          143.0           -0.068323      0.247368         0.6   1998-01-01  \n",
              "3          168.0            0.325714      0.153652         0.6   1998-04-01  \n",
              "4          175.0           -0.005848      0.172577         0.7   1998-07-01  "
            ]
          },
          "execution_count": 53,
          "metadata": {},
          "output_type": "execute_result"
        }
      ],
      "source": [
        "# merge to sentiment data\n",
        "df = data_agg.merge(ons, how='left', on=['year', 'quarter']).copy()\n",
        "# create year-quarter variable\n",
        "df[\"year_quarter\"] = df.apply(lambda x: f\"{int(x['quarter'])}Q{int(x['year'])}\", axis=1)\n",
        "df[\"year_quarter\"] = df[\"year_quarter\"].apply(lambda x: pd.Period(value=x, freq=\"Q\").to_timestamp())\n",
        "df.head()"
      ]
    },
    {
      "cell_type": "code",
      "execution_count": 54,
      "id": "577dd00e-a66f-48e1-aba8-4d4ded3d5f7e",
      "metadata": {
        "colab": {
          "base_uri": "https://localhost:8080/"
        },
        "id": "577dd00e-a66f-48e1-aba8-4d4ded3d5f7e",
        "outputId": "e9e43a7d-c295-4e4b-b1ed-06ba79c88523"
      },
      "outputs": [
        {
          "name": "stdout",
          "output_type": "stream",
          "text": [
            "                    sentiment_AB  sentiment_word2vec  gdp_growth\n",
            "sentiment_AB            1.000000            0.609748    0.318463\n",
            "sentiment_word2vec      0.609748            1.000000    0.489218\n",
            "gdp_growth              0.318463            0.489218    1.000000\n"
          ]
        }
      ],
      "source": [
        "print(df[['sentiment_AB', 'sentiment_word2vec', 'gdp_growth']].corr())"
      ]
    },
    {
      "cell_type": "code",
      "execution_count": 55,
      "id": "ffbd0886-fc52-46f0-b51f-1b3dcf52a014",
      "metadata": {
        "colab": {
          "base_uri": "https://localhost:8080/",
          "height": 483
        },
        "id": "ffbd0886-fc52-46f0-b51f-1b3dcf52a014",
        "outputId": "ca9c9839-84f5-489a-8fd3-bd61cd1856d4"
      },
      "outputs": [
        {
          "data": {
            "image/png": "[encoded data removed]",
            "text/plain": [
              "<Figure size 1152x576 with 1 Axes>"
            ]
          },
          "metadata": {
            "needs_background": "light"
          },
          "output_type": "display_data"
        }
      ],
      "source": [
        "scaler = StandardScaler()\n",
        "\n",
        "fig, ax = plt.subplots(figsize=(16,8))\n",
        "ax.plot(df[\"year_quarter\"], scaler.fit_transform(df.sentiment_AB.values.reshape(-1, 1)), label=\"Apel and Blix-Grimaldi (2012)\")\n",
        "ax.plot(df[\"year_quarter\"], scaler.fit_transform(df.sentiment_word2vec.values.reshape(-1, 1)), label=\"Word2Vec dictionaries\")\n",
        "ax.plot(df[\"year_quarter\"], scaler.fit_transform(df.gdp_growth.values.reshape(-1, 1)), label=\"GDP Growth\")\n",
        "\n",
        "plt.legend()\n",
        "plt.show()"
      ]
    }
  ],
  "metadata": {
    "accelerator": "GPU",
    "colab": {
      "collapsed_sections": [
        "729f5f5e-6a29-4d33-9d23-115f499420a4"
      ],
      "name": "word2vec_notebook_private.ipynb",
      "provenance": []
    },
    "kernelspec": {
      "display_name": "Python 3",
      "language": "python",
      "name": "python3"
    },
    "language_info": {
      "codemirror_mode": {
        "name": "ipython",
        "version": 3
      },
      "file_extension": ".py",
      "mimetype": "text/x-python",
      "name": "python",
      "nbconvert_exporter": "python",
      "pygments_lexer": "ipython3",
      "version": "3.8.2"
    }
  },
  "nbformat": 4,
  "nbformat_minor": 5
}
